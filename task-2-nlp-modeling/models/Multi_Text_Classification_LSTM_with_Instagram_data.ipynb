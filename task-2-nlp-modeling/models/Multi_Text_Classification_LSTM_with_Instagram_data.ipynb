{
  "nbformat": 4,
  "nbformat_minor": 0,
  "metadata": {
    "colab": {
      "name": "Multi_Text_Classification_LSTM_with_Instagram_data.ipynb",
      "provenance": [],
      "collapsed_sections": []
    },
    "kernelspec": {
      "name": "python3",
      "display_name": "Python 3"
    },
    "language_info": {
      "name": "python"
    },
    "accelerator": "GPU"
  },
  "cells": [
    {
      "cell_type": "code",
      "metadata": {
        "id": "hmoO0xL1vKQ3"
      },
      "source": [
        "import numpy as np\n",
        "import csv\n",
        "from tqdm import tqdm\n",
        "import base64\n",
        "from io import BytesIO\n",
        "import requests\n",
        "import io\n",
        "import pandas as pd\n",
        "import os"
      ],
      "execution_count": 1,
      "outputs": []
    },
    {
      "cell_type": "code",
      "metadata": {
        "id": "YJS_iyP2GCxt"
      },
      "source": [
        "# Username of your GitHub account\n",
        "username = ''\n",
        "\n",
        "# Personal Access Token (PAO) from your GitHub account\n",
        "token = ''\n",
        "\n",
        "# Creates a re-usable session object with your creds in-built\n",
        "github_session = requests.Session()\n",
        "github_session.auth = (username, token)\n"
      ],
      "execution_count": 4,
      "outputs": []
    },
    {
      "cell_type": "code",
      "metadata": {
        "id": "q2UdSo70GNf7"
      },
      "source": [
        "url = 'https://raw.githubusercontent.com/OmdenaAI/WeoWater/main/task-3-wrangling-preprocessing/All_merged/All_data_sources_merged_updated.csv'\n",
        "download = github_session.get(url).content #Reading and downloading the data\n",
        "data = pd.read_csv(io.StringIO(download.decode('utf-8'))) #Converting the data into a pd dataframe\n",
        "\n",
        "#Extract instagram data from all dataseources\n",
        "ig_data = data.loc[data['data source']=='Instagram']\n",
        "ig_data.to_csv('ig_data.csv')"
      ],
      "execution_count": 5,
      "outputs": []
    },
    {
      "cell_type": "code",
      "metadata": {
        "id": "_qflW6BhvvfM"
      },
      "source": [
        "ig_data = pd.read_csv('ig_data.csv') "
      ],
      "execution_count": 6,
      "outputs": []
    },
    {
      "cell_type": "code",
      "metadata": {
        "colab": {
          "base_uri": "https://localhost:8080/",
          "height": 780
        },
        "id": "6Bqv6KXkGNoC",
        "outputId": "c129a692-ef51-45a2-91de-9e73d1a9d043"
      },
      "source": [
        "ig_data.head(10)"
      ],
      "execution_count": 7,
      "outputs": [
        {
          "output_type": "execute_result",
          "data": {
            "text/html": [
              "<div>\n",
              "<style scoped>\n",
              "    .dataframe tbody tr th:only-of-type {\n",
              "        vertical-align: middle;\n",
              "    }\n",
              "\n",
              "    .dataframe tbody tr th {\n",
              "        vertical-align: top;\n",
              "    }\n",
              "\n",
              "    .dataframe thead th {\n",
              "        text-align: right;\n",
              "    }\n",
              "</style>\n",
              "<table border=\"1\" class=\"dataframe\">\n",
              "  <thead>\n",
              "    <tr style=\"text-align: right;\">\n",
              "      <th></th>\n",
              "      <th>Unnamed: 0</th>\n",
              "      <th>Id</th>\n",
              "      <th>title</th>\n",
              "      <th>time</th>\n",
              "      <th>keywords</th>\n",
              "      <th>data source</th>\n",
              "      <th>category</th>\n",
              "      <th>country</th>\n",
              "      <th>source URL</th>\n",
              "      <th>body</th>\n",
              "      <th>language</th>\n",
              "    </tr>\n",
              "  </thead>\n",
              "  <tbody>\n",
              "    <tr>\n",
              "      <th>0</th>\n",
              "      <td>4216</td>\n",
              "      <td>1.790000e+16</td>\n",
              "      <td>NaN</td>\n",
              "      <td>2021-06-17T14:49:15+0000</td>\n",
              "      <td>NaN</td>\n",
              "      <td>Instagram</td>\n",
              "      <td>none</td>\n",
              "      <td>NaN</td>\n",
              "      <td>https://www.instagram.com/p/CQOakCZHpB2/</td>\n",
              "      <td>“Absence the highest form of presence”. #absen...</td>\n",
              "      <td>English</td>\n",
              "    </tr>\n",
              "    <tr>\n",
              "      <th>1</th>\n",
              "      <td>4217</td>\n",
              "      <td>1.790000e+16</td>\n",
              "      <td>NaN</td>\n",
              "      <td>2021-06-01T20:45:52+0000</td>\n",
              "      <td>NaN</td>\n",
              "      <td>Instagram</td>\n",
              "      <td>none</td>\n",
              "      <td>NaN</td>\n",
              "      <td>https://www.instagram.com/p/CPl2p5LBGVa/</td>\n",
              "      <td>Hearing aid design has come a very long way. W...</td>\n",
              "      <td>English</td>\n",
              "    </tr>\n",
              "    <tr>\n",
              "      <th>2</th>\n",
              "      <td>4218</td>\n",
              "      <td>1.790000e+16</td>\n",
              "      <td>NaN</td>\n",
              "      <td>2021-06-01T19:30:47+0000</td>\n",
              "      <td>NaN</td>\n",
              "      <td>Instagram</td>\n",
              "      <td>none</td>\n",
              "      <td>NaN</td>\n",
              "      <td>https://www.instagram.com/p/CPluDpMNFss/</td>\n",
              "      <td>Happy #PrideMonth from BAHA Irish Whiskey. Be ...</td>\n",
              "      <td>English</td>\n",
              "    </tr>\n",
              "    <tr>\n",
              "      <th>3</th>\n",
              "      <td>4219</td>\n",
              "      <td>1.790000e+16</td>\n",
              "      <td>NaN</td>\n",
              "      <td>2021-06-01T19:05:43+0000</td>\n",
              "      <td>NaN</td>\n",
              "      <td>Instagram</td>\n",
              "      <td>none</td>\n",
              "      <td>NaN</td>\n",
              "      <td>https://www.instagram.com/p/CPlrHFjgNKf/</td>\n",
              "      <td>Figuring out these crazy hands 😆\\n\\n#babiesofi...</td>\n",
              "      <td>English</td>\n",
              "    </tr>\n",
              "    <tr>\n",
              "      <th>4</th>\n",
              "      <td>4220</td>\n",
              "      <td>1.790000e+16</td>\n",
              "      <td>NaN</td>\n",
              "      <td>2021-06-01T18:24:14+0000</td>\n",
              "      <td>NaN</td>\n",
              "      <td>Instagram</td>\n",
              "      <td>none</td>\n",
              "      <td>NaN</td>\n",
              "      <td>https://www.instagram.com/p/CPlmch8HzKT/</td>\n",
              "      <td>I am THRILLED to share these pictures with you...</td>\n",
              "      <td>English</td>\n",
              "    </tr>\n",
              "    <tr>\n",
              "      <th>5</th>\n",
              "      <td>4221</td>\n",
              "      <td>1.800000e+16</td>\n",
              "      <td>NaN</td>\n",
              "      <td>2021-06-01T16:29:29+0000</td>\n",
              "      <td>NaN</td>\n",
              "      <td>Instagram</td>\n",
              "      <td>none</td>\n",
              "      <td>NaN</td>\n",
              "      <td>https://www.instagram.com/p/CPlZUKzJ2kR/</td>\n",
              "      <td>Did you know that people with Down syndrome te...</td>\n",
              "      <td>English</td>\n",
              "    </tr>\n",
              "    <tr>\n",
              "      <th>6</th>\n",
              "      <td>4222</td>\n",
              "      <td>1.790000e+16</td>\n",
              "      <td>NaN</td>\n",
              "      <td>2021-06-01T16:03:37+0000</td>\n",
              "      <td>NaN</td>\n",
              "      <td>Instagram</td>\n",
              "      <td>none</td>\n",
              "      <td>NaN</td>\n",
              "      <td>https://www.instagram.com/p/CPlWWuEHmbI/</td>\n",
              "      <td>Beautiful Day 25°c. Feels great to be back at ...</td>\n",
              "      <td>English</td>\n",
              "    </tr>\n",
              "    <tr>\n",
              "      <th>7</th>\n",
              "      <td>4223</td>\n",
              "      <td>1.790000e+16</td>\n",
              "      <td>NaN</td>\n",
              "      <td>2021-06-01T14:44:53+0000</td>\n",
              "      <td>NaN</td>\n",
              "      <td>Instagram</td>\n",
              "      <td>none</td>\n",
              "      <td>NaN</td>\n",
              "      <td>https://www.instagram.com/p/CPlNWCgAZUk/</td>\n",
              "      <td>FOLLOW OUR PAGE - santal_insta_model \\n.\\n.\\nU...</td>\n",
              "      <td>English</td>\n",
              "    </tr>\n",
              "    <tr>\n",
              "      <th>8</th>\n",
              "      <td>4224</td>\n",
              "      <td>1.790000e+16</td>\n",
              "      <td>NaN</td>\n",
              "      <td>2021-06-01T13:54:59+0000</td>\n",
              "      <td>NaN</td>\n",
              "      <td>Instagram</td>\n",
              "      <td>none</td>\n",
              "      <td>NaN</td>\n",
              "      <td>https://www.instagram.com/p/CPlG8c2j_6E/</td>\n",
              "      <td>7’10” 2 piece 70/30 split is all done and read...</td>\n",
              "      <td>English</td>\n",
              "    </tr>\n",
              "    <tr>\n",
              "      <th>9</th>\n",
              "      <td>4225</td>\n",
              "      <td>1.810000e+16</td>\n",
              "      <td>NaN</td>\n",
              "      <td>2021-06-01T13:11:11+0000</td>\n",
              "      <td>NaN</td>\n",
              "      <td>Instagram</td>\n",
              "      <td>none</td>\n",
              "      <td>NaN</td>\n",
              "      <td>https://www.instagram.com/p/CPlCnzNCoy1/</td>\n",
              "      <td>The Battle Pass is back in the game! Colossal ...</td>\n",
              "      <td>English</td>\n",
              "    </tr>\n",
              "  </tbody>\n",
              "</table>\n",
              "</div>"
            ],
            "text/plain": [
              "   Unnamed: 0  ...  language\n",
              "0        4216  ...   English\n",
              "1        4217  ...   English\n",
              "2        4218  ...   English\n",
              "3        4219  ...   English\n",
              "4        4220  ...   English\n",
              "5        4221  ...   English\n",
              "6        4222  ...   English\n",
              "7        4223  ...   English\n",
              "8        4224  ...   English\n",
              "9        4225  ...   English\n",
              "\n",
              "[10 rows x 11 columns]"
            ]
          },
          "metadata": {
            "tags": []
          },
          "execution_count": 7
        }
      ]
    },
    {
      "cell_type": "code",
      "metadata": {
        "colab": {
          "base_uri": "https://localhost:8080/"
        },
        "id": "Xscu6a6nrwKV",
        "outputId": "bfecdb2f-2b3c-4e71-a598-bdffb36bdb29"
      },
      "source": [
        "ig_data.shape"
      ],
      "execution_count": 8,
      "outputs": [
        {
          "output_type": "execute_result",
          "data": {
            "text/plain": [
              "(1633, 11)"
            ]
          },
          "metadata": {
            "tags": []
          },
          "execution_count": 8
        }
      ]
    },
    {
      "cell_type": "code",
      "metadata": {
        "colab": {
          "base_uri": "https://localhost:8080/"
        },
        "id": "SEz3Mz5_sECK",
        "outputId": "97423b1d-8af3-458f-93b9-53e92a35f9c5"
      },
      "source": [
        "ig_data.info()"
      ],
      "execution_count": 9,
      "outputs": [
        {
          "output_type": "stream",
          "text": [
            "<class 'pandas.core.frame.DataFrame'>\n",
            "RangeIndex: 1633 entries, 0 to 1632\n",
            "Data columns (total 11 columns):\n",
            " #   Column       Non-Null Count  Dtype  \n",
            "---  ------       --------------  -----  \n",
            " 0   Unnamed: 0   1633 non-null   int64  \n",
            " 1   Id           1633 non-null   float64\n",
            " 2   title        0 non-null      float64\n",
            " 3   time         1609 non-null   object \n",
            " 4   keywords     0 non-null      float64\n",
            " 5   data source  1633 non-null   object \n",
            " 6   category     1633 non-null   object \n",
            " 7   country      0 non-null      float64\n",
            " 8   source URL   1633 non-null   object \n",
            " 9   body         1633 non-null   object \n",
            " 10  language     1633 non-null   object \n",
            "dtypes: float64(4), int64(1), object(6)\n",
            "memory usage: 140.5+ KB\n"
          ],
          "name": "stdout"
        }
      ]
    },
    {
      "cell_type": "code",
      "metadata": {
        "id": "8ST3Dl2xwVa8"
      },
      "source": [
        "drop_columns = ['Unnamed: 0','title', 'time', 'keywords', 'data source', 'country', 'source URL', 'language', 'Id']\n",
        "ig_data_clean = ig_data.drop(columns=drop_columns,axis=1)"
      ],
      "execution_count": 10,
      "outputs": []
    },
    {
      "cell_type": "code",
      "metadata": {
        "colab": {
          "base_uri": "https://localhost:8080/",
          "height": 417
        },
        "id": "1qk71w-IwVxB",
        "outputId": "e4fff078-548b-4310-94a7-ad5a794d0dfe"
      },
      "source": [
        "ig_data_clean"
      ],
      "execution_count": 11,
      "outputs": [
        {
          "output_type": "execute_result",
          "data": {
            "text/html": [
              "<div>\n",
              "<style scoped>\n",
              "    .dataframe tbody tr th:only-of-type {\n",
              "        vertical-align: middle;\n",
              "    }\n",
              "\n",
              "    .dataframe tbody tr th {\n",
              "        vertical-align: top;\n",
              "    }\n",
              "\n",
              "    .dataframe thead th {\n",
              "        text-align: right;\n",
              "    }\n",
              "</style>\n",
              "<table border=\"1\" class=\"dataframe\">\n",
              "  <thead>\n",
              "    <tr style=\"text-align: right;\">\n",
              "      <th></th>\n",
              "      <th>category</th>\n",
              "      <th>body</th>\n",
              "    </tr>\n",
              "  </thead>\n",
              "  <tbody>\n",
              "    <tr>\n",
              "      <th>0</th>\n",
              "      <td>none</td>\n",
              "      <td>“Absence the highest form of presence”. #absen...</td>\n",
              "    </tr>\n",
              "    <tr>\n",
              "      <th>1</th>\n",
              "      <td>none</td>\n",
              "      <td>Hearing aid design has come a very long way. W...</td>\n",
              "    </tr>\n",
              "    <tr>\n",
              "      <th>2</th>\n",
              "      <td>none</td>\n",
              "      <td>Happy #PrideMonth from BAHA Irish Whiskey. Be ...</td>\n",
              "    </tr>\n",
              "    <tr>\n",
              "      <th>3</th>\n",
              "      <td>none</td>\n",
              "      <td>Figuring out these crazy hands 😆\\n\\n#babiesofi...</td>\n",
              "    </tr>\n",
              "    <tr>\n",
              "      <th>4</th>\n",
              "      <td>none</td>\n",
              "      <td>I am THRILLED to share these pictures with you...</td>\n",
              "    </tr>\n",
              "    <tr>\n",
              "      <th>...</th>\n",
              "      <td>...</td>\n",
              "      <td>...</td>\n",
              "    </tr>\n",
              "    <tr>\n",
              "      <th>1628</th>\n",
              "      <td>none</td>\n",
              "      <td>this pile is giving an impression how high wat...</td>\n",
              "    </tr>\n",
              "    <tr>\n",
              "      <th>1629</th>\n",
              "      <td>flood</td>\n",
              "      <td>Long weekend vibes \\nAs you can see we had lot...</td>\n",
              "    </tr>\n",
              "    <tr>\n",
              "      <th>1630</th>\n",
              "      <td>none</td>\n",
              "      <td>On a bench at high watermark - learning in pro...</td>\n",
              "    </tr>\n",
              "    <tr>\n",
              "      <th>1631</th>\n",
              "      <td>flood</td>\n",
              "      <td>#letzebuerg #luxembourg #luxembourgcity #diffe...</td>\n",
              "    </tr>\n",
              "    <tr>\n",
              "      <th>1632</th>\n",
              "      <td>none</td>\n",
              "      <td>I'm singing in the rain... ☔️ Passt diesen Frü...</td>\n",
              "    </tr>\n",
              "  </tbody>\n",
              "</table>\n",
              "<p>1633 rows × 2 columns</p>\n",
              "</div>"
            ],
            "text/plain": [
              "     category                                               body\n",
              "0        none  “Absence the highest form of presence”. #absen...\n",
              "1        none  Hearing aid design has come a very long way. W...\n",
              "2        none  Happy #PrideMonth from BAHA Irish Whiskey. Be ...\n",
              "3        none  Figuring out these crazy hands 😆\\n\\n#babiesofi...\n",
              "4        none  I am THRILLED to share these pictures with you...\n",
              "...       ...                                                ...\n",
              "1628     none  this pile is giving an impression how high wat...\n",
              "1629    flood  Long weekend vibes \\nAs you can see we had lot...\n",
              "1630     none  On a bench at high watermark - learning in pro...\n",
              "1631    flood  #letzebuerg #luxembourg #luxembourgcity #diffe...\n",
              "1632     none  I'm singing in the rain... ☔️ Passt diesen Frü...\n",
              "\n",
              "[1633 rows x 2 columns]"
            ]
          },
          "metadata": {
            "tags": []
          },
          "execution_count": 11
        }
      ]
    },
    {
      "cell_type": "code",
      "metadata": {
        "id": "OcwxD-e_wVz2"
      },
      "source": [
        "ig_data_clean.reset_index(drop=True,inplace=True)"
      ],
      "execution_count": 12,
      "outputs": []
    },
    {
      "cell_type": "code",
      "metadata": {
        "colab": {
          "base_uri": "https://localhost:8080/"
        },
        "id": "4Ge0ltn6wV8e",
        "outputId": "18717c33-cf6c-47a8-b3ad-ef888fb1bde2"
      },
      "source": [
        "ig_data_clean['body'].duplicated().sum()"
      ],
      "execution_count": 13,
      "outputs": [
        {
          "output_type": "execute_result",
          "data": {
            "text/plain": [
              "0"
            ]
          },
          "metadata": {
            "tags": []
          },
          "execution_count": 13
        }
      ]
    },
    {
      "cell_type": "markdown",
      "metadata": {
        "id": "Up8Tkr9Ez6-h"
      },
      "source": [
        "**NLP Model**"
      ]
    },
    {
      "cell_type": "code",
      "metadata": {
        "colab": {
          "base_uri": "https://localhost:8080/"
        },
        "id": "Km0PqWiizxuy",
        "outputId": "cd4933bc-a6ce-4ab8-9c7d-a89b8315a554"
      },
      "source": [
        "!pip install chart-studio"
      ],
      "execution_count": 14,
      "outputs": [
        {
          "output_type": "stream",
          "text": [
            "Collecting chart-studio\n",
            "\u001b[?25l  Downloading https://files.pythonhosted.org/packages/ca/ce/330794a6b6ca4b9182c38fc69dd2a9cbff60fd49421cb8648ee5fee352dc/chart_studio-1.1.0-py3-none-any.whl (64kB)\n",
            "\r\u001b[K     |█████                           | 10kB 23.2MB/s eta 0:00:01\r\u001b[K     |██████████▏                     | 20kB 30.7MB/s eta 0:00:01\r\u001b[K     |███████████████▎                | 30kB 33.0MB/s eta 0:00:01\r\u001b[K     |████████████████████▍           | 40kB 36.8MB/s eta 0:00:01\r\u001b[K     |█████████████████████████▍      | 51kB 33.4MB/s eta 0:00:01\r\u001b[K     |██████████████████████████████▌ | 61kB 33.0MB/s eta 0:00:01\r\u001b[K     |████████████████████████████████| 71kB 9.8MB/s \n",
            "\u001b[?25hRequirement already satisfied: requests in /usr/local/lib/python3.7/dist-packages (from chart-studio) (2.23.0)\n",
            "Requirement already satisfied: six in /usr/local/lib/python3.7/dist-packages (from chart-studio) (1.15.0)\n",
            "Requirement already satisfied: retrying>=1.3.3 in /usr/local/lib/python3.7/dist-packages (from chart-studio) (1.3.3)\n",
            "Requirement already satisfied: plotly in /usr/local/lib/python3.7/dist-packages (from chart-studio) (4.4.1)\n",
            "Requirement already satisfied: chardet<4,>=3.0.2 in /usr/local/lib/python3.7/dist-packages (from requests->chart-studio) (3.0.4)\n",
            "Requirement already satisfied: certifi>=2017.4.17 in /usr/local/lib/python3.7/dist-packages (from requests->chart-studio) (2021.5.30)\n",
            "Requirement already satisfied: idna<3,>=2.5 in /usr/local/lib/python3.7/dist-packages (from requests->chart-studio) (2.10)\n",
            "Requirement already satisfied: urllib3!=1.25.0,!=1.25.1,<1.26,>=1.21.1 in /usr/local/lib/python3.7/dist-packages (from requests->chart-studio) (1.24.3)\n",
            "Installing collected packages: chart-studio\n",
            "Successfully installed chart-studio-1.1.0\n"
          ],
          "name": "stdout"
        }
      ]
    },
    {
      "cell_type": "code",
      "metadata": {
        "colab": {
          "base_uri": "https://localhost:8080/",
          "height": 50
        },
        "id": "x5176FdCyoDf",
        "outputId": "4a9e9265-0acc-483e-99d3-4f2f03364557"
      },
      "source": [
        "import matplotlib.pyplot as plt\n",
        "import seaborn as sns\n",
        "from keras.preprocessing.text import Tokenizer\n",
        "from keras.preprocessing.sequence import pad_sequences\n",
        "from keras.models import Sequential\n",
        "from keras.layers import Dense, Embedding, LSTM, SpatialDropout1D,Bidirectional\n",
        "from sklearn.model_selection import train_test_split\n",
        "from keras.utils.np_utils import to_categorical\n",
        "from keras.callbacks import EarlyStopping\n",
        "from keras.layers import Dropout\n",
        "import re\n",
        "import nltk\n",
        "nltk.download('stopwords')\n",
        "from nltk.corpus import stopwords\n",
        "from nltk.tokenize import word_tokenize,RegexpTokenizer\n",
        "from nltk.corpus import stopwords\n",
        "from nltk.stem.porter import *\n",
        "from nltk import word_tokenize\n",
        "STOPWORDS = set(stopwords.words('english'))\n",
        "from bs4 import BeautifulSoup\n",
        "import plotly.graph_objs as go\n",
        "from chart_studio import plotly\n",
        "from sklearn.utils import shuffle\n",
        "import cufflinks\n",
        "from sklearn.metrics import confusion_matrix\n",
        "from sklearn.metrics import precision_score\n",
        "from sklearn.metrics import recall_score\n",
        "from sklearn.metrics import f1_score\n",
        "from sklearn.metrics import accuracy_score\n",
        "from sklearn.metrics import classification_report\n",
        "from IPython.core.interactiveshell import InteractiveShell\n",
        "import plotly.figure_factory as ff\n",
        "InteractiveShell.ast_node_interactivity = 'all'\n",
        "from plotly.offline import iplot\n",
        "cufflinks.go_offline()\n",
        "cufflinks.set_config_file(world_readable=True, theme='pearl')"
      ],
      "execution_count": 15,
      "outputs": [
        {
          "output_type": "stream",
          "text": [
            "[nltk_data] Downloading package stopwords to /root/nltk_data...\n",
            "[nltk_data]   Unzipping corpora/stopwords.zip.\n"
          ],
          "name": "stdout"
        },
        {
          "output_type": "display_data",
          "data": {
            "text/html": [
              "        <script type=\"text/javascript\">\n",
              "        window.PlotlyConfig = {MathJaxConfig: 'local'};\n",
              "        if (window.MathJax) {MathJax.Hub.Config({SVG: {font: \"STIX-Web\"}});}\n",
              "        if (typeof require !== 'undefined') {\n",
              "        require.undef(\"plotly\");\n",
              "        requirejs.config({\n",
              "            paths: {\n",
              "                'plotly': ['https://cdn.plot.ly/plotly-latest.min']\n",
              "            }\n",
              "        });\n",
              "        require(['plotly'], function(Plotly) {\n",
              "            window._Plotly = Plotly;\n",
              "        });\n",
              "        }\n",
              "        </script>\n",
              "        "
            ]
          },
          "metadata": {
            "tags": []
          }
        }
      ]
    },
    {
      "cell_type": "code",
      "metadata": {
        "colab": {
          "base_uri": "https://localhost:8080/"
        },
        "id": "BPDPcM4Z0DWN",
        "outputId": "aebfb8e4-6148-4abf-d629-adceff0c1067"
      },
      "source": [
        "#Clean the tweet text using nltk corpus and stopwords\n",
        "clean_tweets=[]\n",
        "for posts in tqdm(ig_data_clean['body']):\n",
        "  tokenizer= RegexpTokenizer(r'\\w+')\n",
        "  token_words= tokenizer.tokenize(posts)\n",
        "  token_with_stopword= [word for word in token_words if not word in stopwords.words()]\n",
        "  clean_tweets.append(token_with_stopword)"
      ],
      "execution_count": 16,
      "outputs": [
        {
          "output_type": "stream",
          "text": [
            "100%|██████████| 1633/1633 [04:51<00:00,  5.60it/s]\n"
          ],
          "name": "stderr"
        }
      ]
    },
    {
      "cell_type": "code",
      "metadata": {
        "id": "nYcox6Ie08Pf"
      },
      "source": [
        "ig_data_clean['Cleaned_body']= clean_tweets"
      ],
      "execution_count": 17,
      "outputs": []
    },
    {
      "cell_type": "code",
      "metadata": {
        "colab": {
          "base_uri": "https://localhost:8080/",
          "height": 417
        },
        "id": "bv137Z_T2peW",
        "outputId": "195d09f0-4991-47e3-da47-140fbcb8fb15"
      },
      "source": [
        "ig_data_clean"
      ],
      "execution_count": 18,
      "outputs": [
        {
          "output_type": "execute_result",
          "data": {
            "text/html": [
              "<div>\n",
              "<style scoped>\n",
              "    .dataframe tbody tr th:only-of-type {\n",
              "        vertical-align: middle;\n",
              "    }\n",
              "\n",
              "    .dataframe tbody tr th {\n",
              "        vertical-align: top;\n",
              "    }\n",
              "\n",
              "    .dataframe thead th {\n",
              "        text-align: right;\n",
              "    }\n",
              "</style>\n",
              "<table border=\"1\" class=\"dataframe\">\n",
              "  <thead>\n",
              "    <tr style=\"text-align: right;\">\n",
              "      <th></th>\n",
              "      <th>category</th>\n",
              "      <th>body</th>\n",
              "      <th>Cleaned_body</th>\n",
              "    </tr>\n",
              "  </thead>\n",
              "  <tbody>\n",
              "    <tr>\n",
              "      <th>0</th>\n",
              "      <td>none</td>\n",
              "      <td>“Absence the highest form of presence”. #absen...</td>\n",
              "      <td>[Absence, highest, form, presence, absence, pr...</td>\n",
              "    </tr>\n",
              "    <tr>\n",
              "      <th>1</th>\n",
              "      <td>none</td>\n",
              "      <td>Hearing aid design has come a very long way. W...</td>\n",
              "      <td>[Hearing, aid, design, long, way, With, sleek,...</td>\n",
              "    </tr>\n",
              "    <tr>\n",
              "      <th>2</th>\n",
              "      <td>none</td>\n",
              "      <td>Happy #PrideMonth from BAHA Irish Whiskey. Be ...</td>\n",
              "      <td>[Happy, PrideMonth, BAHA, Irish, Whiskey, Be, ...</td>\n",
              "    </tr>\n",
              "    <tr>\n",
              "      <th>3</th>\n",
              "      <td>none</td>\n",
              "      <td>Figuring out these crazy hands 😆\\n\\n#babiesofi...</td>\n",
              "      <td>[Figuring, crazy, hands, babiesofinstagram, ba...</td>\n",
              "    </tr>\n",
              "    <tr>\n",
              "      <th>4</th>\n",
              "      <td>none</td>\n",
              "      <td>I am THRILLED to share these pictures with you...</td>\n",
              "      <td>[I, THRILLED, share, pictures, This, Rachel, C...</td>\n",
              "    </tr>\n",
              "    <tr>\n",
              "      <th>...</th>\n",
              "      <td>...</td>\n",
              "      <td>...</td>\n",
              "      <td>...</td>\n",
              "    </tr>\n",
              "    <tr>\n",
              "      <th>1628</th>\n",
              "      <td>none</td>\n",
              "      <td>this pile is giving an impression how high wat...</td>\n",
              "      <td>[pile, giving, impression, high, water, level,...</td>\n",
              "    </tr>\n",
              "    <tr>\n",
              "      <th>1629</th>\n",
              "      <td>flood</td>\n",
              "      <td>Long weekend vibes \\nAs you can see we had lot...</td>\n",
              "      <td>[Long, weekend, vibes, As, see, lots, rain, re...</td>\n",
              "    </tr>\n",
              "    <tr>\n",
              "      <th>1630</th>\n",
              "      <td>none</td>\n",
              "      <td>On a bench at high watermark - learning in pro...</td>\n",
              "      <td>[On, bench, high, watermark, learning, progres...</td>\n",
              "    </tr>\n",
              "    <tr>\n",
              "      <th>1631</th>\n",
              "      <td>flood</td>\n",
              "      <td>#letzebuerg #luxembourg #luxembourgcity #diffe...</td>\n",
              "      <td>[letzebuerg, luxembourg, luxembourgcity, diffe...</td>\n",
              "    </tr>\n",
              "    <tr>\n",
              "      <th>1632</th>\n",
              "      <td>none</td>\n",
              "      <td>I'm singing in the rain... ☔️ Passt diesen Frü...</td>\n",
              "      <td>[I, singing, rain, Passt, Frühling, besonders,...</td>\n",
              "    </tr>\n",
              "  </tbody>\n",
              "</table>\n",
              "<p>1633 rows × 3 columns</p>\n",
              "</div>"
            ],
            "text/plain": [
              "     category  ...                                       Cleaned_body\n",
              "0        none  ...  [Absence, highest, form, presence, absence, pr...\n",
              "1        none  ...  [Hearing, aid, design, long, way, With, sleek,...\n",
              "2        none  ...  [Happy, PrideMonth, BAHA, Irish, Whiskey, Be, ...\n",
              "3        none  ...  [Figuring, crazy, hands, babiesofinstagram, ba...\n",
              "4        none  ...  [I, THRILLED, share, pictures, This, Rachel, C...\n",
              "...       ...  ...                                                ...\n",
              "1628     none  ...  [pile, giving, impression, high, water, level,...\n",
              "1629    flood  ...  [Long, weekend, vibes, As, see, lots, rain, re...\n",
              "1630     none  ...  [On, bench, high, watermark, learning, progres...\n",
              "1631    flood  ...  [letzebuerg, luxembourg, luxembourgcity, diffe...\n",
              "1632     none  ...  [I, singing, rain, Passt, Frühling, besonders,...\n",
              "\n",
              "[1633 rows x 3 columns]"
            ]
          },
          "metadata": {
            "tags": []
          },
          "execution_count": 18
        }
      ]
    },
    {
      "cell_type": "markdown",
      "metadata": {
        "id": "V8j6mN8A6Qlh"
      },
      "source": [
        "**Class Imbalance for category column**"
      ]
    },
    {
      "cell_type": "code",
      "metadata": {
        "colab": {
          "base_uri": "https://localhost:8080/"
        },
        "id": "rplN2B66MumM",
        "outputId": "28ce82f3-563b-443c-abbf-dca6918aceaa"
      },
      "source": [
        "ig_data_clean.category.value_counts()"
      ],
      "execution_count": 19,
      "outputs": [
        {
          "output_type": "execute_result",
          "data": {
            "text/plain": [
              "none       1138\n",
              "flood       388\n",
              "drought     107\n",
              "Name: category, dtype: int64"
            ]
          },
          "metadata": {
            "tags": []
          },
          "execution_count": 19
        }
      ]
    },
    {
      "cell_type": "code",
      "metadata": {
        "colab": {
          "base_uri": "https://localhost:8080/"
        },
        "id": "i3XwBhOq4-CD",
        "outputId": "d66d6402-f15a-46a4-b598-8b731da81aae"
      },
      "source": [
        "ig_data_drought = ig_data_clean[ig_data_clean.category == 'drought']\n",
        "ig_data_drought.shape"
      ],
      "execution_count": 20,
      "outputs": [
        {
          "output_type": "execute_result",
          "data": {
            "text/plain": [
              "(107, 3)"
            ]
          },
          "metadata": {
            "tags": []
          },
          "execution_count": 20
        }
      ]
    },
    {
      "cell_type": "code",
      "metadata": {
        "colab": {
          "base_uri": "https://localhost:8080/"
        },
        "id": "JGNnDlEl5HEB",
        "outputId": "68f017fa-14d2-4b19-bf5e-421726ec60b5"
      },
      "source": [
        "ig_data_flood = ig_data_clean[ig_data_clean.category == 'flood']\n",
        "ig_data_flood.shape"
      ],
      "execution_count": 21,
      "outputs": [
        {
          "output_type": "execute_result",
          "data": {
            "text/plain": [
              "(388, 3)"
            ]
          },
          "metadata": {
            "tags": []
          },
          "execution_count": 21
        }
      ]
    },
    {
      "cell_type": "code",
      "metadata": {
        "colab": {
          "base_uri": "https://localhost:8080/"
        },
        "id": "W7g-02515HKA",
        "outputId": "5ca5c81c-1257-4fb6-81cc-078aef84f0a3"
      },
      "source": [
        "ig_data_none = ig_data_clean[ig_data_clean.category == 'none']\n",
        "ig_data_none.shape"
      ],
      "execution_count": 22,
      "outputs": [
        {
          "output_type": "execute_result",
          "data": {
            "text/plain": [
              "(1138, 3)"
            ]
          },
          "metadata": {
            "tags": []
          },
          "execution_count": 22
        }
      ]
    },
    {
      "cell_type": "code",
      "metadata": {
        "id": "lG6L-tGv5b_o"
      },
      "source": [
        "df_drought = shuffle(ig_data_drought)\n",
        "df_flood = shuffle(ig_data_flood)\n",
        "df_none = shuffle(ig_data_none)"
      ],
      "execution_count": 23,
      "outputs": []
    },
    {
      "cell_type": "code",
      "metadata": {
        "colab": {
          "base_uri": "https://localhost:8080/"
        },
        "id": "PqhIqt8T5cGo",
        "outputId": "24f45343-d59a-450a-c244-2c9b117fb420"
      },
      "source": [
        "ig_train_d= df_drought.head(100)\n",
        "ig_train_d.shape"
      ],
      "execution_count": 24,
      "outputs": [
        {
          "output_type": "execute_result",
          "data": {
            "text/plain": [
              "(100, 3)"
            ]
          },
          "metadata": {
            "tags": []
          },
          "execution_count": 24
        }
      ]
    },
    {
      "cell_type": "code",
      "metadata": {
        "colab": {
          "base_uri": "https://localhost:8080/"
        },
        "id": "ZgDDrT1U5cJe",
        "outputId": "9ff65a32-a864-400c-8346-e82f9b901135"
      },
      "source": [
        "ig_train_f= df_flood.head(340)\n",
        "ig_train_f.shape"
      ],
      "execution_count": 25,
      "outputs": [
        {
          "output_type": "execute_result",
          "data": {
            "text/plain": [
              "(340, 3)"
            ]
          },
          "metadata": {
            "tags": []
          },
          "execution_count": 25
        }
      ]
    },
    {
      "cell_type": "code",
      "metadata": {
        "colab": {
          "base_uri": "https://localhost:8080/"
        },
        "id": "KzIJVK9-6Fvu",
        "outputId": "4dca45c5-27a1-4f8f-8f26-8e057d0b0c15"
      },
      "source": [
        "ig_train_n= df_none.head(340)\n",
        "ig_train_n.shape"
      ],
      "execution_count": 26,
      "outputs": [
        {
          "output_type": "execute_result",
          "data": {
            "text/plain": [
              "(340, 3)"
            ]
          },
          "metadata": {
            "tags": []
          },
          "execution_count": 26
        }
      ]
    },
    {
      "cell_type": "code",
      "metadata": {
        "colab": {
          "base_uri": "https://localhost:8080/"
        },
        "id": "3on5FiMWLYq-",
        "outputId": "49adda07-cc15-41d1-f1fe-687ee41788a1"
      },
      "source": [
        "ig_test_d= df_drought.tail(8)\n",
        "ig_test_d.shape"
      ],
      "execution_count": 27,
      "outputs": [
        {
          "output_type": "execute_result",
          "data": {
            "text/plain": [
              "(8, 3)"
            ]
          },
          "metadata": {
            "tags": []
          },
          "execution_count": 27
        }
      ]
    },
    {
      "cell_type": "code",
      "metadata": {
        "colab": {
          "base_uri": "https://localhost:8080/"
        },
        "id": "WyFBr7KgBxRB",
        "outputId": "4c1fdc15-ad28-432d-d7f4-bcaf4b46984b"
      },
      "source": [
        "ig_test_f= df_flood.tail(48)\n",
        "ig_test_f.shape"
      ],
      "execution_count": 28,
      "outputs": [
        {
          "output_type": "execute_result",
          "data": {
            "text/plain": [
              "(48, 3)"
            ]
          },
          "metadata": {
            "tags": []
          },
          "execution_count": 28
        }
      ]
    },
    {
      "cell_type": "code",
      "metadata": {
        "colab": {
          "base_uri": "https://localhost:8080/"
        },
        "id": "EDUr_PtlByJr",
        "outputId": "a882ed28-8a21-43c7-e187-a5075066d811"
      },
      "source": [
        "ig_test_n= df_none.tail(48)\n",
        "ig_test_n.shape"
      ],
      "execution_count": 29,
      "outputs": [
        {
          "output_type": "execute_result",
          "data": {
            "text/plain": [
              "(48, 3)"
            ]
          },
          "metadata": {
            "tags": []
          },
          "execution_count": 29
        }
      ]
    },
    {
      "cell_type": "code",
      "metadata": {
        "colab": {
          "base_uri": "https://localhost:8080/"
        },
        "id": "Apm28Ws56kPR",
        "outputId": "5687cccb-5562-4aa1-d999-4417bc26f1f4"
      },
      "source": [
        "#concatenating\n",
        "ig_train =pd.concat([ig_train_d,ig_train_f,ig_train_n], ignore_index=True)\n",
        "ig_train = shuffle(ig_train)\n",
        "ig_train.shape"
      ],
      "execution_count": 30,
      "outputs": [
        {
          "output_type": "execute_result",
          "data": {
            "text/plain": [
              "(780, 3)"
            ]
          },
          "metadata": {
            "tags": []
          },
          "execution_count": 30
        }
      ]
    },
    {
      "cell_type": "code",
      "metadata": {
        "colab": {
          "base_uri": "https://localhost:8080/"
        },
        "id": "64bAI_Md6tEJ",
        "outputId": "57fc3403-9b40-4947-860e-e5519316d72e"
      },
      "source": [
        "ig_train.category.value_counts()"
      ],
      "execution_count": 31,
      "outputs": [
        {
          "output_type": "execute_result",
          "data": {
            "text/plain": [
              "none       340\n",
              "flood      340\n",
              "drought    100\n",
              "Name: category, dtype: int64"
            ]
          },
          "metadata": {
            "tags": []
          },
          "execution_count": 31
        }
      ]
    },
    {
      "cell_type": "code",
      "metadata": {
        "colab": {
          "base_uri": "https://localhost:8080/"
        },
        "id": "XhX-IBcJCFaq",
        "outputId": "bb8d0249-411a-48c8-ec84-d25bf6a92ae0"
      },
      "source": [
        "#concatenating\n",
        "ig_test =pd.concat([ig_test_d,ig_test_f,ig_test_n], ignore_index=True)\n",
        "ig_test = shuffle(ig_test)\n",
        "ig_test.shape"
      ],
      "execution_count": 32,
      "outputs": [
        {
          "output_type": "execute_result",
          "data": {
            "text/plain": [
              "(104, 3)"
            ]
          },
          "metadata": {
            "tags": []
          },
          "execution_count": 32
        }
      ]
    },
    {
      "cell_type": "code",
      "metadata": {
        "id": "bx-g3L__6tGx"
      },
      "source": [
        "#changing the type from object to category\n",
        "ig_train['category']=ig_train['category'].astype('category')\n",
        "ig_test['category']=ig_test['category'].astype('category')"
      ],
      "execution_count": 33,
      "outputs": []
    },
    {
      "cell_type": "code",
      "metadata": {
        "colab": {
          "base_uri": "https://localhost:8080/"
        },
        "id": "axH7VF0j6tJp",
        "outputId": "692f8d47-a32c-4765-d8cf-0a9c45fba7e5"
      },
      "source": [
        "# Get the numerical ids of column label\n",
        "numerical_ids_train = ig_train.category.cat.codes\n",
        "numerical_ids_test = ig_test.category.cat.codes\n",
        "\n",
        "# Print initial shape\n",
        "print(numerical_ids_train.shape)\n",
        "print(numerical_ids_test.shape)"
      ],
      "execution_count": 34,
      "outputs": [
        {
          "output_type": "stream",
          "text": [
            "(780,)\n",
            "(104,)\n"
          ],
          "name": "stdout"
        }
      ]
    },
    {
      "cell_type": "code",
      "metadata": {
        "colab": {
          "base_uri": "https://localhost:8080/"
        },
        "id": "8PMT7_JL6tPc",
        "outputId": "82c5b546-a21e-4e3a-ac74-a004cf354800"
      },
      "source": [
        "# One-hot encode the indexes\n",
        "Y = to_categorical(numerical_ids_train)\n",
        "Y_test = to_categorical(numerical_ids_test)\n",
        "\n",
        "# Check the new shape of the variable\n",
        "print(Y.shape)\n",
        "print(Y_test.shape)\n",
        "\n",
        "# Print the first 5 rows\n",
        "print(Y[:5])"
      ],
      "execution_count": 35,
      "outputs": [
        {
          "output_type": "stream",
          "text": [
            "(780, 3)\n",
            "(104, 3)\n",
            "[[0. 0. 1.]\n",
            " [1. 0. 0.]\n",
            " [0. 1. 0.]\n",
            " [0. 1. 0.]\n",
            " [1. 0. 0.]]\n"
          ],
          "name": "stdout"
        }
      ]
    },
    {
      "cell_type": "code",
      "metadata": {
        "id": "l1EtNNXk0EEE"
      },
      "source": [
        "ig_train['category'] = ig_train['category'].replace({'flood':1,'drought':2,'none':3})"
      ],
      "execution_count": 36,
      "outputs": []
    },
    {
      "cell_type": "code",
      "metadata": {
        "id": "WJruCimLCnMW"
      },
      "source": [
        "ig_test['category'] = ig_test['category'].replace({'flood':1,'drought':2,'none':3})"
      ],
      "execution_count": 37,
      "outputs": []
    },
    {
      "cell_type": "code",
      "metadata": {
        "colab": {
          "base_uri": "https://localhost:8080/",
          "height": 417
        },
        "id": "_ZWO4Qx87Nr2",
        "outputId": "7670cdd4-024e-4bb8-9a4b-9b92431b2f9d"
      },
      "source": [
        "ig_train"
      ],
      "execution_count": 38,
      "outputs": [
        {
          "output_type": "execute_result",
          "data": {
            "text/html": [
              "<div>\n",
              "<style scoped>\n",
              "    .dataframe tbody tr th:only-of-type {\n",
              "        vertical-align: middle;\n",
              "    }\n",
              "\n",
              "    .dataframe tbody tr th {\n",
              "        vertical-align: top;\n",
              "    }\n",
              "\n",
              "    .dataframe thead th {\n",
              "        text-align: right;\n",
              "    }\n",
              "</style>\n",
              "<table border=\"1\" class=\"dataframe\">\n",
              "  <thead>\n",
              "    <tr style=\"text-align: right;\">\n",
              "      <th></th>\n",
              "      <th>category</th>\n",
              "      <th>body</th>\n",
              "      <th>Cleaned_body</th>\n",
              "    </tr>\n",
              "  </thead>\n",
              "  <tbody>\n",
              "    <tr>\n",
              "      <th>538</th>\n",
              "      <td>3</td>\n",
              "      <td>#fyp#awsome #war\\n#argentina #photo\\n#picofthe...</td>\n",
              "      <td>[fyp, awsome, argentina, photo, picoftheday, f...</td>\n",
              "    </tr>\n",
              "    <tr>\n",
              "      <th>41</th>\n",
              "      <td>2</td>\n",
              "      <td>We didn’t make it through this hike. The old m...</td>\n",
              "      <td>[We, make, hike, The, old, mostly, direct, sun...</td>\n",
              "    </tr>\n",
              "    <tr>\n",
              "      <th>351</th>\n",
              "      <td>1</td>\n",
              "      <td>Flash floods in Nepal's Sindhupalchol has clai...</td>\n",
              "      <td>[Flash, floods, Nepal, Sindhupalchol, claimed,...</td>\n",
              "    </tr>\n",
              "    <tr>\n",
              "      <th>424</th>\n",
              "      <td>1</td>\n",
              "      <td>#vacation  #island #picoftheday #beachlife#lov...</td>\n",
              "      <td>[vacation, island, picoftheday, beachlife, lov...</td>\n",
              "    </tr>\n",
              "    <tr>\n",
              "      <th>77</th>\n",
              "      <td>2</td>\n",
              "      <td>Can’t get enough of this water. #drought #wate...</td>\n",
              "      <td>[Can, get, enough, water, drought, waterinthed...</td>\n",
              "    </tr>\n",
              "    <tr>\n",
              "      <th>...</th>\n",
              "      <td>...</td>\n",
              "      <td>...</td>\n",
              "      <td>...</td>\n",
              "    </tr>\n",
              "    <tr>\n",
              "      <th>249</th>\n",
              "      <td>1</td>\n",
              "      <td>A red-alert level deluge is swamping the Cante...</td>\n",
              "      <td>[A, red, alert, level, deluge, swamping, Cante...</td>\n",
              "    </tr>\n",
              "    <tr>\n",
              "      <th>608</th>\n",
              "      <td>3</td>\n",
              "      <td>What happens when water gets into a sealed reg...</td>\n",
              "      <td>[What, happens, water, gets, sealed, regulator...</td>\n",
              "    </tr>\n",
              "    <tr>\n",
              "      <th>123</th>\n",
              "      <td>1</td>\n",
              "      <td>Mom's Life 😍\\n\\nIch zeige dir die Welt und noc...</td>\n",
              "      <td>[Mom, Life, Ich, zeige, Welt, mehr, Unser, ers...</td>\n",
              "    </tr>\n",
              "    <tr>\n",
              "      <th>428</th>\n",
              "      <td>1</td>\n",
              "      <td>Flood #flood #flashflood #rain #rainyday #summ...</td>\n",
              "      <td>[Flood, flood, flashflood, rain, rainyday, sum...</td>\n",
              "    </tr>\n",
              "    <tr>\n",
              "      <th>758</th>\n",
              "      <td>3</td>\n",
              "      <td>Great first gig with floodingband idontkno aid...</td>\n",
              "      <td>[Great, first, gig, floodingband, idontkno, ai...</td>\n",
              "    </tr>\n",
              "  </tbody>\n",
              "</table>\n",
              "<p>780 rows × 3 columns</p>\n",
              "</div>"
            ],
            "text/plain": [
              "     category  ...                                       Cleaned_body\n",
              "538         3  ...  [fyp, awsome, argentina, photo, picoftheday, f...\n",
              "41          2  ...  [We, make, hike, The, old, mostly, direct, sun...\n",
              "351         1  ...  [Flash, floods, Nepal, Sindhupalchol, claimed,...\n",
              "424         1  ...  [vacation, island, picoftheday, beachlife, lov...\n",
              "77          2  ...  [Can, get, enough, water, drought, waterinthed...\n",
              "..        ...  ...                                                ...\n",
              "249         1  ...  [A, red, alert, level, deluge, swamping, Cante...\n",
              "608         3  ...  [What, happens, water, gets, sealed, regulator...\n",
              "123         1  ...  [Mom, Life, Ich, zeige, Welt, mehr, Unser, ers...\n",
              "428         1  ...  [Flood, flood, flashflood, rain, rainyday, sum...\n",
              "758         3  ...  [Great, first, gig, floodingband, idontkno, ai...\n",
              "\n",
              "[780 rows x 3 columns]"
            ]
          },
          "metadata": {
            "tags": []
          },
          "execution_count": 38
        }
      ]
    },
    {
      "cell_type": "code",
      "metadata": {
        "colab": {
          "base_uri": "https://localhost:8080/",
          "height": 417
        },
        "id": "TgK3mHiKCsg1",
        "outputId": "15215858-fb69-46ba-e1da-082e2f0af169"
      },
      "source": [
        "ig_test"
      ],
      "execution_count": 39,
      "outputs": [
        {
          "output_type": "execute_result",
          "data": {
            "text/html": [
              "<div>\n",
              "<style scoped>\n",
              "    .dataframe tbody tr th:only-of-type {\n",
              "        vertical-align: middle;\n",
              "    }\n",
              "\n",
              "    .dataframe tbody tr th {\n",
              "        vertical-align: top;\n",
              "    }\n",
              "\n",
              "    .dataframe thead th {\n",
              "        text-align: right;\n",
              "    }\n",
              "</style>\n",
              "<table border=\"1\" class=\"dataframe\">\n",
              "  <thead>\n",
              "    <tr style=\"text-align: right;\">\n",
              "      <th></th>\n",
              "      <th>category</th>\n",
              "      <th>body</th>\n",
              "      <th>Cleaned_body</th>\n",
              "    </tr>\n",
              "  </thead>\n",
              "  <tbody>\n",
              "    <tr>\n",
              "      <th>41</th>\n",
              "      <td>1</td>\n",
              "      <td>We had a Flash Flood yesterday. Thankfully, al...</td>\n",
              "      <td>[We, Flash, Flood, yesterday, Thankfully, crit...</td>\n",
              "    </tr>\n",
              "    <tr>\n",
              "      <th>10</th>\n",
              "      <td>1</td>\n",
              "      <td>BLEEDING HEART EP ONNA WAY ND YEAH FUCC ALL U ...</td>\n",
              "      <td>[BLEEDING, HEART, EP, ONNA, WAY, ND, YEAH, FUC...</td>\n",
              "    </tr>\n",
              "    <tr>\n",
              "      <th>21</th>\n",
              "      <td>1</td>\n",
              "      <td>Fair to say we copped a bit of rain at the far...</td>\n",
              "      <td>[Fair, say, copped, bit, rain, farm, today, an...</td>\n",
              "    </tr>\n",
              "    <tr>\n",
              "      <th>57</th>\n",
              "      <td>3</td>\n",
              "      <td>Everybody wants to hit the pool and beat the h...</td>\n",
              "      <td>[Everybody, wants, hit, pool, beat, heat, summ...</td>\n",
              "    </tr>\n",
              "    <tr>\n",
              "      <th>49</th>\n",
              "      <td>1</td>\n",
              "      <td>~Aftermath~Flashflood~Helambu~\\n#aftermath #fl...</td>\n",
              "      <td>[Aftermath, Flashflood, Helambu, aftermath, fl...</td>\n",
              "    </tr>\n",
              "    <tr>\n",
              "      <th>...</th>\n",
              "      <td>...</td>\n",
              "      <td>...</td>\n",
              "      <td>...</td>\n",
              "    </tr>\n",
              "    <tr>\n",
              "      <th>36</th>\n",
              "      <td>1</td>\n",
              "      <td>*When you take the Jeep Wave too seriously 🌊 😂...</td>\n",
              "      <td>[When, Jeep, Wave, seriously, No, still, car, ...</td>\n",
              "    </tr>\n",
              "    <tr>\n",
              "      <th>77</th>\n",
              "      <td>3</td>\n",
              "      <td>'The Flood'\\n.\\n.\\n.\\n#colouredpencildrawing #...</td>\n",
              "      <td>[The, Flood, colouredpencildrawing, zestitpenc...</td>\n",
              "    </tr>\n",
              "    <tr>\n",
              "      <th>102</th>\n",
              "      <td>3</td>\n",
              "      <td>Figuring out these crazy hands 😆\\n\\n#babiesofi...</td>\n",
              "      <td>[Figuring, crazy, hands, babiesofinstagram, ba...</td>\n",
              "    </tr>\n",
              "    <tr>\n",
              "      <th>92</th>\n",
              "      <td>3</td>\n",
              "      <td>In Genesis God tells us that he created the ra...</td>\n",
              "      <td>[In, Genesis, God, tells, us, created, rainbow...</td>\n",
              "    </tr>\n",
              "    <tr>\n",
              "      <th>98</th>\n",
              "      <td>3</td>\n",
              "      <td>Did you know that people with Down syndrome te...</td>\n",
              "      <td>[Did, know, people, Down, syndrome, tend, itty...</td>\n",
              "    </tr>\n",
              "  </tbody>\n",
              "</table>\n",
              "<p>104 rows × 3 columns</p>\n",
              "</div>"
            ],
            "text/plain": [
              "     category  ...                                       Cleaned_body\n",
              "41          1  ...  [We, Flash, Flood, yesterday, Thankfully, crit...\n",
              "10          1  ...  [BLEEDING, HEART, EP, ONNA, WAY, ND, YEAH, FUC...\n",
              "21          1  ...  [Fair, say, copped, bit, rain, farm, today, an...\n",
              "57          3  ...  [Everybody, wants, hit, pool, beat, heat, summ...\n",
              "49          1  ...  [Aftermath, Flashflood, Helambu, aftermath, fl...\n",
              "..        ...  ...                                                ...\n",
              "36          1  ...  [When, Jeep, Wave, seriously, No, still, car, ...\n",
              "77          3  ...  [The, Flood, colouredpencildrawing, zestitpenc...\n",
              "102         3  ...  [Figuring, crazy, hands, babiesofinstagram, ba...\n",
              "92          3  ...  [In, Genesis, God, tells, us, created, rainbow...\n",
              "98          3  ...  [Did, know, people, Down, syndrome, tend, itty...\n",
              "\n",
              "[104 rows x 3 columns]"
            ]
          },
          "metadata": {
            "tags": []
          },
          "execution_count": 39
        }
      ]
    },
    {
      "cell_type": "markdown",
      "metadata": {
        "id": "w0-a0E8q9kc0"
      },
      "source": [
        "**fit_on_texts:** Updates internal vocabulary based on a list of texts. This method creates the vocabulary index based on word frequency. So if you give it something like, \"The cat sat on the mat.\" It will create a dictionary s.t. word_index[\"the\"] = 1; word_index[\"cat\"] = 2 it is word -> index dictionary so every word gets a unique integer value. 0 is reserved for padding. So lower integer means more frequent word (often the first few are stop words because they appear a lot).\n",
        "\n",
        "\n",
        "**texts_to_sequences:** Transforms each text in texts to a sequence of integers. So it basically takes each word in the text and replaces it with its corresponding integer value from the word_index dictionary. Nothing more, nothing less, certainly no magic involved."
      ]
    },
    {
      "cell_type": "code",
      "metadata": {
        "colab": {
          "base_uri": "https://localhost:8080/"
        },
        "id": "fSv37vLW8IAd",
        "outputId": "9565df08-fe81-433d-f027-ee8b8c2f4c56"
      },
      "source": [
        "tokenizer = Tokenizer()\n",
        "tokenizer.fit_on_texts(ig_train.Cleaned_body)\n",
        "# Create the (X, Y) variables\n",
        "X = tokenizer.texts_to_sequences(ig_train.Cleaned_body)\n",
        "X = pad_sequences(X, maxlen=20)\n",
        "#Y = to_categorical(ig_train.category)\n",
        "# Print the shapes\n",
        "print(X.shape)\n",
        "print(Y.shape)"
      ],
      "execution_count": 40,
      "outputs": [
        {
          "output_type": "stream",
          "text": [
            "(780, 20)\n",
            "(780, 3)\n"
          ],
          "name": "stdout"
        }
      ]
    },
    {
      "cell_type": "code",
      "metadata": {
        "colab": {
          "base_uri": "https://localhost:8080/"
        },
        "id": "5gOxU0T3Cz5Z",
        "outputId": "c3a54c8e-4802-49f5-fc2b-42117321dc82"
      },
      "source": [
        "X_test = tokenizer.texts_to_sequences(ig_test.Cleaned_body)\n",
        "X_test = pad_sequences(X_test, maxlen=20)\n",
        "#Y_test = to_categorical(ig_test.category)\n",
        "print(X_test.shape)\n",
        "print(Y_test.shape)"
      ],
      "execution_count": 41,
      "outputs": [
        {
          "output_type": "stream",
          "text": [
            "(104, 20)\n",
            "(104, 3)\n"
          ],
          "name": "stdout"
        }
      ]
    },
    {
      "cell_type": "code",
      "metadata": {
        "colab": {
          "base_uri": "https://localhost:8080/"
        },
        "id": "yM7XZYaf0EMf",
        "outputId": "c234087d-4eb1-43ba-dd75-761e4cd01500"
      },
      "source": [
        "# The maximum number of words to be used. (most frequent)\n",
        "MAX_NB_WORDS = 30000\n",
        "\n",
        "\n",
        "EMBEDDING_DIM = 100\n",
        "\n",
        "word_index = tokenizer.word_index\n",
        "print('Found %s unique tokens.' % len(word_index))"
      ],
      "execution_count": 42,
      "outputs": [
        {
          "output_type": "stream",
          "text": [
            "Found 11681 unique tokens.\n"
          ],
          "name": "stdout"
        }
      ]
    },
    {
      "cell_type": "code",
      "metadata": {
        "id": "bP5DXzDjOV04"
      },
      "source": [
        "from keras.optimizers import SGD,Adam\n",
        "opt = SGD(learning_rate=0.01)\n",
        "opt1= Adam() "
      ],
      "execution_count": 43,
      "outputs": []
    },
    {
      "cell_type": "markdown",
      "metadata": {
        "id": "hJp_y7it_wd5"
      },
      "source": [
        "**Spatial 1D:** it drops entire 1D feature maps instead of individual elements. If adjacent frames within feature maps are strongly correlated (as is normally the case in early convolution layers) then regular dropout will not regularize the activations and will otherwise just result in an effective learning rate decrease.\n",
        "\n",
        "1. Dropout(): Let's define 2D input: [[1, 1, 1], [2, 2, 2]]. Dropout will consider every element independently, and may result in something like [[1, 0, 1], [0, 2, 2]]\n",
        "\n",
        "2. SpatialDropout1D(): In this case result will look like [[1, 0, 1], [2, 0, 2]]. Notice that 2nd element was zeroed along all channels."
      ]
    },
    {
      "cell_type": "code",
      "metadata": {
        "colab": {
          "base_uri": "https://localhost:8080/"
        },
        "id": "VGCfW-4h-CTt",
        "outputId": "1bf5d326-0d36-44b0-fdf0-a6003732f00f"
      },
      "source": [
        "model= Sequential()\n",
        "model.add(Embedding(MAX_NB_WORDS,EMBEDDING_DIM,input_length=X.shape[1]))\n",
        "model.add(SpatialDropout1D(0.2))\n",
        "model.add(LSTM(1300,dropout=0,recurrent_dropout=0))\n",
        "model.add(Dense(1200,activation='relu'))\n",
        "model.add(Dense(1024,activation='relu'))\n",
        "model.add(Dense(720,activation='relu'))\n",
        "model.add(Dense(320,activation='relu'))\n",
        "model.add(Dense(96,activation='relu'))\n",
        "model.add(Dense(48,activation='relu'))\n",
        "model.add(Dense(16,activation='relu'))\n",
        "model.add(Dense(3,activation='softmax'))\n",
        "model.compile(optimizer='adam',loss='categorical_crossentropy', metrics=['accuracy'])\n",
        "model.summary()"
      ],
      "execution_count": 44,
      "outputs": [
        {
          "output_type": "stream",
          "text": [
            "Model: \"sequential\"\n",
            "_________________________________________________________________\n",
            "Layer (type)                 Output Shape              Param #   \n",
            "=================================================================\n",
            "embedding (Embedding)        (None, 20, 100)           3000000   \n",
            "_________________________________________________________________\n",
            "spatial_dropout1d (SpatialDr (None, 20, 100)           0         \n",
            "_________________________________________________________________\n",
            "lstm (LSTM)                  (None, 1300)              7285200   \n",
            "_________________________________________________________________\n",
            "dense (Dense)                (None, 1200)              1561200   \n",
            "_________________________________________________________________\n",
            "dense_1 (Dense)              (None, 1024)              1229824   \n",
            "_________________________________________________________________\n",
            "dense_2 (Dense)              (None, 720)               738000    \n",
            "_________________________________________________________________\n",
            "dense_3 (Dense)              (None, 320)               230720    \n",
            "_________________________________________________________________\n",
            "dense_4 (Dense)              (None, 96)                30816     \n",
            "_________________________________________________________________\n",
            "dense_5 (Dense)              (None, 48)                4656      \n",
            "_________________________________________________________________\n",
            "dense_6 (Dense)              (None, 16)                784       \n",
            "_________________________________________________________________\n",
            "dense_7 (Dense)              (None, 3)                 51        \n",
            "=================================================================\n",
            "Total params: 14,081,251\n",
            "Trainable params: 14,081,251\n",
            "Non-trainable params: 0\n",
            "_________________________________________________________________\n"
          ],
          "name": "stdout"
        }
      ]
    },
    {
      "cell_type": "code",
      "metadata": {
        "colab": {
          "base_uri": "https://localhost:8080/"
        },
        "id": "8vcZYw5E-CWk",
        "outputId": "0a472d90-858b-4d98-b634-2ab91a3177a8"
      },
      "source": [
        "epochs= 40\n",
        "batch_size= 300\n",
        "\n",
        "history= model.fit(X,Y,epochs=epochs,batch_size=batch_size,validation_split=0.1)"
      ],
      "execution_count": 45,
      "outputs": [
        {
          "output_type": "stream",
          "text": [
            "Epoch 1/40\n",
            "3/3 [==============================] - 23s 531ms/step - loss: 1.0938 - accuracy: 0.4243 - val_loss: 1.0278 - val_accuracy: 0.3333\n",
            "Epoch 2/40\n",
            "3/3 [==============================] - 0s 115ms/step - loss: 1.0344 - accuracy: 0.4395 - val_loss: 0.9447 - val_accuracy: 0.3333\n",
            "Epoch 3/40\n",
            "3/3 [==============================] - 0s 92ms/step - loss: 0.9812 - accuracy: 0.4495 - val_loss: 0.9139 - val_accuracy: 0.5769\n",
            "Epoch 4/40\n",
            "3/3 [==============================] - 0s 91ms/step - loss: 0.9272 - accuracy: 0.4218 - val_loss: 1.0353 - val_accuracy: 0.3333\n",
            "Epoch 5/40\n",
            "3/3 [==============================] - 0s 95ms/step - loss: 0.8750 - accuracy: 0.4075 - val_loss: 0.8152 - val_accuracy: 0.6410\n",
            "Epoch 6/40\n",
            "3/3 [==============================] - 0s 92ms/step - loss: 0.8021 - accuracy: 0.4353 - val_loss: 0.8603 - val_accuracy: 0.6923\n",
            "Epoch 7/40\n",
            "3/3 [==============================] - 0s 94ms/step - loss: 0.7590 - accuracy: 0.5013 - val_loss: 0.9864 - val_accuracy: 0.3333\n",
            "Epoch 8/40\n",
            "3/3 [==============================] - 0s 93ms/step - loss: 0.7541 - accuracy: 0.4194 - val_loss: 0.7254 - val_accuracy: 0.6795\n",
            "Epoch 9/40\n",
            "3/3 [==============================] - 0s 97ms/step - loss: 0.7023 - accuracy: 0.4963 - val_loss: 0.6574 - val_accuracy: 0.6923\n",
            "Epoch 10/40\n",
            "3/3 [==============================] - 0s 94ms/step - loss: 0.6275 - accuracy: 0.6425 - val_loss: 0.7544 - val_accuracy: 0.7436\n",
            "Epoch 11/40\n",
            "3/3 [==============================] - 0s 94ms/step - loss: 0.4959 - accuracy: 0.7564 - val_loss: 0.6321 - val_accuracy: 0.7179\n",
            "Epoch 12/40\n",
            "3/3 [==============================] - 0s 95ms/step - loss: 0.3439 - accuracy: 0.9423 - val_loss: 0.5803 - val_accuracy: 0.7179\n",
            "Epoch 13/40\n",
            "3/3 [==============================] - 0s 91ms/step - loss: 0.2931 - accuracy: 0.9330 - val_loss: 0.7288 - val_accuracy: 0.6026\n",
            "Epoch 14/40\n",
            "3/3 [==============================] - 0s 92ms/step - loss: 0.2271 - accuracy: 0.9261 - val_loss: 1.4311 - val_accuracy: 0.5769\n",
            "Epoch 15/40\n",
            "3/3 [==============================] - 0s 90ms/step - loss: 0.0949 - accuracy: 0.9644 - val_loss: 4.7382 - val_accuracy: 0.4103\n",
            "Epoch 16/40\n",
            "3/3 [==============================] - 0s 99ms/step - loss: 0.3427 - accuracy: 0.8825 - val_loss: 0.9657 - val_accuracy: 0.6923\n",
            "Epoch 17/40\n",
            "3/3 [==============================] - 0s 94ms/step - loss: 0.2041 - accuracy: 0.9196 - val_loss: 0.9342 - val_accuracy: 0.6923\n",
            "Epoch 18/40\n",
            "3/3 [==============================] - 0s 95ms/step - loss: 0.0691 - accuracy: 0.9781 - val_loss: 1.3160 - val_accuracy: 0.5897\n",
            "Epoch 19/40\n",
            "3/3 [==============================] - 0s 100ms/step - loss: 0.0751 - accuracy: 0.9716 - val_loss: 1.7145 - val_accuracy: 0.6154\n",
            "Epoch 20/40\n",
            "3/3 [==============================] - 0s 91ms/step - loss: 0.0516 - accuracy: 0.9844 - val_loss: 1.2083 - val_accuracy: 0.6154\n",
            "Epoch 21/40\n",
            "3/3 [==============================] - 0s 93ms/step - loss: 0.0394 - accuracy: 0.9835 - val_loss: 0.8697 - val_accuracy: 0.6795\n",
            "Epoch 22/40\n",
            "3/3 [==============================] - 0s 93ms/step - loss: 0.0305 - accuracy: 0.9876 - val_loss: 0.8691 - val_accuracy: 0.6795\n",
            "Epoch 23/40\n",
            "3/3 [==============================] - 0s 97ms/step - loss: 0.0235 - accuracy: 0.9904 - val_loss: 0.9515 - val_accuracy: 0.7051\n",
            "Epoch 24/40\n",
            "3/3 [==============================] - 0s 93ms/step - loss: 0.0209 - accuracy: 0.9907 - val_loss: 1.1141 - val_accuracy: 0.6538\n",
            "Epoch 25/40\n",
            "3/3 [==============================] - 0s 90ms/step - loss: 0.0147 - accuracy: 0.9942 - val_loss: 1.4054 - val_accuracy: 0.6538\n",
            "Epoch 26/40\n",
            "3/3 [==============================] - 0s 95ms/step - loss: 0.0100 - accuracy: 0.9951 - val_loss: 1.6198 - val_accuracy: 0.6538\n",
            "Epoch 27/40\n",
            "3/3 [==============================] - 0s 96ms/step - loss: 0.0108 - accuracy: 0.9960 - val_loss: 1.2914 - val_accuracy: 0.7179\n",
            "Epoch 28/40\n",
            "3/3 [==============================] - 0s 94ms/step - loss: 0.0254 - accuracy: 0.9890 - val_loss: 1.0043 - val_accuracy: 0.7179\n",
            "Epoch 29/40\n",
            "3/3 [==============================] - 0s 92ms/step - loss: 0.0141 - accuracy: 0.9941 - val_loss: 0.9685 - val_accuracy: 0.7308\n",
            "Epoch 30/40\n",
            "3/3 [==============================] - 0s 96ms/step - loss: 0.0120 - accuracy: 0.9977 - val_loss: 1.0379 - val_accuracy: 0.7179\n",
            "Epoch 31/40\n",
            "3/3 [==============================] - 0s 96ms/step - loss: 0.0144 - accuracy: 0.9962 - val_loss: 1.1439 - val_accuracy: 0.6923\n",
            "Epoch 32/40\n",
            "3/3 [==============================] - 0s 92ms/step - loss: 0.0205 - accuracy: 0.9927 - val_loss: 1.1266 - val_accuracy: 0.6923\n",
            "Epoch 33/40\n",
            "3/3 [==============================] - 0s 97ms/step - loss: 0.0133 - accuracy: 0.9942 - val_loss: 1.0664 - val_accuracy: 0.7179\n",
            "Epoch 34/40\n",
            "3/3 [==============================] - 0s 93ms/step - loss: 0.0127 - accuracy: 0.9919 - val_loss: 1.0508 - val_accuracy: 0.7179\n",
            "Epoch 35/40\n",
            "3/3 [==============================] - 0s 93ms/step - loss: 0.0094 - accuracy: 0.9959 - val_loss: 1.0609 - val_accuracy: 0.7179\n",
            "Epoch 36/40\n",
            "3/3 [==============================] - 0s 97ms/step - loss: 0.0096 - accuracy: 0.9949 - val_loss: 1.1196 - val_accuracy: 0.7179\n",
            "Epoch 37/40\n",
            "3/3 [==============================] - 0s 113ms/step - loss: 0.0086 - accuracy: 0.9969 - val_loss: 1.2237 - val_accuracy: 0.6667\n",
            "Epoch 38/40\n",
            "3/3 [==============================] - 0s 92ms/step - loss: 0.0131 - accuracy: 0.9941 - val_loss: 1.1867 - val_accuracy: 0.7051\n",
            "Epoch 39/40\n",
            "3/3 [==============================] - 0s 97ms/step - loss: 0.0117 - accuracy: 0.9923 - val_loss: 1.0965 - val_accuracy: 0.6923\n",
            "Epoch 40/40\n",
            "3/3 [==============================] - 0s 101ms/step - loss: 0.0143 - accuracy: 0.9954 - val_loss: 1.0904 - val_accuracy: 0.6923\n"
          ],
          "name": "stdout"
        }
      ]
    },
    {
      "cell_type": "code",
      "metadata": {
        "colab": {
          "base_uri": "https://localhost:8080/",
          "height": 314
        },
        "id": "WOT-vo7X-CZR",
        "outputId": "ebb5bcb9-934d-4d30-808d-0cb0f4bebcfc"
      },
      "source": [
        "plt.title('Loss')\n",
        "plt.plot(history.history['loss'], label='train')\n",
        "plt.plot(history.history['val_loss'], label='test')\n",
        "plt.legend()\n",
        "plt.show()"
      ],
      "execution_count": 46,
      "outputs": [
        {
          "output_type": "execute_result",
          "data": {
            "text/plain": [
              "Text(0.5, 1.0, 'Loss')"
            ]
          },
          "metadata": {
            "tags": []
          },
          "execution_count": 46
        },
        {
          "output_type": "execute_result",
          "data": {
            "text/plain": [
              "[<matplotlib.lines.Line2D at 0x7fd3a73e0350>]"
            ]
          },
          "metadata": {
            "tags": []
          },
          "execution_count": 46
        },
        {
          "output_type": "execute_result",
          "data": {
            "text/plain": [
              "[<matplotlib.lines.Line2D at 0x7fd3b0f46f50>]"
            ]
          },
          "metadata": {
            "tags": []
          },
          "execution_count": 46
        },
        {
          "output_type": "execute_result",
          "data": {
            "text/plain": [
              "<matplotlib.legend.Legend at 0x7fd3a766c910>"
            ]
          },
          "metadata": {
            "tags": []
          },
          "execution_count": 46
        },
        {
          "output_type": "display_data",
          "data": {
            "image/png": "[encoded data removed]",
            "text/plain": [
              "<Figure size 432x288 with 1 Axes>"
            ]
          },
          "metadata": {
            "tags": [],
            "needs_background": "light"
          }
        }
      ]
    },
    {
      "cell_type": "code",
      "metadata": {
        "colab": {
          "base_uri": "https://localhost:8080/",
          "height": 314
        },
        "id": "nrF8NOmyQf2q",
        "outputId": "62e58b5c-0ac9-4205-a702-1db78eb619b8"
      },
      "source": [
        "plt.title('Accuracy')\n",
        "plt.plot(history.history['accuracy'], label='train')\n",
        "plt.plot(history.history['val_accuracy'], label='test')\n",
        "plt.legend()\n",
        "plt.show()"
      ],
      "execution_count": 47,
      "outputs": [
        {
          "output_type": "execute_result",
          "data": {
            "text/plain": [
              "Text(0.5, 1.0, 'Accuracy')"
            ]
          },
          "metadata": {
            "tags": []
          },
          "execution_count": 47
        },
        {
          "output_type": "execute_result",
          "data": {
            "text/plain": [
              "[<matplotlib.lines.Line2D at 0x7fd3b0a36410>]"
            ]
          },
          "metadata": {
            "tags": []
          },
          "execution_count": 47
        },
        {
          "output_type": "execute_result",
          "data": {
            "text/plain": [
              "[<matplotlib.lines.Line2D at 0x7fd3b0a36a10>]"
            ]
          },
          "metadata": {
            "tags": []
          },
          "execution_count": 47
        },
        {
          "output_type": "execute_result",
          "data": {
            "text/plain": [
              "<matplotlib.legend.Legend at 0x7fd3b0a36890>"
            ]
          },
          "metadata": {
            "tags": []
          },
          "execution_count": 47
        },
        {
          "output_type": "display_data",
          "data": {
            "image/png": "[encoded data removed]",
            "text/plain": [
              "<Figure size 432x288 with 1 Axes>"
            ]
          },
          "metadata": {
            "tags": [],
            "needs_background": "light"
          }
        }
      ]
    },
    {
      "cell_type": "markdown",
      "metadata": {
        "id": "s_eq7qhhQhEP"
      },
      "source": [
        "**Predicting Data**"
      ]
    },
    {
      "cell_type": "code",
      "metadata": {
        "id": "w1-C98a2-CcR"
      },
      "source": [
        "y_pred = model.predict(X_test)"
      ],
      "execution_count": 48,
      "outputs": []
    },
    {
      "cell_type": "code",
      "metadata": {
        "id": "AqY97S7d-ChF"
      },
      "source": [
        "import numpy as np\n",
        "y_pred=np.round(y_pred)"
      ],
      "execution_count": 49,
      "outputs": []
    },
    {
      "cell_type": "code",
      "metadata": {
        "id": "RbVtKsCnQmZF"
      },
      "source": [
        "y_pred = np.argmax(y_pred, axis=-1)"
      ],
      "execution_count": 50,
      "outputs": []
    },
    {
      "cell_type": "code",
      "metadata": {
        "id": "2sYb61dOQmb_"
      },
      "source": [
        "y_test = np.argmax(Y_test, axis=-1)"
      ],
      "execution_count": 51,
      "outputs": []
    },
    {
      "cell_type": "code",
      "metadata": {
        "colab": {
          "base_uri": "https://localhost:8080/"
        },
        "id": "gl7axW8RQmeg",
        "outputId": "f1f63487-ed09-4cec-9d0c-90827c5e11f3"
      },
      "source": [
        "y_pred"
      ],
      "execution_count": 52,
      "outputs": [
        {
          "output_type": "execute_result",
          "data": {
            "text/plain": [
              "array([1, 1, 1, 2, 1, 0, 1, 1, 0, 0, 2, 1, 2, 1, 1, 1, 0, 1, 1, 1, 1, 1,\n",
              "       2, 1, 1, 1, 1, 0, 1, 2, 0, 1, 2, 2, 1, 1, 2, 1, 1, 2, 1, 0, 1, 1,\n",
              "       1, 2, 2, 2, 1, 1, 1, 0, 0, 0, 1, 2, 0, 1, 1, 1, 1, 2, 1, 1, 1, 1,\n",
              "       1, 1, 2, 0, 1, 2, 2, 1, 1, 2, 1, 1, 1, 1, 1, 1, 1, 0, 0, 1, 1, 1,\n",
              "       2, 2, 1, 0, 2, 1, 1, 1, 2, 1, 1, 1, 1, 2, 2, 2])"
            ]
          },
          "metadata": {
            "tags": []
          },
          "execution_count": 52
        }
      ]
    },
    {
      "cell_type": "code",
      "metadata": {
        "colab": {
          "base_uri": "https://localhost:8080/"
        },
        "id": "-EqrJG-SQmhm",
        "outputId": "436012f2-178b-4705-e469-7de4c3a9be10"
      },
      "source": [
        "# Accuracy\n",
        "print(accuracy_score(y_test, y_pred))"
      ],
      "execution_count": 53,
      "outputs": [
        {
          "output_type": "stream",
          "text": [
            "0.7115384615384616\n"
          ],
          "name": "stdout"
        }
      ]
    },
    {
      "cell_type": "code",
      "metadata": {
        "colab": {
          "base_uri": "https://localhost:8080/"
        },
        "id": "DpCA8nFGQmkS",
        "outputId": "02df8275-2ff2-4924-b5e0-923805e43613"
      },
      "source": [
        "print(precision_score(y_test, y_pred, average=None))\n",
        "print(recall_score(y_test, y_pred, average=None))\n",
        "print(f1_score(y_test, y_pred, average=None))"
      ],
      "execution_count": 54,
      "outputs": [
        {
          "output_type": "stream",
          "text": [
            "[0.46666667 0.703125   0.88      ]\n",
            "[0.875      0.9375     0.45833333]\n",
            "[0.60869565 0.80357143 0.60273973]\n"
          ],
          "name": "stdout"
        }
      ]
    },
    {
      "cell_type": "code",
      "metadata": {
        "colab": {
          "base_uri": "https://localhost:8080/"
        },
        "id": "zuJiG5qLQmoP",
        "outputId": "86cb44a8-755f-4881-a343-e088ede555e7"
      },
      "source": [
        "lab_names = ['flood','drought','none']\n",
        "print(classification_report(y_test, y_pred, target_names=lab_names))"
      ],
      "execution_count": 55,
      "outputs": [
        {
          "output_type": "stream",
          "text": [
            "              precision    recall  f1-score   support\n",
            "\n",
            "       flood       0.47      0.88      0.61         8\n",
            "     drought       0.70      0.94      0.80        48\n",
            "        none       0.88      0.46      0.60        48\n",
            "\n",
            "    accuracy                           0.71       104\n",
            "   macro avg       0.68      0.76      0.67       104\n",
            "weighted avg       0.77      0.71      0.70       104\n",
            "\n"
          ],
          "name": "stdout"
        }
      ]
    },
    {
      "cell_type": "code",
      "metadata": {
        "colab": {
          "base_uri": "https://localhost:8080/"
        },
        "id": "730p9gL1QmqH",
        "outputId": "6b2d770c-3ce9-4d9f-b84d-65fb4106a9af"
      },
      "source": [
        "# Get probabilities for each class\n",
        "pred_probabilities = model.predict(X_test)\n",
        "DEFAULT_CLASS = 1\n",
        "# Thresholds at 0.5 and 0.8\n",
        "y_pred_50 = [np.argmax(x) if np.max(x) >= 0.5 else DEFAULT_CLASS for x in pred_probabilities]\n",
        "y_pred_80 = [np.argmax(x) if np.max(x) >= 0.8 else DEFAULT_CLASS for x in pred_probabilities]\n",
        "\n",
        "trade_off = pd.DataFrame({\n",
        "    'Precision_50': precision_score(y_test, y_pred_50, average=None), \n",
        "    'Precision_80': precision_score(y_test, y_pred_80, average=None), \n",
        "    'Recall_50': recall_score(y_test, y_pred_50, average=None), \n",
        "    'Recall_80': recall_score(y_test, y_pred_80, average=None)}, \n",
        "  index=['flood','drought','none'])\n",
        "\n",
        "print(trade_off)"
      ],
      "execution_count": 56,
      "outputs": [
        {
          "output_type": "stream",
          "text": [
            "         Precision_50  Precision_80  Recall_50  Recall_80\n",
            "flood        0.500000      0.416667   0.875000   0.625000\n",
            "drought      0.692308      0.652174   0.937500   0.937500\n",
            "none         0.880000      0.869565   0.458333   0.416667\n"
          ],
          "name": "stdout"
        }
      ]
    },
    {
      "cell_type": "code",
      "metadata": {
        "colab": {
          "base_uri": "https://localhost:8080/"
        },
        "id": "whsQ1Sv_Q-QB",
        "outputId": "355e5fc2-50c9-4360-fa3a-eed0c03948ff"
      },
      "source": [
        "# Build the confusion matrix\n",
        "confusion_matrix(y_test, y_pred_50)"
      ],
      "execution_count": 57,
      "outputs": [
        {
          "output_type": "execute_result",
          "data": {
            "text/plain": [
              "array([[ 7,  1,  0],\n",
              "       [ 0, 45,  3],\n",
              "       [ 7, 19, 22]])"
            ]
          },
          "metadata": {
            "tags": []
          },
          "execution_count": 57
        }
      ]
    },
    {
      "cell_type": "code",
      "metadata": {
        "colab": {
          "base_uri": "https://localhost:8080/"
        },
        "id": "WRHWnikhQ-So",
        "outputId": "14ec4c59-77e8-46a6-f3fc-408f57e792ce"
      },
      "source": [
        "# Build the confusion matrix\n",
        "confusion_matrix(y_test, y_pred_80)"
      ],
      "execution_count": 58,
      "outputs": [
        {
          "output_type": "execute_result",
          "data": {
            "text/plain": [
              "array([[ 5,  3,  0],\n",
              "       [ 0, 45,  3],\n",
              "       [ 7, 21, 20]])"
            ]
          },
          "metadata": {
            "tags": []
          },
          "execution_count": 58
        }
      ]
    },
    {
      "cell_type": "code",
      "metadata": {
        "colab": {
          "base_uri": "https://localhost:8080/"
        },
        "id": "SpQo3TS4Qmsj",
        "outputId": "ee7f674e-2e7e-4e39-d935-fed7a2cdeca3"
      },
      "source": [
        "# Build the confusion matrix\n",
        "confusion_matrix(y_test, y_pred)"
      ],
      "execution_count": 59,
      "outputs": [
        {
          "output_type": "execute_result",
          "data": {
            "text/plain": [
              "array([[ 7,  1,  0],\n",
              "       [ 0, 45,  3],\n",
              "       [ 8, 18, 22]])"
            ]
          },
          "metadata": {
            "tags": []
          },
          "execution_count": 59
        }
      ]
    },
    {
      "cell_type": "code",
      "metadata": {
        "id": "D3fA0A760ESW"
      },
      "source": [
        "model.save('Multi_Text_LSTMClassifier_with_ig.h5')"
      ],
      "execution_count": 61,
      "outputs": []
    },
    {
      "cell_type": "code",
      "metadata": {
        "id": "Zsdy5W2s0EWV"
      },
      "source": [
        ""
      ],
      "execution_count": null,
      "outputs": []
    }
  ]
}