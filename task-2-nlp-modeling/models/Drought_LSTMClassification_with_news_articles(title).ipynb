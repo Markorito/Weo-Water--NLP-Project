{
  "nbformat": 4,
  "nbformat_minor": 0,
  "metadata": {
    "colab": {
      "name": "Drought_LSTMClassification_with_news_articles(title).ipynb",
      "provenance": []
    },
    "kernelspec": {
      "name": "python3",
      "display_name": "Python 3"
    },
    "language_info": {
      "name": "python"
    }
  },
  "cells": [
    {
      "cell_type": "code",
      "metadata": {
        "colab": {
          "base_uri": "https://localhost:8080/"
        },
        "id": "RhFetvA1btGL",
        "outputId": "25f0d702-a5e8-4436-8160-bce9cd33f953"
      },
      "source": [
        "import numpy as np\n",
        "import csv\n",
        "from tqdm import tqdm\n",
        "import base64\n",
        "from io import BytesIO\n",
        "import requests\n",
        "import io\n",
        "import pandas as pd\n",
        "import os\n",
        "import matplotlib.pyplot as plt\n",
        "import seaborn as sns\n",
        "from keras.preprocessing.text import Tokenizer\n",
        "from keras.preprocessing.sequence import pad_sequences\n",
        "from keras.models import Sequential\n",
        "from tensorflow.keras import models\n",
        "from keras.layers import Input,Dense, Embedding, LSTM, SpatialDropout1D,Bidirectional\n",
        "from keras.layers.merge import concatenate\n",
        "from sklearn.model_selection import train_test_split\n",
        "from keras.utils.np_utils import to_categorical\n",
        "from keras.callbacks import EarlyStopping\n",
        "from keras.layers import Dropout\n",
        "from sklearn.preprocessing import LabelEncoder, MinMaxScaler, OneHotEncoder\n",
        "import tensorflow as tf\n",
        "import re\n",
        "import nltk\n",
        "nltk.download('stopwords')\n",
        "from nltk.corpus import stopwords\n",
        "from nltk.tokenize import word_tokenize,RegexpTokenizer\n",
        "from nltk.corpus import stopwords\n",
        "from nltk.stem.porter import *\n",
        "from nltk import word_tokenize\n",
        "STOPWORDS = set(stopwords.words('english'))\n",
        "from bs4 import BeautifulSoup\n",
        "import plotly.graph_objs as go\n",
        "from sklearn.utils import shuffle\n",
        "from sklearn.metrics import mean_squared_error\n",
        "from sklearn.preprocessing import MinMaxScaler\n",
        "from keras.models import Sequential\n",
        "from keras.layers import Dense\n",
        "from keras.layers import LSTM\n",
        "from keras.regularizers import L1L2\n",
        "from keras.regularizers import Regularizer\n",
        "from keras.layers.normalization import BatchNormalization\n",
        "from sklearn.metrics import confusion_matrix\n",
        "from sklearn.metrics import precision_score\n",
        "from sklearn.metrics import recall_score\n",
        "from sklearn.metrics import f1_score\n",
        "from sklearn.metrics import accuracy_score\n",
        "from sklearn.metrics import classification_report\n",
        "from IPython.core.interactiveshell import InteractiveShell\n",
        "import plotly.figure_factory as ff\n",
        "InteractiveShell.ast_node_interactivity = 'all'\n",
        "from plotly.offline import iplot"
      ],
      "execution_count": 1,
      "outputs": [
        {
          "output_type": "stream",
          "text": [
            "[nltk_data] Downloading package stopwords to /root/nltk_data...\n",
            "[nltk_data]   Unzipping corpora/stopwords.zip.\n"
          ],
          "name": "stdout"
        }
      ]
    },
    {
      "cell_type": "code",
      "metadata": {
        "colab": {
          "base_uri": "https://localhost:8080/"
        },
        "id": "PkV6jVA5huNc",
        "outputId": "609bd2a1-162e-4238-881d-38280fc62eeb"
      },
      "source": [
        "from google.colab import drive\n",
        "drive.mount('/content/gdrive')"
      ],
      "execution_count": 2,
      "outputs": [
        {
          "output_type": "stream",
          "text": [
            "Mounted at /content/gdrive\n"
          ],
          "name": "stdout"
        }
      ]
    },
    {
      "cell_type": "code",
      "metadata": {
        "id": "YJS_iyP2GCxt"
      },
      "source": [
        "# Username of your GitHub account\n",
        "username = ''\n",
        "\n",
        "# Personal Access Token (PAO) from your GitHub account\n",
        "token = ''\n",
        "\n",
        "# Creates a re-usable session object with your creds in-built\n",
        "github_session = requests.Session()\n",
        "github_session.auth = (username, token)\n"
      ],
      "execution_count": 3,
      "outputs": []
    },
    {
      "cell_type": "code",
      "metadata": {
        "id": "q2UdSo70GNf7"
      },
      "source": [
        "url = 'https://raw.githubusercontent.com/OmdenaAI/WeoWater/main/task-3-wrangling-preprocessing/All_merged/All_data_sources_merged_updated.csv'\n",
        "download = github_session.get(url).content #Reading and downloading the data\n",
        "data = pd.read_csv(io.StringIO(download.decode('utf-8'))) #Converting the data into a pd dataframe\n",
        "\n",
        "#Extract instagram data from all dataseources\n",
        "news_articles = data.loc[data['data source']=='news article']\n",
        "news_articles.to_csv('news_articles.csv')"
      ],
      "execution_count": 4,
      "outputs": []
    },
    {
      "cell_type": "code",
      "metadata": {
        "id": "_qflW6BhvvfM"
      },
      "source": [
        "news_articles = pd.read_csv('news_articles.csv') "
      ],
      "execution_count": 5,
      "outputs": []
    },
    {
      "cell_type": "code",
      "metadata": {
        "colab": {
          "base_uri": "https://localhost:8080/",
          "height": 710
        },
        "id": "6Bqv6KXkGNoC",
        "outputId": "d9287068-bd2d-49ac-a7a8-1443a0ccd28b"
      },
      "source": [
        "news_articles.head(10)"
      ],
      "execution_count": 6,
      "outputs": [
        {
          "output_type": "execute_result",
          "data": {
            "text/html": [
              "<div>\n",
              "<style scoped>\n",
              "    .dataframe tbody tr th:only-of-type {\n",
              "        vertical-align: middle;\n",
              "    }\n",
              "\n",
              "    .dataframe tbody tr th {\n",
              "        vertical-align: top;\n",
              "    }\n",
              "\n",
              "    .dataframe thead th {\n",
              "        text-align: right;\n",
              "    }\n",
              "</style>\n",
              "<table border=\"1\" class=\"dataframe\">\n",
              "  <thead>\n",
              "    <tr style=\"text-align: right;\">\n",
              "      <th></th>\n",
              "      <th>Unnamed: 0</th>\n",
              "      <th>Id</th>\n",
              "      <th>title</th>\n",
              "      <th>time</th>\n",
              "      <th>keywords</th>\n",
              "      <th>data source</th>\n",
              "      <th>category</th>\n",
              "      <th>country</th>\n",
              "      <th>source URL</th>\n",
              "      <th>body</th>\n",
              "      <th>language</th>\n",
              "    </tr>\n",
              "  </thead>\n",
              "  <tbody>\n",
              "    <tr>\n",
              "      <th>0</th>\n",
              "      <td>0</td>\n",
              "      <td>DR-2014-000109-CHN</td>\n",
              "      <td>Worst drought in 63 years hits Liaoning provin...</td>\n",
              "      <td>2014-08-14 07:00:00+00:00</td>\n",
              "      <td>['averaged', 'liaoning', 'hits', 'dry', 'droug...</td>\n",
              "      <td>news article</td>\n",
              "      <td>drought</td>\n",
              "      <td>China</td>\n",
              "      <td>https://www.scmp.com/news/china/article/157349...</td>\n",
              "      <td>Liaoning averaged 90mm across the province in ...</td>\n",
              "      <td>English</td>\n",
              "    </tr>\n",
              "    <tr>\n",
              "      <th>1</th>\n",
              "      <td>1</td>\n",
              "      <td>DR-2014-000109-CHN</td>\n",
              "      <td>In Time Of Drought, U.S. West's Alfalfa Export...</td>\n",
              "      <td>2014-08-12 07:00:00+00:00</td>\n",
              "      <td>['criticized', 'river', 'drought', 'farmers', ...</td>\n",
              "      <td>news article</td>\n",
              "      <td>drought</td>\n",
              "      <td>China</td>\n",
              "      <td>https://www.npr.org/2014/08/12/339753108/in-ti...</td>\n",
              "      <td>In Time Of Drought, U.S. West's Alfalfa Export...</td>\n",
              "      <td>English</td>\n",
              "    </tr>\n",
              "    <tr>\n",
              "      <th>2</th>\n",
              "      <td>2</td>\n",
              "      <td>DR-2014-000109-CHN</td>\n",
              "      <td>More Chinese on the Coast, Less Fish in the Se...</td>\n",
              "      <td>2014-08-08 07:00:00+00:00</td>\n",
              "      <td>['bertness', 'chinese', 'research', 'sea', 'ec...</td>\n",
              "      <td>news article</td>\n",
              "      <td>none</td>\n",
              "      <td>China</td>\n",
              "      <td>https://www.scientificamerican.com/article/mor...</td>\n",
              "      <td>China's booming economic growth is helping to ...</td>\n",
              "      <td>English</td>\n",
              "    </tr>\n",
              "    <tr>\n",
              "      <th>3</th>\n",
              "      <td>3</td>\n",
              "      <td>DR-2014-000109-CHN</td>\n",
              "      <td>Climate change and drought in ancient times - ...</td>\n",
              "      <td>2014-08-11 07:00:00+00:00</td>\n",
              "      <td>['climate', 'drought', 'ancient', 'agriculture...</td>\n",
              "      <td>news article</td>\n",
              "      <td>drought</td>\n",
              "      <td>China</td>\n",
              "      <td>https://www.sciencedaily.com/releases/2014/08/...</td>\n",
              "      <td>The influence of climate on agriculture is bel...</td>\n",
              "      <td>English</td>\n",
              "    </tr>\n",
              "    <tr>\n",
              "      <th>4</th>\n",
              "      <td>4</td>\n",
              "      <td>DR-2014-000109-CHN</td>\n",
              "      <td>California's severe drought unchanged despite ...</td>\n",
              "      <td>2014-08-07 07:00:00+00:00</td>\n",
              "      <td>['drought', 'states', 'rain', 'despite', 'cali...</td>\n",
              "      <td>news article</td>\n",
              "      <td>drought</td>\n",
              "      <td>China</td>\n",
              "      <td>https://www.latimes.com/local/lanow/la-me-ln-r...</td>\n",
              "      <td>A series of thunderstorms that have hit Califo...</td>\n",
              "      <td>English</td>\n",
              "    </tr>\n",
              "    <tr>\n",
              "      <th>5</th>\n",
              "      <td>5</td>\n",
              "      <td>DR-2014-000109-CHN</td>\n",
              "      <td>California Drought Helps Rim Fire Recovery - C...</td>\n",
              "      <td>2014-08-11 07:00:00+00:00</td>\n",
              "      <td>['soil', 'recovery', 'large', 'drought', 'fore...</td>\n",
              "      <td>news article</td>\n",
              "      <td>drought</td>\n",
              "      <td>China</td>\n",
              "      <td>https://www.circleofblue.org/2014/world/califo...</td>\n",
              "      <td>Little rain is not a problem for land managers...</td>\n",
              "      <td>English</td>\n",
              "    </tr>\n",
              "    <tr>\n",
              "      <th>6</th>\n",
              "      <td>6</td>\n",
              "      <td>DR-2014-000109-CHN</td>\n",
              "      <td>Bottled Water Comes From the Most Drought-Ridd...</td>\n",
              "      <td>2014-08-11 07:00:00+00:00</td>\n",
              "      <td>['industry', 'bottled', 'tap', 'places', 'drou...</td>\n",
              "      <td>news article</td>\n",
              "      <td>drought</td>\n",
              "      <td>China</td>\n",
              "      <td>https://www.motherjones.com/environment/2014/0...</td>\n",
              "      <td>\\n\\n\\n\\nUpdate, 4/13/15: This article has been...</td>\n",
              "      <td>English</td>\n",
              "    </tr>\n",
              "    <tr>\n",
              "      <th>7</th>\n",
              "      <td>7</td>\n",
              "      <td>DR-2014-000109-CHN</td>\n",
              "      <td>End of Volvo product drought is near - Automot...</td>\n",
              "      <td>2014-08-04 07:00:00+00:00</td>\n",
              "      <td>['v40', 'drought', 'platform', 'wagon', 'relea...</td>\n",
              "      <td>news article</td>\n",
              "      <td>none</td>\n",
              "      <td>China</td>\n",
              "      <td>https://www.autonews.com/article/20140804/OEM0...</td>\n",
              "      <td>\"It will be in the first time in the history o...</td>\n",
              "      <td>English</td>\n",
              "    </tr>\n",
              "    <tr>\n",
              "      <th>8</th>\n",
              "      <td>8</td>\n",
              "      <td>DR-2014-000109-CHN</td>\n",
              "      <td>For groundwater, local management proves effec...</td>\n",
              "      <td>2014-08-06 07:00:00+00:00</td>\n",
              "      <td>['district', 'basin', 'management', 'proves', ...</td>\n",
              "      <td>news article</td>\n",
              "      <td>drought</td>\n",
              "      <td>China</td>\n",
              "      <td>https://www.agalert.com/story/?id=7007</td>\n",
              "      <td>For groundwater, local management proves effec...</td>\n",
              "      <td>English</td>\n",
              "    </tr>\n",
              "    <tr>\n",
              "      <th>9</th>\n",
              "      <td>9</td>\n",
              "      <td>DR-2014-000109-CHN</td>\n",
              "      <td>Drought conditions plague Aandhra Pradesh almo...</td>\n",
              "      <td>2014-08-10 07:00:00+00:00</td>\n",
              "      <td>['temperatures', 'ocean', 'season', 'pradesh',...</td>\n",
              "      <td>news article</td>\n",
              "      <td>drought</td>\n",
              "      <td>China</td>\n",
              "      <td>https://timesofindia.indiatimes.com/india/Drou...</td>\n",
              "      <td>VISAKHAPATNAM/ HYDERABAD: Even as the two stat...</td>\n",
              "      <td>English</td>\n",
              "    </tr>\n",
              "  </tbody>\n",
              "</table>\n",
              "</div>"
            ],
            "text/plain": [
              "   Unnamed: 0  ... language\n",
              "0           0  ...  English\n",
              "1           1  ...  English\n",
              "2           2  ...  English\n",
              "3           3  ...  English\n",
              "4           4  ...  English\n",
              "5           5  ...  English\n",
              "6           6  ...  English\n",
              "7           7  ...  English\n",
              "8           8  ...  English\n",
              "9           9  ...  English\n",
              "\n",
              "[10 rows x 11 columns]"
            ]
          },
          "metadata": {
            "tags": []
          },
          "execution_count": 6
        }
      ]
    },
    {
      "cell_type": "code",
      "metadata": {
        "colab": {
          "base_uri": "https://localhost:8080/"
        },
        "id": "Xscu6a6nrwKV",
        "outputId": "c2da38e5-59fe-4ee0-e869-c30fe7bf0368"
      },
      "source": [
        "news_articles.shape"
      ],
      "execution_count": 7,
      "outputs": [
        {
          "output_type": "execute_result",
          "data": {
            "text/plain": [
              "(2465, 11)"
            ]
          },
          "metadata": {
            "tags": []
          },
          "execution_count": 7
        }
      ]
    },
    {
      "cell_type": "code",
      "metadata": {
        "colab": {
          "base_uri": "https://localhost:8080/"
        },
        "id": "SEz3Mz5_sECK",
        "outputId": "e6defd51-f961-4641-84d9-13a517633ef4"
      },
      "source": [
        "news_articles.info()"
      ],
      "execution_count": 8,
      "outputs": [
        {
          "output_type": "stream",
          "text": [
            "<class 'pandas.core.frame.DataFrame'>\n",
            "RangeIndex: 2465 entries, 0 to 2464\n",
            "Data columns (total 11 columns):\n",
            " #   Column       Non-Null Count  Dtype \n",
            "---  ------       --------------  ----- \n",
            " 0   Unnamed: 0   2465 non-null   int64 \n",
            " 1   Id           2465 non-null   object\n",
            " 2   title        2465 non-null   object\n",
            " 3   time         2465 non-null   object\n",
            " 4   keywords     2465 non-null   object\n",
            " 5   data source  2465 non-null   object\n",
            " 6   category     2465 non-null   object\n",
            " 7   country      2465 non-null   object\n",
            " 8   source URL   2465 non-null   object\n",
            " 9   body         2465 non-null   object\n",
            " 10  language     2465 non-null   object\n",
            "dtypes: int64(1), object(10)\n",
            "memory usage: 212.0+ KB\n"
          ],
          "name": "stdout"
        }
      ]
    },
    {
      "cell_type": "code",
      "metadata": {
        "id": "8ST3Dl2xwVa8"
      },
      "source": [
        "drop_columns = ['Unnamed: 0', 'time', 'keywords', 'data source', 'country', 'source URL', 'language', 'Id']\n",
        "news_articles_clean = news_articles.drop(columns=drop_columns,axis=1)"
      ],
      "execution_count": 9,
      "outputs": []
    },
    {
      "cell_type": "code",
      "metadata": {
        "colab": {
          "base_uri": "https://localhost:8080/",
          "height": 203
        },
        "id": "1qk71w-IwVxB",
        "outputId": "95204151-0472-4fa9-e1de-e4e929be784c"
      },
      "source": [
        "news_articles_clean.head(5)"
      ],
      "execution_count": 10,
      "outputs": [
        {
          "output_type": "execute_result",
          "data": {
            "text/html": [
              "<div>\n",
              "<style scoped>\n",
              "    .dataframe tbody tr th:only-of-type {\n",
              "        vertical-align: middle;\n",
              "    }\n",
              "\n",
              "    .dataframe tbody tr th {\n",
              "        vertical-align: top;\n",
              "    }\n",
              "\n",
              "    .dataframe thead th {\n",
              "        text-align: right;\n",
              "    }\n",
              "</style>\n",
              "<table border=\"1\" class=\"dataframe\">\n",
              "  <thead>\n",
              "    <tr style=\"text-align: right;\">\n",
              "      <th></th>\n",
              "      <th>title</th>\n",
              "      <th>category</th>\n",
              "      <th>body</th>\n",
              "    </tr>\n",
              "  </thead>\n",
              "  <tbody>\n",
              "    <tr>\n",
              "      <th>0</th>\n",
              "      <td>Worst drought in 63 years hits Liaoning provin...</td>\n",
              "      <td>drought</td>\n",
              "      <td>Liaoning averaged 90mm across the province in ...</td>\n",
              "    </tr>\n",
              "    <tr>\n",
              "      <th>1</th>\n",
              "      <td>In Time Of Drought, U.S. West's Alfalfa Export...</td>\n",
              "      <td>drought</td>\n",
              "      <td>In Time Of Drought, U.S. West's Alfalfa Export...</td>\n",
              "    </tr>\n",
              "    <tr>\n",
              "      <th>2</th>\n",
              "      <td>More Chinese on the Coast, Less Fish in the Se...</td>\n",
              "      <td>none</td>\n",
              "      <td>China's booming economic growth is helping to ...</td>\n",
              "    </tr>\n",
              "    <tr>\n",
              "      <th>3</th>\n",
              "      <td>Climate change and drought in ancient times - ...</td>\n",
              "      <td>drought</td>\n",
              "      <td>The influence of climate on agriculture is bel...</td>\n",
              "    </tr>\n",
              "    <tr>\n",
              "      <th>4</th>\n",
              "      <td>California's severe drought unchanged despite ...</td>\n",
              "      <td>drought</td>\n",
              "      <td>A series of thunderstorms that have hit Califo...</td>\n",
              "    </tr>\n",
              "  </tbody>\n",
              "</table>\n",
              "</div>"
            ],
            "text/plain": [
              "                                               title  ...                                               body\n",
              "0  Worst drought in 63 years hits Liaoning provin...  ...  Liaoning averaged 90mm across the province in ...\n",
              "1  In Time Of Drought, U.S. West's Alfalfa Export...  ...  In Time Of Drought, U.S. West's Alfalfa Export...\n",
              "2  More Chinese on the Coast, Less Fish in the Se...  ...  China's booming economic growth is helping to ...\n",
              "3  Climate change and drought in ancient times - ...  ...  The influence of climate on agriculture is bel...\n",
              "4  California's severe drought unchanged despite ...  ...  A series of thunderstorms that have hit Califo...\n",
              "\n",
              "[5 rows x 3 columns]"
            ]
          },
          "metadata": {
            "tags": []
          },
          "execution_count": 10
        }
      ]
    },
    {
      "cell_type": "code",
      "metadata": {
        "colab": {
          "base_uri": "https://localhost:8080/"
        },
        "id": "lKB0K5l28_kD",
        "outputId": "6532d634-07c8-4575-8adc-12475bab2823"
      },
      "source": [
        "def preprocess(article):\n",
        "    \"\"\"\n",
        "    This function takes a string as input, then performs these operations: \n",
        "        - lowercase\n",
        "        - remove URLs\n",
        "        - remove ticker symbols \n",
        "        - removes punctuation\n",
        "        - removes any single character tokens\n",
        "    Parameters\n",
        "    ----------\n",
        "        message : The text message to be preprocessed\n",
        "    Returns\n",
        "    -------\n",
        "        text: The preprocessed text\n",
        "    \"\"\" \n",
        "    # Lowercase the article\n",
        "    text = article.lower()\n",
        "    # Replace URLs with a space in the message\n",
        "    text = re.sub('https?:\\/\\/[a-zA-Z0-9@:%._\\/+~#=?&;-]*', ' ', text)\n",
        "    # Replace ticker symbols with a space. The ticker symbols are any stock symbol that starts with $.\n",
        "    text = re.sub('\\$[a-zA-Z0-9]*', ' ', text)\n",
        "    text = re.sub('\\@[a-zA-Z0-9]*', ' ', text)\n",
        "    # Replace everything not a letter or apostrophe with a space\n",
        "    text = re.sub('[^a-zA-Z\\']', ' ', text)\n",
        "    # Remove single letter words\n",
        "    text = ' '.join( [w for w in text.split() if len(w)>1] )\n",
        "    \n",
        "    return text\n",
        "        \n",
        "# Process for all messages\n",
        "preprocessed = [preprocess(posts) for posts in tqdm(news_articles_clean['title'])]"
      ],
      "execution_count": 11,
      "outputs": [
        {
          "output_type": "stream",
          "text": [
            "100%|██████████| 2465/2465 [00:00<00:00, 73906.72it/s]\n"
          ],
          "name": "stderr"
        }
      ]
    },
    {
      "cell_type": "code",
      "metadata": {
        "id": "oqxz1l9U8_kL"
      },
      "source": [
        "news_articles_clean['Cleaned_title']= preprocessed"
      ],
      "execution_count": 12,
      "outputs": []
    },
    {
      "cell_type": "code",
      "metadata": {
        "colab": {
          "base_uri": "https://localhost:8080/",
          "height": 203
        },
        "id": "bv137Z_T2peW",
        "outputId": "2ff642f2-c411-437d-890d-6b2ab708dc08"
      },
      "source": [
        "news_articles_clean.head(5)"
      ],
      "execution_count": 13,
      "outputs": [
        {
          "output_type": "execute_result",
          "data": {
            "text/html": [
              "<div>\n",
              "<style scoped>\n",
              "    .dataframe tbody tr th:only-of-type {\n",
              "        vertical-align: middle;\n",
              "    }\n",
              "\n",
              "    .dataframe tbody tr th {\n",
              "        vertical-align: top;\n",
              "    }\n",
              "\n",
              "    .dataframe thead th {\n",
              "        text-align: right;\n",
              "    }\n",
              "</style>\n",
              "<table border=\"1\" class=\"dataframe\">\n",
              "  <thead>\n",
              "    <tr style=\"text-align: right;\">\n",
              "      <th></th>\n",
              "      <th>title</th>\n",
              "      <th>category</th>\n",
              "      <th>body</th>\n",
              "      <th>Cleaned_title</th>\n",
              "    </tr>\n",
              "  </thead>\n",
              "  <tbody>\n",
              "    <tr>\n",
              "      <th>0</th>\n",
              "      <td>Worst drought in 63 years hits Liaoning provin...</td>\n",
              "      <td>drought</td>\n",
              "      <td>Liaoning averaged 90mm across the province in ...</td>\n",
              "      <td>worst drought in years hits liaoning province ...</td>\n",
              "    </tr>\n",
              "    <tr>\n",
              "      <th>1</th>\n",
              "      <td>In Time Of Drought, U.S. West's Alfalfa Export...</td>\n",
              "      <td>drought</td>\n",
              "      <td>In Time Of Drought, U.S. West's Alfalfa Export...</td>\n",
              "      <td>in time of drought west's alfalfa exports are ...</td>\n",
              "    </tr>\n",
              "    <tr>\n",
              "      <th>2</th>\n",
              "      <td>More Chinese on the Coast, Less Fish in the Se...</td>\n",
              "      <td>none</td>\n",
              "      <td>China's booming economic growth is helping to ...</td>\n",
              "      <td>more chinese on the coast less fish in the sea...</td>\n",
              "    </tr>\n",
              "    <tr>\n",
              "      <th>3</th>\n",
              "      <td>Climate change and drought in ancient times - ...</td>\n",
              "      <td>drought</td>\n",
              "      <td>The influence of climate on agriculture is bel...</td>\n",
              "      <td>climate change and drought in ancient times sc...</td>\n",
              "    </tr>\n",
              "    <tr>\n",
              "      <th>4</th>\n",
              "      <td>California's severe drought unchanged despite ...</td>\n",
              "      <td>drought</td>\n",
              "      <td>A series of thunderstorms that have hit Califo...</td>\n",
              "      <td>california's severe drought unchanged despite ...</td>\n",
              "    </tr>\n",
              "  </tbody>\n",
              "</table>\n",
              "</div>"
            ],
            "text/plain": [
              "                                               title  ...                                      Cleaned_title\n",
              "0  Worst drought in 63 years hits Liaoning provin...  ...  worst drought in years hits liaoning province ...\n",
              "1  In Time Of Drought, U.S. West's Alfalfa Export...  ...  in time of drought west's alfalfa exports are ...\n",
              "2  More Chinese on the Coast, Less Fish in the Se...  ...  more chinese on the coast less fish in the sea...\n",
              "3  Climate change and drought in ancient times - ...  ...  climate change and drought in ancient times sc...\n",
              "4  California's severe drought unchanged despite ...  ...  california's severe drought unchanged despite ...\n",
              "\n",
              "[5 rows x 4 columns]"
            ]
          },
          "metadata": {
            "tags": []
          },
          "execution_count": 13
        }
      ]
    },
    {
      "cell_type": "markdown",
      "metadata": {
        "id": "V8j6mN8A6Qlh"
      },
      "source": [
        "**Class balancing for category column**"
      ]
    },
    {
      "cell_type": "code",
      "metadata": {
        "colab": {
          "base_uri": "https://localhost:8080/"
        },
        "id": "rplN2B66MumM",
        "outputId": "d176d6e6-7ec4-4199-ff56-df91882b1f61"
      },
      "source": [
        "news_articles_clean.category.value_counts()"
      ],
      "execution_count": 14,
      "outputs": [
        {
          "output_type": "execute_result",
          "data": {
            "text/plain": [
              "none              1078\n",
              "flood              977\n",
              "drought            299\n",
              "flood_drought       93\n",
              "tree                11\n",
              "climate_change       7\n",
              "Name: category, dtype: int64"
            ]
          },
          "metadata": {
            "tags": []
          },
          "execution_count": 14
        }
      ]
    },
    {
      "cell_type": "code",
      "metadata": {
        "colab": {
          "base_uri": "https://localhost:8080/"
        },
        "id": "JGNnDlEl5HEB",
        "outputId": "b6253fd1-ceb2-4bd4-b3ea-68c19a5275e7"
      },
      "source": [
        "news_articles_drought = news_articles_clean[news_articles_clean.category == 'drought']\n",
        "news_articles_drought.shape"
      ],
      "execution_count": 15,
      "outputs": [
        {
          "output_type": "execute_result",
          "data": {
            "text/plain": [
              "(299, 4)"
            ]
          },
          "metadata": {
            "tags": []
          },
          "execution_count": 15
        }
      ]
    },
    {
      "cell_type": "code",
      "metadata": {
        "colab": {
          "base_uri": "https://localhost:8080/"
        },
        "id": "W7g-02515HKA",
        "outputId": "0864e6bd-8e8a-455e-8663-03ab162ecec0"
      },
      "source": [
        "news_articles_none = news_articles_clean[news_articles_clean.category == 'none']\n",
        "news_articles_none.shape"
      ],
      "execution_count": 16,
      "outputs": [
        {
          "output_type": "execute_result",
          "data": {
            "text/plain": [
              "(1078, 4)"
            ]
          },
          "metadata": {
            "tags": []
          },
          "execution_count": 16
        }
      ]
    },
    {
      "cell_type": "code",
      "metadata": {
        "id": "lG6L-tGv5b_o"
      },
      "source": [
        "df_drought = shuffle(news_articles_drought)\n",
        "df_none = shuffle(news_articles_none)"
      ],
      "execution_count": 17,
      "outputs": []
    },
    {
      "cell_type": "code",
      "metadata": {
        "colab": {
          "base_uri": "https://localhost:8080/"
        },
        "id": "ZgDDrT1U5cJe",
        "outputId": "c6d151f6-9304-46e3-c4a2-f45f71dffe61"
      },
      "source": [
        "news_articles_train_d= df_drought.head(239)\n",
        "news_articles_train_d.shape"
      ],
      "execution_count": 18,
      "outputs": [
        {
          "output_type": "execute_result",
          "data": {
            "text/plain": [
              "(239, 4)"
            ]
          },
          "metadata": {
            "tags": []
          },
          "execution_count": 18
        }
      ]
    },
    {
      "cell_type": "code",
      "metadata": {
        "colab": {
          "base_uri": "https://localhost:8080/"
        },
        "id": "KzIJVK9-6Fvu",
        "outputId": "b0914ea4-d3e0-4c37-a26f-b4a871720451"
      },
      "source": [
        "news_articles_train_n= df_none.head(239)\n",
        "news_articles_train_n.shape"
      ],
      "execution_count": 19,
      "outputs": [
        {
          "output_type": "execute_result",
          "data": {
            "text/plain": [
              "(239, 4)"
            ]
          },
          "metadata": {
            "tags": []
          },
          "execution_count": 19
        }
      ]
    },
    {
      "cell_type": "code",
      "metadata": {
        "colab": {
          "base_uri": "https://localhost:8080/"
        },
        "id": "WyFBr7KgBxRB",
        "outputId": "72d02216-acfd-4162-bf11-29185a642b21"
      },
      "source": [
        "news_articles_test_d= df_drought.tail(60)\n",
        "news_articles_test_d.shape"
      ],
      "execution_count": 20,
      "outputs": [
        {
          "output_type": "execute_result",
          "data": {
            "text/plain": [
              "(60, 4)"
            ]
          },
          "metadata": {
            "tags": []
          },
          "execution_count": 20
        }
      ]
    },
    {
      "cell_type": "code",
      "metadata": {
        "colab": {
          "base_uri": "https://localhost:8080/"
        },
        "id": "EDUr_PtlByJr",
        "outputId": "c4eeb076-910d-452e-b251-3e7bbd7267e5"
      },
      "source": [
        "news_articles_test_n= df_none.tail(60)\n",
        "news_articles_test_n.shape"
      ],
      "execution_count": 21,
      "outputs": [
        {
          "output_type": "execute_result",
          "data": {
            "text/plain": [
              "(60, 4)"
            ]
          },
          "metadata": {
            "tags": []
          },
          "execution_count": 21
        }
      ]
    },
    {
      "cell_type": "code",
      "metadata": {
        "colab": {
          "base_uri": "https://localhost:8080/"
        },
        "id": "Apm28Ws56kPR",
        "outputId": "6845f452-4d26-479c-c34e-8adf674aad28"
      },
      "source": [
        "#concatenating\n",
        "news_articles_train =pd.concat([news_articles_train_d,news_articles_train_n], ignore_index=True)\n",
        "news_articles_train = shuffle(news_articles_train)\n",
        "news_articles_train.shape"
      ],
      "execution_count": 22,
      "outputs": [
        {
          "output_type": "execute_result",
          "data": {
            "text/plain": [
              "(478, 4)"
            ]
          },
          "metadata": {
            "tags": []
          },
          "execution_count": 22
        }
      ]
    },
    {
      "cell_type": "code",
      "metadata": {
        "colab": {
          "base_uri": "https://localhost:8080/"
        },
        "id": "64bAI_Md6tEJ",
        "outputId": "3c107daf-e3b1-413e-b97d-48c1adcc7dbe"
      },
      "source": [
        "news_articles_train.category.value_counts()"
      ],
      "execution_count": 23,
      "outputs": [
        {
          "output_type": "execute_result",
          "data": {
            "text/plain": [
              "drought    239\n",
              "none       239\n",
              "Name: category, dtype: int64"
            ]
          },
          "metadata": {
            "tags": []
          },
          "execution_count": 23
        }
      ]
    },
    {
      "cell_type": "code",
      "metadata": {
        "colab": {
          "base_uri": "https://localhost:8080/"
        },
        "id": "XhX-IBcJCFaq",
        "outputId": "7dccf73d-dd53-400d-b24e-3c32af046512"
      },
      "source": [
        "#concatenating\n",
        "news_articles_test =pd.concat([news_articles_test_d,news_articles_test_n], ignore_index=True)\n",
        "news_articles_test = shuffle(news_articles_test)\n",
        "news_articles_test.shape"
      ],
      "execution_count": 24,
      "outputs": [
        {
          "output_type": "execute_result",
          "data": {
            "text/plain": [
              "(120, 4)"
            ]
          },
          "metadata": {
            "tags": []
          },
          "execution_count": 24
        }
      ]
    },
    {
      "cell_type": "code",
      "metadata": {
        "id": "bx-g3L__6tGx"
      },
      "source": [
        "#changing the type from object to category\n",
        "news_articles_train['category']=news_articles_train['category'].astype('category')\n",
        "news_articles_test['category']=news_articles_test['category'].astype('category')"
      ],
      "execution_count": 25,
      "outputs": []
    },
    {
      "cell_type": "code",
      "metadata": {
        "colab": {
          "base_uri": "https://localhost:8080/"
        },
        "id": "axH7VF0j6tJp",
        "outputId": "2b3a3148-1f94-40f5-bf39-208b28ee79ad"
      },
      "source": [
        "# Get the numerical ids of column label\n",
        "numerical_ids_train = news_articles_train.category.cat.codes\n",
        "numerical_ids_test = news_articles_test.category.cat.codes\n",
        "\n",
        "# Print initial shape\n",
        "print(numerical_ids_train.shape)\n",
        "print(numerical_ids_test.shape)"
      ],
      "execution_count": 26,
      "outputs": [
        {
          "output_type": "stream",
          "text": [
            "(478,)\n",
            "(120,)\n"
          ],
          "name": "stdout"
        }
      ]
    },
    {
      "cell_type": "code",
      "metadata": {
        "colab": {
          "base_uri": "https://localhost:8080/"
        },
        "id": "yCpkynZHspx7",
        "outputId": "ba2a5e35-68ec-44ea-f6d7-7fd2d5b26eb2"
      },
      "source": [
        "le = LabelEncoder()\n",
        "Y = le.fit_transform(news_articles_test['category'].values)\n",
        "Y_test = le.transform(news_articles_train['category'].values)\n",
        "len(le.classes_)"
      ],
      "execution_count": 27,
      "outputs": [
        {
          "output_type": "execute_result",
          "data": {
            "text/plain": [
              "2"
            ]
          },
          "metadata": {
            "tags": []
          },
          "execution_count": 27
        }
      ]
    },
    {
      "cell_type": "code",
      "metadata": {
        "colab": {
          "base_uri": "https://localhost:8080/"
        },
        "id": "VscyBUMAv_H4",
        "outputId": "4aeac0a1-6fc7-401f-b526-07209a986682"
      },
      "source": [
        "# One-hot encode the indexes\n",
        "Y = to_categorical(numerical_ids_train)\n",
        "Y_test = to_categorical(numerical_ids_test)\n",
        "\n",
        "# Check the new shape of the variable\n",
        "print(Y.shape)\n",
        "print(Y_test.shape)\n",
        "\n",
        "# Print the first 5 rows\n",
        "print(Y[:5])"
      ],
      "execution_count": 28,
      "outputs": [
        {
          "output_type": "stream",
          "text": [
            "(478, 2)\n",
            "(120, 2)\n",
            "[[1. 0.]\n",
            " [0. 1.]\n",
            " [1. 0.]\n",
            " [0. 1.]\n",
            " [0. 1.]]\n"
          ],
          "name": "stdout"
        }
      ]
    },
    {
      "cell_type": "markdown",
      "metadata": {
        "id": "w0-a0E8q9kc0"
      },
      "source": [
        "**fit_on_texts:** Updates internal vocabulary based on a list of texts. This method creates the vocabulary index based on word frequency. So if you give it something like, \"The cat sat on the mat.\" It will create a dictionary s.t. word_index[\"the\"] = 1; word_index[\"cat\"] = 2 it is word -> index dictionary so every word gets a unique integer value. 0 is reserved for padding. So lower integer means more frequent word (often the first few are stop words because they appear a lot).\n",
        "\n",
        "\n",
        "**texts_to_sequences:** Transforms each text in texts to a sequence of integers. So it basically takes each word in the text and replaces it with its corresponding integer value from the word_index dictionary. Nothing more, nothing less, certainly no magic involved."
      ]
    },
    {
      "cell_type": "code",
      "metadata": {
        "colab": {
          "base_uri": "https://localhost:8080/"
        },
        "id": "fSv37vLW8IAd",
        "outputId": "97dfe7a1-c1d7-413c-94d9-f10fd7f95741"
      },
      "source": [
        "tokenizer = Tokenizer()\n",
        "tokenizer.fit_on_texts(news_articles_train.Cleaned_title)\n",
        "# Create the (X, Y) variables\n",
        "X = tokenizer.texts_to_sequences(news_articles_train.Cleaned_title)\n",
        "X = pad_sequences(X, maxlen=20)\n",
        "#Y = to_categorical(news_articles_train.category)\n",
        "# Print the shapes\n",
        "print(X.shape)\n",
        "print(Y.shape)"
      ],
      "execution_count": 29,
      "outputs": [
        {
          "output_type": "stream",
          "text": [
            "(478, 20)\n",
            "(478, 2)\n"
          ],
          "name": "stdout"
        }
      ]
    },
    {
      "cell_type": "code",
      "metadata": {
        "colab": {
          "base_uri": "https://localhost:8080/"
        },
        "id": "5gOxU0T3Cz5Z",
        "outputId": "2c43d933-acff-4ac0-8220-b9bf4506dafb"
      },
      "source": [
        "X_test = tokenizer.texts_to_sequences(news_articles_test.Cleaned_title)\n",
        "X_test = pad_sequences(X_test, maxlen=20)\n",
        "#Y_test = to_categorical(news_articles_test.category)\n",
        "print(X_test.shape)\n",
        "print(Y_test.shape)"
      ],
      "execution_count": 30,
      "outputs": [
        {
          "output_type": "stream",
          "text": [
            "(120, 20)\n",
            "(120, 2)\n"
          ],
          "name": "stdout"
        }
      ]
    },
    {
      "cell_type": "code",
      "metadata": {
        "id": "9O298GsZtPxu"
      },
      "source": [
        "import pickle\n",
        "with open(\"tokenizer_newsarticles_drought.pkl\", 'wb') as file:\n",
        "    pickle.dump(tokenizer, file, protocol=pickle.HIGHEST_PROTOCOL)\n",
        "with open(\"label_encoder_newsarticles_drought.pkl\", 'wb') as file:\n",
        "    pickle.dump(le, file, protocol=pickle.HIGHEST_PROTOCOL)"
      ],
      "execution_count": 31,
      "outputs": []
    },
    {
      "cell_type": "code",
      "metadata": {
        "colab": {
          "base_uri": "https://localhost:8080/"
        },
        "id": "-bF8vGGwmR_D",
        "outputId": "c873b507-ab85-4537-cad7-01b665303b8d"
      },
      "source": [
        "MAX_SEQUENCE_LENGTH = 100\n",
        "MAX_NB_WORDS = 3000\n",
        "EMBEDDING_DIM = 300\n",
        "num_lstm = np.random.randint(175, 275)\n",
        "num_dense = np.random.randint(100, 150)\n",
        "rate_drop_lstm = 0.15 + np.random.rand() * 0.25\n",
        "rate_drop_dense = 0.15 + np.random.rand() * 0.25\n",
        "\n",
        "word_index = tokenizer.word_index\n",
        "print('Found %s unique tokens.' % len(word_index))"
      ],
      "execution_count": 32,
      "outputs": [
        {
          "output_type": "stream",
          "text": [
            "Found 2213 unique tokens.\n"
          ],
          "name": "stdout"
        }
      ]
    },
    {
      "cell_type": "code",
      "metadata": {
        "id": "9bNAmpIbl5R3"
      },
      "source": [
        "EMBEDDING_FILE= '/content/gdrive/MyDrive/GoogleNews-vectors-negative300.bin.gz'"
      ],
      "execution_count": 33,
      "outputs": []
    },
    {
      "cell_type": "code",
      "metadata": {
        "colab": {
          "base_uri": "https://localhost:8080/"
        },
        "id": "8G3yh2ZeeJLX",
        "outputId": "2cebf959-e413-41ff-9fec-ee79a87d7833"
      },
      "source": [
        "from gensim.models import KeyedVectors\n",
        "\n",
        "print('Indexing word vectors')\n",
        "word2vec = KeyedVectors.load_word2vec_format(EMBEDDING_FILE,binary=True)\n",
        "print('Found %s word vectors of word2vec' % len(word2vec.vocab))\n",
        "\n",
        "print('Preparing embedding matrix')\n",
        "\n",
        "nb_words = min(MAX_NB_WORDS, len(word_index))+1\n",
        "\n",
        "embedding_matrix = np.zeros((nb_words, EMBEDDING_DIM))\n",
        "for word, i in word_index.items():\n",
        "    if word in word2vec.vocab:\n",
        "        embedding_matrix[i] = word2vec.word_vec(word)\n",
        "print('Null word embeddings: %d' % np.sum(np.sum(embedding_matrix, axis=1) == 0))"
      ],
      "execution_count": 34,
      "outputs": [
        {
          "output_type": "stream",
          "text": [
            "Indexing word vectors\n",
            "Found 3000000 word vectors of word2vec\n",
            "Preparing embedding matrix\n",
            "Null word embeddings: 315\n"
          ],
          "name": "stdout"
        }
      ]
    },
    {
      "cell_type": "code",
      "metadata": {
        "id": "fSLpnz6Dt_sY"
      },
      "source": [
        "import numpy as np\n",
        "np.save('embedding_matrix_newsarticles_drought.npy' , embedding_matrix)"
      ],
      "execution_count": 35,
      "outputs": []
    },
    {
      "cell_type": "code",
      "metadata": {
        "id": "oqV6IL5crMmG"
      },
      "source": [
        "from keras.optimizers import SGD,Adam\n",
        "opt = SGD(learning_rate=0.01)\n",
        "opt1= Adam(learning_rate=0.0001) "
      ],
      "execution_count": 36,
      "outputs": []
    },
    {
      "cell_type": "code",
      "metadata": {
        "colab": {
          "base_uri": "https://localhost:8080/"
        },
        "id": "UaFf8PXhni4H",
        "outputId": "21973493-2ddb-4c8e-ffb9-ac69f9d81f57"
      },
      "source": [
        "model= Sequential()\n",
        "model.add(Embedding(nb_words,EMBEDDING_DIM,weights=[embedding_matrix],input_length=MAX_SEQUENCE_LENGTH,trainable=False))\n",
        "model.add(LSTM(num_lstm, dropout=rate_drop_lstm, recurrent_dropout=rate_drop_lstm))\n",
        "model.add(Dense(32,activation='relu'))\n",
        "model.add(Dense(2,activation='softmax'))\n",
        "model.compile(optimizer=opt1,loss='categorical_crossentropy', metrics=['accuracy'])\n",
        "model.summary()"
      ],
      "execution_count": 37,
      "outputs": [
        {
          "output_type": "stream",
          "text": [
            "Model: \"sequential\"\n",
            "_________________________________________________________________\n",
            "Layer (type)                 Output Shape              Param #   \n",
            "=================================================================\n",
            "embedding (Embedding)        (None, 100, 300)          664200    \n",
            "_________________________________________________________________\n",
            "lstm (LSTM)                  (None, 264)               596640    \n",
            "_________________________________________________________________\n",
            "dense (Dense)                (None, 32)                8480      \n",
            "_________________________________________________________________\n",
            "dense_1 (Dense)              (None, 2)                 66        \n",
            "=================================================================\n",
            "Total params: 1,269,386\n",
            "Trainable params: 605,186\n",
            "Non-trainable params: 664,200\n",
            "_________________________________________________________________\n"
          ],
          "name": "stdout"
        }
      ]
    },
    {
      "cell_type": "code",
      "metadata": {
        "id": "3VY2dgrBmfp2",
        "colab": {
          "base_uri": "https://localhost:8080/"
        },
        "outputId": "a2b9c228-b729-499f-cf19-b4f444a23081"
      },
      "source": [
        "epochs= 5\n",
        "batch_size= 12\n",
        "\n",
        "history= model.fit(X,Y,epochs=epochs,batch_size=batch_size,validation_split=0.1)"
      ],
      "execution_count": 38,
      "outputs": [
        {
          "output_type": "stream",
          "text": [
            "Epoch 1/5\n",
            "WARNING:tensorflow:Model was constructed with shape (None, 100) for input KerasTensor(type_spec=TensorSpec(shape=(None, 100), dtype=tf.float32, name='embedding_input'), name='embedding_input', description=\"created by layer 'embedding_input'\"), but it was called on an input with incompatible shape (None, 20).\n",
            "WARNING:tensorflow:Model was constructed with shape (None, 100) for input KerasTensor(type_spec=TensorSpec(shape=(None, 100), dtype=tf.float32, name='embedding_input'), name='embedding_input', description=\"created by layer 'embedding_input'\"), but it was called on an input with incompatible shape (None, 20).\n",
            "36/36 [==============================] - ETA: 0s - loss: 0.6877 - accuracy: 0.5500WARNING:tensorflow:Model was constructed with shape (None, 100) for input KerasTensor(type_spec=TensorSpec(shape=(None, 100), dtype=tf.float32, name='embedding_input'), name='embedding_input', description=\"created by layer 'embedding_input'\"), but it was called on an input with incompatible shape (12, 20).\n",
            "36/36 [==============================] - 37s 235ms/step - loss: 0.6875 - accuracy: 0.5506 - val_loss: 0.6671 - val_accuracy: 0.5833\n",
            "Epoch 2/5\n",
            "36/36 [==============================] - 7s 185ms/step - loss: 0.6461 - accuracy: 0.6951 - val_loss: 0.6184 - val_accuracy: 0.7083\n",
            "Epoch 3/5\n",
            "36/36 [==============================] - 7s 185ms/step - loss: 0.5696 - accuracy: 0.7766 - val_loss: 0.5121 - val_accuracy: 0.7917\n",
            "Epoch 4/5\n",
            "36/36 [==============================] - 7s 185ms/step - loss: 0.4741 - accuracy: 0.7815 - val_loss: 0.4278 - val_accuracy: 0.8125\n",
            "Epoch 5/5\n",
            "36/36 [==============================] - 7s 184ms/step - loss: 0.3958 - accuracy: 0.8267 - val_loss: 0.4356 - val_accuracy: 0.8125\n"
          ],
          "name": "stdout"
        }
      ]
    },
    {
      "cell_type": "code",
      "metadata": {
        "id": "m5_WHrTOqsV2",
        "colab": {
          "base_uri": "https://localhost:8080/",
          "height": 298
        },
        "outputId": "8db62b21-a767-4216-ac3f-f6d84cc903b0"
      },
      "source": [
        "plt.title('Loss')\n",
        "plt.plot(history.history['loss'], label='train')\n",
        "plt.plot(history.history['val_loss'], label='test')\n",
        "plt.legend()\n",
        "plt.show()"
      ],
      "execution_count": 39,
      "outputs": [
        {
          "output_type": "execute_result",
          "data": {
            "text/plain": [
              "Text(0.5, 1.0, 'Loss')"
            ]
          },
          "metadata": {
            "tags": []
          },
          "execution_count": 39
        },
        {
          "output_type": "execute_result",
          "data": {
            "text/plain": [
              "[<matplotlib.lines.Line2D at 0x7f48b62b4d50>]"
            ]
          },
          "metadata": {
            "tags": []
          },
          "execution_count": 39
        },
        {
          "output_type": "execute_result",
          "data": {
            "text/plain": [
              "[<matplotlib.lines.Line2D at 0x7f48b62b4d10>]"
            ]
          },
          "metadata": {
            "tags": []
          },
          "execution_count": 39
        },
        {
          "output_type": "execute_result",
          "data": {
            "text/plain": [
              "<matplotlib.legend.Legend at 0x7f48b68f3850>"
            ]
          },
          "metadata": {
            "tags": []
          },
          "execution_count": 39
        },
        {
          "output_type": "display_data",
          "data": {
            "image/png": "[encoded data removed]",
            "text/plain": [
              "<Figure size 432x288 with 1 Axes>"
            ]
          },
          "metadata": {
            "tags": [],
            "needs_background": "light"
          }
        }
      ]
    },
    {
      "cell_type": "code",
      "metadata": {
        "id": "uJJd3FLkqsWA",
        "colab": {
          "base_uri": "https://localhost:8080/",
          "height": 298
        },
        "outputId": "3a5508ad-5e60-4123-e7e9-80c03dfb092a"
      },
      "source": [
        "plt.title('Accuracy')\n",
        "plt.plot(history.history['accuracy'], label='train')\n",
        "plt.plot(history.history['val_accuracy'], label='test')\n",
        "plt.legend()\n",
        "plt.show()"
      ],
      "execution_count": 40,
      "outputs": [
        {
          "output_type": "execute_result",
          "data": {
            "text/plain": [
              "Text(0.5, 1.0, 'Accuracy')"
            ]
          },
          "metadata": {
            "tags": []
          },
          "execution_count": 40
        },
        {
          "output_type": "execute_result",
          "data": {
            "text/plain": [
              "[<matplotlib.lines.Line2D at 0x7f48b6ad2250>]"
            ]
          },
          "metadata": {
            "tags": []
          },
          "execution_count": 40
        },
        {
          "output_type": "execute_result",
          "data": {
            "text/plain": [
              "[<matplotlib.lines.Line2D at 0x7f48b6914510>]"
            ]
          },
          "metadata": {
            "tags": []
          },
          "execution_count": 40
        },
        {
          "output_type": "execute_result",
          "data": {
            "text/plain": [
              "<matplotlib.legend.Legend at 0x7f48b64e7310>"
            ]
          },
          "metadata": {
            "tags": []
          },
          "execution_count": 40
        },
        {
          "output_type": "display_data",
          "data": {
            "image/png": "[encoded data removed]",
            "text/plain": [
              "<Figure size 432x288 with 1 Axes>"
            ]
          },
          "metadata": {
            "tags": [],
            "needs_background": "light"
          }
        }
      ]
    },
    {
      "cell_type": "markdown",
      "metadata": {
        "id": "s_eq7qhhQhEP"
      },
      "source": [
        "**Predicting Data**"
      ]
    },
    {
      "cell_type": "code",
      "metadata": {
        "colab": {
          "base_uri": "https://localhost:8080/"
        },
        "id": "w1-C98a2-CcR",
        "outputId": "4fb68476-cac3-4363-d38b-3f551cbf38f1"
      },
      "source": [
        "y_pred = model.predict(X_test)"
      ],
      "execution_count": 41,
      "outputs": [
        {
          "output_type": "stream",
          "text": [
            "WARNING:tensorflow:Model was constructed with shape (None, 100) for input KerasTensor(type_spec=TensorSpec(shape=(None, 100), dtype=tf.float32, name='embedding_input'), name='embedding_input', description=\"created by layer 'embedding_input'\"), but it was called on an input with incompatible shape (None, 20).\n"
          ],
          "name": "stdout"
        }
      ]
    },
    {
      "cell_type": "code",
      "metadata": {
        "id": "AqY97S7d-ChF"
      },
      "source": [
        "import numpy as np\n",
        "y_pred=np.round(y_pred)"
      ],
      "execution_count": 42,
      "outputs": []
    },
    {
      "cell_type": "code",
      "metadata": {
        "id": "RbVtKsCnQmZF"
      },
      "source": [
        "y_pred = np.argmax(y_pred, axis=-1)"
      ],
      "execution_count": 43,
      "outputs": []
    },
    {
      "cell_type": "code",
      "metadata": {
        "id": "2sYb61dOQmb_"
      },
      "source": [
        "y_test = np.argmax(Y_test, axis=-1)"
      ],
      "execution_count": 44,
      "outputs": []
    },
    {
      "cell_type": "code",
      "metadata": {
        "colab": {
          "base_uri": "https://localhost:8080/"
        },
        "id": "gl7axW8RQmeg",
        "outputId": "61e2d667-9990-42e8-c27e-90d7eec79ed3"
      },
      "source": [
        "y_pred"
      ],
      "execution_count": 45,
      "outputs": [
        {
          "output_type": "execute_result",
          "data": {
            "text/plain": [
              "array([1, 1, 1, 0, 1, 1, 1, 1, 1, 1, 1, 0, 0, 0, 1, 0, 1, 1, 1, 1, 1, 1,\n",
              "       1, 1, 1, 1, 1, 1, 1, 1, 0, 1, 1, 1, 1, 0, 1, 0, 1, 0, 0, 0, 0, 1,\n",
              "       1, 0, 0, 0, 0, 1, 0, 1, 1, 1, 1, 0, 0, 0, 1, 0, 1, 0, 1, 1, 0, 1,\n",
              "       1, 1, 1, 0, 1, 0, 1, 0, 1, 0, 1, 1, 0, 0, 1, 1, 0, 1, 0, 1, 0, 1,\n",
              "       0, 1, 1, 0, 1, 0, 0, 1, 1, 0, 0, 0, 0, 0, 1, 1, 1, 1, 0, 1, 1, 1,\n",
              "       1, 0, 0, 0, 0, 1, 1, 1, 1, 1])"
            ]
          },
          "metadata": {
            "tags": []
          },
          "execution_count": 45
        }
      ]
    },
    {
      "cell_type": "code",
      "metadata": {
        "colab": {
          "base_uri": "https://localhost:8080/"
        },
        "id": "-EqrJG-SQmhm",
        "outputId": "9159bd70-73d7-446c-be6a-488f63d6c65e"
      },
      "source": [
        "# Accuracy\n",
        "print(accuracy_score(y_test, y_pred))"
      ],
      "execution_count": 46,
      "outputs": [
        {
          "output_type": "stream",
          "text": [
            "0.8333333333333334\n"
          ],
          "name": "stdout"
        }
      ]
    },
    {
      "cell_type": "code",
      "metadata": {
        "colab": {
          "base_uri": "https://localhost:8080/"
        },
        "id": "zuJiG5qLQmoP",
        "outputId": "a3744cf8-04d0-4494-e070-28a1d907ca06"
      },
      "source": [
        "lab_names = ['drought','none']\n",
        "print(classification_report(y_test, y_pred, target_names=lab_names))"
      ],
      "execution_count": 47,
      "outputs": [
        {
          "output_type": "stream",
          "text": [
            "              precision    recall  f1-score   support\n",
            "\n",
            "     drought       0.93      0.72      0.81        60\n",
            "        none       0.77      0.95      0.85        60\n",
            "\n",
            "    accuracy                           0.83       120\n",
            "   macro avg       0.85      0.83      0.83       120\n",
            "weighted avg       0.85      0.83      0.83       120\n",
            "\n"
          ],
          "name": "stdout"
        }
      ]
    },
    {
      "cell_type": "code",
      "metadata": {
        "colab": {
          "base_uri": "https://localhost:8080/"
        },
        "id": "730p9gL1QmqH",
        "outputId": "b4a40479-1eeb-4c9b-9959-9674d34c3345"
      },
      "source": [
        "print(precision_score(y_test, y_pred, average=None))\n",
        "print(recall_score(y_test, y_pred, average=None))\n",
        "print(f1_score(y_test, y_pred, average=None))"
      ],
      "execution_count": 48,
      "outputs": [
        {
          "output_type": "stream",
          "text": [
            "[0.93478261 0.77027027]\n",
            "[0.71666667 0.95      ]\n",
            "[0.81132075 0.85074627]\n"
          ],
          "name": "stdout"
        }
      ]
    },
    {
      "cell_type": "code",
      "metadata": {
        "id": "fFA_hOXm0e3x"
      },
      "source": [
        "model.save('LSTMClassifier_with_newarticles_drought.h5')"
      ],
      "execution_count": 49,
      "outputs": []
    },
    {
      "cell_type": "code",
      "metadata": {
        "id": "ZRKbQtqaz00o"
      },
      "source": [
        ""
      ],
      "execution_count": 49,
      "outputs": []
    }
  ]
}
