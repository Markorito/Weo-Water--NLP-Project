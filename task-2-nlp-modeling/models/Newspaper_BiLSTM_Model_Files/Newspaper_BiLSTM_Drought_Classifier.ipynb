{
 "cells": [
  {
   "cell_type": "code",
   "execution_count": 2,
   "metadata": {},
   "outputs": [
    {
     "name": "stderr",
     "output_type": "stream",
     "text": [
      "[nltk_data] Downloading package stopwords to\n",
      "[nltk_data]     /Users/askani.mohankrishna/nltk_data...\n",
      "[nltk_data]   Package stopwords is already up-to-date!\n",
      "[nltk_data] Downloading package wordnet to\n",
      "[nltk_data]     /Users/askani.mohankrishna/nltk_data...\n",
      "[nltk_data]   Package wordnet is already up-to-date!\n"
     ]
    }
   ],
   "source": [
    "import sys\n",
    "import time\n",
    "import warnings\n",
    "\n",
    "#!{sys.executable} -m pip install unidecode\n",
    "\n",
    "import pandas as pd\n",
    "import numpy as np\n",
    "import matplotlib.pyplot as plt\n",
    "#pre-processing\n",
    "import re\n",
    "import unidecode\n",
    "import nltk\n",
    "nltk.download('stopwords')\n",
    "nltk.download('wordnet')\n",
    "from bs4 import BeautifulSoup\n",
    "\n",
    "import torch\n",
    "import torch.nn as nn\n",
    "from torch.optim.optimizer import Optimizer\n",
    "import torch.nn.functional as F\n",
    "\n",
    "from sklearn import model_selection\n",
    "from sklearn.preprocessing import LabelEncoder, MinMaxScaler, OneHotEncoder\n",
    "from sklearn.pipeline import Pipeline\n",
    "from sklearn.compose import ColumnTransformer\n",
    "from sklearn.preprocessing import StandardScaler\n",
    "from keras.preprocessing.text import Tokenizer\n",
    "from keras.preprocessing.sequence import pad_sequences"
   ]
  },
  {
   "cell_type": "code",
   "execution_count": 3,
   "metadata": {},
   "outputs": [
    {
     "data": {
      "text/html": [
       "<div>\n",
       "<style scoped>\n",
       "    .dataframe tbody tr th:only-of-type {\n",
       "        vertical-align: middle;\n",
       "    }\n",
       "\n",
       "    .dataframe tbody tr th {\n",
       "        vertical-align: top;\n",
       "    }\n",
       "\n",
       "    .dataframe thead th {\n",
       "        text-align: right;\n",
       "    }\n",
       "</style>\n",
       "<table border=\"1\" class=\"dataframe\">\n",
       "  <thead>\n",
       "    <tr style=\"text-align: right;\">\n",
       "      <th></th>\n",
       "      <th>Unnamed: 0</th>\n",
       "      <th>Id</th>\n",
       "      <th>title</th>\n",
       "      <th>source URL</th>\n",
       "      <th>body</th>\n",
       "      <th>time</th>\n",
       "      <th>keywords</th>\n",
       "      <th>country</th>\n",
       "      <th>data source</th>\n",
       "      <th>language</th>\n",
       "    </tr>\n",
       "  </thead>\n",
       "  <tbody>\n",
       "    <tr>\n",
       "      <th>0</th>\n",
       "      <td>446</td>\n",
       "      <td>DR-2021-000022-AFG</td>\n",
       "      <td>US Airlift Targets 70000 Afghans Displaced by ...</td>\n",
       "      <td>https://reliefweb.int/report/afghanistan/us-ai...</td>\n",
       "      <td>Herat – Afghanistan is currently facing its wo...</td>\n",
       "      <td>2018-11-20 08:00:00+00:00</td>\n",
       "      <td>['afghans', 'displaced', 'airlift', 'iom', 'ba...</td>\n",
       "      <td>Afghanistan</td>\n",
       "      <td>news article</td>\n",
       "      <td>English</td>\n",
       "    </tr>\n",
       "    <tr>\n",
       "      <th>1</th>\n",
       "      <td>892</td>\n",
       "      <td>DR-2011-000121-CHN</td>\n",
       "      <td>Veteran ink artist's mountain of work on displ...</td>\n",
       "      <td>http://www.chinadaily.com.cn/cndy/2011-09/08/c...</td>\n",
       "      <td>Veteran ink artist's mountain of work on displ...</td>\n",
       "      <td>2011-09-08 07:00:00+00:00</td>\n",
       "      <td>['display', 'xue', 'ink', 'shanshui', 'veteran...</td>\n",
       "      <td>China</td>\n",
       "      <td>news article</td>\n",
       "      <td>English</td>\n",
       "    </tr>\n",
       "    <tr>\n",
       "      <th>2</th>\n",
       "      <td>602</td>\n",
       "      <td>Drought Sri Lanka</td>\n",
       "      <td>Contingency fund limit increased to fight drou...</td>\n",
       "      <td>https://www.thehindu.com/news/cities/mumbai/co...</td>\n",
       "      <td>State raises ceiling by ₹2,000 crore as Centra...</td>\n",
       "      <td>2019-02-13 08:00:00+00:00</td>\n",
       "      <td>['immediately', 'farmers', 'state', 'contingen...</td>\n",
       "      <td>Sri Lanka</td>\n",
       "      <td>news article</td>\n",
       "      <td>English</td>\n",
       "    </tr>\n",
       "    <tr>\n",
       "      <th>3</th>\n",
       "      <td>128</td>\n",
       "      <td>DR-2015-000134-SOM</td>\n",
       "      <td>6 Places Destroyed By Communism Often Blamed O...</td>\n",
       "      <td>https://thelibertarianrepublic.com/6-places-de...</td>\n",
       "      <td>Ethiopia\\n\\nIn 1974 a Marxist-Leninist militar...</td>\n",
       "      <td>2015-10-08 07:00:00+00:00</td>\n",
       "      <td>['blamed', 'chavez', 'destroyed', 'war', 'west...</td>\n",
       "      <td>Somalia</td>\n",
       "      <td>news article</td>\n",
       "      <td>English</td>\n",
       "    </tr>\n",
       "    <tr>\n",
       "      <th>4</th>\n",
       "      <td>5</td>\n",
       "      <td>DR-2014-000109-CHN</td>\n",
       "      <td>California Drought Helps Rim Fire Recovery - C...</td>\n",
       "      <td>https://www.circleofblue.org/2014/world/califo...</td>\n",
       "      <td>Little rain is not a problem for land managers...</td>\n",
       "      <td>2014-08-11 07:00:00+00:00</td>\n",
       "      <td>['soil', 'recovery', 'large', 'drought', 'fore...</td>\n",
       "      <td>China</td>\n",
       "      <td>news article</td>\n",
       "      <td>English</td>\n",
       "    </tr>\n",
       "  </tbody>\n",
       "</table>\n",
       "</div>"
      ],
      "text/plain": [
       "   Unnamed: 0                  Id  \\\n",
       "0         446  DR-2021-000022-AFG   \n",
       "1         892  DR-2011-000121-CHN   \n",
       "2         602   Drought Sri Lanka   \n",
       "3         128  DR-2015-000134-SOM   \n",
       "4           5  DR-2014-000109-CHN   \n",
       "\n",
       "                                               title  \\\n",
       "0  US Airlift Targets 70000 Afghans Displaced by ...   \n",
       "1  Veteran ink artist's mountain of work on displ...   \n",
       "2  Contingency fund limit increased to fight drou...   \n",
       "3  6 Places Destroyed By Communism Often Blamed O...   \n",
       "4  California Drought Helps Rim Fire Recovery - C...   \n",
       "\n",
       "                                          source URL  \\\n",
       "0  https://reliefweb.int/report/afghanistan/us-ai...   \n",
       "1  http://www.chinadaily.com.cn/cndy/2011-09/08/c...   \n",
       "2  https://www.thehindu.com/news/cities/mumbai/co...   \n",
       "3  https://thelibertarianrepublic.com/6-places-de...   \n",
       "4  https://www.circleofblue.org/2014/world/califo...   \n",
       "\n",
       "                                                body  \\\n",
       "0  Herat – Afghanistan is currently facing its wo...   \n",
       "1  Veteran ink artist's mountain of work on displ...   \n",
       "2  State raises ceiling by ₹2,000 crore as Centra...   \n",
       "3  Ethiopia\\n\\nIn 1974 a Marxist-Leninist militar...   \n",
       "4  Little rain is not a problem for land managers...   \n",
       "\n",
       "                        time  \\\n",
       "0  2018-11-20 08:00:00+00:00   \n",
       "1  2011-09-08 07:00:00+00:00   \n",
       "2  2019-02-13 08:00:00+00:00   \n",
       "3  2015-10-08 07:00:00+00:00   \n",
       "4  2014-08-11 07:00:00+00:00   \n",
       "\n",
       "                                            keywords      country  \\\n",
       "0  ['afghans', 'displaced', 'airlift', 'iom', 'ba...  Afghanistan   \n",
       "1  ['display', 'xue', 'ink', 'shanshui', 'veteran...        China   \n",
       "2  ['immediately', 'farmers', 'state', 'contingen...    Sri Lanka   \n",
       "3  ['blamed', 'chavez', 'destroyed', 'war', 'west...      Somalia   \n",
       "4  ['soil', 'recovery', 'large', 'drought', 'fore...        China   \n",
       "\n",
       "    data source language  \n",
       "0  news article  English  \n",
       "1  news article  English  \n",
       "2  news article  English  \n",
       "3  news article  English  \n",
       "4  news article  English  "
      ]
     },
     "execution_count": 3,
     "metadata": {},
     "output_type": "execute_result"
    }
   ],
   "source": [
    "train_data1 = pd.read_csv('dataset1/X_train.csv')\n",
    "train_data2 = pd.read_csv('dataset2/X_train.csv')\n",
    "\n",
    "train_data_final = pd.concat([train_data1,train_data2], axis=0)\n",
    "train_data_final.head()"
   ]
  },
  {
   "cell_type": "code",
   "execution_count": 4,
   "metadata": {
    "scrolled": true
   },
   "outputs": [
    {
     "data": {
      "text/plain": [
       "(268, 10)"
      ]
     },
     "execution_count": 4,
     "metadata": {},
     "output_type": "execute_result"
    }
   ],
   "source": [
    "train_data_final.shape"
   ]
  },
  {
   "cell_type": "code",
   "execution_count": 5,
   "metadata": {},
   "outputs": [
    {
     "name": "stdout",
     "output_type": "stream",
     "text": [
      "(268, 2)\n"
     ]
    },
    {
     "data": {
      "text/html": [
       "<div>\n",
       "<style scoped>\n",
       "    .dataframe tbody tr th:only-of-type {\n",
       "        vertical-align: middle;\n",
       "    }\n",
       "\n",
       "    .dataframe tbody tr th {\n",
       "        vertical-align: top;\n",
       "    }\n",
       "\n",
       "    .dataframe thead th {\n",
       "        text-align: right;\n",
       "    }\n",
       "</style>\n",
       "<table border=\"1\" class=\"dataframe\">\n",
       "  <thead>\n",
       "    <tr style=\"text-align: right;\">\n",
       "      <th></th>\n",
       "      <th>Unnamed: 0</th>\n",
       "      <th>category</th>\n",
       "    </tr>\n",
       "  </thead>\n",
       "  <tbody>\n",
       "    <tr>\n",
       "      <th>0</th>\n",
       "      <td>446</td>\n",
       "      <td>drought</td>\n",
       "    </tr>\n",
       "    <tr>\n",
       "      <th>1</th>\n",
       "      <td>892</td>\n",
       "      <td>none</td>\n",
       "    </tr>\n",
       "    <tr>\n",
       "      <th>2</th>\n",
       "      <td>602</td>\n",
       "      <td>drought</td>\n",
       "    </tr>\n",
       "    <tr>\n",
       "      <th>3</th>\n",
       "      <td>128</td>\n",
       "      <td>none</td>\n",
       "    </tr>\n",
       "    <tr>\n",
       "      <th>4</th>\n",
       "      <td>5</td>\n",
       "      <td>drought</td>\n",
       "    </tr>\n",
       "  </tbody>\n",
       "</table>\n",
       "</div>"
      ],
      "text/plain": [
       "   Unnamed: 0 category\n",
       "0         446  drought\n",
       "1         892     none\n",
       "2         602  drought\n",
       "3         128     none\n",
       "4           5  drought"
      ]
     },
     "execution_count": 5,
     "metadata": {},
     "output_type": "execute_result"
    }
   ],
   "source": [
    "train_labels1 = pd.read_csv('dataset1/y_train.csv')\n",
    "train_labels2 = pd.read_csv('dataset2/y_train.csv')\n",
    "train_labels = pd.concat([train_labels1,train_labels2],axis=0)\n",
    "print(train_labels.shape)\n",
    "train_labels.head()\n"
   ]
  },
  {
   "cell_type": "code",
   "execution_count": 6,
   "metadata": {},
   "outputs": [],
   "source": [
    "train_data = train_data_final['title'] + ' ' + train_data_final['body']"
   ]
  },
  {
   "cell_type": "code",
   "execution_count": 7,
   "metadata": {},
   "outputs": [
    {
     "data": {
      "text/plain": [
       "none       138\n",
       "drought    130\n",
       "Name: category, dtype: int64"
      ]
     },
     "execution_count": 7,
     "metadata": {},
     "output_type": "execute_result"
    }
   ],
   "source": [
    "train_labels['category'].value_counts()"
   ]
  },
  {
   "cell_type": "code",
   "execution_count": 8,
   "metadata": {},
   "outputs": [
    {
     "name": "stderr",
     "output_type": "stream",
     "text": [
      "100%|██████████| 268/268 [00:00<00:00, 2512.26it/s]\n"
     ]
    }
   ],
   "source": [
    "import re\n",
    "from tqdm import tqdm\n",
    "def preprocess(article):\n",
    "    \"\"\"\n",
    "    This function takes a string as input, then performs these operations: \n",
    "        - lowercase\n",
    "        - remove URLs\n",
    "        - remove ticker symbols \n",
    "        - removes punctuation\n",
    "        - removes any single character tokens\n",
    "    Parameters\n",
    "    ----------\n",
    "        message : The text message to be preprocessed\n",
    "    Returns\n",
    "    -------\n",
    "        text: The preprocessed text\n",
    "    \"\"\" \n",
    "    # Lowercase the article\n",
    "    text = article.lower()\n",
    "    # Replace URLs with a space in the message\n",
    "    text = re.sub('https?:\\/\\/[a-zA-Z0-9@:%._\\/+~#=?&;-]*', ' ', text)\n",
    "    # Replace ticker symbols with a space. The ticker symbols are any stock symbol that starts with $.\n",
    "    text = re.sub('\\$[a-zA-Z0-9]*', ' ', text)\n",
    "    text = re.sub('\\@[a-zA-Z0-9]*', ' ', text)\n",
    "    # Replace everything not a letter or apostrophe with a space\n",
    "    text = re.sub('[^a-zA-Z\\']', ' ', text)\n",
    "    # Remove single letter words\n",
    "    text = ' '.join( [w for w in text.split() if len(w)>1] )\n",
    "    \n",
    "    return text\n",
    "        \n",
    "# Process for all messages\n",
    "preprocessed = [preprocess(article) for article in tqdm(train_data)]"
   ]
  },
  {
   "cell_type": "code",
   "execution_count": 9,
   "metadata": {},
   "outputs": [
    {
     "data": {
      "text/plain": [
       "'us airlift targets afghans displaced by drought afghanistan reliefweb herat afghanistan is currently facing its worst drought in decades the afghanistan national disaster management authority andma and humanitarian partners have so far identified families individuals displaced in the western provinces of herat badghis and ghor between january and october of these per cent or close to individuals are children below the age of and per cent are below the age of five more than half of the displaced have settled in herat city per cent are in and around qala naw the provincial capital of badghis and the remaining two per cent in other provinces the displaced population is desperately poor and lack access to food water shelter and health services many are living in tents or in the open air with the onset of freezing winter temperatures usaid office of us foreign disaster assistance ofda is responding to the crisis with major airlift of aid including plastic sheeting blankets and kitchen sets to help families or individuals iom is organizing warehousing of the aid and its distribution in herat and badghis over the next three weeks the first of three aircraft carrying the aid landed in herat on saturday two more aircraft are scheduled to arrive in the coming days ambassador john bass speaking at herat airport welcomed the airlift the united states confirms its continuous support to the afghan people and we thank iom for cooperating with usaid ofda in helping thousands of displaced afghan families he said deputy governor of badghis malikzada also welcomed the aid but said that more would need to be done to alleviate suffering caused by the drought assistance also needs to be provided in places of origin through investment in the agricultural sector so that people can sustain themselves in their places of origin we do not want to establish camps in urban centres and create subsidized communities that permanently rely on aid for survival he said so far families have received non food relief items including blankets and household items and have received emergency shelter the assistance was distributed by iom unhcr ifrc drc irc and nrc unicef has committed to cover the needs of an additional families million people are in need of humanitarian assistance in of the most drought affected provinces in afghanistan un world food programme reported last week more information on iom assistance to afghans affected and displaced by natural disasters including drought can be found here watch this iom reporter video from chief of mission laurence hart in herat afghanistan for further information please contact eva schwoerer at iom afghanistan tel email eschwoerer int'"
      ]
     },
     "execution_count": 9,
     "metadata": {},
     "output_type": "execute_result"
    }
   ],
   "source": [
    "preprocessed[0]"
   ]
  },
  {
   "cell_type": "code",
   "execution_count": 10,
   "metadata": {},
   "outputs": [
    {
     "data": {
      "text/plain": [
       "{'us': 147,\n",
       " 'airlift': 3,\n",
       " 'targets': 7,\n",
       " 'afghans': 33,\n",
       " 'displaced': 133,\n",
       " 'by': 1045,\n",
       " 'drought': 786,\n",
       " 'afghanistan': 229,\n",
       " 'reliefweb': 44,\n",
       " 'herat': 67}"
      ]
     },
     "execution_count": 10,
     "metadata": {},
     "output_type": "execute_result"
    }
   ],
   "source": [
    "from collections import Counter\n",
    "counts = dict(Counter(word for sentence in preprocessed for word in sentence.split()))\n",
    "{k: counts[k] for k in list(counts)[:10]}"
   ]
  },
  {
   "cell_type": "code",
   "execution_count": 11,
   "metadata": {},
   "outputs": [
    {
     "name": "stderr",
     "output_type": "stream",
     "text": [
      "100%|██████████| 132/132 [00:00<00:00, 3145.78it/s]\n"
     ]
    }
   ],
   "source": [
    "data_test1 = pd.read_csv('dataset1/X_test.csv')\n",
    "data_test2 = pd.read_csv('dataset2/X_test.csv')\n",
    "\n",
    "data_test_final = pd.concat([data_test1,data_test2], axis=0)\n",
    "\n",
    "data_test = data_test_final['body'] + ' ' + data_test_final['title']\n",
    "data_test = [preprocess(article) for article in tqdm(data_test)]\n",
    "\n",
    "test_labels1 = pd.read_csv('dataset1/y_test.csv')\n",
    "test_labels2 = pd.read_csv('dataset2/y_test.csv')\n",
    "\n",
    "test_labels = pd.concat([test_labels1,test_labels2],axis=0)\n"
   ]
  },
  {
   "cell_type": "code",
   "execution_count": 12,
   "metadata": {},
   "outputs": [],
   "source": [
    "train_data_final.to_csv('train_data.csv',index=False)\n",
    "train_labels.to_csv('train_labels.csv',index=False)\n",
    "data_test_final.to_csv('test_data.csv',index=False)\n",
    "test_labels.to_csv('test_labels.csv',index=False)"
   ]
  },
  {
   "cell_type": "code",
   "execution_count": 13,
   "metadata": {},
   "outputs": [],
   "source": [
    "embed_size = 300 # how big is each word vector\n",
    "max_features = 15500 # how many unique words to use (i.e num rows in embedding vector)\n",
    "maxlen = 500 # max number of words in a content to use"
   ]
  },
  {
   "cell_type": "code",
   "execution_count": 14,
   "metadata": {},
   "outputs": [
    {
     "data": {
      "text/plain": [
       "2"
      ]
     },
     "execution_count": 14,
     "metadata": {},
     "output_type": "execute_result"
    }
   ],
   "source": [
    "## Tokenize the sentences\n",
    "tokenizer = Tokenizer(num_words=max_features)\n",
    "tokenizer.fit_on_texts(preprocessed)\n",
    "train_X = tokenizer.texts_to_sequences(preprocessed)\n",
    "test_X = tokenizer.texts_to_sequences(data_test)\n",
    "\n",
    "## Pad the sentences \n",
    "train_X = pad_sequences(train_X, maxlen=maxlen)\n",
    "test_X = pad_sequences(test_X, maxlen=maxlen)\n",
    "\n",
    "le = LabelEncoder()\n",
    "train_y = le.fit_transform(train_labels['category'].values)\n",
    "test_y = le.transform(test_labels['category'].values)\n",
    "len(le.classes_)"
   ]
  },
  {
   "cell_type": "code",
   "execution_count": 15,
   "metadata": {},
   "outputs": [
    {
     "data": {
      "text/plain": [
       "15604"
      ]
     },
     "execution_count": 15,
     "metadata": {},
     "output_type": "execute_result"
    }
   ],
   "source": [
    "len(tokenizer.word_index)"
   ]
  },
  {
   "cell_type": "code",
   "execution_count": 16,
   "metadata": {},
   "outputs": [],
   "source": [
    "import pickle\n",
    "with open(\"tokenizer_drought_v1_2.pkl\", 'wb') as file:\n",
    "    pickle.dump(tokenizer, file, protocol=pickle.HIGHEST_PROTOCOL)\n",
    "with open(\"label_encoder_drought_v1_2.pkl\", 'wb') as file:\n",
    "    pickle.dump(le, file, protocol=pickle.HIGHEST_PROTOCOL)"
   ]
  },
  {
   "cell_type": "code",
   "execution_count": 17,
   "metadata": {},
   "outputs": [
    {
     "name": "stderr",
     "output_type": "stream",
     "text": [
      "/Users/askani.mohankrishna/opt/anaconda3/lib/python3.8/site-packages/IPython/core/interactiveshell.py:3343: FutureWarning: arrays to stack must be passed as a \"sequence\" type such as list or tuple. Support for non-sequence iterables such as generators is deprecated as of NumPy 1.16 and will raise an error in the future.\n",
      "  exec(code_obj, self.user_global_ns, self.user_ns)\n"
     ]
    },
    {
     "data": {
      "text/plain": [
       "(15500, 300)"
      ]
     },
     "execution_count": 17,
     "metadata": {},
     "output_type": "execute_result"
    }
   ],
   "source": [
    "EMBEDDING_FILE = 'glove.840B.300d.txt'\n",
    "debug = 0\n",
    "def load_glove(word_index):\n",
    "    def get_coefs(word,*arr): return word, np.asarray(arr, dtype='float32')[:300]\n",
    "    embeddings_index = dict(get_coefs(*o.split(\" \")) for o in open(EMBEDDING_FILE))\n",
    "    del embeddings_index['PN']\n",
    "    \n",
    "    all_embs = np.stack(embeddings_index.values())\n",
    "    emb_mean,emb_std = -0.005838499,0.48782197\n",
    "    embed_size = all_embs.shape[1]\n",
    "\n",
    "    nb_words = min(max_features, len(word_index)+1)\n",
    "    embedding_matrix = np.random.normal(emb_mean, emb_std, (nb_words, embed_size))\n",
    "    \n",
    "    for word, i in word_index.items():\n",
    "        if i >= max_features: continue\n",
    "        embedding_vector = embeddings_index.get(word)\n",
    "        if embedding_vector is not None: \n",
    "            embedding_matrix[i] = embedding_vector\n",
    "        else:\n",
    "            embedding_vector = embeddings_index.get(word.capitalize())\n",
    "            if embedding_vector is not None: \n",
    "                embedding_matrix[i] = embedding_vector\n",
    "    return embedding_matrix\n",
    "\n",
    "if debug:\n",
    "    embedding_matrix = np.random.randn(max_features,embed_size)\n",
    "else:\n",
    "    embedding_matrix = load_glove(tokenizer.word_index)\n",
    "np.shape(embedding_matrix)"
   ]
  },
  {
   "cell_type": "code",
   "execution_count": 18,
   "metadata": {},
   "outputs": [],
   "source": [
    "import numpy as np\n",
    "np.save('embedding_matrix__drought_v1_2.npy' , embedding_matrix)"
   ]
  },
  {
   "cell_type": "code",
   "execution_count": 19,
   "metadata": {},
   "outputs": [
    {
     "data": {
      "text/plain": [
       "0"
      ]
     },
     "execution_count": 19,
     "metadata": {},
     "output_type": "execute_result"
    }
   ],
   "source": [
    "train_X1 = train_X[:2]\n",
    "\n",
    "#Paste num in self.extra_features below \n",
    "train_X1.shape[1] - maxlen"
   ]
  },
  {
   "cell_type": "code",
   "execution_count": 20,
   "metadata": {},
   "outputs": [],
   "source": [
    "class BiLSTM(nn.Module): \n",
    "    def __init__(self):\n",
    "        super(BiLSTM, self).__init__()\n",
    "        self.hidden_size_1 = 64\n",
    "        self.hidden_size_2 = 64\n",
    "        self.extra_features = 0\n",
    "        drp = 0.1\n",
    "        n_classes = len(le.classes_)\n",
    "        self.embedding = nn.Embedding(max_features, embed_size)\n",
    "        self.embedding.weight = nn.Parameter(torch.tensor(embedding_matrix, dtype=torch.float32))\n",
    "        self.embedding.weight.requires_grad = False\n",
    "        self.lstm = nn.LSTM(embed_size, self.hidden_size_1, bidirectional=True, batch_first=True)\n",
    "        self.linear = nn.Linear(self.hidden_size_1*4 + self.extra_features, self.hidden_size_2)\n",
    "        self.relu = nn.ReLU()\n",
    "        self.dropout = nn.Dropout(drp)\n",
    "        self.out = nn.Linear(self.hidden_size_2, n_classes)\n",
    "\n",
    "    def forward(self, x):\n",
    "        input = x[:,:maxlen]\n",
    "        of = x[:,maxlen:]\n",
    "        \n",
    "        h_embedding = self.embedding(input)\n",
    "        \n",
    "        h_lstm, _ = self.lstm(h_embedding)\n",
    "        avg_pool = torch.mean(h_lstm, 1)\n",
    "        max_pool, _ = torch.max(h_lstm, 1)\n",
    "        conc = torch.cat(( avg_pool, max_pool, of), 1)\n",
    "        conc = self.relu(self.linear(conc))\n",
    "        conc = self.dropout(conc)\n",
    "        out = self.out(conc)\n",
    "        return out"
   ]
  },
  {
   "cell_type": "code",
   "execution_count": 37,
   "metadata": {},
   "outputs": [
    {
     "name": "stderr",
     "output_type": "stream",
     "text": [
      "<ipython-input-37-9dacf50aa5fb>:53: UserWarning: Implicit dimension choice for softmax has been deprecated. Change the call to include dim=X as an argument.\n",
      "  val_preds[i * batch_size:(i+1) * batch_size] = F.softmax(y_pred).cpu().numpy()\n"
     ]
    },
    {
     "name": "stdout",
     "output_type": "stream",
     "text": [
      "Epoch 1/6 \t loss=6.9267 \t val_loss=6.3039  \t val_acc=0.5985  \t time=8.28s\n",
      "Epoch 2/6 \t loss=6.3788 \t val_loss=5.7680  \t val_acc=0.7121  \t time=8.30s\n",
      "Epoch 3/6 \t loss=5.1548 \t val_loss=4.3491  \t val_acc=0.7803  \t time=8.28s\n",
      "Epoch 4/6 \t loss=3.7632 \t val_loss=3.8235  \t val_acc=0.8182  \t time=8.22s\n",
      "Epoch 5/6 \t loss=2.3771 \t val_loss=2.9714  \t val_acc=0.8561  \t time=8.24s\n",
      "Epoch 6/6 \t loss=1.3718 \t val_loss=2.5010  \t val_acc=0.9167  \t time=8.17s\n"
     ]
    }
   ],
   "source": [
    "n_epochs = 6\n",
    "batch_size = 10\n",
    "\n",
    "\n",
    "model = BiLSTM()\n",
    "\n",
    "loss_fn = nn.CrossEntropyLoss(reduction='sum')\n",
    "optimizer = torch.optim.Adam(filter(lambda p: p.requires_grad, model.parameters()), lr=0.001)\n",
    "model\n",
    "\n",
    "# Load train and test in CUDA Memory\n",
    "x_train = torch.tensor(train_X, dtype=torch.long)#.cuda()\n",
    "y_train = torch.tensor(train_y, dtype=torch.long)#.cuda()\n",
    "\n",
    "x_cv = torch.tensor(test_X, dtype=torch.long)#.cuda()\n",
    "y_cv = torch.tensor(test_y, dtype=torch.long)#.cuda()\n",
    "\n",
    "# Create Torch datasets\n",
    "train = torch.utils.data.TensorDataset(x_train, y_train)\n",
    "valid = torch.utils.data.TensorDataset(x_cv, y_cv)\n",
    "\n",
    "# Create Data Loaders\n",
    "train_loader = torch.utils.data.DataLoader(train, batch_size=batch_size, shuffle=True)\n",
    "valid_loader = torch.utils.data.DataLoader(valid, batch_size=batch_size, shuffle=False)\n",
    "\n",
    "train_loss = []\n",
    "valid_loss = []\n",
    "\n",
    "for epoch in range(n_epochs):\n",
    "    start_time = time.time()\n",
    "    # Set model to train configuration\n",
    "    model.train()\n",
    "    avg_loss = 0.  \n",
    "    for i, (x_batch, y_batch) in enumerate(train_loader):\n",
    "        # Predict/Forward Pass\n",
    "        y_pred = model(x_batch)\n",
    "        # Compute loss\n",
    "        loss = loss_fn(y_pred, y_batch)\n",
    "        optimizer.zero_grad()\n",
    "        loss.backward()\n",
    "        optimizer.step()\n",
    "        avg_loss += loss.item() / len(train_loader)\n",
    "    \n",
    "    # Set model to validation configuration -Doesn't get trained here\n",
    "    model.eval()        \n",
    "    avg_val_loss = 0.\n",
    "    val_preds = np.zeros((len(x_cv),len(le.classes_)))\n",
    "    \n",
    "    for i, (x_batch, y_batch) in enumerate(valid_loader):\n",
    "        y_pred = model(x_batch).detach()\n",
    "        avg_val_loss += loss_fn(y_pred, y_batch).item() / len(valid_loader)\n",
    "        # keep/store predictions\n",
    "        val_preds[i * batch_size:(i+1) * batch_size] = F.softmax(y_pred).cpu().numpy()\n",
    "    \n",
    "    # Check Accuracy\n",
    "    val_accuracy = sum(val_preds.argmax(axis=1)==test_y)/len(test_y)\n",
    "    train_loss.append(avg_loss)\n",
    "    valid_loss.append(avg_val_loss)\n",
    "    elapsed_time = time.time() - start_time \n",
    "    print('Epoch {}/{} \\t loss={:.4f} \\t val_loss={:.4f}  \\t val_acc={:.4f}  \\t time={:.2f}s'.format(epoch + 1, n_epochs, avg_loss, avg_val_loss, val_accuracy, elapsed_time))\n",
    "    \n",
    "    "
   ]
  },
  {
   "cell_type": "code",
   "execution_count": 38,
   "metadata": {},
   "outputs": [
    {
     "data": {
      "image/png": "[encoded data removed]",
      "text/plain": [
       "<Figure size 864x864 with 1 Axes>"
      ]
     },
     "metadata": {
      "needs_background": "light"
     },
     "output_type": "display_data"
    }
   ],
   "source": [
    "def plot_graph(epochs):\n",
    "    fig = plt.figure(figsize=(12,12))\n",
    "    plt.title(\"Train/Validation Loss\")\n",
    "    plt.plot(list(np.arange(epochs) + 1) , train_loss, label='train')\n",
    "    plt.plot(list(np.arange(epochs) + 1), valid_loss, label='validation')\n",
    "    plt.xlabel('num_epochs', fontsize=12)\n",
    "    plt.ylabel('loss', fontsize=12)\n",
    "    plt.legend(loc='best')\n",
    "plot_graph(n_epochs)"
   ]
  },
  {
   "cell_type": "code",
   "execution_count": 39,
   "metadata": {},
   "outputs": [
    {
     "name": "stdout",
     "output_type": "stream",
     "text": [
      "              precision    recall  f1-score   support\n",
      "\n",
      "     drought       0.87      0.99      0.93        70\n",
      "        none       0.98      0.84      0.90        62\n",
      "\n",
      "    accuracy                           0.92       132\n",
      "   macro avg       0.93      0.91      0.92       132\n",
      "weighted avg       0.92      0.92      0.92       132\n",
      "\n"
     ]
    }
   ],
   "source": [
    "pred = le.inverse_transform(val_preds.argmax(axis=1))\n",
    "test = le.inverse_transform(test_y)\n",
    "from sklearn.metrics import classification_report\n",
    "print(classification_report(test,pred,labels=train_labels['category'].unique()))"
   ]
  },
  {
   "cell_type": "code",
   "execution_count": 42,
   "metadata": {},
   "outputs": [],
   "source": [
    "filename = 'model_newsclassifier_drought_v1.pt'\n",
    "torch.save(model.state_dict(), filename)"
   ]
  },
  {
   "cell_type": "code",
   "execution_count": null,
   "metadata": {},
   "outputs": [],
   "source": []
  }
 ],
 "metadata": {
  "kernelspec": {
   "display_name": "Python 3 (ipykernel)",
   "language": "python",
   "name": "python3"
  },
  "language_info": {
   "codemirror_mode": {
    "name": "ipython",
    "version": 3
   },
   "file_extension": ".py",
   "mimetype": "text/x-python",
   "name": "python",
   "nbconvert_exporter": "python",
   "pygments_lexer": "ipython3",
   "version": "3.7.10"
  }
 },
 "nbformat": 4,
 "nbformat_minor": 2
}
