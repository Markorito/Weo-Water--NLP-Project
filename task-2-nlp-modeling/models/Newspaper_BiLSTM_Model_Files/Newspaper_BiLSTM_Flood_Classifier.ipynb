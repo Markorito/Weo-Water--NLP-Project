{
 "cells": [
  {
   "cell_type": "code",
   "execution_count": 2,
   "metadata": {},
   "outputs": [
    {
     "name": "stderr",
     "output_type": "stream",
     "text": [
      "[nltk_data] Downloading package stopwords to\n",
      "[nltk_data]     /Users/askani.mohankrishna/nltk_data...\n",
      "[nltk_data]   Package stopwords is already up-to-date!\n",
      "[nltk_data] Downloading package wordnet to\n",
      "[nltk_data]     /Users/askani.mohankrishna/nltk_data...\n",
      "[nltk_data]   Package wordnet is already up-to-date!\n"
     ]
    }
   ],
   "source": [
    "import sys\n",
    "import time\n",
    "import warnings\n",
    "\n",
    "#!{sys.executable} -m pip install unidecode\n",
    "\n",
    "import pandas as pd\n",
    "import numpy as np\n",
    "import matplotlib.pyplot as plt\n",
    "#pre-processing\n",
    "import re\n",
    "import unidecode\n",
    "import nltk\n",
    "nltk.download('stopwords')\n",
    "nltk.download('wordnet')\n",
    "from bs4 import BeautifulSoup\n",
    "\n",
    "import torch\n",
    "import torch.nn as nn\n",
    "from torch.optim.optimizer import Optimizer\n",
    "import torch.nn.functional as F\n",
    "\n",
    "from sklearn import model_selection\n",
    "from sklearn.preprocessing import LabelEncoder, MinMaxScaler, OneHotEncoder\n",
    "from sklearn.pipeline import Pipeline\n",
    "from sklearn.compose import ColumnTransformer\n",
    "from sklearn.preprocessing import StandardScaler\n",
    "from keras.preprocessing.text import Tokenizer\n",
    "from keras.preprocessing.sequence import pad_sequences"
   ]
  },
  {
   "cell_type": "code",
   "execution_count": 3,
   "metadata": {},
   "outputs": [
    {
     "data": {
      "text/html": [
       "<div>\n",
       "<style scoped>\n",
       "    .dataframe tbody tr th:only-of-type {\n",
       "        vertical-align: middle;\n",
       "    }\n",
       "\n",
       "    .dataframe tbody tr th {\n",
       "        vertical-align: top;\n",
       "    }\n",
       "\n",
       "    .dataframe thead th {\n",
       "        text-align: right;\n",
       "    }\n",
       "</style>\n",
       "<table border=\"1\" class=\"dataframe\">\n",
       "  <thead>\n",
       "    <tr style=\"text-align: right;\">\n",
       "      <th></th>\n",
       "      <th>Unnamed: 0</th>\n",
       "      <th>Id</th>\n",
       "      <th>title</th>\n",
       "      <th>source URL</th>\n",
       "      <th>body</th>\n",
       "      <th>time</th>\n",
       "      <th>keywords</th>\n",
       "      <th>country</th>\n",
       "      <th>data source</th>\n",
       "      <th>language</th>\n",
       "    </tr>\n",
       "  </thead>\n",
       "  <tbody>\n",
       "    <tr>\n",
       "      <th>0</th>\n",
       "      <td>1395</td>\n",
       "      <td>FL-2019-000179-CAN</td>\n",
       "      <td>Canada: extreme floods show climate threat as ...</td>\n",
       "      <td>https://www.theguardian.com/world/2019/apr/30/...</td>\n",
       "      <td>News footage showed people boating where they ...</td>\n",
       "      <td>2019-04-30 07:00:00+00:00</td>\n",
       "      <td>['change', 'water', 'warn', 'threat', 'quebec'...</td>\n",
       "      <td>Canada</td>\n",
       "      <td>news article</td>\n",
       "      <td>English</td>\n",
       "    </tr>\n",
       "    <tr>\n",
       "      <th>1</th>\n",
       "      <td>42</td>\n",
       "      <td>DR-2014-000109-CHN</td>\n",
       "      <td>Celebrating The Work Of Robin Williams | Here ...</td>\n",
       "      <td>https://www.wbur.org/hereandnow/2014/08/12/cel...</td>\n",
       "      <td>Comedy star Robin Williams died yesterday at a...</td>\n",
       "      <td>2014-08-12 07:00:00+00:00</td>\n",
       "      <td>['vietnam', 'tv', 'yesterday', 'robin', 'willi...</td>\n",
       "      <td>China</td>\n",
       "      <td>news article</td>\n",
       "      <td>English</td>\n",
       "    </tr>\n",
       "    <tr>\n",
       "      <th>2</th>\n",
       "      <td>1779</td>\n",
       "      <td>FL-2021-000030-IDN</td>\n",
       "      <td>Innovative technologies to combat flooding in ...</td>\n",
       "      <td>https://uk.news.yahoo.com/innovative-technolog...</td>\n",
       "      <td>Innovative technologies involving flood alert ...</td>\n",
       "      <td>2021-03-28 07:00:00+00:00</td>\n",
       "      <td>['england', 'projects', 'communities', 'coasta...</td>\n",
       "      <td>India</td>\n",
       "      <td>news article</td>\n",
       "      <td>English</td>\n",
       "    </tr>\n",
       "    <tr>\n",
       "      <th>3</th>\n",
       "      <td>941</td>\n",
       "      <td>DR-2011-000121-CHN</td>\n",
       "      <td>Book review: 'Grand Pursuit' by Sylvia Nasar -...</td>\n",
       "      <td>https://www.latimes.com/books/la-xpm-2011-sep-...</td>\n",
       "      <td>Grand Pursuit\\n\\nThe Story of Economic Genius\\...</td>\n",
       "      <td>2011-09-11 07:00:00+00:00</td>\n",
       "      <td>['review', 'economic', 'pursuit', 'keynes', 't...</td>\n",
       "      <td>China</td>\n",
       "      <td>news article</td>\n",
       "      <td>English</td>\n",
       "    </tr>\n",
       "    <tr>\n",
       "      <th>4</th>\n",
       "      <td>2048</td>\n",
       "      <td>FL-2017-000017-PAK</td>\n",
       "      <td>Record Rains, Urban Flooding Woes Continue in ...</td>\n",
       "      <td>https://www.voanews.com/south-central-asia/rec...</td>\n",
       "      <td>ISLAMABAD - Parts of Pakistan's commercial hub...</td>\n",
       "      <td>2020-08-31 07:00:00+00:00</td>\n",
       "      <td>['woes', 'rains', 'city', 'problems', 'local',...</td>\n",
       "      <td>Pakistan</td>\n",
       "      <td>news article</td>\n",
       "      <td>English</td>\n",
       "    </tr>\n",
       "  </tbody>\n",
       "</table>\n",
       "</div>"
      ],
      "text/plain": [
       "   Unnamed: 0                  Id  \\\n",
       "0        1395  FL-2019-000179-CAN   \n",
       "1          42  DR-2014-000109-CHN   \n",
       "2        1779  FL-2021-000030-IDN   \n",
       "3         941  DR-2011-000121-CHN   \n",
       "4        2048  FL-2017-000017-PAK   \n",
       "\n",
       "                                               title  \\\n",
       "0  Canada: extreme floods show climate threat as ...   \n",
       "1  Celebrating The Work Of Robin Williams | Here ...   \n",
       "2  Innovative technologies to combat flooding in ...   \n",
       "3  Book review: 'Grand Pursuit' by Sylvia Nasar -...   \n",
       "4  Record Rains, Urban Flooding Woes Continue in ...   \n",
       "\n",
       "                                          source URL  \\\n",
       "0  https://www.theguardian.com/world/2019/apr/30/...   \n",
       "1  https://www.wbur.org/hereandnow/2014/08/12/cel...   \n",
       "2  https://uk.news.yahoo.com/innovative-technolog...   \n",
       "3  https://www.latimes.com/books/la-xpm-2011-sep-...   \n",
       "4  https://www.voanews.com/south-central-asia/rec...   \n",
       "\n",
       "                                                body  \\\n",
       "0  News footage showed people boating where they ...   \n",
       "1  Comedy star Robin Williams died yesterday at a...   \n",
       "2  Innovative technologies involving flood alert ...   \n",
       "3  Grand Pursuit\\n\\nThe Story of Economic Genius\\...   \n",
       "4  ISLAMABAD - Parts of Pakistan's commercial hub...   \n",
       "\n",
       "                        time  \\\n",
       "0  2019-04-30 07:00:00+00:00   \n",
       "1  2014-08-12 07:00:00+00:00   \n",
       "2  2021-03-28 07:00:00+00:00   \n",
       "3  2011-09-11 07:00:00+00:00   \n",
       "4  2020-08-31 07:00:00+00:00   \n",
       "\n",
       "                                            keywords   country   data source  \\\n",
       "0  ['change', 'water', 'warn', 'threat', 'quebec'...    Canada  news article   \n",
       "1  ['vietnam', 'tv', 'yesterday', 'robin', 'willi...     China  news article   \n",
       "2  ['england', 'projects', 'communities', 'coasta...     India  news article   \n",
       "3  ['review', 'economic', 'pursuit', 'keynes', 't...     China  news article   \n",
       "4  ['woes', 'rains', 'city', 'problems', 'local',...  Pakistan  news article   \n",
       "\n",
       "  language  \n",
       "0  English  \n",
       "1  English  \n",
       "2  English  \n",
       "3  English  \n",
       "4  English  "
      ]
     },
     "execution_count": 3,
     "metadata": {},
     "output_type": "execute_result"
    }
   ],
   "source": [
    "train_data1 = pd.read_csv('dataset1/X_train.csv')\n",
    "train_data2 = pd.read_csv('dataset2/X_train.csv')\n",
    "train_data3 = pd.read_csv('dataset3/X_train.csv')\n",
    "train_data4 = pd.read_csv('dataset4/X_train.csv')\n",
    "train_data5 = pd.read_csv('dataset5/X_train.csv')\n",
    "train_data6 = pd.read_csv('dataset6/X_train.csv')\n",
    "train_data7 = pd.read_csv('dataset7/X_train.csv')\n",
    "train_data8 = pd.read_csv('dataset8/X_train.csv')\n",
    "train_data9 = pd.read_csv('dataset9/X_train.csv')\n",
    "\n",
    "train_data_final = pd.concat([train_data1,train_data2,train_data3,train_data4,train_data5,train_data6,train_data7,train_data8,train_data9], axis=0)\n",
    "train_data_final.head()"
   ]
  },
  {
   "cell_type": "code",
   "execution_count": 4,
   "metadata": {
    "scrolled": true
   },
   "outputs": [
    {
     "data": {
      "text/plain": [
       "(1206, 10)"
      ]
     },
     "execution_count": 4,
     "metadata": {},
     "output_type": "execute_result"
    }
   ],
   "source": [
    "train_data_final.shape"
   ]
  },
  {
   "cell_type": "code",
   "execution_count": 5,
   "metadata": {},
   "outputs": [
    {
     "name": "stdout",
     "output_type": "stream",
     "text": [
      "(1206, 2)\n"
     ]
    },
    {
     "data": {
      "text/html": [
       "<div>\n",
       "<style scoped>\n",
       "    .dataframe tbody tr th:only-of-type {\n",
       "        vertical-align: middle;\n",
       "    }\n",
       "\n",
       "    .dataframe tbody tr th {\n",
       "        vertical-align: top;\n",
       "    }\n",
       "\n",
       "    .dataframe thead th {\n",
       "        text-align: right;\n",
       "    }\n",
       "</style>\n",
       "<table border=\"1\" class=\"dataframe\">\n",
       "  <thead>\n",
       "    <tr style=\"text-align: right;\">\n",
       "      <th></th>\n",
       "      <th>Unnamed: 0</th>\n",
       "      <th>category</th>\n",
       "    </tr>\n",
       "  </thead>\n",
       "  <tbody>\n",
       "    <tr>\n",
       "      <th>0</th>\n",
       "      <td>1395</td>\n",
       "      <td>flood</td>\n",
       "    </tr>\n",
       "    <tr>\n",
       "      <th>1</th>\n",
       "      <td>42</td>\n",
       "      <td>none</td>\n",
       "    </tr>\n",
       "    <tr>\n",
       "      <th>2</th>\n",
       "      <td>1779</td>\n",
       "      <td>flood</td>\n",
       "    </tr>\n",
       "    <tr>\n",
       "      <th>3</th>\n",
       "      <td>941</td>\n",
       "      <td>none</td>\n",
       "    </tr>\n",
       "    <tr>\n",
       "      <th>4</th>\n",
       "      <td>2048</td>\n",
       "      <td>flood</td>\n",
       "    </tr>\n",
       "  </tbody>\n",
       "</table>\n",
       "</div>"
      ],
      "text/plain": [
       "   Unnamed: 0 category\n",
       "0        1395    flood\n",
       "1          42     none\n",
       "2        1779    flood\n",
       "3         941     none\n",
       "4        2048    flood"
      ]
     },
     "execution_count": 5,
     "metadata": {},
     "output_type": "execute_result"
    }
   ],
   "source": [
    "train_labels1 = pd.read_csv('dataset1/y_train.csv')\n",
    "train_labels2 = pd.read_csv('dataset2/y_train.csv')\n",
    "train_labels3 = pd.read_csv('dataset3/y_train.csv')\n",
    "train_labels4 = pd.read_csv('dataset4/y_train.csv')\n",
    "train_labels5 = pd.read_csv('dataset5/y_train.csv')\n",
    "train_labels6 = pd.read_csv('dataset6/y_train.csv')\n",
    "train_labels7 = pd.read_csv('dataset7/y_train.csv')\n",
    "train_labels8 = pd.read_csv('dataset8/y_train.csv')\n",
    "train_labels9 = pd.read_csv('dataset9/y_train.csv')\n",
    "\n",
    "train_labels = pd.concat([train_labels1,train_labels2,train_labels3,train_labels4,train_labels5,train_labels6,train_labels7,train_labels8,train_labels9],axis=0)\n",
    "print(train_labels.shape)\n",
    "train_labels.head()\n"
   ]
  },
  {
   "cell_type": "code",
   "execution_count": 6,
   "metadata": {},
   "outputs": [],
   "source": [
    "train_data_final['final'] = train_data_final['title'] + ' ' + train_data_final['body'] \n",
    "train_data = train_data_final[['final']]"
   ]
  },
  {
   "cell_type": "code",
   "execution_count": 7,
   "metadata": {},
   "outputs": [
    {
     "data": {
      "text/plain": [
       "none     621\n",
       "flood    585\n",
       "Name: category, dtype: int64"
      ]
     },
     "execution_count": 7,
     "metadata": {},
     "output_type": "execute_result"
    }
   ],
   "source": [
    "train_labels['category'].value_counts()"
   ]
  },
  {
   "cell_type": "code",
   "execution_count": 8,
   "metadata": {},
   "outputs": [
    {
     "name": "stderr",
     "output_type": "stream",
     "text": [
      "100%|██████████| 1206/1206 [00:00<00:00, 3384.05it/s]\n"
     ]
    }
   ],
   "source": [
    "import re\n",
    "from tqdm import tqdm\n",
    "def preprocess(article):\n",
    "    \"\"\"\n",
    "    This function takes a string as input, then performs these operations: \n",
    "        - lowercase\n",
    "        - remove URLs\n",
    "        - remove ticker symbols \n",
    "        - removes punctuation\n",
    "        - removes any single character tokens\n",
    "    Parameters\n",
    "    ----------\n",
    "        message : The text message to be preprocessed\n",
    "    Returns\n",
    "    -------\n",
    "        text: The preprocessed text\n",
    "    \"\"\" \n",
    "    # Lowercase the article\n",
    "    text = article.lower()\n",
    "    # Replace URLs with a space in the message\n",
    "    text = re.sub('https?:\\/\\/[a-zA-Z0-9@:%._\\/+~#=?&;-]*', ' ', text)\n",
    "    # Replace ticker symbols with a space. The ticker symbols are any stock symbol that starts with $.\n",
    "    text = re.sub('\\$[a-zA-Z0-9]*', ' ', text)\n",
    "    text = re.sub('\\@[a-zA-Z0-9]*', ' ', text)\n",
    "    # Replace everything not a letter or apostrophe with a space\n",
    "    text = re.sub('[^a-zA-Z\\']', ' ', text)\n",
    "    # Remove single letter words\n",
    "    text = ' '.join( [w for w in text.split() if len(w)>1] )\n",
    "    \n",
    "    return text\n",
    "        \n",
    "# Process for all messages\n",
    "preprocessed = [preprocess(article) for article in tqdm(train_data['final'])]"
   ]
  },
  {
   "cell_type": "code",
   "execution_count": 10,
   "metadata": {},
   "outputs": [
    {
     "data": {
      "text/plain": [
       "{'canada': 279,\n",
       " 'extreme': 217,\n",
       " 'floods': 1636,\n",
       " 'show': 163,\n",
       " 'climate': 1080,\n",
       " 'threat': 120,\n",
       " 'as': 4612,\n",
       " 'experts': 135,\n",
       " 'warn': 44,\n",
       " 'of': 23444}"
      ]
     },
     "execution_count": 10,
     "metadata": {},
     "output_type": "execute_result"
    }
   ],
   "source": [
    "from collections import Counter\n",
    "counts = dict(Counter(word for sentence in preprocessed for word in sentence.split()))\n",
    "{k: counts[k] for k in list(counts)[:10]}"
   ]
  },
  {
   "cell_type": "code",
   "execution_count": 11,
   "metadata": {},
   "outputs": [
    {
     "name": "stderr",
     "output_type": "stream",
     "text": [
      "100%|██████████| 594/594 [00:00<00:00, 3357.40it/s]\n"
     ]
    }
   ],
   "source": [
    "data_test1 = pd.read_csv('dataset1/X_test.csv')\n",
    "data_test2 = pd.read_csv('dataset2/X_test.csv')\n",
    "data_test3 = pd.read_csv('dataset3/X_test.csv')\n",
    "data_test4 = pd.read_csv('dataset4/X_test.csv')\n",
    "data_test5 = pd.read_csv('dataset5/X_test.csv')\n",
    "data_test6 = pd.read_csv('dataset6/X_test.csv')\n",
    "data_test7 = pd.read_csv('dataset7/X_test.csv')\n",
    "data_test8 = pd.read_csv('dataset8/X_test.csv')\n",
    "data_test9 = pd.read_csv('dataset9/X_test.csv')\n",
    "\n",
    "data_test_final = pd.concat([data_test1,data_test2,data_test3,data_test4,data_test5,data_test6,data_test7,data_test8,data_test9], axis=0)\n",
    "\n",
    "data_test = data_test_final['title'] + ' ' + data_test_final['body']\n",
    "data_test = [preprocess(article) for article in tqdm(data_test)]\n",
    "\n",
    "test_labels1 = pd.read_csv('dataset1/y_test.csv')\n",
    "test_labels2 = pd.read_csv('dataset2/y_test.csv')\n",
    "test_labels3 = pd.read_csv('dataset3/y_test.csv')\n",
    "test_labels4 = pd.read_csv('dataset4/y_test.csv')\n",
    "test_labels5 = pd.read_csv('dataset5/y_test.csv')\n",
    "test_labels6 = pd.read_csv('dataset6/y_test.csv')\n",
    "test_labels7 = pd.read_csv('dataset7/y_test.csv')\n",
    "test_labels8 = pd.read_csv('dataset8/y_test.csv')\n",
    "test_labels9 = pd.read_csv('dataset9/y_test.csv')\n",
    "\n",
    "test_labels = pd.concat([test_labels1,test_labels2,test_labels3,test_labels4,test_labels5,test_labels6,test_labels7,test_labels8,test_labels9],axis=0)\n"
   ]
  },
  {
   "cell_type": "code",
   "execution_count": null,
   "metadata": {},
   "outputs": [],
   "source": [
    "train_data_final.to_csv('train_data.csv',index=False)\n",
    "train_labels.to_csv('train_labels.csv',index=False)\n",
    "data_test_final.to_csv('test_data.csv',index=False)\n",
    "test_labels.to_csv('test_labels.csv',index=False)"
   ]
  },
  {
   "cell_type": "code",
   "execution_count": 12,
   "metadata": {},
   "outputs": [],
   "source": [
    "embed_size = 300 # how big is each word vector\n",
    "max_features = 35000 # how many unique words to use (i.e num rows in embedding vector)\n",
    "maxlen = 500 # max number of words in a content to use"
   ]
  },
  {
   "cell_type": "code",
   "execution_count": 13,
   "metadata": {},
   "outputs": [
    {
     "data": {
      "text/plain": [
       "2"
      ]
     },
     "execution_count": 13,
     "metadata": {},
     "output_type": "execute_result"
    }
   ],
   "source": [
    "## Tokenize the sentences\n",
    "tokenizer = Tokenizer(num_words=max_features)\n",
    "tokenizer.fit_on_texts(preprocessed)\n",
    "train_X = tokenizer.texts_to_sequences(preprocessed)\n",
    "test_X = tokenizer.texts_to_sequences(data_test)\n",
    "\n",
    "## Pad the sentences \n",
    "train_X = pad_sequences(train_X, maxlen=maxlen)\n",
    "test_X = pad_sequences(test_X, maxlen=maxlen)\n",
    "\n",
    "le = LabelEncoder()\n",
    "train_y = le.fit_transform(train_labels['category'].values)\n",
    "test_y = le.transform(test_labels['category'].values)\n",
    "len(le.classes_)"
   ]
  },
  {
   "cell_type": "code",
   "execution_count": 14,
   "metadata": {},
   "outputs": [
    {
     "data": {
      "text/plain": [
       "35086"
      ]
     },
     "execution_count": 14,
     "metadata": {},
     "output_type": "execute_result"
    }
   ],
   "source": [
    "len(tokenizer.word_index)"
   ]
  },
  {
   "cell_type": "code",
   "execution_count": 17,
   "metadata": {},
   "outputs": [],
   "source": [
    "import pickle\n",
    "with open(\"tokenizer_v1_2.pkl\", 'wb') as file:\n",
    "    pickle.dump(tokenizer, file, protocol=pickle.HIGHEST_PROTOCOL)\n",
    "with open(\"label_encoder_v1_2.pkl\", 'wb') as file:\n",
    "    pickle.dump(le, file, protocol=pickle.HIGHEST_PROTOCOL)"
   ]
  },
  {
   "cell_type": "code",
   "execution_count": 15,
   "metadata": {},
   "outputs": [
    {
     "name": "stderr",
     "output_type": "stream",
     "text": [
      "/Users/askani.mohankrishna/opt/anaconda3/lib/python3.8/site-packages/IPython/core/interactiveshell.py:3343: FutureWarning: arrays to stack must be passed as a \"sequence\" type such as list or tuple. Support for non-sequence iterables such as generators is deprecated as of NumPy 1.16 and will raise an error in the future.\n",
      "  exec(code_obj, self.user_global_ns, self.user_ns)\n"
     ]
    },
    {
     "data": {
      "text/plain": [
       "(35000, 300)"
      ]
     },
     "execution_count": 15,
     "metadata": {},
     "output_type": "execute_result"
    }
   ],
   "source": [
    "EMBEDDING_FILE = 'glove.840B.300d.txt'\n",
    "debug = 0\n",
    "def load_glove(word_index):\n",
    "    def get_coefs(word,*arr): return word, np.asarray(arr, dtype='float32')[:300]\n",
    "    embeddings_index = dict(get_coefs(*o.split(\" \")) for o in open(EMBEDDING_FILE))\n",
    "    del embeddings_index['PN']\n",
    "    \n",
    "    all_embs = np.stack(embeddings_index.values())\n",
    "    emb_mean,emb_std = -0.005838499,0.48782197\n",
    "    embed_size = all_embs.shape[1]\n",
    "\n",
    "    nb_words = min(max_features, len(word_index)+1)\n",
    "    embedding_matrix = np.random.normal(emb_mean, emb_std, (nb_words, embed_size))\n",
    "    \n",
    "    for word, i in word_index.items():\n",
    "        if i >= max_features: continue\n",
    "        embedding_vector = embeddings_index.get(word)\n",
    "        if embedding_vector is not None: \n",
    "            embedding_matrix[i] = embedding_vector\n",
    "        else:\n",
    "            embedding_vector = embeddings_index.get(word.capitalize())\n",
    "            if embedding_vector is not None: \n",
    "                embedding_matrix[i] = embedding_vector\n",
    "    return embedding_matrix\n",
    "\n",
    "if debug:\n",
    "    embedding_matrix = np.random.randn(max_features,embed_size)\n",
    "else:\n",
    "    embedding_matrix = load_glove(tokenizer.word_index)\n",
    "np.shape(embedding_matrix)"
   ]
  },
  {
   "cell_type": "code",
   "execution_count": 19,
   "metadata": {},
   "outputs": [],
   "source": [
    "import numpy as np\n",
    "np.save('embedding_matrix_v1_2.npy' , embedding_matrix)"
   ]
  },
  {
   "cell_type": "code",
   "execution_count": 16,
   "metadata": {},
   "outputs": [
    {
     "data": {
      "text/plain": [
       "0"
      ]
     },
     "execution_count": 16,
     "metadata": {},
     "output_type": "execute_result"
    }
   ],
   "source": [
    "train_X1 = train_X[:2]\n",
    "\n",
    "#Paste num in self.extra_features below \n",
    "train_X1.shape[1] - maxlen"
   ]
  },
  {
   "cell_type": "code",
   "execution_count": 17,
   "metadata": {},
   "outputs": [],
   "source": [
    "class BiLSTM(nn.Module): \n",
    "    def __init__(self):\n",
    "        super(BiLSTM, self).__init__()\n",
    "        self.hidden_size_1 = 64\n",
    "        self.hidden_size_2 = 64\n",
    "        self.extra_features = 0\n",
    "        drp = 0.1\n",
    "        n_classes = len(le.classes_)\n",
    "        self.embedding = nn.Embedding(max_features, embed_size)\n",
    "        self.embedding.weight = nn.Parameter(torch.tensor(embedding_matrix, dtype=torch.float32))\n",
    "        self.embedding.weight.requires_grad = False\n",
    "        self.lstm = nn.LSTM(embed_size, self.hidden_size_1, bidirectional=True, batch_first=True)\n",
    "        self.linear = nn.Linear(self.hidden_size_1*4 + self.extra_features, self.hidden_size_2)\n",
    "        self.relu = nn.ReLU()\n",
    "        self.dropout = nn.Dropout(drp)\n",
    "        self.out = nn.Linear(self.hidden_size_2, n_classes)\n",
    "\n",
    "    def forward(self, x):\n",
    "        input = x[:,:maxlen]\n",
    "        of = x[:,maxlen:]\n",
    "        \n",
    "        h_embedding = self.embedding(input)\n",
    "        \n",
    "        h_lstm, _ = self.lstm(h_embedding)\n",
    "        avg_pool = torch.mean(h_lstm, 1)\n",
    "        max_pool, _ = torch.max(h_lstm, 1)\n",
    "        conc = torch.cat(( avg_pool, max_pool, of), 1)\n",
    "        conc = self.relu(self.linear(conc))\n",
    "        conc = self.dropout(conc)\n",
    "        out = self.out(conc)\n",
    "        return out"
   ]
  },
  {
   "cell_type": "code",
   "execution_count": 18,
   "metadata": {},
   "outputs": [
    {
     "data": {
      "text/plain": [
       "(2, 2)"
      ]
     },
     "execution_count": 18,
     "metadata": {},
     "output_type": "execute_result"
    }
   ],
   "source": [
    "model = BiLSTM()\n",
    "\n",
    "x = torch.tensor(train_X1, dtype=torch.long)\n",
    "model.forward(x).detach().numpy().shape"
   ]
  },
  {
   "cell_type": "code",
   "execution_count": 19,
   "metadata": {},
   "outputs": [
    {
     "name": "stderr",
     "output_type": "stream",
     "text": [
      "<ipython-input-19-3c42e3ed9b37>:53: UserWarning: Implicit dimension choice for softmax has been deprecated. Change the call to include dim=X as an argument.\n",
      "  val_preds[i * batch_size:(i+1) * batch_size] = F.softmax(y_pred).cpu().numpy()\n"
     ]
    },
    {
     "name": "stdout",
     "output_type": "stream",
     "text": [
      "Epoch 1/7 \t loss=19.4692 \t val_loss=19.1280  \t val_acc=0.5455  \t time=20.06s\n",
      "Epoch 2/7 \t loss=14.4061 \t val_loss=10.6973  \t val_acc=0.8384  \t time=19.69s\n",
      "Epoch 3/7 \t loss=10.0854 \t val_loss=9.6520  \t val_acc=0.8670  \t time=18.75s\n",
      "Epoch 4/7 \t loss=8.5687 \t val_loss=9.0691  \t val_acc=0.8822  \t time=19.65s\n",
      "Epoch 5/7 \t loss=6.7908 \t val_loss=8.6780  \t val_acc=0.8838  \t time=19.47s\n",
      "Epoch 6/7 \t loss=4.6496 \t val_loss=9.3508  \t val_acc=0.8754  \t time=18.99s\n",
      "Epoch 7/7 \t loss=2.7443 \t val_loss=9.5439  \t val_acc=0.8754  \t time=18.96s\n"
     ]
    }
   ],
   "source": [
    "n_epochs = 7\n",
    "batch_size = 30\n",
    "\n",
    "\n",
    "model = BiLSTM()\n",
    "\n",
    "loss_fn = nn.CrossEntropyLoss(reduction='sum')\n",
    "optimizer = torch.optim.Adam(filter(lambda p: p.requires_grad, model.parameters()), lr=0.001)\n",
    "model\n",
    "\n",
    "# Load train and test in CUDA Memory\n",
    "x_train = torch.tensor(train_X, dtype=torch.long)#.cuda()\n",
    "y_train = torch.tensor(train_y, dtype=torch.long)#.cuda()\n",
    "\n",
    "x_cv = torch.tensor(test_X, dtype=torch.long)#.cuda()\n",
    "y_cv = torch.tensor(test_y, dtype=torch.long)#.cuda()\n",
    "\n",
    "# Create Torch datasets\n",
    "train = torch.utils.data.TensorDataset(x_train, y_train)\n",
    "valid = torch.utils.data.TensorDataset(x_cv, y_cv)\n",
    "\n",
    "# Create Data Loaders\n",
    "train_loader = torch.utils.data.DataLoader(train, batch_size=batch_size, shuffle=True)\n",
    "valid_loader = torch.utils.data.DataLoader(valid, batch_size=batch_size, shuffle=False)\n",
    "\n",
    "train_loss = []\n",
    "valid_loss = []\n",
    "\n",
    "for epoch in range(n_epochs):\n",
    "    start_time = time.time()\n",
    "    # Set model to train configuration\n",
    "    model.train()\n",
    "    avg_loss = 0.  \n",
    "    for i, (x_batch, y_batch) in enumerate(train_loader):\n",
    "        # Predict/Forward Pass\n",
    "        y_pred = model(x_batch)\n",
    "        # Compute loss\n",
    "        loss = loss_fn(y_pred, y_batch)\n",
    "        optimizer.zero_grad()\n",
    "        loss.backward()\n",
    "        optimizer.step()\n",
    "        avg_loss += loss.item() / len(train_loader)\n",
    "    \n",
    "    # Set model to validation configuration -Doesn't get trained here\n",
    "    model.eval()        \n",
    "    avg_val_loss = 0.\n",
    "    val_preds = np.zeros((len(x_cv),len(le.classes_)))\n",
    "    \n",
    "    for i, (x_batch, y_batch) in enumerate(valid_loader):\n",
    "        y_pred = model(x_batch).detach()\n",
    "        avg_val_loss += loss_fn(y_pred, y_batch).item() / len(valid_loader)\n",
    "        # keep/store predictions\n",
    "        val_preds[i * batch_size:(i+1) * batch_size] = F.softmax(y_pred).cpu().numpy()\n",
    "    \n",
    "    # Check Accuracy\n",
    "    val_accuracy = sum(val_preds.argmax(axis=1)==test_y)/len(test_y)\n",
    "    train_loss.append(avg_loss)\n",
    "    valid_loss.append(avg_val_loss)\n",
    "    elapsed_time = time.time() - start_time \n",
    "    print('Epoch {}/{} \\t loss={:.4f} \\t val_loss={:.4f}  \\t val_acc={:.4f}  \\t time={:.2f}s'.format(epoch + 1, n_epochs, avg_loss, avg_val_loss, val_accuracy, elapsed_time))\n",
    "    \n",
    "    "
   ]
  },
  {
   "cell_type": "code",
   "execution_count": 20,
   "metadata": {},
   "outputs": [
    {
     "data": {
      "image/png": "[encoded data removed]",
      "text/plain": [
       "<Figure size 864x864 with 1 Axes>"
      ]
     },
     "metadata": {
      "needs_background": "light"
     },
     "output_type": "display_data"
    }
   ],
   "source": [
    "def plot_graph(epochs):\n",
    "    fig = plt.figure(figsize=(12,12))\n",
    "    plt.title(\"Train/Validation Loss\")\n",
    "    plt.plot(list(np.arange(epochs) + 1) , train_loss, label='train')\n",
    "    plt.plot(list(np.arange(epochs) + 1), valid_loss, label='validation')\n",
    "    plt.xlabel('num_epochs', fontsize=12)\n",
    "    plt.ylabel('loss', fontsize=12)\n",
    "    plt.legend(loc='best')\n",
    "plot_graph(n_epochs)"
   ]
  },
  {
   "cell_type": "code",
   "execution_count": 21,
   "metadata": {},
   "outputs": [
    {
     "name": "stdout",
     "output_type": "stream",
     "text": [
      "              precision    recall  f1-score   support\n",
      "\n",
      "       flood       0.86      0.92      0.89       315\n",
      "        none       0.90      0.82      0.86       279\n",
      "\n",
      "    accuracy                           0.88       594\n",
      "   macro avg       0.88      0.87      0.87       594\n",
      "weighted avg       0.88      0.88      0.87       594\n",
      "\n"
     ]
    }
   ],
   "source": [
    "pred = le.inverse_transform(val_preds.argmax(axis=1))\n",
    "test = le.inverse_transform(test_y)\n",
    "from sklearn.metrics import classification_report\n",
    "print(classification_report(test,pred,labels=train_labels['category'].unique()))"
   ]
  },
  {
   "cell_type": "code",
   "execution_count": 22,
   "metadata": {},
   "outputs": [],
   "source": [
    "filename = 'model_newsclassifier_v1_2.pt'\n",
    "torch.save(model.state_dict(), filename)"
   ]
  },
  {
   "cell_type": "code",
   "execution_count": null,
   "metadata": {},
   "outputs": [],
   "source": []
  }
 ],
 "metadata": {
  "kernelspec": {
   "display_name": "Python 3 (ipykernel)",
   "language": "python",
   "name": "python3"
  },
  "language_info": {
   "codemirror_mode": {
    "name": "ipython",
    "version": 3
   },
   "file_extension": ".py",
   "mimetype": "text/x-python",
   "name": "python",
   "nbconvert_exporter": "python",
   "pygments_lexer": "ipython3",
   "version": "3.7.10"
  }
 },
 "nbformat": 4,
 "nbformat_minor": 2
}
