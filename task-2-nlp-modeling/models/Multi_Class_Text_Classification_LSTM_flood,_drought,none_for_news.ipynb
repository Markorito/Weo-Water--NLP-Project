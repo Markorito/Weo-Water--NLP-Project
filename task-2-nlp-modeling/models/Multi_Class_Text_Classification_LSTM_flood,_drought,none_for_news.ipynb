{
  "nbformat": 4,
  "nbformat_minor": 0,
  "metadata": {
    "colab": {
      "name": "Multi-Class Text Classification LSTM flood, drought,none for news.ipynb",
      "provenance": [],
      "collapsed_sections": []
    },
    "kernelspec": {
      "name": "python3",
      "display_name": "Python 3"
    },
    "language_info": {
      "name": "python"
    },
    "accelerator": "GPU"
  },
  "cells": [
    {
      "cell_type": "code",
      "metadata": {
        "colab": {
          "base_uri": "https://localhost:8080/"
        },
        "id": "Z4FlIYug4EcK",
        "outputId": "33c11716-376d-447d-f030-092fffcf4ee5"
      },
      "source": [
        "!pip install chart-studio"
      ],
      "execution_count": 1,
      "outputs": [
        {
          "output_type": "stream",
          "text": [
            "Collecting chart-studio\n",
            "\u001b[?25l  Downloading https://files.pythonhosted.org/packages/ca/ce/330794a6b6ca4b9182c38fc69dd2a9cbff60fd49421cb8648ee5fee352dc/chart_studio-1.1.0-py3-none-any.whl (64kB)\n",
            "\r\u001b[K     |█████                           | 10kB 15.6MB/s eta 0:00:01\r\u001b[K     |██████████▏                     | 20kB 19.7MB/s eta 0:00:01\r\u001b[K     |███████████████▎                | 30kB 23.4MB/s eta 0:00:01\r\u001b[K     |████████████████████▍           | 40kB 21.0MB/s eta 0:00:01\r\u001b[K     |█████████████████████████▍      | 51kB 13.3MB/s eta 0:00:01\r\u001b[K     |██████████████████████████████▌ | 61kB 11.3MB/s eta 0:00:01\r\u001b[K     |████████████████████████████████| 71kB 5.3MB/s \n",
            "\u001b[?25hRequirement already satisfied: six in /usr/local/lib/python3.7/dist-packages (from chart-studio) (1.15.0)\n",
            "Requirement already satisfied: requests in /usr/local/lib/python3.7/dist-packages (from chart-studio) (2.23.0)\n",
            "Requirement already satisfied: plotly in /usr/local/lib/python3.7/dist-packages (from chart-studio) (4.4.1)\n",
            "Requirement already satisfied: retrying>=1.3.3 in /usr/local/lib/python3.7/dist-packages (from chart-studio) (1.3.3)\n",
            "Requirement already satisfied: chardet<4,>=3.0.2 in /usr/local/lib/python3.7/dist-packages (from requests->chart-studio) (3.0.4)\n",
            "Requirement already satisfied: idna<3,>=2.5 in /usr/local/lib/python3.7/dist-packages (from requests->chart-studio) (2.10)\n",
            "Requirement already satisfied: certifi>=2017.4.17 in /usr/local/lib/python3.7/dist-packages (from requests->chart-studio) (2021.5.30)\n",
            "Requirement already satisfied: urllib3!=1.25.0,!=1.25.1,<1.26,>=1.21.1 in /usr/local/lib/python3.7/dist-packages (from requests->chart-studio) (1.24.3)\n",
            "Installing collected packages: chart-studio\n",
            "Successfully installed chart-studio-1.1.0\n"
          ],
          "name": "stdout"
        }
      ]
    },
    {
      "cell_type": "code",
      "metadata": {
        "colab": {
          "base_uri": "https://localhost:8080/",
          "height": 51
        },
        "id": "XpxSrG0IcFzS",
        "outputId": "01d98818-837f-4e6c-b7a2-c12ec4a7e2e9"
      },
      "source": [
        "import numpy as np \n",
        "import pandas as pd\n",
        "import requests\n",
        "import io\n",
        "import matplotlib.pyplot as plt\n",
        "import seaborn as sns\n",
        "from keras.preprocessing.text import Tokenizer\n",
        "from keras.preprocessing.sequence import pad_sequences\n",
        "from keras.models import Sequential\n",
        "from keras.layers import Dense, Embedding, LSTM, SpatialDropout1D\n",
        "from sklearn.model_selection import train_test_split\n",
        "from keras.utils.np_utils import to_categorical\n",
        "from keras.callbacks import EarlyStopping\n",
        "from keras.layers import Dropout\n",
        "import re\n",
        "import nltk\n",
        "nltk.download('stopwords')\n",
        "from nltk.corpus import stopwords\n",
        "from nltk.stem.porter import *\n",
        "from nltk import word_tokenize\n",
        "STOPWORDS = set(stopwords.words('english'))\n",
        "from bs4 import BeautifulSoup\n",
        "import plotly.graph_objs as go\n",
        "from chart_studio import plotly\n",
        "from sklearn.utils import shuffle\n",
        "import cufflinks\n",
        "from sklearn.metrics import confusion_matrix\n",
        "from sklearn.metrics import precision_score\n",
        "from sklearn.metrics import recall_score\n",
        "from sklearn.metrics import f1_score\n",
        "from sklearn.metrics import accuracy_score\n",
        "from sklearn.metrics import classification_report\n",
        "from IPython.core.interactiveshell import InteractiveShell\n",
        "import plotly.figure_factory as ff\n",
        "InteractiveShell.ast_node_interactivity = 'all'\n",
        "from plotly.offline import iplot\n",
        "cufflinks.go_offline()\n",
        "cufflinks.set_config_file(world_readable=True, theme='pearl')"
      ],
      "execution_count": 2,
      "outputs": [
        {
          "output_type": "stream",
          "text": [
            "[nltk_data] Downloading package stopwords to /root/nltk_data...\n",
            "[nltk_data]   Unzipping corpora/stopwords.zip.\n"
          ],
          "name": "stdout"
        },
        {
          "output_type": "display_data",
          "data": {
            "text/html": [
              "        <script type=\"text/javascript\">\n",
              "        window.PlotlyConfig = {MathJaxConfig: 'local'};\n",
              "        if (window.MathJax) {MathJax.Hub.Config({SVG: {font: \"STIX-Web\"}});}\n",
              "        if (typeof require !== 'undefined') {\n",
              "        require.undef(\"plotly\");\n",
              "        requirejs.config({\n",
              "            paths: {\n",
              "                'plotly': ['https://cdn.plot.ly/plotly-latest.min']\n",
              "            }\n",
              "        });\n",
              "        require(['plotly'], function(Plotly) {\n",
              "            window._Plotly = Plotly;\n",
              "        });\n",
              "        }\n",
              "        </script>\n",
              "        "
            ]
          },
          "metadata": {
            "tags": []
          }
        }
      ]
    },
    {
      "cell_type": "code",
      "metadata": {
        "colab": {
          "base_uri": "https://localhost:8080/",
          "height": 37
        },
        "id": "wCMCHyen46_g",
        "outputId": "b5c66cee-f48e-4ede-d843-289d6309fed3"
      },
      "source": [
        "\"\"\" Warning : Don't forget to remove your github username and token after running this cell \"\"\"\n",
        "\n",
        "# Username of your GitHub account\n",
        " \n",
        "username = ''\n",
        " \n",
        "# Personal Access Token (PAO) from your GitHub account\n",
        " \n",
        "token = ''\n",
        " \n",
        "# Creates a re-usable session object with your creds in-built\n",
        " \n",
        "github_session = requests.Session()\n",
        "github_session.auth = (username, token)"
      ],
      "execution_count": 4,
      "outputs": [
        {
          "output_type": "execute_result",
          "data": {
            "application/vnd.google.colaboratory.intrinsic+json": {
              "type": "string"
            },
            "text/plain": [
              "\" Warning : Don't forget to remove your github username and token after running this cell \""
            ]
          },
          "metadata": {
            "tags": []
          },
          "execution_count": 4
        }
      ]
    },
    {
      "cell_type": "code",
      "metadata": {
        "id": "LOqrXsRR4Oim"
      },
      "source": [
        "#Loading the file so we can be able to clean it\n",
        "\n",
        "url = 'https://raw.githubusercontent.com/OmdenaAI/WeoWater/main/task-4-scraping-newspapers/labelled_data/cleaned_merged_labbeled_newspaper_data.csv'\n",
        "\n",
        "download = github_session.get(url).content #Reading and downloading the data\n",
        "\n",
        "data = pd.read_csv(io.StringIO(download.decode('utf-8'))) #Converting the data into a pd dataframe"
      ],
      "execution_count": 5,
      "outputs": []
    },
    {
      "cell_type": "code",
      "metadata": {
        "id": "IiD7_JmPdFd3"
      },
      "source": [
        "def review_to_words(review):\n",
        "    nltk.download(\"stopwords\", quiet=True)\n",
        "    stemmer = PorterStemmer()\n",
        "    \n",
        "    text = BeautifulSoup(review, \"html.parser\").get_text() # Remove HTML tags\n",
        "    text = re.sub(r\"[^a-zA-Z0-9]\", \" \", text.lower()) # Convert to lower case\n",
        "    words = text.split() # Split string into words\n",
        "    \n",
        "    words = [w for w in words if w not in stopwords.words(\"english\")] # Remove stopwords\n",
        "    words = [PorterStemmer().stem(w) for w in words] # stem\n",
        "    \n",
        "    return words"
      ],
      "execution_count": 6,
      "outputs": []
    },
    {
      "cell_type": "code",
      "metadata": {
        "id": "m8juaHJQdaC2"
      },
      "source": [
        "df_article_title = data['article_title']"
      ],
      "execution_count": 7,
      "outputs": []
    },
    {
      "cell_type": "code",
      "metadata": {
        "id": "ilqTp1gem1EB"
      },
      "source": [
        "df_article_content = data['article_content']"
      ],
      "execution_count": 7,
      "outputs": []
    },
    {
      "cell_type": "code",
      "metadata": {
        "colab": {
          "base_uri": "https://localhost:8080/"
        },
        "id": "TAULOaoKdziB",
        "outputId": "20b44f52-72be-468c-829c-0cfbb92e79bf"
      },
      "source": [
        "words = review_to_words(df_article_title[2615])\n",
        "print(words)"
      ],
      "execution_count": 8,
      "outputs": [
        {
          "output_type": "stream",
          "text": [
            "['nigeria', 'flood', 'edo', 'govt', 'deploy', 'earli', 'warn', 'equip', 'preventionweb']\n"
          ],
          "name": "stdout"
        }
      ]
    },
    {
      "cell_type": "code",
      "metadata": {
        "colab": {
          "base_uri": "https://localhost:8080/"
        },
        "id": "Fffyfhg8m8XP",
        "outputId": "494d753c-18dd-4695-9829-a025cc03affd"
      },
      "source": [
        "words = review_to_words(df_article_content[2615])\n",
        "print(words)"
      ],
      "execution_count": 9,
      "outputs": [
        {
          "output_type": "stream",
          "text": [
            "['sourc', 'nigerian', 'observ', 'bendel', 'newspap', 'compani', 'limit', 'bncl', 'benin', 'citi', 'edo', 'state', 'govern', 'conclud', 'plan', 'deploy', 'flood', 'earli', 'warn', 'region', 'weather', 'equip', 'state', 'dr', 'obaseki', 'said', 'soon', 'instal', 'flood', 'earli', 'warn', 'weather', 'facil', 'govern', 'would', 'better', 'protect', 'resid', 'state', 'flood', 'weather', 'induc', 'disast', 'accord', 'earli', 'warn', 'sign', 'gener', 'facil', 'instal', 'would', 'better', 'place', 'govern', 'take', 'proactiv', 'measur', 'protect', 'live', 'properti']\n"
          ],
          "name": "stdout"
        }
      ]
    },
    {
      "cell_type": "code",
      "metadata": {
        "id": "QetPtAOQeMN5"
      },
      "source": [
        "data['article_title'] = data['article_title'].apply(review_to_words)"
      ],
      "execution_count": 9,
      "outputs": []
    },
    {
      "cell_type": "code",
      "metadata": {
        "id": "hTY-9pZHnP33"
      },
      "source": [
        "data = data.dropna()"
      ],
      "execution_count": 10,
      "outputs": []
    },
    {
      "cell_type": "code",
      "metadata": {
        "colab": {
          "base_uri": "https://localhost:8080/"
        },
        "id": "brkNdAw2nHj8",
        "outputId": "80ce8340-b52e-465f-c47c-ce5499632b52"
      },
      "source": [
        "data['article_content'] = data['article_content'].apply(review_to_words) "
      ],
      "execution_count": 12,
      "outputs": [
        {
          "output_type": "stream",
          "text": [
            "/usr/local/lib/python3.7/dist-packages/bs4/__init__.py:336: UserWarning:\n",
            "\n",
            "\"https://www.latimes.com/local/lanow/la-me-ln-ucla-flood-repairs-damages-20140801-story.html\" looks like a URL. Beautiful Soup is not an HTTP client. You should probably use an HTTP client like requests to get the document behind the URL, and feed that document to Beautiful Soup.\n",
            "\n"
          ],
          "name": "stderr"
        }
      ]
    },
    {
      "cell_type": "code",
      "metadata": {
        "colab": {
          "base_uri": "https://localhost:8080/",
          "height": 428
        },
        "id": "YvNToq9neYua",
        "outputId": "93056f51-26e6-4f51-a18f-f063bf14886c"
      },
      "source": [
        "data.head()"
      ],
      "execution_count": 11,
      "outputs": [
        {
          "output_type": "execute_result",
          "data": {
            "text/html": [
              "<div>\n",
              "<style scoped>\n",
              "    .dataframe tbody tr th:only-of-type {\n",
              "        vertical-align: middle;\n",
              "    }\n",
              "\n",
              "    .dataframe tbody tr th {\n",
              "        vertical-align: top;\n",
              "    }\n",
              "\n",
              "    .dataframe thead th {\n",
              "        text-align: right;\n",
              "    }\n",
              "</style>\n",
              "<table border=\"1\" class=\"dataframe\">\n",
              "  <thead>\n",
              "    <tr style=\"text-align: right;\">\n",
              "      <th></th>\n",
              "      <th>Unnamed: 0</th>\n",
              "      <th>event_id</th>\n",
              "      <th>article_title</th>\n",
              "      <th>article_link</th>\n",
              "      <th>article_content</th>\n",
              "      <th>publishing_date</th>\n",
              "      <th>article_image</th>\n",
              "      <th>article_keywords</th>\n",
              "      <th>category</th>\n",
              "      <th>country</th>\n",
              "    </tr>\n",
              "  </thead>\n",
              "  <tbody>\n",
              "    <tr>\n",
              "      <th>0</th>\n",
              "      <td>200</td>\n",
              "      <td>DR-2014-000109-CHN</td>\n",
              "      <td>[worst, drought, 63, year, hit, liaon, provinc...</td>\n",
              "      <td>https://www.scmp.com/news/china/article/157349...</td>\n",
              "      <td>Liaoning averaged 90mm across the province in ...</td>\n",
              "      <td>Thu, 14 Aug 2014 07:00:00 GMT</td>\n",
              "      <td>https://cdn1.i-scmp.com/sites/default/files/st...</td>\n",
              "      <td>['averaged', 'liaoning', 'hits', 'dry', 'droug...</td>\n",
              "      <td>drought</td>\n",
              "      <td>China</td>\n",
              "    </tr>\n",
              "    <tr>\n",
              "      <th>1</th>\n",
              "      <td>201</td>\n",
              "      <td>DR-2014-000109-CHN</td>\n",
              "      <td>[time, drought, u, west, alfalfa, export, crit...</td>\n",
              "      <td>https://www.npr.org/2014/08/12/339753108/in-ti...</td>\n",
              "      <td>In Time Of Drought, U.S. West's Alfalfa Export...</td>\n",
              "      <td>Tue, 12 Aug 2014 07:00:00 GMT</td>\n",
              "      <td>https://media.npr.org/include/images/facebook-...</td>\n",
              "      <td>['criticized', 'river', 'drought', 'farmers', ...</td>\n",
              "      <td>drought</td>\n",
              "      <td>China</td>\n",
              "    </tr>\n",
              "    <tr>\n",
              "      <th>2</th>\n",
              "      <td>202</td>\n",
              "      <td>DR-2014-000109-CHN</td>\n",
              "      <td>[chines, coast, less, fish, sea, scientif, ame...</td>\n",
              "      <td>https://www.scientificamerican.com/article/mor...</td>\n",
              "      <td>China's booming economic growth is helping to ...</td>\n",
              "      <td>Fri, 08 Aug 2014 07:00:00 GMT</td>\n",
              "      <td>http://www.scientificamerican.com/themes/respo...</td>\n",
              "      <td>['bertness', 'chinese', 'research', 'sea', 'ec...</td>\n",
              "      <td>none</td>\n",
              "      <td>China</td>\n",
              "    </tr>\n",
              "    <tr>\n",
              "      <th>3</th>\n",
              "      <td>203</td>\n",
              "      <td>DR-2014-000109-CHN</td>\n",
              "      <td>[climat, chang, drought, ancient, time, scienc...</td>\n",
              "      <td>https://www.sciencedaily.com/releases/2014/08/...</td>\n",
              "      <td>The influence of climate on agriculture is bel...</td>\n",
              "      <td>Mon, 11 Aug 2014 07:00:00 GMT</td>\n",
              "      <td>https://www.sciencedaily.com/images/scidaily-i...</td>\n",
              "      <td>['climate', 'drought', 'ancient', 'agriculture...</td>\n",
              "      <td>drought</td>\n",
              "      <td>China</td>\n",
              "    </tr>\n",
              "    <tr>\n",
              "      <th>5</th>\n",
              "      <td>205</td>\n",
              "      <td>DR-2014-000109-CHN</td>\n",
              "      <td>[california, sever, drought, unchang, despit, ...</td>\n",
              "      <td>https://www.latimes.com/local/lanow/la-me-ln-r...</td>\n",
              "      <td>A series of thunderstorms that have hit Califo...</td>\n",
              "      <td>Thu, 07 Aug 2014 07:00:00 GMT</td>\n",
              "      <td>https://ca-times.brightspotcdn.com/dims4/defau...</td>\n",
              "      <td>['drought', 'states', 'rain', 'despite', 'cali...</td>\n",
              "      <td>drought</td>\n",
              "      <td>China</td>\n",
              "    </tr>\n",
              "  </tbody>\n",
              "</table>\n",
              "</div>"
            ],
            "text/plain": [
              "   Unnamed: 0            event_id  ... category country\n",
              "0         200  DR-2014-000109-CHN  ...  drought   China\n",
              "1         201  DR-2014-000109-CHN  ...  drought   China\n",
              "2         202  DR-2014-000109-CHN  ...     none   China\n",
              "3         203  DR-2014-000109-CHN  ...  drought   China\n",
              "5         205  DR-2014-000109-CHN  ...  drought   China\n",
              "\n",
              "[5 rows x 10 columns]"
            ]
          },
          "metadata": {
            "tags": []
          },
          "execution_count": 11
        }
      ]
    },
    {
      "cell_type": "code",
      "metadata": {
        "colab": {
          "base_uri": "https://localhost:8080/"
        },
        "id": "FtMpWpnc5J69",
        "outputId": "92c6b7a2-1683-4f13-fa6c-074f5df1d594"
      },
      "source": [
        "df_drought = data[data.category == 'drought']\n",
        "df_drought.shape"
      ],
      "execution_count": 12,
      "outputs": [
        {
          "output_type": "execute_result",
          "data": {
            "text/plain": [
              "(301, 10)"
            ]
          },
          "metadata": {
            "tags": []
          },
          "execution_count": 12
        }
      ]
    },
    {
      "cell_type": "code",
      "metadata": {
        "colab": {
          "base_uri": "https://localhost:8080/"
        },
        "id": "l2IIvAaT5Pxc",
        "outputId": "160ed8ca-bb75-489e-e1b4-8f2c024899b9"
      },
      "source": [
        "df_flood = data[data.category == 'flood']\n",
        "df_flood.shape"
      ],
      "execution_count": 13,
      "outputs": [
        {
          "output_type": "execute_result",
          "data": {
            "text/plain": [
              "(2081, 10)"
            ]
          },
          "metadata": {
            "tags": []
          },
          "execution_count": 13
        }
      ]
    },
    {
      "cell_type": "code",
      "metadata": {
        "colab": {
          "base_uri": "https://localhost:8080/"
        },
        "id": "uQ8jTyKW5Xcp",
        "outputId": "051f55aa-af00-496d-9549-fd60f516065e"
      },
      "source": [
        "df_none = data[data.category == 'none']\n",
        "df_none.shape"
      ],
      "execution_count": 14,
      "outputs": [
        {
          "output_type": "execute_result",
          "data": {
            "text/plain": [
              "(1248, 10)"
            ]
          },
          "metadata": {
            "tags": []
          },
          "execution_count": 14
        }
      ]
    },
    {
      "cell_type": "code",
      "metadata": {
        "id": "KBt5EUS_63iT"
      },
      "source": [
        "df_drought = shuffle(df_drought)\n",
        "df_flood = shuffle(df_flood)\n",
        "df_none = shuffle(df_none)"
      ],
      "execution_count": 15,
      "outputs": []
    },
    {
      "cell_type": "code",
      "metadata": {
        "colab": {
          "base_uri": "https://localhost:8080/"
        },
        "id": "Naa2z4lt5hAu",
        "outputId": "fcb32b98-bc2c-4399-b4df-51e33dd4425a"
      },
      "source": [
        "df_train_d = df_drought.head(251)\n",
        "df_train_d.shape"
      ],
      "execution_count": 16,
      "outputs": [
        {
          "output_type": "execute_result",
          "data": {
            "text/plain": [
              "(251, 10)"
            ]
          },
          "metadata": {
            "tags": []
          },
          "execution_count": 16
        }
      ]
    },
    {
      "cell_type": "code",
      "metadata": {
        "colab": {
          "base_uri": "https://localhost:8080/"
        },
        "id": "LC-wYqaP5sm1",
        "outputId": "55d5c9d7-f165-4184-9e48-3d7b0c9d1ad2"
      },
      "source": [
        "df_train_f = df_flood.head(251)\n",
        "df_train_f.shape"
      ],
      "execution_count": 17,
      "outputs": [
        {
          "output_type": "execute_result",
          "data": {
            "text/plain": [
              "(251, 10)"
            ]
          },
          "metadata": {
            "tags": []
          },
          "execution_count": 17
        }
      ]
    },
    {
      "cell_type": "code",
      "metadata": {
        "colab": {
          "base_uri": "https://localhost:8080/"
        },
        "id": "LFzUj6wC5xSw",
        "outputId": "331dd125-7657-41f0-e447-879df0a3c03b"
      },
      "source": [
        "df_train_n = df_none.head(251)\n",
        "df_train_n.shape"
      ],
      "execution_count": 18,
      "outputs": [
        {
          "output_type": "execute_result",
          "data": {
            "text/plain": [
              "(251, 10)"
            ]
          },
          "metadata": {
            "tags": []
          },
          "execution_count": 18
        }
      ]
    },
    {
      "cell_type": "code",
      "metadata": {
        "colab": {
          "base_uri": "https://localhost:8080/"
        },
        "id": "BDaXlJBs521f",
        "outputId": "a20fa62e-38ee-41d1-eec8-c86b88bc7e35"
      },
      "source": [
        "df_test_d = df_drought.tail(50)\n",
        "df_test_d.shape"
      ],
      "execution_count": 19,
      "outputs": [
        {
          "output_type": "execute_result",
          "data": {
            "text/plain": [
              "(50, 10)"
            ]
          },
          "metadata": {
            "tags": []
          },
          "execution_count": 19
        }
      ]
    },
    {
      "cell_type": "code",
      "metadata": {
        "colab": {
          "base_uri": "https://localhost:8080/"
        },
        "id": "HJpclfBZ6MN_",
        "outputId": "86485464-292f-4f77-9f53-1da9921a0235"
      },
      "source": [
        "df_test_f = df_flood.tail(50)\n",
        "df_test_f.shape"
      ],
      "execution_count": 20,
      "outputs": [
        {
          "output_type": "execute_result",
          "data": {
            "text/plain": [
              "(50, 10)"
            ]
          },
          "metadata": {
            "tags": []
          },
          "execution_count": 20
        }
      ]
    },
    {
      "cell_type": "code",
      "metadata": {
        "colab": {
          "base_uri": "https://localhost:8080/"
        },
        "id": "CP_mq-j76aHY",
        "outputId": "83f55e77-f7e7-4556-dc43-82e67a7bb26a"
      },
      "source": [
        "df_test_n = df_none.tail(50)\n",
        "df_test_n.shape"
      ],
      "execution_count": 21,
      "outputs": [
        {
          "output_type": "execute_result",
          "data": {
            "text/plain": [
              "(50, 10)"
            ]
          },
          "metadata": {
            "tags": []
          },
          "execution_count": 21
        }
      ]
    },
    {
      "cell_type": "code",
      "metadata": {
        "colab": {
          "base_uri": "https://localhost:8080/"
        },
        "id": "Ljnfjv0F7NHb",
        "outputId": "15c37655-ef13-4369-8684-73311aec1ad8"
      },
      "source": [
        "#concatenating\n",
        "df_train =pd.concat([df_train_d,df_train_f,df_train_n], ignore_index=True)\n",
        "df_train = shuffle(df_train)\n",
        "df_train.shape"
      ],
      "execution_count": 22,
      "outputs": [
        {
          "output_type": "execute_result",
          "data": {
            "text/plain": [
              "(753, 10)"
            ]
          },
          "metadata": {
            "tags": []
          },
          "execution_count": 22
        }
      ]
    },
    {
      "cell_type": "code",
      "metadata": {
        "colab": {
          "base_uri": "https://localhost:8080/"
        },
        "id": "1bMy6UkW7i9I",
        "outputId": "e51827f3-5b31-4171-db3b-efddc7b9c0c1"
      },
      "source": [
        "#concatenating\n",
        "df_test =pd.concat([df_test_d,df_test_f,df_test_n], ignore_index=True)\n",
        "df_test = shuffle(df_test)\n",
        "df_test.shape"
      ],
      "execution_count": 23,
      "outputs": [
        {
          "output_type": "execute_result",
          "data": {
            "text/plain": [
              "(150, 10)"
            ]
          },
          "metadata": {
            "tags": []
          },
          "execution_count": 23
        }
      ]
    },
    {
      "cell_type": "code",
      "metadata": {
        "colab": {
          "base_uri": "https://localhost:8080/"
        },
        "id": "qkNtPBVr7xmH",
        "outputId": "953a37d2-6e86-43a8-bebc-e0f4ff4c77d0"
      },
      "source": [
        "df_train.category.value_counts()"
      ],
      "execution_count": 24,
      "outputs": [
        {
          "output_type": "execute_result",
          "data": {
            "text/plain": [
              "drought    251\n",
              "none       251\n",
              "flood      251\n",
              "Name: category, dtype: int64"
            ]
          },
          "metadata": {
            "tags": []
          },
          "execution_count": 24
        }
      ]
    },
    {
      "cell_type": "code",
      "metadata": {
        "id": "kfcZV8G0744l"
      },
      "source": [
        " #changing the type from object to category\n",
        " df_train['category']=df_train['category'].astype('category')\n",
        " df_test['category']=df_test['category'].astype('category')"
      ],
      "execution_count": 27,
      "outputs": []
    },
    {
      "cell_type": "code",
      "metadata": {
        "colab": {
          "base_uri": "https://localhost:8080/"
        },
        "id": "6dcGk7r58EOE",
        "outputId": "b8f4ba06-e48b-4b1e-ea32-5c3bfd32d345"
      },
      "source": [
        "# Get the numerical ids of column label\n",
        "numerical_ids_train = df_train.category.cat.codes\n",
        "numerical_ids_test = df_test.category.cat.codes\n",
        "\n",
        "# Print initial shape\n",
        "print(numerical_ids_train.shape)\n",
        "print(numerical_ids_test.shape)"
      ],
      "execution_count": 29,
      "outputs": [
        {
          "output_type": "stream",
          "text": [
            "(753,)\n",
            "(150,)\n"
          ],
          "name": "stdout"
        }
      ]
    },
    {
      "cell_type": "code",
      "metadata": {
        "colab": {
          "base_uri": "https://localhost:8080/"
        },
        "id": "rtFitdmh8O29",
        "outputId": "2bfa4b2c-208d-451b-a19f-a93c1cb2a0b3"
      },
      "source": [
        "# One-hot encode the indexes\n",
        "Y = to_categorical(numerical_ids_train)\n",
        "Y_test = to_categorical(numerical_ids_test)\n",
        "\n",
        "# Check the new shape of the variable\n",
        "print(Y.shape)\n",
        "print(Y_test.shape)\n",
        "\n",
        "# Print the first 5 rows\n",
        "print(Y[:5])\n",
        "print(Y_test[:5])"
      ],
      "execution_count": 30,
      "outputs": [
        {
          "output_type": "stream",
          "text": [
            "(753, 3)\n",
            "(150, 3)\n",
            "[[1. 0. 0.]\n",
            " [0. 0. 1.]\n",
            " [0. 1. 0.]\n",
            " [0. 0. 1.]\n",
            " [0. 1. 0.]]\n",
            "[[0. 1. 0.]\n",
            " [0. 1. 0.]\n",
            " [0. 1. 0.]\n",
            " [1. 0. 0.]\n",
            " [0. 0. 1.]]\n"
          ],
          "name": "stdout"
        }
      ]
    },
    {
      "cell_type": "code",
      "metadata": {
        "id": "XWUhobJ68a3k"
      },
      "source": [
        "df_train['category'] = df_train['category'].replace({'flood':1,'drought':2,'none':3})"
      ],
      "execution_count": 27,
      "outputs": []
    },
    {
      "cell_type": "code",
      "metadata": {
        "id": "7XrfHm2GA1hj"
      },
      "source": [
        "df_test['category'] = df_test['category'].replace({'flood':1,'drought':2,'none':3})"
      ],
      "execution_count": 28,
      "outputs": []
    },
    {
      "cell_type": "code",
      "metadata": {
        "colab": {
          "base_uri": "https://localhost:8080/"
        },
        "id": "8hQFvOQI9Pdy",
        "outputId": "3e61dba3-cdc0-4287-e3a7-f8865a0d1f12"
      },
      "source": [
        "tokenizer = Tokenizer()\n",
        "tokenizer.fit_on_texts(df_train.article_title)\n",
        "# Create the (X, Y) variables\n",
        "X = tokenizer.texts_to_sequences(df_train.article_title)\n",
        "X = pad_sequences(X, maxlen=20)\n",
        "#Y = to_categorical(df_train.category)\n",
        "# Print the shapes\n",
        "print(X.shape)\n",
        "print(Y.shape)"
      ],
      "execution_count": 56,
      "outputs": [
        {
          "output_type": "stream",
          "text": [
            "(753, 20)\n",
            "(753, 3)\n"
          ],
          "name": "stdout"
        }
      ]
    },
    {
      "cell_type": "code",
      "metadata": {
        "id": "xpPV9w4DAcue"
      },
      "source": [
        "# Create the (X, Y) variables\n",
        "X_test = tokenizer.texts_to_sequences(df_test.article_title)\n",
        "X_test = pad_sequences(X_test, maxlen=20)\n",
        "#Y_test = to_categorical(df_test.category)"
      ],
      "execution_count": 57,
      "outputs": []
    },
    {
      "cell_type": "code",
      "metadata": {
        "colab": {
          "base_uri": "https://localhost:8080/"
        },
        "id": "WGsWhJDg9yV_",
        "outputId": "b0f12149-76ad-48f7-d2b6-ad1c6cbe52b9"
      },
      "source": [
        "# The maximum number of words to be used. (most frequent)\n",
        "MAX_NB_WORDS = 3000\n",
        "\n",
        "\n",
        "EMBEDDING_DIM = 100\n",
        "\n",
        "word_index = tokenizer.word_index\n",
        "print('Found %s unique tokens.' % len(word_index))"
      ],
      "execution_count": 58,
      "outputs": [
        {
          "output_type": "stream",
          "text": [
            "Found 2228 unique tokens.\n"
          ],
          "name": "stdout"
        }
      ]
    },
    {
      "cell_type": "code",
      "metadata": {
        "colab": {
          "base_uri": "https://localhost:8080/"
        },
        "id": "JwV9gJRl-iYT",
        "outputId": "8b0837f2-f835-405b-f502-b94722fc6438"
      },
      "source": [
        "model = Sequential()\n",
        "model.add(Embedding(MAX_NB_WORDS, EMBEDDING_DIM, input_length=X.shape[1]))\n",
        "model.add(SpatialDropout1D(0.2))\n",
        "model.add(LSTM(100, dropout=0.2, recurrent_dropout=0.2))\n",
        "model.add(Dense(3, activation='softmax'))\n",
        "model.compile(loss='categorical_crossentropy', optimizer='adam', metrics=['accuracy'])\n",
        "print(model.summary())"
      ],
      "execution_count": 59,
      "outputs": [
        {
          "output_type": "stream",
          "text": [
            "WARNING:tensorflow:Layer lstm_2 will not use cuDNN kernels since it doesn't meet the criteria. It will use a generic GPU kernel as fallback when running on GPU.\n",
            "Model: \"sequential_2\"\n",
            "_________________________________________________________________\n",
            "Layer (type)                 Output Shape              Param #   \n",
            "=================================================================\n",
            "embedding_2 (Embedding)      (None, 20, 100)           300000    \n",
            "_________________________________________________________________\n",
            "spatial_dropout1d_2 (Spatial (None, 20, 100)           0         \n",
            "_________________________________________________________________\n",
            "lstm_2 (LSTM)                (None, 100)               80400     \n",
            "_________________________________________________________________\n",
            "dense_2 (Dense)              (None, 3)                 303       \n",
            "=================================================================\n",
            "Total params: 380,703\n",
            "Trainable params: 380,703\n",
            "Non-trainable params: 0\n",
            "_________________________________________________________________\n",
            "None\n"
          ],
          "name": "stdout"
        }
      ]
    },
    {
      "cell_type": "code",
      "metadata": {
        "colab": {
          "base_uri": "https://localhost:8080/"
        },
        "id": "tpBfZX3E_DvI",
        "outputId": "d1cb737f-a951-4724-b809-14e3eab85927"
      },
      "source": [
        "epochs = 10\n",
        "batch_size = 64\n",
        "\n",
        "history = model.fit(X, Y, epochs=epochs, batch_size=batch_size,validation_split=0.1,callbacks=[EarlyStopping(monitor='val_loss', patience=3, min_delta=0.0001)])"
      ],
      "execution_count": 60,
      "outputs": [
        {
          "output_type": "stream",
          "text": [
            "Epoch 1/10\n",
            "11/11 [==============================] - 7s 236ms/step - loss: 1.0964 - accuracy: 0.3582 - val_loss: 1.0839 - val_accuracy: 0.3947\n",
            "Epoch 2/10\n",
            "11/11 [==============================] - 1s 137ms/step - loss: 1.0640 - accuracy: 0.6412 - val_loss: 1.0058 - val_accuracy: 0.7500\n",
            "Epoch 3/10\n",
            "11/11 [==============================] - 2s 142ms/step - loss: 0.9297 - accuracy: 0.7261 - val_loss: 0.7876 - val_accuracy: 0.7237\n",
            "Epoch 4/10\n",
            "11/11 [==============================] - 2s 141ms/step - loss: 0.6942 - accuracy: 0.7254 - val_loss: 0.7049 - val_accuracy: 0.6447\n",
            "Epoch 5/10\n",
            "11/11 [==============================] - 1s 132ms/step - loss: 0.4671 - accuracy: 0.8483 - val_loss: 0.5401 - val_accuracy: 0.7895\n",
            "Epoch 6/10\n",
            "11/11 [==============================] - 1s 133ms/step - loss: 0.2663 - accuracy: 0.9127 - val_loss: 0.4985 - val_accuracy: 0.7763\n",
            "Epoch 7/10\n",
            "11/11 [==============================] - 1s 136ms/step - loss: 0.1781 - accuracy: 0.9466 - val_loss: 0.5445 - val_accuracy: 0.7632\n",
            "Epoch 8/10\n",
            "11/11 [==============================] - 1s 133ms/step - loss: 0.1506 - accuracy: 0.9458 - val_loss: 0.5361 - val_accuracy: 0.7368\n",
            "Epoch 9/10\n",
            "11/11 [==============================] - 2s 137ms/step - loss: 0.1237 - accuracy: 0.9652 - val_loss: 0.5408 - val_accuracy: 0.7500\n"
          ],
          "name": "stdout"
        }
      ]
    },
    {
      "cell_type": "code",
      "metadata": {
        "colab": {
          "base_uri": "https://localhost:8080/"
        },
        "id": "aboTS9jY_2vj",
        "outputId": "bb1a0017-e989-4981-feb8-9bfb613581a3"
      },
      "source": [
        "accr = model.evaluate(X_test, Y_test)\n",
        "print('Test set\\n  Loss: {:0.3f}\\n  Accuracy: {:0.3f}'.format(accr[0],accr[1]))"
      ],
      "execution_count": 61,
      "outputs": [
        {
          "output_type": "stream",
          "text": [
            "5/5 [==============================] - 0s 15ms/step - loss: 0.6319 - accuracy: 0.7733\n",
            "Test set\n",
            "  Loss: 0.632\n",
            "  Accuracy: 0.773\n"
          ],
          "name": "stdout"
        }
      ]
    },
    {
      "cell_type": "code",
      "metadata": {
        "colab": {
          "base_uri": "https://localhost:8080/",
          "height": 281
        },
        "id": "HOrruUoaBdfM",
        "outputId": "1dd1ab70-0246-4b89-90c8-3b87c00c4ca5"
      },
      "source": [
        "plt.title('Loss')\n",
        "plt.plot(history.history['loss'], label='train')\n",
        "plt.plot(history.history['val_loss'], label='test')\n",
        "plt.legend()\n",
        "plt.show();"
      ],
      "execution_count": 62,
      "outputs": [
        {
          "output_type": "display_data",
          "data": {
            "image/png": "[encoded data removed]",
            "text/plain": [
              "<Figure size 432x288 with 1 Axes>"
            ]
          },
          "metadata": {
            "tags": [],
            "needs_background": "light"
          }
        }
      ]
    },
    {
      "cell_type": "code",
      "metadata": {
        "colab": {
          "base_uri": "https://localhost:8080/",
          "height": 318
        },
        "id": "Ywdy8k_yBkTr",
        "outputId": "349f53a7-f202-48de-f388-33a230bf1b43"
      },
      "source": [
        "plt.title('Accuracy')\n",
        "plt.plot(history.history['accuracy'], label='train')\n",
        "plt.plot(history.history['val_accuracy'], label='test')\n",
        "plt.legend()\n",
        "plt.show()"
      ],
      "execution_count": 63,
      "outputs": [
        {
          "output_type": "execute_result",
          "data": {
            "text/plain": [
              "Text(0.5, 1.0, 'Accuracy')"
            ]
          },
          "metadata": {
            "tags": []
          },
          "execution_count": 63
        },
        {
          "output_type": "execute_result",
          "data": {
            "text/plain": [
              "[<matplotlib.lines.Line2D at 0x7fc0a6e80350>]"
            ]
          },
          "metadata": {
            "tags": []
          },
          "execution_count": 63
        },
        {
          "output_type": "execute_result",
          "data": {
            "text/plain": [
              "[<matplotlib.lines.Line2D at 0x7fc0a6e80890>]"
            ]
          },
          "metadata": {
            "tags": []
          },
          "execution_count": 63
        },
        {
          "output_type": "execute_result",
          "data": {
            "text/plain": [
              "<matplotlib.legend.Legend at 0x7fc0a6e67510>"
            ]
          },
          "metadata": {
            "tags": []
          },
          "execution_count": 63
        },
        {
          "output_type": "display_data",
          "data": {
            "image/png": "[encoded data removed]",
            "text/plain": [
              "<Figure size 432x288 with 1 Axes>"
            ]
          },
          "metadata": {
            "tags": [],
            "needs_background": "light"
          }
        }
      ]
    },
    {
      "cell_type": "code",
      "metadata": {
        "id": "76Wxa9rY6tqS"
      },
      "source": [
        "y_pred = model.predict(X_test)"
      ],
      "execution_count": 64,
      "outputs": []
    },
    {
      "cell_type": "code",
      "metadata": {
        "id": "3M2rtcYE6yCG"
      },
      "source": [
        "import numpy as np\n",
        "y_pred=np.round(y_pred)"
      ],
      "execution_count": 56,
      "outputs": []
    },
    {
      "cell_type": "code",
      "metadata": {
        "id": "4joxl_y4654B"
      },
      "source": [
        "y_pred = np.argmax(y_pred, axis=-1)"
      ],
      "execution_count": 65,
      "outputs": []
    },
    {
      "cell_type": "code",
      "metadata": {
        "id": "GyhY94eu7Dun"
      },
      "source": [
        "y_test = np.argmax(Y_test, axis=-1)"
      ],
      "execution_count": 66,
      "outputs": []
    },
    {
      "cell_type": "code",
      "metadata": {
        "colab": {
          "base_uri": "https://localhost:8080/"
        },
        "id": "Sl1ichEx6-IZ",
        "outputId": "89238665-f3e9-4cfc-8fe2-88db163c1df9"
      },
      "source": [
        "y_pred"
      ],
      "execution_count": 67,
      "outputs": [
        {
          "output_type": "execute_result",
          "data": {
            "text/plain": [
              "array([1, 1, 1, 2, 0, 1, 1, 0, 2, 2, 1, 0, 2, 0, 0, 1, 2, 1, 2, 0, 1, 0,\n",
              "       1, 1, 0, 2, 0, 2, 1, 1, 1, 2, 1, 2, 1, 0, 0, 2, 0, 1, 1, 2, 1, 1,\n",
              "       0, 2, 0, 0, 0, 2, 1, 2, 0, 1, 1, 0, 2, 2, 1, 2, 1, 2, 1, 0, 2, 2,\n",
              "       1, 1, 2, 2, 0, 2, 2, 2, 2, 2, 1, 0, 2, 0, 0, 0, 1, 1, 2, 0, 2, 0,\n",
              "       0, 1, 1, 0, 0, 2, 2, 0, 1, 1, 1, 1, 1, 2, 1, 0, 0, 0, 0, 0, 1, 0,\n",
              "       0, 1, 1, 0, 0, 1, 2, 0, 0, 2, 2, 1, 2, 2, 0, 2, 1, 0, 2, 0, 1, 2,\n",
              "       1, 2, 1, 0, 1, 1, 1, 2, 1, 1, 2, 2, 1, 2, 2, 0, 1, 1])"
            ]
          },
          "metadata": {
            "tags": []
          },
          "execution_count": 67
        }
      ]
    },
    {
      "cell_type": "code",
      "metadata": {
        "colab": {
          "base_uri": "https://localhost:8080/"
        },
        "id": "PUzvGfzipG1f",
        "outputId": "64b5e4f8-f271-4860-e2fe-b9136afcd61d"
      },
      "source": [
        "# Accuracy\n",
        "print(accuracy_score(y_test, y_pred))"
      ],
      "execution_count": 68,
      "outputs": [
        {
          "output_type": "stream",
          "text": [
            "0.7733333333333333\n"
          ],
          "name": "stdout"
        }
      ]
    },
    {
      "cell_type": "code",
      "metadata": {
        "colab": {
          "base_uri": "https://localhost:8080/"
        },
        "id": "gGpzhJubpufa",
        "outputId": "cdb6e6fb-2d69-4182-d67f-23a76d9fbb52"
      },
      "source": [
        "print(precision_score(y_test, y_pred, average=None))\n",
        "print(recall_score(y_test, y_pred, average=None))\n",
        "print(f1_score(y_test, y_pred, average=None))"
      ],
      "execution_count": 69,
      "outputs": [
        {
          "output_type": "stream",
          "text": [
            "[0.86956522 0.78571429 0.66666667]\n",
            "[0.8  0.88 0.64]\n",
            "[0.83333333 0.83018868 0.65306122]\n"
          ],
          "name": "stdout"
        }
      ]
    },
    {
      "cell_type": "code",
      "metadata": {
        "colab": {
          "base_uri": "https://localhost:8080/"
        },
        "id": "mv1En-7hqNmX",
        "outputId": "e0ff1886-9362-472b-9d28-943be7b3ef62"
      },
      "source": [
        "lab_names = ['flood', 'drought', 'none']\n",
        "print(classification_report(y_test, y_pred, target_names=lab_names))"
      ],
      "execution_count": 70,
      "outputs": [
        {
          "output_type": "stream",
          "text": [
            "              precision    recall  f1-score   support\n",
            "\n",
            "       flood       0.87      0.80      0.83        50\n",
            "     drought       0.79      0.88      0.83        50\n",
            "        none       0.67      0.64      0.65        50\n",
            "\n",
            "    accuracy                           0.77       150\n",
            "   macro avg       0.77      0.77      0.77       150\n",
            "weighted avg       0.77      0.77      0.77       150\n",
            "\n"
          ],
          "name": "stdout"
        }
      ]
    },
    {
      "cell_type": "code",
      "metadata": {
        "colab": {
          "base_uri": "https://localhost:8080/"
        },
        "id": "HH2lafuGohWz",
        "outputId": "bdcd7df1-2524-49f3-8137-1025c70bb554"
      },
      "source": [
        "# Get probabilities for each class\n",
        "pred_probabilities = model.predict(X_test)\n",
        "DEFAULT_CLASS = 2\n",
        "# Thresholds at 0.5 and 0.8\n",
        "y_pred_50 = [np.argmax(x) if np.max(x) >= 0.5 else DEFAULT_CLASS for x in pred_probabilities]\n",
        "y_pred_80 = [np.argmax(x) if np.max(x) >= 0.8 else DEFAULT_CLASS for x in pred_probabilities]\n",
        "\n",
        "trade_off = pd.DataFrame({\n",
        "    'Precision_50': precision_score(y_test, y_pred_50, average=None), \n",
        "    'Precision_80': precision_score(y_test, y_pred_80, average=None), \n",
        "    'Recall_50': recall_score(y_test, y_pred_50, average=None), \n",
        "    'Recall_80': recall_score(y_test, y_pred_80, average=None)}, \n",
        "  index=['flood', 'drought', 'none'])\n",
        "\n",
        "print(trade_off)"
      ],
      "execution_count": 71,
      "outputs": [
        {
          "output_type": "stream",
          "text": [
            "         Precision_50  Precision_80  Recall_50  Recall_80\n",
            "flood        0.869565      0.897436       0.80       0.70\n",
            "drought      0.781818      0.818182       0.86       0.72\n",
            "none         0.653061      0.567164       0.64       0.76\n"
          ],
          "name": "stdout"
        }
      ]
    },
    {
      "cell_type": "code",
      "metadata": {
        "colab": {
          "base_uri": "https://localhost:8080/"
        },
        "id": "VBxfhYcPiBMs",
        "outputId": "d82983b6-ca14-4de4-a376-cefa8b62b180"
      },
      "source": [
        "# Build the confusion matrix\n",
        "confusion_matrix(y_test, y_pred_50)"
      ],
      "execution_count": 73,
      "outputs": [
        {
          "output_type": "execute_result",
          "data": {
            "text/plain": [
              "array([[40,  0, 10],\n",
              "       [ 0, 43,  7],\n",
              "       [ 6, 12, 32]])"
            ]
          },
          "metadata": {
            "tags": []
          },
          "execution_count": 73
        }
      ]
    },
    {
      "cell_type": "code",
      "metadata": {
        "colab": {
          "base_uri": "https://localhost:8080/"
        },
        "id": "bUEO03gScWA0",
        "outputId": "33ba2160-c97f-4e02-b095-ebecba896680"
      },
      "source": [
        "# Build the confusion matrix\n",
        "confusion_matrix(y_test, y_pred_80)"
      ],
      "execution_count": 74,
      "outputs": [
        {
          "output_type": "execute_result",
          "data": {
            "text/plain": [
              "array([[35,  0, 15],\n",
              "       [ 0, 36, 14],\n",
              "       [ 4,  8, 38]])"
            ]
          },
          "metadata": {
            "tags": []
          },
          "execution_count": 74
        }
      ]
    },
    {
      "cell_type": "code",
      "metadata": {
        "colab": {
          "base_uri": "https://localhost:8080/"
        },
        "id": "0c0HeEPVcax5",
        "outputId": "02887b50-8513-4d33-d4e3-82b25b57ace3"
      },
      "source": [
        "# Build the confusion matrix\n",
        "confusion_matrix(y_test, y_pred)"
      ],
      "execution_count": 75,
      "outputs": [
        {
          "output_type": "execute_result",
          "data": {
            "text/plain": [
              "array([[40,  0, 10],\n",
              "       [ 0, 44,  6],\n",
              "       [ 6, 12, 32]])"
            ]
          },
          "metadata": {
            "tags": []
          },
          "execution_count": 75
        }
      ]
    }
  ]
}