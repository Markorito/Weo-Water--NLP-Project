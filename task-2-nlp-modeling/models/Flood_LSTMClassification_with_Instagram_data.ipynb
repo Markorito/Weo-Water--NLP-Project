{
  "nbformat": 4,
  "nbformat_minor": 0,
  "metadata": {
    "colab": {
      "name": "Flood_LSTMClassification_with_Instagram_data.ipynb",
      "provenance": [],
      "collapsed_sections": []
    },
    "kernelspec": {
      "name": "python3",
      "display_name": "Python 3"
    },
    "language_info": {
      "name": "python"
    },
    "accelerator": "GPU"
  },
  "cells": [
    {
      "cell_type": "code",
      "metadata": {
        "colab": {
          "base_uri": "https://localhost:8080/"
        },
        "id": "RhFetvA1btGL",
        "outputId": "20506d6d-a54e-4402-a557-fa784fe330c1"
      },
      "source": [
        "import numpy as np\n",
        "import csv\n",
        "from tqdm import tqdm\n",
        "import base64\n",
        "from io import BytesIO\n",
        "import requests\n",
        "import io\n",
        "import pandas as pd\n",
        "import os\n",
        "import matplotlib.pyplot as plt\n",
        "import seaborn as sns\n",
        "from keras.preprocessing.text import Tokenizer\n",
        "from keras.preprocessing.sequence import pad_sequences\n",
        "from keras.models import Sequential\n",
        "from tensorflow.keras import models\n",
        "from keras.layers import Input,Dense, Embedding, LSTM, SpatialDropout1D,Bidirectional\n",
        "from keras.layers.merge import concatenate\n",
        "from sklearn.model_selection import train_test_split\n",
        "from keras.utils.np_utils import to_categorical\n",
        "from keras.callbacks import EarlyStopping\n",
        "from keras.layers import Dropout\n",
        "from sklearn.preprocessing import LabelEncoder, MinMaxScaler, OneHotEncoder\n",
        "import tensorflow as tf\n",
        "import re\n",
        "import nltk\n",
        "nltk.download('stopwords')\n",
        "from nltk.corpus import stopwords\n",
        "from nltk.tokenize import word_tokenize,RegexpTokenizer\n",
        "from nltk.corpus import stopwords\n",
        "from nltk.stem.porter import *\n",
        "from nltk import word_tokenize\n",
        "STOPWORDS = set(stopwords.words('english'))\n",
        "from bs4 import BeautifulSoup\n",
        "import plotly.graph_objs as go\n",
        "from sklearn.utils import shuffle\n",
        "from sklearn.metrics import mean_squared_error\n",
        "from sklearn.preprocessing import MinMaxScaler\n",
        "from keras.models import Sequential\n",
        "from keras.layers import Dense\n",
        "from keras.layers import LSTM\n",
        "from keras.regularizers import L1L2\n",
        "from keras.regularizers import Regularizer\n",
        "from keras.layers.normalization import BatchNormalization\n",
        "from sklearn.metrics import confusion_matrix\n",
        "from sklearn.metrics import precision_score\n",
        "from sklearn.metrics import recall_score\n",
        "from sklearn.metrics import f1_score\n",
        "from sklearn.metrics import accuracy_score\n",
        "from sklearn.metrics import classification_report\n",
        "from IPython.core.interactiveshell import InteractiveShell\n",
        "import plotly.figure_factory as ff\n",
        "InteractiveShell.ast_node_interactivity = 'all'\n",
        "from plotly.offline import iplot"
      ],
      "execution_count": 1,
      "outputs": [
        {
          "output_type": "stream",
          "text": [
            "[nltk_data] Downloading package stopwords to /root/nltk_data...\n",
            "[nltk_data]   Unzipping corpora/stopwords.zip.\n"
          ],
          "name": "stdout"
        }
      ]
    },
    {
      "cell_type": "code",
      "metadata": {
        "colab": {
          "base_uri": "https://localhost:8080/"
        },
        "id": "FhaLT1aifN0I",
        "outputId": "ae746f89-06cc-4776-9bad-838f25306649"
      },
      "source": [
        "from google.colab import drive\n",
        "drive.mount('/content/gdrive')"
      ],
      "execution_count": 2,
      "outputs": [
        {
          "output_type": "stream",
          "text": [
            "Mounted at /content/gdrive\n"
          ],
          "name": "stdout"
        }
      ]
    },
    {
      "cell_type": "code",
      "metadata": {
        "id": "YJS_iyP2GCxt"
      },
      "source": [
        "# Username of your GitHub account\n",
        "username = ''\n",
        "\n",
        "# Personal Access Token (PAO) from your GitHub account\n",
        "token = ''\n",
        "\n",
        "# Creates a re-usable session object with your creds in-built\n",
        "github_session = requests.Session()\n",
        "github_session.auth = (username, token)\n"
      ],
      "execution_count": 3,
      "outputs": []
    },
    {
      "cell_type": "code",
      "metadata": {
        "id": "q2UdSo70GNf7"
      },
      "source": [
        "url = 'https://raw.githubusercontent.com/OmdenaAI/WeoWater/main/task-3-wrangling-preprocessing/All_merged/All_data_sources_merged_updated.csv'\n",
        "download = github_session.get(url).content #Reading and downloading the data\n",
        "data = pd.read_csv(io.StringIO(download.decode('utf-8'))) #Converting the data into a pd dataframe\n",
        "\n",
        "#Extract instagram data from all dataseources\n",
        "ig_data = data.loc[data['data source']=='Instagram']\n",
        "ig_data.to_csv('ig_data.csv')"
      ],
      "execution_count": 4,
      "outputs": []
    },
    {
      "cell_type": "code",
      "metadata": {
        "id": "_qflW6BhvvfM"
      },
      "source": [
        "ig_data = pd.read_csv('ig_data.csv') "
      ],
      "execution_count": 5,
      "outputs": []
    },
    {
      "cell_type": "code",
      "metadata": {
        "colab": {
          "base_uri": "https://localhost:8080/",
          "height": 304
        },
        "id": "6Bqv6KXkGNoC",
        "outputId": "ffb9acba-de58-47dc-dc5d-70cc0ae87615"
      },
      "source": [
        "ig_data.head(5)"
      ],
      "execution_count": 6,
      "outputs": [
        {
          "output_type": "execute_result",
          "data": {
            "text/html": [
              "<div>\n",
              "<style scoped>\n",
              "    .dataframe tbody tr th:only-of-type {\n",
              "        vertical-align: middle;\n",
              "    }\n",
              "\n",
              "    .dataframe tbody tr th {\n",
              "        vertical-align: top;\n",
              "    }\n",
              "\n",
              "    .dataframe thead th {\n",
              "        text-align: right;\n",
              "    }\n",
              "</style>\n",
              "<table border=\"1\" class=\"dataframe\">\n",
              "  <thead>\n",
              "    <tr style=\"text-align: right;\">\n",
              "      <th></th>\n",
              "      <th>Unnamed: 0</th>\n",
              "      <th>Id</th>\n",
              "      <th>title</th>\n",
              "      <th>time</th>\n",
              "      <th>keywords</th>\n",
              "      <th>data source</th>\n",
              "      <th>category</th>\n",
              "      <th>country</th>\n",
              "      <th>source URL</th>\n",
              "      <th>body</th>\n",
              "      <th>language</th>\n",
              "    </tr>\n",
              "  </thead>\n",
              "  <tbody>\n",
              "    <tr>\n",
              "      <th>0</th>\n",
              "      <td>4216</td>\n",
              "      <td>1.790000e+16</td>\n",
              "      <td>NaN</td>\n",
              "      <td>2021-06-17T14:49:15+0000</td>\n",
              "      <td>NaN</td>\n",
              "      <td>Instagram</td>\n",
              "      <td>none</td>\n",
              "      <td>NaN</td>\n",
              "      <td>https://www.instagram.com/p/CQOakCZHpB2/</td>\n",
              "      <td>“Absence the highest form of presence”. #absen...</td>\n",
              "      <td>English</td>\n",
              "    </tr>\n",
              "    <tr>\n",
              "      <th>1</th>\n",
              "      <td>4217</td>\n",
              "      <td>1.790000e+16</td>\n",
              "      <td>NaN</td>\n",
              "      <td>2021-06-01T20:45:52+0000</td>\n",
              "      <td>NaN</td>\n",
              "      <td>Instagram</td>\n",
              "      <td>none</td>\n",
              "      <td>NaN</td>\n",
              "      <td>https://www.instagram.com/p/CPl2p5LBGVa/</td>\n",
              "      <td>Hearing aid design has come a very long way. W...</td>\n",
              "      <td>English</td>\n",
              "    </tr>\n",
              "    <tr>\n",
              "      <th>2</th>\n",
              "      <td>4218</td>\n",
              "      <td>1.790000e+16</td>\n",
              "      <td>NaN</td>\n",
              "      <td>2021-06-01T19:30:47+0000</td>\n",
              "      <td>NaN</td>\n",
              "      <td>Instagram</td>\n",
              "      <td>none</td>\n",
              "      <td>NaN</td>\n",
              "      <td>https://www.instagram.com/p/CPluDpMNFss/</td>\n",
              "      <td>Happy #PrideMonth from BAHA Irish Whiskey. Be ...</td>\n",
              "      <td>English</td>\n",
              "    </tr>\n",
              "    <tr>\n",
              "      <th>3</th>\n",
              "      <td>4219</td>\n",
              "      <td>1.790000e+16</td>\n",
              "      <td>NaN</td>\n",
              "      <td>2021-06-01T19:05:43+0000</td>\n",
              "      <td>NaN</td>\n",
              "      <td>Instagram</td>\n",
              "      <td>none</td>\n",
              "      <td>NaN</td>\n",
              "      <td>https://www.instagram.com/p/CPlrHFjgNKf/</td>\n",
              "      <td>Figuring out these crazy hands 😆\\n\\n#babiesofi...</td>\n",
              "      <td>English</td>\n",
              "    </tr>\n",
              "    <tr>\n",
              "      <th>4</th>\n",
              "      <td>4220</td>\n",
              "      <td>1.790000e+16</td>\n",
              "      <td>NaN</td>\n",
              "      <td>2021-06-01T18:24:14+0000</td>\n",
              "      <td>NaN</td>\n",
              "      <td>Instagram</td>\n",
              "      <td>none</td>\n",
              "      <td>NaN</td>\n",
              "      <td>https://www.instagram.com/p/CPlmch8HzKT/</td>\n",
              "      <td>I am THRILLED to share these pictures with you...</td>\n",
              "      <td>English</td>\n",
              "    </tr>\n",
              "  </tbody>\n",
              "</table>\n",
              "</div>"
            ],
            "text/plain": [
              "   Unnamed: 0  ...  language\n",
              "0        4216  ...   English\n",
              "1        4217  ...   English\n",
              "2        4218  ...   English\n",
              "3        4219  ...   English\n",
              "4        4220  ...   English\n",
              "\n",
              "[5 rows x 11 columns]"
            ]
          },
          "metadata": {
            "tags": []
          },
          "execution_count": 6
        }
      ]
    },
    {
      "cell_type": "code",
      "metadata": {
        "colab": {
          "base_uri": "https://localhost:8080/"
        },
        "id": "Xscu6a6nrwKV",
        "outputId": "6fc40c97-e390-4865-90d7-940df34e8475"
      },
      "source": [
        "ig_data.shape"
      ],
      "execution_count": 7,
      "outputs": [
        {
          "output_type": "execute_result",
          "data": {
            "text/plain": [
              "(1633, 11)"
            ]
          },
          "metadata": {
            "tags": []
          },
          "execution_count": 7
        }
      ]
    },
    {
      "cell_type": "code",
      "metadata": {
        "colab": {
          "base_uri": "https://localhost:8080/"
        },
        "id": "SEz3Mz5_sECK",
        "outputId": "ea83f5de-2e21-416d-a2b1-2943a925eff3"
      },
      "source": [
        "ig_data.info()"
      ],
      "execution_count": 8,
      "outputs": [
        {
          "output_type": "stream",
          "text": [
            "<class 'pandas.core.frame.DataFrame'>\n",
            "RangeIndex: 1633 entries, 0 to 1632\n",
            "Data columns (total 11 columns):\n",
            " #   Column       Non-Null Count  Dtype  \n",
            "---  ------       --------------  -----  \n",
            " 0   Unnamed: 0   1633 non-null   int64  \n",
            " 1   Id           1633 non-null   float64\n",
            " 2   title        0 non-null      float64\n",
            " 3   time         1609 non-null   object \n",
            " 4   keywords     0 non-null      float64\n",
            " 5   data source  1633 non-null   object \n",
            " 6   category     1633 non-null   object \n",
            " 7   country      0 non-null      float64\n",
            " 8   source URL   1633 non-null   object \n",
            " 9   body         1633 non-null   object \n",
            " 10  language     1633 non-null   object \n",
            "dtypes: float64(4), int64(1), object(6)\n",
            "memory usage: 140.5+ KB\n"
          ],
          "name": "stdout"
        }
      ]
    },
    {
      "cell_type": "code",
      "metadata": {
        "id": "8ST3Dl2xwVa8"
      },
      "source": [
        "drop_columns = ['Unnamed: 0','title', 'time', 'keywords', 'data source', 'country', 'source URL', 'language', 'Id']\n",
        "ig_data_clean = ig_data.drop(columns=drop_columns,axis=1)"
      ],
      "execution_count": 9,
      "outputs": []
    },
    {
      "cell_type": "code",
      "metadata": {
        "colab": {
          "base_uri": "https://localhost:8080/",
          "height": 203
        },
        "id": "1qk71w-IwVxB",
        "outputId": "45d8d9a8-8f14-490a-b6a3-010b3b008170"
      },
      "source": [
        "ig_data_clean.head(5)"
      ],
      "execution_count": 10,
      "outputs": [
        {
          "output_type": "execute_result",
          "data": {
            "text/html": [
              "<div>\n",
              "<style scoped>\n",
              "    .dataframe tbody tr th:only-of-type {\n",
              "        vertical-align: middle;\n",
              "    }\n",
              "\n",
              "    .dataframe tbody tr th {\n",
              "        vertical-align: top;\n",
              "    }\n",
              "\n",
              "    .dataframe thead th {\n",
              "        text-align: right;\n",
              "    }\n",
              "</style>\n",
              "<table border=\"1\" class=\"dataframe\">\n",
              "  <thead>\n",
              "    <tr style=\"text-align: right;\">\n",
              "      <th></th>\n",
              "      <th>category</th>\n",
              "      <th>body</th>\n",
              "    </tr>\n",
              "  </thead>\n",
              "  <tbody>\n",
              "    <tr>\n",
              "      <th>0</th>\n",
              "      <td>none</td>\n",
              "      <td>“Absence the highest form of presence”. #absen...</td>\n",
              "    </tr>\n",
              "    <tr>\n",
              "      <th>1</th>\n",
              "      <td>none</td>\n",
              "      <td>Hearing aid design has come a very long way. W...</td>\n",
              "    </tr>\n",
              "    <tr>\n",
              "      <th>2</th>\n",
              "      <td>none</td>\n",
              "      <td>Happy #PrideMonth from BAHA Irish Whiskey. Be ...</td>\n",
              "    </tr>\n",
              "    <tr>\n",
              "      <th>3</th>\n",
              "      <td>none</td>\n",
              "      <td>Figuring out these crazy hands 😆\\n\\n#babiesofi...</td>\n",
              "    </tr>\n",
              "    <tr>\n",
              "      <th>4</th>\n",
              "      <td>none</td>\n",
              "      <td>I am THRILLED to share these pictures with you...</td>\n",
              "    </tr>\n",
              "  </tbody>\n",
              "</table>\n",
              "</div>"
            ],
            "text/plain": [
              "  category                                               body\n",
              "0     none  “Absence the highest form of presence”. #absen...\n",
              "1     none  Hearing aid design has come a very long way. W...\n",
              "2     none  Happy #PrideMonth from BAHA Irish Whiskey. Be ...\n",
              "3     none  Figuring out these crazy hands 😆\\n\\n#babiesofi...\n",
              "4     none  I am THRILLED to share these pictures with you..."
            ]
          },
          "metadata": {
            "tags": []
          },
          "execution_count": 10
        }
      ]
    },
    {
      "cell_type": "code",
      "metadata": {
        "colab": {
          "base_uri": "https://localhost:8080/"
        },
        "id": "lKB0K5l28_kD",
        "outputId": "3f149ba1-5123-4a43-b283-6b81ad8d6249"
      },
      "source": [
        "def preprocess(article):\n",
        "    \"\"\"\n",
        "    This function takes a string as input, then performs these operations: \n",
        "        - lowercase\n",
        "        - remove URLs\n",
        "        - remove ticker symbols \n",
        "        - removes punctuation\n",
        "        - removes any single character tokens\n",
        "    Parameters\n",
        "    ----------\n",
        "        message : The text message to be preprocessed\n",
        "    Returns\n",
        "    -------\n",
        "        text: The preprocessed text\n",
        "    \"\"\" \n",
        "    # Lowercase the article\n",
        "    text = article.lower()\n",
        "    # Replace URLs with a space in the message\n",
        "    text = re.sub('https?:\\/\\/[a-zA-Z0-9@:%._\\/+~#=?&;-]*', ' ', text)\n",
        "    # Replace ticker symbols with a space. The ticker symbols are any stock symbol that starts with $.\n",
        "    text = re.sub('\\$[a-zA-Z0-9]*', ' ', text)\n",
        "    text = re.sub('\\@[a-zA-Z0-9]*', ' ', text)\n",
        "    # Replace everything not a letter or apostrophe with a space\n",
        "    text = re.sub('[^a-zA-Z\\']', ' ', text)\n",
        "    # Remove single letter words\n",
        "    text = ' '.join( [w for w in text.split() if len(w)>1] )\n",
        "    \n",
        "    return text\n",
        "        \n",
        "# Process for all messages\n",
        "preprocessed = [preprocess(posts) for posts in tqdm(ig_data_clean['body'])]"
      ],
      "execution_count": 11,
      "outputs": [
        {
          "output_type": "stream",
          "text": [
            "100%|██████████| 1633/1633 [00:00<00:00, 27210.42it/s]\n"
          ],
          "name": "stderr"
        }
      ]
    },
    {
      "cell_type": "code",
      "metadata": {
        "id": "oqxz1l9U8_kL"
      },
      "source": [
        "ig_data_clean['Cleaned_body']= preprocessed"
      ],
      "execution_count": 12,
      "outputs": []
    },
    {
      "cell_type": "code",
      "metadata": {
        "id": "bv137Z_T2peW",
        "colab": {
          "base_uri": "https://localhost:8080/",
          "height": 203
        },
        "outputId": "af774872-ad9c-44dc-cb89-25e0d4430967"
      },
      "source": [
        "ig_data_clean.head(5)"
      ],
      "execution_count": 13,
      "outputs": [
        {
          "output_type": "execute_result",
          "data": {
            "text/html": [
              "<div>\n",
              "<style scoped>\n",
              "    .dataframe tbody tr th:only-of-type {\n",
              "        vertical-align: middle;\n",
              "    }\n",
              "\n",
              "    .dataframe tbody tr th {\n",
              "        vertical-align: top;\n",
              "    }\n",
              "\n",
              "    .dataframe thead th {\n",
              "        text-align: right;\n",
              "    }\n",
              "</style>\n",
              "<table border=\"1\" class=\"dataframe\">\n",
              "  <thead>\n",
              "    <tr style=\"text-align: right;\">\n",
              "      <th></th>\n",
              "      <th>category</th>\n",
              "      <th>body</th>\n",
              "      <th>Cleaned_body</th>\n",
              "    </tr>\n",
              "  </thead>\n",
              "  <tbody>\n",
              "    <tr>\n",
              "      <th>0</th>\n",
              "      <td>none</td>\n",
              "      <td>“Absence the highest form of presence”. #absen...</td>\n",
              "      <td>absence the highest form of presence absence p...</td>\n",
              "    </tr>\n",
              "    <tr>\n",
              "      <th>1</th>\n",
              "      <td>none</td>\n",
              "      <td>Hearing aid design has come a very long way. W...</td>\n",
              "      <td>hearing aid design has come very long way with...</td>\n",
              "    </tr>\n",
              "    <tr>\n",
              "      <th>2</th>\n",
              "      <td>none</td>\n",
              "      <td>Happy #PrideMonth from BAHA Irish Whiskey. Be ...</td>\n",
              "      <td>happy pridemonth from baha irish whiskey be wh...</td>\n",
              "    </tr>\n",
              "    <tr>\n",
              "      <th>3</th>\n",
              "      <td>none</td>\n",
              "      <td>Figuring out these crazy hands 😆\\n\\n#babiesofi...</td>\n",
              "      <td>figuring out these crazy hands babiesofinstagr...</td>\n",
              "    </tr>\n",
              "    <tr>\n",
              "      <th>4</th>\n",
              "      <td>none</td>\n",
              "      <td>I am THRILLED to share these pictures with you...</td>\n",
              "      <td>am thrilled to share these pictures with you t...</td>\n",
              "    </tr>\n",
              "  </tbody>\n",
              "</table>\n",
              "</div>"
            ],
            "text/plain": [
              "  category  ...                                       Cleaned_body\n",
              "0     none  ...  absence the highest form of presence absence p...\n",
              "1     none  ...  hearing aid design has come very long way with...\n",
              "2     none  ...  happy pridemonth from baha irish whiskey be wh...\n",
              "3     none  ...  figuring out these crazy hands babiesofinstagr...\n",
              "4     none  ...  am thrilled to share these pictures with you t...\n",
              "\n",
              "[5 rows x 3 columns]"
            ]
          },
          "metadata": {
            "tags": []
          },
          "execution_count": 13
        }
      ]
    },
    {
      "cell_type": "markdown",
      "metadata": {
        "id": "V8j6mN8A6Qlh"
      },
      "source": [
        "**Class balancing for category column**"
      ]
    },
    {
      "cell_type": "code",
      "metadata": {
        "colab": {
          "base_uri": "https://localhost:8080/"
        },
        "id": "rplN2B66MumM",
        "outputId": "9a2aea00-2b0a-4812-e0d6-11980b4629b0"
      },
      "source": [
        "ig_data_clean.category.value_counts()"
      ],
      "execution_count": 14,
      "outputs": [
        {
          "output_type": "execute_result",
          "data": {
            "text/plain": [
              "none       1138\n",
              "flood       388\n",
              "drought     107\n",
              "Name: category, dtype: int64"
            ]
          },
          "metadata": {
            "tags": []
          },
          "execution_count": 14
        }
      ]
    },
    {
      "cell_type": "code",
      "metadata": {
        "colab": {
          "base_uri": "https://localhost:8080/"
        },
        "id": "JGNnDlEl5HEB",
        "outputId": "865323b5-1ad2-4abf-a877-2589fb95a8bf"
      },
      "source": [
        "ig_data_flood = ig_data_clean[ig_data_clean.category == 'flood']\n",
        "ig_data_flood.shape"
      ],
      "execution_count": 15,
      "outputs": [
        {
          "output_type": "execute_result",
          "data": {
            "text/plain": [
              "(388, 3)"
            ]
          },
          "metadata": {
            "tags": []
          },
          "execution_count": 15
        }
      ]
    },
    {
      "cell_type": "code",
      "metadata": {
        "colab": {
          "base_uri": "https://localhost:8080/"
        },
        "id": "W7g-02515HKA",
        "outputId": "fab08a86-9752-4de9-dfc4-fe5bdf944896"
      },
      "source": [
        "ig_data_none = ig_data_clean[ig_data_clean.category == 'none']\n",
        "ig_data_none.shape"
      ],
      "execution_count": 16,
      "outputs": [
        {
          "output_type": "execute_result",
          "data": {
            "text/plain": [
              "(1138, 3)"
            ]
          },
          "metadata": {
            "tags": []
          },
          "execution_count": 16
        }
      ]
    },
    {
      "cell_type": "code",
      "metadata": {
        "id": "lG6L-tGv5b_o"
      },
      "source": [
        "df_flood = shuffle(ig_data_flood)\n",
        "df_none = shuffle(ig_data_none)"
      ],
      "execution_count": 17,
      "outputs": []
    },
    {
      "cell_type": "code",
      "metadata": {
        "colab": {
          "base_uri": "https://localhost:8080/"
        },
        "id": "ZgDDrT1U5cJe",
        "outputId": "e155ceaf-5b58-4a5a-c916-1103d49f0b10"
      },
      "source": [
        "ig_train_f= df_flood.head(340)\n",
        "ig_train_f.shape"
      ],
      "execution_count": 18,
      "outputs": [
        {
          "output_type": "execute_result",
          "data": {
            "text/plain": [
              "(340, 3)"
            ]
          },
          "metadata": {
            "tags": []
          },
          "execution_count": 18
        }
      ]
    },
    {
      "cell_type": "code",
      "metadata": {
        "colab": {
          "base_uri": "https://localhost:8080/"
        },
        "id": "KzIJVK9-6Fvu",
        "outputId": "5307760b-d09f-4c9f-e30c-6cfc1719b639"
      },
      "source": [
        "ig_train_n= df_none.head(340)\n",
        "ig_train_n.shape"
      ],
      "execution_count": 19,
      "outputs": [
        {
          "output_type": "execute_result",
          "data": {
            "text/plain": [
              "(340, 3)"
            ]
          },
          "metadata": {
            "tags": []
          },
          "execution_count": 19
        }
      ]
    },
    {
      "cell_type": "code",
      "metadata": {
        "colab": {
          "base_uri": "https://localhost:8080/"
        },
        "id": "WyFBr7KgBxRB",
        "outputId": "3b4f4772-5d00-4b03-abab-61b3b4dd2243"
      },
      "source": [
        "ig_test_f= df_flood.tail(48)\n",
        "ig_test_f.shape"
      ],
      "execution_count": 20,
      "outputs": [
        {
          "output_type": "execute_result",
          "data": {
            "text/plain": [
              "(48, 3)"
            ]
          },
          "metadata": {
            "tags": []
          },
          "execution_count": 20
        }
      ]
    },
    {
      "cell_type": "code",
      "metadata": {
        "colab": {
          "base_uri": "https://localhost:8080/"
        },
        "id": "EDUr_PtlByJr",
        "outputId": "3811b9d9-bc7e-49af-c53e-b8c23e820f39"
      },
      "source": [
        "ig_test_n= df_none.tail(48)\n",
        "ig_test_n.shape"
      ],
      "execution_count": 21,
      "outputs": [
        {
          "output_type": "execute_result",
          "data": {
            "text/plain": [
              "(48, 3)"
            ]
          },
          "metadata": {
            "tags": []
          },
          "execution_count": 21
        }
      ]
    },
    {
      "cell_type": "code",
      "metadata": {
        "colab": {
          "base_uri": "https://localhost:8080/"
        },
        "id": "Apm28Ws56kPR",
        "outputId": "a1e032e5-a228-48cf-d405-ba87b67148d6"
      },
      "source": [
        "#concatenating\n",
        "ig_train =pd.concat([ig_train_f,ig_train_n], ignore_index=True)\n",
        "ig_train = shuffle(ig_train)\n",
        "ig_train.shape"
      ],
      "execution_count": 22,
      "outputs": [
        {
          "output_type": "execute_result",
          "data": {
            "text/plain": [
              "(680, 3)"
            ]
          },
          "metadata": {
            "tags": []
          },
          "execution_count": 22
        }
      ]
    },
    {
      "cell_type": "code",
      "metadata": {
        "colab": {
          "base_uri": "https://localhost:8080/"
        },
        "id": "64bAI_Md6tEJ",
        "outputId": "9db7cf71-d036-436c-de85-f64823939371"
      },
      "source": [
        "ig_train.category.value_counts()"
      ],
      "execution_count": 23,
      "outputs": [
        {
          "output_type": "execute_result",
          "data": {
            "text/plain": [
              "flood    340\n",
              "none     340\n",
              "Name: category, dtype: int64"
            ]
          },
          "metadata": {
            "tags": []
          },
          "execution_count": 23
        }
      ]
    },
    {
      "cell_type": "code",
      "metadata": {
        "colab": {
          "base_uri": "https://localhost:8080/"
        },
        "id": "XhX-IBcJCFaq",
        "outputId": "593a0eed-db91-40c3-bd24-9ab9d6447929"
      },
      "source": [
        "#concatenating\n",
        "ig_test =pd.concat([ig_test_f,ig_test_n], ignore_index=True)\n",
        "ig_test = shuffle(ig_test)\n",
        "ig_test.shape"
      ],
      "execution_count": 24,
      "outputs": [
        {
          "output_type": "execute_result",
          "data": {
            "text/plain": [
              "(96, 3)"
            ]
          },
          "metadata": {
            "tags": []
          },
          "execution_count": 24
        }
      ]
    },
    {
      "cell_type": "code",
      "metadata": {
        "id": "bx-g3L__6tGx"
      },
      "source": [
        "#changing the type from object to category\n",
        "ig_train['category']=ig_train['category'].astype('category')\n",
        "ig_test['category']=ig_test['category'].astype('category')"
      ],
      "execution_count": 25,
      "outputs": []
    },
    {
      "cell_type": "code",
      "metadata": {
        "colab": {
          "base_uri": "https://localhost:8080/"
        },
        "id": "axH7VF0j6tJp",
        "outputId": "1ef4c8e9-4a65-4d2a-9fc3-30ca8748619a"
      },
      "source": [
        "# Get the numerical ids of column label\n",
        "numerical_ids_train = ig_train.category.cat.codes\n",
        "numerical_ids_test = ig_test.category.cat.codes\n",
        "\n",
        "# Print initial shape\n",
        "print(numerical_ids_train.shape)\n",
        "print(numerical_ids_test.shape)"
      ],
      "execution_count": 26,
      "outputs": [
        {
          "output_type": "stream",
          "text": [
            "(680,)\n",
            "(96,)\n"
          ],
          "name": "stdout"
        }
      ]
    },
    {
      "cell_type": "code",
      "metadata": {
        "colab": {
          "base_uri": "https://localhost:8080/"
        },
        "id": "yCpkynZHspx7",
        "outputId": "ee062685-dd13-4922-e53d-6a759232a9ed"
      },
      "source": [
        "le = LabelEncoder()\n",
        "Y = le.fit_transform(ig_train['category'].values)\n",
        "Y_test = le.transform(ig_test['category'].values)\n",
        "len(le.classes_)"
      ],
      "execution_count": 27,
      "outputs": [
        {
          "output_type": "execute_result",
          "data": {
            "text/plain": [
              "2"
            ]
          },
          "metadata": {
            "tags": []
          },
          "execution_count": 27
        }
      ]
    },
    {
      "cell_type": "code",
      "metadata": {
        "colab": {
          "base_uri": "https://localhost:8080/"
        },
        "id": "VscyBUMAv_H4",
        "outputId": "1d93ab46-9f50-4010-e076-fd1fd7de16e7"
      },
      "source": [
        "# One-hot encode the indexes\n",
        "Y = to_categorical(numerical_ids_train)\n",
        "Y_test = to_categorical(numerical_ids_test)\n",
        "\n",
        "# Check the new shape of the variable\n",
        "print(Y.shape)\n",
        "print(Y_test.shape)\n",
        "\n",
        "# Print the first 5 rows\n",
        "print(Y[:5])"
      ],
      "execution_count": 28,
      "outputs": [
        {
          "output_type": "stream",
          "text": [
            "(680, 2)\n",
            "(96, 2)\n",
            "[[1. 0.]\n",
            " [0. 1.]\n",
            " [0. 1.]\n",
            " [0. 1.]\n",
            " [1. 0.]]\n"
          ],
          "name": "stdout"
        }
      ]
    },
    {
      "cell_type": "markdown",
      "metadata": {
        "id": "Fw4C4aRn4GUl"
      },
      "source": [
        "**NLP Modelling**"
      ]
    },
    {
      "cell_type": "markdown",
      "metadata": {
        "id": "w0-a0E8q9kc0"
      },
      "source": [
        "**fit_on_texts:** Updates internal vocabulary based on a list of texts. This method creates the vocabulary index based on word frequency. So if you give it something like, \"The cat sat on the mat.\" It will create a dictionary s.t. word_index[\"the\"] = 1; word_index[\"cat\"] = 2 it is word -> index dictionary so every word gets a unique integer value. 0 is reserved for padding. So lower integer means more frequent word (often the first few are stop words because they appear a lot).\n",
        "\n",
        "\n",
        "**texts_to_sequences:** Transforms each text in texts to a sequence of integers. So it basically takes each word in the text and replaces it with its corresponding integer value from the word_index dictionary. Nothing more, nothing less, certainly no magic involved."
      ]
    },
    {
      "cell_type": "code",
      "metadata": {
        "colab": {
          "base_uri": "https://localhost:8080/"
        },
        "id": "fSv37vLW8IAd",
        "outputId": "4c5f7567-423f-4397-c1c5-b28c6526212f"
      },
      "source": [
        "tokenizer = Tokenizer()\n",
        "tokenizer.fit_on_texts(ig_train.Cleaned_body)\n",
        "# Create the (X, Y) variables\n",
        "X = tokenizer.texts_to_sequences(ig_train.Cleaned_body)\n",
        "X = pad_sequences(X, maxlen=100)\n",
        "#Y = to_categorical(ig_train.category)\n",
        "# Print the shapes\n",
        "print(X.shape)\n",
        "print(Y.shape)"
      ],
      "execution_count": 29,
      "outputs": [
        {
          "output_type": "stream",
          "text": [
            "(680, 100)\n",
            "(680, 2)\n"
          ],
          "name": "stdout"
        }
      ]
    },
    {
      "cell_type": "code",
      "metadata": {
        "colab": {
          "base_uri": "https://localhost:8080/"
        },
        "id": "5gOxU0T3Cz5Z",
        "outputId": "dff86855-4948-4618-8747-7286936a6a75"
      },
      "source": [
        "X_test = tokenizer.texts_to_sequences(ig_test.Cleaned_body)\n",
        "X_test = pad_sequences(X_test, maxlen=100)\n",
        "#Y_test = to_categorical(ig_test.category)\n",
        "print(X_test.shape)\n",
        "print(Y_test.shape)"
      ],
      "execution_count": 30,
      "outputs": [
        {
          "output_type": "stream",
          "text": [
            "(96, 100)\n",
            "(96, 2)\n"
          ],
          "name": "stdout"
        }
      ]
    },
    {
      "cell_type": "code",
      "metadata": {
        "id": "9O298GsZtPxu"
      },
      "source": [
        "import pickle\n",
        "with open(\"tokenizer_instagram_flood.pkl\", 'wb') as file:\n",
        "    pickle.dump(tokenizer, file, protocol=pickle.HIGHEST_PROTOCOL)\n",
        "with open(\"label_encoder_instagram_flood.pkl\", 'wb') as file:\n",
        "    pickle.dump(le, file, protocol=pickle.HIGHEST_PROTOCOL)"
      ],
      "execution_count": 31,
      "outputs": []
    },
    {
      "cell_type": "code",
      "metadata": {
        "colab": {
          "base_uri": "https://localhost:8080/"
        },
        "id": "-bF8vGGwmR_D",
        "outputId": "476c95f5-b0a4-44e0-ae2c-73476eadfcf1"
      },
      "source": [
        "MAX_SEQUENCE_LENGTH = 100\n",
        "MAX_NB_WORDS = 20000\n",
        "EMBEDDING_DIM = 300\n",
        "num_lstm = np.random.randint(175, 275)\n",
        "num_dense = np.random.randint(100, 150)\n",
        "rate_drop_lstm = 0.15 + np.random.rand() * 0.25\n",
        "rate_drop_dense = 0.15 + np.random.rand() * 0.25\n",
        "\n",
        "word_index = tokenizer.word_index\n",
        "print('Found %s unique tokens.' % len(word_index))"
      ],
      "execution_count": 32,
      "outputs": [
        {
          "output_type": "stream",
          "text": [
            "Found 10302 unique tokens.\n"
          ],
          "name": "stdout"
        }
      ]
    },
    {
      "cell_type": "code",
      "metadata": {
        "id": "9bNAmpIbl5R3"
      },
      "source": [
        "EMBEDDING_FILE= '/content/gdrive/MyDrive/GoogleNews-vectors-negative300.bin.gz'"
      ],
      "execution_count": 33,
      "outputs": []
    },
    {
      "cell_type": "code",
      "metadata": {
        "colab": {
          "base_uri": "https://localhost:8080/"
        },
        "id": "8G3yh2ZeeJLX",
        "outputId": "dca00f3f-ca55-4932-d539-6001b5263414"
      },
      "source": [
        "from gensim.models import KeyedVectors\n",
        "\n",
        "print('Indexing word vectors')\n",
        "word2vec = KeyedVectors.load_word2vec_format(EMBEDDING_FILE,binary=True)\n",
        "print('Found %s word vectors of word2vec' % len(word2vec.vocab))\n",
        "\n",
        "print('Preparing embedding matrix')\n",
        "\n",
        "nb_words = min(MAX_NB_WORDS, len(word_index))+1\n",
        "\n",
        "embedding_matrix = np.zeros((nb_words, EMBEDDING_DIM))\n",
        "for word, i in word_index.items():\n",
        "    if word in word2vec.vocab:\n",
        "        embedding_matrix[i] = word2vec.word_vec(word)\n",
        "print('Null word embeddings: %d' % np.sum(np.sum(embedding_matrix, axis=1) == 0))"
      ],
      "execution_count": 34,
      "outputs": [
        {
          "output_type": "stream",
          "text": [
            "Indexing word vectors\n",
            "Found 3000000 word vectors of word2vec\n",
            "Preparing embedding matrix\n",
            "Null word embeddings: 4582\n"
          ],
          "name": "stdout"
        }
      ]
    },
    {
      "cell_type": "code",
      "metadata": {
        "id": "fSLpnz6Dt_sY"
      },
      "source": [
        "import numpy as np\n",
        "np.save('embedding_matrix_instagram_flood.npy' , embedding_matrix)"
      ],
      "execution_count": 35,
      "outputs": []
    },
    {
      "cell_type": "code",
      "metadata": {
        "id": "oqV6IL5crMmG"
      },
      "source": [
        "from keras.optimizers import SGD,Adam\n",
        "opt = SGD(learning_rate=0.01)\n",
        "opt1= Adam(learning_rate=0.0001) "
      ],
      "execution_count": 36,
      "outputs": []
    },
    {
      "cell_type": "code",
      "metadata": {
        "colab": {
          "base_uri": "https://localhost:8080/"
        },
        "id": "UaFf8PXhni4H",
        "outputId": "c6fed5b9-03e0-419e-8184-865bccf755c4"
      },
      "source": [
        "model= Sequential()\n",
        "model.add(Embedding(nb_words,EMBEDDING_DIM,weights=[embedding_matrix],input_length=MAX_SEQUENCE_LENGTH,trainable=False))\n",
        "model.add(LSTM(num_lstm, dropout=rate_drop_lstm, recurrent_dropout=rate_drop_lstm))\n",
        "model.add(Dense(32,activation='relu'))\n",
        "model.add(Dense(2,activation='softmax'))\n",
        "model.compile(optimizer=opt1,loss='categorical_crossentropy', metrics=['accuracy'])\n",
        "model.summary()"
      ],
      "execution_count": 37,
      "outputs": [
        {
          "output_type": "stream",
          "text": [
            "WARNING:tensorflow:Layer lstm will not use cuDNN kernels since it doesn't meet the criteria. It will use a generic GPU kernel as fallback when running on GPU.\n",
            "Model: \"sequential\"\n",
            "_________________________________________________________________\n",
            "Layer (type)                 Output Shape              Param #   \n",
            "=================================================================\n",
            "embedding (Embedding)        (None, 100, 300)          3090900   \n",
            "_________________________________________________________________\n",
            "lstm (LSTM)                  (None, 237)               510024    \n",
            "_________________________________________________________________\n",
            "dense (Dense)                (None, 32)                7616      \n",
            "_________________________________________________________________\n",
            "dense_1 (Dense)              (None, 2)                 66        \n",
            "=================================================================\n",
            "Total params: 3,608,606\n",
            "Trainable params: 517,706\n",
            "Non-trainable params: 3,090,900\n",
            "_________________________________________________________________\n"
          ],
          "name": "stdout"
        }
      ]
    },
    {
      "cell_type": "code",
      "metadata": {
        "colab": {
          "base_uri": "https://localhost:8080/"
        },
        "id": "3VY2dgrBmfp2",
        "outputId": "8d1ac2cc-8c77-42fa-fbac-0dc4e11b1220"
      },
      "source": [
        "epochs= 10\n",
        "batch_size= 12\n",
        "\n",
        "history= model.fit(X,Y,epochs=epochs,batch_size=batch_size,validation_split=0.1)"
      ],
      "execution_count": 38,
      "outputs": [
        {
          "output_type": "stream",
          "text": [
            "Epoch 1/10\n",
            "51/51 [==============================] - 31s 168ms/step - loss: 0.6850 - accuracy: 0.5752 - val_loss: 0.6671 - val_accuracy: 0.5441\n",
            "Epoch 2/10\n",
            "51/51 [==============================] - 7s 147ms/step - loss: 0.6512 - accuracy: 0.6302 - val_loss: 0.6392 - val_accuracy: 0.6618\n",
            "Epoch 3/10\n",
            "51/51 [==============================] - 8s 151ms/step - loss: 0.6134 - accuracy: 0.7014 - val_loss: 0.5477 - val_accuracy: 0.6765\n",
            "Epoch 4/10\n",
            "51/51 [==============================] - 8s 153ms/step - loss: 0.5558 - accuracy: 0.7065 - val_loss: 0.4810 - val_accuracy: 0.8088\n",
            "Epoch 5/10\n",
            "51/51 [==============================] - 7s 147ms/step - loss: 0.5037 - accuracy: 0.7630 - val_loss: 0.4529 - val_accuracy: 0.8088\n",
            "Epoch 6/10\n",
            "51/51 [==============================] - 7s 146ms/step - loss: 0.4609 - accuracy: 0.7942 - val_loss: 0.4282 - val_accuracy: 0.8235\n",
            "Epoch 7/10\n",
            "51/51 [==============================] - 8s 149ms/step - loss: 0.4522 - accuracy: 0.7862 - val_loss: 0.4518 - val_accuracy: 0.7941\n",
            "Epoch 8/10\n",
            "51/51 [==============================] - 8s 150ms/step - loss: 0.4636 - accuracy: 0.7819 - val_loss: 0.4608 - val_accuracy: 0.7941\n",
            "Epoch 9/10\n",
            "51/51 [==============================] - 8s 149ms/step - loss: 0.4127 - accuracy: 0.8145 - val_loss: 0.4092 - val_accuracy: 0.8382\n",
            "Epoch 10/10\n",
            "51/51 [==============================] - 8s 148ms/step - loss: 0.4191 - accuracy: 0.8108 - val_loss: 0.4020 - val_accuracy: 0.8382\n"
          ],
          "name": "stdout"
        }
      ]
    },
    {
      "cell_type": "code",
      "metadata": {
        "colab": {
          "base_uri": "https://localhost:8080/",
          "height": 298
        },
        "id": "m5_WHrTOqsV2",
        "outputId": "1ce05e77-1461-40fa-8fd0-e6d040c9de8f"
      },
      "source": [
        "plt.title('Loss')\n",
        "plt.plot(history.history['loss'], label='train')\n",
        "plt.plot(history.history['val_loss'], label='test')\n",
        "plt.legend()\n",
        "plt.show()"
      ],
      "execution_count": 39,
      "outputs": [
        {
          "output_type": "execute_result",
          "data": {
            "text/plain": [
              "Text(0.5, 1.0, 'Loss')"
            ]
          },
          "metadata": {
            "tags": []
          },
          "execution_count": 39
        },
        {
          "output_type": "execute_result",
          "data": {
            "text/plain": [
              "[<matplotlib.lines.Line2D at 0x7f5edd3c31d0>]"
            ]
          },
          "metadata": {
            "tags": []
          },
          "execution_count": 39
        },
        {
          "output_type": "execute_result",
          "data": {
            "text/plain": [
              "[<matplotlib.lines.Line2D at 0x7f5edd3c3710>]"
            ]
          },
          "metadata": {
            "tags": []
          },
          "execution_count": 39
        },
        {
          "output_type": "execute_result",
          "data": {
            "text/plain": [
              "<matplotlib.legend.Legend at 0x7f5edd6db890>"
            ]
          },
          "metadata": {
            "tags": []
          },
          "execution_count": 39
        },
        {
          "output_type": "display_data",
          "data": {
            "image/png": "[encoded data removed]",
            "text/plain": [
              "<Figure size 432x288 with 1 Axes>"
            ]
          },
          "metadata": {
            "tags": [],
            "needs_background": "light"
          }
        }
      ]
    },
    {
      "cell_type": "code",
      "metadata": {
        "colab": {
          "base_uri": "https://localhost:8080/",
          "height": 298
        },
        "id": "uJJd3FLkqsWA",
        "outputId": "07ad8524-4f7e-441a-9df9-20a159a4ad69"
      },
      "source": [
        "plt.title('Accuracy')\n",
        "plt.plot(history.history['accuracy'], label='train')\n",
        "plt.plot(history.history['val_accuracy'], label='test')\n",
        "plt.legend()\n",
        "plt.show()"
      ],
      "execution_count": 40,
      "outputs": [
        {
          "output_type": "execute_result",
          "data": {
            "text/plain": [
              "Text(0.5, 1.0, 'Accuracy')"
            ]
          },
          "metadata": {
            "tags": []
          },
          "execution_count": 40
        },
        {
          "output_type": "execute_result",
          "data": {
            "text/plain": [
              "[<matplotlib.lines.Line2D at 0x7f5edce940d0>]"
            ]
          },
          "metadata": {
            "tags": []
          },
          "execution_count": 40
        },
        {
          "output_type": "execute_result",
          "data": {
            "text/plain": [
              "[<matplotlib.lines.Line2D at 0x7f5edce94610>]"
            ]
          },
          "metadata": {
            "tags": []
          },
          "execution_count": 40
        },
        {
          "output_type": "execute_result",
          "data": {
            "text/plain": [
              "<matplotlib.legend.Legend at 0x7f5edce9fc90>"
            ]
          },
          "metadata": {
            "tags": []
          },
          "execution_count": 40
        },
        {
          "output_type": "display_data",
          "data": {
            "image/png": "[encoded data removed]",
            "text/plain": [
              "<Figure size 432x288 with 1 Axes>"
            ]
          },
          "metadata": {
            "tags": [],
            "needs_background": "light"
          }
        }
      ]
    },
    {
      "cell_type": "markdown",
      "metadata": {
        "id": "s_eq7qhhQhEP"
      },
      "source": [
        "**Predicting Data**"
      ]
    },
    {
      "cell_type": "code",
      "metadata": {
        "id": "w1-C98a2-CcR"
      },
      "source": [
        "y_pred = model.predict(X_test)"
      ],
      "execution_count": 41,
      "outputs": []
    },
    {
      "cell_type": "code",
      "metadata": {
        "id": "AqY97S7d-ChF"
      },
      "source": [
        "import numpy as np\n",
        "y_pred=np.round(y_pred)"
      ],
      "execution_count": 42,
      "outputs": []
    },
    {
      "cell_type": "code",
      "metadata": {
        "id": "RbVtKsCnQmZF"
      },
      "source": [
        "y_pred = np.argmax(y_pred, axis=-1)"
      ],
      "execution_count": 43,
      "outputs": []
    },
    {
      "cell_type": "code",
      "metadata": {
        "id": "2sYb61dOQmb_"
      },
      "source": [
        "y_test = np.argmax(Y_test, axis=-1)"
      ],
      "execution_count": 44,
      "outputs": []
    },
    {
      "cell_type": "code",
      "metadata": {
        "colab": {
          "base_uri": "https://localhost:8080/"
        },
        "id": "gl7axW8RQmeg",
        "outputId": "0b102456-272d-414e-b957-8ede8cc82947"
      },
      "source": [
        "y_pred"
      ],
      "execution_count": 45,
      "outputs": [
        {
          "output_type": "execute_result",
          "data": {
            "text/plain": [
              "array([1, 1, 1, 0, 1, 1, 0, 0, 1, 0, 0, 1, 0, 1, 1, 0, 0, 0, 0, 0, 0, 0,\n",
              "       0, 0, 0, 0, 0, 0, 0, 1, 0, 0, 1, 1, 0, 0, 0, 0, 1, 0, 1, 0, 0, 0,\n",
              "       1, 1, 0, 0, 0, 0, 1, 0, 1, 1, 0, 0, 0, 0, 1, 1, 1, 1, 1, 0, 1, 1,\n",
              "       0, 0, 0, 0, 1, 0, 1, 0, 0, 0, 1, 0, 1, 0, 0, 1, 0, 1, 0, 0, 1, 0,\n",
              "       1, 0, 1, 0, 1, 1, 1, 1])"
            ]
          },
          "metadata": {
            "tags": []
          },
          "execution_count": 45
        }
      ]
    },
    {
      "cell_type": "code",
      "metadata": {
        "colab": {
          "base_uri": "https://localhost:8080/"
        },
        "id": "-EqrJG-SQmhm",
        "outputId": "a29032f3-9f67-449c-c87b-45f4b0288eb2"
      },
      "source": [
        "# Accuracy\n",
        "print(accuracy_score(y_test, y_pred))"
      ],
      "execution_count": 46,
      "outputs": [
        {
          "output_type": "stream",
          "text": [
            "0.8020833333333334\n"
          ],
          "name": "stdout"
        }
      ]
    },
    {
      "cell_type": "code",
      "metadata": {
        "colab": {
          "base_uri": "https://localhost:8080/"
        },
        "id": "zuJiG5qLQmoP",
        "outputId": "149ca36f-66f6-43fb-9d17-c1801d79d86f"
      },
      "source": [
        "lab_names = ['flood','none']\n",
        "print(classification_report(y_test, y_pred, target_names=lab_names))"
      ],
      "execution_count": 47,
      "outputs": [
        {
          "output_type": "stream",
          "text": [
            "              precision    recall  f1-score   support\n",
            "\n",
            "       flood       0.75      0.90      0.82        48\n",
            "        none       0.87      0.71      0.78        48\n",
            "\n",
            "    accuracy                           0.80        96\n",
            "   macro avg       0.81      0.80      0.80        96\n",
            "weighted avg       0.81      0.80      0.80        96\n",
            "\n"
          ],
          "name": "stdout"
        }
      ]
    },
    {
      "cell_type": "code",
      "metadata": {
        "colab": {
          "base_uri": "https://localhost:8080/"
        },
        "id": "Qyh4OnBL6Ta2",
        "outputId": "d86f4841-a89b-4ff9-c74e-a2ccff9ae403"
      },
      "source": [
        "print(precision_score(y_test, y_pred, average=None))\n",
        "print(recall_score(y_test, y_pred, average=None))\n",
        "print(f1_score(y_test, y_pred, average=None))"
      ],
      "execution_count": 48,
      "outputs": [
        {
          "output_type": "stream",
          "text": [
            "[0.75438596 0.87179487]\n",
            "[0.89583333 0.70833333]\n",
            "[0.81904762 0.7816092 ]\n"
          ],
          "name": "stdout"
        }
      ]
    },
    {
      "cell_type": "code",
      "metadata": {
        "id": "wtcakJ5j_UyB"
      },
      "source": [
        "model.save('LSTMClassifier_with_ig_flood.h5')"
      ],
      "execution_count": 49,
      "outputs": []
    },
    {
      "cell_type": "code",
      "metadata": {
        "id": "xbbvBCgD-tw6"
      },
      "source": [
        ""
      ],
      "execution_count": 49,
      "outputs": []
    }
  ]
}
