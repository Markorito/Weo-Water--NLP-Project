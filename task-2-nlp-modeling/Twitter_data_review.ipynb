{
  "nbformat": 4,
  "nbformat_minor": 0,
  "metadata": {
    "colab": {
      "name": "Twitter data review.ipynb",
      "provenance": []
    },
    "kernelspec": {
      "name": "python3",
      "display_name": "Python 3"
    },
    "language_info": {
      "name": "python"
    }
  },
  "cells": [
    {
      "cell_type": "markdown",
      "metadata": {
        "id": "u12j8p2iSdhI"
      },
      "source": [
        "This is a notebook for reviewing the tagged Twitter data for training and evaluating the NLP models for the WEO-Omdena project.\n",
        "\n",
        "**Author:** Vinzent Steinberg\n",
        "\n",
        "# Data loading"
      ]
    },
    {
      "cell_type": "markdown",
      "metadata": {
        "id": "Bm7saBdOL5u3"
      },
      "source": [
        "Upload and read the CSV files we want to analyze."
      ]
    },
    {
      "cell_type": "code",
      "metadata": {
        "colab": {
          "resources": {
            "http://localhost:8080/nbextensions/google.colab/files.js": {
              "data": "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",
              "ok": true,
              "headers": [
                [
                  "content-type",
                  "application/javascript"
                ]
              ],
              "status": 200,
              "status_text": "OK"
            }
          },
          "base_uri": "https://localhost:8080/",
          "height": 74
        },
        "id": "o4cdvk4lKoI1",
        "outputId": "b2ffc93e-cbb5-4e40-895a-497965513eee"
      },
      "source": [
        "from google.colab import files\n",
        "# Upload the `All_data_sources_merged_updated.csv` from the GitHub repository\n",
        "twitter_files = files.upload()"
      ],
      "execution_count": null,
      "outputs": [
        {
          "output_type": "display_data",
          "data": {
            "text/html": [
              "\n",
              "     <input type=\"file\" id=\"files-e40587e4-1bb1-46c8-b377-04a4542ffc4a\" name=\"files[]\" multiple disabled\n",
              "        style=\"border:none\" />\n",
              "     <output id=\"result-e40587e4-1bb1-46c8-b377-04a4542ffc4a\">\n",
              "      Upload widget is only available when the cell has been executed in the\n",
              "      current browser session. Please rerun this cell to enable.\n",
              "      </output>\n",
              "      <script src=\"/nbextensions/google.colab/files.js\"></script> "
            ],
            "text/plain": [
              "<IPython.core.display.HTML object>"
            ]
          },
          "metadata": {
            "tags": []
          }
        },
        {
          "output_type": "stream",
          "text": [
            "Saving All_data_sources_merged_updated.csv to All_data_sources_merged_updated.csv\n"
          ],
          "name": "stdout"
        }
      ]
    },
    {
      "cell_type": "code",
      "metadata": {
        "colab": {
          "base_uri": "https://localhost:8080/"
        },
        "id": "wCUxIviVMAME",
        "outputId": "1f3d6330-955b-4e71-c436-fe417be6badb"
      },
      "source": [
        "import pandas as pd\n",
        "import io\n",
        "# It's important to specify the correct encoding of the CSV file. This is something\n",
        "# we have to know, because it depends on how the file was stored, and the encoding\n",
        "# is not stored in the CSV file. Nowadays, it is best practise to use UTF-8 for\n",
        "# everything, but some systems (most famously Windows) still use a different\n",
        "# encoding, so it's important to be explicit and not rely on the systems default.\n",
        "d = pd.read_csv(io.BytesIO(twitter_files['All_data_sources_merged_updated.csv']),\n",
        "                encoding=\"utf-8\")\n",
        "d['data source'].value_counts()"
      ],
      "execution_count": null,
      "outputs": [
        {
          "output_type": "execute_result",
          "data": {
            "text/plain": [
              "news article    2465\n",
              "Instagram       1633\n",
              "Twitter         1410\n",
              "Name: data source, dtype: int64"
            ]
          },
          "metadata": {
            "tags": []
          },
          "execution_count": 3
        }
      ]
    },
    {
      "cell_type": "markdown",
      "metadata": {
        "id": "qIarSbQISZiH"
      },
      "source": [
        "# Data cleaning\n",
        "\n",
        "Let's make sure that our data is clean. This can be done by looking at the data and see whether there is something unexpected. We will perform the following steps:\n",
        "\n",
        "1. Make sure there are no duplicate tweets.\n",
        "2. Make sure the `country` column is consistent. (In principle, this should be done for all categorical columns. Here, it turned out that only the `country` column has problems.)\n",
        "3. Make sure the `body` column looks good, especially with regards to character encoding. (In our case, this is the only important column containing arbitrary text.)\n",
        "\n",
        "## Duplicates"
      ]
    },
    {
      "cell_type": "code",
      "metadata": {
        "colab": {
          "base_uri": "https://localhost:8080/"
        },
        "id": "Zuf9S1SmmP5f",
        "outputId": "cf05aecb-0e3a-463a-d1d0-a784b4b6001d"
      },
      "source": [
        "d['body'].duplicated().sum()"
      ],
      "execution_count": null,
      "outputs": [
        {
          "output_type": "execute_result",
          "data": {
            "text/plain": [
              "0"
            ]
          },
          "metadata": {
            "tags": []
          },
          "execution_count": 4
        }
      ]
    },
    {
      "cell_type": "markdown",
      "metadata": {
        "id": "jSabUiO0n3mr"
      },
      "source": [
        "No duplicates!\n",
        "\n",
        "There still might be Tweets that are mostly identical or just retweets, but this is tricky to fix at this point.\n",
        "\n",
        "Let's try sorting the tweets and look for tweets with identical beginnings."
      ]
    },
    {
      "cell_type": "code",
      "metadata": {
        "colab": {
          "base_uri": "https://localhost:8080/",
          "height": 283
        },
        "id": "QwqHEiuMuSCX",
        "outputId": "b3f8a247-8deb-4815-da4f-51ef76afa24f"
      },
      "source": [
        "def check_overlap(a, b):\n",
        "  overlap = 0\n",
        "  for i, j in zip(a, b):\n",
        "    if i == j:\n",
        "      overlap += 1\n",
        "    else:\n",
        "      break\n",
        "  return overlap\n",
        "\n",
        "# We need to make sure to sort the texts, so the overlapping texts are next to \n",
        "# each other.\n",
        "sorted = d.sort_values('body')\n",
        "sorted['overlap'] = None\n",
        "\n",
        "j_overlap = sorted.columns.get_loc('overlap')\n",
        "\n",
        "# Calculate the how much the beginning of each text overlaps with the next one.\n",
        "for i in range(len(sorted) - 1):\n",
        "  body = sorted['body']\n",
        "  sorted.iloc[i, j_overlap] = check_overlap(body.iloc[i], body.iloc[i + 1])\n",
        "\n",
        "# Calculate the ratio of the text overlapping.\n",
        "sorted['overlap_ratio'] = sorted['overlap'] / sorted['body'].map(len).map(float)\n",
        "\n",
        "sorted['overlap_ratio'].hist()"
      ],
      "execution_count": null,
      "outputs": [
        {
          "output_type": "execute_result",
          "data": {
            "text/plain": [
              "<matplotlib.axes._subplots.AxesSubplot at 0x7f3515739850>"
            ]
          },
          "metadata": {
            "tags": []
          },
          "execution_count": 5
        },
        {
          "output_type": "display_data",
          "data": {
            "image/png": "[encoded data removed]",
            "text/plain": [
              "<Figure size 432x288 with 1 Axes>"
            ]
          },
          "metadata": {
            "tags": [],
            "needs_background": "light"
          }
        }
      ]
    },
    {
      "cell_type": "markdown",
      "metadata": {
        "id": "Y8KI0NPlKQhD"
      },
      "source": [
        "The vast majority of texts has very little overlap. We can now look at any pairs of text with more than 50% overlap."
      ]
    },
    {
      "cell_type": "code",
      "metadata": {
        "colab": {
          "base_uri": "https://localhost:8080/"
        },
        "id": "q3XoyjgyKNhG",
        "outputId": "c40f1a09-f3a0-48d8-bece-66b6c6617d51"
      },
      "source": [
        "overlapping = sorted[sorted['overlap_ratio'] > 0.5].index\n",
        "\n",
        "# Print all pairs of overlapping text.\n",
        "j_body = sorted.columns.get_loc('body')\n",
        "compare_first_chars = 300\n",
        "for idx in overlapping:\n",
        "  i = sorted.index.get_loc(idx)\n",
        "  print('vvvvvvvvvvvvvvvvvvvvvvvvvvvvvvvvvvvvvvvvvvvvvvvvvvvvv')\n",
        "  print(sorted.iat[i, j_body][:compare_first_chars])\n",
        "  print('=====================================================')\n",
        "  print(sorted.iat[i + 1, j_body][:compare_first_chars])\n",
        "  print('^^^^^^^^^^^^^^^^^^^^^^^^^^^^^^^^^^^^^^^^^^^^^^^^^^^^^')"
      ],
      "execution_count": null,
      "outputs": [
        {
          "output_type": "stream",
          "text": [
            "vvvvvvvvvvvvvvvvvvvvvvvvvvvvvvvvvvvvvvvvvvvvvvvvvvvvv\n",
            "#DantePH leaves P268.5 million damage to nat'l roads, flood control — DPWH  https://t.co/Y0WVjC8o5m\n",
            "=====================================================\n",
            "#DantePH leaves P268.5 million damage to nat'l roads, flood control — DPWH  https://t.co/aJn3y5GBBL\n",
            "^^^^^^^^^^^^^^^^^^^^^^^^^^^^^^^^^^^^^^^^^^^^^^^^^^^^^\n",
            "vvvvvvvvvvvvvvvvvvvvvvvvvvvvvvvvvvvvvvvvvvvvvvvvvvvvv\n",
            "#FLOODS cause serious damage as system pushes east  https://t.co/ejR17MgoCZ[]\n",
            "=====================================================\n",
            "#FLOODS cause serious damage as system pushes east  https://t.co/rwrOOqmlqp #GPWX[]\n",
            "^^^^^^^^^^^^^^^^^^^^^^^^^^^^^^^^^^^^^^^^^^^^^^^^^^^^^\n",
            "vvvvvvvvvvvvvvvvvvvvvvvvvvvvvvvvvvvvvvvvvvvvvvvvvvvvv\n",
            "#FLOODS in France force thousands from their homes  https://t.co/cd1bYJ8jcK #GPWX[]\n",
            "=====================================================\n",
            "#FLOODS in France force thousands from their homes  https://t.co/tmiDY55qm3[]\n",
            "^^^^^^^^^^^^^^^^^^^^^^^^^^^^^^^^^^^^^^^^^^^^^^^^^^^^^\n",
            "vvvvvvvvvvvvvvvvvvvvvvvvvvvvvvvvvvvvvvvvvvvvvvvvvvvvv\n",
            "#FLOODS in Maryland and the Carolinas  https://t.co/KfrLCLLifR[]\n",
            "=====================================================\n",
            "#FLOODS in Maryland and the Carolinas  https://t.co/cVGIHGHuKL #GPWX[]\n",
            "^^^^^^^^^^^^^^^^^^^^^^^^^^^^^^^^^^^^^^^^^^^^^^^^^^^^^\n",
            "vvvvvvvvvvvvvvvvvvvvvvvvvvvvvvvvvvvvvvvvvvvvvvvvvvvvv\n",
            "#Flood | Do you know how to be prepared for #floods?   Follow these do's and don'ts  https://t.co/sAwYVFPo6J\n",
            "=====================================================\n",
            "#Flood | Do you know how to be prepared for #floods?   Here are 4️⃣ ways 👇  https://t.co/GIah30WBWN\n",
            "^^^^^^^^^^^^^^^^^^^^^^^^^^^^^^^^^^^^^^^^^^^^^^^^^^^^^\n",
            "vvvvvvvvvvvvvvvvvvvvvvvvvvvvvvvvvvvvvvvvvvvvvvvvvvvvv\n",
            "#Floods have displaced hundreds of people in #Somalia and destroyed large areas of farmland. A river burst its banks near the city of #Jowhar which is now on the verge of being submerged. The road between it town and the airport has been cut off.  https://t.co/0kLOV9px9P[]\n",
            "=====================================================\n",
            "#Floods have displaced hundreds of people in #Somalia and destroyed large areas of farmland. A river burst its banks near the city of #Jowhar which is now on the verge of being submerged. The road between it town and the airport has been cut off.  https://t.co/MjIdLkFb7G[]\n",
            "^^^^^^^^^^^^^^^^^^^^^^^^^^^^^^^^^^^^^^^^^^^^^^^^^^^^^\n",
            "vvvvvvvvvvvvvvvvvvvvvvvvvvvvvvvvvvvvvvvvvvvvvvvvvvvvv\n",
            "#HURRICANE Matthew triggers deadly #FLOODS across U.S. east coast  https://t.co/4Gb4MlmbTw #GPWX #GlobalWarming #climatechange[]\n",
            "=====================================================\n",
            "#HURRICANE Matthew triggers deadly #FLOODS across U.S. east coast  https://t.co/U6QNflDy4B  #GlobalWarming #climatechange[]\n",
            "^^^^^^^^^^^^^^^^^^^^^^^^^^^^^^^^^^^^^^^^^^^^^^^^^^^^^\n",
            "vvvvvvvvvvvvvvvvvvvvvvvvvvvvvvvvvvvvvvvvvvvvvvvvvvvvv\n",
            "#flood\n",
            "=====================================================\n",
            "#flood #barton_springs_pool #atxphoto\n",
            "^^^^^^^^^^^^^^^^^^^^^^^^^^^^^^^^^^^^^^^^^^^^^^^^^^^^^\n",
            "vvvvvvvvvvvvvvvvvvvvvvvvvvvvvvvvvvvvvvvvvvvvvvvvvvvvv\n",
            "#flooded\n",
            "=====================================================\n",
            "#flooded #bartonspringspool #atxphotography\n",
            "^^^^^^^^^^^^^^^^^^^^^^^^^^^^^^^^^^^^^^^^^^^^^^^^^^^^^\n",
            "vvvvvvvvvvvvvvvvvvvvvvvvvvvvvvvvvvvvvvvvvvvvvvvvvvvvv\n",
            "#fogbow #rainbow #doublerainbow #Arcus #orage #orages #thunderstorm #thunderstorms #inondation #inondations #flood #floods #grêle #hail #tornade #tornades #tornado #tornadoes   Poor Nachman Bitton the monkey Al-Rahmo blinded him  https://t.co/3ZSttm4uf7[]\n",
            "=====================================================\n",
            "#fogbow #rainbow #doublerainbow #Arcus #orage #orages #thunderstorm #thunderstorms #inondation #inondations #flood #floods #grêle #hail #tornade #tornades #tornado #tornadoes   Wales: They escape an impressive landslide  https://t.co/XHojwx5Bvg[]\n",
            "^^^^^^^^^^^^^^^^^^^^^^^^^^^^^^^^^^^^^^^^^^^^^^^^^^^^^\n",
            "vvvvvvvvvvvvvvvvvvvvvvvvvvvvvvvvvvvvvvvvvvvvvvvvvvvvv\n",
            "#fogbow #rainbow #doublerainbow #Arcus #orage #orages #thunderstorm #thunderstorms #inondation #inondations #flood #floods #grêle #hail #tornade #tornades #tornado #tornadoes   Wales: They escape an impressive landslide  https://t.co/XHojwx5Bvg[]\n",
            "=====================================================\n",
            "#fogbow #rainbow #doublerainbow #Arcus #orage #orages #thunderstorm #thunderstorms #inondation #inondations #flood #floods #grêle #hail #tornade #tornades #tornado #tornadoes #earthquake #earthquakes   ‼️Deadly hurricane hits Chinese city of Nantong‼️  https://t.co/LGW1xblMmc[]\n",
            "^^^^^^^^^^^^^^^^^^^^^^^^^^^^^^^^^^^^^^^^^^^^^^^^^^^^^\n",
            "vvvvvvvvvvvvvvvvvvvvvvvvvvvvvvvvvvvvvvvvvvvvvvvvvvvvv\n",
            "#fogbow #rainbow #doublerainbow #Arcus #orage #orages #thunderstorm #thunderstorms #inondation #inondations #flood #floods #grêle #hail #tornade #tornades #tornado #tornadoes #earthquake #earthquakes   ‼️Deadly hurricane hits Chinese city of Nantong‼️  https://t.co/LGW1xblMmc[]\n",
            "=====================================================\n",
            "#fogbow #rainbow #doublerainbow #Arcus #orage #orages #thunderstorm #thunderstorms #inondation #inondations #flood #floods #grêle #hail #tornade #tornades #tornado #tornadoes #earthquake #earthquakes  ‼️Plague of locusts hits Israel‼️  ‼️Open details PLS‼️  https://t.co/zUBCxzohmg  https://t.co/LQVD\n",
            "^^^^^^^^^^^^^^^^^^^^^^^^^^^^^^^^^^^^^^^^^^^^^^^^^^^^^\n",
            "vvvvvvvvvvvvvvvvvvvvvvvvvvvvvvvvvvvvvvvvvvvvvvvvvvvvv\n",
            "#fogbow #rainbow #doublerainbow #Arcus #orage #orages #thunderstorm #thunderstorms #inondation #inondations #flood #floods #grêle #hail #tornade #tornades #tornado #tornadoes #earthquake #earthquakes  ‼️Plague of locusts hits Israel‼️  ‼️Open details PLS‼️  https://t.co/zUBCxzohmg  https://t.co/LQVD\n",
            "=====================================================\n",
            "#fogbow #rainbow #doublerainbow #Arcus #orage #orages #thunderstorm #thunderstorms #inondation #inondations #flood #floods #grêle #hail #tornade #tornades #tornado #tornadoes #earthquake #earthquakes  ‼️The apocalyptic hail was so big in Texas ...‼️  https://t.co/pCN1sYnB5X[]\n",
            "^^^^^^^^^^^^^^^^^^^^^^^^^^^^^^^^^^^^^^^^^^^^^^^^^^^^^\n",
            "vvvvvvvvvvvvvvvvvvvvvvvvvvvvvvvvvvvvvvvvvvvvvvvvvvvvv\n",
            "#fogbow #rainbow #doublerainbow #Arcus #orage #orages #thunderstorm #thunderstorms #inondation #inondations #flood #floods #grêle #hail #tornade #tornades #tornado #tornadoes #earthquake #earthquakes  ‼️The apocalyptic hail was so big in Texas ...‼️  https://t.co/pCN1sYnB5X[]\n",
            "=====================================================\n",
            "#fogbow #rainbow #doublerainbow #Arcus #orage #orages #thunderstorm #thunderstorms #inondation #inondations #flood #floods #grêle #hail #tornade #tornades #tornado #tornadoes #earthquake #earthquakes #séisme   Prophetic places in Belgium where I live   https://t.co/W5NtHmgWYk[]\n",
            "^^^^^^^^^^^^^^^^^^^^^^^^^^^^^^^^^^^^^^^^^^^^^^^^^^^^^\n",
            "vvvvvvvvvvvvvvvvvvvvvvvvvvvvvvvvvvvvvvvvvvvvvvvvvvvvv\n",
            "#fogbow #rainbow #doublerainbow #Arcus #orage #orages #thunderstorm #thunderstorms #inondation #inondations #flood #floods #grêle #hail #tornade #tornades #tornado #tornadoes #earthquake #earthquakes #séisme   Prophetic places in Belgium where I live   https://t.co/W5NtHmgWYk[]\n",
            "=====================================================\n",
            "#fogbow #rainbow #doublerainbow #Arcus #orage #orages #thunderstorm #thunderstorms #inondation #inondations #flood #floods #grêle #hail #tornade #tornades #tornado #tornadoes #earthquake #earthquakes #séisme   ‼️Flash floods around Mecca, Saudi Arabia‼️  https://t.co/DBZyQv1bG1[]\n",
            "^^^^^^^^^^^^^^^^^^^^^^^^^^^^^^^^^^^^^^^^^^^^^^^^^^^^^\n",
            "vvvvvvvvvvvvvvvvvvvvvvvvvvvvvvvvvvvvvvvvvvvvvvvvvvvvv\n",
            "#fogbow #rainbow #doublerainbow #Arcus #orage #orages #thunderstorm #thunderstorms #inondation #inondations #flood #floods #grêle #hail #tornade #tornades #tornado #tornadoes #earthquake #earthquakes #séisme   ‼️Flash floods around Mecca, Saudi Arabia‼️  https://t.co/DBZyQv1bG1[]\n",
            "=====================================================\n",
            "#fogbow #rainbow #doublerainbow #Arcus #orage #orages #thunderstorm #thunderstorms #inondation #inondations #flood #floods #grêle #hail #tornade #tornades #tornado #tornadoes #earthquake #earthquakes #séisme #séismes  13,000 THANKS!   13000 MERCIS !   https://t.co/xfaJuaRJfu[]\n",
            "^^^^^^^^^^^^^^^^^^^^^^^^^^^^^^^^^^^^^^^^^^^^^^^^^^^^^\n",
            "vvvvvvvvvvvvvvvvvvvvvvvvvvvvvvvvvvvvvvvvvvvvvvvvvvvvv\n",
            "#fogbow #rainbow #doublerainbow #Arcus #orage #orages #thunderstorm #thunderstorms #inondation #inondations #flood #floods #grêle #hail #tornade #tornades #tornado #tornadoes #earthquake #earthquakes #séisme #séismes  13,000 THANKS!   13000 MERCIS !   https://t.co/xfaJuaRJfu[]\n",
            "=====================================================\n",
            "#fogbow #rainbow #doublerainbow #Arcus #orage #orages #thunderstorm #thunderstorms #inondation #inondations #flood #floods #grêle #hail #tornade #tornades #tornado #tornadoes #earthquake #earthquakes #séisme #séismes  Giant Animals That Really Exist!  https://t.co/j2c6wFB68a[]\n",
            "^^^^^^^^^^^^^^^^^^^^^^^^^^^^^^^^^^^^^^^^^^^^^^^^^^^^^\n",
            "vvvvvvvvvvvvvvvvvvvvvvvvvvvvvvvvvvvvvvvvvvvvvvvvvvvvv\n",
            "#fogbow #rainbow #doublerainbow #Arcus #orage #orages #thunderstorm #thunderstorms #inondation #inondations #flood #floods #grêle #hail #tornade #tornades #tornado #tornadoes #earthquake #earthquakes #séisme #séismes  Giant Animals That Really Exist!  https://t.co/j2c6wFB68a[]\n",
            "=====================================================\n",
            "#fogbow #rainbow #doublerainbow #Arcus #orage #orages #thunderstorm #thunderstorms #inondation #inondations #flood #floods #grêle #hail #tornade #tornades #tornado #tornadoes #earthquake #earthquakes #séisme #séismes  MGM CHANGES PRODUCTION LOGO  https://t.co/S7twkNnhKe[]\n",
            "^^^^^^^^^^^^^^^^^^^^^^^^^^^^^^^^^^^^^^^^^^^^^^^^^^^^^\n",
            "vvvvvvvvvvvvvvvvvvvvvvvvvvvvvvvvvvvvvvvvvvvvvvvvvvvvv\n",
            "#fogbow #rainbow #doublerainbow #Arcus #orage #orages #thunderstorm #thunderstorms #inondation #inondations #flood #floods #grêle #hail #tornade #tornades #tornado #tornadoes #earthquake #earthquakes #séisme #séismes  MGM CHANGES PRODUCTION LOGO  https://t.co/S7twkNnhKe[]\n",
            "=====================================================\n",
            "#fogbow #rainbow #doublerainbow #Arcus #orage #orages #thunderstorm #thunderstorms #inondation #inondations #flood #floods #grêle #hail #tornade #tornades #tornado #tornadoes #earthquake #earthquakes #séisme #séismes  ‼️‼️I'm getting active again on Twitter‼️‼️  https://t.co/uuXxpWI1K7['https://pbs.\n",
            "^^^^^^^^^^^^^^^^^^^^^^^^^^^^^^^^^^^^^^^^^^^^^^^^^^^^^\n",
            "vvvvvvvvvvvvvvvvvvvvvvvvvvvvvvvvvvvvvvvvvvvvvvvvvvvvv\n",
            "#fogbow #rainbow #doublerainbow #Arcus #orage #orages #thunderstorm #thunderstorms #inondation #inondations #flood #floods #grêle #hail #tornade #tornades #tornado #tornadoes #earthquake #earthquakes #séisme #séismes  ‼️‼️I'm getting active again on Twitter‼️‼️  https://t.co/uuXxpWI1K7['https://pbs.\n",
            "=====================================================\n",
            "#fogbow #rainbow #doublerainbow #Arcus #orage #orages #thunderstorm #thunderstorms #inondation #inondations #flood #floods #grêle #hail #tornade #tornades #tornado #tornadoes #earthquake #earthquakes #séisme #séismes  ‼️🇫🇷Humour : Red Bull - Le Lion🇫🇷‼️  https://t.co/rDV3oWJ79F[]\n",
            "^^^^^^^^^^^^^^^^^^^^^^^^^^^^^^^^^^^^^^^^^^^^^^^^^^^^^\n",
            "vvvvvvvvvvvvvvvvvvvvvvvvvvvvvvvvvvvvvvvvvvvvvvvvvvvvv\n",
            "#fogbow #rainbow #doublerainbow #Arcus #orage #orages #thunderstorm #thunderstorms #inondation #inondations #flood #floods #grêle #hail #tornade #tornades #tornado #tornadoes #earthquake #earthquakes #séisme #séismes  ‼️🇫🇷Humour : Red Bull - Le Lion🇫🇷‼️  https://t.co/rDV3oWJ79F[]\n",
            "=====================================================\n",
            "#fogbow #rainbow #doublerainbow #Arcus #orage #orages #thunderstorm #thunderstorms #inondation #inondations #flood #floods #grêle #hail #tornade #tornades #tornado #tornadoes #earthquake #earthquakes #séisme #séismes  ‼️🇺🇸Humor: Red Bull - The Lion🇺🇸‼️  https://t.co/3gJLXYfXdM[]\n",
            "^^^^^^^^^^^^^^^^^^^^^^^^^^^^^^^^^^^^^^^^^^^^^^^^^^^^^\n",
            "vvvvvvvvvvvvvvvvvvvvvvvvvvvvvvvvvvvvvvvvvvvvvvvvvvvvv\n",
            "#reginasaskatchewan #regina #robertsphotocloset #flood #ctvregina #ctvnews\n",
            "=====================================================\n",
            "#reginasaskatchewan #regina #robertsphotocloset #flood #wascanacentre #wascanapark\n",
            "^^^^^^^^^^^^^^^^^^^^^^^^^^^^^^^^^^^^^^^^^^^^^^^^^^^^^\n",
            "vvvvvvvvvvvvvvvvvvvvvvvvvvvvvvvvvvvvvvvvvvvvvvvvvvvvv\n",
            "- The Nigerian Communications Commission met with Elon Musk's company, Starlink, as it plans to establish in Nigeria\n",
            "\n",
            "- Starlink is a company under SpaceX, a space transportations services company, and its offering broadband\n",
            "\n",
            "- The company will be competing with network providers like MTN Nigeria, A\n",
            "=====================================================\n",
            "- The Nigerian Communications Commission met with Elon Musk's company, Starlink, as it plans to establish in Nigeria\n",
            "\n",
            "- Starlink is a company under SpaceX, a space transportations services company, and its offering broadband\n",
            "\n",
            "- The company will be competing with network providers like MTN Nigeria, A\n",
            "^^^^^^^^^^^^^^^^^^^^^^^^^^^^^^^^^^^^^^^^^^^^^^^^^^^^^\n",
            "vvvvvvvvvvvvvvvvvvvvvvvvvvvvvvvvvvvvvvvvvvvvvvvvvvvvv\n",
            "- The Nigerian Communications Commission met with Elon Musk's company, Starlink, as it plans to establish in Nigeria\n",
            "\n",
            "- Starlink is a company under SpaceX, a space transportations services company, and its offering broadband\n",
            "\n",
            "- The company will be competing with network providers like MTN Nigeria, A\n",
            "=====================================================\n",
            "- The Nigerian Communications Commission met with Elon Musk's company, Starlink, as it plans to establish in Nigeria\n",
            "\n",
            "- Starlink is a company under SpaceX, a space transportations services company, and its offering broadband\n",
            "\n",
            "- The company will be competing with network providers like MTN Nigeria, A\n",
            "^^^^^^^^^^^^^^^^^^^^^^^^^^^^^^^^^^^^^^^^^^^^^^^^^^^^^\n",
            "vvvvvvvvvvvvvvvvvvvvvvvvvvvvvvvvvvvvvvvvvvvvvvvvvvvvv\n",
            "- The Nigerian Communications Commission met with Elon Musk's company, Starlink, as it plans to establish in Nigeria\n",
            "\n",
            "- Starlink is a company under SpaceX, a space transportations services company, and its offering broadband\n",
            "\n",
            "- The company will be competing with network providers like MTN Nigeria, A\n",
            "=====================================================\n",
            "- The Nigerian Communications Commission met with Elon Musk's company, Starlink, as it plans to establish in Nigeria\n",
            "\n",
            "- Starlink is a company under SpaceX, a space transportations services company, and its offering broadband\n",
            "\n",
            "- The company will be competing with network providers like MTN Nigeria, A\n",
            "^^^^^^^^^^^^^^^^^^^^^^^^^^^^^^^^^^^^^^^^^^^^^^^^^^^^^\n",
            "vvvvvvvvvvvvvvvvvvvvvvvvvvvvvvvvvvvvvvvvvvvvvvvvvvvvv\n",
            "25 ways ( https://t.co/rQ7WL2ojE4) FloodSax alternative #sandbags have been used both inside and out to stop #floods, #leaks and spills … but there must be many more. Most inventive one wins a box of 20 FloodSax.  @BritishInsurers @floodalliance @floodre @FloodawareNE  https://t.co/PbISts6BBA['https\n",
            "=====================================================\n",
            "25 ways ( https://t.co/rQ7WL2ojE4) FloodSax alternative #sandbags have been used both inside and out to stop #floods, #leaks and spills … but there must be many more. Most inventive one wins a box of 20 FloodSax.  @Hullfloodrisk @floodinnovation @NorfolkFlooding @MarlowFlooding  https://t.co/RFkaCQD\n",
            "^^^^^^^^^^^^^^^^^^^^^^^^^^^^^^^^^^^^^^^^^^^^^^^^^^^^^\n",
            "vvvvvvvvvvvvvvvvvvvvvvvvvvvvvvvvvvvvvvvvvvvvvvvvvvvvv\n",
            "25 ways ( https://t.co/rQ7WL2ojE4) FloodSax alternative #sandbags have been used both inside and out to stop #floods, #leaks and spills … but there must be many more. Most inventive one wins a box of 20 FloodSax.  @Hullfloodrisk @floodinnovation @NorfolkFlooding @MarlowFlooding  https://t.co/RFkaCQD\n",
            "=====================================================\n",
            "25 ways ( https://t.co/rQ7WL2ojE4) FloodSax alternative #sandbags have been used both inside and out to stop #floods, #leaks and spills … but there must be many more. Most inventive one wins a box of 20 FloodSax.  @floodmary @Flood_SG @NatFloodForum @floodnewsuk @floodingireland  https://t.co/2ZvzKj\n",
            "^^^^^^^^^^^^^^^^^^^^^^^^^^^^^^^^^^^^^^^^^^^^^^^^^^^^^\n",
            "vvvvvvvvvvvvvvvvvvvvvvvvvvvvvvvvvvvvvvvvvvvvvvvvvvvvv\n",
            "5/27:  Deadly #FLOODS hit Texas just before Memorial Day; how a tagged and bagged soldier was saved from the dead  https://t.co/2zCf5ma0r0[]\n",
            "=====================================================\n",
            "5/27:  Deadly #FLOODS hit Texas just before Memorial Day; how a tagged and bagged soldier was saved from the dead  https://t.co/qfq9vdcHmO #GPWX[]\n",
            "^^^^^^^^^^^^^^^^^^^^^^^^^^^^^^^^^^^^^^^^^^^^^^^^^^^^^\n",
            "vvvvvvvvvvvvvvvvvvvvvvvvvvvvvvvvvvvvvvvvvvvvvvvvvvvvv\n",
            "@ httptaengod giselle ace[]\n",
            "=====================================================\n",
            "@ httptaengod giselle cute[]\n",
            "^^^^^^^^^^^^^^^^^^^^^^^^^^^^^^^^^^^^^^^^^^^^^^^^^^^^^\n",
            "vvvvvvvvvvvvvvvvvvvvvvvvvvvvvvvvvvvvvvvvvvvvvvvvvvvvv\n",
            "@ httptaengod giselle cute[]\n",
            "=====================================================\n",
            "@ httptaengod giselle next level[]\n",
            "^^^^^^^^^^^^^^^^^^^^^^^^^^^^^^^^^^^^^^^^^^^^^^^^^^^^^\n",
            "vvvvvvvvvvvvvvvvvvvvvvvvvvvvvvvvvvvvvvvvvvvvvvvvvvvvv\n",
            "@Desiplex1 @armsprime @Indian_Contests @ContestFeeds @Contest_in @IndiaContestOff @indiacontests4u 1) POT HOLES 2) LIGHTING 3) DRIZZLES 4) WIND 5) FLOOD 6) THUNDER 7) RAIN 8) FROG 9) UMBRELLA 10) RAINCOAT  #TpWithDp  @armsprime   @Desiplex1  #desiplexapp  #Monsoon2021\n",
            "=====================================================\n",
            "@Desiplex1 @armsprime @Indian_Contests @ContestFeeds @Contest_in @IndiaContestOff @indiacontests4u 1) POT HOLES 2) LIGHTING 3) DRIZZLES 4) WIND 5) FLOOD 6) THUNDER 7) RAIN 8) FROG 9) UMBRELLA 10) RAINCOAT  #TpWithDp  @armsprime   @Desiplex1  #desiplexapp  #Monsoon2021  @Indian_Contests\n",
            "^^^^^^^^^^^^^^^^^^^^^^^^^^^^^^^^^^^^^^^^^^^^^^^^^^^^^\n",
            "vvvvvvvvvvvvvvvvvvvvvvvvvvvvvvvvvvvvvvvvvvvvvvvvvvvvv\n",
            "@Desiplex1 @armsprime @Indian_Contests @ContestFeeds @Contest_in @IndiaContestOff @indiacontests4u 1) POT HOLES 2) LIGHTING 3) DRIZZLES 4) WIND 5) FLOOD 6) THUNDER 7) RAIN 8) FROG 9) UMBRELLA 10) RAINCOAT  #TpWithDp  @armsprime   @Desiplex1  #desiplexapp  #Monsoon2021  @Indian_Contests\n",
            "=====================================================\n",
            "@Desiplex1 @armsprime @Indian_Contests @ContestFeeds @Contest_in @IndiaContestOff @indiacontests4u 1) POT HOLES 2) LIGHTING 3) DRIZZLES 4) WIND 5) FLOOD 6) THUNDER 7) RAIN 8) FROG 9) UMBRELLA 10) RAINCOAT  #TpWithDp  @armsprime   @Desiplex1  #desiplexapp  #Monsoon2021  join  @Asheesh__Dubey  @Sagar1\n",
            "^^^^^^^^^^^^^^^^^^^^^^^^^^^^^^^^^^^^^^^^^^^^^^^^^^^^^\n",
            "vvvvvvvvvvvvvvvvvvvvvvvvvvvvvvvvvvvvvvvvvvvvvvvvvvvvv\n",
            "@Desiplex1 @armsprime @Indian_Contests @ContestFeeds @Contest_in @IndiaContestOff @indiacontests4u 1) POT HOLES 2) LIGHTING 3) DRIZZLES 4) WIND 5) FLOOD 6) THUNDER 7) RAIN 8) FROG 9) UMBRELLA 10) RAINCOAT  #TpWithDp  @armsprime   @Desiplex1  #desiplexapp  #Monsoon2021  join  @Asheesh__Dubey  @Sagar1\n",
            "=====================================================\n",
            "@Desiplex1 @armsprime @Indian_Contests @ContestFeeds @Contest_in @IndiaContestOff @indiacontests4u 1) POT HOLES 2) LIGHTING 3) DRIZZLES 4) WIND 5) FLOOD 6) THUNDER 7) RAIN 8) FROG 9) UMBRELLA 10) RAINCOAT  #TpWithDp  @armsprime  @Desiplex1  #desiplexapp  #Monsoon2021  Tag  :  @CheboluVasantha @kmche\n",
            "^^^^^^^^^^^^^^^^^^^^^^^^^^^^^^^^^^^^^^^^^^^^^^^^^^^^^\n",
            "vvvvvvvvvvvvvvvvvvvvvvvvvvvvvvvvvvvvvvvvvvvvvvvvvvvvv\n",
            "@Desiplex1 @armsprime @Indian_Contests @ContestFeeds @Contest_in @IndiaContestOff @indiacontests4u 1) POT HOLES 2) LIGHTING 3) DRIZZLES 4) WIND 5) FLOOD 6) THUNDER 7) RAIN 8) FROG 9) UMBRELLA 10) RAINCOAT  #TpWithDp  @armsprime  @Desiplex1  #desiplexapp  #Monsoon2021  Tag  :  @CheboluVasantha @kmche\n",
            "=====================================================\n",
            "@Desiplex1 @armsprime @Indian_Contests @ContestFeeds @Contest_in @IndiaContestOff @indiacontests4u 1) POT HOLES 2) LIGHTING 3) DRIZZLES 4) WIND 5) FLOOD 6) THUNDER 7) RAIN 8) FROG 9) UMBRELLA 10) RAINCOAT  #TpWithDp  @armsprime  @Desiplex1  #desiplexapp  #Monsoon2021  Tag: @CheboluVasantha  @Subrama\n",
            "^^^^^^^^^^^^^^^^^^^^^^^^^^^^^^^^^^^^^^^^^^^^^^^^^^^^^\n",
            "vvvvvvvvvvvvvvvvvvvvvvvvvvvvvvvvvvvvvvvvvvvvvvvvvvvvv\n",
            "@Desiplex1 @armsprime @Indian_Contests @ContestFeeds @Contest_in @IndiaContestOff @indiacontests4u 1) POT HOLES 2) LIGHTING 3) DRIZZLES 4) WIND 5) FLOOD 6) THUNDER 7) RAIN 8) FROG 9) UMBRELLA 10) RAINCOAT  #TpWithDp  @armsprime  @Desiplex1  #desiplexapp  #Monsoon2021  Tag: @CheboluVasantha  @Subrama\n",
            "=====================================================\n",
            "@Desiplex1 @armsprime @Indian_Contests @ContestFeeds @Contest_in @IndiaContestOff @indiacontests4u 1) POT HOLES 2) LIGHTING 3) DRIZZLES 4) WIND 5) FLOOD 6) THUNDER 7) RAIN 8) FROG 9) UMBRELLA 10) RAINCOAT  #TpWithDp  @armsprime  @Desiplex1❤  #desiplexapp  #Monsoon2021 Tagging 💬 @jainusha30   @myster\n",
            "^^^^^^^^^^^^^^^^^^^^^^^^^^^^^^^^^^^^^^^^^^^^^^^^^^^^^\n",
            "vvvvvvvvvvvvvvvvvvvvvvvvvvvvvvvvvvvvvvvvvvvvvvvvvvvvv\n",
            "@Desiplex1 @armsprime @Indian_Contests @ContestFeeds @Contest_in @IndiaContestOff @indiacontests4u 1) POT HOLES 2) LIGHTING 3) DRIZZLES 4) WIND 5) FLOOD 6) THUNDER 7) RAIN 8) FROG 9) UMBRELLA 10) RAINCOAT  #TpWithDp  @armsprime  @Desiplex1❤  #desiplexapp  #Monsoon2021 Tagging 💬 @jainusha30   @myster\n",
            "=====================================================\n",
            "@Desiplex1 @armsprime @Indian_Contests @ContestFeeds @Contest_in @IndiaContestOff @indiacontests4u 1) POT HOLES 2) LIGHTING 3) DRIZZLES 4) WIND 5) FLOOD 6) THUNDER 7) RAIN 8) FROG 9) UMBRELLA 10) RAINCOAT  #TpWithDp  @armsprime @Desiplex1 #desiplexapp  #Monsoon2021  @Chhayadhamecha @Racer_Veb @prash\n",
            "^^^^^^^^^^^^^^^^^^^^^^^^^^^^^^^^^^^^^^^^^^^^^^^^^^^^^\n",
            "vvvvvvvvvvvvvvvvvvvvvvvvvvvvvvvvvvvvvvvvvvvvvvvvvvvvv\n",
            "@Desiplex1 @armsprime @Indian_Contests @ContestFeeds @Contest_in @IndiaContestOff @indiacontests4u 1) POT HOLES 2) LIGHTING 3) DRIZZLES 4) WIND 5) FLOOD 6) THUNDER 7) RAIN 8) FROG 9) UMBRELLA 10) RAINCOAT  #TpWithDp  @armsprime @Desiplex1 #desiplexapp  #Monsoon2021  @Chhayadhamecha @Racer_Veb @prash\n",
            "=====================================================\n",
            "@Desiplex1 @armsprime @Indian_Contests @ContestFeeds @Contest_in @IndiaContestOff @indiacontests4u 1) POT HOLES 2) LIGHTING 3) DRIZZLES 4) WIND 5) FLOOD 6) THUNDER 7) RAIN 8) FROG 9) UMBRELLA 10) RAINCOAT  #TpWithDp  @armsprime @Desiplex1 #desiplexapp  #Monsoon2021  @godsowntalk @OjhaDayaL_ @gurgaon\n",
            "^^^^^^^^^^^^^^^^^^^^^^^^^^^^^^^^^^^^^^^^^^^^^^^^^^^^^\n",
            "vvvvvvvvvvvvvvvvvvvvvvvvvvvvvvvvvvvvvvvvvvvvvvvvvvvvv\n",
            "@Desiplex1 @armsprime @Indian_Contests @ContestFeeds @Contest_in @IndiaContestOff @indiacontests4u 1) POT HOLES 2) LIGHTING 3) DRIZZLES 4) WIND 5) FLOOD 6) THUNDER 7) RAIN 8) FROG 9) UMBRELLA 10) RAINCOAT  #TpWithDp  @armsprime @Desiplex1 #desiplexapp  #Monsoon2021  @godsowntalk @OjhaDayaL_ @gurgaon\n",
            "=====================================================\n",
            "@Desiplex1 @armsprime @Indian_Contests @ContestFeeds @Contest_in @IndiaContestOff @indiacontests4u 1) POT HOLES 2) LIGHTING 3) DRIZZLES 4) WIND 5) FLOOD 6) THUNDER 7) RAIN 8) FROG 9) UMBRELLA 10) RAINCOAT  #TpWithDp  @armsprime @Desiplex1 #desiplexapp  #Monsoon2021  Join @CHUNMUN143 @prateekfrequent\n",
            "^^^^^^^^^^^^^^^^^^^^^^^^^^^^^^^^^^^^^^^^^^^^^^^^^^^^^\n",
            "vvvvvvvvvvvvvvvvvvvvvvvvvvvvvvvvvvvvvvvvvvvvvvvvvvvvv\n",
            "@Desiplex1 @armsprime @Indian_Contests @ContestFeeds @Contest_in @IndiaContestOff @indiacontests4u 1) POT HOLES 2) LIGHTING 3) DRIZZLES 4) WIND 5) FLOOD 6) THUNDER 7) RAIN 8) FROG 9) UMBRELLA 10) RAINCOAT  #TpWithDp  @armsprime @Desiplex1 #desiplexapp  #Monsoon2021  Join @CHUNMUN143 @prateekfrequent\n",
            "=====================================================\n",
            "@Desiplex1 @armsprime @Indian_Contests @ContestFeeds @Contest_in @IndiaContestOff @indiacontests4u 1) POT HOLES 2) LIGHTING 3) DRIZZLES 4) WIND 5) FLOOD 6) THUNDER 7) RAIN 8) FROG 9) UMBRELLA 10) RAINCOAT  #TpWithDp  @armsprime @Desiplex1 #desiplexapp  #Monsoon2021  Join @Deepak62032235 @SunilKumarS\n",
            "^^^^^^^^^^^^^^^^^^^^^^^^^^^^^^^^^^^^^^^^^^^^^^^^^^^^^\n",
            "vvvvvvvvvvvvvvvvvvvvvvvvvvvvvvvvvvvvvvvvvvvvvvvvvvvvv\n",
            "@Desiplex1 @armsprime @Indian_Contests @ContestFeeds @Contest_in @IndiaContestOff @indiacontests4u 1) POT HOLES 2) LIGHTING 3) DRIZZLES 4) WIND 5) FLOOD 6) THUNDER 7) RAIN 8) FROG 9) UMBRELLA 10) RAINCOAT  #TpWithDp  @armsprime @Desiplex1 #desiplexapp  #Monsoon2021  Join @Deepak62032235 @SunilKumarS\n",
            "=====================================================\n",
            "@Desiplex1 @armsprime @Indian_Contests @ContestFeeds @Contest_in @IndiaContestOff @indiacontests4u 1) POT HOLES 2) LIGHTING 3) DRIZZLES 4) WIND 5) FLOOD 6) THUNDER 7) RAIN 8) FROG 9) UMBRELLA 10) RAINCOAT  #TpWithDp  @armsprime @Desiplex1 #desiplexapp  #Monsoon2021  Join @kmcheb12 @NarangBimla @Paru\n",
            "^^^^^^^^^^^^^^^^^^^^^^^^^^^^^^^^^^^^^^^^^^^^^^^^^^^^^\n",
            "vvvvvvvvvvvvvvvvvvvvvvvvvvvvvvvvvvvvvvvvvvvvvvvvvvvvv\n",
            "@Desiplex1 @armsprime @Indian_Contests @ContestFeeds @Contest_in @IndiaContestOff @indiacontests4u 1) POT HOLES 2) LIGHTING 3) DRIZZLES 4) WIND 5) FLOOD 6) THUNDER 7) RAIN 8) FROG 9) UMBRELLA 10) RAINCOAT  #TpWithDp  @armsprime @Desiplex1 #desiplexapp  #Monsoon2021  Join @kmcheb12 @NarangBimla @Paru\n",
            "=====================================================\n",
            "@Desiplex1 @armsprime @Indian_Contests @ContestFeeds @Contest_in @IndiaContestOff @indiacontests4u 1) POT HOLES 2) LIGHTING 3) DRIZZLES 4) WIND 5) FLOOD 6) THUNDER 7) RAIN 8) FROG 9) UMBRELLA 10) RAINCOAT  #TpWithDp  @armsprime @Desiplex1 #desiplexapp  #Monsoon2021 Join:   @Priyankc007 @itsPriynkaM \n",
            "^^^^^^^^^^^^^^^^^^^^^^^^^^^^^^^^^^^^^^^^^^^^^^^^^^^^^\n",
            "vvvvvvvvvvvvvvvvvvvvvvvvvvvvvvvvvvvvvvvvvvvvvvvvvvvvv\n",
            "@Desiplex1 @armsprime @Indian_Contests @ContestFeeds @Contest_in @IndiaContestOff @indiacontests4u 1) POT HOLES 2) LIGHTING 3) DRIZZLES 4) WIND 5) FLOOD 6) THUNDER 7) RAIN 8) FROG 9) UMBRELLA 10) RAINCOAT  #TpWithDp  @armsprime @Desiplex1 #desiplexapp  #Monsoon2021 Join:   @Priyankc007 @itsPriynkaM \n",
            "=====================================================\n",
            "@Desiplex1 @armsprime @Indian_Contests @ContestFeeds @Contest_in @IndiaContestOff @indiacontests4u 1) POT HOLES 2) LIGHTING 3) DRIZZLES 4) WIND 5) FLOOD 6) THUNDER 7) RAIN 8) FROG 9) UMBRELLA 10) RAINCOAT  #TpWithDp @armsprime @Desiplex1 #desiplexapp  #Monsoon2021\n",
            "^^^^^^^^^^^^^^^^^^^^^^^^^^^^^^^^^^^^^^^^^^^^^^^^^^^^^\n",
            "vvvvvvvvvvvvvvvvvvvvvvvvvvvvvvvvvvvvvvvvvvvvvvvvvvvvv\n",
            "@Desiplex1 @armsprime @Indian_Contests @ContestFeeds @Contest_in @IndiaContestOff @indiacontests4u 1) POT HOLES 2) LIGHTING 3) DRIZZLES 4) WIND 5) FLOOD 6) THUNDER 7) RAIN 8) FROG 9) UMBRELLA 10) RAINCOAT  #TpWithDp @armsprime @Desiplex1 #desiplexapp  #Monsoon2021\n",
            "=====================================================\n",
            "@Desiplex1 @armsprime @Indian_Contests @ContestFeeds @Contest_in @IndiaContestOff @indiacontests4u 1) POT HOLES 2) LIGHTING 3) DRIZZLES 4) WIND 5) FLOOD 6) THUNDER 7) RAIN 8) FROG 9) UMBRELLA 10) RAINCOAT  #TpWithDp @armsprime @Desiplex1 #desiplexapp  #Monsoon2021  JoiN @jatinc18  @NitikaNitty  @Nit\n",
            "^^^^^^^^^^^^^^^^^^^^^^^^^^^^^^^^^^^^^^^^^^^^^^^^^^^^^\n",
            "vvvvvvvvvvvvvvvvvvvvvvvvvvvvvvvvvvvvvvvvvvvvvvvvvvvvv\n",
            "@Desiplex1 @armsprime @Indian_Contests @ContestFeeds @Contest_in @IndiaContestOff @indiacontests4u 1) POT HOLES 2) LIGHTING 3) DRIZZLES 4) WIND 5) FLOOD 6) THUNDER 7) RAIN 8) FROG 9) UMBRELLA 10) RAINCOAT  #TpWithDp @armsprime @Desiplex1 #desiplexapp  #Monsoon2021  JoiN @jatinc18  @NitikaNitty  @Nit\n",
            "=====================================================\n",
            "@Desiplex1 @armsprime @Indian_Contests @ContestFeeds @Contest_in @IndiaContestOff @indiacontests4u 1) POT HOLES 2) LIGHTING 3) DRIZZLES 4) WIND 5) FLOOD 6) THUNDER 7) RAIN 8) FROG 9) UMBRELLA 10) RAINCOAT  #TpWithDp @armsprime @Desiplex1 #desiplexapp  #Monsoon2021  join @ManishPimpalka4\n",
            "^^^^^^^^^^^^^^^^^^^^^^^^^^^^^^^^^^^^^^^^^^^^^^^^^^^^^\n",
            "vvvvvvvvvvvvvvvvvvvvvvvvvvvvvvvvvvvvvvvvvvvvvvvvvvvvv\n",
            "@Desiplex1 @armsprime @Indian_Contests @ContestFeeds @Contest_in @IndiaContestOff @indiacontests4u 1) POT HOLES 2) LIGHTING 3) DRIZZLES 4) WIND 5) FLOOD 6) THUNDER 7) RAIN 8) FROG 9) UMBRELLA 10) RAINCOAT  #TpWithDp @armsprime @Desiplex1 #desiplexapp  #Monsoon2021  join @ManishPimpalka4\n",
            "=====================================================\n",
            "@Desiplex1 @armsprime @Indian_Contests @ContestFeeds @Contest_in @IndiaContestOff @indiacontests4u 1) POT HOLES 2) LIGHTING 3) DRIZZLES 4) WIND 5) FLOOD 6) THUNDER 7) RAIN 8) FROG 9) UMBRELLA 10) RAINCOAT  #TpWithDp @armsprime @Desiplex1 #desiplexapp  #Monsoon2021  join guys @Aditimalhotra86  @bless\n",
            "^^^^^^^^^^^^^^^^^^^^^^^^^^^^^^^^^^^^^^^^^^^^^^^^^^^^^\n",
            "vvvvvvvvvvvvvvvvvvvvvvvvvvvvvvvvvvvvvvvvvvvvvvvvvvvvv\n",
            "@Desiplex1 @armsprime @Indian_Contests @ContestFeeds @Contest_in @IndiaContestOff @indiacontests4u 1) POT HOLES 2) LIGHTING 3) DRIZZLES 4) WIND 5) FLOOD 6) THUNDER 7) RAIN 8) FROG 9) UMBRELLA 10) RAINCOAT  #TpWithDp @armsprime @Desiplex1 #desiplexapp  #Monsoon2021  join guys @Aditimalhotra86  @bless\n",
            "=====================================================\n",
            "@Desiplex1 @armsprime @Indian_Contests @ContestFeeds @Contest_in @IndiaContestOff @indiacontests4u 1) POT HOLES 2) LIGHTING 3) DRIZZLES 4) WIND 5) FLOOD 6) THUNDER 7) RAIN 8) FROG 9) UMBRELLA 10) RAINCOAT  #TpWithDp @armsprime @Desiplex1 #desiplexapp  #Monsoon2021  join guys @cuteushakumari @rajeshs\n",
            "^^^^^^^^^^^^^^^^^^^^^^^^^^^^^^^^^^^^^^^^^^^^^^^^^^^^^\n",
            "vvvvvvvvvvvvvvvvvvvvvvvvvvvvvvvvvvvvvvvvvvvvvvvvvvvvv\n",
            "@Desiplex1 @armsprime @Indian_Contests @ContestFeeds @Contest_in @IndiaContestOff @indiacontests4u 1) POT HOLES 2) LIGHTING 3) DRIZZLES 4) WIND 5) FLOOD 6) THUNDER 7) RAIN 8) FROG 9) UMBRELLA 10) RAINCOAT  #TpWithDp @armsprime @Desiplex1 #desiplexapp  #Monsoon2021  join guys @cuteushakumari @rajeshs\n",
            "=====================================================\n",
            "@Desiplex1 @armsprime @Indian_Contests @ContestFeeds @Contest_in @IndiaContestOff @indiacontests4u 1) POT HOLES 2) LIGHTING 3) DRIZZLES 4) WIND 5) FLOOD 6) THUNDER 7) RAIN 8) FROG 9) UMBRELLA 10) RAINCOAT  #TpWithDp @armsprime @Desiplex1 #desiplexapp  #Monsoon2021  join guys @srikanth_merugu @Manide\n",
            "^^^^^^^^^^^^^^^^^^^^^^^^^^^^^^^^^^^^^^^^^^^^^^^^^^^^^\n",
            "vvvvvvvvvvvvvvvvvvvvvvvvvvvvvvvvvvvvvvvvvvvvvvvvvvvvv\n",
            "@Desiplex1 @armsprime @Indian_Contests @ContestFeeds @Contest_in @IndiaContestOff @indiacontests4u 1) POT HOLES 2) LIGHTING 3) DRIZZLES 4) WIND 5) FLOOD 6) THUNDER 7) RAIN 8) FROG 9) UMBRELLA 10) RAINCOAT  #TpWithDp @armsprime @Desiplex1 #desiplexapp  #Monsoon2021  join guys @srikanth_merugu @Manide\n",
            "=====================================================\n",
            "@Desiplex1 @armsprime @Indian_Contests @ContestFeeds @Contest_in @IndiaContestOff @indiacontests4u 1) POT HOLES 2) LIGHTING 3) DRIZZLES 4) WIND 5) FLOOD 6) THUNDER 7) RAIN 8) FROG 9) UMBRELLA 10) RAINCOAT  @armsprime @Indian_Contests  #desiplexapp #tpwithdp #ContestAlert #Contest #contestalertindia \n",
            "^^^^^^^^^^^^^^^^^^^^^^^^^^^^^^^^^^^^^^^^^^^^^^^^^^^^^\n",
            "vvvvvvvvvvvvvvvvvvvvvvvvvvvvvvvvvvvvvvvvvvvvvvvvvvvvv\n",
            "@_waitingforyeol @aespachartsdata @aespa_official i think you misread the tweet bestie😭[]\n",
            "=====================================================\n",
            "@_waitingforyeol @aespachartsdata @aespa_official ohh sorry for that🤧[]\n",
            "^^^^^^^^^^^^^^^^^^^^^^^^^^^^^^^^^^^^^^^^^^^^^^^^^^^^^\n",
            "vvvvvvvvvvvvvvvvvvvvvvvvvvvvvvvvvvvvvvvvvvvvvvvvvvvvv\n",
            "@justningselle giselle ace[]\n",
            "=====================================================\n",
            "@justningselle giselle beautiful[]\n",
            "^^^^^^^^^^^^^^^^^^^^^^^^^^^^^^^^^^^^^^^^^^^^^^^^^^^^^\n",
            "vvvvvvvvvvvvvvvvvvvvvvvvvvvvvvvvvvvvvvvvvvvvvvvvvvvvv\n",
            "@justningselle giselle beautiful[]\n",
            "=====================================================\n",
            "@justningselle giselle cute[]\n",
            "^^^^^^^^^^^^^^^^^^^^^^^^^^^^^^^^^^^^^^^^^^^^^^^^^^^^^\n",
            "vvvvvvvvvvvvvvvvvvvvvvvvvvvvvvvvvvvvvvvvvvvvvvvvvvvvv\n",
            "A landslide and flood warning has been issued to several parts of the country due to the inclement weather.  https://t.co/n7F9y9hPFq via @colombogazette #Srilanka #lka #landslide #Floods\n",
            "=====================================================\n",
            "A landslide and flood warning has been issued to several parts of the country due to the inclement weather. Read the full story here  https://t.co/O5SmqBmkUy via @colombogazette #SriLanka #lka #landslide #floods #weather\n",
            "^^^^^^^^^^^^^^^^^^^^^^^^^^^^^^^^^^^^^^^^^^^^^^^^^^^^^\n",
            "vvvvvvvvvvvvvvvvvvvvvvvvvvvvvvvvvvvvvvvvvvvvvvvvvvvvv\n",
            "A minor flood situation was witnessed in #Gampaha and #Colombo  Districts today with heavy rains, that experienced in most places in the country #SriLanka #lka  #flooding #heavyrain  https://t.co/BpDHDymc3G\n",
            "=====================================================\n",
            "A minor flood situation was witnessed in #Gampaha and #Colombo  Districts today with heavy rains, that experienced in most places in the country.  #LKA #SriLanka #WeatherSL #flooding #HeavyRain  https://t.co/mWGMmExfDc\n",
            "^^^^^^^^^^^^^^^^^^^^^^^^^^^^^^^^^^^^^^^^^^^^^^^^^^^^^\n",
            "vvvvvvvvvvvvvvvvvvvvvvvvvvvvvvvvvvvvvvvvvvvvvvvvvvvvv\n",
            "Africa Flooded! heavy rain causes floods in Luanda capital of Angola  https://t.co/77OAGGmmjm  #Angola #luandaangola #floods #rains #disaster #Luanda #inundação #inundaciones #luandaflood #Africa #africafloods  https://t.co/IuoJBd3Mls[]\n",
            "=====================================================\n",
            "Africa Flooded! heavy rain causes floods in Luanda capital of Angola  https://t.co/77OAGGmmjm  #Angola #luandaangola #floods #rains #disaster #Luanda #inundação #inundaciones #luandaflood #Africa #africafloods  https://t.co/WZkICFdx2A[]\n",
            "^^^^^^^^^^^^^^^^^^^^^^^^^^^^^^^^^^^^^^^^^^^^^^^^^^^^^\n",
            "vvvvvvvvvvvvvvvvvvvvvvvvvvvvvvvvvvvvvvvvvvvvvvvvvvvvv\n",
            "An AREAL FLOOD WATCH is now in effect through Friday morning due to localized rainfall amounts of 2-4 inches on top of now saturated soil. Scattered to numerous thunderstorms continue overnight and through much of Friday. Localized flooding is possible. #WECTwx #ILMwx  https://t.co/1pmX1TW6q2\n",
            "=====================================================\n",
            "An AREAL FLOOD WATCH is now in effect through Friday morning due to localized rainfall amounts of 2-4 inches on top of now saturated soil. Scattered to numerous thunderstorms continue overnight and through much of Friday. Localized flooding is possible. #WECTwx #ILMwx  https://t.co/afBMDEjXvD\n",
            "^^^^^^^^^^^^^^^^^^^^^^^^^^^^^^^^^^^^^^^^^^^^^^^^^^^^^\n",
            "vvvvvvvvvvvvvvvvvvvvvvvvvvvvvvvvvvvvvvvvvvvvvvvvvvvvv\n",
            "Arksey near Doncaster was flooded in May 1932 when a wave of water hit the village leaving houses up to 3 metres deep in water. Colourised by  https://t.co/AKNis5kvdz  #DerbyshireHistoryWriters  #tunnelbreeze (隧道微风) #colourising (着色) #Doncaster #Yorkshire #floods  https://t.co/blF61IDDPm['https://pb\n",
            "=====================================================\n",
            "Arksey near Doncaster was flooded in May 1932 when a wave of water hit the village leaving houses up to 3 metres deep in water. Colourised by  https://t.co/AKNis5kvdz  #DerbyshireHistoryWriters  #tunnelbreeze (隧道微风) #colourising (着色) #Doncaster #Yorkshire #floods  https://t.co/d3qKmdZn4e['https://pb\n",
            "^^^^^^^^^^^^^^^^^^^^^^^^^^^^^^^^^^^^^^^^^^^^^^^^^^^^^\n",
            "vvvvvvvvvvvvvvvvvvvvvvvvvvvvvvvvvvvvvvvvvvvvvvvvvvvvv\n",
            "Arksey near Doncaster was flooded in May 1932 when a wave of water hit the village leaving houses up to 3 metres deep in water. Colourised by  https://t.co/AKNis5kvdz  #DerbyshireHistoryWriters  #tunnelbreeze (隧道微风) #colourising (着色) #Doncaster #Yorkshire #floods  https://t.co/d3qKmdZn4e['https://pb\n",
            "=====================================================\n",
            "Arksey near Doncaster was flooded in May 1932 when a wave of water hit the village leaving houses up to 3 metres deep in water. Colourised by  https://t.co/AKNis5kvdz  #DerbyshireHistoryWriters  #tunnelbreeze (隧道微风) #colourising (着色) #Doncaster #Yorkshire #floods  https://t.co/hcbKqaCeOh['https://pb\n",
            "^^^^^^^^^^^^^^^^^^^^^^^^^^^^^^^^^^^^^^^^^^^^^^^^^^^^^\n",
            "vvvvvvvvvvvvvvvvvvvvvvvvvvvvvvvvvvvvvvvvvvvvvvvvvvvvv\n",
            "Australia braces for impact from rare twin tropical storm, officials warn of heavy rain, flash floods, soil erosion #Cyclone #TSSeroja #Seroja #WesternAustralia #Australia #Floods #TSOdette  https://t.co/aRyq8i5zUZ[]\n",
            "=====================================================\n",
            "Australia braces for impact from rare twin tropical storm, officials warn of heavy rain, flash floods, soil erosion and wind gusts #Cyclone #TSSeroja #Seroja #WesternAustralia #Australia #Floods #TSOdette  https://t.co/aRyq8inbjz[]\n",
            "^^^^^^^^^^^^^^^^^^^^^^^^^^^^^^^^^^^^^^^^^^^^^^^^^^^^^\n",
            "vvvvvvvvvvvvvvvvvvvvvvvvvvvvvvvvvvvvvvvvvvvvvvvvvvvvv\n",
            "Breaking News: WATCH: Rainwater busts through day care door, floods playroom  https://t.co/IwcIxdiIyj\n",
            "=====================================================\n",
            "Breaking News: WATCH: Rainwater busts through day care door, floods playroom  https://t.co/PuS14hHYKZ\n",
            "^^^^^^^^^^^^^^^^^^^^^^^^^^^^^^^^^^^^^^^^^^^^^^^^^^^^^\n",
            "vvvvvvvvvvvvvvvvvvvvvvvvvvvvvvvvvvvvvvvvvvvvvvvvvvvvv\n",
            "Breaking News: WATCH: Rainwater busts through day care door, floods playroom  https://t.co/PuS14hHYKZ\n",
            "=====================================================\n",
            "Breaking News: WATCH: Rainwater busts through day care door, floods playroom  https://t.co/X5GSpWT9NJ\n",
            "^^^^^^^^^^^^^^^^^^^^^^^^^^^^^^^^^^^^^^^^^^^^^^^^^^^^^\n",
            "vvvvvvvvvvvvvvvvvvvvvvvvvvvvvvvvvvvvvvvvvvvvvvvvvvvvv\n",
            "CLE continues Flood Warning for Killbuck Creek near Killbuck [OH] till May 15, 8:00 AM EDT https://t.co/a61EmddSAt https://t.co/idT8iAmaID\n",
            "=====================================================\n",
            "CLE continues Flood Warning for Killbuck Creek near Killbuck [OH] till May 15, 8:00 AM EDT https://t.co/a61EmddSAt https://t.co/uMfaY4LO5P\n",
            "^^^^^^^^^^^^^^^^^^^^^^^^^^^^^^^^^^^^^^^^^^^^^^^^^^^^^\n",
            "vvvvvvvvvvvvvvvvvvvvvvvvvvvvvvvvvvvvvvvvvvvvvvvvvvvvv\n",
            "CLE continues Flood Warning for Sandusky River at Tiffin [OH] till May 13, 10:40 AM EDT https://t.co/irLMJhSwmr https://t.co/YBmPgp6tqw\n",
            "=====================================================\n",
            "CLE continues Flood Warning for Sandusky River at Tiffin [OH] till May 13, 10:40 AM EDT https://t.co/irLMJhSwmr https://t.co/YKToKHXP4c\n",
            "^^^^^^^^^^^^^^^^^^^^^^^^^^^^^^^^^^^^^^^^^^^^^^^^^^^^^\n",
            "vvvvvvvvvvvvvvvvvvvvvvvvvvvvvvvvvvvvvvvvvvvvvvvvvvvvv\n",
            "CLE extends time of Flood Warning for Killbuck Creek near Killbuck [OH] till May 15, 8:00 AM EDT https://t.co/ST6KvbWWf5 https://t.co/CEw5zHKl0z\n",
            "=====================================================\n",
            "CLE extends time of Flood Warning for Killbuck Creek near Killbuck [OH] till May 15, 8:00 AM EDT https://t.co/ST6KvbWWf5 https://t.co/uZtqJPmldv\n",
            "^^^^^^^^^^^^^^^^^^^^^^^^^^^^^^^^^^^^^^^^^^^^^^^^^^^^^\n",
            "vvvvvvvvvvvvvvvvvvvvvvvvvvvvvvvvvvvvvvvvvvvvvvvvvvvvv\n",
            "CLE extends time of Flood Warning for Sandusky River at Tiffin [OH] till May 13, 10:40 AM EDT https://t.co/C0psvXHemP https://t.co/5m2xlqeYWh\n",
            "=====================================================\n",
            "CLE extends time of Flood Warning for Sandusky River at Tiffin [OH] till May 13, 10:40 AM EDT https://t.co/C0psvXHemP https://t.co/hg0p1Lb0Q0\n",
            "^^^^^^^^^^^^^^^^^^^^^^^^^^^^^^^^^^^^^^^^^^^^^^^^^^^^^\n",
            "vvvvvvvvvvvvvvvvvvvvvvvvvvvvvvvvvvvvvvvvvvvvvvvvvvvvv\n",
            "CLE extends time of Flood Warning for Scioto River near Prospect [OH] till May 13, 11:00 PM EDT https://t.co/0rfQ36IOol https://t.co/JxFTPkRS4r\n",
            "=====================================================\n",
            "CLE extends time of Flood Warning for Scioto River near Prospect [OH] till May 13, 11:00 PM EDT https://t.co/0rfQ36IOol https://t.co/sLhIh5Kc0C\n",
            "^^^^^^^^^^^^^^^^^^^^^^^^^^^^^^^^^^^^^^^^^^^^^^^^^^^^^\n",
            "vvvvvvvvvvvvvvvvvvvvvvvvvvvvvvvvvvvvvvvvvvvvvvvvvvvvv\n",
            "CLE extends time of Flood Warning for Scioto River near Prospect [OH] till May 13, 11:00 PM EDT https://t.co/0rfQ36IOol https://t.co/sLhIh5Kc0C\n",
            "=====================================================\n",
            "CLE extends time of Flood Warning for Scioto River near Prospect [OH] till May 14, 6:30 AM EDT https://t.co/asVPXOPRvf https://t.co/OwpZH2BEw2\n",
            "^^^^^^^^^^^^^^^^^^^^^^^^^^^^^^^^^^^^^^^^^^^^^^^^^^^^^\n",
            "vvvvvvvvvvvvvvvvvvvvvvvvvvvvvvvvvvvvvvvvvvvvvvvvvvvvv\n",
            "CLE extends time of Flood Warning for Scioto River near Prospect [OH] till May 14, 6:30 AM EDT https://t.co/asVPXOPRvf https://t.co/OwpZH2BEw2\n",
            "=====================================================\n",
            "CLE extends time of Flood Warning for Scioto River near Prospect [OH] till May 14, 6:30 AM EDT https://t.co/asVPXOPRvf https://t.co/wolFmjcTkZ\n",
            "^^^^^^^^^^^^^^^^^^^^^^^^^^^^^^^^^^^^^^^^^^^^^^^^^^^^^\n",
            "vvvvvvvvvvvvvvvvvvvvvvvvvvvvvvvvvvvvvvvvvvvvvvvvvvvvv\n",
            "Caritas #Indonesia provides cash assistance as well as educational and psycho-social services for the survivors of a #cyclone that triggered #floods and mudslides that killed more than 180 people in an eastern province this month.  @konradus_epa Read more:  https://t.co/LS0pnv9peF[]\n",
            "=====================================================\n",
            "Caritas #Indonesia provides cash assistance as well as educational and psycho-social services for the survivors of a #cyclone that triggered #floods and mudslides that killed more than 180 people in an eastern province this month.  @konradus_epa Read more:  https://t.co/eGAMrYG2tm[]\n",
            "^^^^^^^^^^^^^^^^^^^^^^^^^^^^^^^^^^^^^^^^^^^^^^^^^^^^^\n",
            "vvvvvvvvvvvvvvvvvvvvvvvvvvvvvvvvvvvvvvvvvvvvvvvvvvvvv\n",
            "Caritas #Indonesia provides cash assistance as well as educational and psycho-social services for the survivors of a #cyclone that triggered #floods and mudslides that killed more than 180 people in an eastern province this month.  @konradus_epa Read more:  https://t.co/eGAMrYG2tm[]\n",
            "=====================================================\n",
            "Caritas #Indonesia provides cash assistance as well as educational and psycho-social services for the survivors of a #cyclone that triggered #floods and mudslides that killed more than 180 people in an eastern province this month.  @konradus_epa Read more:  https://t.co/fTzCzH9vvT[]\n",
            "^^^^^^^^^^^^^^^^^^^^^^^^^^^^^^^^^^^^^^^^^^^^^^^^^^^^^\n",
            "vvvvvvvvvvvvvvvvvvvvvvvvvvvvvvvvvvvvvvvvvvvvvvvvvvvvv\n",
            "Caritas #Indonesia provides cash assistance as well as educational and psycho-social services for the survivors of a #cyclone that triggered #floods and mudslides that killed more than 180 people in an eastern province this month.  @konradus_epa Read more:  https://t.co/fTzCzH9vvT[]\n",
            "=====================================================\n",
            "Caritas #Indonesia provides cash assistance as well as educational and psycho-social services for the survivors of a #cyclone that triggered #floods and mudslides that killed more than 180 people in an eastern province this month.  @konradus_epa Read more:  https://t.co/t88Qkznhn0[]\n",
            "^^^^^^^^^^^^^^^^^^^^^^^^^^^^^^^^^^^^^^^^^^^^^^^^^^^^^\n",
            "vvvvvvvvvvvvvvvvvvvvvvvvvvvvvvvvvvvvvvvvvvvvvvvvvvvvv\n",
            "Coastal #FLOODS prompt voluntary evacuations in New Jersey  https://t.co/2DV45EOdxD[]\n",
            "=====================================================\n",
            "Coastal #FLOODS prompt voluntary evacuations in New Jersey  https://t.co/UebCus0tIW #GPWX[]\n",
            "^^^^^^^^^^^^^^^^^^^^^^^^^^^^^^^^^^^^^^^^^^^^^^^^^^^^^\n",
            "vvvvvvvvvvvvvvvvvvvvvvvvvvvvvvvvvvvvvvvvvvvvvvvvvvvvv\n",
            "Deadly #FLOODS still threaten the South  https://t.co/IFQtV7bfvS #GPWX[]\n",
            "=====================================================\n",
            "Deadly #FLOODS still threaten the South  https://t.co/uwh29eYTgi[]\n",
            "^^^^^^^^^^^^^^^^^^^^^^^^^^^^^^^^^^^^^^^^^^^^^^^^^^^^^\n",
            "vvvvvvvvvvvvvvvvvvvvvvvvvvvvvvvvvvvvvvvvvvvvvvvvvvvvv\n",
            "Deadly #FLOODS trigger state of emergency in West Virginia counties  https://t.co/U6ELBI1iGf  #GlobalWarming #climatechange[]\n",
            "=====================================================\n",
            "Deadly #FLOODS trigger state of emergency in West Virginia counties  https://t.co/gAvev6G5bw #GPWX #GlobalWarming #climatechange[]\n",
            "^^^^^^^^^^^^^^^^^^^^^^^^^^^^^^^^^^^^^^^^^^^^^^^^^^^^^\n",
            "vvvvvvvvvvvvvvvvvvvvvvvvvvvvvvvvvvvvvvvvvvvvvvvvvvvvv\n",
            "Devastating #FLOODS hit the U.K.  https://t.co/lqMaFyKMH5 #GPWX[]\n",
            "=====================================================\n",
            "Devastating #FLOODS hit the U.K.  https://t.co/o9I0NWEK2Z[]\n",
            "^^^^^^^^^^^^^^^^^^^^^^^^^^^^^^^^^^^^^^^^^^^^^^^^^^^^^\n",
            "vvvvvvvvvvvvvvvvvvvvvvvvvvvvvvvvvvvvvvvvvvvvvvvvvvvvv\n",
            "Devastating #FLOODS rip through North Carolina  https://t.co/I0dWWjiO3e[]\n",
            "=====================================================\n",
            "Devastating #FLOODS rip through North Carolina  https://t.co/gpHn32pb0a #GPWX[]\n",
            "^^^^^^^^^^^^^^^^^^^^^^^^^^^^^^^^^^^^^^^^^^^^^^^^^^^^^\n",
            "vvvvvvvvvvvvvvvvvvvvvvvvvvvvvvvvvvvvvvvvvvvvvvvvvvvvv\n",
            "Did you know: Anywhere it rains, it can flood.  In fact, #floods occur in every U.S. state.  Flood insurance takes 30 days to take effect, purchase and review your plan now to protect your family for the future!   Learn more:  https://t.co/EHf6IWtGS2 #FloodSafety  https://t.co/FBnRRLobTd['https://pb\n",
            "=====================================================\n",
            "Did you know: Anywhere it rains, it can flood.  In fact, #floods occur in every U.S. state.  Flood insurance takes 30 days to take effect, purchase and review your plan now to protect your family for the future!   Learn more:  https://t.co/EHf6IWtGS2 #FloodSafety  https://t.co/n2YGTBg9Uo['https://pb\n",
            "^^^^^^^^^^^^^^^^^^^^^^^^^^^^^^^^^^^^^^^^^^^^^^^^^^^^^\n",
            "vvvvvvvvvvvvvvvvvvvvvvvvvvvvvvvvvvvvvvvvvvvvvvvvvvvvv\n",
            "Dozens rescued, hundreds evacuated after Calif. #FLOODS  https://t.co/1NagAN7mKb[]\n",
            "=====================================================\n",
            "Dozens rescued, hundreds evacuated after Calif. #FLOODS  https://t.co/6CnGpEbXJW #GPWX[]\n",
            "^^^^^^^^^^^^^^^^^^^^^^^^^^^^^^^^^^^^^^^^^^^^^^^^^^^^^\n",
            "vvvvvvvvvvvvvvvvvvvvvvvvvvvvvvvvvvvvvvvvvvvvvvvvvvvvv\n",
            "EGU's Public Lecture is returning to #vEGU21! Hosted by @oeaw, speaker Günter Blöschl will discuss if #floods in Europe are getting bigger. The lecture will be in German and will be held online, TODAY, Wednesday 21 April at 18:00 CEST.  Read more:  https://t.co/SyQZs8i00C  https://t.co/FnidIfk9Cq['h\n",
            "=====================================================\n",
            "EGU's Public Lecture is returning to #vEGU21! Hosted by @oeaw, speaker Günter Blöschl will discuss if #floods in Europe are getting bigger. The lecture will be in German and will be held online, Wednesday 21 April at 18:00 CEST.  Read more:  https://t.co/SyQZs80oC2  https://t.co/kR1yC01vME['https://\n",
            "^^^^^^^^^^^^^^^^^^^^^^^^^^^^^^^^^^^^^^^^^^^^^^^^^^^^^\n",
            "vvvvvvvvvvvvvvvvvvvvvvvvvvvvvvvvvvvvvvvvvvvvvvvvvvvvv\n",
            "Extreme #FLOODS and snow could be bringing #DROUGHT relief to CA  https://t.co/GQEpfXalTI #GPWX[]\n",
            "=====================================================\n",
            "Extreme #FLOODS and snow could be bringing #DROUGHT relief to CA  https://t.co/mlQqdshkl4[]\n",
            "^^^^^^^^^^^^^^^^^^^^^^^^^^^^^^^^^^^^^^^^^^^^^^^^^^^^^\n",
            "vvvvvvvvvvvvvvvvvvvvvvvvvvvvvvvvvvvvvvvvvvvvvvvvvvvvv\n",
            "Five days of #FLOODS in the South  https://t.co/Pu7T8JKwyh  #GlobalWarming #climatechange[]\n",
            "=====================================================\n",
            "Five days of #FLOODS in the South  https://t.co/QGm75qf5vj #GPWX #GlobalWarming #climatechange[]\n",
            "^^^^^^^^^^^^^^^^^^^^^^^^^^^^^^^^^^^^^^^^^^^^^^^^^^^^^\n",
            "vvvvvvvvvvvvvvvvvvvvvvvvvvvvvvvvvvvvvvvvvvvvvvvvvvvvv\n",
            "Flash #FLOODS and possible tornadoes tear through battered Texas  https://t.co/UzBhLZ3SdR #GPWX[]\n",
            "=====================================================\n",
            "Flash #FLOODS and possible tornadoes tear through battered Texas  https://t.co/iEoAZgTgTJ[]\n",
            "^^^^^^^^^^^^^^^^^^^^^^^^^^^^^^^^^^^^^^^^^^^^^^^^^^^^^\n",
            "vvvvvvvvvvvvvvvvvvvvvvvvvvvvvvvvvvvvvvvvvvvvvvvvvvvvv\n",
            "Flash #FLOODS tear across Arizona desert  https://t.co/BxFTR3FQyz #GPWX[]\n",
            "=====================================================\n",
            "Flash #FLOODS tear across Arizona desert  https://t.co/YlTHdW47mU[]\n",
            "^^^^^^^^^^^^^^^^^^^^^^^^^^^^^^^^^^^^^^^^^^^^^^^^^^^^^\n",
            "vvvvvvvvvvvvvvvvvvvvvvvvvvvvvvvvvvvvvvvvvvvvvvvvvvvvv\n",
            "Flood Advisory No. 2 FINAL for Pasig Marikina Tullahan River Basin, issued at 11:00 AM, 03 June 2021  https://t.co/jmIh3rdeRB\n",
            "=====================================================\n",
            "Flood Advisory No. 2 FINAL for Pasig Marikina Tullahan River Basin, issued at 11:00 AM, 03 June 2021  https://t.co/lGFhsi2ZFs\n",
            "^^^^^^^^^^^^^^^^^^^^^^^^^^^^^^^^^^^^^^^^^^^^^^^^^^^^^\n",
            "vvvvvvvvvvvvvvvvvvvvvvvvvvvvvvvvvvvvvvvvvvvvvvvvvvvvv\n",
            "Flood Advisory No. 3 FINAL for Pampanga River Basin, issued at 4:30 PM, 03 June 2021  https://t.co/DNsDX6mpTK\n",
            "=====================================================\n",
            "Flood Advisory No. 3 FINAL for Pampanga River Basin, issued at 4:30 PM, 03 June 2021  https://t.co/vZurmEc941\n",
            "^^^^^^^^^^^^^^^^^^^^^^^^^^^^^^^^^^^^^^^^^^^^^^^^^^^^^\n",
            "vvvvvvvvvvvvvvvvvvvvvvvvvvvvvvvvvvvvvvvvvvvvvvvvvvvvv\n",
            "Flood Watch issued June 03 at 8:50PM EDT by NWS Wilmington\n",
            "=====================================================\n",
            "Flood Watch issued June 03 at 8:50PM EDT until June 04 at 12:00PM EDT by NWS Wilmington\n",
            "^^^^^^^^^^^^^^^^^^^^^^^^^^^^^^^^^^^^^^^^^^^^^^^^^^^^^\n",
            "vvvvvvvvvvvvvvvvvvvvvvvvvvvvvvvvvvvvvvvvvvvvvvvvvvvvv\n",
            "Flood, landslide warnings issued amid heavy rains  https://t.co/0eGFRkTaBl\n",
            "=====================================================\n",
            "Flood, landslide warnings issued amid heavy rains ⛈🌧💦  #lka #SriLanka #SLweather #flood #landslides\n",
            "^^^^^^^^^^^^^^^^^^^^^^^^^^^^^^^^^^^^^^^^^^^^^^^^^^^^^\n",
            "vvvvvvvvvvvvvvvvvvvvvvvvvvvvvvvvvvvvvvvvvvvvvvvvvvvvv\n",
            "Following last year’s Hyderabad floods, Barrister @asadowaisi had represented to Archaeology Department, New Delhi for tunnel work in Shah Hatim Lake through Golkonda Fort. This tunnel would pave way for smooth passage of storm water from Shah Hatim Lake. (1/2)  https://t.co/d5CHQyG29T\n",
            "=====================================================\n",
            "Following last year’s Hyderabad floods, Barrister @asadowaisi had represented to Archaeology Department, New Delhi for tunnel work in Shah Hatim Lake through Golkonda Fort. This tunnel would pave way for smooth passage of storm water from Shah Hatim Lake. (1/2)  https://t.co/eDsu3r3YfG\n",
            "^^^^^^^^^^^^^^^^^^^^^^^^^^^^^^^^^^^^^^^^^^^^^^^^^^^^^\n",
            "vvvvvvvvvvvvvvvvvvvvvvvvvvvvvvvvvvvvvvvvvvvvvvvvvvvvv\n",
            "General Flood Advisories (GFAs) Issued as of 6:00 AM, 03 JUNE 2021 Region 4A (CALABARZON) - GFA#3 Region 4B (MIMAROPA) - GFA#3 Region 3 (Central Luzon) - GFA#2 Region 1 (Ilocos region) - GFA#1  https://t.co/P7VorDIL2k\n",
            "=====================================================\n",
            "General Flood Advisories (GFAs) Issued as of 6:00 AM, 03 JUNE 2021 Region 4A (CALABARZON) - GFA#3 Region 4B (MIMAROPA) - GFA#3 Region 3 (Central Luzon) - GFA#2 Region 1 (Ilocos region) - GFA#1  https://t.co/YqxXXUBYVv\n",
            "^^^^^^^^^^^^^^^^^^^^^^^^^^^^^^^^^^^^^^^^^^^^^^^^^^^^^\n",
            "vvvvvvvvvvvvvvvvvvvvvvvvvvvvvvvvvvvvvvvvvvvvvvvvvvvvv\n",
            "General Flood Advisories (GFAs) Issued as of 6:00 PM, 03 JUNE 2021 Region 4A (CALABARZON) - GFA#4(Final) Region 4B (MIMAROPA) - GFA#4 (Final) Region 3 (Central Luzon) - GFA#3(Final) Region 1 (Ilocos region) - GFA#2(Final)  https://t.co/EBWC95OQhr\n",
            "=====================================================\n",
            "General Flood Advisories (GFAs) Issued as of 6:00 PM, 03 JUNE 2021 Region 4A (CALABARZON) - GFA#4(Final) Region 4B (MIMAROPA) - GFA#4 (Final) Region 3 (Central Luzon) - GFA#3(Final) Region 1 (Ilocos region) - GFA#2(Final)  https://t.co/UTM5CtbQYT\n",
            "^^^^^^^^^^^^^^^^^^^^^^^^^^^^^^^^^^^^^^^^^^^^^^^^^^^^^\n",
            "vvvvvvvvvvvvvvvvvvvvvvvvvvvvvvvvvvvvvvvvvvvvvvvvvvvvv\n",
            "George P Bush says it's not his office's fault that Houston/Harris County failed to win a dime of $1 billion in flood protection it disbursed after hurricane Harvey. He blamed rules set by HUD. This is a lie.  https://t.co/L8GIWb61fD\n",
            "=====================================================\n",
            "George P Bush says it's not his office's fault that Houston/Harris County failed to win a dime of $1 billion in flood protection it disbursed after hurricane Harvey. He blamed rules set by HUD. This is a lie.  https://t.co/knYrkQvo12\n",
            "^^^^^^^^^^^^^^^^^^^^^^^^^^^^^^^^^^^^^^^^^^^^^^^^^^^^^\n",
            "vvvvvvvvvvvvvvvvvvvvvvvvvvvvvvvvvvvvvvvvvvvvvvvvvvvvv\n",
            "Heavy Rainfall and Flooding in Uspantan, Quiche, Guatemala  https://t.co/tesZGfpRYz  #floods #quiche #Guatemala #flooding #uspanatan #FloodingQuiche #flashflood #flood​​​ #rain​​​ #landslide​​​ #heavyrain  https://t.co/6KmbjvlXOg[]\n",
            "=====================================================\n",
            "Heavy Rainfall and Flooding in Uspantan, Quiche, Guatemala  https://t.co/tesZGfpRYz  #floods #quiche #Guatemala #flooding #uspanatan #FloodingQuiche #flashflood #flood​​​ #rain​​​ #landslide​​​ #heavyrain  https://t.co/eTJ4pXiq6g[]\n",
            "^^^^^^^^^^^^^^^^^^^^^^^^^^^^^^^^^^^^^^^^^^^^^^^^^^^^^\n",
            "vvvvvvvvvvvvvvvvvvvvvvvvvvvvvvvvvvvvvvvvvvvvvvvvvvvvv\n",
            "Heavy Rainfall, Floods, and Drought in Iran, Product of the Mullahs’ Regime #Iran #floods #Iranian  #رای_من_سرنگونی    https://t.co/bvVheOFEFh[]\n",
            "=====================================================\n",
            "Heavy Rainfall, Floods, and Drought in Iran, Product of the Mullahs’ Regime #Iran #floods #Iranian #environment  #رای_من_سرنگونی    https://t.co/bvVheOFEFh[]\n",
            "^^^^^^^^^^^^^^^^^^^^^^^^^^^^^^^^^^^^^^^^^^^^^^^^^^^^^\n",
            "vvvvvvvvvvvvvvvvvvvvvvvvvvvvvvvvvvvvvvvvvvvvvvvvvvvvv\n",
            "Heavy Rainfall, Floods, and Drought in Iran, Product of the Mullahs’ Regime #Iran #floods #Iranian #environment  #رای_من_سرنگونی    https://t.co/bvVheOFEFh[]\n",
            "=====================================================\n",
            "Heavy Rainfall, Floods, and Drought in Iran, Product of the Mullahs’ Regime #Iran #floods #environment  #رای_من_سرنگونی    https://t.co/bvVheOFEFh[]\n",
            "^^^^^^^^^^^^^^^^^^^^^^^^^^^^^^^^^^^^^^^^^^^^^^^^^^^^^\n",
            "vvvvvvvvvvvvvvvvvvvvvvvvvvvvvvvvvvvvvvvvvvvvvvvvvvvvv\n",
            "Heavy Rains Hit the City of Jazan in Saudi Arabia  https://t.co/XBJdnJEdji  #storm #ArabiaSaudita #jazan #disaster #floods #saudiarabia #flooding #jizan #jazanstorm #Makkah #naturaldisaster #rain  https://t.co/Gfu4nH2TX6[]\n",
            "=====================================================\n",
            "Heavy Rains Hit the City of Jazan in Saudi Arabia  https://t.co/XBJdnJEdji  #storm #ArabiaSaudita #jazan #disaster #floods #saudiarabia #flooding #jizan #jazanstorm #Makkah #naturaldisaster #rain  https://t.co/gWT8aibk1B[]\n",
            "^^^^^^^^^^^^^^^^^^^^^^^^^^^^^^^^^^^^^^^^^^^^^^^^^^^^^\n",
            "vvvvvvvvvvvvvvvvvvvvvvvvvvvvvvvvvvvvvvvvvvvvvvvvvvvvv\n",
            "Heavy Rains Hit the City of Jazan in Saudi Arabia  https://t.co/XBJdnJEdji  #storm #ArabiaSaudita #jazan #disaster #floods #saudiarabia #flooding #jizan #jazanstorm #Makkah #naturaldisaster #rain  https://t.co/gWT8aibk1B[]\n",
            "=====================================================\n",
            "Heavy Rains Hit the City of Jazan in Saudi Arabia  https://t.co/XBJdnJEdji  #storm #ArabiaSaudita #jazan #disaster #floods #saudiarabia #flooding #jizan #jazanstorm #Makkah #naturaldisaster #rain  https://t.co/gj0F1zF5jz[]\n",
            "^^^^^^^^^^^^^^^^^^^^^^^^^^^^^^^^^^^^^^^^^^^^^^^^^^^^^\n",
            "vvvvvvvvvvvvvvvvvvvvvvvvvvvvvvvvvvvvvvvvvvvvvvvvvvvvv\n",
            "Heavy Rains cause severe flooding in Chimoré, Bolivia  https://t.co/7mfgFKqiaH  #Chimore #Bolivia #flashflood #flood #rain #landslide #flooding #floods #Cochabamba #CochabambaBolivia #Floodschimore #tropico  https://t.co/X2WX2136nL[]\n",
            "=====================================================\n",
            "Heavy Rains cause severe flooding in Chimoré, Bolivia  https://t.co/7mfgFKqiaH  #Chimore #Bolivia #flashflood #flood #rain #landslide #flooding #floods #Cochabamba #CochabambaBolivia #Floodschimore #tropico  https://t.co/pUYRWXXrsH[]\n",
            "^^^^^^^^^^^^^^^^^^^^^^^^^^^^^^^^^^^^^^^^^^^^^^^^^^^^^\n",
            "vvvvvvvvvvvvvvvvvvvvvvvvvvvvvvvvvvvvvvvvvvvvvvvvvvvvv\n",
            "Heavy Rains turn the street of Beni Slimane into rivers in the Médéa Province, Algeria  https://t.co/Vyrm60yjji  #flooding #storm #floods #Argelia #benislimane #medea #floodedalgeria #suddenfloods #flashflood #naturaldisasters #rain #inundations  https://t.co/AOP1aAC4uz[]\n",
            "=====================================================\n",
            "Heavy Rains turn the street of Beni Slimane into rivers in the Médéa Province, Algeria  https://t.co/Vyrm60yjji  #flooding #storm #floods #Argelia #benislimane #medea #floodedalgeria #suddenfloods #flashflood #naturaldisasters #rain #inundations  https://t.co/pVmMC1GgtY[]\n",
            "^^^^^^^^^^^^^^^^^^^^^^^^^^^^^^^^^^^^^^^^^^^^^^^^^^^^^\n",
            "vvvvvvvvvvvvvvvvvvvvvvvvvvvvvvvvvvvvvvvvvvvvvvvvvvvvv\n",
            "Heavy Rains turn the street of Beni Slimane into rivers in the Médéa Province, Algeria  https://t.co/Vyrm60yjji  #flooding #storm #floods #Argelia #benislimane #medea #floodedalgeria #suddenfloods #flashflood #naturaldisasters #rain #inundations  https://t.co/pVmMC1GgtY[]\n",
            "=====================================================\n",
            "Heavy Rains turn the street of Beni Slimane into rivers in the Médéa Province, Algeria  https://t.co/Vyrm60yjji  #flooding #storm #floods #Argelia #benislimane #medea #floodedalgeria #suddenfloods #flashflood #naturaldisasters #rain #inundations  https://t.co/wwEUmKJCHN[]\n",
            "^^^^^^^^^^^^^^^^^^^^^^^^^^^^^^^^^^^^^^^^^^^^^^^^^^^^^\n",
            "vvvvvvvvvvvvvvvvvvvvvvvvvvvvvvvvvvvvvvvvvvvvvvvvvvvvv\n",
            "Heavy rains and flash floods were recorded in Bambous Virieux, Mauritius  https://t.co/fui4RMLdyK  #flashflood #virieux #mauritiusisland #mauritius #floods #bambous #flooding #disaster #storm #rains  https://t.co/0km5X6SwZn[]\n",
            "=====================================================\n",
            "Heavy rains and flash floods were recorded in Bambous Virieux, Mauritius  https://t.co/fui4RMLdyK  #flashflood #virieux #mauritiusisland #mauritius #floods #bambous #flooding #disaster #storm #rains  https://t.co/w9uAFEyTHX[]\n",
            "^^^^^^^^^^^^^^^^^^^^^^^^^^^^^^^^^^^^^^^^^^^^^^^^^^^^^\n",
            "vvvvvvvvvvvvvvvvvvvvvvvvvvvvvvvvvvvvvvvvvvvvvvvvvvvvv\n",
            "Heavy rains cause flooding in Metepec, Toluca Mexico  https://t.co/ouXf0mzYPT  #Mexico #Metepec #hailstorm #floods #toluca #disaster #flooding #rains #floodstoluca  https://t.co/4JUoulduXN[]\n",
            "=====================================================\n",
            "Heavy rains cause flooding in Metepec, Toluca Mexico  https://t.co/ouXf0mzYPT  #Mexico #Metepec #hailstorm #floods #toluca #disaster #flooding #rains #floodstoluca  https://t.co/lBfvGgRkpC[]\n",
            "^^^^^^^^^^^^^^^^^^^^^^^^^^^^^^^^^^^^^^^^^^^^^^^^^^^^^\n",
            "vvvvvvvvvvvvvvvvvvvvvvvvvvvvvvvvvvvvvvvvvvvvvvvvvvvvv\n",
            "Heavy rains cause floods and Landslides in Tarim, Yemen  https://t.co/Z5tyW2otoU  #Yemen #floods #naturaldisaster #tarim #floodsyemen #storm #rain #flooding #disaster #landslides  https://t.co/hfNuwrSPpZ[]\n",
            "=====================================================\n",
            "Heavy rains cause floods and Landslides in Tarim, Yemen  https://t.co/Z5tyW2otoU  #Yemen #floods #naturaldisaster #tarim #floodsyemen #storm #rain #flooding #disaster #landslides  https://t.co/lz2BlDqHwc[]\n",
            "^^^^^^^^^^^^^^^^^^^^^^^^^^^^^^^^^^^^^^^^^^^^^^^^^^^^^\n",
            "vvvvvvvvvvvvvvvvvvvvvvvvvvvvvvvvvvvvvvvvvvvvvvvvvvvvv\n",
            "Heavy rains cause severe flooding in Caracas, Venezuela  https://t.co/Tfpqx4cQLI  #caracas #floods #rains #Venezuela #naturaldisaster #flooding #storm #rain #inundaciones #caracasvenezuela #floodcaracas  https://t.co/2bKCIqVYHr[]\n",
            "=====================================================\n",
            "Heavy rains cause severe flooding in Caracas, Venezuela  https://t.co/Tfpqx4cQLI  #caracas #floods #rains #Venezuela #naturaldisaster #flooding #storm #rain #inundaciones #caracasvenezuela #floodcaracas  https://t.co/cbrXrWU7jJ[]\n",
            "^^^^^^^^^^^^^^^^^^^^^^^^^^^^^^^^^^^^^^^^^^^^^^^^^^^^^\n",
            "vvvvvvvvvvvvvvvvvvvvvvvvvvvvvvvvvvvvvvvvvvvvvvvvvvvvv\n",
            "Heavy rains cause severe flooding in Medellin Colombia  https://t.co/aKt2lk2JNO  #medellin #floods #colombia #suddenfloods #inundations #medellincolombia #flooding #storm #flooded #antoquia #medellinantioquia  https://t.co/RynwefCIrw[]\n",
            "=====================================================\n",
            "Heavy rains cause severe flooding in Medellin Colombia  https://t.co/aKt2lk2JNO  #medellin #floods #colombia #suddenfloods #inundations #medellincolombia #flooding #storm #flooded #antoquia #medellinantioquia  https://t.co/prb1NUIePx[]\n",
            "^^^^^^^^^^^^^^^^^^^^^^^^^^^^^^^^^^^^^^^^^^^^^^^^^^^^^\n",
            "vvvvvvvvvvvvvvvvvvvvvvvvvvvvvvvvvvvvvvvvvvvvvvvvvvvvv\n",
            "Heavy rains caused severe flooding in southern Mauritius  https://t.co/x9b5LbTx3z  #Mauritius #floods #flooding #mauritiusisland #flashflood #flood #rain #portlouis #inondations  https://t.co/IbfG4kevi4[]\n",
            "=====================================================\n",
            "Heavy rains caused severe flooding in southern Mauritius  https://t.co/x9b5LbTx3z  #Mauritius #floods #flooding #mauritiusisland #flashflood #flood #rain #portlouis #inondations  https://t.co/byfcLFRskX[]\n",
            "^^^^^^^^^^^^^^^^^^^^^^^^^^^^^^^^^^^^^^^^^^^^^^^^^^^^^\n",
            "vvvvvvvvvvvvvvvvvvvvvvvvvvvvvvvvvvvvvvvvvvvvvvvvvvvvv\n",
            "Heavy rains have flooded the streets of Bejaia, Algeria  https://t.co/0hAQTN9wfn  #algeria #floods #rains #weathee #flooding #bejaia #بجاية #algeriafloods  https://t.co/A9UZ07cSzP[]\n",
            "=====================================================\n",
            "Heavy rains have flooded the streets of Bejaia, Algeria  https://t.co/0hAQTN9wfn  #algeria #floods #rains #weathee #flooding #bejaia #بجاية #algeriafloods  https://t.co/dFVh8STsaS[]\n",
            "^^^^^^^^^^^^^^^^^^^^^^^^^^^^^^^^^^^^^^^^^^^^^^^^^^^^^\n",
            "vvvvvvvvvvvvvvvvvvvvvvvvvvvvvvvvvvvvvvvvvvvvvvvvvvvvv\n",
            "Heavy rains turn the streets of Saudi Arabia into rivers  https://t.co/GW1qpXByGl  #saudi #floods #بني_عمرو #flood #flashflood #rain #landslide #flooding #altaif #makhah #ArabiaSaudita  https://t.co/Ayf8JVNA2S[]\n",
            "=====================================================\n",
            "Heavy rains turn the streets of Saudi Arabia into rivers  https://t.co/GW1qpXByGl  #saudi #floods #بني_عمرو #flood #flashflood #rain #landslide #flooding #altaif #makhah #ArabiaSaudita  https://t.co/KdAUDgKFau[]\n",
            "^^^^^^^^^^^^^^^^^^^^^^^^^^^^^^^^^^^^^^^^^^^^^^^^^^^^^\n",
            "vvvvvvvvvvvvvvvvvvvvvvvvvvvvvvvvvvvvvvvvvvvvvvvvvvvvv\n",
            "Heavy rains turn the streets of Saudi Arabia into rivers  https://t.co/GW1qpXByGl  #saudi #floods #بني_عمرو #flood #flashflood #rain #landslide #flooding #altaif #makhah #ArabiaSaudita  https://t.co/KdAUDgKFau[]\n",
            "=====================================================\n",
            "Heavy rains turn the streets of Saudi Arabia into rivers  https://t.co/GW1qpXByGl  #saudi #floods #بني_عمرو #flood #flashflood #rain #landslide #flooding #altaif #makhah #ArabiaSaudita  https://t.co/UMXdFJQef6[]\n",
            "^^^^^^^^^^^^^^^^^^^^^^^^^^^^^^^^^^^^^^^^^^^^^^^^^^^^^\n",
            "vvvvvvvvvvvvvvvvvvvvvvvvvvvvvvvvvvvvvvvvvvvvvvvvvvvvv\n",
            "High winds, #FLOODS and mudslides strike California  https://t.co/kg32Mr6ifU[]\n",
            "=====================================================\n",
            "High winds, #FLOODS and mudslides strike California  https://t.co/t6iuR6exI6 #GPWX[]\n",
            "^^^^^^^^^^^^^^^^^^^^^^^^^^^^^^^^^^^^^^^^^^^^^^^^^^^^^\n",
            "vvvvvvvvvvvvvvvvvvvvvvvvvvvvvvvvvvvvvvvvvvvvvvvvvvvvv\n",
            "Historic #FLOODS slam the deep South  https://t.co/QMxSquYeog #GPWX[]\n",
            "=====================================================\n",
            "Historic #FLOODS slam the deep South  https://t.co/vmE4vh275z[]\n",
            "^^^^^^^^^^^^^^^^^^^^^^^^^^^^^^^^^^^^^^^^^^^^^^^^^^^^^\n",
            "vvvvvvvvvvvvvvvvvvvvvvvvvvvvvvvvvvvvvvvvvvvvvvvvvvvvv\n",
            "Historic #FLOODS threaten North Carolina  https://t.co/6qo76eK4qC[]\n",
            "=====================================================\n",
            "Historic #FLOODS threaten North Carolina  https://t.co/ZPjYvH4BW6 #GPWX[]\n",
            "^^^^^^^^^^^^^^^^^^^^^^^^^^^^^^^^^^^^^^^^^^^^^^^^^^^^^\n",
            "vvvvvvvvvvvvvvvvvvvvvvvvvvvvvvvvvvvvvvvvvvvvvvvvvvvvv\n",
            "IDM camp located at Ingyinyan tonwship, Kachin state has been facing with drinking water shortage as heavy rain led a flood there. Access to safe water resources has become one important factor in every IDM. #June4Coup  #WhatsHappeningInMyanmar  https://t.co/NeNXfTRVk3\n",
            "=====================================================\n",
            "IDM camp located at Ingyinyan tonwship, Kachin state has been facing with drinking water shortage as heavy rain led a flood there. Access to safe water resources has become one important factor in every IDM. #June4Coup  #WhatsHappeningInMyanmar  https://t.co/ujY4y7ebJG\n",
            "^^^^^^^^^^^^^^^^^^^^^^^^^^^^^^^^^^^^^^^^^^^^^^^^^^^^^\n",
            "vvvvvvvvvvvvvvvvvvvvvvvvvvvvvvvvvvvvvvvvvvvvvvvvvvvvv\n",
            "ILM expires Coastal Flood Advisory for Inland New Hanover [NC]  https://t.co/a8NNpZaxDW  https://t.co/KJ7ZfbbPau\n",
            "=====================================================\n",
            "ILM expires Coastal Flood Advisory for Inland New Hanover [NC]  https://t.co/mNjGehmPSp  https://t.co/7zWf0LY9BA\n",
            "^^^^^^^^^^^^^^^^^^^^^^^^^^^^^^^^^^^^^^^^^^^^^^^^^^^^^\n",
            "vvvvvvvvvvvvvvvvvvvvvvvvvvvvvvvvvvvvvvvvvvvvvvvvvvvvv\n",
            "Illustrative image (Photo: VNA)\n",
            "\n",
            "- Provinces and cities in the northeast and north central regions are set to see heavy rain of up to 40-120mm on April 26, said the National Centre for Hydro-Meteorological Forecasting.The regions may experience showers and thunderstorms over the next few days, bring\n",
            "=====================================================\n",
            "Illustrative image (Photo: VNA)\n",
            "\n",
            "- Provinces and cities in the northeast and north central regions are set to see heavy rain of up to 40-120mm on April 26, said the National Centre for Hydro-Meteorological Forecasting.The regions may experience showers and thunderstorms over the next few days, bring\n",
            "^^^^^^^^^^^^^^^^^^^^^^^^^^^^^^^^^^^^^^^^^^^^^^^^^^^^^\n",
            "vvvvvvvvvvvvvvvvvvvvvvvvvvvvvvvvvvvvvvvvvvvvvvvvvvvvv\n",
            "Is PSEB 12th Exam Cancelled? Not Yet; Students Flood Vijay Inder Singla, Capt Amrinder Singh Twitter With Requests  https://t.co/f0pSiiI9Pe\n",
            "=====================================================\n",
            "Is PSEB 12th Exam Cancelled? Not Yet; Students Flood Vijay Inder Singla, Capt Amrinder Singh Twitter With Requests  https://t.co/aIfQYDSd59\n",
            "^^^^^^^^^^^^^^^^^^^^^^^^^^^^^^^^^^^^^^^^^^^^^^^^^^^^^\n",
            "vvvvvvvvvvvvvvvvvvvvvvvvvvvvvvvvvvvvvvvvvvvvvvvvvvvvv\n",
            "It's less than half the homes it was previously thought #Cumbria #floods   https://t.co/4qtxkhJUyq[]\n",
            "=====================================================\n",
            "It's less than half the homes it was previously thought #Cumbria #floods   https://t.co/uyPFPSzZaU[]\n",
            "^^^^^^^^^^^^^^^^^^^^^^^^^^^^^^^^^^^^^^^^^^^^^^^^^^^^^\n",
            "vvvvvvvvvvvvvvvvvvvvvvvvvvvvvvvvvvvvvvvvvvvvvvvvvvvvv\n",
            "Just one week into this year's monsoon and fierce wrath of nature has taken its toll. \n",
            "\n",
            "Areas of Helambu & Melamchi in central Nepal's Sindhupalchok District has been inundated by flash floods and multiple landslides. \n",
            "\n",
            "Thousands of families have been displaced, search for the missing continues,\n",
            " an\n",
            "=====================================================\n",
            "Just one week into this year's monsoon and fierce wrath of nature has taken its toll. \n",
            "\n",
            "Areas of Helambu & Melamchi in central Nepal's Sindhupalchok District has been inundated by flash floods and multiple landslides. \n",
            "\n",
            "Thousands of families have been displaced, search for the missing continues,\n",
            " an\n",
            "^^^^^^^^^^^^^^^^^^^^^^^^^^^^^^^^^^^^^^^^^^^^^^^^^^^^^\n",
            "vvvvvvvvvvvvvvvvvvvvvvvvvvvvvvvvvvvvvvvvvvvvvvvvvvvvv\n",
            "Karyakartas of ABVP in Lakhimpur district, Assam went to the flood affected areas under Jamuguri panchayat, Bonpuroi village at the bank of Bhramaputra river and helped the local residents in repairing embankment.   #ABVPForSociety  https://t.co/nqtmqQUFbO\n",
            "=====================================================\n",
            "Karyakartas of ABVP in Lakhimpur district, Assam went to the flood affected areas under Jamuguri panchayat, Bonpuroi village at the bank of Bhramaputra river and helped the local residents in repairing embankment.  @ABVPVoice #ABVPForSociety  https://t.co/Md9mUtkKiG\n",
            "^^^^^^^^^^^^^^^^^^^^^^^^^^^^^^^^^^^^^^^^^^^^^^^^^^^^^\n",
            "vvvvvvvvvvvvvvvvvvvvvvvvvvvvvvvvvvvvvvvvvvvvvvvvvvvvv\n",
            "LOT extends time of Flood Advisory for Illinois River at La Salle [IL] till May 13, 1:00 AM CDT https://t.co/81o30jm8xe https://t.co/5OfJ44khUk\n",
            "=====================================================\n",
            "LOT extends time of Flood Advisory for Illinois River at La Salle [IL] till May 13, 1:00 AM CDT https://t.co/81o30jm8xe https://t.co/ULR7u0og6Q\n",
            "^^^^^^^^^^^^^^^^^^^^^^^^^^^^^^^^^^^^^^^^^^^^^^^^^^^^^\n",
            "vvvvvvvvvvvvvvvvvvvvvvvvvvvvvvvvvvvvvvvvvvvvvvvvvvvvv\n",
            "Lao authorities create a task force to monitor posts and comments by social media users in the country. Read more…  https://t.co/EFrPnWKZI8 #Loas #communist #flood\n",
            "=====================================================\n",
            "Lao authorities create a task force to monitor posts and comments by social media users in the country. Read more…  https://t.co/phRxq3TOE5 #Loas #flood  #communist\n",
            "^^^^^^^^^^^^^^^^^^^^^^^^^^^^^^^^^^^^^^^^^^^^^^^^^^^^^\n",
            "vvvvvvvvvvvvvvvvvvvvvvvvvvvvvvvvvvvvvvvvvvvvvvvvvvvvv\n",
            "Louisiana begins cleanup after #FLOODS destroy tens of thousands of homes  https://t.co/bQVAPGk29f #GPWX[]\n",
            "=====================================================\n",
            "Louisiana begins cleanup after #FLOODS destroy tens of thousands of homes  https://t.co/wf1sl7lXg8[]\n",
            "^^^^^^^^^^^^^^^^^^^^^^^^^^^^^^^^^^^^^^^^^^^^^^^^^^^^^\n",
            "vvvvvvvvvvvvvvvvvvvvvvvvvvvvvvvvvvvvvvvvvvvvvvvvvvvvv\n",
            "Louisiana begins long recovery from deadly #FLOODS  https://t.co/2RXRYh558G[]\n",
            "=====================================================\n",
            "Louisiana begins long recovery from deadly #FLOODS  https://t.co/XdJ9yl2PGi #GPWX[]\n",
            "^^^^^^^^^^^^^^^^^^^^^^^^^^^^^^^^^^^^^^^^^^^^^^^^^^^^^\n",
            "vvvvvvvvvvvvvvvvvvvvvvvvvvvvvvvvvvvvvvvvvvvvvvvvvvvvv\n",
            "Louisiana begins recovery after historic #FLOODS  https://t.co/IBu1lKPmD9[]\n",
            "=====================================================\n",
            "Louisiana begins recovery after historic #FLOODS  https://t.co/vAYJLcGOFZ #GPWX[]\n",
            "^^^^^^^^^^^^^^^^^^^^^^^^^^^^^^^^^^^^^^^^^^^^^^^^^^^^^\n",
            "vvvvvvvvvvvvvvvvvvvvvvvvvvvvvvvvvvvvvvvvvvvvvvvvvvvvv\n",
            "Louisiana flash #FLOODS prompt state of emergency  https://t.co/Ow7kKTzloz[]\n",
            "=====================================================\n",
            "Louisiana flash #FLOODS prompt state of emergency  https://t.co/P0nwNXoOpy #GPWX[]\n",
            "^^^^^^^^^^^^^^^^^^^^^^^^^^^^^^^^^^^^^^^^^^^^^^^^^^^^^\n",
            "vvvvvvvvvvvvvvvvvvvvvvvvvvvvvvvvvvvvvvvvvvvvvvvvvvvvv\n",
            "Luu Thi Phuong in Quang Nam province's Que Thuan commune (left) and UNDP Resident Representative in Vietnam Caitlin Wiesen stand inside the house she received last week. (Photo courtesy of UNDP)\n",
            "\n",
            "The skinny woman trembled, seemingly unable to stand still because of her happiness to receive a house t\n",
            "=====================================================\n",
            "Luu Thi Phuong in Quang Nam province's Que Thuan commune (left) and UNDP Resident Representative in Vietnam Caitlin Wiesen stand inside the house she received last week. (Photo courtesy of UNDP)\n",
            "\n",
            "The skinny woman trembled, seemingly unable to stand still because of her happiness to receive a house t\n",
            "^^^^^^^^^^^^^^^^^^^^^^^^^^^^^^^^^^^^^^^^^^^^^^^^^^^^^\n",
            "vvvvvvvvvvvvvvvvvvvvvvvvvvvvvvvvvvvvvvvvvvvvvvvvvvvvv\n",
            "Massive cleanup underway after historic Louisiana #FLOODS  https://t.co/QpfkozZhLN #GPWX[]\n",
            "=====================================================\n",
            "Massive cleanup underway after historic Louisiana #FLOODS  https://t.co/lyCkYLFZgE[]\n",
            "^^^^^^^^^^^^^^^^^^^^^^^^^^^^^^^^^^^^^^^^^^^^^^^^^^^^^\n",
            "vvvvvvvvvvvvvvvvvvvvvvvvvvvvvvvvvvvvvvvvvvvvvvvvvvvvv\n",
            "Meet author Karen Tyrrell and the fifth exciting Song Bird Superhero adventure: Drought Rescue – #readilearn  https://t.co/EJt8K6Zwhl[]\n",
            "=====================================================\n",
            "Meet author Karen Tyrrell and the fifth exciting Song Bird Superhero adventure: Drought Rescue  https://t.co/XYgVJeqMMl[]\n",
            "^^^^^^^^^^^^^^^^^^^^^^^^^^^^^^^^^^^^^^^^^^^^^^^^^^^^^\n",
            "vvvvvvvvvvvvvvvvvvvvvvvvvvvvvvvvvvvvvvvvvvvvvvvvvvvvv\n",
            "Midwest prepares for more damage from historic #FLOODS  https://t.co/hty5B3NDqw[]\n",
            "=====================================================\n",
            "Midwest prepares for more damage from historic #FLOODS  https://t.co/yPk6KLPhgJ #GPWX[]\n",
            "^^^^^^^^^^^^^^^^^^^^^^^^^^^^^^^^^^^^^^^^^^^^^^^^^^^^^\n",
            "vvvvvvvvvvvvvvvvvvvvvvvvvvvvvvvvvvvvvvvvvvvvvvvvvvvvv\n",
            "Millions face rising threat as Midwest #FLOODS move south  https://t.co/MXYbpflKHE[]\n",
            "=====================================================\n",
            "Millions face rising threat as Midwest #FLOODS move south  https://t.co/cYoYR2rv4v #GPWX[]\n",
            "^^^^^^^^^^^^^^^^^^^^^^^^^^^^^^^^^^^^^^^^^^^^^^^^^^^^^\n",
            "vvvvvvvvvvvvvvvvvvvvvvvvvvvvvvvvvvvvvvvvvvvvvvvvvvvvv\n",
            "Mom shares warning after son electrocuted in Harveys #FLOODS  https://t.co/MMCbziIIvo[]\n",
            "=====================================================\n",
            "Mom shares warning after son electrocuted in Harveys #FLOODS  https://t.co/NnUuUYEEyW #GPWX[]\n",
            "^^^^^^^^^^^^^^^^^^^^^^^^^^^^^^^^^^^^^^^^^^^^^^^^^^^^^\n",
            "vvvvvvvvvvvvvvvvvvvvvvvvvvvvvvvvvvvvvvvvvvvvvvvvvvvvv\n",
            "N.C. #FLOODS cause voting challenges  https://t.co/sRPxzDBDF9 #GPWX[]\n",
            "=====================================================\n",
            "N.C. #FLOODS cause voting challenges  https://t.co/w0s83tFicC[]\n",
            "^^^^^^^^^^^^^^^^^^^^^^^^^^^^^^^^^^^^^^^^^^^^^^^^^^^^^\n",
            "vvvvvvvvvvvvvvvvvvvvvvvvvvvvvvvvvvvvvvvvvvvvvvvvvvvvv\n",
            "Nepal: Flash floods wreak havoc in Sindhupalchok. As per officials, about 200 houses in Melamchi town have been partially or completely damaged. \n",
            "\n",
            "(Video: ANI)\n",
            "\n",
            "#Nepal #Sindhupalchok ##flashflood #flood\n",
            "=====================================================\n",
            "Nepal: Flash floods wreak havoc in Sindhupalchok. As per officials, about 200 houses in Melamchi town have been partially or completely damaged. \n",
            "\n",
            "(Video: ANI)\n",
            ". \n",
            ". \n",
            "#Nepal #Sindhupalchok ##flashflood #flood #RisingIndore\n",
            "^^^^^^^^^^^^^^^^^^^^^^^^^^^^^^^^^^^^^^^^^^^^^^^^^^^^^\n",
            "vvvvvvvvvvvvvvvvvvvvvvvvvvvvvvvvvvvvvvvvvvvvvvvvvvvvv\n",
            "North Carolina #FLOODS continue to strand communities  https://t.co/1KvjCVnQcX #GPWX[]\n",
            "=====================================================\n",
            "North Carolina #FLOODS continue to strand communities  https://t.co/oeJJUf8hDo[]\n",
            "^^^^^^^^^^^^^^^^^^^^^^^^^^^^^^^^^^^^^^^^^^^^^^^^^^^^^\n",
            "vvvvvvvvvvvvvvvvvvvvvvvvvvvvvvvvvvvvvvvvvvvvvvvvvvvvv\n",
            "Obama criticized for Louisiana #FLOODS response  https://t.co/MAjLGHtann[]\n",
            "=====================================================\n",
            "Obama criticized for Louisiana #FLOODS response  https://t.co/OzbUNkRtQh #GPWX[]\n",
            "^^^^^^^^^^^^^^^^^^^^^^^^^^^^^^^^^^^^^^^^^^^^^^^^^^^^^\n",
            "vvvvvvvvvvvvvvvvvvvvvvvvvvvvvvvvvvvvvvvvvvvvvvvvvvvvv\n",
            "Over 55 photos were entered in the #kingtide #photocontest! Vote now on the finalists that best show the vulnerability or resilience of people, places, and things impacted by #flooding in #NJ. Vote at https://forms.gle/x23ZCxKATrTYy2nU7\n",
            "For more info go to mycoast.org/nj \n",
            "Photos: MyCoast users Ryan \n",
            "=====================================================\n",
            "Over 55 photos were entered in the #kingtide #photocontest! Vote now on the finalists that best show the vulnerability or resilience of people, places, and things impacted by #flooding in #NJ. Vote at the link in our bio or mycoast.org/nj \n",
            "\n",
            "Photos: MyCoast users Ryan McGowan (L) & K Wyatt (R)\n",
            "\n",
            "njcoa\n",
            "^^^^^^^^^^^^^^^^^^^^^^^^^^^^^^^^^^^^^^^^^^^^^^^^^^^^^\n",
            "vvvvvvvvvvvvvvvvvvvvvvvvvvvvvvvvvvvvvvvvvvvvvvvvvvvvv\n",
            "Preparations to be done at the gross level to be equipped to face floods – Part 3  Read more :   https://t.co/2CtdwmSTM8  #Monsoon2021 #thursdayvibes  https://t.co/N36OF4UQMa\n",
            "=====================================================\n",
            "Preparations to be done at the gross level to be equipped to face floods – Part 3  Read more :   https://t.co/LBa72keweH  #Monsoon2021 #thursdayvibes  #thursdaymorning  https://t.co/7RSAR6MKZe\n",
            "^^^^^^^^^^^^^^^^^^^^^^^^^^^^^^^^^^^^^^^^^^^^^^^^^^^^^\n",
            "vvvvvvvvvvvvvvvvvvvvvvvvvvvvvvvvvvvvvvvvvvvvvvvvvvvvv\n",
            "Record #RAINFALL #FLOODS South Carolina  https://t.co/7GvxCkLg6r[]\n",
            "=====================================================\n",
            "Record #RAINFALL #FLOODS South Carolina  https://t.co/OAxh0FGUJy #GPWX[]\n",
            "^^^^^^^^^^^^^^^^^^^^^^^^^^^^^^^^^^^^^^^^^^^^^^^^^^^^^\n",
            "vvvvvvvvvvvvvvvvvvvvvvvvvvvvvvvvvvvvvvvvvvvvvvvvvvvvv\n",
            "Resources we hope you won't need this spring and summer but just in case:  Flooding and #drought:  https://t.co/0mYOOMZfQD  #Wildfires:  https://t.co/oOB5NUFvu0  #floods[]\n",
            "=====================================================\n",
            "Resources we hope you won't need this spring and summer but just in case:  Flooding and #drought:  https://t.co/4q99FkZdSm  #Wildfires:  https://t.co/O4yyHp5KRy  #floods[]\n",
            "^^^^^^^^^^^^^^^^^^^^^^^^^^^^^^^^^^^^^^^^^^^^^^^^^^^^^\n",
            "vvvvvvvvvvvvvvvvvvvvvvvvvvvvvvvvvvvvvvvvvvvvvvvvvvvvv\n",
            "Resources we hope you won't need this spring and summer but just in case:  Flooding and #drought:  https://t.co/4q99FkZdSm  #Wildfires:  https://t.co/O4yyHp5KRy  #floods[]\n",
            "=====================================================\n",
            "Resources we hope you won't need this spring and summer but just in case:  Flooding and #drought:  https://t.co/cHF97UitqI  #Wildfires:  https://t.co/qkITDt6Ucs  #floods[]\n",
            "^^^^^^^^^^^^^^^^^^^^^^^^^^^^^^^^^^^^^^^^^^^^^^^^^^^^^\n",
            "vvvvvvvvvvvvvvvvvvvvvvvvvvvvvvvvvvvvvvvvvvvvvvvvvvvvv\n",
            "Review: Song Bird Drought Rescue  https://t.co/P2PdoPB6cg[]\n",
            "=====================================================\n",
            "Review: Song Bird Drought Rescue  https://t.co/wpuH5Tc0Ky[]\n",
            "^^^^^^^^^^^^^^^^^^^^^^^^^^^^^^^^^^^^^^^^^^^^^^^^^^^^^\n",
            "vvvvvvvvvvvvvvvvvvvvvvvvvvvvvvvvvvvvvvvvvvvvvvvvvvvvv\n",
            "Romney cancer treatment; Trump Tower fire; Calif. #FLOODS  https://t.co/1dtBux13L4[]\n",
            "=====================================================\n",
            "Romney cancer treatment; Trump Tower fire; Calif. #FLOODS  https://t.co/v5foW9y2jK #GPWX[]\n",
            "^^^^^^^^^^^^^^^^^^^^^^^^^^^^^^^^^^^^^^^^^^^^^^^^^^^^^\n",
            "vvvvvvvvvvvvvvvvvvvvvvvvvvvvvvvvvvvvvvvvvvvvvvvvvvvvv\n",
            "SE Louisiana still under water after weekend #FLOODS  https://t.co/ReKaWmtQGC #GPWX[]\n",
            "=====================================================\n",
            "SE Louisiana still under water after weekend #FLOODS  https://t.co/jrkTGHeqVc[]\n",
            "^^^^^^^^^^^^^^^^^^^^^^^^^^^^^^^^^^^^^^^^^^^^^^^^^^^^^\n",
            "vvvvvvvvvvvvvvvvvvvvvvvvvvvvvvvvvvvvvvvvvvvvvvvvvvvvv\n",
            "SERVPRO has the equipment to dry out your home from water damage. If your property experiences flooding:\n",
            "▪️Turn off the electricity (only if you can do so without stepping into water).\n",
            "▪️Evacuate the premises.\n",
            "▪️Contact your insurer.\n",
            "\n",
            "#SERVPRO #SERVPROOviedo #OviedoFlorida #OviedoFL #Oviedo # #Flori\n",
            "=====================================================\n",
            "SERVPRO has the equipment to dry out your home from water damage. If your property experiences flooding:\n",
            "▪️Turn off the electricity (only if you can do so without stepping into water).\n",
            "▪️Evacuate the premises.\n",
            "▪️Contact your insurer.\n",
            "\n",
            "#SERVPRO #SERVPROSouthOrlando #SouthOrlando #OrlandoFL #OrlandoFl\n",
            "^^^^^^^^^^^^^^^^^^^^^^^^^^^^^^^^^^^^^^^^^^^^^^^^^^^^^\n",
            "vvvvvvvvvvvvvvvvvvvvvvvvvvvvvvvvvvvvvvvvvvvvvvvvvvvvv\n",
            "Search continues after major #FLOODS in Utah  https://t.co/OZQVQQbziF[]\n",
            "=====================================================\n",
            "Search continues after major #FLOODS in Utah  https://t.co/mDPQbyiDIO #GPWX[]\n",
            "^^^^^^^^^^^^^^^^^^^^^^^^^^^^^^^^^^^^^^^^^^^^^^^^^^^^^\n",
            "vvvvvvvvvvvvvvvvvvvvvvvvvvvvvvvvvvvvvvvvvvvvvvvvvvvvv\n",
            "Several killed in Texas #FLOODS as rescues continue  https://t.co/EgugqsRFPy[]\n",
            "=====================================================\n",
            "Several killed in Texas #FLOODS as rescues continue  https://t.co/bTymlD8R7m #GPWX[]\n",
            "^^^^^^^^^^^^^^^^^^^^^^^^^^^^^^^^^^^^^^^^^^^^^^^^^^^^^\n",
            "vvvvvvvvvvvvvvvvvvvvvvvvvvvvvvvvvvvvvvvvvvvvvvvvvvvvv\n",
            "Severe Flooding in Struisbaai, South Africa Due to heavy rains  https://t.co/XuttwkSAaE  #Africa #southafrica #struisbaai #stillbay #floods #suddenfloods #inundations #storm #capeagulhas #flooded #SuidAfrika #stilbaai  https://t.co/Wf3X695AaC[]\n",
            "=====================================================\n",
            "Severe Flooding in Struisbaai, South Africa Due to heavy rains  https://t.co/XuttwkSAaE  #Africa #southafrica #struisbaai #stillbay #floods #suddenfloods #inundations #storm #capeagulhas #flooded #SuidAfrika #stilbaai  https://t.co/iTeeF2GXgz[]\n",
            "^^^^^^^^^^^^^^^^^^^^^^^^^^^^^^^^^^^^^^^^^^^^^^^^^^^^^\n",
            "vvvvvvvvvvvvvvvvvvvvvvvvvvvvvvvvvvvvvvvvvvvvvvvvvvvvv\n",
            "Severe storm that hit Jakarta capital of Indonesia  https://t.co/XGllMd4EDC  #jakarta #indonesia #storm #floods #flooding #jawa #rain #banjir #banjirbandang #banjir2021 #NTT #weather  https://t.co/GlWGpD5SKY[]\n",
            "=====================================================\n",
            "Severe storm that hit Jakarta capital of Indonesia  https://t.co/XGllMd4EDC  #jakarta #indonesia #storm #floods #flooding #jawa #rain #banjir #banjirbandang #banjir2021 #NTT #weather  https://t.co/mzEiQl34SO[]\n",
            "^^^^^^^^^^^^^^^^^^^^^^^^^^^^^^^^^^^^^^^^^^^^^^^^^^^^^\n",
            "vvvvvvvvvvvvvvvvvvvvvvvvvvvvvvvvvvvvvvvvvvvvvvvvvvvvv\n",
            "South Carolina recovering from historic #FLOODS  https://t.co/2S0WSHhV2G[]\n",
            "=====================================================\n",
            "South Carolina recovering from historic #FLOODS  https://t.co/QwC31Q9BJk #GPWX[]\n",
            "^^^^^^^^^^^^^^^^^^^^^^^^^^^^^^^^^^^^^^^^^^^^^^^^^^^^^\n",
            "vvvvvvvvvvvvvvvvvvvvvvvvvvvvvvvvvvvvvvvvvvvvvvvvvvvvv\n",
            "Southern states recover from deadly #FLOODS, tornadoes  https://t.co/3VazLigHB1[]\n",
            "=====================================================\n",
            "Southern states recover from deadly #FLOODS, tornadoes  https://t.co/7kMolHfvWs #GPWX[]\n",
            "^^^^^^^^^^^^^^^^^^^^^^^^^^^^^^^^^^^^^^^^^^^^^^^^^^^^^\n",
            "vvvvvvvvvvvvvvvvvvvvvvvvvvvvvvvvvvvvvvvvvvvvvvvvvvvvv\n",
            "Storm #FLOODS D.C. Metro station  https://t.co/OAatrZj3Vh #GPWX[]\n",
            "=====================================================\n",
            "Storm #FLOODS D.C. Metro station  https://t.co/tg8NKwHnpV[]\n",
            "^^^^^^^^^^^^^^^^^^^^^^^^^^^^^^^^^^^^^^^^^^^^^^^^^^^^^\n",
            "vvvvvvvvvvvvvvvvvvvvvvvvvvvvvvvvvvvvvvvvvvvvvvvvvvvvv\n",
            "Strong storm hits the Karanganyar region of Indonesia's Central Java Province  #disaster #indonesia #storm #java #floods #karanganyar #karanganyarfloods #stormindonesia #flooding  https://t.co/88IZbdYcCf[]\n",
            "=====================================================\n",
            "Strong storm hits the Karanganyar region of Indonesia's Central Java Province  #disaster #indonesia #storm #java #floods #karanganyar #karanganyarfloods #stormindonesia #flooding  https://t.co/aTE5pYxatW[]\n",
            "^^^^^^^^^^^^^^^^^^^^^^^^^^^^^^^^^^^^^^^^^^^^^^^^^^^^^\n",
            "vvvvvvvvvvvvvvvvvvvvvvvvvvvvvvvvvvvvvvvvvvvvvvvvvvvvv\n",
            "Tajikistan sinks flash flood in several sectors  https://t.co/nnWZXPcKRT  #Tayikistán #floods #kulob #dushanbe #storm #flooding #Кулоб #Душанбе  https://t.co/HPSPgFf3kQ[]\n",
            "=====================================================\n",
            "Tajikistan sinks flash flood in several sectors  https://t.co/nnWZXPcKRT  #Tayikistán #floods #kulob #dushanbe #storm #flooding #Кулоб #Душанбе  https://t.co/sVZyowdxoN[]\n",
            "^^^^^^^^^^^^^^^^^^^^^^^^^^^^^^^^^^^^^^^^^^^^^^^^^^^^^\n",
            "vvvvvvvvvvvvvvvvvvvvvvvvvvvvvvvvvvvvvvvvvvvvvvvvvvvvv\n",
            "The 6th #ECCA2021 webinar on 7 June (13.30-16.00h CEST) is about #climate #action exchange – sharing #knowledge of what works across the EU: from #droughts to #floods, from hotter summers to green winters, how climate change affects #Southeast of Europe:   https://t.co/qCNOENBxLT  https://t.co/gyF0x\n",
            "=====================================================\n",
            "The 6th #ECCA2021 webinar on 7 June (13.30-16.00h CEST) is about #climate #action exchange – sharing #knowledge of what works across the EU: from #droughts to #floods, from hotter summers to green winters, how climate change affects #Southeast of Europe:   https://t.co/qCNOENBxLT  https://t.co/z1xVt\n",
            "^^^^^^^^^^^^^^^^^^^^^^^^^^^^^^^^^^^^^^^^^^^^^^^^^^^^^\n",
            "vvvvvvvvvvvvvvvvvvvvvvvvvvvvvvvvvvvvvvvvvvvvvvvvvvvvv\n",
            "The @StormMeisterFP Low Threshold Outward Opening Flood Door was developed to solve a particular problem in the Merchant Quarter of Aberdeen, which #floods regularly. Hence, there was a need to protect a number of commercial properties…  https://t.co/cOiYdtqyjc[]\n",
            "=====================================================\n",
            "The @StormMeisterFP Low Threshold Outward Opening Flood Door was developed to solve a particular problem in the Merchant Quarter of Aberdeen, which #floods regularly. Hence, there was a need to protect a number of commercial properties…  https://t.co/yK1CdVovsS[]\n",
            "^^^^^^^^^^^^^^^^^^^^^^^^^^^^^^^^^^^^^^^^^^^^^^^^^^^^^\n",
            "vvvvvvvvvvvvvvvvvvvvvvvvvvvvvvvvvvvvvvvvvvvvvvvvvvvvv\n",
            "The tactical masterstroke that ended Australia’s Super Rugby drought | Bret Harris  https://t.co/FbFauruMhH[]\n",
            "=====================================================\n",
            "The tactical masterstroke that ended Australia’s Super Rugby drought | Bret Harris  https://t.co/yLErYtcE7M[]\n",
            "^^^^^^^^^^^^^^^^^^^^^^^^^^^^^^^^^^^^^^^^^^^^^^^^^^^^^\n",
            "vvvvvvvvvvvvvvvvvvvvvvvvvvvvvvvvvvvvvvvvvvvvvvvvvvvvv\n",
            "The temperature is lovely outside and the sun has shown it’s face plenty of times, but do we dare celebrate #NationalGoBarefootDay with #BroodX crawling outside?\n",
            "🟢\n",
            "🟠\n",
            "🟢\n",
            "🟠\n",
            "🟢\n",
            "#barefoot #cicadas #servpro #damage #restoration #mitigation #remediation #construction #homeimprovement #business #remodeling #\n",
            "=====================================================\n",
            "The temperature is lovely outside and the sun has shown it’s face plenty of times, but do we dare celebrate #NationalGoBarefootDay with #BroodX crawling outside?\n",
            "🟢\n",
            "🟠\n",
            "🟢\n",
            "🟠\n",
            "🟢\n",
            "#barefoot #cicadas #servpro #damage #restoration #mitigation #remediation #construction #homeimprovement #business #remodeling #\n",
            "^^^^^^^^^^^^^^^^^^^^^^^^^^^^^^^^^^^^^^^^^^^^^^^^^^^^^\n",
            "vvvvvvvvvvvvvvvvvvvvvvvvvvvvvvvvvvvvvvvvvvvvvvvvvvvvv\n",
            "The temperature is lovely outside and the sun has shown it’s face plenty of times, but do we dare celebrate #NationalGoBarefootDay with #BroodX crawling outside?\n",
            "🟢\n",
            "🟠\n",
            "🟢\n",
            "🟠\n",
            "🟢\n",
            "#barefoot #cicadas #servpro #damage #restoration #mitigation #remediation #construction #homeimprovement #business #remodeling #\n",
            "=====================================================\n",
            "The temperature is lovely outside and the sun has shown it’s face plenty of times, but do we dare celebrate #NationalGoBarefootDay with #BroodX crawling outside?\n",
            "🟢\n",
            "🟠\n",
            "🟢\n",
            "🟠\n",
            "🟢\n",
            "#barefoot #cicadas #servpro #damage #restoration #mitigation #remediation #construction #homeimprovement #business #remodeling #\n",
            "^^^^^^^^^^^^^^^^^^^^^^^^^^^^^^^^^^^^^^^^^^^^^^^^^^^^^\n",
            "vvvvvvvvvvvvvvvvvvvvvvvvvvvvvvvvvvvvvvvvvvvvvvvvvvvvv\n",
            "The temperature is lovely outside and the sun has shown it’s face plenty of times, but do we dare celebrate #NationalGoBarefootDay with #BroodX crawling outside?\n",
            "🟢\n",
            "🟠\n",
            "🟢\n",
            "🟠\n",
            "🟢\n",
            "#barefoot #cicadas #servpro #damage #restoration #mitigation #remediation #construction #homeimprovement #business #remodeling #\n",
            "=====================================================\n",
            "The temperature is lovely outside and the sun has shown it’s face plenty of times, but do we dare celebrate #NationalGoBarefootDay with #BroodX crawling outside?\n",
            "🟢\n",
            "🟠\n",
            "🟢\n",
            "🟠\n",
            "🟢\n",
            "#barefoot #cicadas #servpro #damage #restoration #mitigation #remediation #construction #homeimprovement #business #remodeling #\n",
            "^^^^^^^^^^^^^^^^^^^^^^^^^^^^^^^^^^^^^^^^^^^^^^^^^^^^^\n",
            "vvvvvvvvvvvvvvvvvvvvvvvvvvvvvvvvvvvvvvvvvvvvvvvvvvvvv\n",
            "This bulletin is issued for information only and reflects the current situation and details available at this time. Respective National Societies, with the support of the International Federation of Red Cross and Red Crescent Societies (IFRC), are working to respond to each of these disasters throug\n",
            "=====================================================\n",
            "This bulletin is issued for information only and reflects the current situation and details available at this time. Respective National Societies, with the support of the International Federation of Red Cross and Red Crescent Societies (IFRC), are working to respond to each of these disasters throug\n",
            "^^^^^^^^^^^^^^^^^^^^^^^^^^^^^^^^^^^^^^^^^^^^^^^^^^^^^\n",
            "vvvvvvvvvvvvvvvvvvvvvvvvvvvvvvvvvvvvvvvvvvvvvvvvvvvvv\n",
            "This bulletin is issued for information only and reflects the current situation and details available at this time. Respective National Societies, with the support of the International Federation of Red Cross and Red Crescent Societies (IFRC), are working to respond to each of these disasters throug\n",
            "=====================================================\n",
            "This bulletin is issued for information only and reflects the current situation and details available at this time. Respective National Societies, with the support of the International Federation of Red Cross and Red Crescent Societies (IFRC), are working to respond to each of these disasters throug\n",
            "^^^^^^^^^^^^^^^^^^^^^^^^^^^^^^^^^^^^^^^^^^^^^^^^^^^^^\n",
            "vvvvvvvvvvvvvvvvvvvvvvvvvvvvvvvvvvvvvvvvvvvvvvvvvvvvv\n",
            "This farmer says it's time to rethink drought — after all, 'it's just the way it is'  https://t.co/LDZbL9H7fF[]\n",
            "=====================================================\n",
            "This farmer says it's time to rethink drought — after all, 'it's just the way it is'  https://t.co/MQIFpprJhz[]\n",
            "^^^^^^^^^^^^^^^^^^^^^^^^^^^^^^^^^^^^^^^^^^^^^^^^^^^^^\n",
            "vvvvvvvvvvvvvvvvvvvvvvvvvvvvvvvvvvvvvvvvvvvvvvvvvvvvv\n",
            "Thousands displaced after devastating N.C. #FLOODS  https://t.co/BZhexcVUh1[]\n",
            "=====================================================\n",
            "Thousands displaced after devastating N.C. #FLOODS  https://t.co/bGk5SKzzbG #GPWX[]\n",
            "^^^^^^^^^^^^^^^^^^^^^^^^^^^^^^^^^^^^^^^^^^^^^^^^^^^^^\n",
            "vvvvvvvvvvvvvvvvvvvvvvvvvvvvvvvvvvvvvvvvvvvvvvvvvvvvv\n",
            "Thousands in the dark as #FLOODS, mudslides hit Northwest  https://t.co/njKb6ifwoh[]\n",
            "=====================================================\n",
            "Thousands in the dark as #FLOODS, mudslides hit Northwest  https://t.co/pvJPnp4atL #GPWX[]\n",
            "^^^^^^^^^^^^^^^^^^^^^^^^^^^^^^^^^^^^^^^^^^^^^^^^^^^^^\n",
            "vvvvvvvvvvvvvvvvvvvvvvvvvvvvvvvvvvvvvvvvvvvvvvvvvvvvv\n",
            "Top 3 Tips to Save Water! #SouthCoastSaves #Drought\n",
            "=====================================================\n",
            "Top 3 Tips to Save Water! #SouthCoastSaves #Drought #DoYourPart\n",
            "^^^^^^^^^^^^^^^^^^^^^^^^^^^^^^^^^^^^^^^^^^^^^^^^^^^^^\n",
            "vvvvvvvvvvvvvvvvvvvvvvvvvvvvvvvvvvvvvvvvvvvvvvvvvvvvv\n",
            "Venezuela – Hundreds Affected by Floods in Merida Full video ➤ https://t.co/vrUpXFmrtz #medellin #floods #colombia #suddenfloods #inundations #medellincolombia #flooding #storm #flooded #antoquia #medellinantioquia  https://t.co/RZUV0N2zFd[]\n",
            "=====================================================\n",
            "Venezuela – Hundreds Affected by Floods in Merida Full video ➤ https://t.co/vrUpXFmrtz #medellin #floods #colombia #suddenfloods #inundations #medellincolombia #flooding #storm #flooded #antoquia #medellinantioquia  https://t.co/kB8F0X584m[]\n",
            "^^^^^^^^^^^^^^^^^^^^^^^^^^^^^^^^^^^^^^^^^^^^^^^^^^^^^\n",
            "vvvvvvvvvvvvvvvvvvvvvvvvvvvvvvvvvvvvvvvvvvvvvvvvvvvvv\n",
            "Water levels in Attanagalu Oya near Dunamale and Kalu Ganga near Millakanda areas are rising and reached minor flood level - DMC  #LKA #SriLanka #WeatherSL #MonsoonSL\n",
            "=====================================================\n",
            "Water levels in Attanagalu Oya near Dunamale and Kalu Ganga near Millakanda areas are rising and reached minor flood level - DMC #Lka #FloodLK\n",
            "^^^^^^^^^^^^^^^^^^^^^^^^^^^^^^^^^^^^^^^^^^^^^^^^^^^^^\n",
            "vvvvvvvvvvvvvvvvvvvvvvvvvvvvvvvvvvvvvvvvvvvvvvvvvvvvv\n",
            "West Virginia boy missing amid #FLOODS  https://t.co/frqhEmUUzx #GPWX #GlobalWarming #climatechange[]\n",
            "=====================================================\n",
            "West Virginia boy missing amid #FLOODS  https://t.co/uOlUwAil8Y  #GlobalWarming #climatechange[]\n",
            "^^^^^^^^^^^^^^^^^^^^^^^^^^^^^^^^^^^^^^^^^^^^^^^^^^^^^\n",
            "vvvvvvvvvvvvvvvvvvvvvvvvvvvvvvvvvvvvvvvvvvvvvvvvvvvvv\n",
            "What if we could avoid Fatbergs, #Sewer Blockages, and #Floods? That's what Brian Moloney shares us in this week's #Podcast. 🎧 Fatbergs Right Ahead? Not if you Harvest the Right Data! ▶ Listen to the full episode on your favorite Podcatcher, or on  https://t.co/PaCpbIkwNx  https://t.co/AivSB6sC70['h\n",
            "=====================================================\n",
            "What if we could avoid Fatbergs, #Sewer Blockages, and #Floods? That's what Brian Moloney shares us in this week's #Podcast. 🎧 Fatbergs Right Ahead? Not if you Harvest the Right Data! ▶ Listen to the full episode on your favorite Podcatcher, or on  https://t.co/PaCpbIkwNx  https://t.co/BSmOdweYin['h\n",
            "^^^^^^^^^^^^^^^^^^^^^^^^^^^^^^^^^^^^^^^^^^^^^^^^^^^^^\n",
            "vvvvvvvvvvvvvvvvvvvvvvvvvvvvvvvvvvvvvvvvvvvvvvvvvvvvv\n",
            "What if we could avoid Fatbergs, #Sewer Blockages, and #Floods? That's what Brian Moloney shares us in this week's #Podcast. 🎧 Fatbergs Right Ahead? Not if you Harvest the Right Data! ▶ Listen to the full episode on your favorite Podcatcher, or on  https://t.co/PaCpbIkwNx  https://t.co/BSmOdweYin['h\n",
            "=====================================================\n",
            "What if we could avoid Fatbergs, #Sewer Blockages, and #Floods? That's what Brian Moloney shares us in this week's #Podcast. 🎧 Fatbergs Right Ahead? Not if you Harvest the Right Data! ▶ Listen to the full episode on your favorite Podcatcher, or on  https://t.co/PaCpbIkwNx  https://t.co/NuVfDwoiTD['h\n",
            "^^^^^^^^^^^^^^^^^^^^^^^^^^^^^^^^^^^^^^^^^^^^^^^^^^^^^\n",
            "vvvvvvvvvvvvvvvvvvvvvvvvvvvvvvvvvvvvvvvvvvvvvvvvvvvvv\n",
            "What if we could avoid Fatbergs, #Sewer Blockages, and #Floods? That's what Brian Moloney shares us in this week's #Podcast. 🎧 Fatbergs Right Ahead? Not if you Harvest the Right Data! ▶ Listen to the full episode on your favorite Podcatcher, or on  https://t.co/PaCpbIkwNx  https://t.co/NuVfDwoiTD['h\n",
            "=====================================================\n",
            "What if we could avoid Fatbergs, #Sewer Blockages, and #Floods? That's what Brian Moloney shares us in this week's #Podcast. 🎧 Fatbergs Right Ahead? Not if you Harvest the Right Data! ▶ Listen to the full episode on your favorite Podcatcher, or on  https://t.co/PaCpbIkwNx  https://t.co/tICuNEMuX3['h\n",
            "^^^^^^^^^^^^^^^^^^^^^^^^^^^^^^^^^^^^^^^^^^^^^^^^^^^^^\n",
            "vvvvvvvvvvvvvvvvvvvvvvvvvvvvvvvvvvvvvvvvvvvvvvvvvvvvv\n",
            "When #floods hit, #CanadianRedCross volunteers are there to help. 👏👏👏👏👏👏👏👏👏👏👏👏 The Value of One, The Power of Many. ❤🌈 #VolunteersBringChange #NVW2021  https://t.co/Fp7J4sIdae #pei  https://t.co/QzF4dMOSvX['https://pbs.twimg.com/media/EzbVCGQXEAIuham.jpg']\n",
            "=====================================================\n",
            "When #floods hit, #CanadianRedCross volunteers are there to help. 👏👏👏👏👏👏👏👏👏👏👏👏 The Value of One, The Power of Many. ❤🌈 #VolunteersBringChange #NVW2021  https://t.co/U3ZcxTE14N #newbrunswick  https://t.co/4cUNIOS3hF['https://pbs.twimg.com/media/EzbVYXgXsAcYD8_.jpg']\n",
            "^^^^^^^^^^^^^^^^^^^^^^^^^^^^^^^^^^^^^^^^^^^^^^^^^^^^^\n",
            "vvvvvvvvvvvvvvvvvvvvvvvvvvvvvvvvvvvvvvvvvvvvvvvvvvvvv\n",
            "When #floods hit, #CanadianRedCross volunteers are there to help. 👏👏👏👏👏👏👏👏👏👏👏👏 The Value of One, The Power of Many. ❤🌈 #VolunteersBringChange #NVW2021  https://t.co/U3ZcxTE14N #newbrunswick  https://t.co/4cUNIOS3hF['https://pbs.twimg.com/media/EzbVYXgXsAcYD8_.jpg']\n",
            "=====================================================\n",
            "When #floods hit, #CanadianRedCross volunteers are there to help. 👏👏👏👏👏👏👏👏👏👏👏👏 The Value of One, The Power of Many. ❤🌈 #VolunteersBringChange #NVW2021  https://t.co/j8RkNBpfKb  https://t.co/WdsrQvgOYI['https://pbs.twimg.com/media/EzbVOeFWEAIs6rP.jpg']\n",
            "^^^^^^^^^^^^^^^^^^^^^^^^^^^^^^^^^^^^^^^^^^^^^^^^^^^^^\n",
            "vvvvvvvvvvvvvvvvvvvvvvvvvvvvvvvvvvvvvvvvvvvvvvvvvvvvv\n",
            "When #floods hit, #CanadianRedCross volunteers are there to help. 👏👏👏👏👏👏👏👏👏👏👏👏 The Value of One, The Power of Many. ❤🌈 #VolunteersBringChange #NVW2021  https://t.co/j8RkNBpfKb  https://t.co/WdsrQvgOYI['https://pbs.twimg.com/media/EzbVOeFWEAIs6rP.jpg']\n",
            "=====================================================\n",
            "When #floods hit, #CanadianRedCross volunteers are there to help. 👏👏👏👏👏👏👏👏👏👏👏👏 The Value of One, The Power of Many. ❤🌈 #VolunteersBringChange #NVW2021  https://t.co/jGVjOIds64  https://t.co/V9OoDGJQQk['https://pbs.twimg.com/media/EzbS-gBXEAE5qYQ.jpg']\n",
            "^^^^^^^^^^^^^^^^^^^^^^^^^^^^^^^^^^^^^^^^^^^^^^^^^^^^^\n",
            "vvvvvvvvvvvvvvvvvvvvvvvvvvvvvvvvvvvvvvvvvvvvvvvvvvvvv\n",
            "When #floods hit, #CanadianRedCross volunteers are there to help. 👏👏👏👏👏👏👏👏👏👏👏👏 The Value of One, The Power of Many. ❤🌈 #VolunteersBringChange #NVW2021  https://t.co/jGVjOIds64  https://t.co/V9OoDGJQQk['https://pbs.twimg.com/media/EzbS-gBXEAE5qYQ.jpg']\n",
            "=====================================================\n",
            "When #floods hit, #CanadianRedCross volunteers are there to help. 👏👏👏👏👏👏👏👏👏👏👏👏 The Value of One, The Power of Many. ❤🌈 #VolunteersBringChange #NVW2021  https://t.co/oPNqMR495m  https://t.co/0I5iR60mGq['https://pbs.twimg.com/media/EzbU2AZWUAAf7pJ.jpg']\n",
            "^^^^^^^^^^^^^^^^^^^^^^^^^^^^^^^^^^^^^^^^^^^^^^^^^^^^^\n",
            "vvvvvvvvvvvvvvvvvvvvvvvvvvvvvvvvvvvvvvvvvvvvvvvvvvvvv\n",
            "Winter #WEATHER warning, heavy #FLOODS &amp; more severe national weather  https://t.co/dFuhWqSvXn #GPWX[]\n",
            "=====================================================\n",
            "Winter #WEATHER warning, heavy #FLOODS &amp; more severe national weather  https://t.co/h7I5i5i2bb[]\n",
            "^^^^^^^^^^^^^^^^^^^^^^^^^^^^^^^^^^^^^^^^^^^^^^^^^^^^^\n",
            "vvvvvvvvvvvvvvvvvvvvvvvvvvvvvvvvvvvvvvvvvvvvvvvvvvvvv\n",
            "Winter storm #FLOODS New England neighborhoods  https://t.co/JPoN9QUBJj #GPWX[]\n",
            "=====================================================\n",
            "Winter storm #FLOODS New England neighborhoods  https://t.co/oN7VFXeA09[]\n",
            "^^^^^^^^^^^^^^^^^^^^^^^^^^^^^^^^^^^^^^^^^^^^^^^^^^^^^\n",
            "vvvvvvvvvvvvvvvvvvvvvvvvvvvvvvvvvvvvvvvvvvvvvvvvvvvvv\n",
            "WoW TBC - THE DARK PORTAL OPENS!!!  https://t.co/0H8WywSaa7\n",
            "=====================================================\n",
            "WoW TBC - THE DARK PORTAL OPENS!!! BF DungeonCleave  https://t.co/0H8WywSaa7\n",
            "^^^^^^^^^^^^^^^^^^^^^^^^^^^^^^^^^^^^^^^^^^^^^^^^^^^^^\n",
            "vvvvvvvvvvvvvvvvvvvvvvvvvvvvvvvvvvvvvvvvvvvvvvvvvvvvv\n",
            "You may not be able to stop #floods from wreaking havoc, but #insurance can manage some of the financial loss.  https://t.co/0ySAGwaeH9[]\n",
            "=====================================================\n",
            "You may not be able to stop #floods from wreaking havoc, but #insurance can manage some of the financial loss.  https://t.co/1M72o7DpHn[]\n",
            "^^^^^^^^^^^^^^^^^^^^^^^^^^^^^^^^^^^^^^^^^^^^^^^^^^^^^\n",
            "vvvvvvvvvvvvvvvvvvvvvvvvvvvvvvvvvvvvvvvvvvvvvvvvvvvvv\n",
            "You may not be able to stop #floods from wreaking havoc, but #insurance can manage some of the financial loss.  https://t.co/1M72o7DpHn[]\n",
            "=====================================================\n",
            "You may not be able to stop #floods from wreaking havoc, but #insurance can manage some of the financial loss.  https://t.co/25cawqxPK1[]\n",
            "^^^^^^^^^^^^^^^^^^^^^^^^^^^^^^^^^^^^^^^^^^^^^^^^^^^^^\n",
            "vvvvvvvvvvvvvvvvvvvvvvvvvvvvvvvvvvvvvvvvvvvvvvvvvvvvv\n",
            "You may not be able to stop #floods from wreaking havoc, but #insurance can manage some of the financial loss.  https://t.co/25cawqxPK1[]\n",
            "=====================================================\n",
            "You may not be able to stop #floods from wreaking havoc, but #insurance can manage some of the financial loss.  https://t.co/38AntjYsUq[]\n",
            "^^^^^^^^^^^^^^^^^^^^^^^^^^^^^^^^^^^^^^^^^^^^^^^^^^^^^\n",
            "vvvvvvvvvvvvvvvvvvvvvvvvvvvvvvvvvvvvvvvvvvvvvvvvvvvvv\n",
            "You may not be able to stop #floods from wreaking havoc, but #insurance can manage some of the financial loss.  https://t.co/38AntjYsUq[]\n",
            "=====================================================\n",
            "You may not be able to stop #floods from wreaking havoc, but #insurance can manage some of the financial loss.  https://t.co/3Uc4LZJWEn[]\n",
            "^^^^^^^^^^^^^^^^^^^^^^^^^^^^^^^^^^^^^^^^^^^^^^^^^^^^^\n",
            "vvvvvvvvvvvvvvvvvvvvvvvvvvvvvvvvvvvvvvvvvvvvvvvvvvvvv\n",
            "You may not be able to stop #floods from wreaking havoc, but #insurance can manage some of the financial loss.  https://t.co/3Uc4LZJWEn[]\n",
            "=====================================================\n",
            "You may not be able to stop #floods from wreaking havoc, but #insurance can manage some of the financial loss.  https://t.co/72cuc3HR0u[]\n",
            "^^^^^^^^^^^^^^^^^^^^^^^^^^^^^^^^^^^^^^^^^^^^^^^^^^^^^\n",
            "vvvvvvvvvvvvvvvvvvvvvvvvvvvvvvvvvvvvvvvvvvvvvvvvvvvvv\n",
            "You may not be able to stop #floods from wreaking havoc, but #insurance can manage some of the financial loss.  https://t.co/72cuc3HR0u[]\n",
            "=====================================================\n",
            "You may not be able to stop #floods from wreaking havoc, but #insurance can manage some of the financial loss.  https://t.co/9YtgFCSrqj[]\n",
            "^^^^^^^^^^^^^^^^^^^^^^^^^^^^^^^^^^^^^^^^^^^^^^^^^^^^^\n",
            "vvvvvvvvvvvvvvvvvvvvvvvvvvvvvvvvvvvvvvvvvvvvvvvvvvvvv\n",
            "You may not be able to stop #floods from wreaking havoc, but #insurance can manage some of the financial loss.  https://t.co/9YtgFCSrqj[]\n",
            "=====================================================\n",
            "You may not be able to stop #floods from wreaking havoc, but #insurance can manage some of the financial loss.  https://t.co/9z3M7yBQO8[]\n",
            "^^^^^^^^^^^^^^^^^^^^^^^^^^^^^^^^^^^^^^^^^^^^^^^^^^^^^\n",
            "vvvvvvvvvvvvvvvvvvvvvvvvvvvvvvvvvvvvvvvvvvvvvvvvvvvvv\n",
            "You may not be able to stop #floods from wreaking havoc, but #insurance can manage some of the financial loss.  https://t.co/9z3M7yBQO8[]\n",
            "=====================================================\n",
            "You may not be able to stop #floods from wreaking havoc, but #insurance can manage some of the financial loss.  https://t.co/AFDM0Rk6mg[]\n",
            "^^^^^^^^^^^^^^^^^^^^^^^^^^^^^^^^^^^^^^^^^^^^^^^^^^^^^\n",
            "vvvvvvvvvvvvvvvvvvvvvvvvvvvvvvvvvvvvvvvvvvvvvvvvvvvvv\n",
            "You may not be able to stop #floods from wreaking havoc, but #insurance can manage some of the financial loss.  https://t.co/AFDM0Rk6mg[]\n",
            "=====================================================\n",
            "You may not be able to stop #floods from wreaking havoc, but #insurance can manage some of the financial loss.  https://t.co/D89TKm2VBC[]\n",
            "^^^^^^^^^^^^^^^^^^^^^^^^^^^^^^^^^^^^^^^^^^^^^^^^^^^^^\n",
            "vvvvvvvvvvvvvvvvvvvvvvvvvvvvvvvvvvvvvvvvvvvvvvvvvvvvv\n",
            "You may not be able to stop #floods from wreaking havoc, but #insurance can manage some of the financial loss.  https://t.co/D89TKm2VBC[]\n",
            "=====================================================\n",
            "You may not be able to stop #floods from wreaking havoc, but #insurance can manage some of the financial loss.  https://t.co/EOFTfZVGoK[]\n",
            "^^^^^^^^^^^^^^^^^^^^^^^^^^^^^^^^^^^^^^^^^^^^^^^^^^^^^\n",
            "vvvvvvvvvvvvvvvvvvvvvvvvvvvvvvvvvvvvvvvvvvvvvvvvvvvvv\n",
            "You may not be able to stop #floods from wreaking havoc, but #insurance can manage some of the financial loss.  https://t.co/EOFTfZVGoK[]\n",
            "=====================================================\n",
            "You may not be able to stop #floods from wreaking havoc, but #insurance can manage some of the financial loss.  https://t.co/EQMLqX6jsH[]\n",
            "^^^^^^^^^^^^^^^^^^^^^^^^^^^^^^^^^^^^^^^^^^^^^^^^^^^^^\n",
            "vvvvvvvvvvvvvvvvvvvvvvvvvvvvvvvvvvvvvvvvvvvvvvvvvvvvv\n",
            "You may not be able to stop #floods from wreaking havoc, but #insurance can manage some of the financial loss.  https://t.co/EQMLqX6jsH[]\n",
            "=====================================================\n",
            "You may not be able to stop #floods from wreaking havoc, but #insurance can manage some of the financial loss.  https://t.co/JmXJl8Fo0q[]\n",
            "^^^^^^^^^^^^^^^^^^^^^^^^^^^^^^^^^^^^^^^^^^^^^^^^^^^^^\n",
            "vvvvvvvvvvvvvvvvvvvvvvvvvvvvvvvvvvvvvvvvvvvvvvvvvvvvv\n",
            "You may not be able to stop #floods from wreaking havoc, but #insurance can manage some of the financial loss.  https://t.co/JmXJl8Fo0q[]\n",
            "=====================================================\n",
            "You may not be able to stop #floods from wreaking havoc, but #insurance can manage some of the financial loss.  https://t.co/KYiT1T7cAX[]\n",
            "^^^^^^^^^^^^^^^^^^^^^^^^^^^^^^^^^^^^^^^^^^^^^^^^^^^^^\n",
            "vvvvvvvvvvvvvvvvvvvvvvvvvvvvvvvvvvvvvvvvvvvvvvvvvvvvv\n",
            "You may not be able to stop #floods from wreaking havoc, but #insurance can manage some of the financial loss.  https://t.co/KYiT1T7cAX[]\n",
            "=====================================================\n",
            "You may not be able to stop #floods from wreaking havoc, but #insurance can manage some of the financial loss.  https://t.co/NEDoV3ejAx[]\n",
            "^^^^^^^^^^^^^^^^^^^^^^^^^^^^^^^^^^^^^^^^^^^^^^^^^^^^^\n",
            "vvvvvvvvvvvvvvvvvvvvvvvvvvvvvvvvvvvvvvvvvvvvvvvvvvvvv\n",
            "You may not be able to stop #floods from wreaking havoc, but #insurance can manage some of the financial loss.  https://t.co/NEDoV3ejAx[]\n",
            "=====================================================\n",
            "You may not be able to stop #floods from wreaking havoc, but #insurance can manage some of the financial loss.  https://t.co/O9eiThPeE8[]\n",
            "^^^^^^^^^^^^^^^^^^^^^^^^^^^^^^^^^^^^^^^^^^^^^^^^^^^^^\n",
            "vvvvvvvvvvvvvvvvvvvvvvvvvvvvvvvvvvvvvvvvvvvvvvvvvvvvv\n",
            "You may not be able to stop #floods from wreaking havoc, but #insurance can manage some of the financial loss.  https://t.co/O9eiThPeE8[]\n",
            "=====================================================\n",
            "You may not be able to stop #floods from wreaking havoc, but #insurance can manage some of the financial loss.  https://t.co/ORBmNF746l[]\n",
            "^^^^^^^^^^^^^^^^^^^^^^^^^^^^^^^^^^^^^^^^^^^^^^^^^^^^^\n",
            "vvvvvvvvvvvvvvvvvvvvvvvvvvvvvvvvvvvvvvvvvvvvvvvvvvvvv\n",
            "You may not be able to stop #floods from wreaking havoc, but #insurance can manage some of the financial loss.  https://t.co/ORBmNF746l[]\n",
            "=====================================================\n",
            "You may not be able to stop #floods from wreaking havoc, but #insurance can manage some of the financial loss.  https://t.co/Op9rAtKEE1[]\n",
            "^^^^^^^^^^^^^^^^^^^^^^^^^^^^^^^^^^^^^^^^^^^^^^^^^^^^^\n",
            "vvvvvvvvvvvvvvvvvvvvvvvvvvvvvvvvvvvvvvvvvvvvvvvvvvvvv\n",
            "You may not be able to stop #floods from wreaking havoc, but #insurance can manage some of the financial loss.  https://t.co/Op9rAtKEE1[]\n",
            "=====================================================\n",
            "You may not be able to stop #floods from wreaking havoc, but #insurance can manage some of the financial loss.  https://t.co/RaJqNm5Vt9[]\n",
            "^^^^^^^^^^^^^^^^^^^^^^^^^^^^^^^^^^^^^^^^^^^^^^^^^^^^^\n",
            "vvvvvvvvvvvvvvvvvvvvvvvvvvvvvvvvvvvvvvvvvvvvvvvvvvvvv\n",
            "You may not be able to stop #floods from wreaking havoc, but #insurance can manage some of the financial loss.  https://t.co/RaJqNm5Vt9[]\n",
            "=====================================================\n",
            "You may not be able to stop #floods from wreaking havoc, but #insurance can manage some of the financial loss.  https://t.co/SaaXyrg8sh[]\n",
            "^^^^^^^^^^^^^^^^^^^^^^^^^^^^^^^^^^^^^^^^^^^^^^^^^^^^^\n",
            "vvvvvvvvvvvvvvvvvvvvvvvvvvvvvvvvvvvvvvvvvvvvvvvvvvvvv\n",
            "You may not be able to stop #floods from wreaking havoc, but #insurance can manage some of the financial loss.  https://t.co/SaaXyrg8sh[]\n",
            "=====================================================\n",
            "You may not be able to stop #floods from wreaking havoc, but #insurance can manage some of the financial loss.  https://t.co/Tt3j2ujrkR[]\n",
            "^^^^^^^^^^^^^^^^^^^^^^^^^^^^^^^^^^^^^^^^^^^^^^^^^^^^^\n",
            "vvvvvvvvvvvvvvvvvvvvvvvvvvvvvvvvvvvvvvvvvvvvvvvvvvvvv\n",
            "You may not be able to stop #floods from wreaking havoc, but #insurance can manage some of the financial loss.  https://t.co/Tt3j2ujrkR[]\n",
            "=====================================================\n",
            "You may not be able to stop #floods from wreaking havoc, but #insurance can manage some of the financial loss.  https://t.co/VDOzSQqHbB[]\n",
            "^^^^^^^^^^^^^^^^^^^^^^^^^^^^^^^^^^^^^^^^^^^^^^^^^^^^^\n",
            "vvvvvvvvvvvvvvvvvvvvvvvvvvvvvvvvvvvvvvvvvvvvvvvvvvvvv\n",
            "You may not be able to stop #floods from wreaking havoc, but #insurance can manage some of the financial loss.  https://t.co/VDOzSQqHbB[]\n",
            "=====================================================\n",
            "You may not be able to stop #floods from wreaking havoc, but #insurance can manage some of the financial loss.  https://t.co/YVeHmX9b3G[]\n",
            "^^^^^^^^^^^^^^^^^^^^^^^^^^^^^^^^^^^^^^^^^^^^^^^^^^^^^\n",
            "vvvvvvvvvvvvvvvvvvvvvvvvvvvvvvvvvvvvvvvvvvvvvvvvvvvvv\n",
            "You may not be able to stop #floods from wreaking havoc, but #insurance can manage some of the financial loss.  https://t.co/YVeHmX9b3G[]\n",
            "=====================================================\n",
            "You may not be able to stop #floods from wreaking havoc, but #insurance can manage some of the financial loss.  https://t.co/YZLSCH19O4[]\n",
            "^^^^^^^^^^^^^^^^^^^^^^^^^^^^^^^^^^^^^^^^^^^^^^^^^^^^^\n",
            "vvvvvvvvvvvvvvvvvvvvvvvvvvvvvvvvvvvvvvvvvvvvvvvvvvvvv\n",
            "You may not be able to stop #floods from wreaking havoc, but #insurance can manage some of the financial loss.  https://t.co/YZLSCH19O4[]\n",
            "=====================================================\n",
            "You may not be able to stop #floods from wreaking havoc, but #insurance can manage some of the financial loss.  https://t.co/ZeCUEC4rE6[]\n",
            "^^^^^^^^^^^^^^^^^^^^^^^^^^^^^^^^^^^^^^^^^^^^^^^^^^^^^\n",
            "vvvvvvvvvvvvvvvvvvvvvvvvvvvvvvvvvvvvvvvvvvvvvvvvvvvvv\n",
            "You may not be able to stop #floods from wreaking havoc, but #insurance can manage some of the financial loss.  https://t.co/ZeCUEC4rE6[]\n",
            "=====================================================\n",
            "You may not be able to stop #floods from wreaking havoc, but #insurance can manage some of the financial loss.  https://t.co/Zhj5jGrtve[]\n",
            "^^^^^^^^^^^^^^^^^^^^^^^^^^^^^^^^^^^^^^^^^^^^^^^^^^^^^\n",
            "vvvvvvvvvvvvvvvvvvvvvvvvvvvvvvvvvvvvvvvvvvvvvvvvvvvvv\n",
            "You may not be able to stop #floods from wreaking havoc, but #insurance can manage some of the financial loss.  https://t.co/Zhj5jGrtve[]\n",
            "=====================================================\n",
            "You may not be able to stop #floods from wreaking havoc, but #insurance can manage some of the financial loss.  https://t.co/a1OZTRSxEI[]\n",
            "^^^^^^^^^^^^^^^^^^^^^^^^^^^^^^^^^^^^^^^^^^^^^^^^^^^^^\n",
            "vvvvvvvvvvvvvvvvvvvvvvvvvvvvvvvvvvvvvvvvvvvvvvvvvvvvv\n",
            "You may not be able to stop #floods from wreaking havoc, but #insurance can manage some of the financial loss.  https://t.co/a1OZTRSxEI[]\n",
            "=====================================================\n",
            "You may not be able to stop #floods from wreaking havoc, but #insurance can manage some of the financial loss.  https://t.co/cvqxJPxJMU[]\n",
            "^^^^^^^^^^^^^^^^^^^^^^^^^^^^^^^^^^^^^^^^^^^^^^^^^^^^^\n",
            "vvvvvvvvvvvvvvvvvvvvvvvvvvvvvvvvvvvvvvvvvvvvvvvvvvvvv\n",
            "You may not be able to stop #floods from wreaking havoc, but #insurance can manage some of the financial loss.  https://t.co/cvqxJPxJMU[]\n",
            "=====================================================\n",
            "You may not be able to stop #floods from wreaking havoc, but #insurance can manage some of the financial loss.  https://t.co/dH6K7wAGrk[]\n",
            "^^^^^^^^^^^^^^^^^^^^^^^^^^^^^^^^^^^^^^^^^^^^^^^^^^^^^\n",
            "vvvvvvvvvvvvvvvvvvvvvvvvvvvvvvvvvvvvvvvvvvvvvvvvvvvvv\n",
            "You may not be able to stop #floods from wreaking havoc, but #insurance can manage some of the financial loss.  https://t.co/dH6K7wAGrk[]\n",
            "=====================================================\n",
            "You may not be able to stop #floods from wreaking havoc, but #insurance can manage some of the financial loss.  https://t.co/gPS5OCBurF[]\n",
            "^^^^^^^^^^^^^^^^^^^^^^^^^^^^^^^^^^^^^^^^^^^^^^^^^^^^^\n",
            "vvvvvvvvvvvvvvvvvvvvvvvvvvvvvvvvvvvvvvvvvvvvvvvvvvvvv\n",
            "You may not be able to stop #floods from wreaking havoc, but #insurance can manage some of the financial loss.  https://t.co/gPS5OCBurF[]\n",
            "=====================================================\n",
            "You may not be able to stop #floods from wreaking havoc, but #insurance can manage some of the financial loss.  https://t.co/iMfvHMYZ1Q[]\n",
            "^^^^^^^^^^^^^^^^^^^^^^^^^^^^^^^^^^^^^^^^^^^^^^^^^^^^^\n",
            "vvvvvvvvvvvvvvvvvvvvvvvvvvvvvvvvvvvvvvvvvvvvvvvvvvvvv\n",
            "You may not be able to stop #floods from wreaking havoc, but #insurance can manage some of the financial loss.  https://t.co/iMfvHMYZ1Q[]\n",
            "=====================================================\n",
            "You may not be able to stop #floods from wreaking havoc, but #insurance can manage some of the financial loss.  https://t.co/iSnd3HxjqA[]\n",
            "^^^^^^^^^^^^^^^^^^^^^^^^^^^^^^^^^^^^^^^^^^^^^^^^^^^^^\n",
            "vvvvvvvvvvvvvvvvvvvvvvvvvvvvvvvvvvvvvvvvvvvvvvvvvvvvv\n",
            "You may not be able to stop #floods from wreaking havoc, but #insurance can manage some of the financial loss.  https://t.co/iSnd3HxjqA[]\n",
            "=====================================================\n",
            "You may not be able to stop #floods from wreaking havoc, but #insurance can manage some of the financial loss.  https://t.co/icKRJ1xI3s[]\n",
            "^^^^^^^^^^^^^^^^^^^^^^^^^^^^^^^^^^^^^^^^^^^^^^^^^^^^^\n",
            "vvvvvvvvvvvvvvvvvvvvvvvvvvvvvvvvvvvvvvvvvvvvvvvvvvvvv\n",
            "You may not be able to stop #floods from wreaking havoc, but #insurance can manage some of the financial loss.  https://t.co/icKRJ1xI3s[]\n",
            "=====================================================\n",
            "You may not be able to stop #floods from wreaking havoc, but #insurance can manage some of the financial loss.  https://t.co/j3kttjLAah[]\n",
            "^^^^^^^^^^^^^^^^^^^^^^^^^^^^^^^^^^^^^^^^^^^^^^^^^^^^^\n",
            "vvvvvvvvvvvvvvvvvvvvvvvvvvvvvvvvvvvvvvvvvvvvvvvvvvvvv\n",
            "You may not be able to stop #floods from wreaking havoc, but #insurance can manage some of the financial loss.  https://t.co/j3kttjLAah[]\n",
            "=====================================================\n",
            "You may not be able to stop #floods from wreaking havoc, but #insurance can manage some of the financial loss.  https://t.co/jd7HNbllZ5[]\n",
            "^^^^^^^^^^^^^^^^^^^^^^^^^^^^^^^^^^^^^^^^^^^^^^^^^^^^^\n",
            "vvvvvvvvvvvvvvvvvvvvvvvvvvvvvvvvvvvvvvvvvvvvvvvvvvvvv\n",
            "You may not be able to stop #floods from wreaking havoc, but #insurance can manage some of the financial loss.  https://t.co/jd7HNbllZ5[]\n",
            "=====================================================\n",
            "You may not be able to stop #floods from wreaking havoc, but #insurance can manage some of the financial loss.  https://t.co/mpqhzhXrQy[]\n",
            "^^^^^^^^^^^^^^^^^^^^^^^^^^^^^^^^^^^^^^^^^^^^^^^^^^^^^\n",
            "vvvvvvvvvvvvvvvvvvvvvvvvvvvvvvvvvvvvvvvvvvvvvvvvvvvvv\n",
            "You may not be able to stop #floods from wreaking havoc, but #insurance can manage some of the financial loss.  https://t.co/mpqhzhXrQy[]\n",
            "=====================================================\n",
            "You may not be able to stop #floods from wreaking havoc, but #insurance can manage some of the financial loss.  https://t.co/neyiIEX6bi[]\n",
            "^^^^^^^^^^^^^^^^^^^^^^^^^^^^^^^^^^^^^^^^^^^^^^^^^^^^^\n",
            "vvvvvvvvvvvvvvvvvvvvvvvvvvvvvvvvvvvvvvvvvvvvvvvvvvvvv\n",
            "You may not be able to stop #floods from wreaking havoc, but #insurance can manage some of the financial loss.  https://t.co/neyiIEX6bi[]\n",
            "=====================================================\n",
            "You may not be able to stop #floods from wreaking havoc, but #insurance can manage some of the financial loss.  https://t.co/ppXIi052f1[]\n",
            "^^^^^^^^^^^^^^^^^^^^^^^^^^^^^^^^^^^^^^^^^^^^^^^^^^^^^\n",
            "vvvvvvvvvvvvvvvvvvvvvvvvvvvvvvvvvvvvvvvvvvvvvvvvvvvvv\n",
            "You may not be able to stop #floods from wreaking havoc, but #insurance can manage some of the financial loss.  https://t.co/ppXIi052f1[]\n",
            "=====================================================\n",
            "You may not be able to stop #floods from wreaking havoc, but #insurance can manage some of the financial loss.  https://t.co/ruKmOuvhBJ[]\n",
            "^^^^^^^^^^^^^^^^^^^^^^^^^^^^^^^^^^^^^^^^^^^^^^^^^^^^^\n",
            "vvvvvvvvvvvvvvvvvvvvvvvvvvvvvvvvvvvvvvvvvvvvvvvvvvvvv\n",
            "You may not be able to stop #floods from wreaking havoc, but #insurance can manage some of the financial loss.  https://t.co/ruKmOuvhBJ[]\n",
            "=====================================================\n",
            "You may not be able to stop #floods from wreaking havoc, but #insurance can manage some of the financial loss.  https://t.co/t3mqfS3Vgx[]\n",
            "^^^^^^^^^^^^^^^^^^^^^^^^^^^^^^^^^^^^^^^^^^^^^^^^^^^^^\n",
            "vvvvvvvvvvvvvvvvvvvvvvvvvvvvvvvvvvvvvvvvvvvvvvvvvvvvv\n",
            "You may not be able to stop #floods from wreaking havoc, but #insurance can manage some of the financial loss.  https://t.co/t3mqfS3Vgx[]\n",
            "=====================================================\n",
            "You may not be able to stop #floods from wreaking havoc, but #insurance can manage some of the financial loss.  https://t.co/uctyglC45O[]\n",
            "^^^^^^^^^^^^^^^^^^^^^^^^^^^^^^^^^^^^^^^^^^^^^^^^^^^^^\n",
            "vvvvvvvvvvvvvvvvvvvvvvvvvvvvvvvvvvvvvvvvvvvvvvvvvvvvv\n",
            "You may not be able to stop #floods from wreaking havoc, but #insurance can manage some of the financial loss.  https://t.co/uctyglC45O[]\n",
            "=====================================================\n",
            "You may not be able to stop #floods from wreaking havoc, but #insurance can manage some of the financial loss.  https://t.co/ulA1j0gNZZ[]\n",
            "^^^^^^^^^^^^^^^^^^^^^^^^^^^^^^^^^^^^^^^^^^^^^^^^^^^^^\n",
            "vvvvvvvvvvvvvvvvvvvvvvvvvvvvvvvvvvvvvvvvvvvvvvvvvvvvv\n",
            "You may not be able to stop #floods from wreaking havoc, but #insurance can manage some of the financial loss.  https://t.co/ulA1j0gNZZ[]\n",
            "=====================================================\n",
            "You may not be able to stop #floods from wreaking havoc, but #insurance can manage some of the financial loss.  https://t.co/vWrwEGAreT[]\n",
            "^^^^^^^^^^^^^^^^^^^^^^^^^^^^^^^^^^^^^^^^^^^^^^^^^^^^^\n",
            "vvvvvvvvvvvvvvvvvvvvvvvvvvvvvvvvvvvvvvvvvvvvvvvvvvvvv\n",
            "You may not be able to stop #floods from wreaking havoc, but #insurance can manage some of the financial loss.  https://t.co/vWrwEGAreT[]\n",
            "=====================================================\n",
            "You may not be able to stop #floods from wreaking havoc, but #insurance can manage some of the financial loss.  https://t.co/vhRON7yuN9[]\n",
            "^^^^^^^^^^^^^^^^^^^^^^^^^^^^^^^^^^^^^^^^^^^^^^^^^^^^^\n",
            "vvvvvvvvvvvvvvvvvvvvvvvvvvvvvvvvvvvvvvvvvvvvvvvvvvvvv\n",
            "You may not be able to stop #floods from wreaking havoc, but #insurance can manage some of the financial loss.  https://t.co/vhRON7yuN9[]\n",
            "=====================================================\n",
            "You may not be able to stop #floods from wreaking havoc, but #insurance can manage some of the financial loss.  https://t.co/xRUfPOSqgg[]\n",
            "^^^^^^^^^^^^^^^^^^^^^^^^^^^^^^^^^^^^^^^^^^^^^^^^^^^^^\n",
            "vvvvvvvvvvvvvvvvvvvvvvvvvvvvvvvvvvvvvvvvvvvvvvvvvvvvv\n",
            "You may not be able to stop #floods from wreaking havoc, but #insurance can manage some of the financial loss.  https://t.co/xRUfPOSqgg[]\n",
            "=====================================================\n",
            "You may not be able to stop #floods from wreaking havoc, but #insurance can manage some of the financial loss.  https://t.co/zCetxsTtUm[]\n",
            "^^^^^^^^^^^^^^^^^^^^^^^^^^^^^^^^^^^^^^^^^^^^^^^^^^^^^\n",
            "vvvvvvvvvvvvvvvvvvvvvvvvvvvvvvvvvvvvvvvvvvvvvvvvvvvvv\n",
            "☀️😎❤️🤓 #meltwater #river #alpineriver #flooded #💗ben\n",
            "=====================================================\n",
            "☀️😎❤️🤓 #meltwater #river #alpineriver #flooded #💗ben #caterpillar\n",
            "^^^^^^^^^^^^^^^^^^^^^^^^^^^^^^^^^^^^^^^^^^^^^^^^^^^^^\n",
            "vvvvvvvvvvvvvvvvvvvvvvvvvvvvvvvvvvvvvvvvvvvvvvvvvvvvv\n",
            "☀️😎❤️🤓 #meltwater #river #alpineriver #flooded #💗ben #caterpillar\n",
            "=====================================================\n",
            "☀️😎❤️🤓 #meltwater #river #alpineriver #flooded #💗ben #slovenianmouse #mouse\n",
            "^^^^^^^^^^^^^^^^^^^^^^^^^^^^^^^^^^^^^^^^^^^^^^^^^^^^^\n"
          ],
          "name": "stdout"
        }
      ]
    },
    {
      "cell_type": "markdown",
      "metadata": {
        "id": "bBO_P_XwFtdd"
      },
      "source": [
        "Those are quite a few! They are too similar for training the model. We will get rid of them later."
      ]
    },
    {
      "cell_type": "markdown",
      "metadata": {
        "id": "RUTT72KAmKmC"
      },
      "source": [
        "## `country` column"
      ]
    },
    {
      "cell_type": "code",
      "metadata": {
        "colab": {
          "base_uri": "https://localhost:8080/"
        },
        "id": "pyStFu6zQc4A",
        "outputId": "c9366cca-728a-44f2-fb5f-7cb363d0bbad"
      },
      "source": [
        "d['country'].value_counts()"
      ],
      "execution_count": null,
      "outputs": [
        {
          "output_type": "execute_result",
          "data": {
            "text/plain": [
              "[]                             976\n",
              "India                          467\n",
              "Bhutan                         341\n",
              "Sri Lanka                      257\n",
              "Ghana                          223\n",
              "Jamaica                        199\n",
              "Australia                      196\n",
              "Egypt                          193\n",
              "China                          169\n",
              "Kenya                          155\n",
              "Somalia                        138\n",
              "Vietnam                        107\n",
              "Nigeria                        102\n",
              "Pakistan                       101\n",
              "Afghanistan                     99\n",
              "Canada                          97\n",
              "Mozambique                      93\n",
              "Brazil                          93\n",
              "Uganda                          88\n",
              "Iran                            33\n",
              "Bolivia                         26\n",
              "Des Moines, Iowa                21\n",
              "['india']                       11\n",
              "Cuba                             7\n",
              "Argentina                        4\n",
              "['houston']                      3\n",
              "['california']                   3\n",
              "['india', 'india', 'india']      1\n",
              "['southeastasia']                1\n",
              "['kenya']                        1\n",
              "Des Moines, IA                   1\n",
              "Atlantic, IA                     1\n",
              "West Des Moines, IA              1\n",
              "['worldasthmaday2021']           1\n",
              "Somewhere in Iowa USA            1\n",
              "['june2013']                     1\n",
              "Ames, Iowa                       1\n",
              "Cedar Rapids, Iowa               1\n",
              "Riverside, IA                    1\n",
              "['india', 'india']               1\n",
              "Cedar Rapids                     1\n",
              "Name: country, dtype: int64"
            ]
          },
          "metadata": {
            "tags": []
          },
          "execution_count": 7
        }
      ]
    },
    {
      "cell_type": "markdown",
      "metadata": {
        "id": "KRsdpgUdJihQ"
      },
      "source": [
        "Some of the values in the `country` column are inconsistent, let's clean them up."
      ]
    },
    {
      "cell_type": "code",
      "metadata": {
        "colab": {
          "base_uri": "https://localhost:8080/"
        },
        "id": "zNYdXeZgHp3j",
        "outputId": "8acdd056-f85b-4335-a31b-c0b7ccc9db15"
      },
      "source": [
        "country_fixes = {\n",
        "    \"[]\": None,\n",
        "    \"['india']\": \"India\",\n",
        "    \"['california']\": \"USA\",\n",
        "    \"['june2013']\": None,\n",
        "    \"['houston']\": \"USA\",\n",
        "    \"['kenya']\": \"Kenya\",\n",
        "    \"Des Moines, Iowa\": \"USA\",\n",
        "    \"['india', 'india']\": \"India\",\n",
        "    \"['worldasthmaday2021']\": None,\n",
        "    \"['southeastasia']\": None,\n",
        "    \"Atlantic, IA\": \"USA\",\n",
        "    \"West Des Moines, IA\": \"USA\",\n",
        "    \"Riverside, IA\": \"USA\",\n",
        "    \"Somewhere in Iowa USA\": \"USA\",\n",
        "    \"['india', 'india', 'india']\": \"India\",\n",
        "    \"Cedar Rapids, Iowa\": \"USA\",\n",
        "    \"Des Moines, IA\": \"USA\",\n",
        "    \"Ames, Iowa\": \"USA\",\n",
        "    \"Cedar Rapids\": \"USA\",\n",
        "}\n",
        "d['country'].replace(country_fixes).value_counts()"
      ],
      "execution_count": null,
      "outputs": [
        {
          "output_type": "execute_result",
          "data": {
            "text/plain": [
              "India          480\n",
              "Bhutan         341\n",
              "Sri Lanka      257\n",
              "Ghana          223\n",
              "Jamaica        199\n",
              "Australia      196\n",
              "Egypt          193\n",
              "China          169\n",
              "Kenya          156\n",
              "Somalia        138\n",
              "Vietnam        107\n",
              "Nigeria        102\n",
              "Pakistan       101\n",
              "Afghanistan     99\n",
              "Canada          97\n",
              "Mozambique      93\n",
              "Brazil          93\n",
              "Uganda          88\n",
              "USA             35\n",
              "Iran            33\n",
              "Bolivia         26\n",
              "Cuba             7\n",
              "Argentina        4\n",
              "Name: country, dtype: int64"
            ]
          },
          "metadata": {
            "tags": []
          },
          "execution_count": 8
        }
      ]
    },
    {
      "cell_type": "markdown",
      "metadata": {
        "id": "UAXCE3tBOUwZ"
      },
      "source": [
        "* We fixed all invalid country names. ✔️\n",
        "* Let's create a new data frame instead of modifying the existing one.\n",
        "  (This makes it easier to run the notebook cells out of order.)\n",
        "* For this notebook, we are only interested in the Twitter data, so let's drop all other data sources as well.\n",
        "* We are also getting rid of the text with the same beginning we detected earlier."
      ]
    },
    {
      "cell_type": "code",
      "metadata": {
        "id": "Rm5cPo87PQRw"
      },
      "source": [
        "# Make a new data frame for our modifications\n",
        "d2 = d.copy()\n",
        "d2.drop(index=overlapping, inplace=True)\n",
        "d2['country'] = d['country'].replace(country_fixes)\n",
        "d2 = d2[d2['data source'] == 'Twitter']"
      ],
      "execution_count": null,
      "outputs": []
    },
    {
      "cell_type": "markdown",
      "metadata": {
        "id": "S32y_QfnX_LZ"
      },
      "source": [
        "## `body` column\n",
        "\n",
        "Let's look at 20 random tweets:"
      ]
    },
    {
      "cell_type": "code",
      "metadata": {
        "colab": {
          "base_uri": "https://localhost:8080/"
        },
        "id": "pKUJHEu8XGxL",
        "outputId": "3c72ecbf-1b38-4f60-e9d5-44910f1a6089"
      },
      "source": [
        "list(d2['body'].sample(20))"
      ],
      "execution_count": null,
      "outputs": [
        {
          "output_type": "execute_result",
          "data": {
            "text/plain": [
              "['.@EdelmanPR #EarthIsDying Hire me to do big social media &amp; PR if you promise to only work for companies that are helping cool our fun+rad+dying biosphere. So #ClimateChange #Monster #Heatwaves #Wildfires #Floods do not kill 45% of all mc life in 5yr.  https://t.co/pLI4iXSAgO #Love[]',\n",
              " \"Floods are one of the most common weather dangers in the U.S. Before you find yourself caught in a flood, develop an emergency plan and be prepared to evacuate with your family.  https://t.co/Amap27ICCr #hoppyinsurance #orlandoinsurance #floods #flooding  https://t.co/MhL12wIZUJ['https://pbs.twimg.com/media/E1B0IV8WQAEFDip.jpg']\",\n",
              " 'A 2018 report by the #UnitedNations International Panel on #ClimateChange found that a #warming #climate is responsible for making high mountains more likely to see these kinds of killer #floods and #landslides.[]',\n",
              " 'The Mapleton community is gathering together and asking for assistance in flood readiness. #Floods #Utah #localnews #Mapleton   https://t.co/r16hi8QHP9[]',\n",
              " '@KevinMKruse The GQP is blathering on about Dr. Seuss, a made up border crisis, the lack of a press conference, Biden\\'s dog, and anything else to take attention away from their voter suppression legislation.  As Bannon said, they want to \"flood the zone with shit.” And it\\'s still working.',\n",
              " \"Love this tree. I mean, I really do. Split down the middle, separated from the other willows but surviving, plus host to many species. Resilience. #Salixescence #floods #wyelove  https://t.co/f6Szwnusso['https://pbs.twimg.com/media/Ezcq1fmXIAABj14.jpg']\",\n",
              " '#Floods #Coronavirus More than 100 fake Covid certificates caught at border each day as variant fears grow - Mirror Online  https://t.co/2ASJoyHrLj[]',\n",
              " \"This picture was taken 2 years ago today at #BritanniaPark while it was underwater due to #spring #floods. #OttHistory #Ottweather #StormHour  https://t.co/CxL482PjNL['https://pbs.twimg.com/media/E0k8lDmWQAAd0DB.jpg']\",\n",
              " 'Why 500-year #FLOODS arent as rare as you think  https://t.co/ANChrwSxDi #GPWX[]',\n",
              " 'Some of our team are here all week to chat to primary producers and other visitors about #AustralianGovernment support for people impacted by #drought, #floods, #bushfires and other challenges. If you’re at Beef Week, be sure to visit us at the Sidney Kidman pavilion, stall 28.[]',\n",
              " \"Promoting the use of less #water leads to a #sustainable tomorrow. If you use less water today, you can be saved from the #ocean causing #floods in the future. With only 2.5% on earth being fresh for use, it becomes crucial for us to save our resources. #SaveWaterSaveEarth!  https://t.co/uOfy5dIa5R['https://pbs.twimg.com/media/E0JUzPKWEAEQsmU.jpg']\",\n",
              " \"Preparing for floods on the Third Pole Gokyo lakes are the world's highest fres... #floods #preparing  https://t.co/96OmLb0zQP[]\",\n",
              " 'Louisiana begins long recovery from deadly #FLOODS  https://t.co/XdJ9yl2PGi #GPWX[]',\n",
              " \"Yulius Fahik (R) and his brother walk around #destroyed houses during the #aftermath of flash #floods and #landslides that hit several areas in East Nusa Tenggara, #Malaka, #Indonesia on April 16, 2021. Photo by Risa Krisadhi for SOPA Images  https://t.co/TxdUrlHP0l['https://pbs.twimg.com/media/Ezuh8lHVoAMsji1.jpg']\",\n",
              " \"As part of our relief activities to help the victims of the recent devastating #floods in #TimorLeste that resulted more than 30 people died &amp; thousands are now in displaced camp, @g7plus secretariat prepares #reliefpacks to distribute among affected families. #standinsolidarity  https://t.co/n2rLCjfy88['https://pbs.twimg.com/media/EyraApdVIAEoIqc.jpg', 'https://pbs.twimg.com/media/EyraApkVoAMCNsD.jpg']\",\n",
              " 'New El #NIñO storms in West after heavy rain, #FLOODS  https://t.co/JW9e8LRrEo #GPWX[]',\n",
              " \"Some high rainfall totals forecast for Wales and NW England by Sunday morning, as a trailing cold front loiters here into Sunday following rain clearing north elsewhere on Saturday, could be 75-100mm over higher ground of north &amp; west Wales. #floods #rain  https://t.co/XI2eQ37A5v['https://pbs.twimg.com/media/E0xdNzzWQAI9uwr.png', 'https://pbs.twimg.com/media/E0xdQXoXEAIiA5m.jpg']\",\n",
              " \"The way giselle's finally getting confident and comfortable with the cameras  , but then there's people that cut her out of it...[]\",\n",
              " 'Anyone with #arachnophobia, look away now! #Flooding hitting your home is one thing.  #Floods and having to worry about \"perfect storm for a funnel-web spider boom\", sounds like a #terrifyingmoment. 😱😱  #Spider #Spiders #terrifying  https://t.co/RWliu53Spi[]',\n",
              " 'God is Shaking the World !!! Biblical Events !!!  https://t.co/CDfJQyeIfj via @YouTube  #Flood #flooding #floods #News #NewsoftheWorld #NEWSUPDATE #newsupdates #Nachrichten #Bible #Jesus #JesusChrist #JesusIsLord[]']"
            ]
          },
          "metadata": {
            "tags": []
          },
          "execution_count": 10
        }
      ]
    },
    {
      "cell_type": "markdown",
      "metadata": {
        "id": "DJ_pX_MoYPzC"
      },
      "source": [
        "Looks good!\n",
        "\n",
        "* Emojis are displayed correctly, so we got the character encoding right! This would be more important for non-English languages.\n",
        "* There are some [HTML character entities](https://www.w3schools.com/html/html_entities.asp), like `&amp;`. Ideally, they should be replaced by their Unicode equivalent (e.g. `&` for `&amp;`), because they might cause problems with the NLP models later. This is called \"unescaping\" and there is a function in the standard library for that. Let's use it!"
      ]
    },
    {
      "cell_type": "code",
      "metadata": {
        "colab": {
          "base_uri": "https://localhost:8080/"
        },
        "id": "lv0Ovgekbxeb",
        "outputId": "0bf08e9c-caff-447c-ffd2-40bf470f3f11"
      },
      "source": [
        "import html\n",
        "\n",
        "print('Before: {} times \"&amp;\"'.format(d2['body'].map(lambda s: '&amp;' in s).sum()))\n",
        "\n",
        "d3 = d2.copy()\n",
        "d3['body'] = d2['body'].map(html.unescape)\n",
        "\n",
        "print('After: {} times \"&amp;\"'.format(d3['body'].map(lambda s: '&amp;' in s).sum()))"
      ],
      "execution_count": null,
      "outputs": [
        {
          "output_type": "stream",
          "text": [
            "Before: 142 times \"&amp;\"\n",
            "After: 0 times \"&amp;\"\n"
          ],
          "name": "stdout"
        }
      ]
    },
    {
      "cell_type": "code",
      "metadata": {
        "colab": {
          "base_uri": "https://localhost:8080/"
        },
        "id": "cCVS6i1QdXBd",
        "outputId": "ab4fd84a-d26b-42f0-adb0-fef56c2a267b"
      },
      "source": [
        "list(d3['body'].sample(20))"
      ],
      "execution_count": null,
      "outputs": [
        {
          "output_type": "execute_result",
          "data": {
            "text/plain": [
              "['@DelRealFoods #1YearToSaveEarth Hire me for sales+social+mktg to help you switch to plant-based 🌽🥑products only to cool our fun+rad+dying biosphere. #ClimateChange #Monster #Heatwaves #Wildfires #Floods may kill 45% of all life in 5 - 6 yrs.  https://t.co/pLI4iXSAgO #Love #Vegan[]',\n",
              " \"#Forests can be managed to mitigate the negative effects of climate change on water resources and ecosystems, as well as ensure a safe and clean water supply and reduced risk of #floods and #droughts!  https://t.co/Bbh89y8CoU['https://pbs.twimg.com/media/Ezfin1qXsAAUQ3x.jpg']\",\n",
              " \"rt @wef  Flood damage to rise to $32 billion by 2051 - in U.S. alone  https://t.co/nJmQGUC563 #Floods #UnitedStates  https://t.co/GzStyWh1EX['https://pbs.twimg.com/media/E0-LLehXMBAFVNC.png']\",\n",
              " \"4 killed in flash floods in Yemen's historic Tarim city #floods    https://t.co/33eNOohoV2[]\",\n",
              " \"The cost of war is always dear. This is for only those who tasted & understand it's consequences & effects. #Forever for #Peace! We are now in #COVID-19 #DROUGHT #FLOODS #Locusts #terrorism the list is long for #Somalia  https://t.co/Ucj6zcaqZq['https://pbs.twimg.com/media/Ez6rHKAWEAU1P8e.jpg']\",\n",
              " \"At @DeploySolutions we have been researching  problems individuals face preparing for #climatechange impacts and disasters like #floods, and software solutions that can help. Can't wait to share our findings at the #GeoIgnite2021 conference, April 22 & 28.  https://t.co/FKj1TA5gYL[]\",\n",
              " \"Floods. Destruction. Displacement. Can the Faculty of Film Studies make a difference? Coming soon. #Floods Driven Displacement & Victim Rehabilitation. TMYS Review Sept 2021 in association with @EHCenterVU Submit #shortstories #essays #poems on the theme.  https://t.co/yEphjmZDgt  https://t.co/0fFTxUTigZ['https://pbs.twimg.com/media/E1HRge-VIAI1jsd.jpg']\",\n",
              " 'Thousands of families hit by #Yemen #floods: UN  https://t.co/MJwSS43kiS via @RFI_En[]',\n",
              " \"Catch up with this week's #disaster management news at Today in disaster resilience (7 May 2021)  https://t.co/tGSHbvYYwc via @wordpressdotcom #resilience #floods[]\",\n",
              " \"In the fourth of our climate change week stories we explore how #climatechange affects #Hurricane strength...the findings are concerning for the #environmental community in particular and the entire global populace in general 👉  https://t.co/O2aLvYtcCE💨 #Weather #storm #floods  https://t.co/0IEpxOJAEA['https://pbs.twimg.com/tweet_video_thumb/E0I8ydzX0AYpC3s.jpg']\",\n",
              " \"🇳🇬#Nigeria #Abudja #Floods  Nigerian authorities released an alert on Thursday, warning of heavy flooding this year in 28 of the country's 36 states and the Federal Capital Territory.[]\",\n",
              " 'Louisiana begins cleanup after #FLOODS destroy tens of thousands of homes  https://t.co/wf1sl7lXg8[]',\n",
              " 'From #Ladakh to #Everest, risk of floods from glacial lakes grows   https://t.co/sAMy7MrOD7  #Floods #ClimateChange[]',\n",
              " '@ThomasN24267408 @garyste74717751 @raventerp100 @washingtonpost And if you actually read the Bible, God is punishing people left and right. He literally wiped out the entire world with a flood as punishment.',\n",
              " \"Oh well between #drought #floods #MegaWarehouses #MegaSheds #FulfillmentCentres #roads #HS2 #Universities  #GreedyPropertyDevelopers  #TheChurch  #rewilding  We will all #starve  We'll have #Things #qualifications our #religion but no #food #water @JustinWelby @CottrellStephen  https://t.co/k0wesjfnA0['https://pbs.twimg.com/media/E0X7pMZWUAICgsF.jpg']\",\n",
              " 'Louisiana flash #FLOODS prompt state of emergency  https://t.co/P0nwNXoOpy #GPWX[]',\n",
              " \"#Venezuela: An unknown number of casualties and damage to infrastructure have been caused by #floods and heavy rains in #Merida state (western Venezuela) since late April.  In Tulio Febres Cordero, +1,700 people have been affected & 100 buildings damaged  https://t.co/ygW8qvC3AZ  https://t.co/WhN6CWAFtl['https://pbs.twimg.com/media/E1CLKVGWQAIfMh8.jpg']\",\n",
              " '🇬🇹#Guatemala #Floods  Flooding has occurred in the departments of #Alta and #Baja #Verapaz due to heavy rain and strong winds (central Guatemala). According to the Guatemalan National Coordination for Disaster Reduction (CONRED @ConredGuatemala),[]',\n",
              " '\"In the past several years #NC has spent billions recovering and rebuilding from #floods–the costliest type of natural disaster. What will #NCGA legislate this session for #mitigation?  https://t.co/nrWaHEtDq8[]',\n",
              " 'John Kerry @ClimateEnvoy @JohnKerry #JohnKerry discusses #relationship between #climatechange and #security  https://t.co/Yt43bsytVe via @Harvard #Climateaction #LeadersClimateSummit #floods #drought #population #disease #Climatecrisis #climaterefugees #food #Biden #cop21 #cop21[]']"
            ]
          },
          "metadata": {
            "tags": []
          },
          "execution_count": 12
        }
      ]
    },
    {
      "cell_type": "markdown",
      "metadata": {
        "id": "jMykkN0Sdjuz"
      },
      "source": [
        "This looks better!"
      ]
    },
    {
      "cell_type": "markdown",
      "metadata": {
        "id": "xtufVFewS_4y"
      },
      "source": [
        "# Data sampling\n",
        "\n",
        "## Training data for NLP classifiers\n",
        "\n",
        "We want to make sure our data is representative of real-world data and includes several countries. We also need to make sure our tags are balanced. For this, we have to look at the distribution of the different features first. After that, we will try to get a representative subset of the data."
      ]
    },
    {
      "cell_type": "code",
      "metadata": {
        "colab": {
          "base_uri": "https://localhost:8080/"
        },
        "id": "dpOXTdPxT5pO",
        "outputId": "02ab2d0c-b32d-4ef4-fb05-a9279fe9fe2e"
      },
      "source": [
        "d3['country'].value_counts()"
      ],
      "execution_count": null,
      "outputs": [
        {
          "output_type": "execute_result",
          "data": {
            "text/plain": [
              "Jamaica      194\n",
              "Australia    137\n",
              "USA           27\n",
              "Bolivia       23\n",
              "India         13\n",
              "Cuba           7\n",
              "Argentina      4\n",
              "Kenya          1\n",
              "Name: country, dtype: int64"
            ]
          },
          "metadata": {
            "tags": []
          },
          "execution_count": 13
        }
      ]
    },
    {
      "cell_type": "markdown",
      "metadata": {
        "id": "FAhA6v6iSTp6"
      },
      "source": [
        "As we so above, our Twitter data set has a strong bias towards Jamaica and Australia. Unfortunately, we don't have a lot of data available from other countries, so this will be tricky to fix without creating a new data set.\n",
        "\n",
        "Let's also see how many tweets are not assigned to a country."
      ]
    },
    {
      "cell_type": "code",
      "metadata": {
        "colab": {
          "base_uri": "https://localhost:8080/"
        },
        "id": "ed3ALA9aPihF",
        "outputId": "ce1d5388-0289-498a-ed92-e27b6331a142"
      },
      "source": [
        "print('{}/{} tweets without country'.format(d3['country'].isna().sum(), len(d3)))"
      ],
      "execution_count": null,
      "outputs": [
        {
          "output_type": "stream",
          "text": [
            "834/1240 tweets without country\n"
          ],
          "name": "stdout"
        }
      ]
    },
    {
      "cell_type": "markdown",
      "metadata": {
        "id": "Ji_6YJ7CU0Wy"
      },
      "source": [
        "That's the majority by far. Not much we can do about this. 🤷\n",
        "\n",
        "Let's also look at the distribution of tags."
      ]
    },
    {
      "cell_type": "code",
      "metadata": {
        "colab": {
          "base_uri": "https://localhost:8080/"
        },
        "id": "cAgUtOYfVw44",
        "outputId": "9bc454fa-553d-4d63-f632-7f74f6cbc3ac"
      },
      "source": [
        "d3['category'].value_counts()"
      ],
      "execution_count": null,
      "outputs": [
        {
          "output_type": "execute_result",
          "data": {
            "text/plain": [
              "none                 646\n",
              "flood                523\n",
              "drought               42\n",
              "flood_and_drought     29\n",
              "Name: category, dtype: int64"
            ]
          },
          "metadata": {
            "tags": []
          },
          "execution_count": 15
        }
      ]
    },
    {
      "cell_type": "markdown",
      "metadata": {
        "id": "FTa4hKMQV-S9"
      },
      "source": [
        "**The good news:** We have about as many tweets about disasters as tweets about something else! This is well balanced.\n",
        "\n",
        "**The bad news:** There is not a lot of tweets about droughts. One \"trick\" is to use the `flood_and_drought` tweets as `drought` tweets to get more data.\n",
        "\n",
        "The [original plan](https://docs.google.com/document/d/1T-M0vwf9Xq5AYMlO6a1qPueqtnVfs0lNvlLFTMldjMY/edit?usp=sharing) was to get 200 tweets for each tag (`none`, `flood`, `drought`), but there is not that many tweets for droughts. We will just have to use all that is available.\n",
        "\n",
        "To make the random samples reproducible, we will explicitely manage the state of the random number generator.\n",
        "\n",
        "**Why not use all available tweets?** We want to avoid to have biased training data, so it's good to avoid having a lot of tweets from the same time period, about the same event, or from the same user. The easiest way to do that is to take a random subset, because this way it is unlikely to have a lot of similar tweets. It makes our training data less dependent on the details of how the tweets were scraped."
      ]
    },
    {
      "cell_type": "code",
      "metadata": {
        "id": "VcE3STt2eY5A"
      },
      "source": [
        "import numpy as np\n",
        "rng = np.random.default_rng(42).bit_generator  # change to a different number to get different samples\n",
        "\n",
        "sample_none = d3[d3['category'] == 'none'].sample(200, random_state=rng)\n",
        "sample_flood = d3[d3['category'] == 'flood'].sample(200, random_state=rng)\n",
        "sample_drought = d3[(d3['category'] == 'drought') | (d3['category'] == 'flood_and_drought')]"
      ],
      "execution_count": null,
      "outputs": []
    },
    {
      "cell_type": "code",
      "metadata": {
        "colab": {
          "base_uri": "https://localhost:8080/"
        },
        "id": "uHucvla-gRIe",
        "outputId": "0f546426-597f-474d-ca32-d2b0f31a0148"
      },
      "source": [
        "sample_none['country'].value_counts()"
      ],
      "execution_count": null,
      "outputs": [
        {
          "output_type": "execute_result",
          "data": {
            "text/plain": [
              "Jamaica      57\n",
              "Australia    25\n",
              "Bolivia       7\n",
              "Argentina     3\n",
              "USA           1\n",
              "Name: country, dtype: int64"
            ]
          },
          "metadata": {
            "tags": []
          },
          "execution_count": 17
        }
      ]
    },
    {
      "cell_type": "code",
      "metadata": {
        "colab": {
          "base_uri": "https://localhost:8080/"
        },
        "id": "sswaZozjgwVy",
        "outputId": "84d7a032-3a53-4886-82f5-3e9091add01b"
      },
      "source": [
        "sample_flood['country'].value_counts()"
      ],
      "execution_count": null,
      "outputs": [
        {
          "output_type": "execute_result",
          "data": {
            "text/plain": [
              "Jamaica    11\n",
              "USA         7\n",
              "India       3\n",
              "Cuba        1\n",
              "Name: country, dtype: int64"
            ]
          },
          "metadata": {
            "tags": []
          },
          "execution_count": 18
        }
      ]
    },
    {
      "cell_type": "code",
      "metadata": {
        "colab": {
          "base_uri": "https://localhost:8080/"
        },
        "id": "U9JhlJu8g3HY",
        "outputId": "acc00f94-4b67-470e-dd43-872e5a15c14f"
      },
      "source": [
        "sample_drought['country'].value_counts()"
      ],
      "execution_count": null,
      "outputs": [
        {
          "output_type": "execute_result",
          "data": {
            "text/plain": [
              "Australia    44\n",
              "USA           1\n",
              "Name: country, dtype: int64"
            ]
          },
          "metadata": {
            "tags": []
          },
          "execution_count": 19
        }
      ]
    },
    {
      "cell_type": "markdown",
      "metadata": {
        "id": "vgzBEcDJhJ_q"
      },
      "source": [
        "* For all our samples, the majority is without country, as expected.\n",
        "* A lot of our drought samples are from Australia. Unfortunately, our data set contains almost no drought tweets assigned to other countries, so we cannot do anything about this without collecting and tagging a new data set.\n",
        "* For the floods, Jamaica and the USA are most represented. We could try to get more of the other countries, but the majority of the tweets does not have a country assigned anyway. Let's see whether this is feasible:\n"
      ]
    },
    {
      "cell_type": "code",
      "metadata": {
        "colab": {
          "base_uri": "https://localhost:8080/"
        },
        "id": "VR45XBs4kaVL",
        "outputId": "a000f525-1217-414b-e0e0-57fbd77d32f2"
      },
      "source": [
        "d3[d3['category'] == 'flood']['country'].value_counts()"
      ],
      "execution_count": null,
      "outputs": [
        {
          "output_type": "execute_result",
          "data": {
            "text/plain": [
              "Jamaica    29\n",
              "USA        23\n",
              "Bolivia     9\n",
              "Cuba        6\n",
              "India       3\n",
              "Name: country, dtype: int64"
            ]
          },
          "metadata": {
            "tags": []
          },
          "execution_count": 20
        }
      ]
    },
    {
      "cell_type": "markdown",
      "metadata": {
        "id": "bbw99jFXln-l"
      },
      "source": [
        "We would have to use **all** the data from the other countries to make the sample more balanced. Let's just leave the sample as it is."
      ]
    },
    {
      "cell_type": "code",
      "metadata": {
        "colab": {
          "base_uri": "https://localhost:8080/"
        },
        "id": "K8zcXTd4ockQ",
        "outputId": "17636ff3-fa2f-46b1-c13d-bcbf31dd913e"
      },
      "source": [
        "list(sample_drought.body)"
      ],
      "execution_count": null,
      "outputs": [
        {
          "output_type": "execute_result",
          "data": {
            "text/plain": [
              "['#climate change impacts here already with #drought the #bushfires from August 2019 - March 2020 then #floods we need a plan for #NetZeroEmissions[]',\n",
              " \"🧵: This is Thirst in a River Basin, an interactive  #InfoMap 🌍that pinpoints the areas most vulnerable to changing #rainfall and runoff patterns - factors that contribute to #droughts and #floods - and those already facing 💧 #water scarcity in the Nile.  https://t.co/gOZUu08Gxa  https://t.co/uaDstL349p['https://pbs.twimg.com/media/E1LCXHmXoAM1J_9.jpg']\",\n",
              " \"@farmercate2 @LucyThack @samheagney @LiberalAus And just as we have needed help with #drought, #bushfires, #floods (haven't got it but need it!) so too do you need help. And this is a problem which will only get worse without radical, cohesive, concerted help - a plan, systematic eradication[]\",\n",
              " 'World’s biggest tea-growing areas will be among the worst hit by #extremeweather, and their yields are likely to be vastly reduced in the coming decades if #climatebreakdown continues at its current pace. #Floods, #droughts, #heatw… https://t.co/lCWuukDAbS  https://t.co/SUtupViBIu[]',\n",
              " \"Opinion piece: What’s worse than a pandemic? A pandemic combined with #drought, natural disaster, violent conflict, and/or structural inequality. We need better ways to tackle these compound risks:  https://t.co/A43W48ds0v #COVID19 #Earthquake #Hurricane #Floods #ClimateChange  https://t.co/XUJXNbllat['https://pbs.twimg.com/media/E1H0s6YXEAIRP6h.jpg']\",\n",
              " '#Streamflow matters because the extremes, too much (#floods) or too little (#droughts), have big impacts for humans & #ecosystems.  How is #streamflow measured? Explore the details in this @observablehq interactive #dataviz by @USGS ecologist Ben Letcher   https://t.co/k8FoOaOyy2[]',\n",
              " \"Conservatives wont ever talk about #climatechange or that the severity of #droughts #bushfires #floods has increased because #fossilfuels have driven it. But I will. Our young ones are terrified about the future & I will always stand up for them #IHearYou #upperhuntervotes  https://t.co/55icSrL6jF['https://pbs.twimg.com/media/E08MaKVVoAALDBj.jpg']\",\n",
              " \"As if #Yemen weren't already facing #humanitarian crises: #foodinsecurity, possible #famine, now there's #floods[]\",\n",
              " \"The 6th #ECCA2021 webinar on 7 June (13.30-16.00h CEST) is about #climate #action exchange – sharing #knowledge of what works across the EU: from #droughts to #floods, from hotter summers to green winters, how climate change affects #Southeast of Europe:   https://t.co/qCNOENBxLT  https://t.co/z1xVtSzN4P['https://pbs.twimg.com/media/E0xql2ZWYAIzu_b.jpg']\",\n",
              " \"@soldier3200 @Kenneth72712993 @ClimateRealists I mean, the #ClimateEmergency, unmitigated, is predicted to cause extreme food insecurity. A lot of places won’t be able to grow food bc of #HeatWaves, #droughts, and #floods. They’re actively warning us about that.  https://t.co/hulZM6HdUR so I dunno.  https://t.co/0ceLcN3Eti['https://pbs.twimg.com/media/E0vhigjVUAEnk9d.jpg']\",\n",
              " \"Between #floods & #droughts Somalia can't seem to get a break! Sustainable Development instead of band-aid solution! Resources, policies & procedure that tackle & prevent these environmental crises is what is needed 😢[]\",\n",
              " 'We are in between two risks #Floods and recurrent #Droughts but all these need sustainable actions to mitigate floods and harsh droughts.[]',\n",
              " 'Some of our team are here all week to chat to primary producers and other visitors about #AustralianGovernment support for people impacted by #drought, #floods, #bushfires and other challenges. If you’re at Beef Week, be sure to visit us at the Sidney Kidman pavilion, stall 28.[]',\n",
              " \"#rain #dry #floods #drought #minimum After a near-record wet March in the south-east, we've just had a near-record dry April - ABC News  https://t.co/ttG8iJ9qwL[]\",\n",
              " '#ClimateChange is leading to unpredictable rainfall in Djibouti, with devastating droughts and floods both on the rise. For Tadjourah, the #floods are wreaking havoc on #infrastructure and farming, perpetuating widespread poverty and #FoodInsecurity.  https://t.co/8QDELCsfpQ[]',\n",
              " '#extremeweather #bushfires #floods #drought #climateimpacts... #logging.  One of these threats is not like the others. @LilyDAmbrosioMP Strengthen old tree protections   ‘Living giants’: Conservationists urge government to protect oldest and largest trees  https://t.co/cLsGgZ38QS[]',\n",
              " \"Droughts, #floods, & landslides have altered the balance of the #water cycle in Andean countries.  An initiative supported by @theGEF & @AgendaCAF seeks to build solid foundations to protect the future of water for the #Andes.  ⛰️ https://t.co/Zbqxi07leu  https://t.co/Wwhl93nENC['https://pbs.twimg.com/media/E0Irm3CXIAQQk8H.jpg']\",\n",
              " 'Extreme #FLOODS and snow could be bringing #DROUGHT relief to CA  https://t.co/mlQqdshkl4[]',\n",
              " 'In the past 21 years the Horn of #Africa has faced 10 years of #drought. Because of the #ClimateCrisis. They’ve also faced #floods tht destroyed their #homes and #crops, their #wells and #water holes have dried up, and they’ve been #battered by #hurricanes.[]',\n",
              " \"A conference on #climate change adaptation has convened in Jigjiga city of Ethiopia's #Somali region today.The conference, attended by representatives of horn and east #African governments will focus on the recurring #droughts and #floods caused by climate change.#ERGO #news[]\",\n",
              " \"#Forests can be managed to mitigate the negative effects of climate change on water resources and ecosystems, as well as ensure a safe and clean water supply and reduced risk of #floods and #droughts!  https://t.co/Bbh89y8CoU['https://pbs.twimg.com/media/Ezfin1qXsAAUQ3x.jpg']\",\n",
              " '@BlaneyCarola @DubCityCouncil @DCCParks_Biodiv @PollinatorPlan @whittledaway @AllPeopleAllNa1 Could be the weird weather,continuous #Frosts in #April  5 nights without #frost how can #insects #bees #honeybees #bumblebees #butterflies cope with our #rollercoaster weather     #floods #drought must be the reason for their decline. #overdevelopment abuse of everything #Green[]',\n",
              " '#Scotty’s #FossilFuelScam needs to end, not due to #democracy or popultn’s terror in facg excesses of #ClimateEmergency like #ApocalypticFires, devastatg #floods, extended #droughts.   No.#USA is serious about action & #LNPCorruptionParty arenot. Scrutinsd by real media, #TimesUp[]',\n",
              " 'After a long \"dry spell\" (mostly drought-related work).....we switched to some flooding.....  Extreme Floods in the Eastern Part of Europe: Large-Scale Drivers and Associated Impacts ##mdpiwater via @Water_MDPI @AWI_Media   https://t.co/nmrvjiH5MY #floods #Romania[]',\n",
              " '🆘 Drought Is Consuming the Western U.S., but #Water Technologies May Offer Lifelines. Eternal #droughts and biblical #floods have gained intensity last century. #ClimateChange projections for region from Texas to California present a stark water picture  https://t.co/d4fR8lzSwe[]',\n",
              " \"MORE RAIN. And #FLOODS, and DROUGHT.  He'll start KILLING OFF YOUR ANIMALS!  #FIRE on the West Coast   WATER on the East Coast.  And AS the oceans RISE, curtailing America on her sides. He will PUSH THE PEOPLE IN FROM ALL THE COASTLINES into the CENTER of the Country. What...  https://t.co/iMG7DcVbT9['https://pbs.twimg.com/media/Eyr9xFNXMAAli6z.jpg']\",\n",
              " '...to the detriment of the continent. #Africa cannot afford to relent on #ClimateChange response. #Hunger, #famine, #floods and #droughts waiting around the corner[]',\n",
              " \"It would relieve drought and the bushfire problem in Australia. It would provide clean hydro-electric electricity supply and breathe new life into many outback towns down the rivers.  https://t.co/ZfuCjtbqCw['https://pbs.twimg.com/media/E3MBtQYVgAMx3sb.jpg']\",\n",
              " 'The Drought Is Making the Klamath River’s Baby Salmon Sick : #analytics #googleads #facebookads  https://t.co/MZcrPpbIJI[]',\n",
              " 'D_LittleproudMP description change: \"Member for Maranoa, advocate for rural communities. Federal Minister for Agriculture, Drought and Emergency Management. Deputy Leader of The Nationals.\" to  https://t.co/vMZsD8XoqF[]',\n",
              " 'Flooding and drought fuels mental health crisis in Kenya  https://t.co/w5GFrSrW7i via @circleboom[]',\n",
              " 'Via @MorningBrew \"The latest shortage hitting the American West? Water. And while Chick-fil-A sauce & semiconductors are important for a functioning economy, this year\\'s historic drought in the West could affect—and we do mean this—literally everything.\"  https://t.co/NiVNDIM4lJ[]',\n",
              " 'Setting fire to rainforests has been a method farmers have been using to clear land in Brazil for decades, but now because of drought conditions that have been affecting Brazil, they are burning hotter, longer and faster, Allen said.[]',\n",
              " \"@automotophoto Global warming and the drought that will never end. Heard a lot about that 15 years ago in Oz. Now it's climate change and we are drowning in freezing conditions!![]\",\n",
              " \"#Choiwan moving toward Yaeyamas has brought needed rain to Taiwan’s drought conditions - 200+mm. 65kph (10min) winds should prevail as system moves through Ryukyu Arc Waters  https://t.co/VISs7U1Man['https://pbs.twimg.com/media/E3EkbTaVIAAbpbn.jpg', 'https://pbs.twimg.com/media/E3EkbTeVUAAX0Cy.jpg', 'https://pbs.twimg.com/media/E3EkbTgVcAAe7sl.jpg', 'https://pbs.twimg.com/media/E3EkbTiVEAMBCxU.jpg']\",\n",
              " 'After years of drought, #farmers in the #Riverina region were hoping to enjoy a bumper #rice harvest this year. But the #mouseplague is threatening to destroy their hard work.   https://t.co/y7BVeW1a0h[]',\n",
              " 'Empathy Consultant by the LNP Federal Government to help with their dealings with farmers suffering through an horrific drought. The guest made the claim this Consultant resigned when Morrison went on his Hawaiian holiday. Does anyone know about this?[]',\n",
              " '3 typhoons buffeted China’s main corn belt late Aug early Sept 2020, \"flattening plants and flooding fields just as the corn crop reached maturity.” China still buying up grain 05/21. Much of US & Brazil currently in drought. Climate change? #foodsecurity  https://t.co/JUaiNjLJvL[]',\n",
              " \"I hope Australia doesn't have an extreme climatic event like this 39 year drought, no industrial revolution in those day's.[]\",\n",
              " '@JulieCollinsMP There was a much louder no, what gives? This is serious, Australian farmers are already struggling due to drought! Now they have to deal with plagues of mice too! They need help, it’s not likely to come from the LNP![]',\n",
              " \"Respect must be earned, and @ScottMorrisonMP 's shown nothing but disdain for the Australian people!! #Bushfires #TaxBreaks #Rorts #Corruption #ConflictOfInterest #COVID19 #JobSeeker #JobKeeper #Drought #ClimateChange #JennysPA #Higgins #AllegedRapistChristianPorter #AUSPOL[]\",\n",
              " '@davidbewart The National party are only there for mining interests, remember the drought and bushfires and now the trade war with China that they support[]',\n",
              " \"In Kenya, @WorldVision is working with communities to buffer against drought in some of the driest environments by restoring tree cover along riverbanks & using low-cost technologies to retain rainwater & recharge groundwater. #GenerationRestoration and #WorldEnvironmentDay  https://t.co/0Ufdxdf4jX['https://pbs.twimg.com/media/E26ViLkVcAIsLvw.jpg', 'https://pbs.twimg.com/media/E26VlkEUcAQt-Mu.jpg']\",\n",
              " '\"Diplomats, UN officials and humanitarian organizations are increasingly alarmed by water scarcity and drought conditions in northeastern Syria, warning that it could negatively affect agriculture and food security.\"   https://t.co/7SpZQRZI4l[]',\n",
              " \"Cattle prices across the globe continue to soar while in Australia, low herd numbers and drought has led to a disruption in the country's cattle market. via  @TradeFarmAU   https://t.co/ziMTHdhIcc[]\",\n",
              " \"@PatsKarvelas Hmmm, God was said to have caused the plagues of Egypt... but they are drought plagues....and the peoples were worshiping the Sun back then ATEN / AMON RA. and it didn't end well for new the born children - water quality.[]\",\n",
              " 'CSIRO predicts more drought, drastic drop in Murray-Darling basin water   https://t.co/f47UT7m7wU[]',\n",
              " \"Our team at Fisherman Islands, at @port_brisbane, have loaded their biggest ever vessel: 69,000 tonnes of #wheat bound for Vietnam.  Drought, floods and then mice - it hasn’t been easy for our team, but we’d like to thank everyone who worked hard to achieve this #milestone.  https://t.co/kNLE4s5mIL['https://pbs.twimg.com/media/E21mC3aUUAYgtux.jpg', 'https://pbs.twimg.com/media/E21mC3YVoAAOYRX.jpg']\",\n",
              " 'It is time @ScottMorrisonMP to step up on climate policy – as the government meets to discuss this, remember the #bushfires #floods #heatwaves and #drought and commit to a 1.5 degree path for Australia #auspol[]',\n",
              " \"@NickEggleton @AlboMP Panicking Nana's? You have got to be joking! The collapse of responsibility, of action, of integrity in this govt is nothing short of mind blowing. From drought, fire, flood, covid its all failures. All Morriscum does is less speed, no delivery. Labor is the only way forward.[]\",\n",
              " 'The tactical masterstroke that ended Australia’s Super Rugby drought | Bret Harris  https://t.co/yLErYtcE7M[]',\n",
              " \"@DavidHuett @yvonne_rieper Farmers whinge about how city people don't know how tough it is in the bush then ask them for handouts when there a drought or a bushfire. They think everyone in the city is a millionaire yet most farmers are much richer. I'm so over it and yes - I'm originally from the bush.[]\",\n",
              " \"@jjjove @GemmaRaphael He believes he is in the 'Rapture' - fires,  drought, floods,  plagues (mouse), pestilence (covid). Also the situation in Israel and Gaza is fulfilling end-time prophecies. If you're saved you're going to Heaven. The rest of us are going to Hell - See you all there![]\",\n",
              " '‘Second COVID’: Drought in Taiwan triggers Aussie chip crisis  https://t.co/e1WFdchDZh[]',\n",
              " '@leviathanch How will \"China rule the world\" when part of it is undergoing severe drought, another part where there\\'s the potential of dams breaking & flooding & it cannot even feed itself? Not to mention the earthquakes that aren\\'t reported. I could go on...[]',\n",
              " 'Cattle Breed Breakdowns - Hereford \"The largest jump in prices for a single Hereford category since the depths of the drought in 2019 was for PTIC cows, which averaged $2,430 head in 2021 – up 191% over the two-year period.\" #MarketPulse  https://t.co/xGtOCr5CF8  @HerefordsAust[]',\n",
              " '@FuturesWise @ResearchOceanic This is just the beginning. With 83% of California now in drought, the potential for even more catastrophic fires and forest destruction is far greater than ever. Climate Crisis demands the best leadership the world can offer.[]',\n",
              " '@dbirch214 @Ho_My_Face And it’s always been like that in Australia.  We are a land of droughts and flooding rain.  A very famous Australian poet, Dorothy Mackellar did a famous poem circa 1909, post the Federation Drought, (pre climate hysteria) called ‘My Country”.   https://t.co/c5g5WhpReh[]',\n",
              " '@NativeLithium @ozmining @CaterpillarInc Sounds like Australia, we have had some wild extremes of drought, bushfires and flooding. Even now we had record cold nights in May due to the clear autumn skies Lots of uses for boron! I drive an EV & appreciate the need for lithium, copper etc Q is can we mine & recycle better?[]',\n",
              " 'How the Taiwan drought means you can’t have a new smart TV #Electronics #components #processors #InformationTechnology #manufacturing #factorys  https://t.co/pmSWWN0bIX[]',\n",
              " \"The chips that drive your #smartphones, #laptops and #cars need lots of water.  Taiwan’s crippling #drought is hitting the world’s #electronics supply.  Read more about the drought that's affecting cars and gadgets in #Australia.   https://t.co/Ru0MdNtUyn[]\",\n",
              " '@peters_malcolm @RonniSalt Hay run needed. To #Sydney and #Canberra to help out with their #mouse #drought.[]',\n",
              " 'Taiwan’s “greatest economic asset, climate researchers in Taipei have warned, is contributing to global warming that threatens to push typhoons away from the north-western Pacific Ocean, creating conditions for drought.”  https://t.co/3wWshhWrFc[]',\n",
              " 'Drought Taking Big Toll on Big Bear Lake | NBCLA  https://t.co/XTUTOl0RsR via @YouTube[]',\n",
              " 'The Western U.S. had drought cycles aligned by our algorithms. TX was quite dry till recently where it has had significant rainfall pushing its totals above average for the year. The Dakotas which are in drought now, have better rainfall cycles for the last half of 2021.[]',\n",
              " 'Queensland drought status barely changed  https://t.co/vFeFNeYhF2[]',\n",
              " 'Great Northern Australia Drought locking in with the Great Southern Drought!  https://t.co/l0qbRYenga[]',\n",
              " 'Why Taiwan’s drought means you can’t have a new smart TV  https://t.co/HVx6SlAUDz[]',\n",
              " \"'California faces another drought as lake beds turn to dust – a photo essay' So depressing, we need to act much faster on emissions.  #ClimateCrisis   https://t.co/jpvr3PKW6m[]\",\n",
              " \"Shadow of Drought: Southern California's Looming Water Crisis  https://t.co/gLpcqChQTq via @YouTube[]\",\n",
              " 'Australia has had DROUGHT,  FLOOD,  BUSHFIRES, COVID  PANDEMIC, JUST in these PAST 3 YEARS, but hey, #ScottyFromMarketing HAS made over $400 million in INTEREST, because #ScottyDoesNothing.  !!!  #auspol[]']"
            ]
          },
          "metadata": {
            "tags": []
          },
          "execution_count": 21
        }
      ]
    },
    {
      "cell_type": "markdown",
      "metadata": {
        "id": "pxuWgvQGMKVr"
      },
      "source": [
        "Finally, we can combine our three samples into one and download it as a CSV file."
      ]
    },
    {
      "cell_type": "code",
      "metadata": {
        "colab": {
          "base_uri": "https://localhost:8080/",
          "height": 17
        },
        "id": "obDnZLsTMWQC",
        "outputId": "3779e822-3f4c-4b12-9a09-5ad201b2c2a4"
      },
      "source": [
        "sample_classifier = pd.concat([sample_none, sample_flood, sample_drought])\n",
        "sample_classifier.to_csv('twitter_classifier_v1.csv')\n",
        "files.download('twitter_classifier_v1.csv')"
      ],
      "execution_count": null,
      "outputs": [
        {
          "output_type": "display_data",
          "data": {
            "application/javascript": [
              "\n",
              "    async function download(id, filename, size) {\n",
              "      if (!google.colab.kernel.accessAllowed) {\n",
              "        return;\n",
              "      }\n",
              "      const div = document.createElement('div');\n",
              "      const label = document.createElement('label');\n",
              "      label.textContent = `Downloading \"${filename}\": `;\n",
              "      div.appendChild(label);\n",
              "      const progress = document.createElement('progress');\n",
              "      progress.max = size;\n",
              "      div.appendChild(progress);\n",
              "      document.body.appendChild(div);\n",
              "\n",
              "      const buffers = [];\n",
              "      let downloaded = 0;\n",
              "\n",
              "      const channel = await google.colab.kernel.comms.open(id);\n",
              "      // Send a message to notify the kernel that we're ready.\n",
              "      channel.send({})\n",
              "\n",
              "      for await (const message of channel.messages) {\n",
              "        // Send a message to notify the kernel that we're ready.\n",
              "        channel.send({})\n",
              "        if (message.buffers) {\n",
              "          for (const buffer of message.buffers) {\n",
              "            buffers.push(buffer);\n",
              "            downloaded += buffer.byteLength;\n",
              "            progress.value = downloaded;\n",
              "          }\n",
              "        }\n",
              "      }\n",
              "      const blob = new Blob(buffers, {type: 'application/binary'});\n",
              "      const a = document.createElement('a');\n",
              "      a.href = window.URL.createObjectURL(blob);\n",
              "      a.download = filename;\n",
              "      div.appendChild(a);\n",
              "      a.click();\n",
              "      div.remove();\n",
              "    }\n",
              "  "
            ],
            "text/plain": [
              "<IPython.core.display.Javascript object>"
            ]
          },
          "metadata": {
            "tags": []
          }
        },
        {
          "output_type": "display_data",
          "data": {
            "application/javascript": [
              "download(\"download_21696fb6-717c-42e3-9260-c4c0b6d1d5aa\", \"twitter_classifier_v1.csv\", 182087)"
            ],
            "text/plain": [
              "<IPython.core.display.Javascript object>"
            ]
          },
          "metadata": {
            "tags": []
          }
        }
      ]
    },
    {
      "cell_type": "markdown",
      "metadata": {
        "id": "me_xgLRjprwB"
      },
      "source": [
        "# Test data for geoparsing\n",
        "\n",
        "We need tweets with and without geographic locations to evaluate the different geoparsing approaches. Because the comparison is manual, it should be enough to find 5 tweets without and 15 tweets with a geographical location. Additionally, it would be good to only have tweets that are about floods or droughts in the test data set, because this is what we are interested in the end.\n",
        "\n",
        "Let's just look at them and pick suitable ones."
      ]
    },
    {
      "cell_type": "code",
      "metadata": {
        "colab": {
          "base_uri": "https://localhost:8080/",
          "height": 17
        },
        "id": "aubUWMevqtpb",
        "outputId": "3b15318b-7c71-4ca6-ffc4-5b2e72be4567"
      },
      "source": [
        "droughts = d3[d3['category'] == 'drought']\n",
        "# Manually pick some appropriate tweets\n",
        "# (those indexes only work if you are using the same dataframes)\n",
        "floods_with_loc = sample_flood.iloc[[6, 7, 14, 15, 17, 21, 23, 30, 34, 36, 43, 56, 58, 64, 76, 80, 85, 92, 108, 149, 190]]\n",
        "floods_without_loc = sample_flood.iloc[[74, 106, 124, 131]]\n",
        "droughts_with_loc = droughts.iloc[[3, 6, 9, 12, 30]]\n",
        "droughts_without_loc = droughts.iloc[[15, 22]]\n",
        "sample_geo = pd.concat([floods_with_loc.iloc[:10], floods_without_loc.iloc[:3],\n",
        "                        droughts_with_loc.iloc[:5], droughts_without_loc.iloc[:2]])\n",
        "sample_geo.to_csv('twitter_geo_v1.csv')\n",
        "files.download('twitter_geo_v1.csv')"
      ],
      "execution_count": null,
      "outputs": [
        {
          "output_type": "display_data",
          "data": {
            "application/javascript": [
              "\n",
              "    async function download(id, filename, size) {\n",
              "      if (!google.colab.kernel.accessAllowed) {\n",
              "        return;\n",
              "      }\n",
              "      const div = document.createElement('div');\n",
              "      const label = document.createElement('label');\n",
              "      label.textContent = `Downloading \"${filename}\": `;\n",
              "      div.appendChild(label);\n",
              "      const progress = document.createElement('progress');\n",
              "      progress.max = size;\n",
              "      div.appendChild(progress);\n",
              "      document.body.appendChild(div);\n",
              "\n",
              "      const buffers = [];\n",
              "      let downloaded = 0;\n",
              "\n",
              "      const channel = await google.colab.kernel.comms.open(id);\n",
              "      // Send a message to notify the kernel that we're ready.\n",
              "      channel.send({})\n",
              "\n",
              "      for await (const message of channel.messages) {\n",
              "        // Send a message to notify the kernel that we're ready.\n",
              "        channel.send({})\n",
              "        if (message.buffers) {\n",
              "          for (const buffer of message.buffers) {\n",
              "            buffers.push(buffer);\n",
              "            downloaded += buffer.byteLength;\n",
              "            progress.value = downloaded;\n",
              "          }\n",
              "        }\n",
              "      }\n",
              "      const blob = new Blob(buffers, {type: 'application/binary'});\n",
              "      const a = document.createElement('a');\n",
              "      a.href = window.URL.createObjectURL(blob);\n",
              "      a.download = filename;\n",
              "      div.appendChild(a);\n",
              "      a.click();\n",
              "      div.remove();\n",
              "    }\n",
              "  "
            ],
            "text/plain": [
              "<IPython.core.display.Javascript object>"
            ]
          },
          "metadata": {
            "tags": []
          }
        },
        {
          "output_type": "display_data",
          "data": {
            "application/javascript": [
              "download(\"download_56eb63c6-074e-4c64-8579-e4ec1bf32675\", \"twitter_geo_v1.csv\", 6449)"
            ],
            "text/plain": [
              "<IPython.core.display.Javascript object>"
            ]
          },
          "metadata": {
            "tags": []
          }
        }
      ]
    }
  ]
}