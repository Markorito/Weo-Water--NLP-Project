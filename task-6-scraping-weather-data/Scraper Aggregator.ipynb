{
 "cells": [
  {
   "cell_type": "markdown",
   "metadata": {},
   "source": [
    "# Scraper Aggregator\n",
    "\n",
    "The file will call each scraper individually. We can copy this into a .py file for final implementation, but will keep it in a .ipynb file for ease of dubugging and collaborating to start"
   ]
  },
  {
   "cell_type": "markdown",
   "metadata": {},
   "source": [
    "### Example"
   ]
  },
  {
   "cell_type": "code",
   "execution_count": 1,
   "metadata": {},
   "outputs": [
    {
     "name": "stdout",
     "output_type": "stream",
     "text": [
      "Example_scrape failed\n"
     ]
    }
   ],
   "source": [
    "#import function from scraper folder and file (see scraper folder for example file structure)\n",
    "try:\n",
    "    from scrapers import Example_scrape\n",
    "    Example_scrap()\n",
    "except:\n",
    "    print('Example_scrape failed')"
   ]
  },
  {
   "cell_type": "code",
   "execution_count": 2,
   "metadata": {},
   "outputs": [
    {
     "name": "stdout",
     "output_type": "stream",
     "text": [
      "Hello World\n"
     ]
    }
   ],
   "source": [
    "#import function from scraper folder and file\n",
    "try:\n",
    "    from scrapers import Example_scrape\n",
    "    Example_scrape()\n",
    "except:\n",
    "    print('Example_scrape failed')"
   ]
  },
  {
   "cell_type": "code",
   "execution_count": 3,
   "metadata": {},
   "outputs": [],
   "source": [
    "import datetime as dt\n",
    "import pandas as pd\n",
    "import time"
   ]
  },
  {
   "cell_type": "markdown",
   "metadata": {},
   "source": [
    "# Inputs"
   ]
  },
  {
   "cell_type": "code",
   "execution_count": 4,
   "metadata": {},
   "outputs": [],
   "source": [
    "#Input values here\n",
    "#date as datetime object\n",
    "date = dt.datetime.today()\n",
    "\n",
    "#AND\n",
    "\n",
    "#longitude as numeric\n",
    "longitude = None\n",
    "#latitiude as numeric\n",
    "latitude = None\n",
    "\n",
    "#OR\n",
    "\n",
    "#location name as string\n",
    "location_name = 'cairo'\n",
    "\n",
    "output = pd.DataFrame()\n",
    "success = []\n",
    "errors = []"
   ]
  },
  {
   "cell_type": "markdown",
   "metadata": {},
   "source": [
    "# Scraping functions"
   ]
  },
  {
   "cell_type": "markdown",
   "metadata": {},
   "source": [
    "### OpenWeatherMap - Last 5 days"
   ]
  },
  {
   "cell_type": "code",
   "execution_count": 5,
   "metadata": {},
   "outputs": [],
   "source": [
    "#scraper only works for last 5 days\n",
    "if date > dt.datetime.today() - dt.timedelta(days=5):\n",
    "    try:\n",
    "        #import function from scraper folder and file\n",
    "        from scrapers import OpenWeatherMap_5days\n",
    "        #call function\n",
    "        openweather = OpenWeatherMap_5days(location_name=location_name, longitude=longitude, latitude=latitude, units='metric')\n",
    "        \n",
    "        success.append('OpenWeatherMap_scraper success')\n",
    "    except:\n",
    "        #create error statement for if there are issues\n",
    "        print('OpenWeatherMap_scraper failed')\n",
    "        errors.append('OpenWeatherMap_scraper failed')\n",
    "        \n",
    "output = pd.concat([output,openweather])"
   ]
  },
  {
   "cell_type": "code",
   "execution_count": 10,
   "metadata": {
    "scrolled": true
   },
   "outputs": [
    {
     "data": {
      "text/html": [
       "<div>\n",
       "<style scoped>\n",
       "    .dataframe tbody tr th:only-of-type {\n",
       "        vertical-align: middle;\n",
       "    }\n",
       "\n",
       "    .dataframe tbody tr th {\n",
       "        vertical-align: top;\n",
       "    }\n",
       "\n",
       "    .dataframe thead th {\n",
       "        text-align: right;\n",
       "    }\n",
       "</style>\n",
       "<table border=\"1\" class=\"dataframe\">\n",
       "  <thead>\n",
       "    <tr style=\"text-align: right;\">\n",
       "      <th></th>\n",
       "      <th>date</th>\n",
       "      <th>owm_longitude</th>\n",
       "      <th>owm_latitude</th>\n",
       "      <th>owm_temp</th>\n",
       "      <th>owm_weather_short</th>\n",
       "      <th>owm_weather_long</th>\n",
       "      <th>owm_rain</th>\n",
       "      <th>owm_snow</th>\n",
       "    </tr>\n",
       "  </thead>\n",
       "  <tbody>\n",
       "    <tr>\n",
       "      <th>0</th>\n",
       "      <td>2021-05-26 00:00:00</td>\n",
       "      <td>31.2357</td>\n",
       "      <td>30.0444</td>\n",
       "      <td>296.03</td>\n",
       "      <td>Clear</td>\n",
       "      <td>clear sky</td>\n",
       "      <td>0</td>\n",
       "      <td>0</td>\n",
       "    </tr>\n",
       "    <tr>\n",
       "      <th>1</th>\n",
       "      <td>2021-05-26 01:00:00</td>\n",
       "      <td>31.2357</td>\n",
       "      <td>30.0444</td>\n",
       "      <td>295.31</td>\n",
       "      <td>Clear</td>\n",
       "      <td>clear sky</td>\n",
       "      <td>0</td>\n",
       "      <td>0</td>\n",
       "    </tr>\n",
       "    <tr>\n",
       "      <th>2</th>\n",
       "      <td>2021-05-26 02:00:00</td>\n",
       "      <td>31.2357</td>\n",
       "      <td>30.0444</td>\n",
       "      <td>293.97</td>\n",
       "      <td>Clear</td>\n",
       "      <td>clear sky</td>\n",
       "      <td>0</td>\n",
       "      <td>0</td>\n",
       "    </tr>\n",
       "    <tr>\n",
       "      <th>3</th>\n",
       "      <td>2021-05-26 03:00:00</td>\n",
       "      <td>31.2357</td>\n",
       "      <td>30.0444</td>\n",
       "      <td>293.55</td>\n",
       "      <td>Clear</td>\n",
       "      <td>clear sky</td>\n",
       "      <td>0</td>\n",
       "      <td>0</td>\n",
       "    </tr>\n",
       "    <tr>\n",
       "      <th>4</th>\n",
       "      <td>2021-05-26 04:00:00</td>\n",
       "      <td>31.2357</td>\n",
       "      <td>30.0444</td>\n",
       "      <td>294.05</td>\n",
       "      <td>Clear</td>\n",
       "      <td>clear sky</td>\n",
       "      <td>0</td>\n",
       "      <td>0</td>\n",
       "    </tr>\n",
       "    <tr>\n",
       "      <th>...</th>\n",
       "      <td>...</td>\n",
       "      <td>...</td>\n",
       "      <td>...</td>\n",
       "      <td>...</td>\n",
       "      <td>...</td>\n",
       "      <td>...</td>\n",
       "      <td>...</td>\n",
       "      <td>...</td>\n",
       "    </tr>\n",
       "    <tr>\n",
       "      <th>19</th>\n",
       "      <td>2021-05-21 19:00:00</td>\n",
       "      <td>31.2357</td>\n",
       "      <td>30.0444</td>\n",
       "      <td>298.15</td>\n",
       "      <td>Clear</td>\n",
       "      <td>clear sky</td>\n",
       "      <td>0</td>\n",
       "      <td>0</td>\n",
       "    </tr>\n",
       "    <tr>\n",
       "      <th>20</th>\n",
       "      <td>2021-05-21 20:00:00</td>\n",
       "      <td>31.2357</td>\n",
       "      <td>30.0444</td>\n",
       "      <td>297.10</td>\n",
       "      <td>Clear</td>\n",
       "      <td>clear sky</td>\n",
       "      <td>0</td>\n",
       "      <td>0</td>\n",
       "    </tr>\n",
       "    <tr>\n",
       "      <th>21</th>\n",
       "      <td>2021-05-21 21:00:00</td>\n",
       "      <td>31.2357</td>\n",
       "      <td>30.0444</td>\n",
       "      <td>296.04</td>\n",
       "      <td>Clear</td>\n",
       "      <td>clear sky</td>\n",
       "      <td>0</td>\n",
       "      <td>0</td>\n",
       "    </tr>\n",
       "    <tr>\n",
       "      <th>22</th>\n",
       "      <td>2021-05-21 22:00:00</td>\n",
       "      <td>31.2357</td>\n",
       "      <td>30.0444</td>\n",
       "      <td>295.54</td>\n",
       "      <td>Clear</td>\n",
       "      <td>clear sky</td>\n",
       "      <td>0</td>\n",
       "      <td>0</td>\n",
       "    </tr>\n",
       "    <tr>\n",
       "      <th>23</th>\n",
       "      <td>2021-05-21 23:00:00</td>\n",
       "      <td>31.2357</td>\n",
       "      <td>30.0444</td>\n",
       "      <td>294.66</td>\n",
       "      <td>Clouds</td>\n",
       "      <td>scattered clouds</td>\n",
       "      <td>0</td>\n",
       "      <td>0</td>\n",
       "    </tr>\n",
       "  </tbody>\n",
       "</table>\n",
       "<p>137 rows × 8 columns</p>\n",
       "</div>"
      ],
      "text/plain": [
       "                  date  owm_longitude  owm_latitude  owm_temp  \\\n",
       "0  2021-05-26 00:00:00        31.2357       30.0444    296.03   \n",
       "1  2021-05-26 01:00:00        31.2357       30.0444    295.31   \n",
       "2  2021-05-26 02:00:00        31.2357       30.0444    293.97   \n",
       "3  2021-05-26 03:00:00        31.2357       30.0444    293.55   \n",
       "4  2021-05-26 04:00:00        31.2357       30.0444    294.05   \n",
       "..                 ...            ...           ...       ...   \n",
       "19 2021-05-21 19:00:00        31.2357       30.0444    298.15   \n",
       "20 2021-05-21 20:00:00        31.2357       30.0444    297.10   \n",
       "21 2021-05-21 21:00:00        31.2357       30.0444    296.04   \n",
       "22 2021-05-21 22:00:00        31.2357       30.0444    295.54   \n",
       "23 2021-05-21 23:00:00        31.2357       30.0444    294.66   \n",
       "\n",
       "   owm_weather_short  owm_weather_long  owm_rain  owm_snow  \n",
       "0              Clear         clear sky         0         0  \n",
       "1              Clear         clear sky         0         0  \n",
       "2              Clear         clear sky         0         0  \n",
       "3              Clear         clear sky         0         0  \n",
       "4              Clear         clear sky         0         0  \n",
       "..               ...               ...       ...       ...  \n",
       "19             Clear         clear sky         0         0  \n",
       "20             Clear         clear sky         0         0  \n",
       "21             Clear         clear sky         0         0  \n",
       "22             Clear         clear sky         0         0  \n",
       "23            Clouds  scattered clouds         0         0  \n",
       "\n",
       "[137 rows x 8 columns]"
      ]
     },
     "execution_count": 10,
     "metadata": {},
     "output_type": "execute_result"
    }
   ],
   "source": [
    "output"
   ]
  },
  {
   "cell_type": "markdown",
   "metadata": {},
   "source": [
    "# Output to Folder\n",
    "This can be revised to a GCP location later"
   ]
  },
  {
   "cell_type": "code",
   "execution_count": 9,
   "metadata": {},
   "outputs": [
    {
     "name": "stdout",
     "output_type": "stream",
     "text": [
      "['OpenWeatherMap_scraper success']\n",
      "[]\n"
     ]
    }
   ],
   "source": [
    "timestamp = time.strftime('%Y%m%d_%H%M%S')\n",
    "output.to_csv(path_or_buf='output_to_clean\\weatherdata_{}'.format(timestamp))\n",
    "print(success)\n",
    "print(errors)"
   ]
  }
 ],
 "metadata": {
  "kernelspec": {
   "display_name": "weo3",
   "language": "python",
   "name": "weo3"
  },
  "language_info": {
   "codemirror_mode": {
    "name": "ipython",
    "version": 3
   },
   "file_extension": ".py",
   "mimetype": "text/x-python",
   "name": "python",
   "nbconvert_exporter": "python",
   "pygments_lexer": "ipython3",
   "version": "3.9.2"
  }
 },
 "nbformat": 4,
 "nbformat_minor": 4
}
