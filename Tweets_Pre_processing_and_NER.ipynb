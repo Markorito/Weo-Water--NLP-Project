{
  "nbformat": 4,
  "nbformat_minor": 0,
  "metadata": {
    "colab": {
      "name": "Tweets Pre-processing and NER",
      "provenance": []
    },
    "kernelspec": {
      "name": "python3",
      "display_name": "Python 3"
    },
    "language_info": {
      "name": "python"
    }
  },
  "cells": [
    {
      "cell_type": "code",
      "metadata": {
        "colab": {
          "base_uri": "https://localhost:8080/"
        },
        "id": "8cBQEVQquG4P",
        "outputId": "bbe8c453-06ef-48c9-b07d-58def90c63ff"
      },
      "source": [
        "from google.colab import drive\n",
        "drive.mount('/content/drive')"
      ],
      "execution_count": 25,
      "outputs": [
        {
          "output_type": "stream",
          "text": [
            "Drive already mounted at /content/drive; to attempt to forcibly remount, call drive.mount(\"/content/drive\", force_remount=True).\n"
          ],
          "name": "stdout"
        }
      ]
    },
    {
      "cell_type": "code",
      "metadata": {
        "colab": {
          "base_uri": "https://localhost:8080/"
        },
        "id": "wh8FnyeuucW3",
        "outputId": "bace87ae-20ce-4b33-adb4-9ab4e71eb1f4"
      },
      "source": [
        "import pandas as pd\n",
        "import re, os\n",
        "import seaborn as sns\n",
        "from wordcloud import WordCloud\n",
        "import matplotlib.pyplot as plt\n",
        "import nltk.corpus\n",
        "nltk.download(\"stopwords\")\n",
        "from nltk.corpus import stopwords\n",
        "nltk.download('wordnet')\n",
        "from nltk.stem import WordNetLemmatizer"
      ],
      "execution_count": 26,
      "outputs": [
        {
          "output_type": "stream",
          "text": [
            "[nltk_data] Downloading package stopwords to /root/nltk_data...\n",
            "[nltk_data]   Package stopwords is already up-to-date!\n",
            "[nltk_data] Downloading package wordnet to /root/nltk_data...\n",
            "[nltk_data]   Package wordnet is already up-to-date!\n"
          ],
          "name": "stdout"
        }
      ]
    },
    {
      "cell_type": "code",
      "metadata": {
        "id": "OlpkaLwGuisc"
      },
      "source": [
        "os.chdir('/content/drive/MyDrive/')"
      ],
      "execution_count": 27,
      "outputs": []
    },
    {
      "cell_type": "code",
      "metadata": {
        "colab": {
          "base_uri": "https://localhost:8080/",
          "height": 1000
        },
        "id": "syGS3k9Mu96i",
        "outputId": "8d2d27b1-13b8-4d79-ae45-f31174c30689"
      },
      "source": [
        "df = pd.read_csv('extracted_tweets.csv')\n",
        "df.head()"
      ],
      "execution_count": 28,
      "outputs": [
        {
          "output_type": "execute_result",
          "data": {
            "text/html": [
              "<div>\n",
              "<style scoped>\n",
              "    .dataframe tbody tr th:only-of-type {\n",
              "        vertical-align: middle;\n",
              "    }\n",
              "\n",
              "    .dataframe tbody tr th {\n",
              "        vertical-align: top;\n",
              "    }\n",
              "\n",
              "    .dataframe thead th {\n",
              "        text-align: right;\n",
              "    }\n",
              "</style>\n",
              "<table border=\"1\" class=\"dataframe\">\n",
              "  <thead>\n",
              "    <tr style=\"text-align: right;\">\n",
              "      <th></th>\n",
              "      <th>id</th>\n",
              "      <th>conversation_id</th>\n",
              "      <th>created_at</th>\n",
              "      <th>date</th>\n",
              "      <th>time</th>\n",
              "      <th>timezone</th>\n",
              "      <th>user_id</th>\n",
              "      <th>username</th>\n",
              "      <th>name</th>\n",
              "      <th>place</th>\n",
              "      <th>tweet</th>\n",
              "      <th>language</th>\n",
              "      <th>mentions</th>\n",
              "      <th>urls</th>\n",
              "      <th>photos</th>\n",
              "      <th>replies_count</th>\n",
              "      <th>retweets_count</th>\n",
              "      <th>likes_count</th>\n",
              "      <th>hashtags</th>\n",
              "      <th>cashtags</th>\n",
              "      <th>link</th>\n",
              "      <th>retweet</th>\n",
              "      <th>quote_url</th>\n",
              "      <th>video</th>\n",
              "      <th>thumbnail</th>\n",
              "      <th>near</th>\n",
              "      <th>geo</th>\n",
              "      <th>source</th>\n",
              "      <th>user_rt_id</th>\n",
              "      <th>user_rt</th>\n",
              "      <th>retweet_id</th>\n",
              "      <th>reply_to</th>\n",
              "      <th>retweet_date</th>\n",
              "      <th>translate</th>\n",
              "      <th>trans_src</th>\n",
              "      <th>trans_dest</th>\n",
              "    </tr>\n",
              "  </thead>\n",
              "  <tbody>\n",
              "    <tr>\n",
              "      <th>0</th>\n",
              "      <td>1.392400e+18</td>\n",
              "      <td>1.392400e+18</td>\n",
              "      <td>2021-05-12 14:01:43 India Standard Time</td>\n",
              "      <td>12-05-2021</td>\n",
              "      <td>14:01:43</td>\n",
              "      <td>530</td>\n",
              "      <td>8.929951e+08</td>\n",
              "      <td>ifrcafrica</td>\n",
              "      <td>IFRC Africa</td>\n",
              "      <td>NaN</td>\n",
              "      <td>Across Africa, at any given time, Red Cross and Red Crescent National Societies are responding to #floods or cyclones with lifesaving actions.  Learn more:  https://t.co/iLiQpJQbOi.  https://t.co/6vhltAOkdE</td>\n",
              "      <td>en</td>\n",
              "      <td>[]</td>\n",
              "      <td>['http://bit.ly/2RNeRSU']</td>\n",
              "      <td>['https://pbs.twimg.com/media/E1LJvvxWEAIRV86.jpg']</td>\n",
              "      <td>0</td>\n",
              "      <td>0</td>\n",
              "      <td>2</td>\n",
              "      <td>['floods']</td>\n",
              "      <td>[]</td>\n",
              "      <td>https://twitter.com/IFRCAfrica/status/1392397059723075585</td>\n",
              "      <td>False</td>\n",
              "      <td>NaN</td>\n",
              "      <td>1</td>\n",
              "      <td>https://pbs.twimg.com/media/E1LJvvxWEAIRV86.jpg</td>\n",
              "      <td>NaN</td>\n",
              "      <td>NaN</td>\n",
              "      <td>NaN</td>\n",
              "      <td>NaN</td>\n",
              "      <td>NaN</td>\n",
              "      <td>NaN</td>\n",
              "      <td>[]</td>\n",
              "      <td>NaN</td>\n",
              "      <td>NaN</td>\n",
              "      <td>NaN</td>\n",
              "      <td>NaN</td>\n",
              "    </tr>\n",
              "    <tr>\n",
              "      <th>1</th>\n",
              "      <td>1.392400e+18</td>\n",
              "      <td>1.392400e+18</td>\n",
              "      <td>2021-05-12 13:55:41 India Standard Time</td>\n",
              "      <td>12-05-2021</td>\n",
              "      <td>13:55:41</td>\n",
              "      <td>530</td>\n",
              "      <td>9.085950e+17</td>\n",
              "      <td>wanjohikinguru</td>\n",
              "      <td>Wanjohi King'uru</td>\n",
              "      <td>NaN</td>\n",
              "      <td>Poor drainage in Transami means we have to endure flooding when there is rain in Nairobi. We need to redo the drainage networks in the city. #Nairobi #Floods  https://t.co/FfwBfro0KO</td>\n",
              "      <td>en</td>\n",
              "      <td>[]</td>\n",
              "      <td>[]</td>\n",
              "      <td>[]</td>\n",
              "      <td>0</td>\n",
              "      <td>0</td>\n",
              "      <td>0</td>\n",
              "      <td>['nairobi', 'floods']</td>\n",
              "      <td>[]</td>\n",
              "      <td>https://twitter.com/WanjohiKinguru/status/1392395543557640193</td>\n",
              "      <td>False</td>\n",
              "      <td>NaN</td>\n",
              "      <td>1</td>\n",
              "      <td>https://pbs.twimg.com/ext_tw_video_thumb/1392395172793704448/pu/img/2U69hB84rPOdfXjR.jpg</td>\n",
              "      <td>NaN</td>\n",
              "      <td>NaN</td>\n",
              "      <td>NaN</td>\n",
              "      <td>NaN</td>\n",
              "      <td>NaN</td>\n",
              "      <td>NaN</td>\n",
              "      <td>[]</td>\n",
              "      <td>NaN</td>\n",
              "      <td>NaN</td>\n",
              "      <td>NaN</td>\n",
              "      <td>NaN</td>\n",
              "    </tr>\n",
              "    <tr>\n",
              "      <th>2</th>\n",
              "      <td>1.392390e+18</td>\n",
              "      <td>1.392390e+18</td>\n",
              "      <td>2021-05-12 13:35:46 India Standard Time</td>\n",
              "      <td>12-05-2021</td>\n",
              "      <td>13:35:46</td>\n",
              "      <td>530</td>\n",
              "      <td>1.604304e+07</td>\n",
              "      <td>ncedigital</td>\n",
              "      <td>New Civil Engineer</td>\n",
              "      <td>NaN</td>\n",
              "      <td>Daily brief:  🌥️ Queen's Speech intensifies #HS2 anxiety  https://t.co/Oqapyv1m9s  🌥️ @networkrail station competition winner revealed  https://t.co/Px3PLn9huQ  🌥️ Flood Action Plan launched  https://t.co/qIWqDlDQQn  #Engineering #CivilEngineering #Rail #Stations #Floods  https://t.co/mQWXqpiq2C</td>\n",
              "      <td>en</td>\n",
              "      <td>[{'screen_name': 'networkrail', 'name': 'network rail', 'id': '365344176'}]</td>\n",
              "      <td>['https://buff.ly/3eDdK1i', 'https://buff.ly/33yJChj', 'https://buff.ly/3y5cBqY']</td>\n",
              "      <td>['https://pbs.twimg.com/media/E1LDz05XIAAptuR.jpg', 'https://pbs.twimg.com/media/E1LDzz6XIAEDFbb.jpg', 'https://pbs.twimg.com/media/E1LDz1EWYAMXDx3.jpg']</td>\n",
              "      <td>0</td>\n",
              "      <td>2</td>\n",
              "      <td>2</td>\n",
              "      <td>['hs2', 'engineering', 'civilengineering', 'rail', 'stations', 'floods']</td>\n",
              "      <td>[]</td>\n",
              "      <td>https://twitter.com/ncedigital/status/1392390532316504066</td>\n",
              "      <td>False</td>\n",
              "      <td>NaN</td>\n",
              "      <td>1</td>\n",
              "      <td>https://pbs.twimg.com/media/E1LDz05XIAAptuR.jpg</td>\n",
              "      <td>NaN</td>\n",
              "      <td>NaN</td>\n",
              "      <td>NaN</td>\n",
              "      <td>NaN</td>\n",
              "      <td>NaN</td>\n",
              "      <td>NaN</td>\n",
              "      <td>[]</td>\n",
              "      <td>NaN</td>\n",
              "      <td>NaN</td>\n",
              "      <td>NaN</td>\n",
              "      <td>NaN</td>\n",
              "    </tr>\n",
              "    <tr>\n",
              "      <th>3</th>\n",
              "      <td>1.392390e+18</td>\n",
              "      <td>1.392390e+18</td>\n",
              "      <td>2021-05-12 13:34:05 India Standard Time</td>\n",
              "      <td>12-05-2021</td>\n",
              "      <td>13:34:05</td>\n",
              "      <td>530</td>\n",
              "      <td>2.985111e+09</td>\n",
              "      <td>malurussally</td>\n",
              "      <td>Sally Forsstrom</td>\n",
              "      <td>NaN</td>\n",
              "      <td>#climate change impacts here already with #drought the #bushfires from August 2019 - March 2020 then #floods we need a plan for #NetZeroEmissions</td>\n",
              "      <td>en</td>\n",
              "      <td>[]</td>\n",
              "      <td>[]</td>\n",
              "      <td>[]</td>\n",
              "      <td>0</td>\n",
              "      <td>0</td>\n",
              "      <td>0</td>\n",
              "      <td>['climate', 'drought', 'bushfires', 'floods', 'netzeroemissions']</td>\n",
              "      <td>[]</td>\n",
              "      <td>https://twitter.com/MalurusSally/status/1392390106120601600</td>\n",
              "      <td>False</td>\n",
              "      <td>https://twitter.com/shoebridgemlc/status/1392263915506069504</td>\n",
              "      <td>0</td>\n",
              "      <td>NaN</td>\n",
              "      <td>NaN</td>\n",
              "      <td>NaN</td>\n",
              "      <td>NaN</td>\n",
              "      <td>NaN</td>\n",
              "      <td>NaN</td>\n",
              "      <td>NaN</td>\n",
              "      <td>[]</td>\n",
              "      <td>NaN</td>\n",
              "      <td>NaN</td>\n",
              "      <td>NaN</td>\n",
              "      <td>NaN</td>\n",
              "    </tr>\n",
              "    <tr>\n",
              "      <th>4</th>\n",
              "      <td>1.392390e+18</td>\n",
              "      <td>1.392390e+18</td>\n",
              "      <td>2021-05-12 13:29:27 India Standard Time</td>\n",
              "      <td>12-05-2021</td>\n",
              "      <td>13:29:27</td>\n",
              "      <td>530</td>\n",
              "      <td>8.565930e+17</td>\n",
              "      <td>infonile</td>\n",
              "      <td>InfoNile</td>\n",
              "      <td>NaN</td>\n",
              "      <td>🧵: This is Thirst in a River Basin, an interactive  #InfoMap 🌍that pinpoints the areas most vulnerable to changing #rainfall and runoff patterns - factors that contribute to #droughts and #floods - and those already facing 💧 #water scarcity in the Nile.  https://t.co/gOZUu08Gxa  https://t.co/uaDstL349p</td>\n",
              "      <td>en</td>\n",
              "      <td>[]</td>\n",
              "      <td>['https://maps.infonile.org/covid-water-scarcity/']</td>\n",
              "      <td>['https://pbs.twimg.com/media/E1LCXHmXoAM1J_9.jpg']</td>\n",
              "      <td>0</td>\n",
              "      <td>0</td>\n",
              "      <td>0</td>\n",
              "      <td>['infomap', 'rainfall', 'droughts', 'floods', 'water']</td>\n",
              "      <td>[]</td>\n",
              "      <td>https://twitter.com/infoNILE/status/1392388939156271105</td>\n",
              "      <td>False</td>\n",
              "      <td>NaN</td>\n",
              "      <td>1</td>\n",
              "      <td>https://pbs.twimg.com/media/E1LCXHmXoAM1J_9.jpg</td>\n",
              "      <td>NaN</td>\n",
              "      <td>NaN</td>\n",
              "      <td>NaN</td>\n",
              "      <td>NaN</td>\n",
              "      <td>NaN</td>\n",
              "      <td>NaN</td>\n",
              "      <td>[]</td>\n",
              "      <td>NaN</td>\n",
              "      <td>NaN</td>\n",
              "      <td>NaN</td>\n",
              "      <td>NaN</td>\n",
              "    </tr>\n",
              "  </tbody>\n",
              "</table>\n",
              "</div>"
            ],
            "text/plain": [
              "             id  conversation_id  ... trans_src trans_dest\n",
              "0  1.392400e+18     1.392400e+18  ...       NaN        NaN\n",
              "1  1.392400e+18     1.392400e+18  ...       NaN        NaN\n",
              "2  1.392390e+18     1.392390e+18  ...       NaN        NaN\n",
              "3  1.392390e+18     1.392390e+18  ...       NaN        NaN\n",
              "4  1.392390e+18     1.392390e+18  ...       NaN        NaN\n",
              "\n",
              "[5 rows x 36 columns]"
            ]
          },
          "metadata": {
            "tags": []
          },
          "execution_count": 28
        }
      ]
    },
    {
      "cell_type": "code",
      "metadata": {
        "colab": {
          "base_uri": "https://localhost:8080/"
        },
        "id": "p8vlRiTUvtrh",
        "outputId": "c3c58368-442e-4f2d-c41e-ca62dcc5d7fa"
      },
      "source": [
        "df.shape"
      ],
      "execution_count": 29,
      "outputs": [
        {
          "output_type": "execute_result",
          "data": {
            "text/plain": [
              "(10089, 36)"
            ]
          },
          "metadata": {
            "tags": []
          },
          "execution_count": 29
        }
      ]
    },
    {
      "cell_type": "code",
      "metadata": {
        "colab": {
          "base_uri": "https://localhost:8080/"
        },
        "id": "jmVQjcXLwM_J",
        "outputId": "44d0b88d-025a-48b2-cb19-3bebfe2fb8a4"
      },
      "source": [
        "df.isnull().sum()"
      ],
      "execution_count": 30,
      "outputs": [
        {
          "output_type": "execute_result",
          "data": {
            "text/plain": [
              "id                     0\n",
              "conversation_id        0\n",
              "created_at             0\n",
              "date                   0\n",
              "time                   0\n",
              "timezone               0\n",
              "user_id                0\n",
              "username               0\n",
              "name                   0\n",
              "place              10023\n",
              "tweet                  0\n",
              "language               0\n",
              "mentions               0\n",
              "urls                   0\n",
              "photos                 0\n",
              "replies_count          0\n",
              "retweets_count         0\n",
              "likes_count            0\n",
              "hashtags               0\n",
              "cashtags               0\n",
              "link                   0\n",
              "retweet                0\n",
              "quote_url           9108\n",
              "video                  0\n",
              "thumbnail           5942\n",
              "near               10089\n",
              "geo                10089\n",
              "source             10089\n",
              "user_rt_id         10089\n",
              "user_rt            10089\n",
              "retweet_id         10089\n",
              "reply_to               0\n",
              "retweet_date       10089\n",
              "translate          10089\n",
              "trans_src          10089\n",
              "trans_dest         10089\n",
              "dtype: int64"
            ]
          },
          "metadata": {
            "tags": []
          },
          "execution_count": 30
        }
      ]
    },
    {
      "cell_type": "code",
      "metadata": {
        "id": "aEbTnCYU5Hte"
      },
      "source": [
        "pd.set_option('display.max_colwidth', None)"
      ],
      "execution_count": 31,
      "outputs": []
    },
    {
      "cell_type": "code",
      "metadata": {
        "colab": {
          "base_uri": "https://localhost:8080/",
          "height": 262
        },
        "id": "G1NI2DG6whvO",
        "outputId": "1b3dd3ad-71d6-497f-951d-fccf2c9bcbda"
      },
      "source": [
        "# df2 = df.drop(df.columns.difference(['tweet']), axis = 1)\n",
        "df2 = df[['tweet']]\n",
        "df2.head()"
      ],
      "execution_count": 32,
      "outputs": [
        {
          "output_type": "execute_result",
          "data": {
            "text/html": [
              "<div>\n",
              "<style scoped>\n",
              "    .dataframe tbody tr th:only-of-type {\n",
              "        vertical-align: middle;\n",
              "    }\n",
              "\n",
              "    .dataframe tbody tr th {\n",
              "        vertical-align: top;\n",
              "    }\n",
              "\n",
              "    .dataframe thead th {\n",
              "        text-align: right;\n",
              "    }\n",
              "</style>\n",
              "<table border=\"1\" class=\"dataframe\">\n",
              "  <thead>\n",
              "    <tr style=\"text-align: right;\">\n",
              "      <th></th>\n",
              "      <th>tweet</th>\n",
              "    </tr>\n",
              "  </thead>\n",
              "  <tbody>\n",
              "    <tr>\n",
              "      <th>0</th>\n",
              "      <td>Across Africa, at any given time, Red Cross and Red Crescent National Societies are responding to #floods or cyclones with lifesaving actions.  Learn more:  https://t.co/iLiQpJQbOi.  https://t.co/6vhltAOkdE</td>\n",
              "    </tr>\n",
              "    <tr>\n",
              "      <th>1</th>\n",
              "      <td>Poor drainage in Transami means we have to endure flooding when there is rain in Nairobi. We need to redo the drainage networks in the city. #Nairobi #Floods  https://t.co/FfwBfro0KO</td>\n",
              "    </tr>\n",
              "    <tr>\n",
              "      <th>2</th>\n",
              "      <td>Daily brief:  🌥️ Queen's Speech intensifies #HS2 anxiety  https://t.co/Oqapyv1m9s  🌥️ @networkrail station competition winner revealed  https://t.co/Px3PLn9huQ  🌥️ Flood Action Plan launched  https://t.co/qIWqDlDQQn  #Engineering #CivilEngineering #Rail #Stations #Floods  https://t.co/mQWXqpiq2C</td>\n",
              "    </tr>\n",
              "    <tr>\n",
              "      <th>3</th>\n",
              "      <td>#climate change impacts here already with #drought the #bushfires from August 2019 - March 2020 then #floods we need a plan for #NetZeroEmissions</td>\n",
              "    </tr>\n",
              "    <tr>\n",
              "      <th>4</th>\n",
              "      <td>🧵: This is Thirst in a River Basin, an interactive  #InfoMap 🌍that pinpoints the areas most vulnerable to changing #rainfall and runoff patterns - factors that contribute to #droughts and #floods - and those already facing 💧 #water scarcity in the Nile.  https://t.co/gOZUu08Gxa  https://t.co/uaDstL349p</td>\n",
              "    </tr>\n",
              "  </tbody>\n",
              "</table>\n",
              "</div>"
            ],
            "text/plain": [
              "                                                                                                                                                                                                                                                                                                             tweet\n",
              "0                                                                                                   Across Africa, at any given time, Red Cross and Red Crescent National Societies are responding to #floods or cyclones with lifesaving actions.  Learn more:  https://t.co/iLiQpJQbOi.  https://t.co/6vhltAOkdE\n",
              "1                                                                                                                           Poor drainage in Transami means we have to endure flooding when there is rain in Nairobi. We need to redo the drainage networks in the city. #Nairobi #Floods  https://t.co/FfwBfro0KO\n",
              "2         Daily brief:  🌥️ Queen's Speech intensifies #HS2 anxiety  https://t.co/Oqapyv1m9s  🌥️ @networkrail station competition winner revealed  https://t.co/Px3PLn9huQ  🌥️ Flood Action Plan launched  https://t.co/qIWqDlDQQn  #Engineering #CivilEngineering #Rail #Stations #Floods  https://t.co/mQWXqpiq2C\n",
              "3                                                                                                                                                                #climate change impacts here already with #drought the #bushfires from August 2019 - March 2020 then #floods we need a plan for #NetZeroEmissions\n",
              "4  🧵: This is Thirst in a River Basin, an interactive  #InfoMap 🌍that pinpoints the areas most vulnerable to changing #rainfall and runoff patterns - factors that contribute to #droughts and #floods - and those already facing 💧 #water scarcity in the Nile.  https://t.co/gOZUu08Gxa  https://t.co/uaDstL349p"
            ]
          },
          "metadata": {
            "tags": []
          },
          "execution_count": 32
        }
      ]
    },
    {
      "cell_type": "markdown",
      "metadata": {
        "id": "ReNpyCSZ7X_H"
      },
      "source": [
        "Below I have removed 'https' links and username defined by @, as links are not useful, also username won't help much in the detection of location. Whole purpose of doing this is to detect the locations from the tweets. My purpose of not removing the hastags is, as in many of the hastags we can get the location names, so I have kept it there."
      ]
    },
    {
      "cell_type": "code",
      "metadata": {
        "colab": {
          "base_uri": "https://localhost:8080/"
        },
        "id": "_AjtViBD4mM8",
        "outputId": "60e64a76-3e13-4311-eed4-21dc01668722"
      },
      "source": [
        "def cleaned_data(text):\n",
        "    clean=re.sub(\"http\\S+\",\"\",text)\n",
        "    clean = clean.lower()\n",
        "    clean=re.sub(\"@\\S+\",\"\",clean)\n",
        "    clean = re.sub('#', '', clean)\n",
        "    # clean=re.sub(\"[^a-zA-Z0-9]\",\" \",clean)\n",
        "    return clean\n",
        "df2['Cleaned Tweets'] = df2['tweet'].apply(cleaned_data)"
      ],
      "execution_count": 42,
      "outputs": [
        {
          "output_type": "stream",
          "text": [
            "/usr/local/lib/python3.7/dist-packages/ipykernel_launcher.py:8: SettingWithCopyWarning: \n",
            "A value is trying to be set on a copy of a slice from a DataFrame.\n",
            "Try using .loc[row_indexer,col_indexer] = value instead\n",
            "\n",
            "See the caveats in the documentation: https://pandas.pydata.org/pandas-docs/stable/user_guide/indexing.html#returning-a-view-versus-a-copy\n",
            "  \n"
          ],
          "name": "stderr"
        }
      ]
    },
    {
      "cell_type": "code",
      "metadata": {
        "colab": {
          "base_uri": "https://localhost:8080/",
          "height": 995
        },
        "id": "y9Zzxekc6ABg",
        "outputId": "38a66899-6bf8-434b-8a31-6fa4979ae4d4"
      },
      "source": [
        "df2.head(15)"
      ],
      "execution_count": 43,
      "outputs": [
        {
          "output_type": "execute_result",
          "data": {
            "text/html": [
              "<div>\n",
              "<style scoped>\n",
              "    .dataframe tbody tr th:only-of-type {\n",
              "        vertical-align: middle;\n",
              "    }\n",
              "\n",
              "    .dataframe tbody tr th {\n",
              "        vertical-align: top;\n",
              "    }\n",
              "\n",
              "    .dataframe thead th {\n",
              "        text-align: right;\n",
              "    }\n",
              "</style>\n",
              "<table border=\"1\" class=\"dataframe\">\n",
              "  <thead>\n",
              "    <tr style=\"text-align: right;\">\n",
              "      <th></th>\n",
              "      <th>tweet</th>\n",
              "      <th>Cleaned Tweets</th>\n",
              "    </tr>\n",
              "  </thead>\n",
              "  <tbody>\n",
              "    <tr>\n",
              "      <th>0</th>\n",
              "      <td>Across Africa, at any given time, Red Cross and Red Crescent National Societies are responding to #floods or cyclones with lifesaving actions.  Learn more:  https://t.co/iLiQpJQbOi.  https://t.co/6vhltAOkdE</td>\n",
              "      <td>across africa, at any given time, red cross and red crescent national societies are responding to floods or cyclones with lifesaving actions.  learn more:</td>\n",
              "    </tr>\n",
              "    <tr>\n",
              "      <th>1</th>\n",
              "      <td>Poor drainage in Transami means we have to endure flooding when there is rain in Nairobi. We need to redo the drainage networks in the city. #Nairobi #Floods  https://t.co/FfwBfro0KO</td>\n",
              "      <td>poor drainage in transami means we have to endure flooding when there is rain in nairobi. we need to redo the drainage networks in the city. nairobi floods</td>\n",
              "    </tr>\n",
              "    <tr>\n",
              "      <th>2</th>\n",
              "      <td>Daily brief:  🌥️ Queen's Speech intensifies #HS2 anxiety  https://t.co/Oqapyv1m9s  🌥️ @networkrail station competition winner revealed  https://t.co/Px3PLn9huQ  🌥️ Flood Action Plan launched  https://t.co/qIWqDlDQQn  #Engineering #CivilEngineering #Rail #Stations #Floods  https://t.co/mQWXqpiq2C</td>\n",
              "      <td>daily brief:  🌥️ queen's speech intensifies hs2 anxiety    🌥️  station competition winner revealed    🌥️ flood action plan launched    engineering civilengineering rail stations floods</td>\n",
              "    </tr>\n",
              "    <tr>\n",
              "      <th>3</th>\n",
              "      <td>#climate change impacts here already with #drought the #bushfires from August 2019 - March 2020 then #floods we need a plan for #NetZeroEmissions</td>\n",
              "      <td>climate change impacts here already with drought the bushfires from august 2019 - march 2020 then floods we need a plan for netzeroemissions</td>\n",
              "    </tr>\n",
              "    <tr>\n",
              "      <th>4</th>\n",
              "      <td>🧵: This is Thirst in a River Basin, an interactive  #InfoMap 🌍that pinpoints the areas most vulnerable to changing #rainfall and runoff patterns - factors that contribute to #droughts and #floods - and those already facing 💧 #water scarcity in the Nile.  https://t.co/gOZUu08Gxa  https://t.co/uaDstL349p</td>\n",
              "      <td>🧵: this is thirst in a river basin, an interactive  infomap 🌍that pinpoints the areas most vulnerable to changing rainfall and runoff patterns - factors that contribute to droughts and floods - and those already facing 💧 water scarcity in the nile.</td>\n",
              "    </tr>\n",
              "    <tr>\n",
              "      <th>5</th>\n",
              "      <td>ఉత్తరాఖండ్‌లో వరదలు...  #Kaitvmedia #Keemedia1 #Urvasiott #Keeyoungmantra #Az7amnews #Uttarakhand #Floods #Theri  https://t.co/MpgLkAMm9X</td>\n",
              "      <td>ఉత్తరాఖండ్‌లో వరదలు...  kaitvmedia keemedia1 urvasiott keeyoungmantra az7amnews uttarakhand floods theri</td>\n",
              "    </tr>\n",
              "    <tr>\n",
              "      <th>6</th>\n",
              "      <td>What if we could avoid Fatbergs, #Sewer Blockages, and #Floods? That's what Brian Moloney shares us in this week's #Podcast. 🎧 Fatbergs Right Ahead? Not if you Harvest the Right Data! ▶ Listen to the full episode on your favorite Podcatcher, or on  https://t.co/PaCpbIkwNx  https://t.co/NuVfDwoiTD</td>\n",
              "      <td>what if we could avoid fatbergs, sewer blockages, and floods? that's what brian moloney shares us in this week's podcast. 🎧 fatbergs right ahead? not if you harvest the right data! ▶ listen to the full episode on your favorite podcatcher, or on</td>\n",
              "    </tr>\n",
              "    <tr>\n",
              "      <th>7</th>\n",
              "      <td>#UPDATE 🇺🇳#UN #Somalia #Geneva #FLOODS Map by @CopernicusEMS  On Tuesday, UN humanitarians said that torrential rains in parts of Somalia caused flash floods, killing at least 25 people just two weeks after the country was declared drought-stricken.  https://t.co/lZH0rKlCaE</td>\n",
              "      <td>update 🇺🇳un somalia geneva floods map by   on tuesday, un humanitarians said that torrential rains in parts of somalia caused flash floods, killing at least 25 people just two weeks after the country was declared drought-stricken.</td>\n",
              "    </tr>\n",
              "    <tr>\n",
              "      <th>8</th>\n",
              "      <td>@redcrosscanada help !!! @amnesty @HRWatchdog #FortSimpson #floods</td>\n",
              "      <td>help !!!   fortsimpson floods</td>\n",
              "    </tr>\n",
              "    <tr>\n",
              "      <th>9</th>\n",
              "      <td>Indian and Global #films. How have they depicted #floods and flood #victims? Welcoming Dr. Suchandra Ghatak as a speaker. TMYS Review Sept 2021  Calling for #essays, #stories, #poems on Migration, Resettlement and Displacement of Flood victims.  https://t.co/yEphjmZDgt  https://t.co/QIrjC6B38S</td>\n",
              "      <td>indian and global films. how have they depicted floods and flood victims? welcoming dr. suchandra ghatak as a speaker. tmys review sept 2021  calling for essays, stories, poems on migration, resettlement and displacement of flood victims.</td>\n",
              "    </tr>\n",
              "    <tr>\n",
              "      <th>10</th>\n",
              "      <td>Fangak appeals for humanitarian aid as #floods engulf areas  https://t.co/8qso0r7YwB</td>\n",
              "      <td>fangak appeals for humanitarian aid as floods engulf areas</td>\n",
              "    </tr>\n",
              "    <tr>\n",
              "      <th>11</th>\n",
              "      <td>#SUPERBOYPROJECT #ANTWONTRINH #GARGANTUAN FOAMS MOLDINGS VIA #PROJECTTSUNAMI &amp;amp; #FLOODS  PREVENTIONS READY; #WINDMILL W/ SOLAR POWER/WATER MILL CHARGER, FLOAT EMPTY BARRIERS _ IN WATER, AND SAME H20/SAND @ INLANDS †  🌊  https://t.co/bSThvaYS2M 💦  🏝️  https://t.co/58wcXtwpFR 🏖️  https://t.co/kHU3ywFeKd</td>\n",
              "      <td>superboyproject antwontrinh gargantuan foams moldings via projecttsunami &amp;amp; floods  preventions ready; windmill w/ solar power/water mill charger, float empty barriers _ in water, and same h20/sand @ inlands †  🌊   💦  🏝️   🏖️</td>\n",
              "    </tr>\n",
              "    <tr>\n",
              "      <th>12</th>\n",
              "      <td>Sharing my new open access article about floods' effect on men's and women's time-use in Pakistan. Findings show men help out more in household work after #floods leading to a decline in #gender #inequality in unpaid work. Data source: @IFPRI PRHPS.  https://t.co/wtgOR5xUtS  https://t.co/kSPZ7R41mr</td>\n",
              "      <td>sharing my new open access article about floods' effect on men's and women's time-use in pakistan. findings show men help out more in household work after floods leading to a decline in gender inequality in unpaid work. data source:  prhps.</td>\n",
              "    </tr>\n",
              "    <tr>\n",
              "      <th>13</th>\n",
              "      <td>Tajikistan sinks flash flood in several sectors  https://t.co/nnWZXPcKRT  #Tayikistán #floods #kulob #dushanbe #storm #flooding #Кулоб #Душанбе  https://t.co/HPSPgFf3kQ</td>\n",
              "      <td>tajikistan sinks flash flood in several sectors    tayikistán floods kulob dushanbe storm flooding кулоб душанбе</td>\n",
              "    </tr>\n",
              "    <tr>\n",
              "      <th>14</th>\n",
              "      <td>Tajikistan sinks flash flood in several sectors  https://t.co/nnWZXPcKRT  #Tayikistán #floods #kulob #dushanbe #storm #flooding #Кулоб #Душанбе  https://t.co/sVZyowdxoN</td>\n",
              "      <td>tajikistan sinks flash flood in several sectors    tayikistán floods kulob dushanbe storm flooding кулоб душанбе</td>\n",
              "    </tr>\n",
              "  </tbody>\n",
              "</table>\n",
              "</div>"
            ],
            "text/plain": [
              "                                                                                                                                                                                                                                                                                                                tweet                                                                                                                                                                                                                                                Cleaned Tweets\n",
              "0                                                                                                      Across Africa, at any given time, Red Cross and Red Crescent National Societies are responding to #floods or cyclones with lifesaving actions.  Learn more:  https://t.co/iLiQpJQbOi.  https://t.co/6vhltAOkdE                                                                                                across africa, at any given time, red cross and red crescent national societies are responding to floods or cyclones with lifesaving actions.  learn more:    \n",
              "1                                                                                                                              Poor drainage in Transami means we have to endure flooding when there is rain in Nairobi. We need to redo the drainage networks in the city. #Nairobi #Floods  https://t.co/FfwBfro0KO                                                                                                 poor drainage in transami means we have to endure flooding when there is rain in nairobi. we need to redo the drainage networks in the city. nairobi floods  \n",
              "2            Daily brief:  🌥️ Queen's Speech intensifies #HS2 anxiety  https://t.co/Oqapyv1m9s  🌥️ @networkrail station competition winner revealed  https://t.co/Px3PLn9huQ  🌥️ Flood Action Plan launched  https://t.co/qIWqDlDQQn  #Engineering #CivilEngineering #Rail #Stations #Floods  https://t.co/mQWXqpiq2C                                                                    daily brief:  🌥️ queen's speech intensifies hs2 anxiety    🌥️  station competition winner revealed    🌥️ flood action plan launched    engineering civilengineering rail stations floods  \n",
              "3                                                                                                                                                                   #climate change impacts here already with #drought the #bushfires from August 2019 - March 2020 then #floods we need a plan for #NetZeroEmissions                                                                                                                  climate change impacts here already with drought the bushfires from august 2019 - march 2020 then floods we need a plan for netzeroemissions\n",
              "4     🧵: This is Thirst in a River Basin, an interactive  #InfoMap 🌍that pinpoints the areas most vulnerable to changing #rainfall and runoff patterns - factors that contribute to #droughts and #floods - and those already facing 💧 #water scarcity in the Nile.  https://t.co/gOZUu08Gxa  https://t.co/uaDstL349p  🧵: this is thirst in a river basin, an interactive  infomap 🌍that pinpoints the areas most vulnerable to changing rainfall and runoff patterns - factors that contribute to droughts and floods - and those already facing 💧 water scarcity in the nile.    \n",
              "5                                                                                                                                                                           ఉత్తరాఖండ్‌లో వరదలు...  #Kaitvmedia #Keemedia1 #Urvasiott #Keeyoungmantra #Az7amnews #Uttarakhand #Floods #Theri  https://t.co/MpgLkAMm9X                                                                                                                                                    ఉత్తరాఖండ్‌లో వరదలు...  kaitvmedia keemedia1 urvasiott keeyoungmantra az7amnews uttarakhand floods theri  \n",
              "6           What if we could avoid Fatbergs, #Sewer Blockages, and #Floods? That's what Brian Moloney shares us in this week's #Podcast. 🎧 Fatbergs Right Ahead? Not if you Harvest the Right Data! ▶ Listen to the full episode on your favorite Podcatcher, or on  https://t.co/PaCpbIkwNx  https://t.co/NuVfDwoiTD      what if we could avoid fatbergs, sewer blockages, and floods? that's what brian moloney shares us in this week's podcast. 🎧 fatbergs right ahead? not if you harvest the right data! ▶ listen to the full episode on your favorite podcatcher, or on    \n",
              "7                                  #UPDATE 🇺🇳#UN #Somalia #Geneva #FLOODS Map by @CopernicusEMS  On Tuesday, UN humanitarians said that torrential rains in parts of Somalia caused flash floods, killing at least 25 people just two weeks after the country was declared drought-stricken.  https://t.co/lZH0rKlCaE                      update 🇺🇳un somalia geneva floods map by   on tuesday, un humanitarians said that torrential rains in parts of somalia caused flash floods, killing at least 25 people just two weeks after the country was declared drought-stricken.  \n",
              "8                                                                                                                                                                                                                                                  @redcrosscanada help !!! @amnesty @HRWatchdog #FortSimpson #floods                                                                                                                                                                                                                                 help !!!   fortsimpson floods\n",
              "9              Indian and Global #films. How have they depicted #floods and flood #victims? Welcoming Dr. Suchandra Ghatak as a speaker. TMYS Review Sept 2021  Calling for #essays, #stories, #poems on Migration, Resettlement and Displacement of Flood victims.  https://t.co/yEphjmZDgt  https://t.co/QIrjC6B38S            indian and global films. how have they depicted floods and flood victims? welcoming dr. suchandra ghatak as a speaker. tmys review sept 2021  calling for essays, stories, poems on migration, resettlement and displacement of flood victims.    \n",
              "10                                                                                                                                                                                                                               Fangak appeals for humanitarian aid as #floods engulf areas  https://t.co/8qso0r7YwB                                                                                                                                                                                                  fangak appeals for humanitarian aid as floods engulf areas  \n",
              "11  #SUPERBOYPROJECT #ANTWONTRINH #GARGANTUAN FOAMS MOLDINGS VIA #PROJECTTSUNAMI &amp; #FLOODS  PREVENTIONS READY; #WINDMILL W/ SOLAR POWER/WATER MILL CHARGER, FLOAT EMPTY BARRIERS _ IN WATER, AND SAME H20/SAND @ INLANDS †  🌊  https://t.co/bSThvaYS2M 💦  🏝️  https://t.co/58wcXtwpFR 🏖️  https://t.co/kHU3ywFeKd                        superboyproject antwontrinh gargantuan foams moldings via projecttsunami &amp; floods  preventions ready; windmill w/ solar power/water mill charger, float empty barriers _ in water, and same h20/sand @ inlands †  🌊   💦  🏝️   🏖️  \n",
              "12        Sharing my new open access article about floods' effect on men's and women's time-use in Pakistan. Findings show men help out more in household work after #floods leading to a decline in #gender #inequality in unpaid work. Data source: @IFPRI PRHPS.  https://t.co/wtgOR5xUtS  https://t.co/kSPZ7R41mr          sharing my new open access article about floods' effect on men's and women's time-use in pakistan. findings show men help out more in household work after floods leading to a decline in gender inequality in unpaid work. data source:  prhps.    \n",
              "13                                                                                                                                           Tajikistan sinks flash flood in several sectors  https://t.co/nnWZXPcKRT  #Tayikistán #floods #kulob #dushanbe #storm #flooding #Кулоб #Душанбе  https://t.co/HPSPgFf3kQ                                                                                                                                            tajikistan sinks flash flood in several sectors    tayikistán floods kulob dushanbe storm flooding кулоб душанбе  \n",
              "14                                                                                                                                           Tajikistan sinks flash flood in several sectors  https://t.co/nnWZXPcKRT  #Tayikistán #floods #kulob #dushanbe #storm #flooding #Кулоб #Душанбе  https://t.co/sVZyowdxoN                                                                                                                                            tajikistan sinks flash flood in several sectors    tayikistán floods kulob dushanbe storm flooding кулоб душанбе  "
            ]
          },
          "metadata": {
            "tags": []
          },
          "execution_count": 43
        }
      ]
    },
    {
      "cell_type": "code",
      "metadata": {
        "colab": {
          "base_uri": "https://localhost:8080/"
        },
        "id": "FmZ58b2h93Ay",
        "outputId": "8ccda5b0-1761-4dff-a829-35c2ee3eba75"
      },
      "source": [
        "!pip install contractions"
      ],
      "execution_count": 35,
      "outputs": [
        {
          "output_type": "stream",
          "text": [
            "Requirement already satisfied: contractions in /usr/local/lib/python3.7/dist-packages (0.0.49)\n",
            "Requirement already satisfied: textsearch>=0.0.21 in /usr/local/lib/python3.7/dist-packages (from contractions) (0.0.21)\n",
            "Requirement already satisfied: pyahocorasick in /usr/local/lib/python3.7/dist-packages (from textsearch>=0.0.21->contractions) (1.4.2)\n",
            "Requirement already satisfied: anyascii in /usr/local/lib/python3.7/dist-packages (from textsearch>=0.0.21->contractions) (0.2.0)\n"
          ],
          "name": "stdout"
        }
      ]
    },
    {
      "cell_type": "code",
      "metadata": {
        "id": "ozmWthaE-FAQ"
      },
      "source": [
        "import contractions"
      ],
      "execution_count": 36,
      "outputs": []
    },
    {
      "cell_type": "markdown",
      "metadata": {
        "id": "reHf6fE1L_Ah"
      },
      "source": [
        "**Below python package helps in expand contractions in text like don't -> do not, isn't -> is not etc..**"
      ]
    },
    {
      "cell_type": "code",
      "metadata": {
        "colab": {
          "base_uri": "https://localhost:8080/"
        },
        "id": "w-em1dPm-GTV",
        "outputId": "209a6b87-a8b8-425a-a4ec-3b49a02db36e"
      },
      "source": [
        "text = '''I'll be there within 5 min. Shouldn't you be there too? \n",
        "          I'd love to see u there my dear. It's awesome to meet new friends.\n",
        "          We've been waiting for this day for so long.'''\n",
        "  \n",
        "# creating an empty list\n",
        "expanded_words = []    \n",
        "for word in text.split():\n",
        "  # using contractions.fix to expand the shotened words\n",
        "  expanded_words.append(contractions.fix(word))   \n",
        "    \n",
        "expanded_text = ' '.join(expanded_words)\n",
        "print('Original text: ' + text)\n",
        "print('Expanded_text: ' + expanded_text)"
      ],
      "execution_count": 37,
      "outputs": [
        {
          "output_type": "stream",
          "text": [
            "Original text: I'll be there within 5 min. Shouldn't you be there too? \n",
            "          I'd love to see u there my dear. It's awesome to meet new friends.\n",
            "          We've been waiting for this day for so long.\n",
            "Expanded_text: I will be there within 5 min. should not you be there too? I would love to see you there my dear. it is awesome to meet new friends. we have been waiting for this day for so long.\n"
          ],
          "name": "stdout"
        }
      ]
    },
    {
      "cell_type": "code",
      "metadata": {
        "colab": {
          "base_uri": "https://localhost:8080/",
          "height": 1000
        },
        "id": "VAn-NrDm-mHn",
        "outputId": "b0cfb677-e6bd-420b-a696-59f3819c48ad"
      },
      "source": [
        "def expanded(text):\n",
        "    expanded_words = []    \n",
        "    try:\n",
        "      for word in text.split():\n",
        "        expanded_words.append(contractions.fix(word))\n",
        "    except Exception:\n",
        "      pass         \n",
        "    expanded_text = ' '.join(expanded_words)\n",
        "    return expanded_text\n",
        "\n",
        "df2['Cleaned Tweets'] = df2['Cleaned Tweets'].apply(expanded)\n",
        "df2.head(15)"
      ],
      "execution_count": 45,
      "outputs": [
        {
          "output_type": "stream",
          "text": [
            "/usr/local/lib/python3.7/dist-packages/ipykernel_launcher.py:11: SettingWithCopyWarning: \n",
            "A value is trying to be set on a copy of a slice from a DataFrame.\n",
            "Try using .loc[row_indexer,col_indexer] = value instead\n",
            "\n",
            "See the caveats in the documentation: https://pandas.pydata.org/pandas-docs/stable/user_guide/indexing.html#returning-a-view-versus-a-copy\n",
            "  # This is added back by InteractiveShellApp.init_path()\n"
          ],
          "name": "stderr"
        },
        {
          "output_type": "execute_result",
          "data": {
            "text/html": [
              "<div>\n",
              "<style scoped>\n",
              "    .dataframe tbody tr th:only-of-type {\n",
              "        vertical-align: middle;\n",
              "    }\n",
              "\n",
              "    .dataframe tbody tr th {\n",
              "        vertical-align: top;\n",
              "    }\n",
              "\n",
              "    .dataframe thead th {\n",
              "        text-align: right;\n",
              "    }\n",
              "</style>\n",
              "<table border=\"1\" class=\"dataframe\">\n",
              "  <thead>\n",
              "    <tr style=\"text-align: right;\">\n",
              "      <th></th>\n",
              "      <th>tweet</th>\n",
              "      <th>Cleaned Tweets</th>\n",
              "      <th>Cleaned Tweets Further</th>\n",
              "    </tr>\n",
              "  </thead>\n",
              "  <tbody>\n",
              "    <tr>\n",
              "      <th>0</th>\n",
              "      <td>Across Africa, at any given time, Red Cross and Red Crescent National Societies are responding to #floods or cyclones with lifesaving actions.  Learn more:  https://t.co/iLiQpJQbOi.  https://t.co/6vhltAOkdE</td>\n",
              "      <td>across africa, at any given time, red cross and red crescent national societies are responding to floods or cyclones with lifesaving actions. learn more:</td>\n",
              "      <td>across africa  at any given time  red cross and red crescent national societies are responding to floods or cyclones with lifesaving actions   learn more</td>\n",
              "    </tr>\n",
              "    <tr>\n",
              "      <th>1</th>\n",
              "      <td>Poor drainage in Transami means we have to endure flooding when there is rain in Nairobi. We need to redo the drainage networks in the city. #Nairobi #Floods  https://t.co/FfwBfro0KO</td>\n",
              "      <td>poor drainage in transami means we have to endure flooding when there is rain in nairobi. we need to redo the drainage networks in the city. nairobi floods</td>\n",
              "      <td>poor drainage in transami means we have to endure flooding when there is rain in nairobi  we need to redo the drainage networks in the city  nairobi floods</td>\n",
              "    </tr>\n",
              "    <tr>\n",
              "      <th>2</th>\n",
              "      <td>Daily brief:  🌥️ Queen's Speech intensifies #HS2 anxiety  https://t.co/Oqapyv1m9s  🌥️ @networkrail station competition winner revealed  https://t.co/Px3PLn9huQ  🌥️ Flood Action Plan launched  https://t.co/qIWqDlDQQn  #Engineering #CivilEngineering #Rail #Stations #Floods  https://t.co/mQWXqpiq2C</td>\n",
              "      <td>daily brief: 🌥️ queen's speech intensifies hs2 anxiety 🌥️ station competition winner revealed 🌥️ flood action plan launched engineering civilengineering rail stations floods</td>\n",
              "      <td>daily brief      queen s speech intensifies hs2 anxiety        station competition winner revealed       flood action plan launched    engineering civilengineering rail stations floods</td>\n",
              "    </tr>\n",
              "    <tr>\n",
              "      <th>3</th>\n",
              "      <td>#climate change impacts here already with #drought the #bushfires from August 2019 - March 2020 then #floods we need a plan for #NetZeroEmissions</td>\n",
              "      <td>climate change impacts here already with drought the bushfires from august 2019 - march 2020 then floods we need a plan for netzeroemissions</td>\n",
              "      <td>climate change impacts here already with drought the bushfires from august 2019   march 2020 then floods we need a plan for netzeroemissions</td>\n",
              "    </tr>\n",
              "    <tr>\n",
              "      <th>4</th>\n",
              "      <td>🧵: This is Thirst in a River Basin, an interactive  #InfoMap 🌍that pinpoints the areas most vulnerable to changing #rainfall and runoff patterns - factors that contribute to #droughts and #floods - and those already facing 💧 #water scarcity in the Nile.  https://t.co/gOZUu08Gxa  https://t.co/uaDstL349p</td>\n",
              "      <td>🧵: this is thirst in a river basin, an interactive infomap 🌍that pinpoints the areas most vulnerable to changing rainfall and runoff patterns - factors that contribute to droughts and floods - and those already facing 💧 water scarcity in the nile.</td>\n",
              "      <td>this is thirst in a river basin  an interactive  infomap  that pinpoints the areas most vulnerable to changing rainfall and runoff patterns   factors that contribute to droughts and floods   and those already facing   water scarcity in the nile</td>\n",
              "    </tr>\n",
              "    <tr>\n",
              "      <th>5</th>\n",
              "      <td>ఉత్తరాఖండ్‌లో వరదలు...  #Kaitvmedia #Keemedia1 #Urvasiott #Keeyoungmantra #Az7amnews #Uttarakhand #Floods #Theri  https://t.co/MpgLkAMm9X</td>\n",
              "      <td>ఉత్తరాఖండ్‌లో వరదలు... kaitvmedia keemedia1 urvasiott keeyoungmantra az7amnews uttarakhand floods theri</td>\n",
              "      <td>kaitvmedia keemedia1 urvasiott keeyoungmantra az7amnews uttarakhand floods theri</td>\n",
              "    </tr>\n",
              "    <tr>\n",
              "      <th>6</th>\n",
              "      <td>What if we could avoid Fatbergs, #Sewer Blockages, and #Floods? That's what Brian Moloney shares us in this week's #Podcast. 🎧 Fatbergs Right Ahead? Not if you Harvest the Right Data! ▶ Listen to the full episode on your favorite Podcatcher, or on  https://t.co/PaCpbIkwNx  https://t.co/NuVfDwoiTD</td>\n",
              "      <td>what if we could avoid fatbergs, sewer blockages, and floods? that is what brian moloney shares us in this week's podcast. 🎧 fatbergs right ahead? not if you harvest the right data! ▶ listen to the full episode on your favorite podcatcher, or on</td>\n",
              "      <td>what if we could avoid fatbergs  sewer blockages  and floods  that s what brian moloney shares us in this week s podcast    fatbergs right ahead  not if you harvest the right data    listen to the full episode on your favorite podcatcher  or on</td>\n",
              "    </tr>\n",
              "    <tr>\n",
              "      <th>7</th>\n",
              "      <td>#UPDATE 🇺🇳#UN #Somalia #Geneva #FLOODS Map by @CopernicusEMS  On Tuesday, UN humanitarians said that torrential rains in parts of Somalia caused flash floods, killing at least 25 people just two weeks after the country was declared drought-stricken.  https://t.co/lZH0rKlCaE</td>\n",
              "      <td>update 🇺🇳un somalia geneva floods map by on tuesday, un humanitarians said that torrential rains in parts of somalia caused flash floods, killing at least 25 people just two weeks after the country was declared drought-stricken.</td>\n",
              "      <td>update   un somalia geneva floods map by   on tuesday  un humanitarians said that torrential rains in parts of somalia caused flash floods  killing at least 25 people just two weeks after the country was declared drought stricken</td>\n",
              "    </tr>\n",
              "    <tr>\n",
              "      <th>8</th>\n",
              "      <td>@redcrosscanada help !!! @amnesty @HRWatchdog #FortSimpson #floods</td>\n",
              "      <td>help !!! fortsimpson floods</td>\n",
              "      <td>help       fortsimpson floods</td>\n",
              "    </tr>\n",
              "    <tr>\n",
              "      <th>9</th>\n",
              "      <td>Indian and Global #films. How have they depicted #floods and flood #victims? Welcoming Dr. Suchandra Ghatak as a speaker. TMYS Review Sept 2021  Calling for #essays, #stories, #poems on Migration, Resettlement and Displacement of Flood victims.  https://t.co/yEphjmZDgt  https://t.co/QIrjC6B38S</td>\n",
              "      <td>indian and global films. how have they depicted floods and flood victims? welcoming dr. suchandra ghatak as a speaker. tmys review sept 2021 calling for essays, stories, poems on migration, resettlement and displacement of flood victims.</td>\n",
              "      <td>indian and global films  how have they depicted floods and flood victims  welcoming dr  suchandra ghatak as a speaker  tmys review sept 2021  calling for essays  stories  poems on migration  resettlement and displacement of flood victims</td>\n",
              "    </tr>\n",
              "    <tr>\n",
              "      <th>10</th>\n",
              "      <td>Fangak appeals for humanitarian aid as #floods engulf areas  https://t.co/8qso0r7YwB</td>\n",
              "      <td>fangak appeals for humanitarian aid as floods engulf areas</td>\n",
              "      <td>fangak appeals for humanitarian aid as floods engulf areas</td>\n",
              "    </tr>\n",
              "    <tr>\n",
              "      <th>11</th>\n",
              "      <td>#SUPERBOYPROJECT #ANTWONTRINH #GARGANTUAN FOAMS MOLDINGS VIA #PROJECTTSUNAMI &amp;amp; #FLOODS  PREVENTIONS READY; #WINDMILL W/ SOLAR POWER/WATER MILL CHARGER, FLOAT EMPTY BARRIERS _ IN WATER, AND SAME H20/SAND @ INLANDS †  🌊  https://t.co/bSThvaYS2M 💦  🏝️  https://t.co/58wcXtwpFR 🏖️  https://t.co/kHU3ywFeKd</td>\n",
              "      <td>superboyproject antwontrinh gargantuan foams moldings via projecttsunami &amp;amp; floods preventions ready; windmill w/ solar power/water mill charger, float empty barriers _ in water, and same h20/sand @ inlands † 🌊 💦 🏝️ 🏖️</td>\n",
              "      <td>superboyproject antwontrinh gargantuan foams moldings via projecttsunami  amp  floods  preventions ready  windmill w  solar power water mill charger  float empty barriers   in water  and same h20 sand   inlands</td>\n",
              "    </tr>\n",
              "    <tr>\n",
              "      <th>12</th>\n",
              "      <td>Sharing my new open access article about floods' effect on men's and women's time-use in Pakistan. Findings show men help out more in household work after #floods leading to a decline in #gender #inequality in unpaid work. Data source: @IFPRI PRHPS.  https://t.co/wtgOR5xUtS  https://t.co/kSPZ7R41mr</td>\n",
              "      <td>sharing my new open access article about floods' effect on men's and women's time-use in pakistan. findings show men help out more in household work after floods leading to a decline in gender inequality in unpaid work. data source: prhps.</td>\n",
              "      <td>sharing my new open access article about floods  effect on men s and women s time use in pakistan  findings show men help out more in household work after floods leading to a decline in gender inequality in unpaid work  data source   prhps</td>\n",
              "    </tr>\n",
              "    <tr>\n",
              "      <th>13</th>\n",
              "      <td>Tajikistan sinks flash flood in several sectors  https://t.co/nnWZXPcKRT  #Tayikistán #floods #kulob #dushanbe #storm #flooding #Кулоб #Душанбе  https://t.co/HPSPgFf3kQ</td>\n",
              "      <td>tajikistan sinks flash flood in several sectors tayikistán floods kulob dushanbe storm flooding кулоб душанбе</td>\n",
              "      <td>tajikistan sinks flash flood in several sectors    tayikist n floods kulob dushanbe storm flooding</td>\n",
              "    </tr>\n",
              "    <tr>\n",
              "      <th>14</th>\n",
              "      <td>Tajikistan sinks flash flood in several sectors  https://t.co/nnWZXPcKRT  #Tayikistán #floods #kulob #dushanbe #storm #flooding #Кулоб #Душанбе  https://t.co/sVZyowdxoN</td>\n",
              "      <td>tajikistan sinks flash flood in several sectors tayikistán floods kulob dushanbe storm flooding кулоб душанбе</td>\n",
              "      <td>tajikistan sinks flash flood in several sectors    tayikist n floods kulob dushanbe storm flooding</td>\n",
              "    </tr>\n",
              "  </tbody>\n",
              "</table>\n",
              "</div>"
            ],
            "text/plain": [
              "                                                                                                                                                                                                                                                                                                                tweet  ...                                                                                                                                                                                                                                        Cleaned Tweets Further\n",
              "0                                                                                                      Across Africa, at any given time, Red Cross and Red Crescent National Societies are responding to #floods or cyclones with lifesaving actions.  Learn more:  https://t.co/iLiQpJQbOi.  https://t.co/6vhltAOkdE  ...                                                                                                across africa  at any given time  red cross and red crescent national societies are responding to floods or cyclones with lifesaving actions   learn more     \n",
              "1                                                                                                                              Poor drainage in Transami means we have to endure flooding when there is rain in Nairobi. We need to redo the drainage networks in the city. #Nairobi #Floods  https://t.co/FfwBfro0KO  ...                                                                                                 poor drainage in transami means we have to endure flooding when there is rain in nairobi  we need to redo the drainage networks in the city  nairobi floods  \n",
              "2            Daily brief:  🌥️ Queen's Speech intensifies #HS2 anxiety  https://t.co/Oqapyv1m9s  🌥️ @networkrail station competition winner revealed  https://t.co/Px3PLn9huQ  🌥️ Flood Action Plan launched  https://t.co/qIWqDlDQQn  #Engineering #CivilEngineering #Rail #Stations #Floods  https://t.co/mQWXqpiq2C  ...                                                                    daily brief      queen s speech intensifies hs2 anxiety        station competition winner revealed       flood action plan launched    engineering civilengineering rail stations floods  \n",
              "3                                                                                                                                                                   #climate change impacts here already with #drought the #bushfires from August 2019 - March 2020 then #floods we need a plan for #NetZeroEmissions  ...                                                                                                                  climate change impacts here already with drought the bushfires from august 2019   march 2020 then floods we need a plan for netzeroemissions\n",
              "4     🧵: This is Thirst in a River Basin, an interactive  #InfoMap 🌍that pinpoints the areas most vulnerable to changing #rainfall and runoff patterns - factors that contribute to #droughts and #floods - and those already facing 💧 #water scarcity in the Nile.  https://t.co/gOZUu08Gxa  https://t.co/uaDstL349p  ...     this is thirst in a river basin  an interactive  infomap  that pinpoints the areas most vulnerable to changing rainfall and runoff patterns   factors that contribute to droughts and floods   and those already facing   water scarcity in the nile     \n",
              "5                                                                                                                                                                           ఉత్తరాఖండ్‌లో వరదలు...  #Kaitvmedia #Keemedia1 #Urvasiott #Keeyoungmantra #Az7amnews #Uttarakhand #Floods #Theri  https://t.co/MpgLkAMm9X  ...                                                                                                                                                                            kaitvmedia keemedia1 urvasiott keeyoungmantra az7amnews uttarakhand floods theri  \n",
              "6           What if we could avoid Fatbergs, #Sewer Blockages, and #Floods? That's what Brian Moloney shares us in this week's #Podcast. 🎧 Fatbergs Right Ahead? Not if you Harvest the Right Data! ▶ Listen to the full episode on your favorite Podcatcher, or on  https://t.co/PaCpbIkwNx  https://t.co/NuVfDwoiTD  ...      what if we could avoid fatbergs  sewer blockages  and floods  that s what brian moloney shares us in this week s podcast    fatbergs right ahead  not if you harvest the right data    listen to the full episode on your favorite podcatcher  or on    \n",
              "7                                  #UPDATE 🇺🇳#UN #Somalia #Geneva #FLOODS Map by @CopernicusEMS  On Tuesday, UN humanitarians said that torrential rains in parts of Somalia caused flash floods, killing at least 25 people just two weeks after the country was declared drought-stricken.  https://t.co/lZH0rKlCaE  ...                      update   un somalia geneva floods map by   on tuesday  un humanitarians said that torrential rains in parts of somalia caused flash floods  killing at least 25 people just two weeks after the country was declared drought stricken   \n",
              "8                                                                                                                                                                                                                                                  @redcrosscanada help !!! @amnesty @HRWatchdog #FortSimpson #floods  ...                                                                                                                                                                                                                                 help       fortsimpson floods\n",
              "9              Indian and Global #films. How have they depicted #floods and flood #victims? Welcoming Dr. Suchandra Ghatak as a speaker. TMYS Review Sept 2021  Calling for #essays, #stories, #poems on Migration, Resettlement and Displacement of Flood victims.  https://t.co/yEphjmZDgt  https://t.co/QIrjC6B38S  ...            indian and global films  how have they depicted floods and flood victims  welcoming dr  suchandra ghatak as a speaker  tmys review sept 2021  calling for essays  stories  poems on migration  resettlement and displacement of flood victims     \n",
              "10                                                                                                                                                                                                                               Fangak appeals for humanitarian aid as #floods engulf areas  https://t.co/8qso0r7YwB  ...                                                                                                                                                                                                  fangak appeals for humanitarian aid as floods engulf areas  \n",
              "11  #SUPERBOYPROJECT #ANTWONTRINH #GARGANTUAN FOAMS MOLDINGS VIA #PROJECTTSUNAMI &amp; #FLOODS  PREVENTIONS READY; #WINDMILL W/ SOLAR POWER/WATER MILL CHARGER, FLOAT EMPTY BARRIERS _ IN WATER, AND SAME H20/SAND @ INLANDS †  🌊  https://t.co/bSThvaYS2M 💦  🏝️  https://t.co/58wcXtwpFR 🏖️  https://t.co/kHU3ywFeKd  ...                        superboyproject antwontrinh gargantuan foams moldings via projecttsunami  amp  floods  preventions ready  windmill w  solar power water mill charger  float empty barriers   in water  and same h20 sand   inlands                    \n",
              "12        Sharing my new open access article about floods' effect on men's and women's time-use in Pakistan. Findings show men help out more in household work after #floods leading to a decline in #gender #inequality in unpaid work. Data source: @IFPRI PRHPS.  https://t.co/wtgOR5xUtS  https://t.co/kSPZ7R41mr  ...          sharing my new open access article about floods  effect on men s and women s time use in pakistan  findings show men help out more in household work after floods leading to a decline in gender inequality in unpaid work  data source   prhps     \n",
              "13                                                                                                                                           Tajikistan sinks flash flood in several sectors  https://t.co/nnWZXPcKRT  #Tayikistán #floods #kulob #dushanbe #storm #flooding #Кулоб #Душанбе  https://t.co/HPSPgFf3kQ  ...                                                                                                                                            tajikistan sinks flash flood in several sectors    tayikist n floods kulob dushanbe storm flooding                \n",
              "14                                                                                                                                           Tajikistan sinks flash flood in several sectors  https://t.co/nnWZXPcKRT  #Tayikistán #floods #kulob #dushanbe #storm #flooding #Кулоб #Душанбе  https://t.co/sVZyowdxoN  ...                                                                                                                                            tajikistan sinks flash flood in several sectors    tayikist n floods kulob dushanbe storm flooding                \n",
              "\n",
              "[15 rows x 3 columns]"
            ]
          },
          "metadata": {
            "tags": []
          },
          "execution_count": 45
        }
      ]
    },
    {
      "cell_type": "markdown",
      "metadata": {
        "id": "6oivXHE6MYLe"
      },
      "source": [
        "Below code will remove all the characters other than alphanumeric. This I could have done earlier, but is done later to make sure it doesn't remove other important things."
      ]
    },
    {
      "cell_type": "code",
      "metadata": {
        "colab": {
          "base_uri": "https://localhost:8080/",
          "height": 582
        },
        "id": "_mn73TyWKGo9",
        "outputId": "2d8fedbe-f7d0-43f8-9674-1f53e3e79a79"
      },
      "source": [
        "def cleaned_further(text):\n",
        "    clean=re.sub(\"[^a-zA-Z0-9]\",\" \",text)\n",
        "    return clean\n",
        "df2['Cleaned Tweets Further'] = df2['Cleaned Tweets'].apply(cleaned_further)\n",
        "df2.head()"
      ],
      "execution_count": 44,
      "outputs": [
        {
          "output_type": "stream",
          "text": [
            "/usr/local/lib/python3.7/dist-packages/ipykernel_launcher.py:4: SettingWithCopyWarning: \n",
            "A value is trying to be set on a copy of a slice from a DataFrame.\n",
            "Try using .loc[row_indexer,col_indexer] = value instead\n",
            "\n",
            "See the caveats in the documentation: https://pandas.pydata.org/pandas-docs/stable/user_guide/indexing.html#returning-a-view-versus-a-copy\n",
            "  after removing the cwd from sys.path.\n"
          ],
          "name": "stderr"
        },
        {
          "output_type": "execute_result",
          "data": {
            "text/html": [
              "<div>\n",
              "<style scoped>\n",
              "    .dataframe tbody tr th:only-of-type {\n",
              "        vertical-align: middle;\n",
              "    }\n",
              "\n",
              "    .dataframe tbody tr th {\n",
              "        vertical-align: top;\n",
              "    }\n",
              "\n",
              "    .dataframe thead th {\n",
              "        text-align: right;\n",
              "    }\n",
              "</style>\n",
              "<table border=\"1\" class=\"dataframe\">\n",
              "  <thead>\n",
              "    <tr style=\"text-align: right;\">\n",
              "      <th></th>\n",
              "      <th>tweet</th>\n",
              "      <th>Cleaned Tweets</th>\n",
              "      <th>Cleaned Tweets Further</th>\n",
              "    </tr>\n",
              "  </thead>\n",
              "  <tbody>\n",
              "    <tr>\n",
              "      <th>0</th>\n",
              "      <td>Across Africa, at any given time, Red Cross and Red Crescent National Societies are responding to #floods or cyclones with lifesaving actions.  Learn more:  https://t.co/iLiQpJQbOi.  https://t.co/6vhltAOkdE</td>\n",
              "      <td>across africa, at any given time, red cross and red crescent national societies are responding to floods or cyclones with lifesaving actions.  learn more:</td>\n",
              "      <td>across africa  at any given time  red cross and red crescent national societies are responding to floods or cyclones with lifesaving actions   learn more</td>\n",
              "    </tr>\n",
              "    <tr>\n",
              "      <th>1</th>\n",
              "      <td>Poor drainage in Transami means we have to endure flooding when there is rain in Nairobi. We need to redo the drainage networks in the city. #Nairobi #Floods  https://t.co/FfwBfro0KO</td>\n",
              "      <td>poor drainage in transami means we have to endure flooding when there is rain in nairobi. we need to redo the drainage networks in the city. nairobi floods</td>\n",
              "      <td>poor drainage in transami means we have to endure flooding when there is rain in nairobi  we need to redo the drainage networks in the city  nairobi floods</td>\n",
              "    </tr>\n",
              "    <tr>\n",
              "      <th>2</th>\n",
              "      <td>Daily brief:  🌥️ Queen's Speech intensifies #HS2 anxiety  https://t.co/Oqapyv1m9s  🌥️ @networkrail station competition winner revealed  https://t.co/Px3PLn9huQ  🌥️ Flood Action Plan launched  https://t.co/qIWqDlDQQn  #Engineering #CivilEngineering #Rail #Stations #Floods  https://t.co/mQWXqpiq2C</td>\n",
              "      <td>daily brief:  🌥️ queen's speech intensifies hs2 anxiety    🌥️  station competition winner revealed    🌥️ flood action plan launched    engineering civilengineering rail stations floods</td>\n",
              "      <td>daily brief      queen s speech intensifies hs2 anxiety        station competition winner revealed       flood action plan launched    engineering civilengineering rail stations floods</td>\n",
              "    </tr>\n",
              "    <tr>\n",
              "      <th>3</th>\n",
              "      <td>#climate change impacts here already with #drought the #bushfires from August 2019 - March 2020 then #floods we need a plan for #NetZeroEmissions</td>\n",
              "      <td>climate change impacts here already with drought the bushfires from august 2019 - march 2020 then floods we need a plan for netzeroemissions</td>\n",
              "      <td>climate change impacts here already with drought the bushfires from august 2019   march 2020 then floods we need a plan for netzeroemissions</td>\n",
              "    </tr>\n",
              "    <tr>\n",
              "      <th>4</th>\n",
              "      <td>🧵: This is Thirst in a River Basin, an interactive  #InfoMap 🌍that pinpoints the areas most vulnerable to changing #rainfall and runoff patterns - factors that contribute to #droughts and #floods - and those already facing 💧 #water scarcity in the Nile.  https://t.co/gOZUu08Gxa  https://t.co/uaDstL349p</td>\n",
              "      <td>🧵: this is thirst in a river basin, an interactive  infomap 🌍that pinpoints the areas most vulnerable to changing rainfall and runoff patterns - factors that contribute to droughts and floods - and those already facing 💧 water scarcity in the nile.</td>\n",
              "      <td>this is thirst in a river basin  an interactive  infomap  that pinpoints the areas most vulnerable to changing rainfall and runoff patterns   factors that contribute to droughts and floods   and those already facing   water scarcity in the nile</td>\n",
              "    </tr>\n",
              "  </tbody>\n",
              "</table>\n",
              "</div>"
            ],
            "text/plain": [
              "                                                                                                                                                                                                                                                                                                             tweet  ...                                                                                                                                                                                                                                        Cleaned Tweets Further\n",
              "0                                                                                                   Across Africa, at any given time, Red Cross and Red Crescent National Societies are responding to #floods or cyclones with lifesaving actions.  Learn more:  https://t.co/iLiQpJQbOi.  https://t.co/6vhltAOkdE  ...                                                                                                across africa  at any given time  red cross and red crescent national societies are responding to floods or cyclones with lifesaving actions   learn more     \n",
              "1                                                                                                                           Poor drainage in Transami means we have to endure flooding when there is rain in Nairobi. We need to redo the drainage networks in the city. #Nairobi #Floods  https://t.co/FfwBfro0KO  ...                                                                                                 poor drainage in transami means we have to endure flooding when there is rain in nairobi  we need to redo the drainage networks in the city  nairobi floods  \n",
              "2         Daily brief:  🌥️ Queen's Speech intensifies #HS2 anxiety  https://t.co/Oqapyv1m9s  🌥️ @networkrail station competition winner revealed  https://t.co/Px3PLn9huQ  🌥️ Flood Action Plan launched  https://t.co/qIWqDlDQQn  #Engineering #CivilEngineering #Rail #Stations #Floods  https://t.co/mQWXqpiq2C  ...                                                                    daily brief      queen s speech intensifies hs2 anxiety        station competition winner revealed       flood action plan launched    engineering civilengineering rail stations floods  \n",
              "3                                                                                                                                                                #climate change impacts here already with #drought the #bushfires from August 2019 - March 2020 then #floods we need a plan for #NetZeroEmissions  ...                                                                                                                  climate change impacts here already with drought the bushfires from august 2019   march 2020 then floods we need a plan for netzeroemissions\n",
              "4  🧵: This is Thirst in a River Basin, an interactive  #InfoMap 🌍that pinpoints the areas most vulnerable to changing #rainfall and runoff patterns - factors that contribute to #droughts and #floods - and those already facing 💧 #water scarcity in the Nile.  https://t.co/gOZUu08Gxa  https://t.co/uaDstL349p  ...     this is thirst in a river basin  an interactive  infomap  that pinpoints the areas most vulnerable to changing rainfall and runoff patterns   factors that contribute to droughts and floods   and those already facing   water scarcity in the nile     \n",
              "\n",
              "[5 rows x 3 columns]"
            ]
          },
          "metadata": {
            "tags": []
          },
          "execution_count": 44
        }
      ]
    },
    {
      "cell_type": "markdown",
      "metadata": {
        "id": "n-fuZmnHM5lf"
      },
      "source": [
        "**Almost all most of the pre-processing is done, now the only part that is remaining is extracting the locations from all the text. I will update it soon. You guys also work on it.**"
      ]
    }
  ]
}