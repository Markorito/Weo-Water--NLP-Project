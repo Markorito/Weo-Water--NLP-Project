{
  "nbformat": 4,
  "nbformat_minor": 0,
  "metadata": {
    "colab": {
      "name": "news_article_data_transformed.ipynb",
      "provenance": []
    },
    "kernelspec": {
      "name": "python3",
      "display_name": "Python 3"
    },
    "language_info": {
      "name": "python"
    }
  },
  "cells": [
    {
      "cell_type": "markdown",
      "metadata": {
        "id": "HjYwnSUk36zh"
      },
      "source": [
        "## Introduction\n",
        "In this task we will transform the news articles  dataset to suit the agreed format. "
      ]
    },
    {
      "cell_type": "code",
      "metadata": {
        "id": "fr9V76Yv6MHH"
      },
      "source": [
        "\"\"\" Warning : Don't forget to remove your github username and token after running this cell \"\"\"\n",
        " \n",
        "import pandas as pd\n",
        "import requests\n",
        "import io\n",
        " \n",
        "# Username of your GitHub account\n",
        "\n",
        "username = ''\n",
        "\n",
        "# Personal Access Token (PAO) from your GitHub account\n",
        "\n",
        "token = ''\n",
        " \n",
        "# Creates a re-usable session object with your creds in-built\n",
        " \n",
        "github_session = requests.Session()\n",
        "github_session.auth = (username, token)"
      ],
      "execution_count": 1,
      "outputs": []
    },
    {
      "cell_type": "code",
      "metadata": {
        "colab": {
          "base_uri": "https://localhost:8080/"
        },
        "id": "p27UQi1b6hhc",
        "outputId": "8de4c3b9-3600-4a6f-b2d0-c2d52e9398f9"
      },
      "source": [
        "#Loading the file so we can be able to clean it\n",
        "\n",
        "url = 'https://raw.githubusercontent.com/OmdenaAI/WeoWater/main/task-4-scraping-newspapers/labelled_data/cleaned_merged_labbeled_newspaper_data.csv'\n",
        "download = github_session.get(url).content #Reading and downloading the data\n",
        "\n",
        "data = pd.read_csv(io.StringIO(download.decode('utf-8'))) #Converting the data into a pd dataframe\n",
        "data.shape"
      ],
      "execution_count": 2,
      "outputs": [
        {
          "output_type": "execute_result",
          "data": {
            "text/plain": [
              "(4750, 11)"
            ]
          },
          "metadata": {
            "tags": []
          },
          "execution_count": 2
        }
      ]
    },
    {
      "cell_type": "code",
      "metadata": {
        "colab": {
          "base_uri": "https://localhost:8080/",
          "height": 445
        },
        "id": "Tr6P_hvn60sk",
        "outputId": "a9d54ccd-ea53-45b4-8efe-f7e565c76ffa"
      },
      "source": [
        "data.head(5)"
      ],
      "execution_count": 3,
      "outputs": [
        {
          "output_type": "execute_result",
          "data": {
            "text/html": [
              "<div>\n",
              "<style scoped>\n",
              "    .dataframe tbody tr th:only-of-type {\n",
              "        vertical-align: middle;\n",
              "    }\n",
              "\n",
              "    .dataframe tbody tr th {\n",
              "        vertical-align: top;\n",
              "    }\n",
              "\n",
              "    .dataframe thead th {\n",
              "        text-align: right;\n",
              "    }\n",
              "</style>\n",
              "<table border=\"1\" class=\"dataframe\">\n",
              "  <thead>\n",
              "    <tr style=\"text-align: right;\">\n",
              "      <th></th>\n",
              "      <th>Unnamed: 0</th>\n",
              "      <th>event_id</th>\n",
              "      <th>article_title</th>\n",
              "      <th>article_link</th>\n",
              "      <th>article_content</th>\n",
              "      <th>publishing_date</th>\n",
              "      <th>article_image</th>\n",
              "      <th>article_keywords</th>\n",
              "      <th>category</th>\n",
              "      <th>country</th>\n",
              "      <th>data source</th>\n",
              "    </tr>\n",
              "  </thead>\n",
              "  <tbody>\n",
              "    <tr>\n",
              "      <th>0</th>\n",
              "      <td>438</td>\n",
              "      <td>DR-2014-000109-CHN</td>\n",
              "      <td>Worst drought in 63 years hits Liaoning provin...</td>\n",
              "      <td>https://www.scmp.com/news/china/article/157349...</td>\n",
              "      <td>Liaoning averaged 90mm across the province in ...</td>\n",
              "      <td>2014-08-14 07:00:00+00:00</td>\n",
              "      <td>https://cdn1.i-scmp.com/sites/default/files/st...</td>\n",
              "      <td>['averaged', 'liaoning', 'hits', 'dry', 'droug...</td>\n",
              "      <td>drought</td>\n",
              "      <td>China</td>\n",
              "      <td>newspaper</td>\n",
              "    </tr>\n",
              "    <tr>\n",
              "      <th>1</th>\n",
              "      <td>439</td>\n",
              "      <td>DR-2014-000109-CHN</td>\n",
              "      <td>In Time Of Drought, U.S. West's Alfalfa Export...</td>\n",
              "      <td>https://www.npr.org/2014/08/12/339753108/in-ti...</td>\n",
              "      <td>In Time Of Drought, U.S. West's Alfalfa Export...</td>\n",
              "      <td>2014-08-12 07:00:00+00:00</td>\n",
              "      <td>https://media.npr.org/include/images/facebook-...</td>\n",
              "      <td>['criticized', 'river', 'drought', 'farmers', ...</td>\n",
              "      <td>drought</td>\n",
              "      <td>China</td>\n",
              "      <td>newspaper</td>\n",
              "    </tr>\n",
              "    <tr>\n",
              "      <th>2</th>\n",
              "      <td>440</td>\n",
              "      <td>DR-2014-000109-CHN</td>\n",
              "      <td>More Chinese on the Coast, Less Fish in the Se...</td>\n",
              "      <td>https://www.scientificamerican.com/article/mor...</td>\n",
              "      <td>China's booming economic growth is helping to ...</td>\n",
              "      <td>2014-08-08 07:00:00+00:00</td>\n",
              "      <td>http://www.scientificamerican.com/themes/respo...</td>\n",
              "      <td>['bertness', 'chinese', 'research', 'sea', 'ec...</td>\n",
              "      <td>none</td>\n",
              "      <td>China</td>\n",
              "      <td>newspaper</td>\n",
              "    </tr>\n",
              "    <tr>\n",
              "      <th>3</th>\n",
              "      <td>441</td>\n",
              "      <td>DR-2014-000109-CHN</td>\n",
              "      <td>Climate change and drought in ancient times - ...</td>\n",
              "      <td>https://www.sciencedaily.com/releases/2014/08/...</td>\n",
              "      <td>The influence of climate on agriculture is bel...</td>\n",
              "      <td>2014-08-11 07:00:00+00:00</td>\n",
              "      <td>https://www.sciencedaily.com/images/scidaily-i...</td>\n",
              "      <td>['climate', 'drought', 'ancient', 'agriculture...</td>\n",
              "      <td>drought</td>\n",
              "      <td>China</td>\n",
              "      <td>newspaper</td>\n",
              "    </tr>\n",
              "    <tr>\n",
              "      <th>4</th>\n",
              "      <td>442</td>\n",
              "      <td>DR-2014-000109-CHN</td>\n",
              "      <td>Drought-Resistant Rice Sows Wealth in India - ...</td>\n",
              "      <td>https://www.wsj.com/articles/drought-resistant...</td>\n",
              "      <td>NaN</td>\n",
              "      <td>2014-08-04 07:00:00+00:00</td>\n",
              "      <td>NaN</td>\n",
              "      <td>[]</td>\n",
              "      <td>none</td>\n",
              "      <td>China</td>\n",
              "      <td>newspaper</td>\n",
              "    </tr>\n",
              "  </tbody>\n",
              "</table>\n",
              "</div>"
            ],
            "text/plain": [
              "   Unnamed: 0            event_id  ... country data source\n",
              "0         438  DR-2014-000109-CHN  ...   China   newspaper\n",
              "1         439  DR-2014-000109-CHN  ...   China   newspaper\n",
              "2         440  DR-2014-000109-CHN  ...   China   newspaper\n",
              "3         441  DR-2014-000109-CHN  ...   China   newspaper\n",
              "4         442  DR-2014-000109-CHN  ...   China   newspaper\n",
              "\n",
              "[5 rows x 11 columns]"
            ]
          },
          "metadata": {
            "tags": []
          },
          "execution_count": 3
        }
      ]
    },
    {
      "cell_type": "code",
      "metadata": {
        "id": "A5X5tXFiE1R1"
      },
      "source": [
        "#Add the language column \n",
        "data['language'] = 'English'"
      ],
      "execution_count": 4,
      "outputs": []
    },
    {
      "cell_type": "code",
      "metadata": {
        "id": "ttN7DkQd7ZiC"
      },
      "source": [
        "data['data source'] = data['data source'].replace({'newspaper':'news article'}) "
      ],
      "execution_count": 5,
      "outputs": []
    },
    {
      "cell_type": "code",
      "metadata": {
        "colab": {
          "base_uri": "https://localhost:8080/"
        },
        "id": "jbeuTGU08HXk",
        "outputId": "3f8022e9-0923-4432-d2d0-3819cb5b61f5"
      },
      "source": [
        "data.info()"
      ],
      "execution_count": 6,
      "outputs": [
        {
          "output_type": "stream",
          "text": [
            "<class 'pandas.core.frame.DataFrame'>\n",
            "RangeIndex: 4750 entries, 0 to 4749\n",
            "Data columns (total 12 columns):\n",
            " #   Column            Non-Null Count  Dtype \n",
            "---  ------            --------------  ----- \n",
            " 0   Unnamed: 0        4750 non-null   int64 \n",
            " 1   event_id          4750 non-null   object\n",
            " 2   article_title     4750 non-null   object\n",
            " 3   article_link      4750 non-null   object\n",
            " 4   article_content   4359 non-null   object\n",
            " 5   publishing_date   4750 non-null   object\n",
            " 6   article_image     4303 non-null   object\n",
            " 7   article_keywords  4750 non-null   object\n",
            " 8   category          4346 non-null   object\n",
            " 9   country           4750 non-null   object\n",
            " 10  data source       4750 non-null   object\n",
            " 11  language          4750 non-null   object\n",
            "dtypes: int64(1), object(11)\n",
            "memory usage: 445.4+ KB\n"
          ],
          "name": "stdout"
        }
      ]
    },
    {
      "cell_type": "code",
      "metadata": {
        "colab": {
          "base_uri": "https://localhost:8080/"
        },
        "id": "PdxCuGS58MAb",
        "outputId": "3e0e60f9-9dac-4071-dbd8-d62bf2116a8c"
      },
      "source": [
        "#transform the data to suit the data format\n",
        "df_transformed = data.rename(columns={'event_id': 'Id',\n",
        "                                    'article_title': 'title',\n",
        "                                    'article_link': 'source URL',\n",
        "                                    'article_content':'body',\n",
        "                                    'publishing_date':'time',\n",
        "                                    'article_keywords':'keywords'})\n",
        "df_transformed.drop(columns=['Unnamed: 0', 'article_image'],\n",
        "                    inplace=True)\n",
        "\n",
        "df_transformed.dropna(inplace=True)\n",
        "df_transformed.drop_duplicates('body',inplace=True)\n",
        "\n",
        "df_transformed.shape"
      ],
      "execution_count": 7,
      "outputs": [
        {
          "output_type": "execute_result",
          "data": {
            "text/plain": [
              "(2496, 10)"
            ]
          },
          "metadata": {
            "tags": []
          },
          "execution_count": 7
        }
      ]
    },
    {
      "cell_type": "code",
      "metadata": {
        "colab": {
          "base_uri": "https://localhost:8080/"
        },
        "id": "e_f7cUuNB-2C",
        "outputId": "0701f833-00c0-4fe4-ed13-a35800a1acf0"
      },
      "source": [
        "df_transformed.info()"
      ],
      "execution_count": 8,
      "outputs": [
        {
          "output_type": "stream",
          "text": [
            "<class 'pandas.core.frame.DataFrame'>\n",
            "Int64Index: 2496 entries, 0 to 4749\n",
            "Data columns (total 10 columns):\n",
            " #   Column       Non-Null Count  Dtype \n",
            "---  ------       --------------  ----- \n",
            " 0   Id           2496 non-null   object\n",
            " 1   title        2496 non-null   object\n",
            " 2   source URL   2496 non-null   object\n",
            " 3   body         2496 non-null   object\n",
            " 4   time         2496 non-null   object\n",
            " 5   keywords     2496 non-null   object\n",
            " 6   category     2496 non-null   object\n",
            " 7   country      2496 non-null   object\n",
            " 8   data source  2496 non-null   object\n",
            " 9   language     2496 non-null   object\n",
            "dtypes: object(10)\n",
            "memory usage: 214.5+ KB\n"
          ],
          "name": "stdout"
        }
      ]
    },
    {
      "cell_type": "code",
      "metadata": {
        "colab": {
          "base_uri": "https://localhost:8080/"
        },
        "id": "1m7GBhsc9maK",
        "outputId": "bd218b3c-a22b-46eb-9f5d-326a185be54d"
      },
      "source": [
        "#converting publishing date from object to datetime\n",
        "df_transformed['time'] = pd.to_datetime(df_transformed['time'], errors='coerce',utc=True)\n",
        "df_transformed = df_transformed.dropna(subset=['time'])\n",
        "\n",
        "df_transformed.info()"
      ],
      "execution_count": 9,
      "outputs": [
        {
          "output_type": "stream",
          "text": [
            "<class 'pandas.core.frame.DataFrame'>\n",
            "Int64Index: 2496 entries, 0 to 4749\n",
            "Data columns (total 10 columns):\n",
            " #   Column       Non-Null Count  Dtype              \n",
            "---  ------       --------------  -----              \n",
            " 0   Id           2496 non-null   object             \n",
            " 1   title        2496 non-null   object             \n",
            " 2   source URL   2496 non-null   object             \n",
            " 3   body         2496 non-null   object             \n",
            " 4   time         2496 non-null   datetime64[ns, UTC]\n",
            " 5   keywords     2496 non-null   object             \n",
            " 6   category     2496 non-null   object             \n",
            " 7   country      2496 non-null   object             \n",
            " 8   data source  2496 non-null   object             \n",
            " 9   language     2496 non-null   object             \n",
            "dtypes: datetime64[ns, UTC](1), object(9)\n",
            "memory usage: 214.5+ KB\n"
          ],
          "name": "stdout"
        }
      ]
    },
    {
      "cell_type": "code",
      "metadata": {
        "colab": {
          "base_uri": "https://localhost:8080/"
        },
        "id": "oe2gKqX47bqG",
        "outputId": "2f9f9049-0dc3-4307-f707-42fdd6bb72fb"
      },
      "source": [
        "df = df_transformed[df_transformed.Id == 'FL-2017-000067-BRA']\n",
        "df['country'].value_counts()"
      ],
      "execution_count": 10,
      "outputs": [
        {
          "output_type": "execute_result",
          "data": {
            "text/plain": [
              "Kenya     93\n",
              "Brazil    31\n",
              "Name: country, dtype: int64"
            ]
          },
          "metadata": {
            "tags": []
          },
          "execution_count": 10
        }
      ]
    },
    {
      "cell_type": "code",
      "metadata": {
        "colab": {
          "base_uri": "https://localhost:8080/",
          "height": 632
        },
        "id": "y2_mupEL7rWk",
        "outputId": "a1dbe7c5-04bb-40fe-88c1-9c20d42d6667"
      },
      "source": [
        "df = df[df.country != 'Brazil']\n",
        "df.head()"
      ],
      "execution_count": 11,
      "outputs": [
        {
          "output_type": "execute_result",
          "data": {
            "text/html": [
              "<div>\n",
              "<style scoped>\n",
              "    .dataframe tbody tr th:only-of-type {\n",
              "        vertical-align: middle;\n",
              "    }\n",
              "\n",
              "    .dataframe tbody tr th {\n",
              "        vertical-align: top;\n",
              "    }\n",
              "\n",
              "    .dataframe thead th {\n",
              "        text-align: right;\n",
              "    }\n",
              "</style>\n",
              "<table border=\"1\" class=\"dataframe\">\n",
              "  <thead>\n",
              "    <tr style=\"text-align: right;\">\n",
              "      <th></th>\n",
              "      <th>Id</th>\n",
              "      <th>title</th>\n",
              "      <th>source URL</th>\n",
              "      <th>body</th>\n",
              "      <th>time</th>\n",
              "      <th>keywords</th>\n",
              "      <th>category</th>\n",
              "      <th>country</th>\n",
              "      <th>data source</th>\n",
              "      <th>language</th>\n",
              "    </tr>\n",
              "  </thead>\n",
              "  <tbody>\n",
              "    <tr>\n",
              "      <th>2250</th>\n",
              "      <td>FL-2017-000067-BRA</td>\n",
              "      <td>Brazil's pandemic-weary Manaus flooded by risi...</td>\n",
              "      <td>https://www.reuters.com/world/americas/brazils...</td>\n",
              "      <td>Heavy rains in the Amazon rainforest have caus...</td>\n",
              "      <td>2021-05-18 08:00:00+00:00</td>\n",
              "      <td>['amazon', 'wooden', 'rivers', 'water', 'level...</td>\n",
              "      <td>flood</td>\n",
              "      <td>Kenya</td>\n",
              "      <td>news article</td>\n",
              "      <td>English</td>\n",
              "    </tr>\n",
              "    <tr>\n",
              "      <th>2251</th>\n",
              "      <td>FL-2017-000067-BRA</td>\n",
              "      <td>'Amazon Venice' struggles to stay above water ...</td>\n",
              "      <td>https://www.dailysabah.com/gallery/amazon-veni...</td>\n",
              "      <td>The rivers have been swelling for weeks in Bra...</td>\n",
              "      <td>2021-05-15 10:44:00+00:00</td>\n",
              "      <td>['amazon', 'rivers', 'water', 'brazil', 'regio...</td>\n",
              "      <td>flood</td>\n",
              "      <td>Kenya</td>\n",
              "      <td>news article</td>\n",
              "      <td>English</td>\n",
              "    </tr>\n",
              "    <tr>\n",
              "      <th>2252</th>\n",
              "      <td>FL-2017-000067-BRA</td>\n",
              "      <td>Drone captures devastating floods in Brazil - ...</td>\n",
              "      <td>https://news.yahoo.com/drone-captures-devastat...</td>\n",
              "      <td>The Telegraph\\r\\n\\r\\nSome teenagers and young ...</td>\n",
              "      <td>2021-05-18 03:20:37+00:00</td>\n",
              "      <td>['vaccine', 'captures', 'devastating', 'brazil...</td>\n",
              "      <td>flood</td>\n",
              "      <td>Kenya</td>\n",
              "      <td>news article</td>\n",
              "      <td>English</td>\n",
              "    </tr>\n",
              "    <tr>\n",
              "      <th>2253</th>\n",
              "      <td>FL-2017-000067-BRA</td>\n",
              "      <td>In pictures: Rising Amazon rivers flood Covid-...</td>\n",
              "      <td>https://news.yahoo.com/pictures-rising-amazon-...</td>\n",
              "      <td>A girl paddles her canoe through a street floo...</td>\n",
              "      <td>2021-05-18 12:19:19+00:00</td>\n",
              "      <td>['amazon', 'wooden', 'rivers', 'negro', 'brazi...</td>\n",
              "      <td>flood</td>\n",
              "      <td>Kenya</td>\n",
              "      <td>news article</td>\n",
              "      <td>English</td>\n",
              "    </tr>\n",
              "    <tr>\n",
              "      <th>2254</th>\n",
              "      <td>FL-2017-000067-BRA</td>\n",
              "      <td>Towns flood as Brazil's Amazon River rises to ...</td>\n",
              "      <td>https://newsus.cgtn.com/news/2021-05-20/Towns-...</td>\n",
              "      <td>Explore the small Brazil town of Anama, now ha...</td>\n",
              "      <td>2021-05-19 23:05:41+00:00</td>\n",
              "      <td>['levels', 'amazon', 'threatens', 'water', 'ri...</td>\n",
              "      <td>flood</td>\n",
              "      <td>Kenya</td>\n",
              "      <td>news article</td>\n",
              "      <td>English</td>\n",
              "    </tr>\n",
              "  </tbody>\n",
              "</table>\n",
              "</div>"
            ],
            "text/plain": [
              "                      Id  ... language\n",
              "2250  FL-2017-000067-BRA  ...  English\n",
              "2251  FL-2017-000067-BRA  ...  English\n",
              "2252  FL-2017-000067-BRA  ...  English\n",
              "2253  FL-2017-000067-BRA  ...  English\n",
              "2254  FL-2017-000067-BRA  ...  English\n",
              "\n",
              "[5 rows x 10 columns]"
            ]
          },
          "metadata": {
            "tags": []
          },
          "execution_count": 11
        }
      ]
    },
    {
      "cell_type": "code",
      "metadata": {
        "colab": {
          "base_uri": "https://localhost:8080/"
        },
        "id": "-mIz7mFJ8LfN",
        "outputId": "fedc2207-dfbc-4ea9-ff76-7b05b0bc7950"
      },
      "source": [
        "df['country'] = df['country'].replace({'Kenya':'Brazil'})\n",
        "df.info()"
      ],
      "execution_count": 12,
      "outputs": [
        {
          "output_type": "stream",
          "text": [
            "<class 'pandas.core.frame.DataFrame'>\n",
            "Int64Index: 93 entries, 2250 to 2349\n",
            "Data columns (total 10 columns):\n",
            " #   Column       Non-Null Count  Dtype              \n",
            "---  ------       --------------  -----              \n",
            " 0   Id           93 non-null     object             \n",
            " 1   title        93 non-null     object             \n",
            " 2   source URL   93 non-null     object             \n",
            " 3   body         93 non-null     object             \n",
            " 4   time         93 non-null     datetime64[ns, UTC]\n",
            " 5   keywords     93 non-null     object             \n",
            " 6   category     93 non-null     object             \n",
            " 7   country      93 non-null     object             \n",
            " 8   data source  93 non-null     object             \n",
            " 9   language     93 non-null     object             \n",
            "dtypes: datetime64[ns, UTC](1), object(9)\n",
            "memory usage: 8.0+ KB\n"
          ],
          "name": "stdout"
        }
      ]
    },
    {
      "cell_type": "code",
      "metadata": {
        "colab": {
          "base_uri": "https://localhost:8080/"
        },
        "id": "VabghNrP2oqd",
        "outputId": "0ad76ddf-a045-4667-927a-8a5badce19ba"
      },
      "source": [
        "df_transformed = df_transformed[df_transformed.Id != 'FL-2017-000067-BRA']\n",
        "df_transformed.info()"
      ],
      "execution_count": 13,
      "outputs": [
        {
          "output_type": "stream",
          "text": [
            "<class 'pandas.core.frame.DataFrame'>\n",
            "Int64Index: 2372 entries, 0 to 4749\n",
            "Data columns (total 10 columns):\n",
            " #   Column       Non-Null Count  Dtype              \n",
            "---  ------       --------------  -----              \n",
            " 0   Id           2372 non-null   object             \n",
            " 1   title        2372 non-null   object             \n",
            " 2   source URL   2372 non-null   object             \n",
            " 3   body         2372 non-null   object             \n",
            " 4   time         2372 non-null   datetime64[ns, UTC]\n",
            " 5   keywords     2372 non-null   object             \n",
            " 6   category     2372 non-null   object             \n",
            " 7   country      2372 non-null   object             \n",
            " 8   data source  2372 non-null   object             \n",
            " 9   language     2372 non-null   object             \n",
            "dtypes: datetime64[ns, UTC](1), object(9)\n",
            "memory usage: 203.8+ KB\n"
          ],
          "name": "stdout"
        }
      ]
    },
    {
      "cell_type": "code",
      "metadata": {
        "colab": {
          "base_uri": "https://localhost:8080/"
        },
        "id": "RDEjSqD780kB",
        "outputId": "2b8e4f09-430a-4ccd-b6ee-5ea33b9e844c"
      },
      "source": [
        "df_transformed =pd.concat([df_transformed,df])\n",
        "df_transformed.info()"
      ],
      "execution_count": 14,
      "outputs": [
        {
          "output_type": "stream",
          "text": [
            "<class 'pandas.core.frame.DataFrame'>\n",
            "Int64Index: 2465 entries, 0 to 2349\n",
            "Data columns (total 10 columns):\n",
            " #   Column       Non-Null Count  Dtype              \n",
            "---  ------       --------------  -----              \n",
            " 0   Id           2465 non-null   object             \n",
            " 1   title        2465 non-null   object             \n",
            " 2   source URL   2465 non-null   object             \n",
            " 3   body         2465 non-null   object             \n",
            " 4   time         2465 non-null   datetime64[ns, UTC]\n",
            " 5   keywords     2465 non-null   object             \n",
            " 6   category     2465 non-null   object             \n",
            " 7   country      2465 non-null   object             \n",
            " 8   data source  2465 non-null   object             \n",
            " 9   language     2465 non-null   object             \n",
            "dtypes: datetime64[ns, UTC](1), object(9)\n",
            "memory usage: 211.8+ KB\n"
          ],
          "name": "stdout"
        }
      ]
    },
    {
      "cell_type": "code",
      "metadata": {
        "colab": {
          "base_uri": "https://localhost:8080/",
          "height": 476
        },
        "id": "Lkam5vptCThz",
        "outputId": "c56658d4-d0d9-4c37-f5b7-874213c972cd"
      },
      "source": [
        "# preview the results\n",
        "df_transformed.tail()"
      ],
      "execution_count": 15,
      "outputs": [
        {
          "output_type": "execute_result",
          "data": {
            "text/html": [
              "<div>\n",
              "<style scoped>\n",
              "    .dataframe tbody tr th:only-of-type {\n",
              "        vertical-align: middle;\n",
              "    }\n",
              "\n",
              "    .dataframe tbody tr th {\n",
              "        vertical-align: top;\n",
              "    }\n",
              "\n",
              "    .dataframe thead th {\n",
              "        text-align: right;\n",
              "    }\n",
              "</style>\n",
              "<table border=\"1\" class=\"dataframe\">\n",
              "  <thead>\n",
              "    <tr style=\"text-align: right;\">\n",
              "      <th></th>\n",
              "      <th>Id</th>\n",
              "      <th>title</th>\n",
              "      <th>source URL</th>\n",
              "      <th>body</th>\n",
              "      <th>time</th>\n",
              "      <th>keywords</th>\n",
              "      <th>category</th>\n",
              "      <th>country</th>\n",
              "      <th>data source</th>\n",
              "      <th>language</th>\n",
              "    </tr>\n",
              "  </thead>\n",
              "  <tbody>\n",
              "    <tr>\n",
              "      <th>2345</th>\n",
              "      <td>FL-2017-000067-BRA</td>\n",
              "      <td>01/21/2021 - Palm oil plantations, coal mines ...</td>\n",
              "      <td>https://news.mongabay.com/2021/01/palm-oil-pla...</td>\n",
              "      <td>Environmentalists have attributed recent heavy...</td>\n",
              "      <td>2021-01-20 08:00:00+00:00</td>\n",
              "      <td>['palm', 'south', 'watershed', 'hectares', 'mi...</td>\n",
              "      <td>flood</td>\n",
              "      <td>Brazil</td>\n",
              "      <td>news article</td>\n",
              "      <td>English</td>\n",
              "    </tr>\n",
              "    <tr>\n",
              "      <th>2346</th>\n",
              "      <td>FL-2017-000067-BRA</td>\n",
              "      <td>Why is Brazil’s president beaming? Putin prais...</td>\n",
              "      <td>https://www.scmp.com/news/world/russia-central...</td>\n",
              "      <td>Russia's President Vladimir Putin with Brazil'...</td>\n",
              "      <td>2020-11-19 08:00:00+00:00</td>\n",
              "      <td>['praises', 'bolsonaro', 'president', 'beams',...</td>\n",
              "      <td>none</td>\n",
              "      <td>Brazil</td>\n",
              "      <td>news article</td>\n",
              "      <td>English</td>\n",
              "    </tr>\n",
              "    <tr>\n",
              "      <th>2347</th>\n",
              "      <td>FL-2017-000067-BRA</td>\n",
              "      <td>Container shortage delays shipments of Brazil'...</td>\n",
              "      <td>https://www.reuters.com/article/coffee-transpo...</td>\n",
              "      <td>NEW YORK (Reuters) - Coffee traders are strugg...</td>\n",
              "      <td>2020-10-13 07:00:00+00:00</td>\n",
              "      <td>['delays', 'shipment', 'coffee', 'brazil', 'ma...</td>\n",
              "      <td>none</td>\n",
              "      <td>Brazil</td>\n",
              "      <td>news article</td>\n",
              "      <td>English</td>\n",
              "    </tr>\n",
              "    <tr>\n",
              "      <th>2348</th>\n",
              "      <td>FL-2017-000067-BRA</td>\n",
              "      <td>Brazil mining flood could devastate environmen...</td>\n",
              "      <td>https://www.reuters.com/article/us-brazil-damb...</td>\n",
              "      <td>RIO DOCE, Brazil (Reuters) - The collapse of t...</td>\n",
              "      <td>2015-11-15 08:00:00+00:00</td>\n",
              "      <td>['water', 'brazil', 'flood', 'environment', 'r...</td>\n",
              "      <td>none</td>\n",
              "      <td>Brazil</td>\n",
              "      <td>news article</td>\n",
              "      <td>English</td>\n",
              "    </tr>\n",
              "    <tr>\n",
              "      <th>2349</th>\n",
              "      <td>FL-2017-000067-BRA</td>\n",
              "      <td>Fire burns Pantanal's upland heart and threate...</td>\n",
              "      <td>https://news.mongabay.com/2020/10/fire-burns-p...</td>\n",
              "      <td>After spreading for 9 months across the biodiv...</td>\n",
              "      <td>2020-10-19 07:00:00+00:00</td>\n",
              "      <td>['natures', 'mountains', 'threatens', 'upland'...</td>\n",
              "      <td>none</td>\n",
              "      <td>Brazil</td>\n",
              "      <td>news article</td>\n",
              "      <td>English</td>\n",
              "    </tr>\n",
              "  </tbody>\n",
              "</table>\n",
              "</div>"
            ],
            "text/plain": [
              "                      Id  ... language\n",
              "2345  FL-2017-000067-BRA  ...  English\n",
              "2346  FL-2017-000067-BRA  ...  English\n",
              "2347  FL-2017-000067-BRA  ...  English\n",
              "2348  FL-2017-000067-BRA  ...  English\n",
              "2349  FL-2017-000067-BRA  ...  English\n",
              "\n",
              "[5 rows x 10 columns]"
            ]
          },
          "metadata": {
            "tags": []
          },
          "execution_count": 15
        }
      ]
    },
    {
      "cell_type": "code",
      "metadata": {
        "colab": {
          "base_uri": "https://localhost:8080/"
        },
        "id": "qsk9VbgtGv3X",
        "outputId": "8e71e9d0-9d04-4a1a-d8fb-fd740e883097"
      },
      "source": [
        "df_transformed['category'].value_counts()"
      ],
      "execution_count": 16,
      "outputs": [
        {
          "output_type": "execute_result",
          "data": {
            "text/plain": [
              "none              1078\n",
              "flood              977\n",
              "drought            299\n",
              "flood_drought       93\n",
              "tree                11\n",
              "climate_change       7\n",
              "Name: category, dtype: int64"
            ]
          },
          "metadata": {
            "tags": []
          },
          "execution_count": 16
        }
      ]
    },
    {
      "cell_type": "code",
      "metadata": {
        "colab": {
          "base_uri": "https://localhost:8080/",
          "height": 282
        },
        "id": "fTy_JGaQG7v6",
        "outputId": "9dfc2516-01dd-47b5-8663-824be6345b48"
      },
      "source": [
        "df_transformed['category'].value_counts().plot(kind='barh')"
      ],
      "execution_count": 17,
      "outputs": [
        {
          "output_type": "execute_result",
          "data": {
            "text/plain": [
              "<matplotlib.axes._subplots.AxesSubplot at 0x7f4b6d58a590>"
            ]
          },
          "metadata": {
            "tags": []
          },
          "execution_count": 17
        },
        {
          "output_type": "display_data",
          "data": {
            "image/png": "[encoded data removed]",
            "text/plain": [
              "<Figure size 432x288 with 1 Axes>"
            ]
          },
          "metadata": {
            "tags": [],
            "needs_background": "light"
          }
        }
      ]
    },
    {
      "cell_type": "code",
      "metadata": {
        "id": "eUacypa2ReQh"
      },
      "source": [
        "#Write the data to a CSV file\n",
        "df_transformed.to_csv('news_article_data_transformed.csv', \n",
        "                      index=False)"
      ],
      "execution_count": 18,
      "outputs": []
    },
    {
      "cell_type": "markdown",
      "metadata": {
        "id": "UZ233XS9MJto"
      },
      "source": [
        "## Preprocessing"
      ]
    },
    {
      "cell_type": "code",
      "metadata": {
        "id": "9RMlVIxfMAiH",
        "colab": {
          "base_uri": "https://localhost:8080/"
        },
        "outputId": "450cb105-b1eb-47b0-e2e4-1d406969e911"
      },
      "source": [
        "import pandas as pd\n",
        "import re, os\n",
        "import seaborn as sns\n",
        "from wordcloud import WordCloud\n",
        "import matplotlib.pyplot as plt\n",
        "import nltk.corpus\n",
        "import spacy\n",
        "nltk.download(\"stopwords\")\n",
        "from nltk.corpus import stopwords\n",
        "nltk.download('wordnet')\n",
        "from nltk.stem import WordNetLemmatizer"
      ],
      "execution_count": 19,
      "outputs": [
        {
          "output_type": "stream",
          "text": [
            "[nltk_data] Downloading package stopwords to /root/nltk_data...\n",
            "[nltk_data]   Unzipping corpora/stopwords.zip.\n",
            "[nltk_data] Downloading package wordnet to /root/nltk_data...\n",
            "[nltk_data]   Unzipping corpora/wordnet.zip.\n"
          ],
          "name": "stdout"
        }
      ]
    },
    {
      "cell_type": "code",
      "metadata": {
        "id": "RprQ3YwOMOsS",
        "colab": {
          "base_uri": "https://localhost:8080/",
          "height": 649
        },
        "outputId": "7a0a15f6-43b4-4f06-af5f-7f0830336cf7"
      },
      "source": [
        "def cleaned_data(text):\n",
        "    clean=re.sub(\"http\\S+\",\"\",text)\n",
        "    clean = clean.lower()\n",
        "    clean=re.sub(\"@\\S+\",\"\",clean)\n",
        "    clean = re.sub('#', ' ', clean)\n",
        "    clean = re.sub('&amp', ' ', clean)\n",
        "    # clean = re.sub(':', ' ', clean)\n",
        "    clean = re.sub('/', ' ', clean)\n",
        "    clean = re.sub(r'\\?{2,}', '?', clean)\n",
        "    clean = re.sub(r'\\!{2,}', '!', clean)\n",
        "    clean = re.sub(r'\\.{2,}', '.', clean)\n",
        "    clean = re.sub('\\[', '', clean)\n",
        "    clean = re.sub('\\]', '', clean)\n",
        "    clean = re.sub(';', '', clean)\n",
        "    clean = re.sub(r'[(]', ' ', clean)\n",
        "    clean = re.sub(r'[)]', ' ', clean)\n",
        "    clean = re.sub(r'@', ' ', clean)\n",
        "    # clean = re.sub(r'/*', ' ', clean)\n",
        "    clean = re.sub('-', ' ', clean)\n",
        "    # clean = re.sub(r'([a-z])\\1+', r'\\1', clean)  # this is for bring character to once if it is repeating more than once\n",
        "    # clean = re.sub('flod', 'flood', clean)\n",
        "    # clean = re.sub('floding', 'flooding', clean)\n",
        "    clean=re.sub('\"',\" \",clean)\n",
        "    clean=re.sub(\"\\s{2,}\",\" \",clean)\n",
        "    clean=clean.strip()\n",
        "    # clean = TextBlob(clean).correct()\n",
        "    return clean\n",
        "df_transformed['partially_cleaned'] = df_transformed['body'].apply(cleaned_data)\n",
        "df_transformed.head()"
      ],
      "execution_count": 20,
      "outputs": [
        {
          "output_type": "execute_result",
          "data": {
            "text/html": [
              "<div>\n",
              "<style scoped>\n",
              "    .dataframe tbody tr th:only-of-type {\n",
              "        vertical-align: middle;\n",
              "    }\n",
              "\n",
              "    .dataframe tbody tr th {\n",
              "        vertical-align: top;\n",
              "    }\n",
              "\n",
              "    .dataframe thead th {\n",
              "        text-align: right;\n",
              "    }\n",
              "</style>\n",
              "<table border=\"1\" class=\"dataframe\">\n",
              "  <thead>\n",
              "    <tr style=\"text-align: right;\">\n",
              "      <th></th>\n",
              "      <th>Id</th>\n",
              "      <th>title</th>\n",
              "      <th>source URL</th>\n",
              "      <th>body</th>\n",
              "      <th>time</th>\n",
              "      <th>keywords</th>\n",
              "      <th>category</th>\n",
              "      <th>country</th>\n",
              "      <th>data source</th>\n",
              "      <th>language</th>\n",
              "      <th>partially_cleaned</th>\n",
              "    </tr>\n",
              "  </thead>\n",
              "  <tbody>\n",
              "    <tr>\n",
              "      <th>0</th>\n",
              "      <td>DR-2014-000109-CHN</td>\n",
              "      <td>Worst drought in 63 years hits Liaoning provin...</td>\n",
              "      <td>https://www.scmp.com/news/china/article/157349...</td>\n",
              "      <td>Liaoning averaged 90mm across the province in ...</td>\n",
              "      <td>2014-08-14 07:00:00+00:00</td>\n",
              "      <td>['averaged', 'liaoning', 'hits', 'dry', 'droug...</td>\n",
              "      <td>drought</td>\n",
              "      <td>China</td>\n",
              "      <td>news article</td>\n",
              "      <td>English</td>\n",
              "      <td>liaoning averaged 90mm across the province in ...</td>\n",
              "    </tr>\n",
              "    <tr>\n",
              "      <th>1</th>\n",
              "      <td>DR-2014-000109-CHN</td>\n",
              "      <td>In Time Of Drought, U.S. West's Alfalfa Export...</td>\n",
              "      <td>https://www.npr.org/2014/08/12/339753108/in-ti...</td>\n",
              "      <td>In Time Of Drought, U.S. West's Alfalfa Export...</td>\n",
              "      <td>2014-08-12 07:00:00+00:00</td>\n",
              "      <td>['criticized', 'river', 'drought', 'farmers', ...</td>\n",
              "      <td>drought</td>\n",
              "      <td>China</td>\n",
              "      <td>news article</td>\n",
              "      <td>English</td>\n",
              "      <td>in time of drought, u.s. west's alfalfa export...</td>\n",
              "    </tr>\n",
              "    <tr>\n",
              "      <th>2</th>\n",
              "      <td>DR-2014-000109-CHN</td>\n",
              "      <td>More Chinese on the Coast, Less Fish in the Se...</td>\n",
              "      <td>https://www.scientificamerican.com/article/mor...</td>\n",
              "      <td>China's booming economic growth is helping to ...</td>\n",
              "      <td>2014-08-08 07:00:00+00:00</td>\n",
              "      <td>['bertness', 'chinese', 'research', 'sea', 'ec...</td>\n",
              "      <td>none</td>\n",
              "      <td>China</td>\n",
              "      <td>news article</td>\n",
              "      <td>English</td>\n",
              "      <td>china's booming economic growth is helping to ...</td>\n",
              "    </tr>\n",
              "    <tr>\n",
              "      <th>3</th>\n",
              "      <td>DR-2014-000109-CHN</td>\n",
              "      <td>Climate change and drought in ancient times - ...</td>\n",
              "      <td>https://www.sciencedaily.com/releases/2014/08/...</td>\n",
              "      <td>The influence of climate on agriculture is bel...</td>\n",
              "      <td>2014-08-11 07:00:00+00:00</td>\n",
              "      <td>['climate', 'drought', 'ancient', 'agriculture...</td>\n",
              "      <td>drought</td>\n",
              "      <td>China</td>\n",
              "      <td>news article</td>\n",
              "      <td>English</td>\n",
              "      <td>the influence of climate on agriculture is bel...</td>\n",
              "    </tr>\n",
              "    <tr>\n",
              "      <th>5</th>\n",
              "      <td>DR-2014-000109-CHN</td>\n",
              "      <td>California's severe drought unchanged despite ...</td>\n",
              "      <td>https://www.latimes.com/local/lanow/la-me-ln-r...</td>\n",
              "      <td>A series of thunderstorms that have hit Califo...</td>\n",
              "      <td>2014-08-07 07:00:00+00:00</td>\n",
              "      <td>['drought', 'states', 'rain', 'despite', 'cali...</td>\n",
              "      <td>drought</td>\n",
              "      <td>China</td>\n",
              "      <td>news article</td>\n",
              "      <td>English</td>\n",
              "      <td>a series of thunderstorms that have hit califo...</td>\n",
              "    </tr>\n",
              "  </tbody>\n",
              "</table>\n",
              "</div>"
            ],
            "text/plain": [
              "                   Id  ...                                  partially_cleaned\n",
              "0  DR-2014-000109-CHN  ...  liaoning averaged 90mm across the province in ...\n",
              "1  DR-2014-000109-CHN  ...  in time of drought, u.s. west's alfalfa export...\n",
              "2  DR-2014-000109-CHN  ...  china's booming economic growth is helping to ...\n",
              "3  DR-2014-000109-CHN  ...  the influence of climate on agriculture is bel...\n",
              "5  DR-2014-000109-CHN  ...  a series of thunderstorms that have hit califo...\n",
              "\n",
              "[5 rows x 11 columns]"
            ]
          },
          "metadata": {
            "tags": []
          },
          "execution_count": 20
        }
      ]
    },
    {
      "cell_type": "code",
      "metadata": {
        "id": "43Wo1yiNNhbE",
        "colab": {
          "base_uri": "https://localhost:8080/"
        },
        "outputId": "e0f6ff4c-14ac-4ad8-93f9-f60590cd7a8e"
      },
      "source": [
        "!pip install contractions"
      ],
      "execution_count": 21,
      "outputs": [
        {
          "output_type": "stream",
          "text": [
            "Collecting contractions\n",
            "  Downloading https://files.pythonhosted.org/packages/93/f4/0ec4a458e4368cc3be2c799411ecf0bc961930e566dadb9624563821b3a6/contractions-0.0.52-py2.py3-none-any.whl\n",
            "Collecting textsearch>=0.0.21\n",
            "  Downloading https://files.pythonhosted.org/packages/d3/fe/021d7d76961b5ceb9f8d022c4138461d83beff36c3938dc424586085e559/textsearch-0.0.21-py2.py3-none-any.whl\n",
            "Collecting pyahocorasick\n",
            "\u001b[?25l  Downloading https://files.pythonhosted.org/packages/7f/c2/eae730037ae1cbbfaa229d27030d1d5e34a1e41114b21447d1202ae9c220/pyahocorasick-1.4.2.tar.gz (321kB)\n",
            "\u001b[K     |████████████████████████████████| 327kB 6.8MB/s \n",
            "\u001b[?25hCollecting anyascii\n",
            "\u001b[?25l  Downloading https://files.pythonhosted.org/packages/a3/14/666cd44bf53f36a961544af592cb5c5c800013f9c51a4745af8d7c17362a/anyascii-0.2.0-py3-none-any.whl (283kB)\n",
            "\u001b[K     |████████████████████████████████| 286kB 24.1MB/s \n",
            "\u001b[?25hBuilding wheels for collected packages: pyahocorasick\n",
            "  Building wheel for pyahocorasick (setup.py) ... \u001b[?25l\u001b[?25hdone\n",
            "  Created wheel for pyahocorasick: filename=pyahocorasick-1.4.2-cp37-cp37m-linux_x86_64.whl size=85406 sha256=2d476ef6e319a48db75d4f72442301a78089451151e5bfbf5d9c142f7b3fa69a\n",
            "  Stored in directory: /root/.cache/pip/wheels/3a/03/34/77e3ece0bba8b86bfac88a79f923b36d805cad63caeba38842\n",
            "Successfully built pyahocorasick\n",
            "Installing collected packages: pyahocorasick, anyascii, textsearch, contractions\n",
            "Successfully installed anyascii-0.2.0 contractions-0.0.52 pyahocorasick-1.4.2 textsearch-0.0.21\n"
          ],
          "name": "stdout"
        }
      ]
    },
    {
      "cell_type": "code",
      "metadata": {
        "id": "_yJ49spONldr"
      },
      "source": [
        "import contractions"
      ],
      "execution_count": 22,
      "outputs": []
    },
    {
      "cell_type": "code",
      "metadata": {
        "id": "1AS_yE2ANzle",
        "colab": {
          "base_uri": "https://localhost:8080/",
          "height": 649
        },
        "outputId": "3fe98d9b-2581-400b-e0ac-cc80d9343d80"
      },
      "source": [
        "def expanded(text):\n",
        "    expanded_words = []    \n",
        "    try:\n",
        "      for word in text.split():\n",
        "        expanded_words.append(contractions.fix(word))\n",
        "    except Exception:\n",
        "      pass         \n",
        "    expanded_text = ' '.join(expanded_words)\n",
        "    return expanded_text\n",
        "\n",
        "df_transformed['partially_cleaned'] = df_transformed['partially_cleaned'].apply(expanded)\n",
        "df_transformed.head()"
      ],
      "execution_count": 23,
      "outputs": [
        {
          "output_type": "execute_result",
          "data": {
            "text/html": [
              "<div>\n",
              "<style scoped>\n",
              "    .dataframe tbody tr th:only-of-type {\n",
              "        vertical-align: middle;\n",
              "    }\n",
              "\n",
              "    .dataframe tbody tr th {\n",
              "        vertical-align: top;\n",
              "    }\n",
              "\n",
              "    .dataframe thead th {\n",
              "        text-align: right;\n",
              "    }\n",
              "</style>\n",
              "<table border=\"1\" class=\"dataframe\">\n",
              "  <thead>\n",
              "    <tr style=\"text-align: right;\">\n",
              "      <th></th>\n",
              "      <th>Id</th>\n",
              "      <th>title</th>\n",
              "      <th>source URL</th>\n",
              "      <th>body</th>\n",
              "      <th>time</th>\n",
              "      <th>keywords</th>\n",
              "      <th>category</th>\n",
              "      <th>country</th>\n",
              "      <th>data source</th>\n",
              "      <th>language</th>\n",
              "      <th>partially_cleaned</th>\n",
              "    </tr>\n",
              "  </thead>\n",
              "  <tbody>\n",
              "    <tr>\n",
              "      <th>0</th>\n",
              "      <td>DR-2014-000109-CHN</td>\n",
              "      <td>Worst drought in 63 years hits Liaoning provin...</td>\n",
              "      <td>https://www.scmp.com/news/china/article/157349...</td>\n",
              "      <td>Liaoning averaged 90mm across the province in ...</td>\n",
              "      <td>2014-08-14 07:00:00+00:00</td>\n",
              "      <td>['averaged', 'liaoning', 'hits', 'dry', 'droug...</td>\n",
              "      <td>drought</td>\n",
              "      <td>China</td>\n",
              "      <td>news article</td>\n",
              "      <td>English</td>\n",
              "      <td>liaoning averaged 90mm across the province in ...</td>\n",
              "    </tr>\n",
              "    <tr>\n",
              "      <th>1</th>\n",
              "      <td>DR-2014-000109-CHN</td>\n",
              "      <td>In Time Of Drought, U.S. West's Alfalfa Export...</td>\n",
              "      <td>https://www.npr.org/2014/08/12/339753108/in-ti...</td>\n",
              "      <td>In Time Of Drought, U.S. West's Alfalfa Export...</td>\n",
              "      <td>2014-08-12 07:00:00+00:00</td>\n",
              "      <td>['criticized', 'river', 'drought', 'farmers', ...</td>\n",
              "      <td>drought</td>\n",
              "      <td>China</td>\n",
              "      <td>news article</td>\n",
              "      <td>English</td>\n",
              "      <td>in time of drought, you.s. west's alfalfa expo...</td>\n",
              "    </tr>\n",
              "    <tr>\n",
              "      <th>2</th>\n",
              "      <td>DR-2014-000109-CHN</td>\n",
              "      <td>More Chinese on the Coast, Less Fish in the Se...</td>\n",
              "      <td>https://www.scientificamerican.com/article/mor...</td>\n",
              "      <td>China's booming economic growth is helping to ...</td>\n",
              "      <td>2014-08-08 07:00:00+00:00</td>\n",
              "      <td>['bertness', 'chinese', 'research', 'sea', 'ec...</td>\n",
              "      <td>none</td>\n",
              "      <td>China</td>\n",
              "      <td>news article</td>\n",
              "      <td>English</td>\n",
              "      <td>china's booming economic growth is helping to ...</td>\n",
              "    </tr>\n",
              "    <tr>\n",
              "      <th>3</th>\n",
              "      <td>DR-2014-000109-CHN</td>\n",
              "      <td>Climate change and drought in ancient times - ...</td>\n",
              "      <td>https://www.sciencedaily.com/releases/2014/08/...</td>\n",
              "      <td>The influence of climate on agriculture is bel...</td>\n",
              "      <td>2014-08-11 07:00:00+00:00</td>\n",
              "      <td>['climate', 'drought', 'ancient', 'agriculture...</td>\n",
              "      <td>drought</td>\n",
              "      <td>China</td>\n",
              "      <td>news article</td>\n",
              "      <td>English</td>\n",
              "      <td>the influence of climate on agriculture is bel...</td>\n",
              "    </tr>\n",
              "    <tr>\n",
              "      <th>5</th>\n",
              "      <td>DR-2014-000109-CHN</td>\n",
              "      <td>California's severe drought unchanged despite ...</td>\n",
              "      <td>https://www.latimes.com/local/lanow/la-me-ln-r...</td>\n",
              "      <td>A series of thunderstorms that have hit Califo...</td>\n",
              "      <td>2014-08-07 07:00:00+00:00</td>\n",
              "      <td>['drought', 'states', 'rain', 'despite', 'cali...</td>\n",
              "      <td>drought</td>\n",
              "      <td>China</td>\n",
              "      <td>news article</td>\n",
              "      <td>English</td>\n",
              "      <td>a series of thunderstorms that have hit califo...</td>\n",
              "    </tr>\n",
              "  </tbody>\n",
              "</table>\n",
              "</div>"
            ],
            "text/plain": [
              "                   Id  ...                                  partially_cleaned\n",
              "0  DR-2014-000109-CHN  ...  liaoning averaged 90mm across the province in ...\n",
              "1  DR-2014-000109-CHN  ...  in time of drought, you.s. west's alfalfa expo...\n",
              "2  DR-2014-000109-CHN  ...  china's booming economic growth is helping to ...\n",
              "3  DR-2014-000109-CHN  ...  the influence of climate on agriculture is bel...\n",
              "5  DR-2014-000109-CHN  ...  a series of thunderstorms that have hit califo...\n",
              "\n",
              "[5 rows x 11 columns]"
            ]
          },
          "metadata": {
            "tags": []
          },
          "execution_count": 23
        }
      ]
    },
    {
      "cell_type": "code",
      "metadata": {
        "id": "KavqDT-vPC1F",
        "colab": {
          "base_uri": "https://localhost:8080/",
          "height": 649
        },
        "outputId": "844eaca6-b527-4393-a4e9-ad65934dd1e2"
      },
      "source": [
        "def remove_emojis(data):\n",
        "    emoj = re.compile(\"[\"\n",
        "        u\"\\U0001F600-\\U0001F64F\"  # emoticons\n",
        "        u\"\\U0001F300-\\U0001F5FF\"  # symbols & pictographs\n",
        "        u\"\\U0001F680-\\U0001F6FF\"  # transport & map symbols\n",
        "        u\"\\U0001F1E0-\\U0001F1FF\"  # flags (iOS)\n",
        "        u\"\\U00002500-\\U00002BEF\"  # chinese char\n",
        "        u\"\\U00002702-\\U000027B0\"\n",
        "        u\"\\U00002702-\\U000027B0\"\n",
        "        u\"\\U000024C2-\\U0001F251\"\n",
        "        u\"\\U0001f926-\\U0001f937\"\n",
        "        u\"\\U00010000-\\U0010ffff\"\n",
        "        u\"\\u2640-\\u2642\" \n",
        "        u\"\\u2600-\\u2B55\"\n",
        "        u\"\\u200d\"\n",
        "        u\"\\u23cf\"\n",
        "        u\"\\u23e9\"\n",
        "        u\"\\u231a\"\n",
        "        u\"\\ufe0f\"  # dingbats\n",
        "        u\"\\u3030\"\n",
        "                      \"]+\", re.UNICODE)\n",
        "    return re.sub(emoj, '', data)\n",
        "\n",
        "def final_pre_pro(text):\n",
        "  clean = re.sub('\\+','',text)\n",
        "  clean = re.sub('=','',text)\n",
        "  clean = re.sub('\\_{2,}',' ',text)\n",
        "  clean = re.sub('\\*',' ',text)\n",
        "  clean=re.sub(\"\\s{2,}\",\" \",clean)\n",
        "  return clean.strip()\n",
        "\n",
        "\n",
        "df_transformed['cleaned body'] = df_transformed['partially_cleaned'].apply(remove_emojis)\n",
        "df_transformed['cleaned body'] = df_transformed['cleaned body'].apply(final_pre_pro)\n",
        "df_transformed.head(5)"
      ],
      "execution_count": 24,
      "outputs": [
        {
          "output_type": "execute_result",
          "data": {
            "text/html": [
              "<div>\n",
              "<style scoped>\n",
              "    .dataframe tbody tr th:only-of-type {\n",
              "        vertical-align: middle;\n",
              "    }\n",
              "\n",
              "    .dataframe tbody tr th {\n",
              "        vertical-align: top;\n",
              "    }\n",
              "\n",
              "    .dataframe thead th {\n",
              "        text-align: right;\n",
              "    }\n",
              "</style>\n",
              "<table border=\"1\" class=\"dataframe\">\n",
              "  <thead>\n",
              "    <tr style=\"text-align: right;\">\n",
              "      <th></th>\n",
              "      <th>Id</th>\n",
              "      <th>title</th>\n",
              "      <th>source URL</th>\n",
              "      <th>body</th>\n",
              "      <th>time</th>\n",
              "      <th>keywords</th>\n",
              "      <th>category</th>\n",
              "      <th>country</th>\n",
              "      <th>data source</th>\n",
              "      <th>language</th>\n",
              "      <th>partially_cleaned</th>\n",
              "      <th>cleaned body</th>\n",
              "    </tr>\n",
              "  </thead>\n",
              "  <tbody>\n",
              "    <tr>\n",
              "      <th>0</th>\n",
              "      <td>DR-2014-000109-CHN</td>\n",
              "      <td>Worst drought in 63 years hits Liaoning provin...</td>\n",
              "      <td>https://www.scmp.com/news/china/article/157349...</td>\n",
              "      <td>Liaoning averaged 90mm across the province in ...</td>\n",
              "      <td>2014-08-14 07:00:00+00:00</td>\n",
              "      <td>['averaged', 'liaoning', 'hits', 'dry', 'droug...</td>\n",
              "      <td>drought</td>\n",
              "      <td>China</td>\n",
              "      <td>news article</td>\n",
              "      <td>English</td>\n",
              "      <td>liaoning averaged 90mm across the province in ...</td>\n",
              "      <td>liaoning averaged 90mm across the province in ...</td>\n",
              "    </tr>\n",
              "    <tr>\n",
              "      <th>1</th>\n",
              "      <td>DR-2014-000109-CHN</td>\n",
              "      <td>In Time Of Drought, U.S. West's Alfalfa Export...</td>\n",
              "      <td>https://www.npr.org/2014/08/12/339753108/in-ti...</td>\n",
              "      <td>In Time Of Drought, U.S. West's Alfalfa Export...</td>\n",
              "      <td>2014-08-12 07:00:00+00:00</td>\n",
              "      <td>['criticized', 'river', 'drought', 'farmers', ...</td>\n",
              "      <td>drought</td>\n",
              "      <td>China</td>\n",
              "      <td>news article</td>\n",
              "      <td>English</td>\n",
              "      <td>in time of drought, you.s. west's alfalfa expo...</td>\n",
              "      <td>in time of drought, you.s. west's alfalfa expo...</td>\n",
              "    </tr>\n",
              "    <tr>\n",
              "      <th>2</th>\n",
              "      <td>DR-2014-000109-CHN</td>\n",
              "      <td>More Chinese on the Coast, Less Fish in the Se...</td>\n",
              "      <td>https://www.scientificamerican.com/article/mor...</td>\n",
              "      <td>China's booming economic growth is helping to ...</td>\n",
              "      <td>2014-08-08 07:00:00+00:00</td>\n",
              "      <td>['bertness', 'chinese', 'research', 'sea', 'ec...</td>\n",
              "      <td>none</td>\n",
              "      <td>China</td>\n",
              "      <td>news article</td>\n",
              "      <td>English</td>\n",
              "      <td>china's booming economic growth is helping to ...</td>\n",
              "      <td>china's booming economic growth is helping to ...</td>\n",
              "    </tr>\n",
              "    <tr>\n",
              "      <th>3</th>\n",
              "      <td>DR-2014-000109-CHN</td>\n",
              "      <td>Climate change and drought in ancient times - ...</td>\n",
              "      <td>https://www.sciencedaily.com/releases/2014/08/...</td>\n",
              "      <td>The influence of climate on agriculture is bel...</td>\n",
              "      <td>2014-08-11 07:00:00+00:00</td>\n",
              "      <td>['climate', 'drought', 'ancient', 'agriculture...</td>\n",
              "      <td>drought</td>\n",
              "      <td>China</td>\n",
              "      <td>news article</td>\n",
              "      <td>English</td>\n",
              "      <td>the influence of climate on agriculture is bel...</td>\n",
              "      <td>the influence of climate on agriculture is bel...</td>\n",
              "    </tr>\n",
              "    <tr>\n",
              "      <th>5</th>\n",
              "      <td>DR-2014-000109-CHN</td>\n",
              "      <td>California's severe drought unchanged despite ...</td>\n",
              "      <td>https://www.latimes.com/local/lanow/la-me-ln-r...</td>\n",
              "      <td>A series of thunderstorms that have hit Califo...</td>\n",
              "      <td>2014-08-07 07:00:00+00:00</td>\n",
              "      <td>['drought', 'states', 'rain', 'despite', 'cali...</td>\n",
              "      <td>drought</td>\n",
              "      <td>China</td>\n",
              "      <td>news article</td>\n",
              "      <td>English</td>\n",
              "      <td>a series of thunderstorms that have hit califo...</td>\n",
              "      <td>a series of thunderstorms that have hit califo...</td>\n",
              "    </tr>\n",
              "  </tbody>\n",
              "</table>\n",
              "</div>"
            ],
            "text/plain": [
              "                   Id  ...                                       cleaned body\n",
              "0  DR-2014-000109-CHN  ...  liaoning averaged 90mm across the province in ...\n",
              "1  DR-2014-000109-CHN  ...  in time of drought, you.s. west's alfalfa expo...\n",
              "2  DR-2014-000109-CHN  ...  china's booming economic growth is helping to ...\n",
              "3  DR-2014-000109-CHN  ...  the influence of climate on agriculture is bel...\n",
              "5  DR-2014-000109-CHN  ...  a series of thunderstorms that have hit califo...\n",
              "\n",
              "[5 rows x 12 columns]"
            ]
          },
          "metadata": {
            "tags": []
          },
          "execution_count": 24
        }
      ]
    },
    {
      "cell_type": "code",
      "metadata": {
        "id": "t6d3lKayPSGx",
        "colab": {
          "base_uri": "https://localhost:8080/",
          "height": 1000
        },
        "outputId": "99759033-5cf2-4765-8eaa-c3b949940184"
      },
      "source": [
        "del df_transformed['partially_cleaned']\n",
        "df_transformed"
      ],
      "execution_count": 25,
      "outputs": [
        {
          "output_type": "execute_result",
          "data": {
            "text/html": [
              "<div>\n",
              "<style scoped>\n",
              "    .dataframe tbody tr th:only-of-type {\n",
              "        vertical-align: middle;\n",
              "    }\n",
              "\n",
              "    .dataframe tbody tr th {\n",
              "        vertical-align: top;\n",
              "    }\n",
              "\n",
              "    .dataframe thead th {\n",
              "        text-align: right;\n",
              "    }\n",
              "</style>\n",
              "<table border=\"1\" class=\"dataframe\">\n",
              "  <thead>\n",
              "    <tr style=\"text-align: right;\">\n",
              "      <th></th>\n",
              "      <th>Id</th>\n",
              "      <th>title</th>\n",
              "      <th>source URL</th>\n",
              "      <th>body</th>\n",
              "      <th>time</th>\n",
              "      <th>keywords</th>\n",
              "      <th>category</th>\n",
              "      <th>country</th>\n",
              "      <th>data source</th>\n",
              "      <th>language</th>\n",
              "      <th>cleaned body</th>\n",
              "    </tr>\n",
              "  </thead>\n",
              "  <tbody>\n",
              "    <tr>\n",
              "      <th>0</th>\n",
              "      <td>DR-2014-000109-CHN</td>\n",
              "      <td>Worst drought in 63 years hits Liaoning provin...</td>\n",
              "      <td>https://www.scmp.com/news/china/article/157349...</td>\n",
              "      <td>Liaoning averaged 90mm across the province in ...</td>\n",
              "      <td>2014-08-14 07:00:00+00:00</td>\n",
              "      <td>['averaged', 'liaoning', 'hits', 'dry', 'droug...</td>\n",
              "      <td>drought</td>\n",
              "      <td>China</td>\n",
              "      <td>news article</td>\n",
              "      <td>English</td>\n",
              "      <td>liaoning averaged 90mm across the province in ...</td>\n",
              "    </tr>\n",
              "    <tr>\n",
              "      <th>1</th>\n",
              "      <td>DR-2014-000109-CHN</td>\n",
              "      <td>In Time Of Drought, U.S. West's Alfalfa Export...</td>\n",
              "      <td>https://www.npr.org/2014/08/12/339753108/in-ti...</td>\n",
              "      <td>In Time Of Drought, U.S. West's Alfalfa Export...</td>\n",
              "      <td>2014-08-12 07:00:00+00:00</td>\n",
              "      <td>['criticized', 'river', 'drought', 'farmers', ...</td>\n",
              "      <td>drought</td>\n",
              "      <td>China</td>\n",
              "      <td>news article</td>\n",
              "      <td>English</td>\n",
              "      <td>in time of drought, you.s. west's alfalfa expo...</td>\n",
              "    </tr>\n",
              "    <tr>\n",
              "      <th>2</th>\n",
              "      <td>DR-2014-000109-CHN</td>\n",
              "      <td>More Chinese on the Coast, Less Fish in the Se...</td>\n",
              "      <td>https://www.scientificamerican.com/article/mor...</td>\n",
              "      <td>China's booming economic growth is helping to ...</td>\n",
              "      <td>2014-08-08 07:00:00+00:00</td>\n",
              "      <td>['bertness', 'chinese', 'research', 'sea', 'ec...</td>\n",
              "      <td>none</td>\n",
              "      <td>China</td>\n",
              "      <td>news article</td>\n",
              "      <td>English</td>\n",
              "      <td>china's booming economic growth is helping to ...</td>\n",
              "    </tr>\n",
              "    <tr>\n",
              "      <th>3</th>\n",
              "      <td>DR-2014-000109-CHN</td>\n",
              "      <td>Climate change and drought in ancient times - ...</td>\n",
              "      <td>https://www.sciencedaily.com/releases/2014/08/...</td>\n",
              "      <td>The influence of climate on agriculture is bel...</td>\n",
              "      <td>2014-08-11 07:00:00+00:00</td>\n",
              "      <td>['climate', 'drought', 'ancient', 'agriculture...</td>\n",
              "      <td>drought</td>\n",
              "      <td>China</td>\n",
              "      <td>news article</td>\n",
              "      <td>English</td>\n",
              "      <td>the influence of climate on agriculture is bel...</td>\n",
              "    </tr>\n",
              "    <tr>\n",
              "      <th>5</th>\n",
              "      <td>DR-2014-000109-CHN</td>\n",
              "      <td>California's severe drought unchanged despite ...</td>\n",
              "      <td>https://www.latimes.com/local/lanow/la-me-ln-r...</td>\n",
              "      <td>A series of thunderstorms that have hit Califo...</td>\n",
              "      <td>2014-08-07 07:00:00+00:00</td>\n",
              "      <td>['drought', 'states', 'rain', 'despite', 'cali...</td>\n",
              "      <td>drought</td>\n",
              "      <td>China</td>\n",
              "      <td>news article</td>\n",
              "      <td>English</td>\n",
              "      <td>a series of thunderstorms that have hit califo...</td>\n",
              "    </tr>\n",
              "    <tr>\n",
              "      <th>...</th>\n",
              "      <td>...</td>\n",
              "      <td>...</td>\n",
              "      <td>...</td>\n",
              "      <td>...</td>\n",
              "      <td>...</td>\n",
              "      <td>...</td>\n",
              "      <td>...</td>\n",
              "      <td>...</td>\n",
              "      <td>...</td>\n",
              "      <td>...</td>\n",
              "      <td>...</td>\n",
              "    </tr>\n",
              "    <tr>\n",
              "      <th>2345</th>\n",
              "      <td>FL-2017-000067-BRA</td>\n",
              "      <td>01/21/2021 - Palm oil plantations, coal mines ...</td>\n",
              "      <td>https://news.mongabay.com/2021/01/palm-oil-pla...</td>\n",
              "      <td>Environmentalists have attributed recent heavy...</td>\n",
              "      <td>2021-01-20 08:00:00+00:00</td>\n",
              "      <td>['palm', 'south', 'watershed', 'hectares', 'mi...</td>\n",
              "      <td>flood</td>\n",
              "      <td>Brazil</td>\n",
              "      <td>news article</td>\n",
              "      <td>English</td>\n",
              "      <td>environmentalists have attributed recent heavy...</td>\n",
              "    </tr>\n",
              "    <tr>\n",
              "      <th>2346</th>\n",
              "      <td>FL-2017-000067-BRA</td>\n",
              "      <td>Why is Brazil’s president beaming? Putin prais...</td>\n",
              "      <td>https://www.scmp.com/news/world/russia-central...</td>\n",
              "      <td>Russia's President Vladimir Putin with Brazil'...</td>\n",
              "      <td>2020-11-19 08:00:00+00:00</td>\n",
              "      <td>['praises', 'bolsonaro', 'president', 'beams',...</td>\n",
              "      <td>none</td>\n",
              "      <td>Brazil</td>\n",
              "      <td>news article</td>\n",
              "      <td>English</td>\n",
              "      <td>russia's president vladimir putin with brazil'...</td>\n",
              "    </tr>\n",
              "    <tr>\n",
              "      <th>2347</th>\n",
              "      <td>FL-2017-000067-BRA</td>\n",
              "      <td>Container shortage delays shipments of Brazil'...</td>\n",
              "      <td>https://www.reuters.com/article/coffee-transpo...</td>\n",
              "      <td>NEW YORK (Reuters) - Coffee traders are strugg...</td>\n",
              "      <td>2020-10-13 07:00:00+00:00</td>\n",
              "      <td>['delays', 'shipment', 'coffee', 'brazil', 'ma...</td>\n",
              "      <td>none</td>\n",
              "      <td>Brazil</td>\n",
              "      <td>news article</td>\n",
              "      <td>English</td>\n",
              "      <td>new york reuters coffee traders are struggling...</td>\n",
              "    </tr>\n",
              "    <tr>\n",
              "      <th>2348</th>\n",
              "      <td>FL-2017-000067-BRA</td>\n",
              "      <td>Brazil mining flood could devastate environmen...</td>\n",
              "      <td>https://www.reuters.com/article/us-brazil-damb...</td>\n",
              "      <td>RIO DOCE, Brazil (Reuters) - The collapse of t...</td>\n",
              "      <td>2015-11-15 08:00:00+00:00</td>\n",
              "      <td>['water', 'brazil', 'flood', 'environment', 'r...</td>\n",
              "      <td>none</td>\n",
              "      <td>Brazil</td>\n",
              "      <td>news article</td>\n",
              "      <td>English</td>\n",
              "      <td>rio doce, brazil reuters the collapse of two d...</td>\n",
              "    </tr>\n",
              "    <tr>\n",
              "      <th>2349</th>\n",
              "      <td>FL-2017-000067-BRA</td>\n",
              "      <td>Fire burns Pantanal's upland heart and threate...</td>\n",
              "      <td>https://news.mongabay.com/2020/10/fire-burns-p...</td>\n",
              "      <td>After spreading for 9 months across the biodiv...</td>\n",
              "      <td>2020-10-19 07:00:00+00:00</td>\n",
              "      <td>['natures', 'mountains', 'threatens', 'upland'...</td>\n",
              "      <td>none</td>\n",
              "      <td>Brazil</td>\n",
              "      <td>news article</td>\n",
              "      <td>English</td>\n",
              "      <td>after spreading for 9 months across the biodiv...</td>\n",
              "    </tr>\n",
              "  </tbody>\n",
              "</table>\n",
              "<p>2465 rows × 11 columns</p>\n",
              "</div>"
            ],
            "text/plain": [
              "                      Id  ...                                       cleaned body\n",
              "0     DR-2014-000109-CHN  ...  liaoning averaged 90mm across the province in ...\n",
              "1     DR-2014-000109-CHN  ...  in time of drought, you.s. west's alfalfa expo...\n",
              "2     DR-2014-000109-CHN  ...  china's booming economic growth is helping to ...\n",
              "3     DR-2014-000109-CHN  ...  the influence of climate on agriculture is bel...\n",
              "5     DR-2014-000109-CHN  ...  a series of thunderstorms that have hit califo...\n",
              "...                  ...  ...                                                ...\n",
              "2345  FL-2017-000067-BRA  ...  environmentalists have attributed recent heavy...\n",
              "2346  FL-2017-000067-BRA  ...  russia's president vladimir putin with brazil'...\n",
              "2347  FL-2017-000067-BRA  ...  new york reuters coffee traders are struggling...\n",
              "2348  FL-2017-000067-BRA  ...  rio doce, brazil reuters the collapse of two d...\n",
              "2349  FL-2017-000067-BRA  ...  after spreading for 9 months across the biodiv...\n",
              "\n",
              "[2465 rows x 11 columns]"
            ]
          },
          "metadata": {
            "tags": []
          },
          "execution_count": 25
        }
      ]
    }
  ]
}