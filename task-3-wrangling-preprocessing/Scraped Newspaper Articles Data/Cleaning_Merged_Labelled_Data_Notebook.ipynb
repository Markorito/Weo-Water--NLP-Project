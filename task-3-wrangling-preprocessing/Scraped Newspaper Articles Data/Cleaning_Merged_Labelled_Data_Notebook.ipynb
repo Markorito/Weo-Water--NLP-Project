{
  "nbformat": 4,
  "nbformat_minor": 0,
  "metadata": {
    "colab": {
      "name": "Cleaning Merged Labelled Data Notebook.ipynb",
      "provenance": []
    },
    "kernelspec": {
      "name": "python3",
      "display_name": "Python 3"
    },
    "language_info": {
      "name": "python"
    }
  },
  "cells": [
    {
      "cell_type": "code",
      "metadata": {
        "id": "rfLS5PdfWL-C"
      },
      "source": [
        "\"\"\" Warning : Don't forget to remove your github username and token after running this cell \"\"\"\n",
        " \n",
        "import pandas as pd\n",
        "import requests\n",
        "import io\n",
        " \n",
        "# Username of your GitHub account\n",
        " \n",
        "username = ''\n",
        " \n",
        "# Personal Access Token (PAO) from your GitHub account\n",
        " \n",
        "token = ''\n",
        " \n",
        "# Creates a re-usable session object with your creds in-built\n",
        " \n",
        "github_session = requests.Session()\n",
        "github_session.auth = (username, token)"
      ],
      "execution_count": 1,
      "outputs": []
    },
    {
      "cell_type": "code",
      "metadata": {
        "id": "BmWnNzFWWj03"
      },
      "source": [
        "#Loading the file so we can be able to clean it\n",
        "\n",
        "url = 'https://raw.githubusercontent.com/OmdenaAI/WeoWater/main/task-4-scraping-newspapers/labelled_data/merged_labeled_newspaper_data.csv'\n",
        "download = github_session.get(url).content #Reading and downloading the data\n",
        "\n",
        "data = pd.read_csv(io.StringIO(download.decode('utf-8'))) #Converting the data into a pd dataframe"
      ],
      "execution_count": 2,
      "outputs": []
    },
    {
      "cell_type": "code",
      "metadata": {
        "colab": {
          "base_uri": "https://localhost:8080/"
        },
        "id": "r5X7vksyWtMc",
        "outputId": "03b2cef6-eb8c-4613-993b-56e8683e8ed1"
      },
      "source": [
        "data.info()"
      ],
      "execution_count": 3,
      "outputs": [
        {
          "output_type": "stream",
          "text": [
            "<class 'pandas.core.frame.DataFrame'>\n",
            "RangeIndex: 4749 entries, 0 to 4748\n",
            "Data columns (total 20 columns):\n",
            " #   Column             Non-Null Count  Dtype  \n",
            "---  ------             --------------  -----  \n",
            " 0   Unnamed: 0         4749 non-null   int64  \n",
            " 1   event_id           4749 non-null   object \n",
            " 2   article_title      4749 non-null   object \n",
            " 3   article_link       4749 non-null   object \n",
            " 4   article_content    4361 non-null   object \n",
            " 5   publishing_date    4703 non-null   object \n",
            " 6   article_image      4302 non-null   object \n",
            " 7   article_keywords   4748 non-null   object \n",
            " 8   article_relevance  4230 non-null   object \n",
            " 9   Unnamed: 10        1 non-null      object \n",
            " 10  category           3783 non-null   object \n",
            " 11  Country            4749 non-null   object \n",
            " 12  Unnamed: 11        1 non-null      object \n",
            " 13  Unnamed: 9         0 non-null      float64\n",
            " 14  Category           316 non-null    object \n",
            " 15  Unnamed: 12        0 non-null      float64\n",
            " 16  Unnamed: 13        0 non-null      float64\n",
            " 17  Unnamed: 14        0 non-null      float64\n",
            " 18  Unnamed: 15        0 non-null      float64\n",
            " 19  Unnamed: 16        0 non-null      float64\n",
            "dtypes: float64(6), int64(1), object(13)\n",
            "memory usage: 742.2+ KB\n"
          ],
          "name": "stdout"
        }
      ]
    },
    {
      "cell_type": "code",
      "metadata": {
        "colab": {
          "base_uri": "https://localhost:8080/",
          "height": 462
        },
        "id": "msD9_w-95EGa",
        "outputId": "ae4615f1-4b9c-4140-926a-9b0319635fa7"
      },
      "source": [
        "data.head()"
      ],
      "execution_count": 4,
      "outputs": [
        {
          "output_type": "execute_result",
          "data": {
            "text/html": [
              "<div>\n",
              "<style scoped>\n",
              "    .dataframe tbody tr th:only-of-type {\n",
              "        vertical-align: middle;\n",
              "    }\n",
              "\n",
              "    .dataframe tbody tr th {\n",
              "        vertical-align: top;\n",
              "    }\n",
              "\n",
              "    .dataframe thead th {\n",
              "        text-align: right;\n",
              "    }\n",
              "</style>\n",
              "<table border=\"1\" class=\"dataframe\">\n",
              "  <thead>\n",
              "    <tr style=\"text-align: right;\">\n",
              "      <th></th>\n",
              "      <th>Unnamed: 0</th>\n",
              "      <th>event_id</th>\n",
              "      <th>article_title</th>\n",
              "      <th>article_link</th>\n",
              "      <th>article_content</th>\n",
              "      <th>publishing_date</th>\n",
              "      <th>article_image</th>\n",
              "      <th>article_keywords</th>\n",
              "      <th>article_relevance</th>\n",
              "      <th>Unnamed: 10</th>\n",
              "      <th>category</th>\n",
              "      <th>Country</th>\n",
              "      <th>Unnamed: 11</th>\n",
              "      <th>Unnamed: 9</th>\n",
              "      <th>Category</th>\n",
              "      <th>Unnamed: 12</th>\n",
              "      <th>Unnamed: 13</th>\n",
              "      <th>Unnamed: 14</th>\n",
              "      <th>Unnamed: 15</th>\n",
              "      <th>Unnamed: 16</th>\n",
              "    </tr>\n",
              "  </thead>\n",
              "  <tbody>\n",
              "    <tr>\n",
              "      <th>0</th>\n",
              "      <td>0</td>\n",
              "      <td>DR-2021-000022-AFG</td>\n",
              "      <td>After drought and floods, Afghanistan confront...</td>\n",
              "      <td>https://www.reuters.com/article/us-afghanistan...</td>\n",
              "      <td>KABUL/MAZAR-I-SHARIF, Afghanistan (Reuters) - ...</td>\n",
              "      <td>Wed, 27 Mar 2019 07:00:00 GMT</td>\n",
              "      <td>https://static.reuters.com/resources/r/?m=02&amp;d...</td>\n",
              "      <td>['displaced', 'food', 'lanzer', 'representativ...</td>\n",
              "      <td></td>\n",
              "      <td>NaN</td>\n",
              "      <td>flood_drought</td>\n",
              "      <td>Afghanista</td>\n",
              "      <td>NaN</td>\n",
              "      <td>NaN</td>\n",
              "      <td>NaN</td>\n",
              "      <td>NaN</td>\n",
              "      <td>NaN</td>\n",
              "      <td>NaN</td>\n",
              "      <td>NaN</td>\n",
              "      <td>NaN</td>\n",
              "    </tr>\n",
              "    <tr>\n",
              "      <th>1</th>\n",
              "      <td>1</td>\n",
              "      <td>DR-2021-000022-AFG</td>\n",
              "      <td>500,000 children affected by drought in Afghan...</td>\n",
              "      <td>https://www.unicef.org/press-releases/500000-c...</td>\n",
              "      <td>KABUL, 23 April 2018 – The extremely dry winte...</td>\n",
              "      <td>Mon, 23 Apr 2018 07:00:00 GMT</td>\n",
              "      <td>https://www.unicef.org/themes/custom/unicef_ba...</td>\n",
              "      <td>['malnutrition', 'water', 'affected', 'drought...</td>\n",
              "      <td></td>\n",
              "      <td>NaN</td>\n",
              "      <td>flood_drought</td>\n",
              "      <td>Afghanista</td>\n",
              "      <td>NaN</td>\n",
              "      <td>NaN</td>\n",
              "      <td>NaN</td>\n",
              "      <td>NaN</td>\n",
              "      <td>NaN</td>\n",
              "      <td>NaN</td>\n",
              "      <td>NaN</td>\n",
              "      <td>NaN</td>\n",
              "    </tr>\n",
              "    <tr>\n",
              "      <th>2</th>\n",
              "      <td>2</td>\n",
              "      <td>DR-2021-000022-AFG</td>\n",
              "      <td>Afghanistan: Drought - 2018-2019 - ReliefWeb</td>\n",
              "      <td>https://reliefweb.int/disaster/dr-2018-000052-afg</td>\n",
              "      <td>La Niña has had a devastating effect on this y...</td>\n",
              "      <td>Tue, 15 May 2018 09:34:06 GMT</td>\n",
              "      <td>https://reliefweb.int/apple-touch-icon.png</td>\n",
              "      <td>['food', 'ipc', 'households', 'affected', 'dro...</td>\n",
              "      <td></td>\n",
              "      <td>NaN</td>\n",
              "      <td>drought</td>\n",
              "      <td>Afghanista</td>\n",
              "      <td>NaN</td>\n",
              "      <td>NaN</td>\n",
              "      <td>NaN</td>\n",
              "      <td>NaN</td>\n",
              "      <td>NaN</td>\n",
              "      <td>NaN</td>\n",
              "      <td>NaN</td>\n",
              "      <td>NaN</td>\n",
              "    </tr>\n",
              "    <tr>\n",
              "      <th>3</th>\n",
              "      <td>3</td>\n",
              "      <td>DR-2021-000022-AFG</td>\n",
              "      <td>War, drought, diplomatic rifts deepen Afghanis...</td>\n",
              "      <td>https://www.aljazeera.com/features/2019/5/5/wa...</td>\n",
              "      <td>Worst drought in a decade highlights poor infr...</td>\n",
              "      <td>Sun, 05 May 2019 07:00:00 GMT</td>\n",
              "      <td>https://www.aljazeera.com/wp-content/uploads/2...</td>\n",
              "      <td>['rifts', 'war', 'afghanistans', 'water', 'dam...</td>\n",
              "      <td></td>\n",
              "      <td>NaN</td>\n",
              "      <td>drought</td>\n",
              "      <td>Afghanista</td>\n",
              "      <td>NaN</td>\n",
              "      <td>NaN</td>\n",
              "      <td>NaN</td>\n",
              "      <td>NaN</td>\n",
              "      <td>NaN</td>\n",
              "      <td>NaN</td>\n",
              "      <td>NaN</td>\n",
              "      <td>NaN</td>\n",
              "    </tr>\n",
              "    <tr>\n",
              "      <th>4</th>\n",
              "      <td>4</td>\n",
              "      <td>DR-2021-000022-AFG</td>\n",
              "      <td>'The country could fall apart': drought and de...</td>\n",
              "      <td>https://www.theguardian.com/global-development...</td>\n",
              "      <td>Shafiqa watches closely over her six-month-old...</td>\n",
              "      <td>Mon, 25 Mar 2019 07:00:00 GMT</td>\n",
              "      <td>https://i.guim.co.uk/img/media/26284f9ae5aa849...</td>\n",
              "      <td>['malnutrition', 'apart', 'food', 'hospital', ...</td>\n",
              "      <td></td>\n",
              "      <td>NaN</td>\n",
              "      <td>none</td>\n",
              "      <td>Afghanista</td>\n",
              "      <td>NaN</td>\n",
              "      <td>NaN</td>\n",
              "      <td>NaN</td>\n",
              "      <td>NaN</td>\n",
              "      <td>NaN</td>\n",
              "      <td>NaN</td>\n",
              "      <td>NaN</td>\n",
              "      <td>NaN</td>\n",
              "    </tr>\n",
              "  </tbody>\n",
              "</table>\n",
              "</div>"
            ],
            "text/plain": [
              "   Unnamed: 0            event_id  ... Unnamed: 15 Unnamed: 16\n",
              "0           0  DR-2021-000022-AFG  ...         NaN         NaN\n",
              "1           1  DR-2021-000022-AFG  ...         NaN         NaN\n",
              "2           2  DR-2021-000022-AFG  ...         NaN         NaN\n",
              "3           3  DR-2021-000022-AFG  ...         NaN         NaN\n",
              "4           4  DR-2021-000022-AFG  ...         NaN         NaN\n",
              "\n",
              "[5 rows x 20 columns]"
            ]
          },
          "metadata": {
            "tags": []
          },
          "execution_count": 4
        }
      ]
    },
    {
      "cell_type": "code",
      "metadata": {
        "id": "9pyqBA24sHzS"
      },
      "source": [
        "data_copy = data.copy()"
      ],
      "execution_count": 5,
      "outputs": []
    },
    {
      "cell_type": "code",
      "metadata": {
        "id": "jwNnCsXksORx"
      },
      "source": [
        "data.drop('Country', inplace = True, axis = 1)"
      ],
      "execution_count": 6,
      "outputs": []
    },
    {
      "cell_type": "code",
      "metadata": {
        "colab": {
          "base_uri": "https://localhost:8080/"
        },
        "id": "1TxH9RYjsqM7",
        "outputId": "f16bf76d-d805-4392-ee35-797eef3e325a"
      },
      "source": [
        "data.info()"
      ],
      "execution_count": 7,
      "outputs": [
        {
          "output_type": "stream",
          "text": [
            "<class 'pandas.core.frame.DataFrame'>\n",
            "RangeIndex: 4749 entries, 0 to 4748\n",
            "Data columns (total 19 columns):\n",
            " #   Column             Non-Null Count  Dtype  \n",
            "---  ------             --------------  -----  \n",
            " 0   Unnamed: 0         4749 non-null   int64  \n",
            " 1   event_id           4749 non-null   object \n",
            " 2   article_title      4749 non-null   object \n",
            " 3   article_link       4749 non-null   object \n",
            " 4   article_content    4361 non-null   object \n",
            " 5   publishing_date    4703 non-null   object \n",
            " 6   article_image      4302 non-null   object \n",
            " 7   article_keywords   4748 non-null   object \n",
            " 8   article_relevance  4230 non-null   object \n",
            " 9   Unnamed: 10        1 non-null      object \n",
            " 10  category           3783 non-null   object \n",
            " 11  Unnamed: 11        1 non-null      object \n",
            " 12  Unnamed: 9         0 non-null      float64\n",
            " 13  Category           316 non-null    object \n",
            " 14  Unnamed: 12        0 non-null      float64\n",
            " 15  Unnamed: 13        0 non-null      float64\n",
            " 16  Unnamed: 14        0 non-null      float64\n",
            " 17  Unnamed: 15        0 non-null      float64\n",
            " 18  Unnamed: 16        0 non-null      float64\n",
            "dtypes: float64(6), int64(1), object(12)\n",
            "memory usage: 705.1+ KB\n"
          ],
          "name": "stdout"
        }
      ]
    },
    {
      "cell_type": "code",
      "metadata": {
        "id": "-T2KJ1posG3I"
      },
      "source": [
        "data['category'] = data[data.columns[8:]].apply(\n",
        "    lambda x: ','.join(x.dropna().astype(str)),\n",
        "    axis=1)"
      ],
      "execution_count": 8,
      "outputs": []
    },
    {
      "cell_type": "code",
      "metadata": {
        "id": "gW3PsbkS6sNF"
      },
      "source": [
        "#Dropping unnecessary columns\n",
        "\n",
        "data.drop(data.columns[data.columns.str.contains('unnamed',case = False)],axis = 1, inplace = True)#Dropping unnamed columns in the file"
      ],
      "execution_count": 9,
      "outputs": []
    },
    {
      "cell_type": "code",
      "metadata": {
        "colab": {
          "base_uri": "https://localhost:8080/"
        },
        "id": "ATTHFTYO6vUM",
        "outputId": "25c0fff0-3eb5-4871-ff25-ace76c3d7826"
      },
      "source": [
        "data.info()"
      ],
      "execution_count": 10,
      "outputs": [
        {
          "output_type": "stream",
          "text": [
            "<class 'pandas.core.frame.DataFrame'>\n",
            "RangeIndex: 4749 entries, 0 to 4748\n",
            "Data columns (total 10 columns):\n",
            " #   Column             Non-Null Count  Dtype \n",
            "---  ------             --------------  ----- \n",
            " 0   event_id           4749 non-null   object\n",
            " 1   article_title      4749 non-null   object\n",
            " 2   article_link       4749 non-null   object\n",
            " 3   article_content    4361 non-null   object\n",
            " 4   publishing_date    4703 non-null   object\n",
            " 5   article_image      4302 non-null   object\n",
            " 6   article_keywords   4748 non-null   object\n",
            " 7   article_relevance  4230 non-null   object\n",
            " 8   category           4749 non-null   object\n",
            " 9   Category           316 non-null    object\n",
            "dtypes: object(10)\n",
            "memory usage: 371.1+ KB\n"
          ],
          "name": "stdout"
        }
      ]
    },
    {
      "cell_type": "code",
      "metadata": {
        "colab": {
          "base_uri": "https://localhost:8080/",
          "height": 298
        },
        "id": "w4FvCFz27CE4",
        "outputId": "338685a0-19e7-4b1a-a151-128818175df7"
      },
      "source": [
        "data.head(3)"
      ],
      "execution_count": 11,
      "outputs": [
        {
          "output_type": "execute_result",
          "data": {
            "text/html": [
              "<div>\n",
              "<style scoped>\n",
              "    .dataframe tbody tr th:only-of-type {\n",
              "        vertical-align: middle;\n",
              "    }\n",
              "\n",
              "    .dataframe tbody tr th {\n",
              "        vertical-align: top;\n",
              "    }\n",
              "\n",
              "    .dataframe thead th {\n",
              "        text-align: right;\n",
              "    }\n",
              "</style>\n",
              "<table border=\"1\" class=\"dataframe\">\n",
              "  <thead>\n",
              "    <tr style=\"text-align: right;\">\n",
              "      <th></th>\n",
              "      <th>event_id</th>\n",
              "      <th>article_title</th>\n",
              "      <th>article_link</th>\n",
              "      <th>article_content</th>\n",
              "      <th>publishing_date</th>\n",
              "      <th>article_image</th>\n",
              "      <th>article_keywords</th>\n",
              "      <th>article_relevance</th>\n",
              "      <th>category</th>\n",
              "      <th>Category</th>\n",
              "    </tr>\n",
              "  </thead>\n",
              "  <tbody>\n",
              "    <tr>\n",
              "      <th>0</th>\n",
              "      <td>DR-2021-000022-AFG</td>\n",
              "      <td>After drought and floods, Afghanistan confront...</td>\n",
              "      <td>https://www.reuters.com/article/us-afghanistan...</td>\n",
              "      <td>KABUL/MAZAR-I-SHARIF, Afghanistan (Reuters) - ...</td>\n",
              "      <td>Wed, 27 Mar 2019 07:00:00 GMT</td>\n",
              "      <td>https://static.reuters.com/resources/r/?m=02&amp;d...</td>\n",
              "      <td>['displaced', 'food', 'lanzer', 'representativ...</td>\n",
              "      <td></td>\n",
              "      <td>,flood_drought</td>\n",
              "      <td>NaN</td>\n",
              "    </tr>\n",
              "    <tr>\n",
              "      <th>1</th>\n",
              "      <td>DR-2021-000022-AFG</td>\n",
              "      <td>500,000 children affected by drought in Afghan...</td>\n",
              "      <td>https://www.unicef.org/press-releases/500000-c...</td>\n",
              "      <td>KABUL, 23 April 2018 – The extremely dry winte...</td>\n",
              "      <td>Mon, 23 Apr 2018 07:00:00 GMT</td>\n",
              "      <td>https://www.unicef.org/themes/custom/unicef_ba...</td>\n",
              "      <td>['malnutrition', 'water', 'affected', 'drought...</td>\n",
              "      <td></td>\n",
              "      <td>,flood_drought</td>\n",
              "      <td>NaN</td>\n",
              "    </tr>\n",
              "    <tr>\n",
              "      <th>2</th>\n",
              "      <td>DR-2021-000022-AFG</td>\n",
              "      <td>Afghanistan: Drought - 2018-2019 - ReliefWeb</td>\n",
              "      <td>https://reliefweb.int/disaster/dr-2018-000052-afg</td>\n",
              "      <td>La Niña has had a devastating effect on this y...</td>\n",
              "      <td>Tue, 15 May 2018 09:34:06 GMT</td>\n",
              "      <td>https://reliefweb.int/apple-touch-icon.png</td>\n",
              "      <td>['food', 'ipc', 'households', 'affected', 'dro...</td>\n",
              "      <td></td>\n",
              "      <td>,drought</td>\n",
              "      <td>NaN</td>\n",
              "    </tr>\n",
              "  </tbody>\n",
              "</table>\n",
              "</div>"
            ],
            "text/plain": [
              "             event_id  ... Category\n",
              "0  DR-2021-000022-AFG  ...      NaN\n",
              "1  DR-2021-000022-AFG  ...      NaN\n",
              "2  DR-2021-000022-AFG  ...      NaN\n",
              "\n",
              "[3 rows x 10 columns]"
            ]
          },
          "metadata": {
            "tags": []
          },
          "execution_count": 11
        }
      ]
    },
    {
      "cell_type": "code",
      "metadata": {
        "id": "0YUdhbrOeHHm"
      },
      "source": [
        "# replace field that's entirely space (or empty) with NaN\n",
        "import numpy as np\n",
        "data = data.replace(r'^\\s*$', np.nan, regex=True)"
      ],
      "execution_count": 12,
      "outputs": []
    },
    {
      "cell_type": "code",
      "metadata": {
        "colab": {
          "base_uri": "https://localhost:8080/"
        },
        "id": "YYxZse4seyYE",
        "outputId": "9c8f861b-cc06-4c9a-b608-14ef65dbaa23"
      },
      "source": [
        "data.info()"
      ],
      "execution_count": 13,
      "outputs": [
        {
          "output_type": "stream",
          "text": [
            "<class 'pandas.core.frame.DataFrame'>\n",
            "RangeIndex: 4749 entries, 0 to 4748\n",
            "Data columns (total 10 columns):\n",
            " #   Column             Non-Null Count  Dtype \n",
            "---  ------             --------------  ----- \n",
            " 0   event_id           4749 non-null   object\n",
            " 1   article_title      4749 non-null   object\n",
            " 2   article_link       4749 non-null   object\n",
            " 3   article_content    4361 non-null   object\n",
            " 4   publishing_date    4703 non-null   object\n",
            " 5   article_image      4302 non-null   object\n",
            " 6   article_keywords   4748 non-null   object\n",
            " 7   article_relevance  253 non-null    object\n",
            " 8   category           4345 non-null   object\n",
            " 9   Category           315 non-null    object\n",
            "dtypes: object(10)\n",
            "memory usage: 371.1+ KB\n"
          ],
          "name": "stdout"
        }
      ]
    },
    {
      "cell_type": "code",
      "metadata": {
        "colab": {
          "base_uri": "https://localhost:8080/",
          "height": 445
        },
        "id": "8GWoOftlf5oc",
        "outputId": "2d4654a8-1d16-49cc-fb83-edb18d894901"
      },
      "source": [
        "to_drop = ['Category']#Columns to be dropped \n",
        "\n",
        "data.drop(to_drop, inplace = True, axis = 1)\n",
        "data.sample(5)#Checking if the correct columns have been dropped"
      ],
      "execution_count": 14,
      "outputs": [
        {
          "output_type": "execute_result",
          "data": {
            "text/html": [
              "<div>\n",
              "<style scoped>\n",
              "    .dataframe tbody tr th:only-of-type {\n",
              "        vertical-align: middle;\n",
              "    }\n",
              "\n",
              "    .dataframe tbody tr th {\n",
              "        vertical-align: top;\n",
              "    }\n",
              "\n",
              "    .dataframe thead th {\n",
              "        text-align: right;\n",
              "    }\n",
              "</style>\n",
              "<table border=\"1\" class=\"dataframe\">\n",
              "  <thead>\n",
              "    <tr style=\"text-align: right;\">\n",
              "      <th></th>\n",
              "      <th>event_id</th>\n",
              "      <th>article_title</th>\n",
              "      <th>article_link</th>\n",
              "      <th>article_content</th>\n",
              "      <th>publishing_date</th>\n",
              "      <th>article_image</th>\n",
              "      <th>article_keywords</th>\n",
              "      <th>article_relevance</th>\n",
              "      <th>category</th>\n",
              "    </tr>\n",
              "  </thead>\n",
              "  <tbody>\n",
              "    <tr>\n",
              "      <th>2430</th>\n",
              "      <td>FL-2020-000196-NGA</td>\n",
              "      <td>Largest dating apps join effort to get younger...</td>\n",
              "      <td>https://www.yahoo.com/gma/largest-dating-apps-...</td>\n",
              "      <td>ABC News\\n\\nMore than two years after Ronald G...</td>\n",
              "      <td>Fri, 21 May 2021 07:41:01 GMT</td>\n",
              "      <td>https://s.yimg.com/hd/cp-video-transcode/prod/...</td>\n",
              "      <td>['apps', 'videos', 'video', 'dating', 'louisia...</td>\n",
              "      <td>NaN</td>\n",
              "      <td>,flood</td>\n",
              "    </tr>\n",
              "    <tr>\n",
              "      <th>4389</th>\n",
              "      <td>FL-2020-000210-VNM</td>\n",
              "      <td>Death Toll From Floods Climbs in Vietnam, Whil...</td>\n",
              "      <td>https://www.rfa.org/english/news/vietnam/toll-...</td>\n",
              "      <td>Local residents and volunteers deliver aid pac...</td>\n",
              "      <td>Tue, 20 Oct 2020 07:00:00 GMT</td>\n",
              "      <td>https://www.rfa.org/english/news/vietnam/toll-...</td>\n",
              "      <td>['told', 'authorities', 'aid', 'cambodia', 'wa...</td>\n",
              "      <td>NaN</td>\n",
              "      <td>,flood</td>\n",
              "    </tr>\n",
              "    <tr>\n",
              "      <th>1719</th>\n",
              "      <td>FL-2020-000164-IND</td>\n",
              "      <td>Pagasa: Monsoon rains loom in western sections...</td>\n",
              "      <td>https://newsinfo.inquirer.net/1299255/pagasa-m...</td>\n",
              "      <td>MANILA, Philippines — People living in the wes...</td>\n",
              "      <td>Mon, 29 Jun 2020 07:00:00 GMT</td>\n",
              "      <td>https://newsinfo.inquirer.net/files/2020/06/1i...</td>\n",
              "      <td>['zambales', 'sections', 'expect', 'warned', '...</td>\n",
              "      <td>NaN</td>\n",
              "      <td>,none</td>\n",
              "    </tr>\n",
              "    <tr>\n",
              "      <th>4086</th>\n",
              "      <td>FL-2018-000121-VNM</td>\n",
              "      <td>How a green pillow is helping to save Hoi An f...</td>\n",
              "      <td>https://www.smh.com.au/world/asia/how-a-green-...</td>\n",
              "      <td>Save Log in , register or subscribe to save ar...</td>\n",
              "      <td>Mon, 10 May 2021 07:00:00 GMT</td>\n",
              "      <td>https://static.ffx.io/images/$zoom_0.3442%2C$m...</td>\n",
              "      <td>['palms', 'triem', 'land', 'pillow', 'change',...</td>\n",
              "      <td>NaN</td>\n",
              "      <td>,none</td>\n",
              "    </tr>\n",
              "    <tr>\n",
              "      <th>2275</th>\n",
              "      <td>FL-2020-000207-NGA</td>\n",
              "      <td>2023: Ortom for Senate Posters Flood Benue Sta...</td>\n",
              "      <td>https://www.legit.ng/1416401-2023-ortom-senate...</td>\n",
              "      <td>- Pressure is mounting on Governor Samuel Orto...</td>\n",
              "      <td>Wed, 19 May 2021 16:19:02 GMT</td>\n",
              "      <td>https://netstorage-legit.akamaized.net/images/...</td>\n",
              "      <td>['samuel', 'terver', 'governor', 'spokesman', ...</td>\n",
              "      <td>NaN</td>\n",
              "      <td>,none</td>\n",
              "    </tr>\n",
              "  </tbody>\n",
              "</table>\n",
              "</div>"
            ],
            "text/plain": [
              "                event_id  ... category\n",
              "2430  FL-2020-000196-NGA  ...   ,flood\n",
              "4389  FL-2020-000210-VNM  ...   ,flood\n",
              "1719  FL-2020-000164-IND  ...    ,none\n",
              "4086  FL-2018-000121-VNM  ...    ,none\n",
              "2275  FL-2020-000207-NGA  ...    ,none\n",
              "\n",
              "[5 rows x 9 columns]"
            ]
          },
          "metadata": {
            "tags": []
          },
          "execution_count": 14
        }
      ]
    },
    {
      "cell_type": "code",
      "metadata": {
        "id": "hwForpUJtVwm"
      },
      "source": [
        "data['country'] = data_copy['Country']"
      ],
      "execution_count": 15,
      "outputs": []
    },
    {
      "cell_type": "code",
      "metadata": {
        "colab": {
          "base_uri": "https://localhost:8080/"
        },
        "id": "zlznQDL-gUfv",
        "outputId": "80ccf2a2-9e85-4e5a-b21d-028e5ad0e9c9"
      },
      "source": [
        "data.info()"
      ],
      "execution_count": 16,
      "outputs": [
        {
          "output_type": "stream",
          "text": [
            "<class 'pandas.core.frame.DataFrame'>\n",
            "RangeIndex: 4749 entries, 0 to 4748\n",
            "Data columns (total 10 columns):\n",
            " #   Column             Non-Null Count  Dtype \n",
            "---  ------             --------------  ----- \n",
            " 0   event_id           4749 non-null   object\n",
            " 1   article_title      4749 non-null   object\n",
            " 2   article_link       4749 non-null   object\n",
            " 3   article_content    4361 non-null   object\n",
            " 4   publishing_date    4703 non-null   object\n",
            " 5   article_image      4302 non-null   object\n",
            " 6   article_keywords   4748 non-null   object\n",
            " 7   article_relevance  253 non-null    object\n",
            " 8   category           4345 non-null   object\n",
            " 9   country            4749 non-null   object\n",
            "dtypes: object(10)\n",
            "memory usage: 371.1+ KB\n"
          ],
          "name": "stdout"
        }
      ]
    },
    {
      "cell_type": "code",
      "metadata": {
        "colab": {
          "base_uri": "https://localhost:8080/",
          "height": 898
        },
        "id": "8gz0Jn3Bj3eV",
        "outputId": "cdbdb3eb-2dcf-4654-f7ed-1637d2f61e34"
      },
      "source": [
        "data[data.article_relevance.notnull()]"
      ],
      "execution_count": 17,
      "outputs": [
        {
          "output_type": "execute_result",
          "data": {
            "text/html": [
              "<div>\n",
              "<style scoped>\n",
              "    .dataframe tbody tr th:only-of-type {\n",
              "        vertical-align: middle;\n",
              "    }\n",
              "\n",
              "    .dataframe tbody tr th {\n",
              "        vertical-align: top;\n",
              "    }\n",
              "\n",
              "    .dataframe thead th {\n",
              "        text-align: right;\n",
              "    }\n",
              "</style>\n",
              "<table border=\"1\" class=\"dataframe\">\n",
              "  <thead>\n",
              "    <tr style=\"text-align: right;\">\n",
              "      <th></th>\n",
              "      <th>event_id</th>\n",
              "      <th>article_title</th>\n",
              "      <th>article_link</th>\n",
              "      <th>article_content</th>\n",
              "      <th>publishing_date</th>\n",
              "      <th>article_image</th>\n",
              "      <th>article_keywords</th>\n",
              "      <th>article_relevance</th>\n",
              "      <th>category</th>\n",
              "      <th>country</th>\n",
              "    </tr>\n",
              "  </thead>\n",
              "  <tbody>\n",
              "    <tr>\n",
              "      <th>200</th>\n",
              "      <td>DR-2014-000109-CHN</td>\n",
              "      <td>Worst drought in 63 years hits Liaoning provin...</td>\n",
              "      <td>https://www.scmp.com/news/china/article/157349...</td>\n",
              "      <td>Liaoning averaged 90mm across the province in ...</td>\n",
              "      <td>Thu, 14 Aug 2014 07:00:00 GMT</td>\n",
              "      <td>https://cdn1.i-scmp.com/sites/default/files/st...</td>\n",
              "      <td>['averaged', 'liaoning', 'hits', 'dry', 'droug...</td>\n",
              "      <td>yes</td>\n",
              "      <td>yes</td>\n",
              "      <td>China</td>\n",
              "    </tr>\n",
              "    <tr>\n",
              "      <th>201</th>\n",
              "      <td>DR-2014-000109-CHN</td>\n",
              "      <td>In Time Of Drought, U.S. West's Alfalfa Export...</td>\n",
              "      <td>https://www.npr.org/2014/08/12/339753108/in-ti...</td>\n",
              "      <td>In Time Of Drought, U.S. West's Alfalfa Export...</td>\n",
              "      <td>Tue, 12 Aug 2014 07:00:00 GMT</td>\n",
              "      <td>https://media.npr.org/include/images/facebook-...</td>\n",
              "      <td>['criticized', 'river', 'drought', 'farmers', ...</td>\n",
              "      <td>yes</td>\n",
              "      <td>yes</td>\n",
              "      <td>China</td>\n",
              "    </tr>\n",
              "    <tr>\n",
              "      <th>202</th>\n",
              "      <td>DR-2014-000109-CHN</td>\n",
              "      <td>More Chinese on the Coast, Less Fish in the Se...</td>\n",
              "      <td>https://www.scientificamerican.com/article/mor...</td>\n",
              "      <td>China's booming economic growth is helping to ...</td>\n",
              "      <td>Fri, 08 Aug 2014 07:00:00 GMT</td>\n",
              "      <td>http://www.scientificamerican.com/themes/respo...</td>\n",
              "      <td>['bertness', 'chinese', 'research', 'sea', 'ec...</td>\n",
              "      <td>no</td>\n",
              "      <td>no</td>\n",
              "      <td>China</td>\n",
              "    </tr>\n",
              "    <tr>\n",
              "      <th>203</th>\n",
              "      <td>DR-2014-000109-CHN</td>\n",
              "      <td>Climate change and drought in ancient times - ...</td>\n",
              "      <td>https://www.sciencedaily.com/releases/2014/08/...</td>\n",
              "      <td>The influence of climate on agriculture is bel...</td>\n",
              "      <td>Mon, 11 Aug 2014 07:00:00 GMT</td>\n",
              "      <td>https://www.sciencedaily.com/images/scidaily-i...</td>\n",
              "      <td>['climate', 'drought', 'ancient', 'agriculture...</td>\n",
              "      <td>yes</td>\n",
              "      <td>yes</td>\n",
              "      <td>China</td>\n",
              "    </tr>\n",
              "    <tr>\n",
              "      <th>204</th>\n",
              "      <td>DR-2014-000109-CHN</td>\n",
              "      <td>Drought-Resistant Rice Sows Wealth in India - ...</td>\n",
              "      <td>https://www.wsj.com/articles/drought-resistant...</td>\n",
              "      <td>NaN</td>\n",
              "      <td>Mon, 04 Aug 2014 07:00:00 GMT</td>\n",
              "      <td>NaN</td>\n",
              "      <td>[]</td>\n",
              "      <td>no</td>\n",
              "      <td>no</td>\n",
              "      <td>China</td>\n",
              "    </tr>\n",
              "    <tr>\n",
              "      <th>...</th>\n",
              "      <td>...</td>\n",
              "      <td>...</td>\n",
              "      <td>...</td>\n",
              "      <td>...</td>\n",
              "      <td>...</td>\n",
              "      <td>...</td>\n",
              "      <td>...</td>\n",
              "      <td>...</td>\n",
              "      <td>...</td>\n",
              "      <td>...</td>\n",
              "    </tr>\n",
              "    <tr>\n",
              "      <th>455</th>\n",
              "      <td>Drought Sri Lanka</td>\n",
              "      <td>An end to desertification - Sunday Observer</td>\n",
              "      <td>https://sundayobserver.lk/2017/06/18/end-deser...</td>\n",
              "      <td>Most parts of Sri Lanka have just emerged out ...</td>\n",
              "      <td>Sun, 18 Jun 2017 07:00:00 GMT</td>\n",
              "      <td>http://www.sundayobserver.lk/sites/default/fil...</td>\n",
              "      <td>['million', 'land', 'end', 'countries', 'deser...</td>\n",
              "      <td>drought</td>\n",
              "      <td>drought</td>\n",
              "      <td>Sri Lanka</td>\n",
              "    </tr>\n",
              "    <tr>\n",
              "      <th>1255</th>\n",
              "      <td>FL-2017-000067-BRA</td>\n",
              "      <td>Preço da Netflix sobe no Brasil</td>\n",
              "      <td>veja quanto é a sua nova mensalidade - TecMundo</td>\n",
              "      <td>https://www.tecmundo.com.br/netflix/117833-pre...</td>\n",
              "      <td>O serviço de streaming Netflix anunciou nesta ...</td>\n",
              "      <td>Thu, 15 Jun 2017 07:00:00 GMT</td>\n",
              "      <td>https://img.ibxk.com.br/2017/06/15/15150821651...</td>\n",
              "      <td>['da', 'valor', 'sua', 'quanto', 'r', 'uma', '...</td>\n",
              "      <td>['da', 'valor', 'sua', 'quanto', 'r', 'uma', '...</td>\n",
              "      <td>Brazil</td>\n",
              "    </tr>\n",
              "    <tr>\n",
              "      <th>1699</th>\n",
              "      <td>FL-2020-000164-IND</td>\n",
              "      <td>Intense monsoon rain over west and central Ind...</td>\n",
              "      <td>https://www.tribuneindia.com/news/nation/inten...</td>\n",
              "      <td>Tribune News Service\\n\\nNew Delhi, July 1\\n\\nT...</td>\n",
              "      <td>Wed, 01 Jul 2020 07:00:00 GMT</td>\n",
              "      <td>https://englishtribuneimages.blob.core.windows...</td>\n",
              "      <td>['rainfall', 'imd', 'till', 'madhya', 'widespr...</td>\n",
              "      <td>flood</td>\n",
              "      <td>flood,flood</td>\n",
              "      <td>India</td>\n",
              "    </tr>\n",
              "    <tr>\n",
              "      <th>1700</th>\n",
              "      <td>FL-2020-000164-IND</td>\n",
              "      <td>Global ripple effect of shifting monsoons - Sc...</td>\n",
              "      <td>https://www.sciencedaily.com/releases/2020/06/...</td>\n",
              "      <td>Scientists from the Department of Energy's Oak...</td>\n",
              "      <td>Mon, 29 Jun 2020 07:00:00 GMT</td>\n",
              "      <td>https://www.sciencedaily.com/images/scidaily-i...</td>\n",
              "      <td>['team', 'simulations', 'season', 'effect', 'r...</td>\n",
              "      <td>none</td>\n",
              "      <td>none,none</td>\n",
              "      <td>India</td>\n",
              "    </tr>\n",
              "    <tr>\n",
              "      <th>1837</th>\n",
              "      <td>FL-2021-000021-IND</td>\n",
              "      <td>Uttarakhand: Glacier burst causes flash floods</td>\n",
              "      <td>three bodies recovered while many others miss...</td>\n",
              "      <td>https://www.timesnownews.com/videos/times-now/...</td>\n",
              "      <td>07 FEBRUARY 2021 05:29 IST | ENGLISH | GENERAL...</td>\n",
              "      <td>Sun, 07 Feb 2021 08:00:00 GMT</td>\n",
              "      <td>https://imgk.timesnownews.com/2355_1612700910_...</td>\n",
              "      <td>['causes', 'glacier', 'took', 'bodies', 'minis...</td>\n",
              "      <td>['causes', 'glacier', 'took', 'bodies', 'minis...</td>\n",
              "      <td>India</td>\n",
              "    </tr>\n",
              "  </tbody>\n",
              "</table>\n",
              "<p>253 rows × 10 columns</p>\n",
              "</div>"
            ],
            "text/plain": [
              "                event_id  ...    country\n",
              "200   DR-2014-000109-CHN  ...      China\n",
              "201   DR-2014-000109-CHN  ...      China\n",
              "202   DR-2014-000109-CHN  ...      China\n",
              "203   DR-2014-000109-CHN  ...      China\n",
              "204   DR-2014-000109-CHN  ...      China\n",
              "...                  ...  ...        ...\n",
              "455    Drought Sri Lanka  ...  Sri Lanka\n",
              "1255  FL-2017-000067-BRA  ...     Brazil\n",
              "1699  FL-2020-000164-IND  ...      India\n",
              "1700  FL-2020-000164-IND  ...      India\n",
              "1837  FL-2021-000021-IND  ...      India\n",
              "\n",
              "[253 rows x 10 columns]"
            ]
          },
          "metadata": {
            "tags": []
          },
          "execution_count": 17
        }
      ]
    },
    {
      "cell_type": "code",
      "metadata": {
        "colab": {
          "base_uri": "https://localhost:8080/"
        },
        "id": "I563CRu7vgyY",
        "outputId": "3b8f545f-c9c2-4912-cf04-f8dab21da66a"
      },
      "source": [
        "data['article_relevance'].value_counts()"
      ],
      "execution_count": 18,
      "outputs": [
        {
          "output_type": "execute_result",
          "data": {
            "text/plain": [
              "no                                                                                                                                                                        87\n",
              "none                                                                                                                                                                      75\n",
              "drought                                                                                                                                                                   56\n",
              "yes                                                                                                                                                                       12\n",
              "both                                                                                                                                                                       8\n",
              "flood                                                                                                                                                                      7\n",
              " none                                                                                                                                                                      2\n",
              " drought                                                                                                                                                                   2\n",
              "['causes', 'glacier', 'took', 'bodies', 'minister', 'teams', 'water', 'missing', 'flash', 'floods', 'burst', 'reported', 'union', 'recovered', 'stock', 'uttarakhand']     1\n",
              " both                                                                                                                                                                      1\n",
              "['da', 'valor', 'sua', 'quanto', 'r', 'uma', 'é', 'netflix', 'preços', 'em', 'um', 'preço', 'sobe', 'passa', 'veja', 'mensalidade', 'nova', 'com']                         1\n",
              " yes                                                                                                                                                                       1\n",
              "Name: article_relevance, dtype: int64"
            ]
          },
          "metadata": {
            "tags": []
          },
          "execution_count": 18
        }
      ]
    },
    {
      "cell_type": "code",
      "metadata": {
        "id": "7X7jdITGv8P4"
      },
      "source": [
        "data_copy2 = data.copy()"
      ],
      "execution_count": 19,
      "outputs": []
    },
    {
      "cell_type": "code",
      "metadata": {
        "id": "rK5RmU3lxxqH"
      },
      "source": [
        "list_ = ['no','none','drought','yes','both','flood',' drought',' none',' yes',' both']"
      ],
      "execution_count": 20,
      "outputs": []
    },
    {
      "cell_type": "code",
      "metadata": {
        "id": "ZTKpE5ySwP6L"
      },
      "source": [
        "df_concat = data[data['article_relevance'].isin(list_)]"
      ],
      "execution_count": 21,
      "outputs": []
    },
    {
      "cell_type": "code",
      "metadata": {
        "colab": {
          "base_uri": "https://localhost:8080/"
        },
        "id": "dX40HpZ6ytgE",
        "outputId": "10b0a799-387e-41f2-b1f6-5a2c22283d11"
      },
      "source": [
        "df_concat.info()"
      ],
      "execution_count": 22,
      "outputs": [
        {
          "output_type": "stream",
          "text": [
            "<class 'pandas.core.frame.DataFrame'>\n",
            "Int64Index: 251 entries, 200 to 1700\n",
            "Data columns (total 10 columns):\n",
            " #   Column             Non-Null Count  Dtype \n",
            "---  ------             --------------  ----- \n",
            " 0   event_id           251 non-null    object\n",
            " 1   article_title      251 non-null    object\n",
            " 2   article_link       251 non-null    object\n",
            " 3   article_content    229 non-null    object\n",
            " 4   publishing_date    251 non-null    object\n",
            " 5   article_image      224 non-null    object\n",
            " 6   article_keywords   251 non-null    object\n",
            " 7   article_relevance  251 non-null    object\n",
            " 8   category           251 non-null    object\n",
            " 9   country            251 non-null    object\n",
            "dtypes: object(10)\n",
            "memory usage: 21.6+ KB\n"
          ],
          "name": "stdout"
        }
      ]
    },
    {
      "cell_type": "code",
      "metadata": {
        "id": "LoNipMoiiDav"
      },
      "source": [
        "df = data[data.article_relevance.isnull()]"
      ],
      "execution_count": 23,
      "outputs": []
    },
    {
      "cell_type": "code",
      "metadata": {
        "colab": {
          "base_uri": "https://localhost:8080/"
        },
        "id": "vW60WTmXirc-",
        "outputId": "716e824f-ec53-4063-c69d-4cc8b9503f8e"
      },
      "source": [
        "df =pd.concat([df_concat,df])\n",
        "df.info()"
      ],
      "execution_count": 24,
      "outputs": [
        {
          "output_type": "stream",
          "text": [
            "<class 'pandas.core.frame.DataFrame'>\n",
            "Int64Index: 4747 entries, 200 to 4748\n",
            "Data columns (total 10 columns):\n",
            " #   Column             Non-Null Count  Dtype \n",
            "---  ------             --------------  ----- \n",
            " 0   event_id           4747 non-null   object\n",
            " 1   article_title      4747 non-null   object\n",
            " 2   article_link       4747 non-null   object\n",
            " 3   article_content    4359 non-null   object\n",
            " 4   publishing_date    4701 non-null   object\n",
            " 5   article_image      4300 non-null   object\n",
            " 6   article_keywords   4746 non-null   object\n",
            " 7   article_relevance  251 non-null    object\n",
            " 8   category           4343 non-null   object\n",
            " 9   country            4747 non-null   object\n",
            "dtypes: object(10)\n",
            "memory usage: 407.9+ KB\n"
          ],
          "name": "stdout"
        }
      ]
    },
    {
      "cell_type": "code",
      "metadata": {
        "id": "s008HfcA1qCM"
      },
      "source": [
        "# keep first duplicate row\n",
        "df = df.drop_duplicates()"
      ],
      "execution_count": 25,
      "outputs": []
    },
    {
      "cell_type": "code",
      "metadata": {
        "colab": {
          "base_uri": "https://localhost:8080/"
        },
        "id": "IRsw-qGnnqGH",
        "outputId": "771f1a70-085d-456f-a519-91ef1c692cf4"
      },
      "source": [
        "df.info()"
      ],
      "execution_count": 26,
      "outputs": [
        {
          "output_type": "stream",
          "text": [
            "<class 'pandas.core.frame.DataFrame'>\n",
            "Int64Index: 4747 entries, 200 to 4748\n",
            "Data columns (total 10 columns):\n",
            " #   Column             Non-Null Count  Dtype \n",
            "---  ------             --------------  ----- \n",
            " 0   event_id           4747 non-null   object\n",
            " 1   article_title      4747 non-null   object\n",
            " 2   article_link       4747 non-null   object\n",
            " 3   article_content    4359 non-null   object\n",
            " 4   publishing_date    4701 non-null   object\n",
            " 5   article_image      4300 non-null   object\n",
            " 6   article_keywords   4746 non-null   object\n",
            " 7   article_relevance  251 non-null    object\n",
            " 8   category           4343 non-null   object\n",
            " 9   country            4747 non-null   object\n",
            "dtypes: object(10)\n",
            "memory usage: 407.9+ KB\n"
          ],
          "name": "stdout"
        }
      ]
    },
    {
      "cell_type": "code",
      "metadata": {
        "colab": {
          "base_uri": "https://localhost:8080/"
        },
        "id": "_HdUKKlhwhfz",
        "outputId": "bd7ba1c1-3ad0-43ac-846d-ff7455ccadeb"
      },
      "source": [
        "df['article_relevance'].value_counts()"
      ],
      "execution_count": 27,
      "outputs": [
        {
          "output_type": "execute_result",
          "data": {
            "text/plain": [
              "no          87\n",
              "none        75\n",
              "drought     56\n",
              "yes         12\n",
              "both         8\n",
              "flood        7\n",
              " none        2\n",
              " drought     2\n",
              " both        1\n",
              " yes         1\n",
              "Name: article_relevance, dtype: int64"
            ]
          },
          "metadata": {
            "tags": []
          },
          "execution_count": 27
        }
      ]
    },
    {
      "cell_type": "code",
      "metadata": {
        "id": "SBr_vMe52KKl"
      },
      "source": [
        "df.drop('article_relevance', inplace = True, axis = 1)"
      ],
      "execution_count": 28,
      "outputs": []
    },
    {
      "cell_type": "code",
      "metadata": {
        "colab": {
          "base_uri": "https://localhost:8080/"
        },
        "id": "J6uR7xkqsUVi",
        "outputId": "4df965b5-f9b5-404a-97ba-dff75214ba1d"
      },
      "source": [
        "df.category.unique()"
      ],
      "execution_count": 29,
      "outputs": [
        {
          "output_type": "execute_result",
          "data": {
            "text/plain": [
              "array([' yes', 'yes', 'no', 'no, ', 'drought', 'none', 'both', 'flood',\n",
              "       ' drought', ' none', ' both', 'flood,flood', ' none,none',\n",
              "       ' ,flood_drought', ' ,drought', ' ,none', ' ,flood', nan,\n",
              "       'flood_and_drought', 'climate_change', ' ,drought, flood',\n",
              "       ' ,drought,flood', ' ,flood - drought', ' ,Drought', ' ,nnone',\n",
              "       ' ,Flood', ' ,Tree', ' ,Flood_and_Drought', ' ,flood_and_drought',\n",
              "       ' ,tree', ' ,flood,flood', ' ,none,flood',\n",
              "       ' ,Main responsibilities:', ' ,missing', ' ,fldood', ' ,None',\n",
              "       ' ,floood'], dtype=object)"
            ]
          },
          "metadata": {
            "tags": []
          },
          "execution_count": 29
        }
      ]
    },
    {
      "cell_type": "code",
      "metadata": {
        "colab": {
          "base_uri": "https://localhost:8080/",
          "height": 151
        },
        "id": "43HFbo1k3R-K",
        "outputId": "bef80ace-52dd-43d3-a1ac-74c99de6c38e"
      },
      "source": [
        "df_yes = df[df.category == ' ,none,flood']\n",
        "df_yes.head()"
      ],
      "execution_count": 30,
      "outputs": [
        {
          "output_type": "execute_result",
          "data": {
            "text/html": [
              "<div>\n",
              "<style scoped>\n",
              "    .dataframe tbody tr th:only-of-type {\n",
              "        vertical-align: middle;\n",
              "    }\n",
              "\n",
              "    .dataframe tbody tr th {\n",
              "        vertical-align: top;\n",
              "    }\n",
              "\n",
              "    .dataframe thead th {\n",
              "        text-align: right;\n",
              "    }\n",
              "</style>\n",
              "<table border=\"1\" class=\"dataframe\">\n",
              "  <thead>\n",
              "    <tr style=\"text-align: right;\">\n",
              "      <th></th>\n",
              "      <th>event_id</th>\n",
              "      <th>article_title</th>\n",
              "      <th>article_link</th>\n",
              "      <th>article_content</th>\n",
              "      <th>publishing_date</th>\n",
              "      <th>article_image</th>\n",
              "      <th>article_keywords</th>\n",
              "      <th>category</th>\n",
              "      <th>country</th>\n",
              "    </tr>\n",
              "  </thead>\n",
              "  <tbody>\n",
              "    <tr>\n",
              "      <th>1767</th>\n",
              "      <td>FL-2021-000021-IND</td>\n",
              "      <td>EXPLAINER: How glaciers can burst and send flo...</td>\n",
              "      <td>https://apnews.com/article/how-glaciers-can-bu...</td>\n",
              "      <td>NaN</td>\n",
              "      <td>Sun, 07 Feb 2021 08:00:00 GMT</td>\n",
              "      <td>https://storage.googleapis.com/afs-prod/media/...</td>\n",
              "      <td>['glaciers', 'downstream', 'explainer', 'flood...</td>\n",
              "      <td>,none,flood</td>\n",
              "      <td>India</td>\n",
              "    </tr>\n",
              "  </tbody>\n",
              "</table>\n",
              "</div>"
            ],
            "text/plain": [
              "                event_id  ... country\n",
              "1767  FL-2021-000021-IND  ...   India\n",
              "\n",
              "[1 rows x 9 columns]"
            ]
          },
          "metadata": {
            "tags": []
          },
          "execution_count": 30
        }
      ]
    },
    {
      "cell_type": "code",
      "metadata": {
        "colab": {
          "base_uri": "https://localhost:8080/",
          "height": 37
        },
        "id": "zjJmvJMF92Lq",
        "outputId": "ee717ab3-2ccb-45da-e244-761e944f3df9"
      },
      "source": [
        "df_yes['article_title'][1767]"
      ],
      "execution_count": 52,
      "outputs": [
        {
          "output_type": "execute_result",
          "data": {
            "application/vnd.google.colaboratory.intrinsic+json": {
              "type": "string"
            },
            "text/plain": [
              "'EXPLAINER: How glaciers can burst and send floods downstream - Associated Press'"
            ]
          },
          "metadata": {
            "tags": []
          },
          "execution_count": 52
        }
      ]
    },
    {
      "cell_type": "code",
      "metadata": {
        "id": "CQafsvGk3zrC"
      },
      "source": [
        "df['category'] = df['category'].replace({' yes':'drought', 'yes':'drought', 'no':'none', 'no, ':'none', 'both':'flood_drought'})"
      ],
      "execution_count": 31,
      "outputs": []
    },
    {
      "cell_type": "code",
      "metadata": {
        "colab": {
          "base_uri": "https://localhost:8080/"
        },
        "id": "j73oUKsr4mQ0",
        "outputId": "eb60b86a-7fd6-44a1-8de1-b0d0f02a84ca"
      },
      "source": [
        "df.category.unique()"
      ],
      "execution_count": 32,
      "outputs": [
        {
          "output_type": "execute_result",
          "data": {
            "text/plain": [
              "array(['drought', 'none', 'flood_drought', 'flood', ' drought', ' none',\n",
              "       ' both', 'flood,flood', ' none,none', ' ,flood_drought',\n",
              "       ' ,drought', ' ,none', ' ,flood', nan, 'flood_and_drought',\n",
              "       'climate_change', ' ,drought, flood', ' ,drought,flood',\n",
              "       ' ,flood - drought', ' ,Drought', ' ,nnone', ' ,Flood', ' ,Tree',\n",
              "       ' ,Flood_and_Drought', ' ,flood_and_drought', ' ,tree',\n",
              "       ' ,flood,flood', ' ,none,flood', ' ,Main responsibilities:',\n",
              "       ' ,missing', ' ,fldood', ' ,None', ' ,floood'], dtype=object)"
            ]
          },
          "metadata": {
            "tags": []
          },
          "execution_count": 32
        }
      ]
    },
    {
      "cell_type": "code",
      "metadata": {
        "id": "IRa93NAws0Sz"
      },
      "source": [
        "df['category'] = df['category'].replace({'flood,flood': 'flood', 'fldood': 'flood', 'Flood': 'flood', 'floood': 'flood'})"
      ],
      "execution_count": 33,
      "outputs": []
    },
    {
      "cell_type": "code",
      "metadata": {
        "colab": {
          "base_uri": "https://localhost:8080/"
        },
        "id": "DmtsFpPStpLM",
        "outputId": "91f02cc3-1e01-45ea-d0ff-91e1fed91a40"
      },
      "source": [
        "df.category.unique()"
      ],
      "execution_count": 34,
      "outputs": [
        {
          "output_type": "execute_result",
          "data": {
            "text/plain": [
              "array(['drought', 'none', 'flood_drought', 'flood', ' drought', ' none',\n",
              "       ' both', ' none,none', ' ,flood_drought', ' ,drought', ' ,none',\n",
              "       ' ,flood', nan, 'flood_and_drought', 'climate_change',\n",
              "       ' ,drought, flood', ' ,drought,flood', ' ,flood - drought',\n",
              "       ' ,Drought', ' ,nnone', ' ,Flood', ' ,Tree', ' ,Flood_and_Drought',\n",
              "       ' ,flood_and_drought', ' ,tree', ' ,flood,flood', ' ,none,flood',\n",
              "       ' ,Main responsibilities:', ' ,missing', ' ,fldood', ' ,None',\n",
              "       ' ,floood'], dtype=object)"
            ]
          },
          "metadata": {
            "tags": []
          },
          "execution_count": 34
        }
      ]
    },
    {
      "cell_type": "code",
      "metadata": {
        "id": "Jz4eZaW8tr4A"
      },
      "source": [
        "df['category'] = df['category'].replace({'None':'none','flood_and_drought':'flood_drought','none,flood':'flood'})"
      ],
      "execution_count": 35,
      "outputs": []
    },
    {
      "cell_type": "code",
      "metadata": {
        "colab": {
          "base_uri": "https://localhost:8080/"
        },
        "id": "JENhuuLfuFf2",
        "outputId": "bf3485ea-a389-4659-9b58-9ec8a851c065"
      },
      "source": [
        "df.category.unique()"
      ],
      "execution_count": 36,
      "outputs": [
        {
          "output_type": "execute_result",
          "data": {
            "text/plain": [
              "array(['drought', 'none', 'flood_drought', 'flood', ' drought', ' none',\n",
              "       ' both', ' none,none', ' ,flood_drought', ' ,drought', ' ,none',\n",
              "       ' ,flood', nan, 'climate_change', ' ,drought, flood',\n",
              "       ' ,drought,flood', ' ,flood - drought', ' ,Drought', ' ,nnone',\n",
              "       ' ,Flood', ' ,Tree', ' ,Flood_and_Drought', ' ,flood_and_drought',\n",
              "       ' ,tree', ' ,flood,flood', ' ,none,flood',\n",
              "       ' ,Main responsibilities:', ' ,missing', ' ,fldood', ' ,None',\n",
              "       ' ,floood'], dtype=object)"
            ]
          },
          "metadata": {
            "tags": []
          },
          "execution_count": 36
        }
      ]
    },
    {
      "cell_type": "code",
      "metadata": {
        "id": "YHyTYAd243Nn"
      },
      "source": [
        "df['category'] = df['category'].replace({' drought':'drought', ' none':'none',' both':'flood_drought', ' none,none':'none', ' ,flood_drought':'flood_drought', ' ,drought':'drought', ' ,none':'none'})"
      ],
      "execution_count": 37,
      "outputs": []
    },
    {
      "cell_type": "code",
      "metadata": {
        "colab": {
          "base_uri": "https://localhost:8080/"
        },
        "id": "0e_DGYdc5pvz",
        "outputId": "d0ca5d16-8dee-4ee3-fb5c-6e62649e7fff"
      },
      "source": [
        "df.category.unique()"
      ],
      "execution_count": 38,
      "outputs": [
        {
          "output_type": "execute_result",
          "data": {
            "text/plain": [
              "array(['drought', 'none', 'flood_drought', 'flood', ' ,flood', nan,\n",
              "       'climate_change', ' ,drought, flood', ' ,drought,flood',\n",
              "       ' ,flood - drought', ' ,Drought', ' ,nnone', ' ,Flood', ' ,Tree',\n",
              "       ' ,Flood_and_Drought', ' ,flood_and_drought', ' ,tree',\n",
              "       ' ,flood,flood', ' ,none,flood', ' ,Main responsibilities:',\n",
              "       ' ,missing', ' ,fldood', ' ,None', ' ,floood'], dtype=object)"
            ]
          },
          "metadata": {
            "tags": []
          },
          "execution_count": 38
        }
      ]
    },
    {
      "cell_type": "code",
      "metadata": {
        "id": "NJK0zjzC52nV"
      },
      "source": [
        "df['category'] = df['category'].replace({' ,flood':'flood',' ,drought, flood':'flood_drought', ' ,drought,flood' : 'flood_drought'})"
      ],
      "execution_count": 39,
      "outputs": []
    },
    {
      "cell_type": "code",
      "metadata": {
        "colab": {
          "base_uri": "https://localhost:8080/"
        },
        "id": "aMOzZKuZ6MIp",
        "outputId": "95e0a19b-1c44-48a7-b507-f44552ecdc02"
      },
      "source": [
        "df.category.unique()"
      ],
      "execution_count": 40,
      "outputs": [
        {
          "output_type": "execute_result",
          "data": {
            "text/plain": [
              "array(['drought', 'none', 'flood_drought', 'flood', nan, 'climate_change',\n",
              "       ' ,flood - drought', ' ,Drought', ' ,nnone', ' ,Flood', ' ,Tree',\n",
              "       ' ,Flood_and_Drought', ' ,flood_and_drought', ' ,tree',\n",
              "       ' ,flood,flood', ' ,none,flood', ' ,Main responsibilities:',\n",
              "       ' ,missing', ' ,fldood', ' ,None', ' ,floood'], dtype=object)"
            ]
          },
          "metadata": {
            "tags": []
          },
          "execution_count": 40
        }
      ]
    },
    {
      "cell_type": "code",
      "metadata": {
        "id": "oimW0jz-6Pov"
      },
      "source": [
        "df['category'] = df['category'].replace({' ,flood - drought':'flood_drought', ' ,Drought':'drought', ' ,nnone':'none', ' ,Flood':'flood',\n",
        "                                         ' ,Tree':'tree',' ,Flood_and_Drought':'flood_drought', ' ,flood_and_drought':'flood_drought',\n",
        "                                         ' ,tree':'tree',' ,flood,flood':'flood', ' ,none,flood':'none', ' ,fldood':'flood',\n",
        "                                         ' ,None':'none', ' ,floood':'flood'})"
      ],
      "execution_count": 41,
      "outputs": []
    },
    {
      "cell_type": "code",
      "metadata": {
        "colab": {
          "base_uri": "https://localhost:8080/"
        },
        "id": "YN4n7sNw7MnP",
        "outputId": "25b5344b-04a5-48eb-a5b2-81075d5159f2"
      },
      "source": [
        "df.category.unique()"
      ],
      "execution_count": 42,
      "outputs": [
        {
          "output_type": "execute_result",
          "data": {
            "text/plain": [
              "array(['drought', 'none', 'flood_drought', 'flood', nan, 'climate_change',\n",
              "       'tree', ' ,Main responsibilities:', ' ,missing'], dtype=object)"
            ]
          },
          "metadata": {
            "tags": []
          },
          "execution_count": 42
        }
      ]
    },
    {
      "cell_type": "code",
      "metadata": {
        "colab": {
          "base_uri": "https://localhost:8080/"
        },
        "id": "2uJBKtX8wbY8",
        "outputId": "9a27350f-38d0-494a-c789-6adc5ee10c0a"
      },
      "source": [
        "df.info()"
      ],
      "execution_count": 43,
      "outputs": [
        {
          "output_type": "stream",
          "text": [
            "<class 'pandas.core.frame.DataFrame'>\n",
            "Int64Index: 4747 entries, 200 to 4748\n",
            "Data columns (total 9 columns):\n",
            " #   Column            Non-Null Count  Dtype \n",
            "---  ------            --------------  ----- \n",
            " 0   event_id          4747 non-null   object\n",
            " 1   article_title     4747 non-null   object\n",
            " 2   article_link      4747 non-null   object\n",
            " 3   article_content   4359 non-null   object\n",
            " 4   publishing_date   4701 non-null   object\n",
            " 5   article_image     4300 non-null   object\n",
            " 6   article_keywords  4746 non-null   object\n",
            " 7   category          4343 non-null   object\n",
            " 8   country           4747 non-null   object\n",
            "dtypes: object(9)\n",
            "memory usage: 370.9+ KB\n"
          ],
          "name": "stdout"
        }
      ]
    },
    {
      "cell_type": "code",
      "metadata": {
        "colab": {
          "base_uri": "https://localhost:8080/"
        },
        "id": "QG0o0QC_wtW1",
        "outputId": "c7067ce4-9b50-4c90-9714-c847ec41efc2"
      },
      "source": [
        "df = df[df.category != ' ,Main responsibilities:']\n",
        "df.info()"
      ],
      "execution_count": 44,
      "outputs": [
        {
          "output_type": "stream",
          "text": [
            "<class 'pandas.core.frame.DataFrame'>\n",
            "Int64Index: 4746 entries, 200 to 4748\n",
            "Data columns (total 9 columns):\n",
            " #   Column            Non-Null Count  Dtype \n",
            "---  ------            --------------  ----- \n",
            " 0   event_id          4746 non-null   object\n",
            " 1   article_title     4746 non-null   object\n",
            " 2   article_link      4746 non-null   object\n",
            " 3   article_content   4358 non-null   object\n",
            " 4   publishing_date   4700 non-null   object\n",
            " 5   article_image     4299 non-null   object\n",
            " 6   article_keywords  4745 non-null   object\n",
            " 7   category          4342 non-null   object\n",
            " 8   country           4746 non-null   object\n",
            "dtypes: object(9)\n",
            "memory usage: 370.8+ KB\n"
          ],
          "name": "stdout"
        }
      ]
    },
    {
      "cell_type": "code",
      "metadata": {
        "colab": {
          "base_uri": "https://localhost:8080/"
        },
        "id": "jmnaRS4P9RM4",
        "outputId": "f319d234-83f6-4244-af12-c26e7677a8da"
      },
      "source": [
        "df = df[df.category != ' ,missing']\n",
        "df.info()"
      ],
      "execution_count": 45,
      "outputs": [
        {
          "output_type": "stream",
          "text": [
            "<class 'pandas.core.frame.DataFrame'>\n",
            "Int64Index: 4742 entries, 200 to 4748\n",
            "Data columns (total 9 columns):\n",
            " #   Column            Non-Null Count  Dtype \n",
            "---  ------            --------------  ----- \n",
            " 0   event_id          4742 non-null   object\n",
            " 1   article_title     4742 non-null   object\n",
            " 2   article_link      4742 non-null   object\n",
            " 3   article_content   4356 non-null   object\n",
            " 4   publishing_date   4696 non-null   object\n",
            " 5   article_image     4297 non-null   object\n",
            " 6   article_keywords  4741 non-null   object\n",
            " 7   category          4338 non-null   object\n",
            " 8   country           4742 non-null   object\n",
            "dtypes: object(9)\n",
            "memory usage: 370.5+ KB\n"
          ],
          "name": "stdout"
        }
      ]
    },
    {
      "cell_type": "code",
      "metadata": {
        "colab": {
          "base_uri": "https://localhost:8080/"
        },
        "id": "tbrI2TYrS8_x",
        "outputId": "3a10dabc-de9a-457e-b0b5-3f20831b7678"
      },
      "source": [
        "#converting publishing date from object to datetime\n",
        "df['publishing_date'] = pd.to_datetime(df['publishing_date'], errors='coerce',utc=True)\n",
        "df = df.dropna(subset=['publishing_date'])\n",
        "\n",
        "df.info()"
      ],
      "execution_count": 46,
      "outputs": [
        {
          "output_type": "stream",
          "text": [
            "<class 'pandas.core.frame.DataFrame'>\n",
            "Int64Index: 4695 entries, 200 to 4748\n",
            "Data columns (total 9 columns):\n",
            " #   Column            Non-Null Count  Dtype              \n",
            "---  ------            --------------  -----              \n",
            " 0   event_id          4695 non-null   object             \n",
            " 1   article_title     4695 non-null   object             \n",
            " 2   article_link      4695 non-null   object             \n",
            " 3   article_content   4309 non-null   object             \n",
            " 4   publishing_date   4695 non-null   datetime64[ns, UTC]\n",
            " 5   article_image     4251 non-null   object             \n",
            " 6   article_keywords  4695 non-null   object             \n",
            " 7   category          4291 non-null   object             \n",
            " 8   country           4695 non-null   object             \n",
            "dtypes: datetime64[ns, UTC](1), object(8)\n",
            "memory usage: 366.8+ KB\n"
          ],
          "name": "stdout"
        }
      ]
    },
    {
      "cell_type": "code",
      "metadata": {
        "colab": {
          "base_uri": "https://localhost:8080/"
        },
        "id": "iskndj2T8_SE",
        "outputId": "17683648-ea9f-4875-9ac6-fad129e1fe45"
      },
      "source": [
        "df['category'].value_counts()"
      ],
      "execution_count": 47,
      "outputs": [
        {
          "output_type": "execute_result",
          "data": {
            "text/plain": [
              "flood             2194\n",
              "none              1631\n",
              "drought            324\n",
              "flood_drought      124\n",
              "tree                11\n",
              "climate_change       7\n",
              "Name: category, dtype: int64"
            ]
          },
          "metadata": {
            "tags": []
          },
          "execution_count": 47
        }
      ]
    },
    {
      "cell_type": "code",
      "metadata": {
        "colab": {
          "base_uri": "https://localhost:8080/",
          "height": 282
        },
        "id": "gllRlPE89Z-2",
        "outputId": "44632c51-596d-455f-d54d-1d9ded9cd4a5"
      },
      "source": [
        "df['category'].value_counts().plot(kind='barh')"
      ],
      "execution_count": 48,
      "outputs": [
        {
          "output_type": "execute_result",
          "data": {
            "text/plain": [
              "<matplotlib.axes._subplots.AxesSubplot at 0x7f92cdbb0410>"
            ]
          },
          "metadata": {
            "tags": []
          },
          "execution_count": 48
        },
        {
          "output_type": "display_data",
          "data": {
            "image/png": "[encoded data removed]",
            "text/plain": [
              "<Figure size 432x288 with 1 Axes>"
            ]
          },
          "metadata": {
            "tags": [],
            "needs_background": "light"
          }
        }
      ]
    },
    {
      "cell_type": "code",
      "metadata": {
        "id": "E_jz_gq0aabP"
      },
      "source": [
        "df['data source'] = 'newspaper'"
      ],
      "execution_count": 49,
      "outputs": []
    },
    {
      "cell_type": "code",
      "metadata": {
        "id": "alPr862GxUaX"
      },
      "source": [
        "df.to_csv('cleaned_merged_labbeled_newspaper_data.csv')"
      ],
      "execution_count": 50,
      "outputs": []
    },
    {
      "cell_type": "code",
      "metadata": {
        "colab": {
          "base_uri": "https://localhost:8080/",
          "height": 804
        },
        "id": "7sgit6H0-ckm",
        "outputId": "ff14c5b6-9267-48c5-ccc1-a2de6cecb790"
      },
      "source": [
        "df.sample(10)"
      ],
      "execution_count": 51,
      "outputs": [
        {
          "output_type": "execute_result",
          "data": {
            "text/html": [
              "<div>\n",
              "<style scoped>\n",
              "    .dataframe tbody tr th:only-of-type {\n",
              "        vertical-align: middle;\n",
              "    }\n",
              "\n",
              "    .dataframe tbody tr th {\n",
              "        vertical-align: top;\n",
              "    }\n",
              "\n",
              "    .dataframe thead th {\n",
              "        text-align: right;\n",
              "    }\n",
              "</style>\n",
              "<table border=\"1\" class=\"dataframe\">\n",
              "  <thead>\n",
              "    <tr style=\"text-align: right;\">\n",
              "      <th></th>\n",
              "      <th>event_id</th>\n",
              "      <th>article_title</th>\n",
              "      <th>article_link</th>\n",
              "      <th>article_content</th>\n",
              "      <th>publishing_date</th>\n",
              "      <th>article_image</th>\n",
              "      <th>article_keywords</th>\n",
              "      <th>category</th>\n",
              "      <th>country</th>\n",
              "      <th>data source</th>\n",
              "    </tr>\n",
              "  </thead>\n",
              "  <tbody>\n",
              "    <tr>\n",
              "      <th>1818</th>\n",
              "      <td>FL-2021-000021-IND</td>\n",
              "      <td>Central, State Agencies Monitoring Uttarakhand...</td>\n",
              "      <td>http://www.businessworld.in/article/Central-St...</td>\n",
              "      <td>Respective agencies of the Centre and State ar...</td>\n",
              "      <td>2021-02-09 08:00:00+00:00</td>\n",
              "      <td>https://aniportalimages.s3.amazonaws.com/media...</td>\n",
              "      <td>['rajya', 'glacier', 'monitoring', 'state', 'a...</td>\n",
              "      <td>flood</td>\n",
              "      <td>India</td>\n",
              "      <td>newspaper</td>\n",
              "    </tr>\n",
              "    <tr>\n",
              "      <th>4336</th>\n",
              "      <td>FL-2020-000211-VNM</td>\n",
              "      <td>Food shortages loom after floods destroy centr...</td>\n",
              "      <td>https://e.vnexpress.net/news/news/food-shortag...</td>\n",
              "      <td>A man takes soil samples over what used to be ...</td>\n",
              "      <td>2020-12-03 08:00:00+00:00</td>\n",
              "      <td>https://vcdn-english.vnecdn.net/2020/12/02/a20...</td>\n",
              "      <td>['shortages', 'vietnam', 'buried', 'paddy', 'f...</td>\n",
              "      <td>flood</td>\n",
              "      <td>Vietnam</td>\n",
              "      <td>newspaper</td>\n",
              "    </tr>\n",
              "    <tr>\n",
              "      <th>3447</th>\n",
              "      <td>FL-2020-000132-UGA</td>\n",
              "      <td>Let’s work together to stop floods - Daily Mon...</td>\n",
              "      <td>https://www.monitor.co.ug/uganda/oped/letters/...</td>\n",
              "      <td>By Guest Writer More by this Author\\n\\nThe rec...</td>\n",
              "      <td>2021-04-03 07:00:00+00:00</td>\n",
              "      <td>https://www.monitor.co.ug/resource/blob/161871...</td>\n",
              "      <td>['song', 'stop', 'work', 'lets', 'know', 'dont...</td>\n",
              "      <td>NaN</td>\n",
              "      <td>Uganda</td>\n",
              "      <td>newspaper</td>\n",
              "    </tr>\n",
              "    <tr>\n",
              "      <th>4001</th>\n",
              "      <td>FL-2018-000074-VNM</td>\n",
              "      <td>Typhoon Molave lashes Vietnam, leaving floods ...</td>\n",
              "      <td>https://www.scmp.com/week-asia/health-environm...</td>\n",
              "      <td>Women walk past uprooted trees in central Viet...</td>\n",
              "      <td>2020-10-28 07:00:00+00:00</td>\n",
              "      <td>https://cdn.i-scmp.com/sites/default/files/sty...</td>\n",
              "      <td>['vietnam', 'wake', 'past', 'despair', 'trees'...</td>\n",
              "      <td>flood</td>\n",
              "      <td>Vietnam</td>\n",
              "      <td>newspaper</td>\n",
              "    </tr>\n",
              "    <tr>\n",
              "      <th>3154</th>\n",
              "      <td>FL-2019-000087-PAK</td>\n",
              "      <td>Poor planning, civic apathy and huge floods  i...</td>\n",
              "      <td>https://scroll.in/article/971971/poor-planning...</td>\n",
              "      <td>It does not always rain in Karachi during the ...</td>\n",
              "      <td>2020-09-02 07:00:00+00:00</td>\n",
              "      <td>https://s01.sgp1.cdn.digitaloceanspaces.com/bo...</td>\n",
              "      <td>['rains', 'rainfall', 'huge', 'poor', 'pakista...</td>\n",
              "      <td>flood</td>\n",
              "      <td>Pakistan</td>\n",
              "      <td>newspaper</td>\n",
              "    </tr>\n",
              "    <tr>\n",
              "      <th>1540</th>\n",
              "      <td>FL-2019-000179-CAN</td>\n",
              "      <td>120 Canadian soldiers deployed to flood-prone ...</td>\n",
              "      <td>https://globalnews.ca/news/5186587/new-brunswi...</td>\n",
              "      <td>Send this page to someone via email\\n\\nAbout 1...</td>\n",
              "      <td>2019-04-20 07:00:00+00:00</td>\n",
              "      <td>https://globalnews.ca/wp-content/uploads/2019/...</td>\n",
              "      <td>['rise', 'water', 'brunswick', 'areas', 'river...</td>\n",
              "      <td>flood</td>\n",
              "      <td>Canada</td>\n",
              "      <td>newspaper</td>\n",
              "    </tr>\n",
              "    <tr>\n",
              "      <th>2123</th>\n",
              "      <td>FL-2017-000067-BRA</td>\n",
              "      <td>WATCH: Thousands of Rare Turtle Hatchlings Flo...</td>\n",
              "      <td>https://www.news18.com/news/buzz/watch-thousan...</td>\n",
              "      <td>Hundreds and thousands of Giant South American...</td>\n",
              "      <td>2020-12-19 08:00:00+00:00</td>\n",
              "      <td>https://images.news18.com/ibnlive/uploads/2020...</td>\n",
              "      <td>['hatchlings', 'watch', 'wcs', 'tsunami', 'rar...</td>\n",
              "      <td>none</td>\n",
              "      <td>Kenya</td>\n",
              "      <td>newspaper</td>\n",
              "    </tr>\n",
              "    <tr>\n",
              "      <th>1952</th>\n",
              "      <td>FL-2021-000030-IDN</td>\n",
              "      <td>Fake ‘Survey Reports’ Flood Bengal Ahead Of Ph...</td>\n",
              "      <td>https://www.outlookindia.com/website/story/ind...</td>\n",
              "      <td>At least three “survey reports” are doing the ...</td>\n",
              "      <td>2021-03-31 07:00:00+00:00</td>\n",
              "      <td>https://www.outlookindia.com/public/upload_sha...</td>\n",
              "      <td>['fake', 'media', 'phase', 'predicted', 'flood...</td>\n",
              "      <td>none</td>\n",
              "      <td>India</td>\n",
              "      <td>newspaper</td>\n",
              "    </tr>\n",
              "    <tr>\n",
              "      <th>2707</th>\n",
              "      <td>FL-2018-000120-NGA</td>\n",
              "      <td>Death toll from floods in Nigeria climbs to 95...</td>\n",
              "      <td>https://www.aa.com.tr/en/africa/death-toll-fro...</td>\n",
              "      <td>NaN</td>\n",
              "      <td>2020-10-01 07:00:00+00:00</td>\n",
              "      <td>NaN</td>\n",
              "      <td>[]</td>\n",
              "      <td>none</td>\n",
              "      <td>Nigeria</td>\n",
              "      <td>newspaper</td>\n",
              "    </tr>\n",
              "    <tr>\n",
              "      <th>2059</th>\n",
              "      <td>FL-2021-000038-KEN</td>\n",
              "      <td>Science Fiction: ‘Lord of Order’ Review - The ...</td>\n",
              "      <td>https://www.wsj.com/articles/science-fiction-l...</td>\n",
              "      <td>NaN</td>\n",
              "      <td>2021-04-16 07:00:00+00:00</td>\n",
              "      <td>NaN</td>\n",
              "      <td>[]</td>\n",
              "      <td>none</td>\n",
              "      <td>Kenya</td>\n",
              "      <td>newspaper</td>\n",
              "    </tr>\n",
              "  </tbody>\n",
              "</table>\n",
              "</div>"
            ],
            "text/plain": [
              "                event_id  ... data source\n",
              "1818  FL-2021-000021-IND  ...   newspaper\n",
              "4336  FL-2020-000211-VNM  ...   newspaper\n",
              "3447  FL-2020-000132-UGA  ...   newspaper\n",
              "4001  FL-2018-000074-VNM  ...   newspaper\n",
              "3154  FL-2019-000087-PAK  ...   newspaper\n",
              "1540  FL-2019-000179-CAN  ...   newspaper\n",
              "2123  FL-2017-000067-BRA  ...   newspaper\n",
              "1952  FL-2021-000030-IDN  ...   newspaper\n",
              "2707  FL-2018-000120-NGA  ...   newspaper\n",
              "2059  FL-2021-000038-KEN  ...   newspaper\n",
              "\n",
              "[10 rows x 10 columns]"
            ]
          },
          "metadata": {
            "tags": []
          },
          "execution_count": 51
        }
      ]
    }
  ]
}