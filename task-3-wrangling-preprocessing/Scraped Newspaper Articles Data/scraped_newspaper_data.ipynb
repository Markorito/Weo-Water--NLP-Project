{
  "nbformat": 4,
  "nbformat_minor": 0,
  "metadata": {
    "colab": {
      "name": "scraped_newspaper_data.ipynb",
      "provenance": [],
      "collapsed_sections": []
    },
    "kernelspec": {
      "name": "python3",
      "display_name": "Python 3"
    },
    "language_info": {
      "name": "python"
    }
  },
  "cells": [
    {
      "cell_type": "code",
      "metadata": {
        "id": "iK4VR9rr7-6v"
      },
      "source": [
        "\n",
        "\"\"\" Warning : Don't forget to remove your github username and token after running this cell \"\"\"\n",
        " \n",
        "import pandas as pd\n",
        "import requests\n",
        "import io\n",
        " \n",
        "# Username of your GitHub account\n",
        " \n",
        "username = ''\n",
        " \n",
        "# Personal Access Token (PAO) from your GitHub account\n",
        " \n",
        "token = ''\n",
        " \n",
        "# Creates a re-usable session object with your creds in-built\n",
        " \n",
        "github_session = requests.Session()\n",
        "github_session.auth = (username, token)"
      ],
      "execution_count": 1,
      "outputs": []
    },
    {
      "cell_type": "code",
      "metadata": {
        "id": "72KlcuJyVTMQ"
      },
      "source": [
        "def download_data (url,country):\n",
        "\n",
        "    url = url # Make sure the url is the raw version of the file on GitHub\n",
        "    download = github_session.get(url).content\n",
        "\n",
        "    # Reading the downloaded content and making it a pandas dataframe\n",
        "\n",
        "    df = pd.read_csv(io.StringIO(download.decode('utf-8')))\n",
        "\n",
        "    # Drop the Unnamed and ID column\n",
        "    df = df.drop(['Unnamed: 0','ID'], axis = 1)\n",
        "\n",
        "    #Add country column to dataframe\n",
        "    df['Country']= country\n",
        "\n",
        "    # return dataframe\n",
        "\n",
        "    return df"
      ],
      "execution_count": 2,
      "outputs": []
    },
    {
      "cell_type": "code",
      "metadata": {
        "colab": {
          "base_uri": "https://localhost:8080/"
        },
        "id": "R7_AggyLYIxT",
        "outputId": "401fcf36-0a2a-4666-b785-7762c25b2990"
      },
      "source": [
        "url = \"https://raw.githubusercontent.com/OmdenaAI/WeoWater/main/task-4-scraping-newspapers/output_to_clean/FL-2016-000114-EGY.csv\"\n",
        "df_000114_EGY = download_data(url,'Egypt')\n",
        "print(df_000114_EGY.info())"
      ],
      "execution_count": 3,
      "outputs": [
        {
          "output_type": "stream",
          "text": [
            "<class 'pandas.core.frame.DataFrame'>\n",
            "RangeIndex: 100 entries, 0 to 99\n",
            "Data columns (total 9 columns):\n",
            " #   Column             Non-Null Count  Dtype \n",
            "---  ------             --------------  ----- \n",
            " 0   event_id           100 non-null    object\n",
            " 1   article_title      100 non-null    object\n",
            " 2   article_link       100 non-null    object\n",
            " 3   article_content    97 non-null     object\n",
            " 4   publishing_date    100 non-null    object\n",
            " 5   article_image      98 non-null     object\n",
            " 6   article_keywords   100 non-null    object\n",
            " 7   article_relevance  100 non-null    object\n",
            " 8   Country            100 non-null    object\n",
            "dtypes: object(9)\n",
            "memory usage: 7.2+ KB\n",
            "None\n"
          ],
          "name": "stdout"
        }
      ]
    },
    {
      "cell_type": "code",
      "metadata": {
        "colab": {
          "base_uri": "https://localhost:8080/"
        },
        "id": "kYRtV4ZOa5ze",
        "outputId": "b94779bd-bbd8-4739-fde2-de59186b0856"
      },
      "source": [
        "url = 'https://raw.githubusercontent.com/OmdenaAI/WeoWater/main/task-4-scraping-newspapers/output_to_clean/FL-2020-000038-EGY.csv'\n",
        "df_000038_EGY = download_data(url,'Egypt')\n",
        "print(df_000038_EGY.info())"
      ],
      "execution_count": 4,
      "outputs": [
        {
          "output_type": "stream",
          "text": [
            "<class 'pandas.core.frame.DataFrame'>\n",
            "RangeIndex: 100 entries, 0 to 99\n",
            "Data columns (total 9 columns):\n",
            " #   Column             Non-Null Count  Dtype \n",
            "---  ------             --------------  ----- \n",
            " 0   event_id           100 non-null    object\n",
            " 1   article_title      100 non-null    object\n",
            " 2   article_link       100 non-null    object\n",
            " 3   article_content    99 non-null     object\n",
            " 4   publishing_date    100 non-null    object\n",
            " 5   article_image      95 non-null     object\n",
            " 6   article_keywords   100 non-null    object\n",
            " 7   article_relevance  100 non-null    object\n",
            " 8   Country            100 non-null    object\n",
            "dtypes: object(9)\n",
            "memory usage: 7.2+ KB\n",
            "None\n"
          ],
          "name": "stdout"
        }
      ]
    },
    {
      "cell_type": "code",
      "metadata": {
        "colab": {
          "base_uri": "https://localhost:8080/"
        },
        "id": "-x0Lbu-XbVe8",
        "outputId": "9104d1ca-4626-4345-d045-2b0c3d5de38f"
      },
      "source": [
        "url = 'https://raw.githubusercontent.com/OmdenaAI/WeoWater/main/task-4-scraping-newspapers/output_to_clean/FL-2021-000021-IND.csv'\n",
        "df_000021_IND = download_data(url,'India')\n",
        "print(df_000021_IND.info())"
      ],
      "execution_count": 5,
      "outputs": [
        {
          "output_type": "stream",
          "text": [
            "<class 'pandas.core.frame.DataFrame'>\n",
            "RangeIndex: 100 entries, 0 to 99\n",
            "Data columns (total 9 columns):\n",
            " #   Column             Non-Null Count  Dtype \n",
            "---  ------             --------------  ----- \n",
            " 0   event_id           100 non-null    object\n",
            " 1   article_title      100 non-null    object\n",
            " 2   article_link       100 non-null    object\n",
            " 3   article_content    94 non-null     object\n",
            " 4   publishing_date    100 non-null    object\n",
            " 5   article_image      96 non-null     object\n",
            " 6   article_keywords   100 non-null    object\n",
            " 7   article_relevance  100 non-null    object\n",
            " 8   Country            100 non-null    object\n",
            "dtypes: object(9)\n",
            "memory usage: 7.2+ KB\n",
            "None\n"
          ],
          "name": "stdout"
        }
      ]
    },
    {
      "cell_type": "code",
      "metadata": {
        "colab": {
          "base_uri": "https://localhost:8080/"
        },
        "id": "lc9f2grWb5b2",
        "outputId": "55ead1c6-9d58-4b90-e383-3dbbcef1b28e"
      },
      "source": [
        "url = 'https://raw.githubusercontent.com/OmdenaAI/WeoWater/main/task-4-scraping-newspapers/output_to_clean/FL-2021-000030-IDN.csv'\n",
        "df_000030_IND = download_data(url,'India')\n",
        "print(df_000030_IND.info())"
      ],
      "execution_count": 6,
      "outputs": [
        {
          "output_type": "stream",
          "text": [
            "<class 'pandas.core.frame.DataFrame'>\n",
            "RangeIndex: 100 entries, 0 to 99\n",
            "Data columns (total 9 columns):\n",
            " #   Column             Non-Null Count  Dtype \n",
            "---  ------             --------------  ----- \n",
            " 0   event_id           100 non-null    object\n",
            " 1   article_title      100 non-null    object\n",
            " 2   article_link       100 non-null    object\n",
            " 3   article_content    81 non-null     object\n",
            " 4   publishing_date    100 non-null    object\n",
            " 5   article_image      85 non-null     object\n",
            " 6   article_keywords   100 non-null    object\n",
            " 7   article_relevance  100 non-null    object\n",
            " 8   Country            100 non-null    object\n",
            "dtypes: object(9)\n",
            "memory usage: 7.2+ KB\n",
            "None\n"
          ],
          "name": "stdout"
        }
      ]
    },
    {
      "cell_type": "code",
      "metadata": {
        "colab": {
          "base_uri": "https://localhost:8080/"
        },
        "id": "VQwdITEqcp1n",
        "outputId": "fc52216d-a441-4245-d81f-90d85c840c58"
      },
      "source": [
        "#concatenating\n",
        "df =pd.concat([df_000114_EGY, df_000038_EGY, df_000021_IND, df_000030_IND], \n",
        "                  ignore_index = True)\n",
        "df.shape"
      ],
      "execution_count": 7,
      "outputs": [
        {
          "output_type": "execute_result",
          "data": {
            "text/plain": [
              "(400, 9)"
            ]
          },
          "metadata": {
            "tags": []
          },
          "execution_count": 7
        }
      ]
    },
    {
      "cell_type": "code",
      "metadata": {
        "colab": {
          "base_uri": "https://localhost:8080/"
        },
        "id": "_c3Tyv3FhBJW",
        "outputId": "3af538ce-8581-44e6-993a-3a6592638aef"
      },
      "source": [
        "df.info()"
      ],
      "execution_count": 8,
      "outputs": [
        {
          "output_type": "stream",
          "text": [
            "<class 'pandas.core.frame.DataFrame'>\n",
            "RangeIndex: 400 entries, 0 to 399\n",
            "Data columns (total 9 columns):\n",
            " #   Column             Non-Null Count  Dtype \n",
            "---  ------             --------------  ----- \n",
            " 0   event_id           400 non-null    object\n",
            " 1   article_title      400 non-null    object\n",
            " 2   article_link       400 non-null    object\n",
            " 3   article_content    371 non-null    object\n",
            " 4   publishing_date    400 non-null    object\n",
            " 5   article_image      374 non-null    object\n",
            " 6   article_keywords   400 non-null    object\n",
            " 7   article_relevance  400 non-null    object\n",
            " 8   Country            400 non-null    object\n",
            "dtypes: object(9)\n",
            "memory usage: 28.2+ KB\n"
          ],
          "name": "stdout"
        }
      ]
    },
    {
      "cell_type": "code",
      "metadata": {
        "colab": {
          "base_uri": "https://localhost:8080/",
          "height": 462
        },
        "id": "-i7Hd-Ylh-DW",
        "outputId": "851fa79c-a924-45db-d685-f53b3c99958b"
      },
      "source": [
        "df.tail()"
      ],
      "execution_count": 9,
      "outputs": [
        {
          "output_type": "execute_result",
          "data": {
            "text/html": [
              "<div>\n",
              "<style scoped>\n",
              "    .dataframe tbody tr th:only-of-type {\n",
              "        vertical-align: middle;\n",
              "    }\n",
              "\n",
              "    .dataframe tbody tr th {\n",
              "        vertical-align: top;\n",
              "    }\n",
              "\n",
              "    .dataframe thead th {\n",
              "        text-align: right;\n",
              "    }\n",
              "</style>\n",
              "<table border=\"1\" class=\"dataframe\">\n",
              "  <thead>\n",
              "    <tr style=\"text-align: right;\">\n",
              "      <th></th>\n",
              "      <th>event_id</th>\n",
              "      <th>article_title</th>\n",
              "      <th>article_link</th>\n",
              "      <th>article_content</th>\n",
              "      <th>publishing_date</th>\n",
              "      <th>article_image</th>\n",
              "      <th>article_keywords</th>\n",
              "      <th>article_relevance</th>\n",
              "      <th>Country</th>\n",
              "    </tr>\n",
              "  </thead>\n",
              "  <tbody>\n",
              "    <tr>\n",
              "      <th>395</th>\n",
              "      <td>FL-2021-000030-IDN</td>\n",
              "      <td>The Latest: Lockdown extended for metro Manila...</td>\n",
              "      <td>https://www.ksat.com/news/politics/2021/04/04/...</td>\n",
              "      <td>Priests wearing face masks march after Easter ...</td>\n",
              "      <td>Sun, 04 Apr 2021 07:00:00 GMT</td>\n",
              "      <td>https://www.ksat.com/resizer/dCE9XQx8bxLertnpp...</td>\n",
              "      <td>['reported', 'confirmed', 'lockdown', 'coronav...</td>\n",
              "      <td></td>\n",
              "      <td>India</td>\n",
              "    </tr>\n",
              "    <tr>\n",
              "      <th>396</th>\n",
              "      <td>FL-2021-000030-IDN</td>\n",
              "      <td>Kerala Polls: Salman Khurshid urges Keralites ...</td>\n",
              "      <td>https://www.oneindia.com/india/kerala-polls-sa...</td>\n",
              "      <td>No leadership crisis in Cong; support for Soni...</td>\n",
              "      <td>Sun, 28 Mar 2021 07:00:00 GMT</td>\n",
              "      <td>https://www.oneindia.com/img/1200x80/2019/10/d...</td>\n",
              "      <td>['urges', 'state', 'senior', 'trend', 'salman'...</td>\n",
              "      <td></td>\n",
              "      <td>India</td>\n",
              "    </tr>\n",
              "    <tr>\n",
              "      <th>397</th>\n",
              "      <td>FL-2021-000030-IDN</td>\n",
              "      <td>VIDEO: Volleyball with dramatic volcano backgr...</td>\n",
              "      <td>https://en.mehrnews.com/news/171511/VIDEO-Voll...</td>\n",
              "      <td>TEHRAN, Mar. 30 (MNA) – A group of Icelandic v...</td>\n",
              "      <td>Tue, 30 Mar 2021 15:31:00 GMT</td>\n",
              "      <td>https://media.mehrnews.com/d/2021/03/30/4/3730...</td>\n",
              "      <td>['tehran', 'mna', 'video', 'dramatic', 'icelan...</td>\n",
              "      <td></td>\n",
              "      <td>India</td>\n",
              "    </tr>\n",
              "    <tr>\n",
              "      <th>398</th>\n",
              "      <td>FL-2021-000030-IDN</td>\n",
              "      <td>Robot Dogs to Have Their Day — on Florida Base...</td>\n",
              "      <td>https://thediplomat.com/2021/04/robot-dogs-to-...</td>\n",
              "      <td>Advertisement\\n\\nLast month, the U.S. Air Forc...</td>\n",
              "      <td>Sat, 03 Apr 2021 07:00:00 GMT</td>\n",
              "      <td>https://thediplomat.com/wp-content/uploads/202...</td>\n",
              "      <td>['base', 'robot', 'quoted', 'day', 'security',...</td>\n",
              "      <td></td>\n",
              "      <td>India</td>\n",
              "    </tr>\n",
              "    <tr>\n",
              "      <th>399</th>\n",
              "      <td>FL-2021-000030-IDN</td>\n",
              "      <td>Claims Against Cuomo: A Look At The Womens All...</td>\n",
              "      <td>https://www.news18.com/news/world/claims-again...</td>\n",
              "      <td>NEW YORK: New York Gov. Andrew Cuomo is facing...</td>\n",
              "      <td>Tue, 30 Mar 2021 07:00:00 GMT</td>\n",
              "      <td>https://images.news18.com/ibnlive/uploads/2021...</td>\n",
              "      <td>['women', 'kissed', 'times', 'told', 'didnt', ...</td>\n",
              "      <td></td>\n",
              "      <td>India</td>\n",
              "    </tr>\n",
              "  </tbody>\n",
              "</table>\n",
              "</div>"
            ],
            "text/plain": [
              "               event_id  ... Country\n",
              "395  FL-2021-000030-IDN  ...   India\n",
              "396  FL-2021-000030-IDN  ...   India\n",
              "397  FL-2021-000030-IDN  ...   India\n",
              "398  FL-2021-000030-IDN  ...   India\n",
              "399  FL-2021-000030-IDN  ...   India\n",
              "\n",
              "[5 rows x 9 columns]"
            ]
          },
          "metadata": {
            "tags": []
          },
          "execution_count": 9
        }
      ]
    },
    {
      "cell_type": "code",
      "metadata": {
        "id": "1lHs69lczAji"
      },
      "source": [
        "#converting the publishing date datatype from object to datetime\n",
        "for index,row in df.iterrows():\n",
        "      df['publishing_date'] =  pd.to_datetime(df['publishing_date'], format='%a, %d %b %Y %H:%M:%S %Z')"
      ],
      "execution_count": 10,
      "outputs": []
    },
    {
      "cell_type": "code",
      "metadata": {
        "colab": {
          "base_uri": "https://localhost:8080/"
        },
        "id": "uXi55ncSxIRv",
        "outputId": "a33da192-4dff-40b4-b9ea-cdb630b6be95"
      },
      "source": [
        "df.info()"
      ],
      "execution_count": 11,
      "outputs": [
        {
          "output_type": "stream",
          "text": [
            "<class 'pandas.core.frame.DataFrame'>\n",
            "RangeIndex: 400 entries, 0 to 399\n",
            "Data columns (total 9 columns):\n",
            " #   Column             Non-Null Count  Dtype              \n",
            "---  ------             --------------  -----              \n",
            " 0   event_id           400 non-null    object             \n",
            " 1   article_title      400 non-null    object             \n",
            " 2   article_link       400 non-null    object             \n",
            " 3   article_content    371 non-null    object             \n",
            " 4   publishing_date    400 non-null    datetime64[ns, GMT]\n",
            " 5   article_image      374 non-null    object             \n",
            " 6   article_keywords   400 non-null    object             \n",
            " 7   article_relevance  400 non-null    object             \n",
            " 8   Country            400 non-null    object             \n",
            "dtypes: datetime64[ns, GMT](1), object(8)\n",
            "memory usage: 28.2+ KB\n"
          ],
          "name": "stdout"
        }
      ]
    },
    {
      "cell_type": "markdown",
      "metadata": {
        "id": "ASB7cfMwcMxU"
      },
      "source": [
        " The first step in processing the article title and article content is to make sure that any html tags that appear should be removed. In addition we wish to tokenize our input, that way words such as flood, flooded ,flooding are considered the same with regard to sentiment analysis."
      ]
    },
    {
      "cell_type": "code",
      "metadata": {
        "id": "tMPK7Uj7bIAN"
      },
      "source": [
        "import nltk\n",
        "from nltk.corpus import stopwords\n",
        "from nltk.stem.porter import *\n",
        "\n",
        "import re\n",
        "from bs4 import BeautifulSoup\n",
        "\n",
        "def review_to_words(review):\n",
        "    nltk.download(\"stopwords\", quiet=True)\n",
        "    stemmer = PorterStemmer()\n",
        "    \n",
        "    text = BeautifulSoup(review, \"html.parser\").get_text() # Remove HTML tags\n",
        "    text = re.sub(r\"[^a-zA-Z0-9]\", \" \", text.lower()) # Convert to lower case\n",
        "    words = text.split() # Split string into words\n",
        "    words = [w for w in words if w not in stopwords.words(\"english\")] # Remove stopwords\n",
        "    words = [PorterStemmer().stem(w) for w in words] # stem\n",
        "    \n",
        "    return words"
      ],
      "execution_count": 12,
      "outputs": []
    },
    {
      "cell_type": "code",
      "metadata": {
        "id": "pp_JnyRlc-Oq"
      },
      "source": [
        "df_article_title = df['article_title']\n",
        "df_article_content =  df['article_content']"
      ],
      "execution_count": 13,
      "outputs": []
    },
    {
      "cell_type": "code",
      "metadata": {
        "colab": {
          "base_uri": "https://localhost:8080/"
        },
        "id": "Fk-bS7n9bcuI",
        "outputId": "1467ed72-a56b-4363-f445-ac74154c5164"
      },
      "source": [
        "words = review_to_words(df_article_title[6])\n",
        "print(words)"
      ],
      "execution_count": 14,
      "outputs": [
        {
          "output_type": "stream",
          "text": [
            "['volcano', 'caus', 'violent', 'upris', 'cleopatra', 'egypt', 'nation', 'geograph']\n"
          ],
          "name": "stdout"
        }
      ]
    },
    {
      "cell_type": "code",
      "metadata": {
        "colab": {
          "base_uri": "https://localhost:8080/"
        },
        "id": "3a3f1XEWdmZo",
        "outputId": "933f6b06-bcf7-43e3-c2ea-f6955ed0bbef"
      },
      "source": [
        "words = review_to_words(df_article_content[121])\n",
        "print(words)"
      ],
      "execution_count": 15,
      "outputs": [
        {
          "output_type": "stream",
          "text": [
            "['khartoum', 'reuter', 'egyptian', 'presid', 'abdel', 'fattah', 'al', 'sisi', 'call', 'saturday', 'bind', 'deal', 'summer', 'oper', 'giant', 'ethiopian', 'hydropow', 'dam', 'made', 'first', 'visit', 'neighbour', 'sudan', 'sinc', '2019', 'overthrow', 'omar', 'al', 'bashir', 'sudan', 'sovereign', 'council', 'chief', 'gener', 'abdel', 'fattah', 'al', 'burhan', 'meet', 'egyptian', 'presid', 'abdel', 'fatah', 'al', 'sisi', 'khartoum', 'sudan', 'march', '6', '2021', 'sudan', 'sovereign', 'council', 'handout', 'via', 'reuter', 'egypt', 'also', 'signal', 'support', 'sudan', 'disput', 'ethiopia', 'area', 'border', 'two', 'countri', 'recent', 'arm', 'skirmish', 'egypt', 'sudan', 'lie', 'downstream', 'grand', 'ethiopian', 'renaiss', 'dam', 'gerd', 'addi', 'ababa', 'say', 'crucial', 'econom', 'develop', 'ethiopia', 'say', 'everi', 'right', 'use', 'nile', 'water', 'long', 'exploit', 'egypt', 'start', 'fill', 'reservoir', 'behind', 'dam', 'last', 'summer', 'egypt', 'sudan', 'fail', 'secur', 'legal', 'bind', 'agreement', 'dam', 'oper', 'khartoum', 'fear', 'dam', 'lie', 'blue', 'nile', 'close', 'border', 'sudan', 'could', 'increas', 'risk', 'flood', 'affect', 'safe', 'oper', 'nile', 'dam', 'water', 'scarc', 'egypt', 'fear', 'suppli', 'nile', 'could', 'hit', 'year', 'diplomat', 'talk', 'project', 'repeatedli', 'stall', 'egypt', 'sudan', 'posit', 'drawn', 'closer', 'cairo', 'engag', 'flurri', 'diplomaci', 'issu', 'past', 'two', 'year', 'week', 'egypt', 'chief', 'staff', 'sign', 'militari', 'cooper', 'agreement', 'sudanes', 'counterpart', 'visit', 'sudan', 'affirm', 'necess', 'return', 'seriou', 'effect', 'negoti', 'aim', 'reach', 'soon', 'possibl', 'next', 'flood', 'season', 'balanc', 'legal', 'bind', 'agreement', 'sisi', 'said', 'meet', 'sudan', 'leader', 'sudan', 'recent', 'propos', 'unit', 'state', 'european', 'union', 'unit', 'nation', 'african', 'union', 'activ', 'mediat', 'disput', 'rather', 'simpli', 'observ', 'talk', 'suggest', 'egypt', 'support', 'ethiopia', 'week', 'indic', 'opposit', 'ad', 'mediat', 'exist', 'african', 'union', 'led', 'process', 'sisi', 'call', 'came', 'day', 'egyptian', 'foreign', 'minist', 'sameh', 'shoukri', 'appeal', 'u', 'n', 'secretari', 'gener', 'antonio', 'guterr', 'return', 'seriou', 'negoti', 'dam', 'accord', 'egypt', 'foreign', 'ministri', 'meet', 'head', 'sudan', 'rule', 'council', 'abdel', 'fattah', 'al', 'burhan', 'sisi', 'also', 'discuss', 'recent', 'sudanes', 'move', 'extend', 'state', 'sovereignti', 'eastern', 'border', 'ethiopia', 'come', 'within', 'context', 'sudan', 'respect', 'intern', 'agreement', 'statement', 'egypt', 'presid', 'said', 'sudan', 'ethiopia', 'blame', 'unrest', 'border', 'area', 'al', 'fashqa', 'long', 'settl', 'ethiopian', 'farmer', 'ethiopia', 'reject', 'sudan', 'claim', 'assert', 'right', 'control', 'area', 'border', 'agreement', '1903', 'sinc', 'bashir', 'toppl', 'follow', 'mass', 'protest', 'militari', 'civilian', 'council', 'held', 'power', 'sudan', 'polit', 'transit', 'expect', 'last', 'end', '2023']\n"
          ],
          "name": "stdout"
        }
      ]
    },
    {
      "cell_type": "markdown",
      "metadata": {
        "id": "3eS2WFShkgiH"
      },
      "source": [
        "The following few lines of code plot the frequent words in each articles  using nltk.FreqDist"
      ]
    },
    {
      "cell_type": "code",
      "metadata": {
        "colab": {
          "base_uri": "https://localhost:8080/",
          "height": 336
        },
        "id": "QsCv3Up1jtr3",
        "outputId": "52a44cf7-bdf2-4993-b5e6-59c15c2b51b9"
      },
      "source": [
        "#Import datavis libraries\n",
        "import matplotlib.pyplot as plt\n",
        "import seaborn as sns\n",
        "\n",
        "# Figures inline and set visualization style\n",
        "%matplotlib inline\n",
        "sns.set()\n",
        "\n",
        "# Create freq dist and plot\n",
        "freqdist1 = nltk.FreqDist(words)\n",
        "freqdist1.plot(25)"
      ],
      "execution_count": 16,
      "outputs": [
        {
          "output_type": "display_data",
          "data": {
            "image/png": "[encoded data removed]",
            "text/plain": [
              "<Figure size 432x288 with 1 Axes>"
            ]
          },
          "metadata": {
            "tags": []
          }
        }
      ]
    },
    {
      "cell_type": "code",
      "metadata": {
        "colab": {
          "base_uri": "https://localhost:8080/"
        },
        "id": "lW804Z2cJOlG",
        "outputId": "0acb55ff-e5f4-4403-acb8-03f880705325"
      },
      "source": [
        "from nltk import FreqDist\n",
        "fdist = FreqDist(words)\n",
        "fdist.most_common(10)"
      ],
      "execution_count": 17,
      "outputs": [
        {
          "output_type": "execute_result",
          "data": {
            "text/plain": [
              "[('sudan', 17),\n",
              " ('egypt', 10),\n",
              " ('dam', 7),\n",
              " ('al', 6),\n",
              " ('ethiopia', 6),\n",
              " ('sisi', 5),\n",
              " ('border', 5),\n",
              " ('agreement', 5),\n",
              " ('abdel', 4),\n",
              " ('council', 4)]"
            ]
          },
          "metadata": {
            "tags": []
          },
          "execution_count": 17
        }
      ]
    },
    {
      "cell_type": "code",
      "metadata": {
        "colab": {
          "base_uri": "https://localhost:8080/",
          "height": 193
        },
        "id": "1Eqro0DpL2Ku",
        "outputId": "4f780d16-0916-4ba2-b9f7-1549599ffdd0"
      },
      "source": [
        "df = df.drop(['article_link','article_image','article_relevance'], axis = 1)\n",
        "df.head(3)"
      ],
      "execution_count": 18,
      "outputs": [
        {
          "output_type": "execute_result",
          "data": {
            "text/html": [
              "<div>\n",
              "<style scoped>\n",
              "    .dataframe tbody tr th:only-of-type {\n",
              "        vertical-align: middle;\n",
              "    }\n",
              "\n",
              "    .dataframe tbody tr th {\n",
              "        vertical-align: top;\n",
              "    }\n",
              "\n",
              "    .dataframe thead th {\n",
              "        text-align: right;\n",
              "    }\n",
              "</style>\n",
              "<table border=\"1\" class=\"dataframe\">\n",
              "  <thead>\n",
              "    <tr style=\"text-align: right;\">\n",
              "      <th></th>\n",
              "      <th>event_id</th>\n",
              "      <th>article_title</th>\n",
              "      <th>article_content</th>\n",
              "      <th>publishing_date</th>\n",
              "      <th>article_keywords</th>\n",
              "      <th>Country</th>\n",
              "    </tr>\n",
              "  </thead>\n",
              "  <tbody>\n",
              "    <tr>\n",
              "      <th>0</th>\n",
              "      <td>FL-2016-000114-EGY</td>\n",
              "      <td>In Egypt, 8 Dead After Chaotic Day of Heavy Ra...</td>\n",
              "      <td>CAIRO - Heavy rains that pummeled the capital ...</td>\n",
              "      <td>2019-10-23 07:00:00+00:00</td>\n",
              "      <td>['day', 'heavy', 'flooded', 'cairos', 'egypt',...</td>\n",
              "      <td>Egypt</td>\n",
              "    </tr>\n",
              "    <tr>\n",
              "      <th>1</th>\n",
              "      <td>FL-2016-000114-EGY</td>\n",
              "      <td>Sirius and the Flooding of the Nile: this week...</td>\n",
              "      <td>Every year in August, the constellation Orion ...</td>\n",
              "      <td>2019-08-26 07:00:00+00:00</td>\n",
              "      <td>['flood', 'heliacal', 'rising', 'night', 'stor...</td>\n",
              "      <td>Egypt</td>\n",
              "    </tr>\n",
              "    <tr>\n",
              "      <th>2</th>\n",
              "      <td>FL-2016-000114-EGY</td>\n",
              "      <td>On climate change: 11 Egypt's governorates vul...</td>\n",
              "      <td>Vehicles submerged in the flooded New Cairo st...</td>\n",
              "      <td>2018-05-04 07:00:00+00:00</td>\n",
              "      <td>['cairo', 'floods', 'egypt', 'report', 'water'...</td>\n",
              "      <td>Egypt</td>\n",
              "    </tr>\n",
              "  </tbody>\n",
              "</table>\n",
              "</div>"
            ],
            "text/plain": [
              "             event_id  ... Country\n",
              "0  FL-2016-000114-EGY  ...   Egypt\n",
              "1  FL-2016-000114-EGY  ...   Egypt\n",
              "2  FL-2016-000114-EGY  ...   Egypt\n",
              "\n",
              "[3 rows x 6 columns]"
            ]
          },
          "metadata": {
            "tags": []
          },
          "execution_count": 18
        }
      ]
    },
    {
      "cell_type": "code",
      "metadata": {
        "id": "3Y34VOJ90mDs"
      },
      "source": [
        "df = df.dropna()"
      ],
      "execution_count": 19,
      "outputs": []
    },
    {
      "cell_type": "code",
      "metadata": {
        "id": "cLvEy7C6REhc"
      },
      "source": [
        "df['article_title'] = df['article_title'].apply(review_to_words)\n",
        "df['article_keywords'] = df['article_keywords'].apply(review_to_words)\n",
        "df['article_content'] = df['article_content'].apply(review_to_words)"
      ],
      "execution_count": 20,
      "outputs": []
    },
    {
      "cell_type": "code",
      "metadata": {
        "colab": {
          "base_uri": "https://localhost:8080/",
          "height": 529
        },
        "id": "Ka8T9pddTu8C",
        "outputId": "0e2d7229-f97d-44eb-f4db-c51258ff1946"
      },
      "source": [
        "df.sample(10)"
      ],
      "execution_count": 21,
      "outputs": [
        {
          "output_type": "execute_result",
          "data": {
            "text/html": [
              "<div>\n",
              "<style scoped>\n",
              "    .dataframe tbody tr th:only-of-type {\n",
              "        vertical-align: middle;\n",
              "    }\n",
              "\n",
              "    .dataframe tbody tr th {\n",
              "        vertical-align: top;\n",
              "    }\n",
              "\n",
              "    .dataframe thead th {\n",
              "        text-align: right;\n",
              "    }\n",
              "</style>\n",
              "<table border=\"1\" class=\"dataframe\">\n",
              "  <thead>\n",
              "    <tr style=\"text-align: right;\">\n",
              "      <th></th>\n",
              "      <th>event_id</th>\n",
              "      <th>article_title</th>\n",
              "      <th>article_content</th>\n",
              "      <th>publishing_date</th>\n",
              "      <th>article_keywords</th>\n",
              "      <th>Country</th>\n",
              "    </tr>\n",
              "  </thead>\n",
              "  <tbody>\n",
              "    <tr>\n",
              "      <th>120</th>\n",
              "      <td>FL-2020-000038-EGY</td>\n",
              "      <td>[egypt, reassur, citizen, current, nile, flood...</td>\n",
              "      <td>[egyptian, ministri, water, resourc, reassur, ...</td>\n",
              "      <td>2020-09-06 07:00:00+00:00</td>\n",
              "      <td>[flood, collect, structur, egypt, water, curre...</td>\n",
              "      <td>Egypt</td>\n",
              "    </tr>\n",
              "    <tr>\n",
              "      <th>301</th>\n",
              "      <td>FL-2021-000030-IDN</td>\n",
              "      <td>[plan, indonesia, provid, aid, 2700, famili, f...</td>\n",
              "      <td>[follow, day, heavi, rain, pour, sinc, friday,...</td>\n",
              "      <td>2021-04-01 07:00:00+00:00</td>\n",
              "      <td>[famili, girl, respons, disast, karawang, indo...</td>\n",
              "      <td>India</td>\n",
              "    </tr>\n",
              "    <tr>\n",
              "      <th>165</th>\n",
              "      <td>FL-2020-000038-EGY</td>\n",
              "      <td>[photo, heavi, rain, overwhelm, alexandria, sc...</td>\n",
              "      <td>[unstabl, weather, heavi, rain, thrash, alexan...</td>\n",
              "      <td>2020-11-07 08:00:00+00:00</td>\n",
              "      <td>[vacuum, heavi, sidi, suspend, water, alexandr...</td>\n",
              "      <td>Egypt</td>\n",
              "    </tr>\n",
              "    <tr>\n",
              "      <th>355</th>\n",
              "      <td>FL-2021-000030-IDN</td>\n",
              "      <td>[felicia, curri, ora, jone, billi, krishawn, s...</td>\n",
              "      <td>[directori, debut, studio, theatr, associ, art...</td>\n",
              "      <td>2021-04-02 07:00:00+00:00</td>\n",
              "      <td>[ora, felicia, racial, star, state, studio, fl...</td>\n",
              "      <td>India</td>\n",
              "    </tr>\n",
              "    <tr>\n",
              "      <th>383</th>\n",
              "      <td>FL-2021-000030-IDN</td>\n",
              "      <td>[virtual, ranger, help, south, african, reserv...</td>\n",
              "      <td>[55, 000, peopl, around, world, help, keep, ey...</td>\n",
              "      <td>2021-03-29 07:00:00+00:00</td>\n",
              "      <td>[patrol, help, balul, wildlif, stream, south, ...</td>\n",
              "      <td>India</td>\n",
              "    </tr>\n",
              "    <tr>\n",
              "      <th>173</th>\n",
              "      <td>FL-2020-000038-EGY</td>\n",
              "      <td>[south, sudan, hail, egypt, support, flood, cr...</td>\n",
              "      <td>[meet, egypt, prime, minist, mostafa, madbouli...</td>\n",
              "      <td>2020-10-26 07:00:00+00:00</td>\n",
              "      <td>[crisi, support, flood, student, sudanes, egyp...</td>\n",
              "      <td>Egypt</td>\n",
              "    </tr>\n",
              "    <tr>\n",
              "      <th>52</th>\n",
              "      <td>FL-2016-000114-EGY</td>\n",
              "      <td>[coronaviru, red, sea, governor, prepar, face,...</td>\n",
              "      <td>[red, sea, governor, ahm, abdallah, instruct, ...</td>\n",
              "      <td>2018-10-19 07:00:00+00:00</td>\n",
              "      <td>[flood, sea, face, red, water, prepar, equip, ...</td>\n",
              "      <td>Egypt</td>\n",
              "    </tr>\n",
              "    <tr>\n",
              "      <th>83</th>\n",
              "      <td>FL-2016-000114-EGY</td>\n",
              "      <td>[war, break, horn, africa, west, even, notic, ...</td>\n",
              "      <td>[articl, origin, publish, salon, com, tuesday,...</td>\n",
              "      <td>2018-01-16 08:00:00+00:00</td>\n",
              "      <td>[war, horn, west, egypt, water, sudanes, unit,...</td>\n",
              "      <td>Egypt</td>\n",
              "    </tr>\n",
              "    <tr>\n",
              "      <th>339</th>\n",
              "      <td>FL-2021-000030-IDN</td>\n",
              "      <td>[floodplain, separ, river, extens, time, chang...</td>\n",
              "      <td>[dramat, scene, flood, damag, home, infrastruc...</td>\n",
              "      <td>2021-04-04 07:00:00+00:00</td>\n",
              "      <td>[extens, way, floodplain, human, risk, floodpl...</td>\n",
              "      <td>India</td>\n",
              "    </tr>\n",
              "    <tr>\n",
              "      <th>186</th>\n",
              "      <td>FL-2020-000038-EGY</td>\n",
              "      <td>[week, disast, edg, extinct, slate]</td>\n",
              "      <td>[disast, big, peopl, affect, amid, headlin, ea...</td>\n",
              "      <td>2021-03-27 07:00:00+00:00</td>\n",
              "      <td>[sign, kill, station, kill, garcia, disast, di...</td>\n",
              "      <td>Egypt</td>\n",
              "    </tr>\n",
              "  </tbody>\n",
              "</table>\n",
              "</div>"
            ],
            "text/plain": [
              "               event_id  ... Country\n",
              "120  FL-2020-000038-EGY  ...   Egypt\n",
              "301  FL-2021-000030-IDN  ...   India\n",
              "165  FL-2020-000038-EGY  ...   Egypt\n",
              "355  FL-2021-000030-IDN  ...   India\n",
              "383  FL-2021-000030-IDN  ...   India\n",
              "173  FL-2020-000038-EGY  ...   Egypt\n",
              "52   FL-2016-000114-EGY  ...   Egypt\n",
              "83   FL-2016-000114-EGY  ...   Egypt\n",
              "339  FL-2021-000030-IDN  ...   India\n",
              "186  FL-2020-000038-EGY  ...   Egypt\n",
              "\n",
              "[10 rows x 6 columns]"
            ]
          },
          "metadata": {
            "tags": []
          },
          "execution_count": 21
        }
      ]
    },
    {
      "cell_type": "code",
      "metadata": {
        "id": "dI6VlZW845fK"
      },
      "source": [
        "def top_ten_words(data):\n",
        "    freqdist = FreqDist(data)\n",
        "    #topdist = freqdist.items()\n",
        "    topdist = freqdist.most_common(10)\n",
        "    return topdist"
      ],
      "execution_count": 22,
      "outputs": []
    },
    {
      "cell_type": "code",
      "metadata": {
        "id": "mOQAc2GS5Krq"
      },
      "source": [
        "df1 = df.copy()"
      ],
      "execution_count": 23,
      "outputs": []
    },
    {
      "cell_type": "code",
      "metadata": {
        "id": "sqD9Pcih5AZQ"
      },
      "source": [
        "df1['article_content'] = df1['article_content'].apply(top_ten_words)"
      ],
      "execution_count": 24,
      "outputs": []
    },
    {
      "cell_type": "code",
      "metadata": {
        "colab": {
          "base_uri": "https://localhost:8080/"
        },
        "id": "o45-zjA1DegK",
        "outputId": "b9a3ffa8-3f90-41ba-97c3-a849622659ab"
      },
      "source": [
        "df1['article_content'][121]"
      ],
      "execution_count": 25,
      "outputs": [
        {
          "output_type": "execute_result",
          "data": {
            "text/plain": [
              "[('sudan', 17),\n",
              " ('egypt', 10),\n",
              " ('dam', 7),\n",
              " ('al', 6),\n",
              " ('ethiopia', 6),\n",
              " ('sisi', 5),\n",
              " ('border', 5),\n",
              " ('agreement', 5),\n",
              " ('abdel', 4),\n",
              " ('council', 4)]"
            ]
          },
          "metadata": {
            "tags": []
          },
          "execution_count": 25
        }
      ]
    },
    {
      "cell_type": "code",
      "metadata": {
        "colab": {
          "base_uri": "https://localhost:8080/",
          "height": 529
        },
        "id": "zivGM7fPDK7e",
        "outputId": "0dca18b9-0a4c-43a9-880d-ffc228ecbf3c"
      },
      "source": [
        "df1.sample(10)"
      ],
      "execution_count": 26,
      "outputs": [
        {
          "output_type": "execute_result",
          "data": {
            "text/html": [
              "<div>\n",
              "<style scoped>\n",
              "    .dataframe tbody tr th:only-of-type {\n",
              "        vertical-align: middle;\n",
              "    }\n",
              "\n",
              "    .dataframe tbody tr th {\n",
              "        vertical-align: top;\n",
              "    }\n",
              "\n",
              "    .dataframe thead th {\n",
              "        text-align: right;\n",
              "    }\n",
              "</style>\n",
              "<table border=\"1\" class=\"dataframe\">\n",
              "  <thead>\n",
              "    <tr style=\"text-align: right;\">\n",
              "      <th></th>\n",
              "      <th>event_id</th>\n",
              "      <th>article_title</th>\n",
              "      <th>article_content</th>\n",
              "      <th>publishing_date</th>\n",
              "      <th>article_keywords</th>\n",
              "      <th>Country</th>\n",
              "    </tr>\n",
              "  </thead>\n",
              "  <tbody>\n",
              "    <tr>\n",
              "      <th>228</th>\n",
              "      <td>FL-2021-000021-IND</td>\n",
              "      <td>[uttarakhand, glacier, burst, dhauliganga, wat...</td>\n",
              "      <td>[(level, 14), (water, 13), (1, 8), (flood, 7),...</td>\n",
              "      <td>2021-02-07 08:00:00+00:00</td>\n",
              "      <td>[glacier, joshimath, dhauliganga, record, rive...</td>\n",
              "      <td>India</td>\n",
              "    </tr>\n",
              "    <tr>\n",
              "      <th>156</th>\n",
              "      <td>FL-2020-000038-EGY</td>\n",
              "      <td>[nile, water, level, continu, declin, sudan, d...</td>\n",
              "      <td>[(water, 16), (nile, 13), (level, 9), (million...</td>\n",
              "      <td>2020-09-19 07:00:00+00:00</td>\n",
              "      <td>[continu, million, flood, water, declin, level...</td>\n",
              "      <td>Egypt</td>\n",
              "    </tr>\n",
              "    <tr>\n",
              "      <th>235</th>\n",
              "      <td>FL-2021-000021-IND</td>\n",
              "      <td>[breakag, hang, glacier, may, trigger, uttarak...</td>\n",
              "      <td>[(glacier, 15), (climat, 10), (chang, 10), (di...</td>\n",
              "      <td>2021-02-11 08:00:00+00:00</td>\n",
              "      <td>[preliminari, indic, observ, glacier, chang, d...</td>\n",
              "      <td>India</td>\n",
              "    </tr>\n",
              "    <tr>\n",
              "      <th>190</th>\n",
              "      <td>FL-2020-000038-EGY</td>\n",
              "      <td>[buri, 4, 000, year, ancient, cultur, could, e...</td>\n",
              "      <td>[(piec, 5), (market, 3), (site, 3), (mysteri, ...</td>\n",
              "      <td>2021-02-26 08:00:00+00:00</td>\n",
              "      <td>[market, site, cultur, buri, locat, artefact, ...</td>\n",
              "      <td>Egypt</td>\n",
              "    </tr>\n",
              "    <tr>\n",
              "      <th>297</th>\n",
              "      <td>FL-2021-000021-IND</td>\n",
              "      <td>[uttarakhand, glacier, burst, water, suppli, p...</td>\n",
              "      <td>[(water, 17), (turbid, 10), (said, 8), (delhi,...</td>\n",
              "      <td>2021-02-15 08:00:00+00:00</td>\n",
              "      <td>[glacier, increas, hit, suppli, water, treatme...</td>\n",
              "      <td>India</td>\n",
              "    </tr>\n",
              "    <tr>\n",
              "      <th>317</th>\n",
              "      <td>FL-2021-000030-IDN</td>\n",
              "      <td>[climat, chang, develop, world, drown, jakarta...</td>\n",
              "      <td>[(jakarta, 22), (flood, 14), (citi, 10), (wate...</td>\n",
              "      <td>2021-03-30 07:00:00+00:00</td>\n",
              "      <td>[extract, sea, warm, climat, groundwat, global...</td>\n",
              "      <td>India</td>\n",
              "    </tr>\n",
              "    <tr>\n",
              "      <th>188</th>\n",
              "      <td>FL-2020-000038-EGY</td>\n",
              "      <td>[eco, tip, bare, root, tree, plant, celebr, bi...</td>\n",
              "      <td>[(tree, 20), (tax, 10), (root, 9), (plant, 8),...</td>\n",
              "      <td>2021-01-23 08:00:00+00:00</td>\n",
              "      <td>[tax, ecotip, ventura, root, birthday, root, c...</td>\n",
              "      <td>Egypt</td>\n",
              "    </tr>\n",
              "    <tr>\n",
              "      <th>379</th>\n",
              "      <td>FL-2021-000030-IDN</td>\n",
              "      <td>[year, covid, 19, muddi, mission, work, feel, ...</td>\n",
              "      <td>[(church, 11), (christ, 10), (campu, 7), (said...</td>\n",
              "      <td>2021-04-02 07:00:00+00:00</td>\n",
              "      <td>[trip, campu, ministri, kentucki, feel, missio...</td>\n",
              "      <td>India</td>\n",
              "    </tr>\n",
              "    <tr>\n",
              "      <th>63</th>\n",
              "      <td>FL-2016-000114-EGY</td>\n",
              "      <td>[gerd, collaps, within, year, int, l, dam, exp...</td>\n",
              "      <td>[(dam, 12), (collaps, 10), (gerd, 7), (water, ...</td>\n",
              "      <td>2018-11-01 07:00:00+00:00</td>\n",
              "      <td>[flood, egypt, water, ethiopia, collaps, sudan...</td>\n",
              "      <td>Egypt</td>\n",
              "    </tr>\n",
              "    <tr>\n",
              "      <th>330</th>\n",
              "      <td>FL-2021-000030-IDN</td>\n",
              "      <td>[float, garden, way, keep, farm, despit, clima...</td>\n",
              "      <td>[(garden, 19), (float, 13), (chang, 10), (clim...</td>\n",
              "      <td>2021-03-31 07:00:00+00:00</td>\n",
              "      <td>[offer, forward, famili, food, farmer, farm, h...</td>\n",
              "      <td>India</td>\n",
              "    </tr>\n",
              "  </tbody>\n",
              "</table>\n",
              "</div>"
            ],
            "text/plain": [
              "               event_id  ... Country\n",
              "228  FL-2021-000021-IND  ...   India\n",
              "156  FL-2020-000038-EGY  ...   Egypt\n",
              "235  FL-2021-000021-IND  ...   India\n",
              "190  FL-2020-000038-EGY  ...   Egypt\n",
              "297  FL-2021-000021-IND  ...   India\n",
              "317  FL-2021-000030-IDN  ...   India\n",
              "188  FL-2020-000038-EGY  ...   Egypt\n",
              "379  FL-2021-000030-IDN  ...   India\n",
              "63   FL-2016-000114-EGY  ...   Egypt\n",
              "330  FL-2021-000030-IDN  ...   India\n",
              "\n",
              "[10 rows x 6 columns]"
            ]
          },
          "metadata": {
            "tags": []
          },
          "execution_count": 26
        }
      ]
    },
    {
      "cell_type": "code",
      "metadata": {
        "colab": {
          "base_uri": "https://localhost:8080/"
        },
        "id": "Xzs9vOzHnKjR",
        "outputId": "a3397672-ea79-488d-b716-ca5f5ddebb76"
      },
      "source": [
        "if 'flood' in df1['article_keywords'][121]:\n",
        "  print('Flood')\n",
        "elif 'flood' in df1['article_title'][121]:\n",
        "  print('Flood')\n",
        "elif 'flood' in df1['article_content'][121]:\n",
        "  print('Flood')\n",
        "else:\n",
        "  print('No Flood')"
      ],
      "execution_count": 27,
      "outputs": [
        {
          "output_type": "stream",
          "text": [
            "No Flood\n"
          ],
          "name": "stdout"
        }
      ]
    },
    {
      "cell_type": "code",
      "metadata": {
        "colab": {
          "base_uri": "https://localhost:8080/",
          "height": 289
        },
        "id": "-uLgm1W2heoq",
        "outputId": "a995d5fa-dfc6-4a69-f8a3-037914edc0d4"
      },
      "source": [
        "def classify_content(row):\n",
        "    if 'flood' in row['article_keywords']:\n",
        "        return \"flood\"\n",
        "    elif 'flood' in row['article_title']:\n",
        "        return \"flood\"\n",
        "    elif 'flood' in row['article_content']:\n",
        "        return 'Flood'\n",
        "    else:\n",
        "        return \"no flood\"\n",
        "\n",
        "df1 = df1.assign(label=df1.apply(classify_content, axis=1))\n",
        "\n",
        "df1.head()"
      ],
      "execution_count": 28,
      "outputs": [
        {
          "output_type": "execute_result",
          "data": {
            "text/html": [
              "<div>\n",
              "<style scoped>\n",
              "    .dataframe tbody tr th:only-of-type {\n",
              "        vertical-align: middle;\n",
              "    }\n",
              "\n",
              "    .dataframe tbody tr th {\n",
              "        vertical-align: top;\n",
              "    }\n",
              "\n",
              "    .dataframe thead th {\n",
              "        text-align: right;\n",
              "    }\n",
              "</style>\n",
              "<table border=\"1\" class=\"dataframe\">\n",
              "  <thead>\n",
              "    <tr style=\"text-align: right;\">\n",
              "      <th></th>\n",
              "      <th>event_id</th>\n",
              "      <th>article_title</th>\n",
              "      <th>article_content</th>\n",
              "      <th>publishing_date</th>\n",
              "      <th>article_keywords</th>\n",
              "      <th>Country</th>\n",
              "      <th>label</th>\n",
              "    </tr>\n",
              "  </thead>\n",
              "  <tbody>\n",
              "    <tr>\n",
              "      <th>0</th>\n",
              "      <td>FL-2016-000114-EGY</td>\n",
              "      <td>[egypt, 8, dead, chaotic, day, heavi, rain, fl...</td>\n",
              "      <td>[(cairo, 13), (flood, 9), (said, 6), (citi, 6)...</td>\n",
              "      <td>2019-10-23 07:00:00+00:00</td>\n",
              "      <td>[day, heavi, flood, cairo, egypt, includ, chao...</td>\n",
              "      <td>Egypt</td>\n",
              "      <td>flood</td>\n",
              "    </tr>\n",
              "    <tr>\n",
              "      <th>1</th>\n",
              "      <td>FL-2016-000114-EGY</td>\n",
              "      <td>[siriu, flood, nile, week, storytel, night, sk...</td>\n",
              "      <td>[(siriu, 6), (flood, 6), (year, 5), (rise, 5),...</td>\n",
              "      <td>2019-08-26 07:00:00+00:00</td>\n",
              "      <td>[flood, heliac, rise, night, storytel, star, n...</td>\n",
              "      <td>Egypt</td>\n",
              "      <td>flood</td>\n",
              "    </tr>\n",
              "    <tr>\n",
              "      <th>2</th>\n",
              "      <td>FL-2016-000114-EGY</td>\n",
              "      <td>[climat, chang, 11, egypt, governor, vulner, f...</td>\n",
              "      <td>[(flood, 7), (egypt, 5), (cairo, 4), (climat, ...</td>\n",
              "      <td>2018-05-04 07:00:00+00:00</td>\n",
              "      <td>[cairo, flood, egypt, report, water, 11, torre...</td>\n",
              "      <td>Egypt</td>\n",
              "      <td>flood</td>\n",
              "    </tr>\n",
              "    <tr>\n",
              "      <th>4</th>\n",
              "      <td>FL-2016-000114-EGY</td>\n",
              "      <td>[egypt, declar, water, emerg, precaut, al, mon...</td>\n",
              "      <td>[(water, 46), (egypt, 15), (flow, 11), (dam, 1...</td>\n",
              "      <td>2019-08-14 07:00:00+00:00</td>\n",
              "      <td>[meter, precaut, egypt, water, ethiopia, emerg...</td>\n",
              "      <td>Egypt</td>\n",
              "      <td>no flood</td>\n",
              "    </tr>\n",
              "    <tr>\n",
              "      <th>5</th>\n",
              "      <td>FL-2016-000114-EGY</td>\n",
              "      <td>[8, dead, egypt, chaotic, day, heavi, rain, fl...</td>\n",
              "      <td>[(cairo, 12), (flood, 9), (said, 8), (citi, 6)...</td>\n",
              "      <td>2019-10-24 07:00:00+00:00</td>\n",
              "      <td>[day, heavi, flood, egypt, includ, chaotic, me...</td>\n",
              "      <td>Egypt</td>\n",
              "      <td>flood</td>\n",
              "    </tr>\n",
              "  </tbody>\n",
              "</table>\n",
              "</div>"
            ],
            "text/plain": [
              "             event_id  ...     label\n",
              "0  FL-2016-000114-EGY  ...     flood\n",
              "1  FL-2016-000114-EGY  ...     flood\n",
              "2  FL-2016-000114-EGY  ...     flood\n",
              "4  FL-2016-000114-EGY  ...  no flood\n",
              "5  FL-2016-000114-EGY  ...     flood\n",
              "\n",
              "[5 rows x 7 columns]"
            ]
          },
          "metadata": {
            "tags": []
          },
          "execution_count": 28
        }
      ]
    }
  ]
}