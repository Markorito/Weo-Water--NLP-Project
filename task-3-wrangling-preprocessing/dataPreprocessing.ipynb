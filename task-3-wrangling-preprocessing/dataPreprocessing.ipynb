{
  "nbformat": 4,
  "nbformat_minor": 0,
  "metadata": {
    "colab": {
      "name": "Untitled27.ipynb",
      "provenance": [],
      "collapsed_sections": []
    },
    "kernelspec": {
      "name": "python3",
      "display_name": "Python 3"
    },
    "language_info": {
      "name": "python"
    }
  },
  "cells": [
    {
      "cell_type": "code",
      "metadata": {
        "id": "fUD5osdwnq0u"
      },
      "source": [
        "from google.colab import drive"
      ],
      "execution_count": 2,
      "outputs": []
    },
    {
      "cell_type": "code",
      "metadata": {
        "colab": {
          "base_uri": "https://localhost:8080/"
        },
        "id": "H2U5UzhQoNAn",
        "outputId": "c40ffa2a-643c-4a90-8db0-8e80f4fefac8"
      },
      "source": [
        "drive.mount('/content/drive/')"
      ],
      "execution_count": 2,
      "outputs": [
        {
          "output_type": "stream",
          "text": [
            "Mounted at /content/drive/\n"
          ],
          "name": "stdout"
        }
      ]
    },
    {
      "cell_type": "code",
      "metadata": {
        "colab": {
          "base_uri": "https://localhost:8080/"
        },
        "id": "80ikbmfbpbyA",
        "outputId": "af738f29-e235-4c3a-8275-5a721fe7a91c"
      },
      "source": [
        "%cd /content/drive/MyDrive/"
      ],
      "execution_count": 3,
      "outputs": [
        {
          "output_type": "stream",
          "text": [
            "/content/drive/MyDrive\n"
          ],
          "name": "stdout"
        }
      ]
    },
    {
      "cell_type": "code",
      "metadata": {
        "id": "C-lcV_TzpzWR"
      },
      "source": [
        "import pandas as pd"
      ],
      "execution_count": 4,
      "outputs": []
    },
    {
      "cell_type": "code",
      "metadata": {
        "id": "P3m-cPE_plt3"
      },
      "source": [
        "df= pd.read_csv('disaster_messages.csv')"
      ],
      "execution_count": 17,
      "outputs": []
    },
    {
      "cell_type": "code",
      "metadata": {
        "colab": {
          "base_uri": "https://localhost:8080/",
          "height": 204
        },
        "id": "XNwhrZnSqPmn",
        "outputId": "6e008eeb-6318-4834-9560-176a8cb45a08"
      },
      "source": [
        "df.head()"
      ],
      "execution_count": 13,
      "outputs": [
        {
          "output_type": "execute_result",
          "data": {
            "text/html": [
              "<div>\n",
              "<style scoped>\n",
              "    .dataframe tbody tr th:only-of-type {\n",
              "        vertical-align: middle;\n",
              "    }\n",
              "\n",
              "    .dataframe tbody tr th {\n",
              "        vertical-align: top;\n",
              "    }\n",
              "\n",
              "    .dataframe thead th {\n",
              "        text-align: right;\n",
              "    }\n",
              "</style>\n",
              "<table border=\"1\" class=\"dataframe\">\n",
              "  <thead>\n",
              "    <tr style=\"text-align: right;\">\n",
              "      <th></th>\n",
              "      <th>id</th>\n",
              "      <th>message</th>\n",
              "      <th>original</th>\n",
              "      <th>genre</th>\n",
              "    </tr>\n",
              "  </thead>\n",
              "  <tbody>\n",
              "    <tr>\n",
              "      <th>0</th>\n",
              "      <td>2</td>\n",
              "      <td>Weather update - a cold front from Cuba that c...</td>\n",
              "      <td>Un front froid se retrouve sur Cuba ce matin. ...</td>\n",
              "      <td>direct</td>\n",
              "    </tr>\n",
              "    <tr>\n",
              "      <th>1</th>\n",
              "      <td>7</td>\n",
              "      <td>Is the Hurricane over or is it not over</td>\n",
              "      <td>Cyclone nan fini osinon li pa fini</td>\n",
              "      <td>direct</td>\n",
              "    </tr>\n",
              "    <tr>\n",
              "      <th>2</th>\n",
              "      <td>8</td>\n",
              "      <td>Looking for someone but no name</td>\n",
              "      <td>Patnm, di Maryani relem pou li banm nouvel li ...</td>\n",
              "      <td>direct</td>\n",
              "    </tr>\n",
              "    <tr>\n",
              "      <th>3</th>\n",
              "      <td>9</td>\n",
              "      <td>UN reports Leogane 80-90 destroyed. Only Hospi...</td>\n",
              "      <td>UN reports Leogane 80-90 destroyed. Only Hospi...</td>\n",
              "      <td>direct</td>\n",
              "    </tr>\n",
              "    <tr>\n",
              "      <th>4</th>\n",
              "      <td>12</td>\n",
              "      <td>says: west side of Haiti, rest of the country ...</td>\n",
              "      <td>facade ouest d Haiti et le reste du pays aujou...</td>\n",
              "      <td>direct</td>\n",
              "    </tr>\n",
              "  </tbody>\n",
              "</table>\n",
              "</div>"
            ],
            "text/plain": [
              "   id  ...   genre\n",
              "0   2  ...  direct\n",
              "1   7  ...  direct\n",
              "2   8  ...  direct\n",
              "3   9  ...  direct\n",
              "4  12  ...  direct\n",
              "\n",
              "[5 rows x 4 columns]"
            ]
          },
          "metadata": {
            "tags": []
          },
          "execution_count": 13
        }
      ]
    },
    {
      "cell_type": "code",
      "metadata": {
        "id": "k4xAgSWTq6sD"
      },
      "source": [
        "df_filter = df.drop(columns=['original','genre'], inplace=True)"
      ],
      "execution_count": 18,
      "outputs": []
    },
    {
      "cell_type": "code",
      "metadata": {
        "colab": {
          "base_uri": "https://localhost:8080/",
          "height": 204
        },
        "id": "U2w-EsDQvPBY",
        "outputId": "8390fec4-4a98-4b27-fc31-b437828ed2d4"
      },
      "source": [
        "df.head()"
      ],
      "execution_count": 19,
      "outputs": [
        {
          "output_type": "execute_result",
          "data": {
            "text/html": [
              "<div>\n",
              "<style scoped>\n",
              "    .dataframe tbody tr th:only-of-type {\n",
              "        vertical-align: middle;\n",
              "    }\n",
              "\n",
              "    .dataframe tbody tr th {\n",
              "        vertical-align: top;\n",
              "    }\n",
              "\n",
              "    .dataframe thead th {\n",
              "        text-align: right;\n",
              "    }\n",
              "</style>\n",
              "<table border=\"1\" class=\"dataframe\">\n",
              "  <thead>\n",
              "    <tr style=\"text-align: right;\">\n",
              "      <th></th>\n",
              "      <th>id</th>\n",
              "      <th>message</th>\n",
              "    </tr>\n",
              "  </thead>\n",
              "  <tbody>\n",
              "    <tr>\n",
              "      <th>0</th>\n",
              "      <td>2</td>\n",
              "      <td>Weather update - a cold front from Cuba that c...</td>\n",
              "    </tr>\n",
              "    <tr>\n",
              "      <th>1</th>\n",
              "      <td>7</td>\n",
              "      <td>Is the Hurricane over or is it not over</td>\n",
              "    </tr>\n",
              "    <tr>\n",
              "      <th>2</th>\n",
              "      <td>8</td>\n",
              "      <td>Looking for someone but no name</td>\n",
              "    </tr>\n",
              "    <tr>\n",
              "      <th>3</th>\n",
              "      <td>9</td>\n",
              "      <td>UN reports Leogane 80-90 destroyed. Only Hospi...</td>\n",
              "    </tr>\n",
              "    <tr>\n",
              "      <th>4</th>\n",
              "      <td>12</td>\n",
              "      <td>says: west side of Haiti, rest of the country ...</td>\n",
              "    </tr>\n",
              "  </tbody>\n",
              "</table>\n",
              "</div>"
            ],
            "text/plain": [
              "   id                                            message\n",
              "0   2  Weather update - a cold front from Cuba that c...\n",
              "1   7            Is the Hurricane over or is it not over\n",
              "2   8                    Looking for someone but no name\n",
              "3   9  UN reports Leogane 80-90 destroyed. Only Hospi...\n",
              "4  12  says: west side of Haiti, rest of the country ..."
            ]
          },
          "metadata": {
            "tags": []
          },
          "execution_count": 19
        }
      ]
    },
    {
      "cell_type": "code",
      "metadata": {
        "colab": {
          "base_uri": "https://localhost:8080/"
        },
        "id": "XZDglcRov9OW",
        "outputId": "3dbb3110-80d2-44a4-e64c-1a5af859df62"
      },
      "source": [
        "df.info"
      ],
      "execution_count": 20,
      "outputs": [
        {
          "output_type": "execute_result",
          "data": {
            "text/plain": [
              "<bound method DataFrame.info of           id                                            message\n",
              "0          2  Weather update - a cold front from Cuba that c...\n",
              "1          7            Is the Hurricane over or is it not over\n",
              "2          8                    Looking for someone but no name\n",
              "3          9  UN reports Leogane 80-90 destroyed. Only Hospi...\n",
              "4         12  says: west side of Haiti, rest of the country ...\n",
              "...      ...                                                ...\n",
              "26243  30261  The training demonstrated how to enhance micro...\n",
              "26244  30262  A suitable candidate has been selected and OCH...\n",
              "26245  30263  Proshika, operating in Cox's Bazar municipalit...\n",
              "26246  30264  Some 2,000 women protesting against the conduc...\n",
              "26247  30265  A radical shift in thinking came about as a re...\n",
              "\n",
              "[26248 rows x 2 columns]>"
            ]
          },
          "metadata": {
            "tags": []
          },
          "execution_count": 20
        }
      ]
    },
    {
      "cell_type": "code",
      "metadata": {
        "id": "6UmgszrGwYA7"
      },
      "source": [
        "category=[]\n",
        "for msg in df['message']:\n",
        "  if 'flood' in msg:\n",
        "    category.append('flood')\n",
        "  elif any(x in msg for x in ['flood','drought']):\n",
        "    category.append('flood_and_drought')\n",
        "  elif 'drought' in msg:\n",
        "    category.append('drought')\n",
        "  else:\n",
        "    category.append('None')"
      ],
      "execution_count": 24,
      "outputs": []
    },
    {
      "cell_type": "code",
      "metadata": {
        "id": "I-3dpJjfEif5"
      },
      "source": [
        "df['category']= category\n"
      ],
      "execution_count": 25,
      "outputs": []
    },
    {
      "cell_type": "code",
      "metadata": {
        "id": "uKu8kq3OEycB"
      },
      "source": [
        "df.to_csv('cleanedData.csv')"
      ],
      "execution_count": 27,
      "outputs": []
    },
    {
      "cell_type": "code",
      "metadata": {
        "colab": {
          "base_uri": "https://localhost:8080/",
          "height": 419
        },
        "id": "6cmG1jb7FDkP",
        "outputId": "0aaee952-fd61-4335-aeed-e160803f3f13"
      },
      "source": [
        "x= pd.read_csv('cleanedData.csv')\n",
        "x.head(100)"
      ],
      "execution_count": 31,
      "outputs": [
        {
          "output_type": "execute_result",
          "data": {
            "text/html": [
              "<div>\n",
              "<style scoped>\n",
              "    .dataframe tbody tr th:only-of-type {\n",
              "        vertical-align: middle;\n",
              "    }\n",
              "\n",
              "    .dataframe tbody tr th {\n",
              "        vertical-align: top;\n",
              "    }\n",
              "\n",
              "    .dataframe thead th {\n",
              "        text-align: right;\n",
              "    }\n",
              "</style>\n",
              "<table border=\"1\" class=\"dataframe\">\n",
              "  <thead>\n",
              "    <tr style=\"text-align: right;\">\n",
              "      <th></th>\n",
              "      <th>Unnamed: 0</th>\n",
              "      <th>id</th>\n",
              "      <th>message</th>\n",
              "      <th>category</th>\n",
              "    </tr>\n",
              "  </thead>\n",
              "  <tbody>\n",
              "    <tr>\n",
              "      <th>0</th>\n",
              "      <td>0</td>\n",
              "      <td>2</td>\n",
              "      <td>Weather update - a cold front from Cuba that c...</td>\n",
              "      <td>None</td>\n",
              "    </tr>\n",
              "    <tr>\n",
              "      <th>1</th>\n",
              "      <td>1</td>\n",
              "      <td>7</td>\n",
              "      <td>Is the Hurricane over or is it not over</td>\n",
              "      <td>None</td>\n",
              "    </tr>\n",
              "    <tr>\n",
              "      <th>2</th>\n",
              "      <td>2</td>\n",
              "      <td>8</td>\n",
              "      <td>Looking for someone but no name</td>\n",
              "      <td>None</td>\n",
              "    </tr>\n",
              "    <tr>\n",
              "      <th>3</th>\n",
              "      <td>3</td>\n",
              "      <td>9</td>\n",
              "      <td>UN reports Leogane 80-90 destroyed. Only Hospi...</td>\n",
              "      <td>None</td>\n",
              "    </tr>\n",
              "    <tr>\n",
              "      <th>4</th>\n",
              "      <td>4</td>\n",
              "      <td>12</td>\n",
              "      <td>says: west side of Haiti, rest of the country ...</td>\n",
              "      <td>None</td>\n",
              "    </tr>\n",
              "    <tr>\n",
              "      <th>...</th>\n",
              "      <td>...</td>\n",
              "      <td>...</td>\n",
              "      <td>...</td>\n",
              "      <td>...</td>\n",
              "    </tr>\n",
              "    <tr>\n",
              "      <th>95</th>\n",
              "      <td>95</td>\n",
              "      <td>122</td>\n",
              "      <td>We are about 500 people. We're in Martissant 2...</td>\n",
              "      <td>None</td>\n",
              "    </tr>\n",
              "    <tr>\n",
              "      <th>96</th>\n",
              "      <td>96</td>\n",
              "      <td>123</td>\n",
              "      <td>Digicel let me go through, it's an emergency</td>\n",
              "      <td>None</td>\n",
              "    </tr>\n",
              "    <tr>\n",
              "      <th>97</th>\n",
              "      <td>97</td>\n",
              "      <td>124</td>\n",
              "      <td>Where can I find Capital Bank please?</td>\n",
              "      <td>None</td>\n",
              "    </tr>\n",
              "    <tr>\n",
              "      <th>98</th>\n",
              "      <td>98</td>\n",
              "      <td>125</td>\n",
              "      <td>We are in Plaine du Cul-de-sac. Where's the ne...</td>\n",
              "      <td>None</td>\n",
              "    </tr>\n",
              "    <tr>\n",
              "      <th>99</th>\n",
              "      <td>99</td>\n",
              "      <td>126</td>\n",
              "      <td>I am listening to Radio Dabon. We need help an...</td>\n",
              "      <td>None</td>\n",
              "    </tr>\n",
              "  </tbody>\n",
              "</table>\n",
              "<p>100 rows × 4 columns</p>\n",
              "</div>"
            ],
            "text/plain": [
              "    Unnamed: 0   id                                            message category\n",
              "0            0    2  Weather update - a cold front from Cuba that c...     None\n",
              "1            1    7            Is the Hurricane over or is it not over     None\n",
              "2            2    8                    Looking for someone but no name     None\n",
              "3            3    9  UN reports Leogane 80-90 destroyed. Only Hospi...     None\n",
              "4            4   12  says: west side of Haiti, rest of the country ...     None\n",
              "..         ...  ...                                                ...      ...\n",
              "95          95  122  We are about 500 people. We're in Martissant 2...     None\n",
              "96          96  123       Digicel let me go through, it's an emergency     None\n",
              "97          97  124              Where can I find Capital Bank please?     None\n",
              "98          98  125  We are in Plaine du Cul-de-sac. Where's the ne...     None\n",
              "99          99  126  I am listening to Radio Dabon. We need help an...     None\n",
              "\n",
              "[100 rows x 4 columns]"
            ]
          },
          "metadata": {
            "tags": []
          },
          "execution_count": 31
        }
      ]
    },
    {
      "cell_type": "code",
      "metadata": {
        "id": "EV_Yc4s7FkZa"
      },
      "source": [
        "x[x.category != 'None'].to_csv('clean.csv')\n"
      ],
      "execution_count": 44,
      "outputs": []
    },
    {
      "cell_type": "code",
      "metadata": {
        "colab": {
          "base_uri": "https://localhost:8080/",
          "height": 204
        },
        "id": "Q-iQJaKUOPI4",
        "outputId": "30bc5955-b467-47b4-cc6a-bad68e8f8c53"
      },
      "source": [
        "clean=pd.read_csv('clean.csv')\n",
        "clean.head()"
      ],
      "execution_count": 61,
      "outputs": [
        {
          "output_type": "execute_result",
          "data": {
            "text/html": [
              "<div>\n",
              "<style scoped>\n",
              "    .dataframe tbody tr th:only-of-type {\n",
              "        vertical-align: middle;\n",
              "    }\n",
              "\n",
              "    .dataframe tbody tr th {\n",
              "        vertical-align: top;\n",
              "    }\n",
              "\n",
              "    .dataframe thead th {\n",
              "        text-align: right;\n",
              "    }\n",
              "</style>\n",
              "<table border=\"1\" class=\"dataframe\">\n",
              "  <thead>\n",
              "    <tr style=\"text-align: right;\">\n",
              "      <th></th>\n",
              "      <th>Unnamed: 0</th>\n",
              "      <th>Unnamed: 0.1</th>\n",
              "      <th>id</th>\n",
              "      <th>message</th>\n",
              "      <th>category</th>\n",
              "    </tr>\n",
              "  </thead>\n",
              "  <tbody>\n",
              "    <tr>\n",
              "      <th>0</th>\n",
              "      <td>3406</td>\n",
              "      <td>3406</td>\n",
              "      <td>3917</td>\n",
              "      <td>People at Grand saline and Le Lambi are asking...</td>\n",
              "      <td>flood</td>\n",
              "    </tr>\n",
              "    <tr>\n",
              "      <th>1</th>\n",
              "      <td>4833</td>\n",
              "      <td>4833</td>\n",
              "      <td>5502</td>\n",
              "      <td>I was flooded in Port-au-Prince. Now I live in...</td>\n",
              "      <td>flood</td>\n",
              "    </tr>\n",
              "    <tr>\n",
              "      <th>2</th>\n",
              "      <td>5525</td>\n",
              "      <td>5525</td>\n",
              "      <td>6290</td>\n",
              "      <td>The school announced that they will resume on ...</td>\n",
              "      <td>flood</td>\n",
              "    </tr>\n",
              "    <tr>\n",
              "      <th>3</th>\n",
              "      <td>7076</td>\n",
              "      <td>7076</td>\n",
              "      <td>7988</td>\n",
              "      <td>Emergency, aux cayes is flooding, they needs h...</td>\n",
              "      <td>flood</td>\n",
              "    </tr>\n",
              "    <tr>\n",
              "      <th>4</th>\n",
              "      <td>7080</td>\n",
              "      <td>7080</td>\n",
              "      <td>7993</td>\n",
              "      <td>Please,I need the phone number the civil prote...</td>\n",
              "      <td>flood</td>\n",
              "    </tr>\n",
              "  </tbody>\n",
              "</table>\n",
              "</div>"
            ],
            "text/plain": [
              "   Unnamed: 0  ...  category\n",
              "0        3406  ...     flood\n",
              "1        4833  ...     flood\n",
              "2        5525  ...     flood\n",
              "3        7076  ...     flood\n",
              "4        7080  ...     flood\n",
              "\n",
              "[5 rows x 5 columns]"
            ]
          },
          "metadata": {
            "tags": []
          },
          "execution_count": 61
        }
      ]
    },
    {
      "cell_type": "code",
      "metadata": {
        "id": "pSBsu0WrP80N"
      },
      "source": [
        "clean_filter= clean.drop(columns=['Unnamed: 0','Unnamed: 0.1'], inplace=True)\n"
      ],
      "execution_count": 65,
      "outputs": []
    },
    {
      "cell_type": "code",
      "metadata": {
        "colab": {
          "base_uri": "https://localhost:8080/"
        },
        "id": "7WxvTkGjU8Ok",
        "outputId": "61311357-20ef-427a-d08f-20b54e35d666"
      },
      "source": [
        "clean.info"
      ],
      "execution_count": 73,
      "outputs": [
        {
          "output_type": "execute_result",
          "data": {
            "text/plain": [
              "<bound method DataFrame.info of                                                 message           category\n",
              "0     People at Grand saline and Le Lambi are asking...              flood\n",
              "1     I was flooded in Port-au-Prince. Now I live in...              flood\n",
              "2     The school announced that they will resume on ...              flood\n",
              "3     Emergency, aux cayes is flooding, they needs h...              flood\n",
              "4     Please,I need the phone number the civil prote...              flood\n",
              "...                                                 ...                ...\n",
              "1495  One of the first organizations to respond to t...              flood\n",
              "1496  Production shortfalls in the wake of the droug...  flood_and_drought\n",
              "1497  The tendency to link deforestation with large ...              flood\n",
              "1498  Following the severe floods which occurred ove...              flood\n",
              "1499  BANGKOK, 24 January 2012 (NNT) - Prime Ministe...              flood\n",
              "\n",
              "[1500 rows x 2 columns]>"
            ]
          },
          "metadata": {
            "tags": []
          },
          "execution_count": 73
        }
      ]
    },
    {
      "cell_type": "code",
      "metadata": {
        "id": "Txo-m-gMVvze"
      },
      "source": [
        "clean.to_csv('processedData.csv')"
      ],
      "execution_count": 74,
      "outputs": []
    }
  ]
}