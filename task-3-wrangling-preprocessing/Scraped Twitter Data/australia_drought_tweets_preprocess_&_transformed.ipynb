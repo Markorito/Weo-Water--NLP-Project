{
  "nbformat": 4,
  "nbformat_minor": 0,
  "metadata": {
    "colab": {
      "name": "australia_drought_tweets_preprocess_&_transformed.ipynb",
      "provenance": []
    },
    "kernelspec": {
      "name": "python3",
      "display_name": "Python 3"
    },
    "language_info": {
      "name": "python"
    }
  },
  "cells": [
    {
      "cell_type": "code",
      "metadata": {
        "colab": {
          "resources": {
            "http://localhost:8080/nbextensions/google.colab/files.js": {
              "data": "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",
              "ok": true,
              "headers": [
                [
                  "content-type",
                  "application/javascript"
                ]
              ],
              "status": 200,
              "status_text": ""
            }
          },
          "base_uri": "https://localhost:8080/",
          "height": 140
        },
        "id": "U42_XmGyqQkB",
        "outputId": "a034f78e-992b-44a9-9c7b-b9bf3ecc1911"
      },
      "source": [
        "from google.colab import files\n",
        "uploaded= files.upload()"
      ],
      "execution_count": 1,
      "outputs": [
        {
          "output_type": "display_data",
          "data": {
            "text/html": [
              "\n",
              "     <input type=\"file\" id=\"files-8e97c1e9-33b3-4ae7-ac58-b6873b0f97bb\" name=\"files[]\" multiple disabled\n",
              "        style=\"border:none\" />\n",
              "     <output id=\"result-8e97c1e9-33b3-4ae7-ac58-b6873b0f97bb\">\n",
              "      Upload widget is only available when the cell has been executed in the\n",
              "      current browser session. Please rerun this cell to enable.\n",
              "      </output>\n",
              "      <script src=\"/nbextensions/google.colab/files.js\"></script> "
            ],
            "text/plain": [
              "<IPython.core.display.HTML object>"
            ]
          },
          "metadata": {
            "tags": []
          }
        },
        {
          "output_type": "stream",
          "text": [
            "Saving Australia_drought.csv to Australia_drought.csv\n",
            "Saving Argentina_drought.csv to Argentina_drought.csv\n",
            "Saving Afghanistan_drought_Labelled.csv to Afghanistan_drought_Labelled.csv\n"
          ],
          "name": "stdout"
        }
      ]
    },
    {
      "cell_type": "code",
      "metadata": {
        "colab": {
          "base_uri": "https://localhost:8080/"
        },
        "id": "_6SjmauGqT0G",
        "outputId": "0d3ce028-9d03-407a-92d6-bda5c268464e"
      },
      "source": [
        "import pandas as pd\n",
        "import numpy as np\n",
        "import csv\n",
        "from tqdm import tqdm\n",
        "import base64\n",
        "from io import BytesIO\n",
        "import requests\n",
        "import re\n",
        "import io\n",
        "import nltk\n",
        "from nltk.corpus import stopwords\n",
        "from nltk.tokenize import word_tokenize,RegexpTokenizer\n",
        "nltk.download('punkt')\n",
        "nltk.download('stopwords')"
      ],
      "execution_count": 171,
      "outputs": [
        {
          "output_type": "stream",
          "text": [
            "[nltk_data] Downloading package punkt to /root/nltk_data...\n",
            "[nltk_data]   Package punkt is already up-to-date!\n",
            "[nltk_data] Downloading package stopwords to /root/nltk_data...\n",
            "[nltk_data]   Package stopwords is already up-to-date!\n"
          ],
          "name": "stdout"
        },
        {
          "output_type": "execute_result",
          "data": {
            "text/plain": [
              "True"
            ]
          },
          "metadata": {
            "tags": []
          },
          "execution_count": 171
        }
      ]
    },
    {
      "cell_type": "code",
      "metadata": {
        "id": "TwlGdEnaqT2r"
      },
      "source": [
        "australia_drought= pd.read_csv('Australia_drought.csv')\n",
        "# argentina_drought= pd.read_csv('Argentina_drought.csv')\n",
        "# afghanistan_drought= pd.read_csv('Afghanistan_drought_Labelled.csv')"
      ],
      "execution_count": 149,
      "outputs": []
    },
    {
      "cell_type": "code",
      "metadata": {
        "colab": {
          "base_uri": "https://localhost:8080/",
          "height": 763
        },
        "id": "_iR7XSGKqT5s",
        "outputId": "105cab19-c371-45ce-d6cc-ba3f78eca04c"
      },
      "source": [
        "australia_drought.head(10)"
      ],
      "execution_count": 150,
      "outputs": [
        {
          "output_type": "execute_result",
          "data": {
            "text/html": [
              "<div>\n",
              "<style scoped>\n",
              "    .dataframe tbody tr th:only-of-type {\n",
              "        vertical-align: middle;\n",
              "    }\n",
              "\n",
              "    .dataframe tbody tr th {\n",
              "        vertical-align: top;\n",
              "    }\n",
              "\n",
              "    .dataframe thead th {\n",
              "        text-align: right;\n",
              "    }\n",
              "</style>\n",
              "<table border=\"1\" class=\"dataframe\">\n",
              "  <thead>\n",
              "    <tr style=\"text-align: right;\">\n",
              "      <th></th>\n",
              "      <th>id</th>\n",
              "      <th>conversation_id</th>\n",
              "      <th>created_at</th>\n",
              "      <th>date</th>\n",
              "      <th>time</th>\n",
              "      <th>timezone</th>\n",
              "      <th>user_id</th>\n",
              "      <th>username</th>\n",
              "      <th>name</th>\n",
              "      <th>place</th>\n",
              "      <th>tweet</th>\n",
              "      <th>category</th>\n",
              "      <th>language</th>\n",
              "      <th>mentions</th>\n",
              "      <th>urls</th>\n",
              "      <th>photos</th>\n",
              "      <th>replies_count</th>\n",
              "      <th>retweets_count</th>\n",
              "      <th>likes_count</th>\n",
              "      <th>hashtags</th>\n",
              "      <th>cashtags</th>\n",
              "      <th>link</th>\n",
              "      <th>retweet</th>\n",
              "      <th>quote_url</th>\n",
              "      <th>video</th>\n",
              "      <th>thumbnail</th>\n",
              "      <th>near</th>\n",
              "      <th>geo</th>\n",
              "      <th>source</th>\n",
              "      <th>user_rt_id</th>\n",
              "      <th>user_rt</th>\n",
              "      <th>retweet_id</th>\n",
              "      <th>reply_to</th>\n",
              "      <th>retweet_date</th>\n",
              "      <th>translate</th>\n",
              "      <th>trans_src</th>\n",
              "      <th>trans_dest</th>\n",
              "    </tr>\n",
              "  </thead>\n",
              "  <tbody>\n",
              "    <tr>\n",
              "      <th>0</th>\n",
              "      <td>1.401532e+18</td>\n",
              "      <td>1.401531e+18</td>\n",
              "      <td>2021-06-06 09:31:31 EDT</td>\n",
              "      <td>2021-06-06</td>\n",
              "      <td>09:31:31 AM</td>\n",
              "      <td>-400</td>\n",
              "      <td>1.382694e+18</td>\n",
              "      <td>aeri_zayllz1</td>\n",
              "      <td>zayll • | DROUGHT ERA🌕🎮</td>\n",
              "      <td>NaN</td>\n",
              "      <td>@horizon9soo @weareoneEXO deleted pleasee they...</td>\n",
              "      <td>none</td>\n",
              "      <td>en</td>\n",
              "      <td>[]</td>\n",
              "      <td>[]</td>\n",
              "      <td>[]</td>\n",
              "      <td>0</td>\n",
              "      <td>0</td>\n",
              "      <td>0</td>\n",
              "      <td>[]</td>\n",
              "      <td>[]</td>\n",
              "      <td>https://twitter.com/aeri_zayllz1/status/140153...</td>\n",
              "      <td>FALSE</td>\n",
              "      <td>NaN</td>\n",
              "      <td>0.0</td>\n",
              "      <td>NaN</td>\n",
              "      <td>Australia</td>\n",
              "      <td>NaN</td>\n",
              "      <td>NaN</td>\n",
              "      <td>NaN</td>\n",
              "      <td>NaN</td>\n",
              "      <td>NaN</td>\n",
              "      <td>[{'screen_name': 'horizon9soo', 'name': 'only ...</td>\n",
              "      <td>NaN</td>\n",
              "      <td>NaN</td>\n",
              "      <td>NaN</td>\n",
              "      <td>NaN</td>\n",
              "    </tr>\n",
              "    <tr>\n",
              "      <th>1</th>\n",
              "      <td>1.401532e+18</td>\n",
              "      <td>1.401529e+18</td>\n",
              "      <td>2021-06-06 09:29:01 EDT</td>\n",
              "      <td>2021-06-06</td>\n",
              "      <td>09:29:01 AM</td>\n",
              "      <td>-400</td>\n",
              "      <td>1.382694e+18</td>\n",
              "      <td>aeri_zayllz1</td>\n",
              "      <td>zayll • | DROUGHT ERA🌕🎮</td>\n",
              "      <td>NaN</td>\n",
              "      <td>@cloudmixolydian yess🤧♥️</td>\n",
              "      <td>none</td>\n",
              "      <td>en</td>\n",
              "      <td>[]</td>\n",
              "      <td>[]</td>\n",
              "      <td>[]</td>\n",
              "      <td>0</td>\n",
              "      <td>0</td>\n",
              "      <td>1</td>\n",
              "      <td>[]</td>\n",
              "      <td>[]</td>\n",
              "      <td>https://twitter.com/aeri_zayllz1/status/140153...</td>\n",
              "      <td>FALSE</td>\n",
              "      <td>NaN</td>\n",
              "      <td>0.0</td>\n",
              "      <td>NaN</td>\n",
              "      <td>Australia</td>\n",
              "      <td>NaN</td>\n",
              "      <td>NaN</td>\n",
              "      <td>NaN</td>\n",
              "      <td>NaN</td>\n",
              "      <td>NaN</td>\n",
              "      <td>[{'screen_name': 'cloudmixolydian', 'name': '☁...</td>\n",
              "      <td>NaN</td>\n",
              "      <td>NaN</td>\n",
              "      <td>NaN</td>\n",
              "      <td>NaN</td>\n",
              "    </tr>\n",
              "    <tr>\n",
              "      <th>2</th>\n",
              "      <td>1.401529e+18</td>\n",
              "      <td>1.401529e+18</td>\n",
              "      <td>2021-06-06 09:20:26 EDT</td>\n",
              "      <td>2021-06-06</td>\n",
              "      <td>09:20:26 AM</td>\n",
              "      <td>-400</td>\n",
              "      <td>1.382694e+18</td>\n",
              "      <td>aeri_zayllz1</td>\n",
              "      <td>zayll • | DROUGHT ERA🌕🎮</td>\n",
              "      <td>NaN</td>\n",
              "      <td>johnny looks like he's a senior idol to them a...</td>\n",
              "      <td>none</td>\n",
              "      <td>en</td>\n",
              "      <td>[]</td>\n",
              "      <td>[]</td>\n",
              "      <td>['https://pbs.twimg.com/media/E3M7ky7UUAEyfpx....</td>\n",
              "      <td>1</td>\n",
              "      <td>0</td>\n",
              "      <td>1</td>\n",
              "      <td>[]</td>\n",
              "      <td>[]</td>\n",
              "      <td>https://twitter.com/aeri_zayllz1/status/140152...</td>\n",
              "      <td>FALSE</td>\n",
              "      <td>https://twitter.com/cloudmixolydian/status/140...</td>\n",
              "      <td>1.0</td>\n",
              "      <td>https://pbs.twimg.com/media/E3M7ky7UUAEyfpx.jpg</td>\n",
              "      <td>Australia</td>\n",
              "      <td>NaN</td>\n",
              "      <td>NaN</td>\n",
              "      <td>NaN</td>\n",
              "      <td>NaN</td>\n",
              "      <td>NaN</td>\n",
              "      <td>[]</td>\n",
              "      <td>NaN</td>\n",
              "      <td>NaN</td>\n",
              "      <td>NaN</td>\n",
              "      <td>NaN</td>\n",
              "    </tr>\n",
              "    <tr>\n",
              "      <th>3</th>\n",
              "      <td>1.401522e+18</td>\n",
              "      <td>1.401516e+18</td>\n",
              "      <td>2021-06-06 08:52:27 EDT</td>\n",
              "      <td>2021-06-06</td>\n",
              "      <td>08:52:27 AM</td>\n",
              "      <td>-400</td>\n",
              "      <td>1.382694e+18</td>\n",
              "      <td>aeri_zayllz1</td>\n",
              "      <td>zayll • | DROUGHT ERA🌕🎮</td>\n",
              "      <td>NaN</td>\n",
              "      <td>@_waitingforyeol @aespachartsdata @aespa_offic...</td>\n",
              "      <td>none</td>\n",
              "      <td>en</td>\n",
              "      <td>[]</td>\n",
              "      <td>[]</td>\n",
              "      <td>[]</td>\n",
              "      <td>1</td>\n",
              "      <td>0</td>\n",
              "      <td>1</td>\n",
              "      <td>[]</td>\n",
              "      <td>[]</td>\n",
              "      <td>https://twitter.com/aeri_zayllz1/status/140152...</td>\n",
              "      <td>FALSE</td>\n",
              "      <td>NaN</td>\n",
              "      <td>0.0</td>\n",
              "      <td>NaN</td>\n",
              "      <td>Australia</td>\n",
              "      <td>NaN</td>\n",
              "      <td>NaN</td>\n",
              "      <td>NaN</td>\n",
              "      <td>NaN</td>\n",
              "      <td>NaN</td>\n",
              "      <td>[{'screen_name': '_waitingforyeol', 'name': 'J...</td>\n",
              "      <td>NaN</td>\n",
              "      <td>NaN</td>\n",
              "      <td>NaN</td>\n",
              "      <td>NaN</td>\n",
              "    </tr>\n",
              "    <tr>\n",
              "      <th>4</th>\n",
              "      <td>1.401522e+18</td>\n",
              "      <td>1.401516e+18</td>\n",
              "      <td>2021-06-06 08:51:14 EDT</td>\n",
              "      <td>2021-06-06</td>\n",
              "      <td>08:51:14 AM</td>\n",
              "      <td>-400</td>\n",
              "      <td>1.382694e+18</td>\n",
              "      <td>aeri_zayllz1</td>\n",
              "      <td>zayll • | DROUGHT ERA🌕🎮</td>\n",
              "      <td>NaN</td>\n",
              "      <td>@_waitingforyeol @aespachartsdata @aespa_offic...</td>\n",
              "      <td>none</td>\n",
              "      <td>en</td>\n",
              "      <td>[]</td>\n",
              "      <td>[]</td>\n",
              "      <td>[]</td>\n",
              "      <td>1</td>\n",
              "      <td>0</td>\n",
              "      <td>2</td>\n",
              "      <td>[]</td>\n",
              "      <td>[]</td>\n",
              "      <td>https://twitter.com/aeri_zayllz1/status/140152...</td>\n",
              "      <td>FALSE</td>\n",
              "      <td>NaN</td>\n",
              "      <td>0.0</td>\n",
              "      <td>NaN</td>\n",
              "      <td>Australia</td>\n",
              "      <td>NaN</td>\n",
              "      <td>NaN</td>\n",
              "      <td>NaN</td>\n",
              "      <td>NaN</td>\n",
              "      <td>NaN</td>\n",
              "      <td>[{'screen_name': '_waitingforyeol', 'name': 'J...</td>\n",
              "      <td>NaN</td>\n",
              "      <td>NaN</td>\n",
              "      <td>NaN</td>\n",
              "      <td>NaN</td>\n",
              "    </tr>\n",
              "    <tr>\n",
              "      <th>5</th>\n",
              "      <td>1.401521e+18</td>\n",
              "      <td>1.401521e+18</td>\n",
              "      <td>2021-06-06 08:47:13 EDT</td>\n",
              "      <td>2021-06-06</td>\n",
              "      <td>08:47:13 AM</td>\n",
              "      <td>-400</td>\n",
              "      <td>1.382694e+18</td>\n",
              "      <td>aeri_zayllz1</td>\n",
              "      <td>zayll • | DROUGHT ERA🌕🎮</td>\n",
              "      <td>NaN</td>\n",
              "      <td>15 likes I won’t take a bath tomorrow</td>\n",
              "      <td>none</td>\n",
              "      <td>en</td>\n",
              "      <td>[]</td>\n",
              "      <td>[]</td>\n",
              "      <td>[]</td>\n",
              "      <td>0</td>\n",
              "      <td>0</td>\n",
              "      <td>1</td>\n",
              "      <td>[]</td>\n",
              "      <td>[]</td>\n",
              "      <td>https://twitter.com/aeri_zayllz1/status/140152...</td>\n",
              "      <td>FALSE</td>\n",
              "      <td>NaN</td>\n",
              "      <td>0.0</td>\n",
              "      <td>NaN</td>\n",
              "      <td>Australia</td>\n",
              "      <td>NaN</td>\n",
              "      <td>NaN</td>\n",
              "      <td>NaN</td>\n",
              "      <td>NaN</td>\n",
              "      <td>NaN</td>\n",
              "      <td>[]</td>\n",
              "      <td>NaN</td>\n",
              "      <td>NaN</td>\n",
              "      <td>NaN</td>\n",
              "      <td>NaN</td>\n",
              "    </tr>\n",
              "    <tr>\n",
              "      <th>6</th>\n",
              "      <td>1.401518e+18</td>\n",
              "      <td>1.401518e+18</td>\n",
              "      <td>2021-06-06 08:36:49 EDT</td>\n",
              "      <td>2021-06-06</td>\n",
              "      <td>08:36:49 AM</td>\n",
              "      <td>-400</td>\n",
              "      <td>1.382694e+18</td>\n",
              "      <td>aeri_zayllz1</td>\n",
              "      <td>zayll • | DROUGHT ERA🌕🎮</td>\n",
              "      <td>NaN</td>\n",
              "      <td>@idalsoz @ncitystruggles lmao😆</td>\n",
              "      <td>none</td>\n",
              "      <td>ht</td>\n",
              "      <td>[]</td>\n",
              "      <td>[]</td>\n",
              "      <td>[]</td>\n",
              "      <td>0</td>\n",
              "      <td>0</td>\n",
              "      <td>1</td>\n",
              "      <td>[]</td>\n",
              "      <td>[]</td>\n",
              "      <td>https://twitter.com/aeri_zayllz1/status/140151...</td>\n",
              "      <td>FALSE</td>\n",
              "      <td>NaN</td>\n",
              "      <td>0.0</td>\n",
              "      <td>NaN</td>\n",
              "      <td>Australia</td>\n",
              "      <td>NaN</td>\n",
              "      <td>NaN</td>\n",
              "      <td>NaN</td>\n",
              "      <td>NaN</td>\n",
              "      <td>NaN</td>\n",
              "      <td>[{'screen_name': 'idalsoz', 'name': 'ًHAECHAN ...</td>\n",
              "      <td>NaN</td>\n",
              "      <td>NaN</td>\n",
              "      <td>NaN</td>\n",
              "      <td>NaN</td>\n",
              "    </tr>\n",
              "    <tr>\n",
              "      <th>7</th>\n",
              "      <td>1.401516e+18</td>\n",
              "      <td>1.401509e+18</td>\n",
              "      <td>2021-06-06 08:28:44 EDT</td>\n",
              "      <td>2021-06-06</td>\n",
              "      <td>08:28:44 AM</td>\n",
              "      <td>-400</td>\n",
              "      <td>1.382694e+18</td>\n",
              "      <td>aeri_zayllz1</td>\n",
              "      <td>zayll • | DROUGHT ERA🌕🎮</td>\n",
              "      <td>NaN</td>\n",
              "      <td>@AESPAIntl @aespa_official  https://t.co/Sn099...</td>\n",
              "      <td>NaN</td>\n",
              "      <td>und</td>\n",
              "      <td>[]</td>\n",
              "      <td>[]</td>\n",
              "      <td>['https://pbs.twimg.com/media/E3MvvRCVEAIRCvv....</td>\n",
              "      <td>0</td>\n",
              "      <td>0</td>\n",
              "      <td>0</td>\n",
              "      <td>[]</td>\n",
              "      <td>[]</td>\n",
              "      <td>https://twitter.com/aeri_zayllz1/status/140151...</td>\n",
              "      <td>FALSE</td>\n",
              "      <td>NaN</td>\n",
              "      <td>1.0</td>\n",
              "      <td>https://pbs.twimg.com/media/E3MvvRCVEAIRCvv.jpg</td>\n",
              "      <td>Australia</td>\n",
              "      <td>NaN</td>\n",
              "      <td>NaN</td>\n",
              "      <td>NaN</td>\n",
              "      <td>NaN</td>\n",
              "      <td>NaN</td>\n",
              "      <td>[{'screen_name': 'AESPAIntl', 'name': 'AESPA I...</td>\n",
              "      <td>NaN</td>\n",
              "      <td>NaN</td>\n",
              "      <td>NaN</td>\n",
              "      <td>NaN</td>\n",
              "    </tr>\n",
              "    <tr>\n",
              "      <th>8</th>\n",
              "      <td>1.401497e+18</td>\n",
              "      <td>1.401497e+18</td>\n",
              "      <td>2021-06-06 07:09:40 EDT</td>\n",
              "      <td>2021-06-06</td>\n",
              "      <td>07:09:40 AM</td>\n",
              "      <td>-400</td>\n",
              "      <td>1.382694e+18</td>\n",
              "      <td>aeri_zayllz1</td>\n",
              "      <td>zayll • | DROUGHT ERA🌕🎮</td>\n",
              "      <td>NaN</td>\n",
              "      <td>me when i can't dance to both of it</td>\n",
              "      <td>none</td>\n",
              "      <td>en</td>\n",
              "      <td>[]</td>\n",
              "      <td>[]</td>\n",
              "      <td>[]</td>\n",
              "      <td>0</td>\n",
              "      <td>0</td>\n",
              "      <td>0</td>\n",
              "      <td>[]</td>\n",
              "      <td>[]</td>\n",
              "      <td>https://twitter.com/aeri_zayllz1/status/140149...</td>\n",
              "      <td>FALSE</td>\n",
              "      <td>https://twitter.com/vaInetine/status/140131683...</td>\n",
              "      <td>0.0</td>\n",
              "      <td>NaN</td>\n",
              "      <td>Australia</td>\n",
              "      <td>NaN</td>\n",
              "      <td>NaN</td>\n",
              "      <td>NaN</td>\n",
              "      <td>NaN</td>\n",
              "      <td>NaN</td>\n",
              "      <td>[]</td>\n",
              "      <td>NaN</td>\n",
              "      <td>NaN</td>\n",
              "      <td>NaN</td>\n",
              "      <td>NaN</td>\n",
              "    </tr>\n",
              "    <tr>\n",
              "      <th>9</th>\n",
              "      <td>1.401495e+18</td>\n",
              "      <td>1.401495e+18</td>\n",
              "      <td>2021-06-06 07:04:54 EDT</td>\n",
              "      <td>2021-06-06</td>\n",
              "      <td>07:04:54 AM</td>\n",
              "      <td>-400</td>\n",
              "      <td>1.382694e+18</td>\n",
              "      <td>aeri_zayllz1</td>\n",
              "      <td>zayll • | DROUGHT ERA🌕🎮</td>\n",
              "      <td>NaN</td>\n",
              "      <td>SM when giselle joined the company as the fina...</td>\n",
              "      <td>none</td>\n",
              "      <td>en</td>\n",
              "      <td>[]</td>\n",
              "      <td>[]</td>\n",
              "      <td>['https://pbs.twimg.com/media/E3McjQhUcAEl2_m....</td>\n",
              "      <td>0</td>\n",
              "      <td>0</td>\n",
              "      <td>8</td>\n",
              "      <td>[]</td>\n",
              "      <td>[]</td>\n",
              "      <td>https://twitter.com/aeri_zayllz1/status/140149...</td>\n",
              "      <td>FALSE</td>\n",
              "      <td>NaN</td>\n",
              "      <td>1.0</td>\n",
              "      <td>https://pbs.twimg.com/media/E3McjQhUcAEl2_m.jpg</td>\n",
              "      <td>Australia</td>\n",
              "      <td>NaN</td>\n",
              "      <td>NaN</td>\n",
              "      <td>NaN</td>\n",
              "      <td>NaN</td>\n",
              "      <td>NaN</td>\n",
              "      <td>[]</td>\n",
              "      <td>NaN</td>\n",
              "      <td>NaN</td>\n",
              "      <td>NaN</td>\n",
              "      <td>NaN</td>\n",
              "    </tr>\n",
              "  </tbody>\n",
              "</table>\n",
              "</div>"
            ],
            "text/plain": [
              "             id  conversation_id  ... trans_src trans_dest\n",
              "0  1.401532e+18     1.401531e+18  ...       NaN        NaN\n",
              "1  1.401532e+18     1.401529e+18  ...       NaN        NaN\n",
              "2  1.401529e+18     1.401529e+18  ...       NaN        NaN\n",
              "3  1.401522e+18     1.401516e+18  ...       NaN        NaN\n",
              "4  1.401522e+18     1.401516e+18  ...       NaN        NaN\n",
              "5  1.401521e+18     1.401521e+18  ...       NaN        NaN\n",
              "6  1.401518e+18     1.401518e+18  ...       NaN        NaN\n",
              "7  1.401516e+18     1.401509e+18  ...       NaN        NaN\n",
              "8  1.401497e+18     1.401497e+18  ...       NaN        NaN\n",
              "9  1.401495e+18     1.401495e+18  ...       NaN        NaN\n",
              "\n",
              "[10 rows x 37 columns]"
            ]
          },
          "metadata": {
            "tags": []
          },
          "execution_count": 150
        }
      ]
    },
    {
      "cell_type": "code",
      "metadata": {
        "colab": {
          "base_uri": "https://localhost:8080/"
        },
        "id": "q2Znkr4lqT8w",
        "outputId": "ded368fc-1a9a-4278-baac-678e0c569ede"
      },
      "source": [
        "australia_drought.columns"
      ],
      "execution_count": 151,
      "outputs": [
        {
          "output_type": "execute_result",
          "data": {
            "text/plain": [
              "Index(['id', 'conversation_id', 'created_at', 'date', 'time', 'timezone',\n",
              "       'user_id', 'username', 'name', 'place', 'tweet', 'category', 'language',\n",
              "       'mentions', 'urls', 'photos', 'replies_count', 'retweets_count',\n",
              "       'likes_count', 'hashtags', 'cashtags', 'link', 'retweet', 'quote_url',\n",
              "       'video', 'thumbnail', 'near', 'geo', 'source', 'user_rt_id', 'user_rt',\n",
              "       'retweet_id', 'reply_to', 'retweet_date', 'translate', 'trans_src',\n",
              "       'trans_dest'],\n",
              "      dtype='object')"
            ]
          },
          "metadata": {
            "tags": []
          },
          "execution_count": 151
        }
      ]
    },
    {
      "cell_type": "code",
      "metadata": {
        "id": "h5ViTZcVqUAF"
      },
      "source": [
        "#Removing unwanted columns\n",
        "australia_drought= australia_drought.drop(['conversation_id', 'created_at','timezone','user_id', 'username', 'name','place','mentions', \n",
        "                                           'urls','replies_count', 'retweets_count','likes_count','cashtags', 'retweet', 'quote_url',\n",
        "                                           'video', 'thumbnail','geo','user_rt_id', 'user_rt','retweet_id', 'reply_to', 'retweet_date', \n",
        "                                           'translate', 'trans_src','trans_dest','source'],axis=1)"
      ],
      "execution_count": 152,
      "outputs": []
    },
    {
      "cell_type": "code",
      "metadata": {
        "colab": {
          "base_uri": "https://localhost:8080/"
        },
        "id": "E7qEzPBYtbsK",
        "outputId": "f8b8e266-1849-444f-a950-5babdedee6a8"
      },
      "source": [
        "australia_drought.columns"
      ],
      "execution_count": 153,
      "outputs": [
        {
          "output_type": "execute_result",
          "data": {
            "text/plain": [
              "Index(['id', 'date', 'time', 'tweet', 'category', 'language', 'photos',\n",
              "       'hashtags', 'link', 'near'],\n",
              "      dtype='object')"
            ]
          },
          "metadata": {
            "tags": []
          },
          "execution_count": 153
        }
      ]
    },
    {
      "cell_type": "code",
      "metadata": {
        "id": "cv-KxQMxtoaY"
      },
      "source": [
        "#rename the column names\n",
        "australia_drought.rename(columns={'id':'Id','link':'source URL','near':'country','hashtags':'keywords'},inplace=True)"
      ],
      "execution_count": 154,
      "outputs": []
    },
    {
      "cell_type": "code",
      "metadata": {
        "id": "0w97oKkvEUC9"
      },
      "source": [
        "#merge tweet and photos column and drop tweet and photos link seperate column\n",
        "australia_drought['body']= australia_drought['tweet']+australia_drought['photos']\n",
        "australia_drought= australia_drought.drop(['tweet','photos'],axis=1)"
      ],
      "execution_count": 155,
      "outputs": []
    },
    {
      "cell_type": "code",
      "metadata": {
        "id": "QwBfD19NFHbI"
      },
      "source": [
        "#merge data and time column \n",
        "australia_drought['time']= australia_drought['date']+' '+australia_drought['time']\n",
        "australia_drought= australia_drought.drop(['date'],axis=1)"
      ],
      "execution_count": 156,
      "outputs": []
    },
    {
      "cell_type": "code",
      "metadata": {
        "id": "eiWnoqFdxP9t"
      },
      "source": [
        "#added data source column\n",
        "australia_drought['data source']= 'Twitter'"
      ],
      "execution_count": 157,
      "outputs": []
    },
    {
      "cell_type": "code",
      "metadata": {
        "id": "gsUKayMgFXte"
      },
      "source": [
        "australia_drought['time']= pd.to_datetime(australia_drought['time'], errors='coerce',utc=True)\n",
        "australia_drought['Id']= australia_drought['Id'].astype(object)"
      ],
      "execution_count": 158,
      "outputs": []
    },
    {
      "cell_type": "code",
      "metadata": {
        "colab": {
          "base_uri": "https://localhost:8080/",
          "height": 203
        },
        "id": "d2rC0U5QtogN",
        "outputId": "a19cfb3e-9064-4dde-f0e9-64622cd8078c"
      },
      "source": [
        "australia_drought.head(5)"
      ],
      "execution_count": 159,
      "outputs": [
        {
          "output_type": "execute_result",
          "data": {
            "text/html": [
              "<div>\n",
              "<style scoped>\n",
              "    .dataframe tbody tr th:only-of-type {\n",
              "        vertical-align: middle;\n",
              "    }\n",
              "\n",
              "    .dataframe tbody tr th {\n",
              "        vertical-align: top;\n",
              "    }\n",
              "\n",
              "    .dataframe thead th {\n",
              "        text-align: right;\n",
              "    }\n",
              "</style>\n",
              "<table border=\"1\" class=\"dataframe\">\n",
              "  <thead>\n",
              "    <tr style=\"text-align: right;\">\n",
              "      <th></th>\n",
              "      <th>Id</th>\n",
              "      <th>time</th>\n",
              "      <th>category</th>\n",
              "      <th>language</th>\n",
              "      <th>keywords</th>\n",
              "      <th>source URL</th>\n",
              "      <th>country</th>\n",
              "      <th>body</th>\n",
              "      <th>data source</th>\n",
              "    </tr>\n",
              "  </thead>\n",
              "  <tbody>\n",
              "    <tr>\n",
              "      <th>0</th>\n",
              "      <td>1.40153e+18</td>\n",
              "      <td>2021-06-06 09:31:31+00:00</td>\n",
              "      <td>none</td>\n",
              "      <td>en</td>\n",
              "      <td>[]</td>\n",
              "      <td>https://twitter.com/aeri_zayllz1/status/140153...</td>\n",
              "      <td>Australia</td>\n",
              "      <td>@horizon9soo @weareoneEXO deleted pleasee they...</td>\n",
              "      <td>Twitter</td>\n",
              "    </tr>\n",
              "    <tr>\n",
              "      <th>1</th>\n",
              "      <td>1.40153e+18</td>\n",
              "      <td>2021-06-06 09:29:01+00:00</td>\n",
              "      <td>none</td>\n",
              "      <td>en</td>\n",
              "      <td>[]</td>\n",
              "      <td>https://twitter.com/aeri_zayllz1/status/140153...</td>\n",
              "      <td>Australia</td>\n",
              "      <td>@cloudmixolydian yess🤧♥️[]</td>\n",
              "      <td>Twitter</td>\n",
              "    </tr>\n",
              "    <tr>\n",
              "      <th>2</th>\n",
              "      <td>1.40153e+18</td>\n",
              "      <td>2021-06-06 09:20:26+00:00</td>\n",
              "      <td>none</td>\n",
              "      <td>en</td>\n",
              "      <td>[]</td>\n",
              "      <td>https://twitter.com/aeri_zayllz1/status/140152...</td>\n",
              "      <td>Australia</td>\n",
              "      <td>johnny looks like he's a senior idol to them a...</td>\n",
              "      <td>Twitter</td>\n",
              "    </tr>\n",
              "    <tr>\n",
              "      <th>3</th>\n",
              "      <td>1.40152e+18</td>\n",
              "      <td>2021-06-06 08:52:27+00:00</td>\n",
              "      <td>none</td>\n",
              "      <td>en</td>\n",
              "      <td>[]</td>\n",
              "      <td>https://twitter.com/aeri_zayllz1/status/140152...</td>\n",
              "      <td>Australia</td>\n",
              "      <td>@_waitingforyeol @aespachartsdata @aespa_offic...</td>\n",
              "      <td>Twitter</td>\n",
              "    </tr>\n",
              "    <tr>\n",
              "      <th>4</th>\n",
              "      <td>1.40152e+18</td>\n",
              "      <td>2021-06-06 08:51:14+00:00</td>\n",
              "      <td>none</td>\n",
              "      <td>en</td>\n",
              "      <td>[]</td>\n",
              "      <td>https://twitter.com/aeri_zayllz1/status/140152...</td>\n",
              "      <td>Australia</td>\n",
              "      <td>@_waitingforyeol @aespachartsdata @aespa_offic...</td>\n",
              "      <td>Twitter</td>\n",
              "    </tr>\n",
              "  </tbody>\n",
              "</table>\n",
              "</div>"
            ],
            "text/plain": [
              "            Id  ... data source\n",
              "0  1.40153e+18  ...     Twitter\n",
              "1  1.40153e+18  ...     Twitter\n",
              "2  1.40153e+18  ...     Twitter\n",
              "3  1.40152e+18  ...     Twitter\n",
              "4  1.40152e+18  ...     Twitter\n",
              "\n",
              "[5 rows x 9 columns]"
            ]
          },
          "metadata": {
            "tags": []
          },
          "execution_count": 159
        }
      ]
    },
    {
      "cell_type": "code",
      "metadata": {
        "colab": {
          "base_uri": "https://localhost:8080/"
        },
        "id": "x80cCj--u8o9",
        "outputId": "254af7ba-d1e1-43e4-f665-38c2604dfb36"
      },
      "source": [
        "australia_drought.shape"
      ],
      "execution_count": 160,
      "outputs": [
        {
          "output_type": "execute_result",
          "data": {
            "text/plain": [
              "(158, 9)"
            ]
          },
          "metadata": {
            "tags": []
          },
          "execution_count": 160
        }
      ]
    },
    {
      "cell_type": "code",
      "metadata": {
        "id": "CLF-CH840MQD"
      },
      "source": [
        "#filter the column whose language is not english\n",
        "australia_drought = australia_drought.loc[australia_drought['language'] =='en']"
      ],
      "execution_count": 161,
      "outputs": []
    },
    {
      "cell_type": "code",
      "metadata": {
        "colab": {
          "base_uri": "https://localhost:8080/"
        },
        "id": "Zbg1qR-ctfYc",
        "outputId": "9954fae8-d65a-4e8e-e948-500407b3bda8"
      },
      "source": [
        "australia_drought.shape"
      ],
      "execution_count": 162,
      "outputs": [
        {
          "output_type": "execute_result",
          "data": {
            "text/plain": [
              "(147, 9)"
            ]
          },
          "metadata": {
            "tags": []
          },
          "execution_count": 162
        }
      ]
    },
    {
      "cell_type": "code",
      "metadata": {
        "colab": {
          "base_uri": "https://localhost:8080/"
        },
        "id": "2HIF7Ttix9bx",
        "outputId": "ae868143-a20e-453e-fed4-dba29b7c721c"
      },
      "source": [
        "australia_drought.info()"
      ],
      "execution_count": 163,
      "outputs": [
        {
          "output_type": "stream",
          "text": [
            "<class 'pandas.core.frame.DataFrame'>\n",
            "Int64Index: 147 entries, 0 to 157\n",
            "Data columns (total 9 columns):\n",
            " #   Column       Non-Null Count  Dtype              \n",
            "---  ------       --------------  -----              \n",
            " 0   Id           147 non-null    object             \n",
            " 1   time         147 non-null    datetime64[ns, UTC]\n",
            " 2   category     146 non-null    object             \n",
            " 3   language     147 non-null    object             \n",
            " 4   keywords     147 non-null    object             \n",
            " 5   source URL   147 non-null    object             \n",
            " 6   country      147 non-null    object             \n",
            " 7   body         147 non-null    object             \n",
            " 8   data source  147 non-null    object             \n",
            "dtypes: datetime64[ns, UTC](1), object(8)\n",
            "memory usage: 11.5+ KB\n"
          ],
          "name": "stdout"
        }
      ]
    },
    {
      "cell_type": "code",
      "metadata": {
        "id": "rGLV__hw0jOr"
      },
      "source": [
        "australia_drought.dropna(inplace=True)"
      ],
      "execution_count": 164,
      "outputs": []
    },
    {
      "cell_type": "code",
      "metadata": {
        "colab": {
          "base_uri": "https://localhost:8080/"
        },
        "id": "f9W4iCFs1HnO",
        "outputId": "15fd9905-ff92-4fea-bca8-35e38c88c2a0"
      },
      "source": [
        "australia_drought.info()"
      ],
      "execution_count": 165,
      "outputs": [
        {
          "output_type": "stream",
          "text": [
            "<class 'pandas.core.frame.DataFrame'>\n",
            "Int64Index: 146 entries, 0 to 157\n",
            "Data columns (total 9 columns):\n",
            " #   Column       Non-Null Count  Dtype              \n",
            "---  ------       --------------  -----              \n",
            " 0   Id           146 non-null    object             \n",
            " 1   time         146 non-null    datetime64[ns, UTC]\n",
            " 2   category     146 non-null    object             \n",
            " 3   language     146 non-null    object             \n",
            " 4   keywords     146 non-null    object             \n",
            " 5   source URL   146 non-null    object             \n",
            " 6   country      146 non-null    object             \n",
            " 7   body         146 non-null    object             \n",
            " 8   data source  146 non-null    object             \n",
            "dtypes: datetime64[ns, UTC](1), object(8)\n",
            "memory usage: 11.4+ KB\n"
          ],
          "name": "stdout"
        }
      ]
    },
    {
      "cell_type": "code",
      "metadata": {
        "id": "a7G-n99c1N4b"
      },
      "source": [
        "australia_drought['title']=''"
      ],
      "execution_count": 166,
      "outputs": []
    },
    {
      "cell_type": "code",
      "metadata": {
        "id": "vf_40POM1N7V"
      },
      "source": [
        "australia_drought= australia_drought[['Id','title','time','keywords','data source','category','country','source URL','body','language']]"
      ],
      "execution_count": 167,
      "outputs": []
    },
    {
      "cell_type": "code",
      "metadata": {
        "colab": {
          "base_uri": "https://localhost:8080/",
          "height": 265
        },
        "id": "a2VB_tkn1OAr",
        "outputId": "9a9245cd-a640-4c9e-ddbc-d69767844b84"
      },
      "source": [
        "australia_drought.head(7)"
      ],
      "execution_count": 168,
      "outputs": [
        {
          "output_type": "execute_result",
          "data": {
            "text/html": [
              "<div>\n",
              "<style scoped>\n",
              "    .dataframe tbody tr th:only-of-type {\n",
              "        vertical-align: middle;\n",
              "    }\n",
              "\n",
              "    .dataframe tbody tr th {\n",
              "        vertical-align: top;\n",
              "    }\n",
              "\n",
              "    .dataframe thead th {\n",
              "        text-align: right;\n",
              "    }\n",
              "</style>\n",
              "<table border=\"1\" class=\"dataframe\">\n",
              "  <thead>\n",
              "    <tr style=\"text-align: right;\">\n",
              "      <th></th>\n",
              "      <th>Id</th>\n",
              "      <th>title</th>\n",
              "      <th>time</th>\n",
              "      <th>keywords</th>\n",
              "      <th>data source</th>\n",
              "      <th>category</th>\n",
              "      <th>country</th>\n",
              "      <th>source URL</th>\n",
              "      <th>body</th>\n",
              "      <th>language</th>\n",
              "    </tr>\n",
              "  </thead>\n",
              "  <tbody>\n",
              "    <tr>\n",
              "      <th>0</th>\n",
              "      <td>1.40153e+18</td>\n",
              "      <td></td>\n",
              "      <td>2021-06-06 09:31:31+00:00</td>\n",
              "      <td>[]</td>\n",
              "      <td>Twitter</td>\n",
              "      <td>none</td>\n",
              "      <td>Australia</td>\n",
              "      <td>https://twitter.com/aeri_zayllz1/status/140153...</td>\n",
              "      <td>@horizon9soo @weareoneEXO deleted pleasee they...</td>\n",
              "      <td>en</td>\n",
              "    </tr>\n",
              "    <tr>\n",
              "      <th>1</th>\n",
              "      <td>1.40153e+18</td>\n",
              "      <td></td>\n",
              "      <td>2021-06-06 09:29:01+00:00</td>\n",
              "      <td>[]</td>\n",
              "      <td>Twitter</td>\n",
              "      <td>none</td>\n",
              "      <td>Australia</td>\n",
              "      <td>https://twitter.com/aeri_zayllz1/status/140153...</td>\n",
              "      <td>@cloudmixolydian yess🤧♥️[]</td>\n",
              "      <td>en</td>\n",
              "    </tr>\n",
              "    <tr>\n",
              "      <th>2</th>\n",
              "      <td>1.40153e+18</td>\n",
              "      <td></td>\n",
              "      <td>2021-06-06 09:20:26+00:00</td>\n",
              "      <td>[]</td>\n",
              "      <td>Twitter</td>\n",
              "      <td>none</td>\n",
              "      <td>Australia</td>\n",
              "      <td>https://twitter.com/aeri_zayllz1/status/140152...</td>\n",
              "      <td>johnny looks like he's a senior idol to them a...</td>\n",
              "      <td>en</td>\n",
              "    </tr>\n",
              "    <tr>\n",
              "      <th>3</th>\n",
              "      <td>1.40152e+18</td>\n",
              "      <td></td>\n",
              "      <td>2021-06-06 08:52:27+00:00</td>\n",
              "      <td>[]</td>\n",
              "      <td>Twitter</td>\n",
              "      <td>none</td>\n",
              "      <td>Australia</td>\n",
              "      <td>https://twitter.com/aeri_zayllz1/status/140152...</td>\n",
              "      <td>@_waitingforyeol @aespachartsdata @aespa_offic...</td>\n",
              "      <td>en</td>\n",
              "    </tr>\n",
              "    <tr>\n",
              "      <th>4</th>\n",
              "      <td>1.40152e+18</td>\n",
              "      <td></td>\n",
              "      <td>2021-06-06 08:51:14+00:00</td>\n",
              "      <td>[]</td>\n",
              "      <td>Twitter</td>\n",
              "      <td>none</td>\n",
              "      <td>Australia</td>\n",
              "      <td>https://twitter.com/aeri_zayllz1/status/140152...</td>\n",
              "      <td>@_waitingforyeol @aespachartsdata @aespa_offic...</td>\n",
              "      <td>en</td>\n",
              "    </tr>\n",
              "    <tr>\n",
              "      <th>5</th>\n",
              "      <td>1.40152e+18</td>\n",
              "      <td></td>\n",
              "      <td>2021-06-06 08:47:13+00:00</td>\n",
              "      <td>[]</td>\n",
              "      <td>Twitter</td>\n",
              "      <td>none</td>\n",
              "      <td>Australia</td>\n",
              "      <td>https://twitter.com/aeri_zayllz1/status/140152...</td>\n",
              "      <td>15 likes I won’t take a bath tomorrow[]</td>\n",
              "      <td>en</td>\n",
              "    </tr>\n",
              "    <tr>\n",
              "      <th>8</th>\n",
              "      <td>1.4015e+18</td>\n",
              "      <td></td>\n",
              "      <td>2021-06-06 07:09:40+00:00</td>\n",
              "      <td>[]</td>\n",
              "      <td>Twitter</td>\n",
              "      <td>none</td>\n",
              "      <td>Australia</td>\n",
              "      <td>https://twitter.com/aeri_zayllz1/status/140149...</td>\n",
              "      <td>me when i can't dance to both of it[]</td>\n",
              "      <td>en</td>\n",
              "    </tr>\n",
              "  </tbody>\n",
              "</table>\n",
              "</div>"
            ],
            "text/plain": [
              "            Id  ... language\n",
              "0  1.40153e+18  ...       en\n",
              "1  1.40153e+18  ...       en\n",
              "2  1.40153e+18  ...       en\n",
              "3  1.40152e+18  ...       en\n",
              "4  1.40152e+18  ...       en\n",
              "5  1.40152e+18  ...       en\n",
              "8   1.4015e+18  ...       en\n",
              "\n",
              "[7 rows x 10 columns]"
            ]
          },
          "metadata": {
            "tags": []
          },
          "execution_count": 168
        }
      ]
    },
    {
      "cell_type": "markdown",
      "metadata": {
        "id": "d57q7NRW3Tzu"
      },
      "source": [
        "**preprocess body(tweets)= removed 'https' links and username defined by @, as links are not useful**\n"
      ]
    },
    {
      "cell_type": "code",
      "metadata": {
        "id": "QpnolnVA1ODZ"
      },
      "source": [
        "def cleaned_data(text):\n",
        "    clean=re.sub(\"http\\S+\",\"\",text)\n",
        "    clean = clean.lower()\n",
        "    clean=re.sub(\"@\\S+\",\"\",clean)\n",
        "    clean = re.sub('#', ' ', clean)\n",
        "    clean = re.sub('&amp', ' ', clean)\n",
        "    # clean = re.sub(':', ' ', clean)\n",
        "    clean = re.sub('/', ' ', clean)\n",
        "    clean = re.sub(r'\\?{2,}', '?', clean)\n",
        "    clean = re.sub(r'\\!{2,}', '!', clean)\n",
        "    clean = re.sub(r'\\.{2,}', '.', clean)\n",
        "    clean = re.sub('\\[', '', clean)\n",
        "    clean = re.sub('\\]', '', clean)\n",
        "    clean = re.sub(';', '', clean)\n",
        "    clean = re.sub(r'[(]', ' ', clean)\n",
        "    clean = re.sub(r'[)]', ' ', clean)\n",
        "    clean = re.sub(r'@', ' ', clean)\n",
        "    # clean = re.sub(r'/*', ' ', clean)\n",
        "    clean = re.sub('-', ' ', clean)\n",
        "    # clean = re.sub(r'([a-z])\\1+', r'\\1', clean)  # this is for bring character to once if it is repeating more than once\n",
        "    # clean = re.sub('flod', 'flood', clean)\n",
        "    # clean = re.sub('floding', 'flooding', clean)\n",
        "    clean=re.sub('\"',\" \",clean)\n",
        "    clean=re.sub(\"\\s{2,}\",\" \",clean)\n",
        "    clean=clean.strip()\n",
        "    # clean = TextBlob(clean).correct()\n",
        "    return clean"
      ],
      "execution_count": 181,
      "outputs": []
    },
    {
      "cell_type": "code",
      "metadata": {
        "id": "8enAtzQ51OFx"
      },
      "source": [
        "australia_drought['cleaned body'] = australia_drought['body'].apply(cleaned_data)"
      ],
      "execution_count": 182,
      "outputs": []
    },
    {
      "cell_type": "code",
      "metadata": {
        "colab": {
          "base_uri": "https://localhost:8080/"
        },
        "id": "FmZ58b2h93Ay",
        "outputId": "a90485f3-5c7a-4bca-84fb-deb87a52ac91"
      },
      "source": [
        "!pip install contractions"
      ],
      "execution_count": 183,
      "outputs": [
        {
          "output_type": "stream",
          "text": [
            "Requirement already satisfied: contractions in /usr/local/lib/python3.7/dist-packages (0.0.52)\n",
            "Requirement already satisfied: textsearch>=0.0.21 in /usr/local/lib/python3.7/dist-packages (from contractions) (0.0.21)\n",
            "Requirement already satisfied: pyahocorasick in /usr/local/lib/python3.7/dist-packages (from textsearch>=0.0.21->contractions) (1.4.2)\n",
            "Requirement already satisfied: anyascii in /usr/local/lib/python3.7/dist-packages (from textsearch>=0.0.21->contractions) (0.2.0)\n"
          ],
          "name": "stdout"
        }
      ]
    },
    {
      "cell_type": "code",
      "metadata": {
        "id": "ozmWthaE-FAQ"
      },
      "source": [
        "import contractions"
      ],
      "execution_count": 184,
      "outputs": []
    },
    {
      "cell_type": "code",
      "metadata": {
        "id": "VAn-NrDm-mHn"
      },
      "source": [
        "def expanded(text):\n",
        "    expanded_words = []    \n",
        "    try:\n",
        "      for word in text.split():\n",
        "        expanded_words.append(contractions.fix(word))\n",
        "    except Exception:\n",
        "      pass         \n",
        "    expanded_text = ' '.join(expanded_words)\n",
        "    return expanded_text"
      ],
      "execution_count": 185,
      "outputs": []
    },
    {
      "cell_type": "code",
      "metadata": {
        "id": "nI4CdH3F2u_s"
      },
      "source": [
        "australia_drought['cleaned body'] = australia_drought['cleaned body'].apply(expanded)"
      ],
      "execution_count": 189,
      "outputs": []
    },
    {
      "cell_type": "code",
      "metadata": {
        "id": "EGXRuIuh5Eep"
      },
      "source": [
        "def remove_emojis(data):\n",
        "    emoj = re.compile(\"[\"\n",
        "        u\"\\U0001F600-\\U0001F64F\"  # emoticons\n",
        "        u\"\\U0001F300-\\U0001F5FF\"  # symbols & pictographs\n",
        "        u\"\\U0001F680-\\U0001F6FF\"  # transport & map symbols\n",
        "        u\"\\U0001F1E0-\\U0001F1FF\"  # flags (iOS)\n",
        "        u\"\\U00002500-\\U00002BEF\"  # chinese char\n",
        "        u\"\\U00002702-\\U000027B0\"\n",
        "        u\"\\U00002702-\\U000027B0\"\n",
        "        u\"\\U000024C2-\\U0001F251\"\n",
        "        u\"\\U0001f926-\\U0001f937\"\n",
        "        u\"\\U00010000-\\U0010ffff\"\n",
        "        u\"\\u2640-\\u2642\" \n",
        "        u\"\\u2600-\\u2B55\"\n",
        "        u\"\\u200d\"\n",
        "        u\"\\u23cf\"\n",
        "        u\"\\u23e9\"\n",
        "        u\"\\u231a\"\n",
        "        u\"\\ufe0f\"  # dingbats\n",
        "        u\"\\u3030\"\n",
        "                      \"]+\", re.UNICODE)\n",
        "    return re.sub(emoj, '', data)\n",
        "\n",
        "def final_pre_pro(text):\n",
        "  clean = re.sub('\\+','',text)\n",
        "  clean = re.sub('=','',text)\n",
        "  clean = re.sub('\\_{2,}',' ',text)\n",
        "  clean = re.sub('\\*',' ',text)\n",
        "  clean=re.sub(\"\\s{2,}\",\" \",clean)\n",
        "  return clean.strip()"
      ],
      "execution_count": 187,
      "outputs": []
    },
    {
      "cell_type": "code",
      "metadata": {
        "id": "g0tE5Y_N3FNP"
      },
      "source": [
        "australia_drought['cleaned body'] = australia_drought['cleaned body'].apply(remove_emojis)\n",
        "australia_drought['cleaned body'] = australia_drought['cleaned body'].apply(final_pre_pro)"
      ],
      "execution_count": 188,
      "outputs": []
    },
    {
      "cell_type": "code",
      "metadata": {
        "colab": {
          "base_uri": "https://localhost:8080/",
          "height": 304
        },
        "id": "OwWkNGBn3Mhf",
        "outputId": "399fabe2-724d-45f2-aa26-bd87f15ec2e5"
      },
      "source": [
        "australia_drought.head(5)"
      ],
      "execution_count": 190,
      "outputs": [
        {
          "output_type": "execute_result",
          "data": {
            "text/html": [
              "<div>\n",
              "<style scoped>\n",
              "    .dataframe tbody tr th:only-of-type {\n",
              "        vertical-align: middle;\n",
              "    }\n",
              "\n",
              "    .dataframe tbody tr th {\n",
              "        vertical-align: top;\n",
              "    }\n",
              "\n",
              "    .dataframe thead th {\n",
              "        text-align: right;\n",
              "    }\n",
              "</style>\n",
              "<table border=\"1\" class=\"dataframe\">\n",
              "  <thead>\n",
              "    <tr style=\"text-align: right;\">\n",
              "      <th></th>\n",
              "      <th>Id</th>\n",
              "      <th>title</th>\n",
              "      <th>time</th>\n",
              "      <th>keywords</th>\n",
              "      <th>data source</th>\n",
              "      <th>category</th>\n",
              "      <th>country</th>\n",
              "      <th>source URL</th>\n",
              "      <th>body</th>\n",
              "      <th>language</th>\n",
              "      <th>cleaned body</th>\n",
              "    </tr>\n",
              "  </thead>\n",
              "  <tbody>\n",
              "    <tr>\n",
              "      <th>0</th>\n",
              "      <td>1.40153e+18</td>\n",
              "      <td></td>\n",
              "      <td>2021-06-06 09:31:31+00:00</td>\n",
              "      <td>[]</td>\n",
              "      <td>Twitter</td>\n",
              "      <td>none</td>\n",
              "      <td>Australia</td>\n",
              "      <td>https://twitter.com/aeri_zayllz1/status/140153...</td>\n",
              "      <td>@horizon9soo @weareoneEXO deleted pleasee they...</td>\n",
              "      <td>en</td>\n",
              "      <td>deleted pleasee they do not want us to post it</td>\n",
              "    </tr>\n",
              "    <tr>\n",
              "      <th>1</th>\n",
              "      <td>1.40153e+18</td>\n",
              "      <td></td>\n",
              "      <td>2021-06-06 09:29:01+00:00</td>\n",
              "      <td>[]</td>\n",
              "      <td>Twitter</td>\n",
              "      <td>none</td>\n",
              "      <td>Australia</td>\n",
              "      <td>https://twitter.com/aeri_zayllz1/status/140153...</td>\n",
              "      <td>@cloudmixolydian yess🤧♥️[]</td>\n",
              "      <td>en</td>\n",
              "      <td>yess</td>\n",
              "    </tr>\n",
              "    <tr>\n",
              "      <th>2</th>\n",
              "      <td>1.40153e+18</td>\n",
              "      <td></td>\n",
              "      <td>2021-06-06 09:20:26+00:00</td>\n",
              "      <td>[]</td>\n",
              "      <td>Twitter</td>\n",
              "      <td>none</td>\n",
              "      <td>Australia</td>\n",
              "      <td>https://twitter.com/aeri_zayllz1/status/140152...</td>\n",
              "      <td>johnny looks like he's a senior idol to them a...</td>\n",
              "      <td>en</td>\n",
              "      <td>johnny looks like he is a senior idol to them ...</td>\n",
              "    </tr>\n",
              "    <tr>\n",
              "      <th>3</th>\n",
              "      <td>1.40152e+18</td>\n",
              "      <td></td>\n",
              "      <td>2021-06-06 08:52:27+00:00</td>\n",
              "      <td>[]</td>\n",
              "      <td>Twitter</td>\n",
              "      <td>none</td>\n",
              "      <td>Australia</td>\n",
              "      <td>https://twitter.com/aeri_zayllz1/status/140152...</td>\n",
              "      <td>@_waitingforyeol @aespachartsdata @aespa_offic...</td>\n",
              "      <td>en</td>\n",
              "      <td>ohh sorry for that</td>\n",
              "    </tr>\n",
              "    <tr>\n",
              "      <th>4</th>\n",
              "      <td>1.40152e+18</td>\n",
              "      <td></td>\n",
              "      <td>2021-06-06 08:51:14+00:00</td>\n",
              "      <td>[]</td>\n",
              "      <td>Twitter</td>\n",
              "      <td>none</td>\n",
              "      <td>Australia</td>\n",
              "      <td>https://twitter.com/aeri_zayllz1/status/140152...</td>\n",
              "      <td>@_waitingforyeol @aespachartsdata @aespa_offic...</td>\n",
              "      <td>en</td>\n",
              "      <td>i think you misread the tweet bestie</td>\n",
              "    </tr>\n",
              "  </tbody>\n",
              "</table>\n",
              "</div>"
            ],
            "text/plain": [
              "            Id  ...                                       cleaned body\n",
              "0  1.40153e+18  ...     deleted pleasee they do not want us to post it\n",
              "1  1.40153e+18  ...                                               yess\n",
              "2  1.40153e+18  ...  johnny looks like he is a senior idol to them ...\n",
              "3  1.40152e+18  ...                                 ohh sorry for that\n",
              "4  1.40152e+18  ...               i think you misread the tweet bestie\n",
              "\n",
              "[5 rows x 11 columns]"
            ]
          },
          "metadata": {
            "tags": []
          },
          "execution_count": 190
        }
      ]
    },
    {
      "cell_type": "code",
      "metadata": {
        "id": "-hI8XFa33XVq"
      },
      "source": [
        "#rearange all columns as per final datsets column\n",
        "australia_drought= australia_drought[['Id','title','time','keywords','data source','category','country','source URL','body','cleaned body','language']]"
      ],
      "execution_count": 191,
      "outputs": []
    },
    {
      "cell_type": "code",
      "metadata": {
        "colab": {
          "base_uri": "https://localhost:8080/",
          "height": 304
        },
        "id": "gvTlBAIA3jOz",
        "outputId": "dbd917e9-1f2d-4df8-c66f-5f9980eb4d1d"
      },
      "source": [
        "australia_drought.head(5)"
      ],
      "execution_count": 192,
      "outputs": [
        {
          "output_type": "execute_result",
          "data": {
            "text/html": [
              "<div>\n",
              "<style scoped>\n",
              "    .dataframe tbody tr th:only-of-type {\n",
              "        vertical-align: middle;\n",
              "    }\n",
              "\n",
              "    .dataframe tbody tr th {\n",
              "        vertical-align: top;\n",
              "    }\n",
              "\n",
              "    .dataframe thead th {\n",
              "        text-align: right;\n",
              "    }\n",
              "</style>\n",
              "<table border=\"1\" class=\"dataframe\">\n",
              "  <thead>\n",
              "    <tr style=\"text-align: right;\">\n",
              "      <th></th>\n",
              "      <th>Id</th>\n",
              "      <th>title</th>\n",
              "      <th>time</th>\n",
              "      <th>keywords</th>\n",
              "      <th>data source</th>\n",
              "      <th>category</th>\n",
              "      <th>country</th>\n",
              "      <th>source URL</th>\n",
              "      <th>body</th>\n",
              "      <th>cleaned body</th>\n",
              "      <th>language</th>\n",
              "    </tr>\n",
              "  </thead>\n",
              "  <tbody>\n",
              "    <tr>\n",
              "      <th>0</th>\n",
              "      <td>1.40153e+18</td>\n",
              "      <td></td>\n",
              "      <td>2021-06-06 09:31:31+00:00</td>\n",
              "      <td>[]</td>\n",
              "      <td>Twitter</td>\n",
              "      <td>none</td>\n",
              "      <td>Australia</td>\n",
              "      <td>https://twitter.com/aeri_zayllz1/status/140153...</td>\n",
              "      <td>@horizon9soo @weareoneEXO deleted pleasee they...</td>\n",
              "      <td>deleted pleasee they do not want us to post it</td>\n",
              "      <td>en</td>\n",
              "    </tr>\n",
              "    <tr>\n",
              "      <th>1</th>\n",
              "      <td>1.40153e+18</td>\n",
              "      <td></td>\n",
              "      <td>2021-06-06 09:29:01+00:00</td>\n",
              "      <td>[]</td>\n",
              "      <td>Twitter</td>\n",
              "      <td>none</td>\n",
              "      <td>Australia</td>\n",
              "      <td>https://twitter.com/aeri_zayllz1/status/140153...</td>\n",
              "      <td>@cloudmixolydian yess🤧♥️[]</td>\n",
              "      <td>yess</td>\n",
              "      <td>en</td>\n",
              "    </tr>\n",
              "    <tr>\n",
              "      <th>2</th>\n",
              "      <td>1.40153e+18</td>\n",
              "      <td></td>\n",
              "      <td>2021-06-06 09:20:26+00:00</td>\n",
              "      <td>[]</td>\n",
              "      <td>Twitter</td>\n",
              "      <td>none</td>\n",
              "      <td>Australia</td>\n",
              "      <td>https://twitter.com/aeri_zayllz1/status/140152...</td>\n",
              "      <td>johnny looks like he's a senior idol to them a...</td>\n",
              "      <td>johnny looks like he is a senior idol to them ...</td>\n",
              "      <td>en</td>\n",
              "    </tr>\n",
              "    <tr>\n",
              "      <th>3</th>\n",
              "      <td>1.40152e+18</td>\n",
              "      <td></td>\n",
              "      <td>2021-06-06 08:52:27+00:00</td>\n",
              "      <td>[]</td>\n",
              "      <td>Twitter</td>\n",
              "      <td>none</td>\n",
              "      <td>Australia</td>\n",
              "      <td>https://twitter.com/aeri_zayllz1/status/140152...</td>\n",
              "      <td>@_waitingforyeol @aespachartsdata @aespa_offic...</td>\n",
              "      <td>ohh sorry for that</td>\n",
              "      <td>en</td>\n",
              "    </tr>\n",
              "    <tr>\n",
              "      <th>4</th>\n",
              "      <td>1.40152e+18</td>\n",
              "      <td></td>\n",
              "      <td>2021-06-06 08:51:14+00:00</td>\n",
              "      <td>[]</td>\n",
              "      <td>Twitter</td>\n",
              "      <td>none</td>\n",
              "      <td>Australia</td>\n",
              "      <td>https://twitter.com/aeri_zayllz1/status/140152...</td>\n",
              "      <td>@_waitingforyeol @aespachartsdata @aespa_offic...</td>\n",
              "      <td>i think you misread the tweet bestie</td>\n",
              "      <td>en</td>\n",
              "    </tr>\n",
              "  </tbody>\n",
              "</table>\n",
              "</div>"
            ],
            "text/plain": [
              "            Id  ... language\n",
              "0  1.40153e+18  ...       en\n",
              "1  1.40153e+18  ...       en\n",
              "2  1.40153e+18  ...       en\n",
              "3  1.40152e+18  ...       en\n",
              "4  1.40152e+18  ...       en\n",
              "\n",
              "[5 rows x 11 columns]"
            ]
          },
          "metadata": {
            "tags": []
          },
          "execution_count": 192
        }
      ]
    },
    {
      "cell_type": "code",
      "metadata": {
        "colab": {
          "base_uri": "https://localhost:8080/"
        },
        "id": "UOOGUhBq3kmX",
        "outputId": "2baf8591-69c0-4fcf-c3c6-cc49a0cf3e09"
      },
      "source": [
        "australia_drought['category'].value_counts()"
      ],
      "execution_count": 193,
      "outputs": [
        {
          "output_type": "execute_result",
          "data": {
            "text/plain": [
              "none                 101\n",
              "drought               41\n",
              "flood and drought      4\n",
              "Name: category, dtype: int64"
            ]
          },
          "metadata": {
            "tags": []
          },
          "execution_count": 193
        }
      ]
    },
    {
      "cell_type": "code",
      "metadata": {
        "colab": {
          "base_uri": "https://localhost:8080/",
          "height": 282
        },
        "id": "c7k8IYAB3rdc",
        "outputId": "6160ee76-80c6-4734-a912-73ce34232e6e"
      },
      "source": [
        "australia_drought['category'].value_counts().plot(kind='barh')"
      ],
      "execution_count": 194,
      "outputs": [
        {
          "output_type": "execute_result",
          "data": {
            "text/plain": [
              "<matplotlib.axes._subplots.AxesSubplot at 0x7fbd54f03f10>"
            ]
          },
          "metadata": {
            "tags": []
          },
          "execution_count": 194
        },
        {
          "output_type": "display_data",
          "data": {
            "image/png": "[encoded data removed]",
            "text/plain": [
              "<Figure size 432x288 with 1 Axes>"
            ]
          },
          "metadata": {
            "tags": [],
            "needs_background": "light"
          }
        }
      ]
    },
    {
      "cell_type": "code",
      "metadata": {
        "id": "4Q_z14it3sHq"
      },
      "source": [
        "australia_drought.to_csv('australia_drought_tweets_transformed.csv', index=False)"
      ],
      "execution_count": 195,
      "outputs": []
    },
    {
      "cell_type": "code",
      "metadata": {
        "id": "z09Pwyik3sKS"
      },
      "source": [
        ""
      ],
      "execution_count": null,
      "outputs": []
    },
    {
      "cell_type": "code",
      "metadata": {
        "id": "ZJyTWYRL3sOY"
      },
      "source": [
        ""
      ],
      "execution_count": null,
      "outputs": []
    }
  ]
}