{
  "nbformat": 4,
  "nbformat_minor": 0,
  "metadata": {
    "colab": {
      "name": "Preprocessing on Twitter_Data_twint.ipynb",
      "provenance": [],
      "collapsed_sections": []
    },
    "kernelspec": {
      "display_name": "Python 3",
      "name": "python3"
    },
    "language_info": {
      "name": "python"
    }
  },
  "cells": [
    {
      "cell_type": "code",
      "metadata": {
        "colab": {
          "base_uri": "https://localhost:8080/"
        },
        "id": "DGbUA2q6n2ks",
        "outputId": "6b97866b-ae40-44fc-f0b2-14876efca313"
      },
      "source": [
        "!pip3 install PyGithub requests"
      ],
      "execution_count": 1,
      "outputs": [
        {
          "output_type": "stream",
          "text": [
            "Collecting PyGithub\n",
            "\u001b[?25l  Downloading https://files.pythonhosted.org/packages/c1/1f/9dc4ba315eeea222473cf4c15d3e665f32d52f859d9d6e73219d0a408969/PyGithub-1.55-py3-none-any.whl (291kB)\n",
            "\r\u001b[K     |█▏                              | 10kB 15.9MB/s eta 0:00:01\r\u001b[K     |██▎                             | 20kB 20.6MB/s eta 0:00:01\r\u001b[K     |███▍                            | 30kB 10.1MB/s eta 0:00:01\r\u001b[K     |████▌                           | 40kB 8.1MB/s eta 0:00:01\r\u001b[K     |█████▋                          | 51kB 5.5MB/s eta 0:00:01\r\u001b[K     |██████▊                         | 61kB 6.5MB/s eta 0:00:01\r\u001b[K     |███████▉                        | 71kB 6.5MB/s eta 0:00:01\r\u001b[K     |█████████                       | 81kB 6.2MB/s eta 0:00:01\r\u001b[K     |██████████                      | 92kB 6.1MB/s eta 0:00:01\r\u001b[K     |███████████▎                    | 102kB 5.4MB/s eta 0:00:01\r\u001b[K     |████████████▍                   | 112kB 5.4MB/s eta 0:00:01\r\u001b[K     |█████████████▌                  | 122kB 5.4MB/s eta 0:00:01\r\u001b[K     |██████████████▋                 | 133kB 5.4MB/s eta 0:00:01\r\u001b[K     |███████████████▊                | 143kB 5.4MB/s eta 0:00:01\r\u001b[K     |████████████████▉               | 153kB 5.4MB/s eta 0:00:01\r\u001b[K     |██████████████████              | 163kB 5.4MB/s eta 0:00:01\r\u001b[K     |███████████████████             | 174kB 5.4MB/s eta 0:00:01\r\u001b[K     |████████████████████▏           | 184kB 5.4MB/s eta 0:00:01\r\u001b[K     |█████████████████████▍          | 194kB 5.4MB/s eta 0:00:01\r\u001b[K     |██████████████████████▌         | 204kB 5.4MB/s eta 0:00:01\r\u001b[K     |███████████████████████▋        | 215kB 5.4MB/s eta 0:00:01\r\u001b[K     |████████████████████████▊       | 225kB 5.4MB/s eta 0:00:01\r\u001b[K     |█████████████████████████▉      | 235kB 5.4MB/s eta 0:00:01\r\u001b[K     |███████████████████████████     | 245kB 5.4MB/s eta 0:00:01\r\u001b[K     |████████████████████████████    | 256kB 5.4MB/s eta 0:00:01\r\u001b[K     |█████████████████████████████▏  | 266kB 5.4MB/s eta 0:00:01\r\u001b[K     |██████████████████████████████▎ | 276kB 5.4MB/s eta 0:00:01\r\u001b[K     |███████████████████████████████▌| 286kB 5.4MB/s eta 0:00:01\r\u001b[K     |████████████████████████████████| 296kB 5.4MB/s \n",
            "\u001b[?25hRequirement already satisfied: requests in /usr/local/lib/python3.7/dist-packages (2.23.0)\n",
            "Collecting pyjwt>=2.0\n",
            "  Downloading https://files.pythonhosted.org/packages/3f/32/d5d3cab27fee7f6b22d7cd7507547ae45d52e26030fa77d1f83d0526c6e5/PyJWT-2.1.0-py3-none-any.whl\n",
            "Collecting deprecated\n",
            "  Downloading https://files.pythonhosted.org/packages/fb/73/994edfcba74443146c84b91921fcc269374354118d4f452fb0c54c1cbb12/Deprecated-1.2.12-py2.py3-none-any.whl\n",
            "Collecting pynacl>=1.4.0\n",
            "\u001b[?25l  Downloading https://files.pythonhosted.org/packages/9d/57/2f5e6226a674b2bcb6db531e8b383079b678df5b10cdaa610d6cf20d77ba/PyNaCl-1.4.0-cp35-abi3-manylinux1_x86_64.whl (961kB)\n",
            "\u001b[K     |████████████████████████████████| 962kB 18.7MB/s \n",
            "\u001b[?25hRequirement already satisfied: urllib3!=1.25.0,!=1.25.1,<1.26,>=1.21.1 in /usr/local/lib/python3.7/dist-packages (from requests) (1.24.3)\n",
            "Requirement already satisfied: certifi>=2017.4.17 in /usr/local/lib/python3.7/dist-packages (from requests) (2020.12.5)\n",
            "Requirement already satisfied: idna<3,>=2.5 in /usr/local/lib/python3.7/dist-packages (from requests) (2.10)\n",
            "Requirement already satisfied: chardet<4,>=3.0.2 in /usr/local/lib/python3.7/dist-packages (from requests) (3.0.4)\n",
            "Requirement already satisfied: wrapt<2,>=1.10 in /usr/local/lib/python3.7/dist-packages (from deprecated->PyGithub) (1.12.1)\n",
            "Requirement already satisfied: cffi>=1.4.1 in /usr/local/lib/python3.7/dist-packages (from pynacl>=1.4.0->PyGithub) (1.14.5)\n",
            "Requirement already satisfied: six in /usr/local/lib/python3.7/dist-packages (from pynacl>=1.4.0->PyGithub) (1.15.0)\n",
            "Requirement already satisfied: pycparser in /usr/local/lib/python3.7/dist-packages (from cffi>=1.4.1->pynacl>=1.4.0->PyGithub) (2.20)\n",
            "Installing collected packages: pyjwt, deprecated, pynacl, PyGithub\n",
            "Successfully installed PyGithub-1.55 deprecated-1.2.12 pyjwt-2.1.0 pynacl-1.4.0\n"
          ],
          "name": "stdout"
        }
      ]
    },
    {
      "cell_type": "code",
      "metadata": {
        "id": "zWsJegVOn4C0"
      },
      "source": [
        "import pandas as pd\n",
        "import numpy as np\n",
        "import csv\n",
        "from tqdm import tqdm\n",
        "import base64\n",
        "from github import Github\n",
        "from io import BytesIO\n",
        "import requests"
      ],
      "execution_count": 2,
      "outputs": []
    },
    {
      "cell_type": "code",
      "metadata": {
        "id": "rMEkcXObTBSi"
      },
      "source": [
        "# Username of your GitHub account\n",
        " \n",
        "username = ''\n",
        " \n",
        "# Personal Access Token (PAO) from your GitHub account\n",
        " \n",
        "token = ''\n",
        " \n",
        "# Creates a re-usable session object with your creds in-built\n",
        " \n",
        "github_session = requests.Session()\n",
        "github_session.auth = (username, token)"
      ],
      "execution_count": 3,
      "outputs": []
    },
    {
      "cell_type": "code",
      "metadata": {
        "id": "LyLVUjWfTBV7"
      },
      "source": [
        "def download_data (url):\n",
        "\n",
        "    url = url # Make sure the url is the raw version of the file on GitHub\n",
        "    download = github_session.get(url).content\n",
        "\n",
        "    df= pd.read_csv(BytesIO(download))\n",
        "    \n",
        "    return df"
      ],
      "execution_count": 4,
      "outputs": []
    },
    {
      "cell_type": "code",
      "metadata": {
        "id": "iHlhDjn1ofZf"
      },
      "source": [
        "url = 'https://raw.githubusercontent.com/OmdenaAI/WeoWater/main/task-1-scraping-twitter/Twitter_Data_twint.csv'\n",
        "twitter_data_twint= download_data(url)"
      ],
      "execution_count": 5,
      "outputs": []
    },
    {
      "cell_type": "code",
      "metadata": {
        "id": "mv0HpZNpofez",
        "colab": {
          "base_uri": "https://localhost:8080/",
          "height": 402
        },
        "outputId": "eb27b0b6-dc44-41b2-ee81-d7cd43996b93"
      },
      "source": [
        "twitter_data_twint.isnull()"
      ],
      "execution_count": 6,
      "outputs": [
        {
          "output_type": "execute_result",
          "data": {
            "text/html": [
              "<div>\n",
              "<style scoped>\n",
              "    .dataframe tbody tr th:only-of-type {\n",
              "        vertical-align: middle;\n",
              "    }\n",
              "\n",
              "    .dataframe tbody tr th {\n",
              "        vertical-align: top;\n",
              "    }\n",
              "\n",
              "    .dataframe thead th {\n",
              "        text-align: right;\n",
              "    }\n",
              "</style>\n",
              "<table border=\"1\" class=\"dataframe\">\n",
              "  <thead>\n",
              "    <tr style=\"text-align: right;\">\n",
              "      <th></th>\n",
              "      <th>id</th>\n",
              "      <th>date</th>\n",
              "      <th>time</th>\n",
              "      <th>timezone</th>\n",
              "      <th>user_id</th>\n",
              "      <th>username</th>\n",
              "      <th>place</th>\n",
              "      <th>tweet</th>\n",
              "      <th>hashtags</th>\n",
              "      <th>reply_to</th>\n",
              "      <th>length</th>\n",
              "      <th>Cleaned Tweets</th>\n",
              "    </tr>\n",
              "  </thead>\n",
              "  <tbody>\n",
              "    <tr>\n",
              "      <th>0</th>\n",
              "      <td>False</td>\n",
              "      <td>False</td>\n",
              "      <td>False</td>\n",
              "      <td>False</td>\n",
              "      <td>False</td>\n",
              "      <td>False</td>\n",
              "      <td>True</td>\n",
              "      <td>False</td>\n",
              "      <td>False</td>\n",
              "      <td>False</td>\n",
              "      <td>False</td>\n",
              "      <td>False</td>\n",
              "    </tr>\n",
              "    <tr>\n",
              "      <th>1</th>\n",
              "      <td>False</td>\n",
              "      <td>False</td>\n",
              "      <td>False</td>\n",
              "      <td>False</td>\n",
              "      <td>False</td>\n",
              "      <td>False</td>\n",
              "      <td>True</td>\n",
              "      <td>False</td>\n",
              "      <td>False</td>\n",
              "      <td>False</td>\n",
              "      <td>False</td>\n",
              "      <td>False</td>\n",
              "    </tr>\n",
              "    <tr>\n",
              "      <th>2</th>\n",
              "      <td>False</td>\n",
              "      <td>False</td>\n",
              "      <td>False</td>\n",
              "      <td>False</td>\n",
              "      <td>False</td>\n",
              "      <td>False</td>\n",
              "      <td>True</td>\n",
              "      <td>False</td>\n",
              "      <td>False</td>\n",
              "      <td>False</td>\n",
              "      <td>False</td>\n",
              "      <td>False</td>\n",
              "    </tr>\n",
              "    <tr>\n",
              "      <th>3</th>\n",
              "      <td>False</td>\n",
              "      <td>False</td>\n",
              "      <td>False</td>\n",
              "      <td>False</td>\n",
              "      <td>False</td>\n",
              "      <td>False</td>\n",
              "      <td>True</td>\n",
              "      <td>False</td>\n",
              "      <td>False</td>\n",
              "      <td>False</td>\n",
              "      <td>False</td>\n",
              "      <td>False</td>\n",
              "    </tr>\n",
              "    <tr>\n",
              "      <th>4</th>\n",
              "      <td>False</td>\n",
              "      <td>False</td>\n",
              "      <td>False</td>\n",
              "      <td>False</td>\n",
              "      <td>False</td>\n",
              "      <td>False</td>\n",
              "      <td>True</td>\n",
              "      <td>False</td>\n",
              "      <td>False</td>\n",
              "      <td>False</td>\n",
              "      <td>False</td>\n",
              "      <td>False</td>\n",
              "    </tr>\n",
              "    <tr>\n",
              "      <th>...</th>\n",
              "      <td>...</td>\n",
              "      <td>...</td>\n",
              "      <td>...</td>\n",
              "      <td>...</td>\n",
              "      <td>...</td>\n",
              "      <td>...</td>\n",
              "      <td>...</td>\n",
              "      <td>...</td>\n",
              "      <td>...</td>\n",
              "      <td>...</td>\n",
              "      <td>...</td>\n",
              "      <td>...</td>\n",
              "    </tr>\n",
              "    <tr>\n",
              "      <th>30083</th>\n",
              "      <td>False</td>\n",
              "      <td>False</td>\n",
              "      <td>False</td>\n",
              "      <td>False</td>\n",
              "      <td>False</td>\n",
              "      <td>False</td>\n",
              "      <td>True</td>\n",
              "      <td>False</td>\n",
              "      <td>False</td>\n",
              "      <td>False</td>\n",
              "      <td>False</td>\n",
              "      <td>False</td>\n",
              "    </tr>\n",
              "    <tr>\n",
              "      <th>30084</th>\n",
              "      <td>False</td>\n",
              "      <td>False</td>\n",
              "      <td>False</td>\n",
              "      <td>False</td>\n",
              "      <td>False</td>\n",
              "      <td>False</td>\n",
              "      <td>True</td>\n",
              "      <td>False</td>\n",
              "      <td>False</td>\n",
              "      <td>False</td>\n",
              "      <td>False</td>\n",
              "      <td>False</td>\n",
              "    </tr>\n",
              "    <tr>\n",
              "      <th>30085</th>\n",
              "      <td>False</td>\n",
              "      <td>False</td>\n",
              "      <td>False</td>\n",
              "      <td>False</td>\n",
              "      <td>False</td>\n",
              "      <td>False</td>\n",
              "      <td>True</td>\n",
              "      <td>False</td>\n",
              "      <td>False</td>\n",
              "      <td>False</td>\n",
              "      <td>False</td>\n",
              "      <td>False</td>\n",
              "    </tr>\n",
              "    <tr>\n",
              "      <th>30086</th>\n",
              "      <td>False</td>\n",
              "      <td>False</td>\n",
              "      <td>False</td>\n",
              "      <td>False</td>\n",
              "      <td>False</td>\n",
              "      <td>False</td>\n",
              "      <td>True</td>\n",
              "      <td>False</td>\n",
              "      <td>False</td>\n",
              "      <td>False</td>\n",
              "      <td>False</td>\n",
              "      <td>False</td>\n",
              "    </tr>\n",
              "    <tr>\n",
              "      <th>30087</th>\n",
              "      <td>False</td>\n",
              "      <td>False</td>\n",
              "      <td>False</td>\n",
              "      <td>False</td>\n",
              "      <td>False</td>\n",
              "      <td>False</td>\n",
              "      <td>True</td>\n",
              "      <td>False</td>\n",
              "      <td>False</td>\n",
              "      <td>False</td>\n",
              "      <td>False</td>\n",
              "      <td>False</td>\n",
              "    </tr>\n",
              "  </tbody>\n",
              "</table>\n",
              "<p>30088 rows × 12 columns</p>\n",
              "</div>"
            ],
            "text/plain": [
              "          id   date   time  ...  reply_to  length  Cleaned Tweets\n",
              "0      False  False  False  ...     False   False           False\n",
              "1      False  False  False  ...     False   False           False\n",
              "2      False  False  False  ...     False   False           False\n",
              "3      False  False  False  ...     False   False           False\n",
              "4      False  False  False  ...     False   False           False\n",
              "...      ...    ...    ...  ...       ...     ...             ...\n",
              "30083  False  False  False  ...     False   False           False\n",
              "30084  False  False  False  ...     False   False           False\n",
              "30085  False  False  False  ...     False   False           False\n",
              "30086  False  False  False  ...     False   False           False\n",
              "30087  False  False  False  ...     False   False           False\n",
              "\n",
              "[30088 rows x 12 columns]"
            ]
          },
          "metadata": {
            "tags": []
          },
          "execution_count": 6
        }
      ]
    },
    {
      "cell_type": "code",
      "metadata": {
        "id": "pm0pYnWTofh4"
      },
      "source": [
        "#Fill null values in Place column\n",
        "twitter_data_twint['place'].fillna('Not Specified',inplace=True)"
      ],
      "execution_count": 7,
      "outputs": []
    },
    {
      "cell_type": "code",
      "metadata": {
        "id": "KwchzUVjYiV5"
      },
      "source": [
        "#Clean the hashtag column in proper format\n",
        "tags=[]\n",
        "for hash_tags in twitter_data_twint['hashtags']:\n",
        "  hash_tags = hash_tags.replace(\"'\",\"\")\n",
        "  tags.append(hash_tags.replace(\"[\",\"\").replace(\"]\",\"\"))\n",
        "tags = [\"NoTags\" if x == '' else x for x in tags]\n",
        "twitter_data_twint['hashtags']= tags"
      ],
      "execution_count": 8,
      "outputs": []
    },
    {
      "cell_type": "code",
      "metadata": {
        "colab": {
          "base_uri": "https://localhost:8080/"
        },
        "id": "Tkw998xMIQne",
        "outputId": "5c82c2d1-f848-43d6-ec30-b65046f05f85"
      },
      "source": [
        "twitter_data_twint['hashtags'].unique()"
      ],
      "execution_count": 9,
      "outputs": [
        {
          "output_type": "execute_result",
          "data": {
            "text/plain": [
              "array(['NoTags', 'tadd', 'ketsana', ...,\n",
              "       'deluge, mumbairains, inundation', 'chswx, chsnews',\n",
              "       'weatherupdate, isaias'], dtype=object)"
            ]
          },
          "metadata": {
            "tags": []
          },
          "execution_count": 9
        }
      ]
    },
    {
      "cell_type": "code",
      "metadata": {
        "id": "HLx6GEivIlOY"
      },
      "source": [
        "twitter_data_twint['date/time range']= twitter_data_twint['date']+ ' ' + twitter_data_twint['time']"
      ],
      "execution_count": 10,
      "outputs": []
    },
    {
      "cell_type": "code",
      "metadata": {
        "id": "2EwLGowoKQFR"
      },
      "source": [
        "first_column = twitter_data_twint.pop('date/time range')\n",
        "twitter_data_twint.insert(0,'date/time range', first_column)"
      ],
      "execution_count": 11,
      "outputs": []
    },
    {
      "cell_type": "code",
      "metadata": {
        "id": "__yh9GDx1HMj"
      },
      "source": [
        "#Droping unwanted columns \n",
        "twitter_data_twint= twitter_data_twint.drop(['id','length','reply_to','date','time'],axis=1)"
      ],
      "execution_count": 12,
      "outputs": []
    },
    {
      "cell_type": "code",
      "metadata": {
        "id": "j4sxeIXyMR7O"
      },
      "source": [
        "#tagged the data with new label- flood,drought, None\n",
        "category=[]\n",
        "for tweet in twitter_data_twint['Cleaned Tweets']:\n",
        "  if 'flood' in tweet:\n",
        "    category.append('flood')\n",
        "  elif any(x in tweet for x in ['flood','drought']):\n",
        "    category.append('flood_and_drought')\n",
        "  elif 'drought' in tweet:\n",
        "    category.append('drought')\n",
        "  else:\n",
        "    category.append('None')"
      ],
      "execution_count": 15,
      "outputs": []
    },
    {
      "cell_type": "code",
      "metadata": {
        "id": "j6C2zxoGM98g"
      },
      "source": [
        "#Added new column category- which have new tagged label\n",
        "twitter_data_twint['category']= category"
      ],
      "execution_count": 18,
      "outputs": []
    },
    {
      "cell_type": "code",
      "metadata": {
        "colab": {
          "base_uri": "https://localhost:8080/"
        },
        "id": "-oWzi7Jroi6Y",
        "outputId": "b1db043e-9227-429c-f9d3-2c2152a9e7dd"
      },
      "source": [
        "twitter_data_twint['category'].unique()"
      ],
      "execution_count": 19,
      "outputs": [
        {
          "output_type": "execute_result",
          "data": {
            "text/plain": [
              "array(['flood', 'None', 'flood_and_drought'], dtype=object)"
            ]
          },
          "metadata": {
            "tags": []
          },
          "execution_count": 19
        }
      ]
    },
    {
      "cell_type": "code",
      "metadata": {
        "id": "UtG0T_H7F7bS"
      },
      "source": [
        "twitter_data_twint.to_csv('Preprocessed_twitter_data_twint.csv')"
      ],
      "execution_count": 20,
      "outputs": []
    },
    {
      "cell_type": "code",
      "metadata": {
        "colab": {
          "base_uri": "https://localhost:8080/",
          "height": 570
        },
        "id": "tvBAssR-GEqd",
        "outputId": "ce99a6a7-cac2-45bf-9cd1-d6ac93328cb0"
      },
      "source": [
        "twitter_data_twint"
      ],
      "execution_count": 21,
      "outputs": [
        {
          "output_type": "execute_result",
          "data": {
            "text/html": [
              "<div>\n",
              "<style scoped>\n",
              "    .dataframe tbody tr th:only-of-type {\n",
              "        vertical-align: middle;\n",
              "    }\n",
              "\n",
              "    .dataframe tbody tr th {\n",
              "        vertical-align: top;\n",
              "    }\n",
              "\n",
              "    .dataframe thead th {\n",
              "        text-align: right;\n",
              "    }\n",
              "</style>\n",
              "<table border=\"1\" class=\"dataframe\">\n",
              "  <thead>\n",
              "    <tr style=\"text-align: right;\">\n",
              "      <th></th>\n",
              "      <th>date/time range</th>\n",
              "      <th>timezone</th>\n",
              "      <th>user_id</th>\n",
              "      <th>username</th>\n",
              "      <th>place</th>\n",
              "      <th>tweet</th>\n",
              "      <th>hashtags</th>\n",
              "      <th>Cleaned Tweets</th>\n",
              "      <th>category</th>\n",
              "    </tr>\n",
              "  </thead>\n",
              "  <tbody>\n",
              "    <tr>\n",
              "      <th>0</th>\n",
              "      <td>2020-10-31 07:56:37</td>\n",
              "      <td>800</td>\n",
              "      <td>17580230</td>\n",
              "      <td>jarallen</td>\n",
              "      <td>Not Specified</td>\n",
              "      <td>@austinperroux @NWSSanAntonio Same here. I’ve ...</td>\n",
              "      <td>NoTags</td>\n",
              "      <td>['austinperroux', 'NWSSanAntonio', 'I’ve', 'ne...</td>\n",
              "      <td>flood</td>\n",
              "    </tr>\n",
              "    <tr>\n",
              "      <th>1</th>\n",
              "      <td>2020-10-31 07:49:35</td>\n",
              "      <td>800</td>\n",
              "      <td>472122299</td>\n",
              "      <td>philippinestar</td>\n",
              "      <td>Not Specified</td>\n",
              "      <td>Flooding (including flash floods), rain-induce...</td>\n",
              "      <td>NoTags</td>\n",
              "      <td>['Flooding', 'including', 'flash', 'floods', '...</td>\n",
              "      <td>flood</td>\n",
              "    </tr>\n",
              "    <tr>\n",
              "      <th>2</th>\n",
              "      <td>2020-10-31 07:23:57</td>\n",
              "      <td>800</td>\n",
              "      <td>2453732882</td>\n",
              "      <td>ttweathercenter</td>\n",
              "      <td>Not Specified</td>\n",
              "      <td>7:20 PM - Flash flooding continues in Arouca t...</td>\n",
              "      <td>NoTags</td>\n",
              "      <td>['720', 'PM', 'Flash', 'flooding', 'continues'...</td>\n",
              "      <td>flood</td>\n",
              "    </tr>\n",
              "    <tr>\n",
              "      <th>3</th>\n",
              "      <td>2020-10-31 07:12:06</td>\n",
              "      <td>800</td>\n",
              "      <td>2453732882</td>\n",
              "      <td>ttweathercenter</td>\n",
              "      <td>Not Specified</td>\n",
              "      <td>Another video of the flash flooding ongoing at...</td>\n",
              "      <td>NoTags</td>\n",
              "      <td>['Another', 'video', 'flash', 'flooding', 'ong...</td>\n",
              "      <td>flood</td>\n",
              "    </tr>\n",
              "    <tr>\n",
              "      <th>4</th>\n",
              "      <td>2020-10-31 07:10:16</td>\n",
              "      <td>800</td>\n",
              "      <td>2453732882</td>\n",
              "      <td>ttweathercenter</td>\n",
              "      <td>Not Specified</td>\n",
              "      <td>7:05 PM - Flash flooding ongoing at Henry Stre...</td>\n",
              "      <td>NoTags</td>\n",
              "      <td>['705', 'PM', 'Flash', 'flooding', 'ongoing', ...</td>\n",
              "      <td>flood</td>\n",
              "    </tr>\n",
              "    <tr>\n",
              "      <th>...</th>\n",
              "      <td>...</td>\n",
              "      <td>...</td>\n",
              "      <td>...</td>\n",
              "      <td>...</td>\n",
              "      <td>...</td>\n",
              "      <td>...</td>\n",
              "      <td>...</td>\n",
              "      <td>...</td>\n",
              "      <td>...</td>\n",
              "    </tr>\n",
              "    <tr>\n",
              "      <th>30083</th>\n",
              "      <td>2020-08-03 17:47:10</td>\n",
              "      <td>800</td>\n",
              "      <td>586253516</td>\n",
              "      <td>twuerzer</td>\n",
              "      <td>Not Specified</td>\n",
              "      <td>RT -- NEW: NHC_Atlantic : Storm surge inundati...</td>\n",
              "      <td>isaias</td>\n",
              "      <td>['RT', 'NEW', 'NHCAtlantic', 'Storm', 'surge',...</td>\n",
              "      <td>None</td>\n",
              "    </tr>\n",
              "    <tr>\n",
              "      <th>30084</th>\n",
              "      <td>2020-08-03 17:41:11</td>\n",
              "      <td>800</td>\n",
              "      <td>962419303604776968</td>\n",
              "      <td>foxcata7</td>\n",
              "      <td>Not Specified</td>\n",
              "      <td>fema: RT @NHC_Atlantic: Storm surge inundation...</td>\n",
              "      <td>isaias</td>\n",
              "      <td>['fema', 'RT', 'NHCAtlantic', 'Storm', 'surge'...</td>\n",
              "      <td>None</td>\n",
              "    </tr>\n",
              "    <tr>\n",
              "      <th>30085</th>\n",
              "      <td>2020-08-03 17:38:53</td>\n",
              "      <td>800</td>\n",
              "      <td>9309082</td>\n",
              "      <td>huttson</td>\n",
              "      <td>Not Specified</td>\n",
              "      <td>‘INUNDATION: Art and Climate Change in the Pac...</td>\n",
              "      <td>NoTags</td>\n",
              "      <td>['‘INUNDATION', 'Art', 'Climate', 'Change', 'P...</td>\n",
              "      <td>None</td>\n",
              "    </tr>\n",
              "    <tr>\n",
              "      <th>30086</th>\n",
              "      <td>2020-08-03 17:33:13</td>\n",
              "      <td>800</td>\n",
              "      <td>1059455606564798465</td>\n",
              "      <td>sismosvenezuela</td>\n",
              "      <td>Not Specified</td>\n",
              "      <td>#NHC_Atlantic: Storm surge inundation of 3-5 f...</td>\n",
              "      <td>nhc_atlantic, isaias</td>\n",
              "      <td>['NHCAtlantic', 'Storm', 'surge', 'inundation'...</td>\n",
              "      <td>None</td>\n",
              "    </tr>\n",
              "    <tr>\n",
              "      <th>30087</th>\n",
              "      <td>2020-08-03 17:26:55</td>\n",
              "      <td>800</td>\n",
              "      <td>299798272</td>\n",
              "      <td>nhc_atlantic</td>\n",
              "      <td>Not Specified</td>\n",
              "      <td>Storm surge inundation of 3-5 ft above ground ...</td>\n",
              "      <td>isaias</td>\n",
              "      <td>['Storm', 'surge', 'inundation', '35', 'ft', '...</td>\n",
              "      <td>None</td>\n",
              "    </tr>\n",
              "  </tbody>\n",
              "</table>\n",
              "<p>30088 rows × 9 columns</p>\n",
              "</div>"
            ],
            "text/plain": [
              "           date/time range  ...  category\n",
              "0      2020-10-31 07:56:37  ...     flood\n",
              "1      2020-10-31 07:49:35  ...     flood\n",
              "2      2020-10-31 07:23:57  ...     flood\n",
              "3      2020-10-31 07:12:06  ...     flood\n",
              "4      2020-10-31 07:10:16  ...     flood\n",
              "...                    ...  ...       ...\n",
              "30083  2020-08-03 17:47:10  ...      None\n",
              "30084  2020-08-03 17:41:11  ...      None\n",
              "30085  2020-08-03 17:38:53  ...      None\n",
              "30086  2020-08-03 17:33:13  ...      None\n",
              "30087  2020-08-03 17:26:55  ...      None\n",
              "\n",
              "[30088 rows x 9 columns]"
            ]
          },
          "metadata": {
            "tags": []
          },
          "execution_count": 21
        }
      ]
    },
    {
      "cell_type": "code",
      "metadata": {
        "id": "hSsV-fnQGEtb"
      },
      "source": [
        ""
      ],
      "execution_count": null,
      "outputs": []
    },
    {
      "cell_type": "code",
      "metadata": {
        "id": "VaLMlEgzGEwJ"
      },
      "source": [
        ""
      ],
      "execution_count": null,
      "outputs": []
    }
  ]
}
