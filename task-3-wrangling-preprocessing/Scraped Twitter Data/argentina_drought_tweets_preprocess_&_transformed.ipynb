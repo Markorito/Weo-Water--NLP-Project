{
  "nbformat": 4,
  "nbformat_minor": 0,
  "metadata": {
    "colab": {
      "name": "argentina_drought_tweets_preprocess_&_transformed.ipynb",
      "provenance": []
    },
    "kernelspec": {
      "name": "python3",
      "display_name": "Python 3"
    },
    "language_info": {
      "name": "python"
    }
  },
  "cells": [
    {
      "cell_type": "code",
      "metadata": {
        "colab": {
          "resources": {
            "http://localhost:8080/nbextensions/google.colab/files.js": {
              "data": "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",
              "ok": true,
              "headers": [
                [
                  "content-type",
                  "application/javascript"
                ]
              ],
              "status": 200,
              "status_text": ""
            }
          },
          "base_uri": "https://localhost:8080/",
          "height": 73
        },
        "id": "U42_XmGyqQkB",
        "outputId": "c0e3e11d-dd28-4f26-cd6a-eff356260fd3"
      },
      "source": [
        "from google.colab import files\n",
        "uploaded= files.upload()"
      ],
      "execution_count": 1,
      "outputs": [
        {
          "output_type": "display_data",
          "data": {
            "text/html": [
              "\n",
              "     <input type=\"file\" id=\"files-f96b3bee-bece-4c91-9a74-96b85a2b5a4c\" name=\"files[]\" multiple disabled\n",
              "        style=\"border:none\" />\n",
              "     <output id=\"result-f96b3bee-bece-4c91-9a74-96b85a2b5a4c\">\n",
              "      Upload widget is only available when the cell has been executed in the\n",
              "      current browser session. Please rerun this cell to enable.\n",
              "      </output>\n",
              "      <script src=\"/nbextensions/google.colab/files.js\"></script> "
            ],
            "text/plain": [
              "<IPython.core.display.HTML object>"
            ]
          },
          "metadata": {
            "tags": []
          }
        },
        {
          "output_type": "stream",
          "text": [
            "Saving Argentina_drought.csv to Argentina_drought.csv\n"
          ],
          "name": "stdout"
        }
      ]
    },
    {
      "cell_type": "code",
      "metadata": {
        "colab": {
          "base_uri": "https://localhost:8080/"
        },
        "id": "_6SjmauGqT0G",
        "outputId": "fbf0e059-b326-4113-c07b-8d933b49c322"
      },
      "source": [
        "import pandas as pd\n",
        "import numpy as np\n",
        "import csv\n",
        "from tqdm import tqdm\n",
        "import base64\n",
        "from io import BytesIO\n",
        "import requests\n",
        "import re\n",
        "import io\n",
        "import nltk\n",
        "from nltk.corpus import stopwords\n",
        "from nltk.tokenize import word_tokenize,RegexpTokenizer\n",
        "nltk.download('punkt')\n",
        "nltk.download('stopwords')"
      ],
      "execution_count": 2,
      "outputs": [
        {
          "output_type": "stream",
          "text": [
            "[nltk_data] Downloading package punkt to /root/nltk_data...\n",
            "[nltk_data]   Unzipping tokenizers/punkt.zip.\n",
            "[nltk_data] Downloading package stopwords to /root/nltk_data...\n",
            "[nltk_data]   Unzipping corpora/stopwords.zip.\n"
          ],
          "name": "stdout"
        },
        {
          "output_type": "execute_result",
          "data": {
            "text/plain": [
              "True"
            ]
          },
          "metadata": {
            "tags": []
          },
          "execution_count": 2
        }
      ]
    },
    {
      "cell_type": "code",
      "metadata": {
        "id": "TwlGdEnaqT2r"
      },
      "source": [
        "argentina_drought= pd.read_csv('Argentina_drought.csv')"
      ],
      "execution_count": 3,
      "outputs": []
    },
    {
      "cell_type": "code",
      "metadata": {
        "colab": {
          "base_uri": "https://localhost:8080/",
          "height": 326
        },
        "id": "_iR7XSGKqT5s",
        "outputId": "04ef72b5-ab99-4c36-ba98-908df418a143"
      },
      "source": [
        "argentina_drought.head(10)"
      ],
      "execution_count": 4,
      "outputs": [
        {
          "output_type": "execute_result",
          "data": {
            "text/html": [
              "<div>\n",
              "<style scoped>\n",
              "    .dataframe tbody tr th:only-of-type {\n",
              "        vertical-align: middle;\n",
              "    }\n",
              "\n",
              "    .dataframe tbody tr th {\n",
              "        vertical-align: top;\n",
              "    }\n",
              "\n",
              "    .dataframe thead th {\n",
              "        text-align: right;\n",
              "    }\n",
              "</style>\n",
              "<table border=\"1\" class=\"dataframe\">\n",
              "  <thead>\n",
              "    <tr style=\"text-align: right;\">\n",
              "      <th></th>\n",
              "      <th>id</th>\n",
              "      <th>conversation_id</th>\n",
              "      <th>created_at</th>\n",
              "      <th>date</th>\n",
              "      <th>time</th>\n",
              "      <th>timezone</th>\n",
              "      <th>user_id</th>\n",
              "      <th>username</th>\n",
              "      <th>name</th>\n",
              "      <th>place</th>\n",
              "      <th>tweet</th>\n",
              "      <th>category</th>\n",
              "      <th>language</th>\n",
              "      <th>mentions</th>\n",
              "      <th>urls</th>\n",
              "      <th>photos</th>\n",
              "      <th>replies_count</th>\n",
              "      <th>retweets_count</th>\n",
              "      <th>likes_count</th>\n",
              "      <th>hashtags</th>\n",
              "      <th>cashtags</th>\n",
              "      <th>link</th>\n",
              "      <th>retweet</th>\n",
              "      <th>quote_url</th>\n",
              "      <th>video</th>\n",
              "      <th>thumbnail</th>\n",
              "      <th>near</th>\n",
              "      <th>geo</th>\n",
              "      <th>source</th>\n",
              "      <th>user_rt_id</th>\n",
              "      <th>user_rt</th>\n",
              "      <th>retweet_id</th>\n",
              "      <th>reply_to</th>\n",
              "      <th>retweet_date</th>\n",
              "      <th>translate</th>\n",
              "      <th>trans_src</th>\n",
              "      <th>trans_dest</th>\n",
              "    </tr>\n",
              "  </thead>\n",
              "  <tbody>\n",
              "    <tr>\n",
              "      <th>0</th>\n",
              "      <td>1.401261e+18</td>\n",
              "      <td>1.401261e+18</td>\n",
              "      <td>2021-06-05 15:31:58 EDT</td>\n",
              "      <td>2021-06-05</td>\n",
              "      <td>03:31:58 PM</td>\n",
              "      <td>-400</td>\n",
              "      <td>1.069709e+18</td>\n",
              "      <td>bitter_b0xx</td>\n",
              "      <td>b @ exams &amp; HW</td>\n",
              "      <td>NaN</td>\n",
              "      <td>squeee its about to rain im super happy!!!1! I...</td>\n",
              "      <td>none</td>\n",
              "      <td>en</td>\n",
              "      <td>[]</td>\n",
              "      <td>[]</td>\n",
              "      <td>[]</td>\n",
              "      <td>1</td>\n",
              "      <td>0</td>\n",
              "      <td>1</td>\n",
              "      <td>[]</td>\n",
              "      <td>[]</td>\n",
              "      <td>https://twitter.com/bitter_b0xx/status/1401260...</td>\n",
              "      <td>False</td>\n",
              "      <td>NaN</td>\n",
              "      <td>0</td>\n",
              "      <td>NaN</td>\n",
              "      <td>Argentina</td>\n",
              "      <td>NaN</td>\n",
              "      <td>NaN</td>\n",
              "      <td>NaN</td>\n",
              "      <td>NaN</td>\n",
              "      <td>NaN</td>\n",
              "      <td>[]</td>\n",
              "      <td>NaN</td>\n",
              "      <td>NaN</td>\n",
              "      <td>NaN</td>\n",
              "      <td>NaN</td>\n",
              "    </tr>\n",
              "    <tr>\n",
              "      <th>1</th>\n",
              "      <td>1.400889e+18</td>\n",
              "      <td>1.400600e+18</td>\n",
              "      <td>2021-06-04 14:54:34 EDT</td>\n",
              "      <td>2021-06-04</td>\n",
              "      <td>02:54:34 PM</td>\n",
              "      <td>-400</td>\n",
              "      <td>1.341297e+08</td>\n",
              "      <td>edreynolds17</td>\n",
              "      <td>eduardo reynolds</td>\n",
              "      <td>NaN</td>\n",
              "      <td>@Engineer_Farmer just have a look a the desert...</td>\n",
              "      <td>none</td>\n",
              "      <td>en</td>\n",
              "      <td>[]</td>\n",
              "      <td>[]</td>\n",
              "      <td>[]</td>\n",
              "      <td>1</td>\n",
              "      <td>0</td>\n",
              "      <td>1</td>\n",
              "      <td>[]</td>\n",
              "      <td>[]</td>\n",
              "      <td>https://twitter.com/edreynolds17/status/140088...</td>\n",
              "      <td>False</td>\n",
              "      <td>NaN</td>\n",
              "      <td>0</td>\n",
              "      <td>NaN</td>\n",
              "      <td>Argentina</td>\n",
              "      <td>NaN</td>\n",
              "      <td>NaN</td>\n",
              "      <td>NaN</td>\n",
              "      <td>NaN</td>\n",
              "      <td>NaN</td>\n",
              "      <td>[{'screen_name': 'Engineer_Farmer', 'name': 'A...</td>\n",
              "      <td>NaN</td>\n",
              "      <td>NaN</td>\n",
              "      <td>NaN</td>\n",
              "      <td>NaN</td>\n",
              "    </tr>\n",
              "    <tr>\n",
              "      <th>2</th>\n",
              "      <td>1.400248e+18</td>\n",
              "      <td>1.400248e+18</td>\n",
              "      <td>2021-06-02 20:28:36 EDT</td>\n",
              "      <td>2021-06-02</td>\n",
              "      <td>08:28:36 PM</td>\n",
              "      <td>-400</td>\n",
              "      <td>1.393095e+18</td>\n",
              "      <td>mpiedrav</td>\n",
              "      <td>Marco Piedra Venegas</td>\n",
              "      <td>NaN</td>\n",
              "      <td>Climate change is of no concern for future eli...</td>\n",
              "      <td>none</td>\n",
              "      <td>en</td>\n",
              "      <td>[]</td>\n",
              "      <td>[]</td>\n",
              "      <td>[]</td>\n",
              "      <td>1</td>\n",
              "      <td>0</td>\n",
              "      <td>0</td>\n",
              "      <td>[]</td>\n",
              "      <td>[]</td>\n",
              "      <td>https://twitter.com/mpiedrav/status/1400248015...</td>\n",
              "      <td>False</td>\n",
              "      <td>NaN</td>\n",
              "      <td>0</td>\n",
              "      <td>NaN</td>\n",
              "      <td>Argentina</td>\n",
              "      <td>NaN</td>\n",
              "      <td>NaN</td>\n",
              "      <td>NaN</td>\n",
              "      <td>NaN</td>\n",
              "      <td>NaN</td>\n",
              "      <td>[]</td>\n",
              "      <td>NaN</td>\n",
              "      <td>NaN</td>\n",
              "      <td>NaN</td>\n",
              "      <td>NaN</td>\n",
              "    </tr>\n",
              "    <tr>\n",
              "      <th>3</th>\n",
              "      <td>1.399385e+18</td>\n",
              "      <td>1.399385e+18</td>\n",
              "      <td>2021-05-31 11:18:41 EDT</td>\n",
              "      <td>2021-05-31</td>\n",
              "      <td>11:18:41 AM</td>\n",
              "      <td>-400</td>\n",
              "      <td>1.443053e+08</td>\n",
              "      <td>vivisjoon</td>\n",
              "      <td>iari&amp;⁷ 🥞</td>\n",
              "      <td>NaN</td>\n",
              "      <td>5 months of drought...FIVE MONTHS</td>\n",
              "      <td>none</td>\n",
              "      <td>en</td>\n",
              "      <td>[]</td>\n",
              "      <td>[]</td>\n",
              "      <td>[]</td>\n",
              "      <td>0</td>\n",
              "      <td>0</td>\n",
              "      <td>0</td>\n",
              "      <td>[]</td>\n",
              "      <td>[]</td>\n",
              "      <td>https://twitter.com/vivisjoon/status/139938484...</td>\n",
              "      <td>False</td>\n",
              "      <td>NaN</td>\n",
              "      <td>0</td>\n",
              "      <td>NaN</td>\n",
              "      <td>Argentina</td>\n",
              "      <td>NaN</td>\n",
              "      <td>NaN</td>\n",
              "      <td>NaN</td>\n",
              "      <td>NaN</td>\n",
              "      <td>NaN</td>\n",
              "      <td>[]</td>\n",
              "      <td>NaN</td>\n",
              "      <td>NaN</td>\n",
              "      <td>NaN</td>\n",
              "      <td>NaN</td>\n",
              "    </tr>\n",
              "  </tbody>\n",
              "</table>\n",
              "</div>"
            ],
            "text/plain": [
              "             id  conversation_id  ... trans_src trans_dest\n",
              "0  1.401261e+18     1.401261e+18  ...       NaN        NaN\n",
              "1  1.400889e+18     1.400600e+18  ...       NaN        NaN\n",
              "2  1.400248e+18     1.400248e+18  ...       NaN        NaN\n",
              "3  1.399385e+18     1.399385e+18  ...       NaN        NaN\n",
              "\n",
              "[4 rows x 37 columns]"
            ]
          },
          "metadata": {
            "tags": []
          },
          "execution_count": 4
        }
      ]
    },
    {
      "cell_type": "code",
      "metadata": {
        "colab": {
          "base_uri": "https://localhost:8080/"
        },
        "id": "q2Znkr4lqT8w",
        "outputId": "44aab432-857a-49fd-a49d-a601ae578fad"
      },
      "source": [
        "argentina_drought.columns"
      ],
      "execution_count": 5,
      "outputs": [
        {
          "output_type": "execute_result",
          "data": {
            "text/plain": [
              "Index(['id', 'conversation_id', 'created_at', 'date', 'time', 'timezone',\n",
              "       'user_id', 'username', 'name', 'place', 'tweet', 'category', 'language',\n",
              "       'mentions', 'urls', 'photos', 'replies_count', 'retweets_count',\n",
              "       'likes_count', 'hashtags', 'cashtags', 'link', 'retweet', 'quote_url',\n",
              "       'video', 'thumbnail', 'near', 'geo', 'source', 'user_rt_id', 'user_rt',\n",
              "       'retweet_id', 'reply_to', 'retweet_date', 'translate', 'trans_src',\n",
              "       'trans_dest'],\n",
              "      dtype='object')"
            ]
          },
          "metadata": {
            "tags": []
          },
          "execution_count": 5
        }
      ]
    },
    {
      "cell_type": "code",
      "metadata": {
        "id": "h5ViTZcVqUAF"
      },
      "source": [
        "#Removing unwanted columns\n",
        "argentina_drought= argentina_drought.drop(['conversation_id', 'created_at','timezone','user_id', 'username', 'name','place','mentions', \n",
        "                                           'urls','replies_count', 'retweets_count','likes_count','cashtags', 'retweet', 'quote_url',\n",
        "                                           'video', 'thumbnail','geo','user_rt_id', 'user_rt','retweet_id', 'reply_to', 'retweet_date', \n",
        "                                           'translate', 'trans_src','trans_dest','source'],axis=1)"
      ],
      "execution_count": 7,
      "outputs": []
    },
    {
      "cell_type": "code",
      "metadata": {
        "colab": {
          "base_uri": "https://localhost:8080/"
        },
        "id": "E7qEzPBYtbsK",
        "outputId": "ca168111-8851-41e8-e756-63bf5489cac5"
      },
      "source": [
        "argentina_drought.columns"
      ],
      "execution_count": 9,
      "outputs": [
        {
          "output_type": "execute_result",
          "data": {
            "text/plain": [
              "Index(['id', 'date', 'time', 'tweet', 'category', 'language', 'photos',\n",
              "       'hashtags', 'link', 'near'],\n",
              "      dtype='object')"
            ]
          },
          "metadata": {
            "tags": []
          },
          "execution_count": 9
        }
      ]
    },
    {
      "cell_type": "code",
      "metadata": {
        "id": "cv-KxQMxtoaY"
      },
      "source": [
        "#rename the column names\n",
        "argentina_drought.rename(columns={'id':'Id','link':'source URL','near':'country','hashtags':'keywords'},inplace=True)"
      ],
      "execution_count": 10,
      "outputs": []
    },
    {
      "cell_type": "code",
      "metadata": {
        "id": "0w97oKkvEUC9"
      },
      "source": [
        "#merge tweet and photos column and drop tweet and photos link seperate column\n",
        "argentina_drought['body']= argentina_drought['tweet']+argentina_drought['photos']\n",
        "argentina_drought= argentina_drought.drop(['tweet','photos'],axis=1)"
      ],
      "execution_count": 12,
      "outputs": []
    },
    {
      "cell_type": "code",
      "metadata": {
        "id": "QwBfD19NFHbI"
      },
      "source": [
        "#merge data and time column \n",
        "argentina_drought['time']= argentina_drought['date']+' '+argentina_drought['time']\n",
        "argentina_drought= argentina_drought.drop(['date'],axis=1)"
      ],
      "execution_count": 14,
      "outputs": []
    },
    {
      "cell_type": "code",
      "metadata": {
        "id": "eiWnoqFdxP9t"
      },
      "source": [
        "#added data source column\n",
        "argentina_drought['data source']= 'Twitter'"
      ],
      "execution_count": 15,
      "outputs": []
    },
    {
      "cell_type": "code",
      "metadata": {
        "id": "gsUKayMgFXte"
      },
      "source": [
        "argentina_drought['time']= pd.to_datetime(argentina_drought['time'], errors='coerce',utc=True)\n",
        "argentina_drought['Id']= argentina_drought['Id'].astype(object)"
      ],
      "execution_count": 16,
      "outputs": []
    },
    {
      "cell_type": "code",
      "metadata": {
        "colab": {
          "base_uri": "https://localhost:8080/",
          "height": 172
        },
        "id": "d2rC0U5QtogN",
        "outputId": "a316d8b9-5281-4e00-c57f-e95bde19f161"
      },
      "source": [
        "argentina_drought.head(5)"
      ],
      "execution_count": 17,
      "outputs": [
        {
          "output_type": "execute_result",
          "data": {
            "text/html": [
              "<div>\n",
              "<style scoped>\n",
              "    .dataframe tbody tr th:only-of-type {\n",
              "        vertical-align: middle;\n",
              "    }\n",
              "\n",
              "    .dataframe tbody tr th {\n",
              "        vertical-align: top;\n",
              "    }\n",
              "\n",
              "    .dataframe thead th {\n",
              "        text-align: right;\n",
              "    }\n",
              "</style>\n",
              "<table border=\"1\" class=\"dataframe\">\n",
              "  <thead>\n",
              "    <tr style=\"text-align: right;\">\n",
              "      <th></th>\n",
              "      <th>Id</th>\n",
              "      <th>time</th>\n",
              "      <th>category</th>\n",
              "      <th>language</th>\n",
              "      <th>keywords</th>\n",
              "      <th>source URL</th>\n",
              "      <th>country</th>\n",
              "      <th>body</th>\n",
              "      <th>data source</th>\n",
              "    </tr>\n",
              "  </thead>\n",
              "  <tbody>\n",
              "    <tr>\n",
              "      <th>0</th>\n",
              "      <td>1.40126e+18</td>\n",
              "      <td>2021-06-05 15:31:58+00:00</td>\n",
              "      <td>none</td>\n",
              "      <td>en</td>\n",
              "      <td>[]</td>\n",
              "      <td>https://twitter.com/bitter_b0xx/status/1401260...</td>\n",
              "      <td>Argentina</td>\n",
              "      <td>squeee its about to rain im super happy!!!1! I...</td>\n",
              "      <td>Twitter</td>\n",
              "    </tr>\n",
              "    <tr>\n",
              "      <th>1</th>\n",
              "      <td>1.40089e+18</td>\n",
              "      <td>2021-06-04 14:54:34+00:00</td>\n",
              "      <td>none</td>\n",
              "      <td>en</td>\n",
              "      <td>[]</td>\n",
              "      <td>https://twitter.com/edreynolds17/status/140088...</td>\n",
              "      <td>Argentina</td>\n",
              "      <td>@Engineer_Farmer just have a look a the desert...</td>\n",
              "      <td>Twitter</td>\n",
              "    </tr>\n",
              "    <tr>\n",
              "      <th>2</th>\n",
              "      <td>1.40025e+18</td>\n",
              "      <td>2021-06-02 20:28:36+00:00</td>\n",
              "      <td>none</td>\n",
              "      <td>en</td>\n",
              "      <td>[]</td>\n",
              "      <td>https://twitter.com/mpiedrav/status/1400248015...</td>\n",
              "      <td>Argentina</td>\n",
              "      <td>Climate change is of no concern for future eli...</td>\n",
              "      <td>Twitter</td>\n",
              "    </tr>\n",
              "    <tr>\n",
              "      <th>3</th>\n",
              "      <td>1.39938e+18</td>\n",
              "      <td>2021-05-31 11:18:41+00:00</td>\n",
              "      <td>none</td>\n",
              "      <td>en</td>\n",
              "      <td>[]</td>\n",
              "      <td>https://twitter.com/vivisjoon/status/139938484...</td>\n",
              "      <td>Argentina</td>\n",
              "      <td>5 months of drought...FIVE MONTHS[]</td>\n",
              "      <td>Twitter</td>\n",
              "    </tr>\n",
              "  </tbody>\n",
              "</table>\n",
              "</div>"
            ],
            "text/plain": [
              "            Id  ... data source\n",
              "0  1.40126e+18  ...     Twitter\n",
              "1  1.40089e+18  ...     Twitter\n",
              "2  1.40025e+18  ...     Twitter\n",
              "3  1.39938e+18  ...     Twitter\n",
              "\n",
              "[4 rows x 9 columns]"
            ]
          },
          "metadata": {
            "tags": []
          },
          "execution_count": 17
        }
      ]
    },
    {
      "cell_type": "code",
      "metadata": {
        "colab": {
          "base_uri": "https://localhost:8080/"
        },
        "id": "x80cCj--u8o9",
        "outputId": "3459e935-7574-4512-bea6-09fb8c30ef7b"
      },
      "source": [
        "argentina_drought.shape"
      ],
      "execution_count": 18,
      "outputs": [
        {
          "output_type": "execute_result",
          "data": {
            "text/plain": [
              "(4, 9)"
            ]
          },
          "metadata": {
            "tags": []
          },
          "execution_count": 18
        }
      ]
    },
    {
      "cell_type": "code",
      "metadata": {
        "colab": {
          "base_uri": "https://localhost:8080/"
        },
        "id": "2HIF7Ttix9bx",
        "outputId": "9cbe6939-e2f5-4616-faac-77f0e5f3a2a8"
      },
      "source": [
        "argentina_drought.info()"
      ],
      "execution_count": 19,
      "outputs": [
        {
          "output_type": "stream",
          "text": [
            "<class 'pandas.core.frame.DataFrame'>\n",
            "RangeIndex: 4 entries, 0 to 3\n",
            "Data columns (total 9 columns):\n",
            " #   Column       Non-Null Count  Dtype              \n",
            "---  ------       --------------  -----              \n",
            " 0   Id           4 non-null      object             \n",
            " 1   time         4 non-null      datetime64[ns, UTC]\n",
            " 2   category     4 non-null      object             \n",
            " 3   language     4 non-null      object             \n",
            " 4   keywords     4 non-null      object             \n",
            " 5   source URL   4 non-null      object             \n",
            " 6   country      4 non-null      object             \n",
            " 7   body         4 non-null      object             \n",
            " 8   data source  4 non-null      object             \n",
            "dtypes: datetime64[ns, UTC](1), object(8)\n",
            "memory usage: 416.0+ bytes\n"
          ],
          "name": "stdout"
        }
      ]
    },
    {
      "cell_type": "code",
      "metadata": {
        "id": "a7G-n99c1N4b"
      },
      "source": [
        "argentina_drought['title']=''"
      ],
      "execution_count": 22,
      "outputs": []
    },
    {
      "cell_type": "code",
      "metadata": {
        "id": "vf_40POM1N7V"
      },
      "source": [
        "argentina_drought= argentina_drought[['Id','title','time','keywords','data source','category','country','source URL','body','language']]"
      ],
      "execution_count": 23,
      "outputs": []
    },
    {
      "cell_type": "code",
      "metadata": {
        "colab": {
          "base_uri": "https://localhost:8080/",
          "height": 172
        },
        "id": "a2VB_tkn1OAr",
        "outputId": "143c8777-d4fb-436b-9412-c6a3e196b053"
      },
      "source": [
        "argentina_drought.head(7)"
      ],
      "execution_count": 24,
      "outputs": [
        {
          "output_type": "execute_result",
          "data": {
            "text/html": [
              "<div>\n",
              "<style scoped>\n",
              "    .dataframe tbody tr th:only-of-type {\n",
              "        vertical-align: middle;\n",
              "    }\n",
              "\n",
              "    .dataframe tbody tr th {\n",
              "        vertical-align: top;\n",
              "    }\n",
              "\n",
              "    .dataframe thead th {\n",
              "        text-align: right;\n",
              "    }\n",
              "</style>\n",
              "<table border=\"1\" class=\"dataframe\">\n",
              "  <thead>\n",
              "    <tr style=\"text-align: right;\">\n",
              "      <th></th>\n",
              "      <th>Id</th>\n",
              "      <th>title</th>\n",
              "      <th>time</th>\n",
              "      <th>keywords</th>\n",
              "      <th>data source</th>\n",
              "      <th>category</th>\n",
              "      <th>country</th>\n",
              "      <th>source URL</th>\n",
              "      <th>body</th>\n",
              "      <th>language</th>\n",
              "    </tr>\n",
              "  </thead>\n",
              "  <tbody>\n",
              "    <tr>\n",
              "      <th>0</th>\n",
              "      <td>1.40126e+18</td>\n",
              "      <td></td>\n",
              "      <td>2021-06-05 15:31:58+00:00</td>\n",
              "      <td>[]</td>\n",
              "      <td>Twitter</td>\n",
              "      <td>none</td>\n",
              "      <td>Argentina</td>\n",
              "      <td>https://twitter.com/bitter_b0xx/status/1401260...</td>\n",
              "      <td>squeee its about to rain im super happy!!!1! I...</td>\n",
              "      <td>en</td>\n",
              "    </tr>\n",
              "    <tr>\n",
              "      <th>1</th>\n",
              "      <td>1.40089e+18</td>\n",
              "      <td></td>\n",
              "      <td>2021-06-04 14:54:34+00:00</td>\n",
              "      <td>[]</td>\n",
              "      <td>Twitter</td>\n",
              "      <td>none</td>\n",
              "      <td>Argentina</td>\n",
              "      <td>https://twitter.com/edreynolds17/status/140088...</td>\n",
              "      <td>@Engineer_Farmer just have a look a the desert...</td>\n",
              "      <td>en</td>\n",
              "    </tr>\n",
              "    <tr>\n",
              "      <th>2</th>\n",
              "      <td>1.40025e+18</td>\n",
              "      <td></td>\n",
              "      <td>2021-06-02 20:28:36+00:00</td>\n",
              "      <td>[]</td>\n",
              "      <td>Twitter</td>\n",
              "      <td>none</td>\n",
              "      <td>Argentina</td>\n",
              "      <td>https://twitter.com/mpiedrav/status/1400248015...</td>\n",
              "      <td>Climate change is of no concern for future eli...</td>\n",
              "      <td>en</td>\n",
              "    </tr>\n",
              "    <tr>\n",
              "      <th>3</th>\n",
              "      <td>1.39938e+18</td>\n",
              "      <td></td>\n",
              "      <td>2021-05-31 11:18:41+00:00</td>\n",
              "      <td>[]</td>\n",
              "      <td>Twitter</td>\n",
              "      <td>none</td>\n",
              "      <td>Argentina</td>\n",
              "      <td>https://twitter.com/vivisjoon/status/139938484...</td>\n",
              "      <td>5 months of drought...FIVE MONTHS[]</td>\n",
              "      <td>en</td>\n",
              "    </tr>\n",
              "  </tbody>\n",
              "</table>\n",
              "</div>"
            ],
            "text/plain": [
              "            Id  ... language\n",
              "0  1.40126e+18  ...       en\n",
              "1  1.40089e+18  ...       en\n",
              "2  1.40025e+18  ...       en\n",
              "3  1.39938e+18  ...       en\n",
              "\n",
              "[4 rows x 10 columns]"
            ]
          },
          "metadata": {
            "tags": []
          },
          "execution_count": 24
        }
      ]
    },
    {
      "cell_type": "markdown",
      "metadata": {
        "id": "d57q7NRW3Tzu"
      },
      "source": [
        "**preprocess body(tweets)= removed 'https' links and username defined by @, as links are not useful**\n"
      ]
    },
    {
      "cell_type": "code",
      "metadata": {
        "id": "QpnolnVA1ODZ"
      },
      "source": [
        "def cleaned_data(text):\n",
        "    clean=re.sub(\"http\\S+\",\"\",text)\n",
        "    clean = clean.lower()\n",
        "    clean=re.sub(\"@\\S+\",\"\",clean)\n",
        "    clean = re.sub('#', ' ', clean)\n",
        "    clean = re.sub('&amp', ' ', clean)\n",
        "    # clean = re.sub(':', ' ', clean)\n",
        "    clean = re.sub('/', ' ', clean)\n",
        "    clean = re.sub(r'\\?{2,}', '?', clean)\n",
        "    clean = re.sub(r'\\!{2,}', '!', clean)\n",
        "    clean = re.sub(r'\\.{2,}', '.', clean)\n",
        "    clean = re.sub('\\[', '', clean)\n",
        "    clean = re.sub('\\]', '', clean)\n",
        "    clean = re.sub(';', '', clean)\n",
        "    clean = re.sub(r'[(]', ' ', clean)\n",
        "    clean = re.sub(r'[)]', ' ', clean)\n",
        "    clean = re.sub(r'@', ' ', clean)\n",
        "    # clean = re.sub(r'/*', ' ', clean)\n",
        "    clean = re.sub('-', ' ', clean)\n",
        "    # clean = re.sub(r'([a-z])\\1+', r'\\1', clean)  # this is for bring character to once if it is repeating more than once\n",
        "    # clean = re.sub('flod', 'flood', clean)\n",
        "    # clean = re.sub('floding', 'flooding', clean)\n",
        "    clean=re.sub('\"',\" \",clean)\n",
        "    clean=re.sub(\"\\s{2,}\",\" \",clean)\n",
        "    clean=clean.strip()\n",
        "    # clean = TextBlob(clean).correct()\n",
        "    return clean"
      ],
      "execution_count": 25,
      "outputs": []
    },
    {
      "cell_type": "code",
      "metadata": {
        "id": "8enAtzQ51OFx"
      },
      "source": [
        "argentina_drought['cleaned body'] = argentina_drought['body'].apply(cleaned_data)"
      ],
      "execution_count": 26,
      "outputs": []
    },
    {
      "cell_type": "code",
      "metadata": {
        "colab": {
          "base_uri": "https://localhost:8080/"
        },
        "id": "FmZ58b2h93Ay",
        "outputId": "fd75c275-adb4-46c7-eae5-5eafdc59c846"
      },
      "source": [
        "!pip install contractions"
      ],
      "execution_count": 27,
      "outputs": [
        {
          "output_type": "stream",
          "text": [
            "Collecting contractions\n",
            "  Downloading https://files.pythonhosted.org/packages/93/f4/0ec4a458e4368cc3be2c799411ecf0bc961930e566dadb9624563821b3a6/contractions-0.0.52-py2.py3-none-any.whl\n",
            "Collecting textsearch>=0.0.21\n",
            "  Downloading https://files.pythonhosted.org/packages/d3/fe/021d7d76961b5ceb9f8d022c4138461d83beff36c3938dc424586085e559/textsearch-0.0.21-py2.py3-none-any.whl\n",
            "Collecting pyahocorasick\n",
            "\u001b[?25l  Downloading https://files.pythonhosted.org/packages/7f/c2/eae730037ae1cbbfaa229d27030d1d5e34a1e41114b21447d1202ae9c220/pyahocorasick-1.4.2.tar.gz (321kB)\n",
            "\u001b[K     |████████████████████████████████| 327kB 2.9MB/s \n",
            "\u001b[?25hCollecting anyascii\n",
            "\u001b[?25l  Downloading https://files.pythonhosted.org/packages/a3/14/666cd44bf53f36a961544af592cb5c5c800013f9c51a4745af8d7c17362a/anyascii-0.2.0-py3-none-any.whl (283kB)\n",
            "\u001b[K     |████████████████████████████████| 286kB 23.1MB/s \n",
            "\u001b[?25hBuilding wheels for collected packages: pyahocorasick\n",
            "  Building wheel for pyahocorasick (setup.py) ... \u001b[?25l\u001b[?25hdone\n",
            "  Created wheel for pyahocorasick: filename=pyahocorasick-1.4.2-cp37-cp37m-linux_x86_64.whl size=85402 sha256=f7b478cb5a3acbbd815db18f68bfc92afbbdf6fadad27655e6177a95fac3b4d0\n",
            "  Stored in directory: /root/.cache/pip/wheels/3a/03/34/77e3ece0bba8b86bfac88a79f923b36d805cad63caeba38842\n",
            "Successfully built pyahocorasick\n",
            "Installing collected packages: pyahocorasick, anyascii, textsearch, contractions\n",
            "Successfully installed anyascii-0.2.0 contractions-0.0.52 pyahocorasick-1.4.2 textsearch-0.0.21\n"
          ],
          "name": "stdout"
        }
      ]
    },
    {
      "cell_type": "code",
      "metadata": {
        "id": "ozmWthaE-FAQ"
      },
      "source": [
        "import contractions"
      ],
      "execution_count": 28,
      "outputs": []
    },
    {
      "cell_type": "code",
      "metadata": {
        "id": "VAn-NrDm-mHn"
      },
      "source": [
        "def expanded(text):\n",
        "    expanded_words = []    \n",
        "    try:\n",
        "      for word in text.split():\n",
        "        expanded_words.append(contractions.fix(word))\n",
        "    except Exception:\n",
        "      pass         \n",
        "    expanded_text = ' '.join(expanded_words)\n",
        "    return expanded_text"
      ],
      "execution_count": 29,
      "outputs": []
    },
    {
      "cell_type": "code",
      "metadata": {
        "id": "nI4CdH3F2u_s"
      },
      "source": [
        "argentina_drought['cleaned body'] = argentina_drought['cleaned body'].apply(expanded)"
      ],
      "execution_count": 30,
      "outputs": []
    },
    {
      "cell_type": "code",
      "metadata": {
        "id": "EGXRuIuh5Eep"
      },
      "source": [
        "def remove_emojis(data):\n",
        "    emoj = re.compile(\"[\"\n",
        "        u\"\\U0001F600-\\U0001F64F\"  # emoticons\n",
        "        u\"\\U0001F300-\\U0001F5FF\"  # symbols & pictographs\n",
        "        u\"\\U0001F680-\\U0001F6FF\"  # transport & map symbols\n",
        "        u\"\\U0001F1E0-\\U0001F1FF\"  # flags (iOS)\n",
        "        u\"\\U00002500-\\U00002BEF\"  # chinese char\n",
        "        u\"\\U00002702-\\U000027B0\"\n",
        "        u\"\\U00002702-\\U000027B0\"\n",
        "        u\"\\U000024C2-\\U0001F251\"\n",
        "        u\"\\U0001f926-\\U0001f937\"\n",
        "        u\"\\U00010000-\\U0010ffff\"\n",
        "        u\"\\u2640-\\u2642\" \n",
        "        u\"\\u2600-\\u2B55\"\n",
        "        u\"\\u200d\"\n",
        "        u\"\\u23cf\"\n",
        "        u\"\\u23e9\"\n",
        "        u\"\\u231a\"\n",
        "        u\"\\ufe0f\"  # dingbats\n",
        "        u\"\\u3030\"\n",
        "                      \"]+\", re.UNICODE)\n",
        "    return re.sub(emoj, '', data)\n",
        "\n",
        "def final_pre_pro(text):\n",
        "  clean = re.sub('\\+','',text)\n",
        "  clean = re.sub('=','',text)\n",
        "  clean = re.sub('\\_{2,}',' ',text)\n",
        "  clean = re.sub('\\*',' ',text)\n",
        "  clean=re.sub(\"\\s{2,}\",\" \",clean)\n",
        "  return clean.strip()"
      ],
      "execution_count": 31,
      "outputs": []
    },
    {
      "cell_type": "code",
      "metadata": {
        "id": "g0tE5Y_N3FNP"
      },
      "source": [
        "argentina_drought['cleaned body'] = argentina_drought['cleaned body'].apply(remove_emojis)\n",
        "argentina_drought['cleaned body'] = argentina_drought['cleaned body'].apply(final_pre_pro)"
      ],
      "execution_count": 32,
      "outputs": []
    },
    {
      "cell_type": "code",
      "metadata": {
        "colab": {
          "base_uri": "https://localhost:8080/",
          "height": 256
        },
        "id": "OwWkNGBn3Mhf",
        "outputId": "4eee9001-3349-4851-9725-952f23837ef7"
      },
      "source": [
        "argentina_drought.head(5)"
      ],
      "execution_count": 33,
      "outputs": [
        {
          "output_type": "execute_result",
          "data": {
            "text/html": [
              "<div>\n",
              "<style scoped>\n",
              "    .dataframe tbody tr th:only-of-type {\n",
              "        vertical-align: middle;\n",
              "    }\n",
              "\n",
              "    .dataframe tbody tr th {\n",
              "        vertical-align: top;\n",
              "    }\n",
              "\n",
              "    .dataframe thead th {\n",
              "        text-align: right;\n",
              "    }\n",
              "</style>\n",
              "<table border=\"1\" class=\"dataframe\">\n",
              "  <thead>\n",
              "    <tr style=\"text-align: right;\">\n",
              "      <th></th>\n",
              "      <th>Id</th>\n",
              "      <th>title</th>\n",
              "      <th>time</th>\n",
              "      <th>keywords</th>\n",
              "      <th>data source</th>\n",
              "      <th>category</th>\n",
              "      <th>country</th>\n",
              "      <th>source URL</th>\n",
              "      <th>body</th>\n",
              "      <th>language</th>\n",
              "      <th>cleaned body</th>\n",
              "    </tr>\n",
              "  </thead>\n",
              "  <tbody>\n",
              "    <tr>\n",
              "      <th>0</th>\n",
              "      <td>1.40126e+18</td>\n",
              "      <td></td>\n",
              "      <td>2021-06-05 15:31:58+00:00</td>\n",
              "      <td>[]</td>\n",
              "      <td>Twitter</td>\n",
              "      <td>none</td>\n",
              "      <td>Argentina</td>\n",
              "      <td>https://twitter.com/bitter_b0xx/status/1401260...</td>\n",
              "      <td>squeee its about to rain im super happy!!!1! I...</td>\n",
              "      <td>en</td>\n",
              "      <td>squeee its about to rain I am super happy!1! I...</td>\n",
              "    </tr>\n",
              "    <tr>\n",
              "      <th>1</th>\n",
              "      <td>1.40089e+18</td>\n",
              "      <td></td>\n",
              "      <td>2021-06-04 14:54:34+00:00</td>\n",
              "      <td>[]</td>\n",
              "      <td>Twitter</td>\n",
              "      <td>none</td>\n",
              "      <td>Argentina</td>\n",
              "      <td>https://twitter.com/edreynolds17/status/140088...</td>\n",
              "      <td>@Engineer_Farmer just have a look a the desert...</td>\n",
              "      <td>en</td>\n",
              "      <td>just have a look a the deserts, that is drough...</td>\n",
              "    </tr>\n",
              "    <tr>\n",
              "      <th>2</th>\n",
              "      <td>1.40025e+18</td>\n",
              "      <td></td>\n",
              "      <td>2021-06-02 20:28:36+00:00</td>\n",
              "      <td>[]</td>\n",
              "      <td>Twitter</td>\n",
              "      <td>none</td>\n",
              "      <td>Argentina</td>\n",
              "      <td>https://twitter.com/mpiedrav/status/1400248015...</td>\n",
              "      <td>Climate change is of no concern for future eli...</td>\n",
              "      <td>en</td>\n",
              "      <td>climate change is of no concern for future eli...</td>\n",
              "    </tr>\n",
              "    <tr>\n",
              "      <th>3</th>\n",
              "      <td>1.39938e+18</td>\n",
              "      <td></td>\n",
              "      <td>2021-05-31 11:18:41+00:00</td>\n",
              "      <td>[]</td>\n",
              "      <td>Twitter</td>\n",
              "      <td>none</td>\n",
              "      <td>Argentina</td>\n",
              "      <td>https://twitter.com/vivisjoon/status/139938484...</td>\n",
              "      <td>5 months of drought...FIVE MONTHS[]</td>\n",
              "      <td>en</td>\n",
              "      <td>5 months of drought.five months</td>\n",
              "    </tr>\n",
              "  </tbody>\n",
              "</table>\n",
              "</div>"
            ],
            "text/plain": [
              "            Id  ...                                       cleaned body\n",
              "0  1.40126e+18  ...  squeee its about to rain I am super happy!1! I...\n",
              "1  1.40089e+18  ...  just have a look a the deserts, that is drough...\n",
              "2  1.40025e+18  ...  climate change is of no concern for future eli...\n",
              "3  1.39938e+18  ...                    5 months of drought.five months\n",
              "\n",
              "[4 rows x 11 columns]"
            ]
          },
          "metadata": {
            "tags": []
          },
          "execution_count": 33
        }
      ]
    },
    {
      "cell_type": "code",
      "metadata": {
        "id": "-hI8XFa33XVq"
      },
      "source": [
        "#rearange all columns as per final datsets column\n",
        "argentina_drought= argentina_drought[['Id','title','time','keywords','data source','category','country','source URL','body','cleaned body','language']]"
      ],
      "execution_count": 34,
      "outputs": []
    },
    {
      "cell_type": "code",
      "metadata": {
        "colab": {
          "base_uri": "https://localhost:8080/",
          "height": 256
        },
        "id": "gvTlBAIA3jOz",
        "outputId": "7d2e9693-53ef-45d5-c9a8-a567a7592bb3"
      },
      "source": [
        "argentina_drought.head(5)"
      ],
      "execution_count": 35,
      "outputs": [
        {
          "output_type": "execute_result",
          "data": {
            "text/html": [
              "<div>\n",
              "<style scoped>\n",
              "    .dataframe tbody tr th:only-of-type {\n",
              "        vertical-align: middle;\n",
              "    }\n",
              "\n",
              "    .dataframe tbody tr th {\n",
              "        vertical-align: top;\n",
              "    }\n",
              "\n",
              "    .dataframe thead th {\n",
              "        text-align: right;\n",
              "    }\n",
              "</style>\n",
              "<table border=\"1\" class=\"dataframe\">\n",
              "  <thead>\n",
              "    <tr style=\"text-align: right;\">\n",
              "      <th></th>\n",
              "      <th>Id</th>\n",
              "      <th>title</th>\n",
              "      <th>time</th>\n",
              "      <th>keywords</th>\n",
              "      <th>data source</th>\n",
              "      <th>category</th>\n",
              "      <th>country</th>\n",
              "      <th>source URL</th>\n",
              "      <th>body</th>\n",
              "      <th>cleaned body</th>\n",
              "      <th>language</th>\n",
              "    </tr>\n",
              "  </thead>\n",
              "  <tbody>\n",
              "    <tr>\n",
              "      <th>0</th>\n",
              "      <td>1.40126e+18</td>\n",
              "      <td></td>\n",
              "      <td>2021-06-05 15:31:58+00:00</td>\n",
              "      <td>[]</td>\n",
              "      <td>Twitter</td>\n",
              "      <td>none</td>\n",
              "      <td>Argentina</td>\n",
              "      <td>https://twitter.com/bitter_b0xx/status/1401260...</td>\n",
              "      <td>squeee its about to rain im super happy!!!1! I...</td>\n",
              "      <td>squeee its about to rain I am super happy!1! I...</td>\n",
              "      <td>en</td>\n",
              "    </tr>\n",
              "    <tr>\n",
              "      <th>1</th>\n",
              "      <td>1.40089e+18</td>\n",
              "      <td></td>\n",
              "      <td>2021-06-04 14:54:34+00:00</td>\n",
              "      <td>[]</td>\n",
              "      <td>Twitter</td>\n",
              "      <td>none</td>\n",
              "      <td>Argentina</td>\n",
              "      <td>https://twitter.com/edreynolds17/status/140088...</td>\n",
              "      <td>@Engineer_Farmer just have a look a the desert...</td>\n",
              "      <td>just have a look a the deserts, that is drough...</td>\n",
              "      <td>en</td>\n",
              "    </tr>\n",
              "    <tr>\n",
              "      <th>2</th>\n",
              "      <td>1.40025e+18</td>\n",
              "      <td></td>\n",
              "      <td>2021-06-02 20:28:36+00:00</td>\n",
              "      <td>[]</td>\n",
              "      <td>Twitter</td>\n",
              "      <td>none</td>\n",
              "      <td>Argentina</td>\n",
              "      <td>https://twitter.com/mpiedrav/status/1400248015...</td>\n",
              "      <td>Climate change is of no concern for future eli...</td>\n",
              "      <td>climate change is of no concern for future eli...</td>\n",
              "      <td>en</td>\n",
              "    </tr>\n",
              "    <tr>\n",
              "      <th>3</th>\n",
              "      <td>1.39938e+18</td>\n",
              "      <td></td>\n",
              "      <td>2021-05-31 11:18:41+00:00</td>\n",
              "      <td>[]</td>\n",
              "      <td>Twitter</td>\n",
              "      <td>none</td>\n",
              "      <td>Argentina</td>\n",
              "      <td>https://twitter.com/vivisjoon/status/139938484...</td>\n",
              "      <td>5 months of drought...FIVE MONTHS[]</td>\n",
              "      <td>5 months of drought.five months</td>\n",
              "      <td>en</td>\n",
              "    </tr>\n",
              "  </tbody>\n",
              "</table>\n",
              "</div>"
            ],
            "text/plain": [
              "            Id  ... language\n",
              "0  1.40126e+18  ...       en\n",
              "1  1.40089e+18  ...       en\n",
              "2  1.40025e+18  ...       en\n",
              "3  1.39938e+18  ...       en\n",
              "\n",
              "[4 rows x 11 columns]"
            ]
          },
          "metadata": {
            "tags": []
          },
          "execution_count": 35
        }
      ]
    },
    {
      "cell_type": "code",
      "metadata": {
        "colab": {
          "base_uri": "https://localhost:8080/"
        },
        "id": "UOOGUhBq3kmX",
        "outputId": "6b83c015-ead9-4f26-f093-79817bf2d12a"
      },
      "source": [
        "argentina_drought['category'].value_counts()"
      ],
      "execution_count": 36,
      "outputs": [
        {
          "output_type": "execute_result",
          "data": {
            "text/plain": [
              "none    4\n",
              "Name: category, dtype: int64"
            ]
          },
          "metadata": {
            "tags": []
          },
          "execution_count": 36
        }
      ]
    },
    {
      "cell_type": "code",
      "metadata": {
        "colab": {
          "base_uri": "https://localhost:8080/",
          "height": 282
        },
        "id": "c7k8IYAB3rdc",
        "outputId": "a3c2073e-da3d-475f-f104-91fbe7e96ae6"
      },
      "source": [
        "argentina_drought['category'].value_counts().plot(kind='barh')"
      ],
      "execution_count": 37,
      "outputs": [
        {
          "output_type": "execute_result",
          "data": {
            "text/plain": [
              "<matplotlib.axes._subplots.AxesSubplot at 0x7f3261c4d3d0>"
            ]
          },
          "metadata": {
            "tags": []
          },
          "execution_count": 37
        },
        {
          "output_type": "display_data",
          "data": {
            "image/png": "[encoded data removed]",
            "text/plain": [
              "<Figure size 432x288 with 1 Axes>"
            ]
          },
          "metadata": {
            "tags": [],
            "needs_background": "light"
          }
        }
      ]
    },
    {
      "cell_type": "code",
      "metadata": {
        "id": "4Q_z14it3sHq"
      },
      "source": [
        "argentina_drought.to_csv('argentina_drought_tweets_transformed.csv', index=False)"
      ],
      "execution_count": 39,
      "outputs": []
    },
    {
      "cell_type": "code",
      "metadata": {
        "id": "2gxbPt6g5gMA"
      },
      "source": [
        ""
      ],
      "execution_count": null,
      "outputs": []
    }
  ]
}