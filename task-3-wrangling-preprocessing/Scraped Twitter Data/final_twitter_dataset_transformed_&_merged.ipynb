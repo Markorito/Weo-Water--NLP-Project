{
  "nbformat": 4,
  "nbformat_minor": 0,
  "metadata": {
    "colab": {
      "name": "final_twitter_dataset_transformed_&_merged.ipynb",
      "provenance": []
    },
    "kernelspec": {
      "name": "python3",
      "display_name": "Python 3"
    },
    "language_info": {
      "name": "python"
    }
  },
  "cells": [
    {
      "cell_type": "code",
      "metadata": {
        "colab": {
          "resources": {
            "http://localhost:8080/nbextensions/google.colab/files.js": {
              "data": "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",
              "ok": true,
              "headers": [
                [
                  "content-type",
                  "application/javascript"
                ]
              ],
              "status": 200,
              "status_text": ""
            }
          },
          "base_uri": "https://localhost:8080/",
          "height": 174
        },
        "id": "DBQChaPNzu54",
        "outputId": "96b0cb6c-38c9-4713-8aa4-46c45825b5ab"
      },
      "source": [
        "from google.colab import files\n",
        "uploaded= files.upload()"
      ],
      "execution_count": 41,
      "outputs": [
        {
          "output_type": "display_data",
          "data": {
            "text/html": [
              "\n",
              "     <input type=\"file\" id=\"files-e13ec051-873d-4a4d-b909-db88a529e557\" name=\"files[]\" multiple disabled\n",
              "        style=\"border:none\" />\n",
              "     <output id=\"result-e13ec051-873d-4a4d-b909-db88a529e557\">\n",
              "      Upload widget is only available when the cell has been executed in the\n",
              "      current browser session. Please rerun this cell to enable.\n",
              "      </output>\n",
              "      <script src=\"/nbextensions/google.colab/files.js\"></script> "
            ],
            "text/plain": [
              "<IPython.core.display.HTML object>"
            ]
          },
          "metadata": {
            "tags": []
          }
        },
        {
          "output_type": "stream",
          "text": [
            "Saving final_merge_and_preprocessed.csv to final_merge_and_preprocessed (1).csv\n",
            "Saving argentina_drought_tweets_transformed.csv to argentina_drought_tweets_transformed (2).csv\n",
            "Saving australia_drought_tweets_transformed.csv to australia_drought_tweets_transformed (2).csv\n",
            "Saving extracted_tweets_transformed.csv to extracted_tweets_transformed (2).csv\n"
          ],
          "name": "stdout"
        }
      ]
    },
    {
      "cell_type": "code",
      "metadata": {
        "id": "ZXgPD7og1Z0R"
      },
      "source": [
        "import pandas as pd\n",
        "import numpy as np\n",
        "import csv\n",
        "from tqdm import tqdm\n",
        "import base64\n",
        "from io import BytesIO\n",
        "import requests\n",
        "import io"
      ],
      "execution_count": 42,
      "outputs": []
    },
    {
      "cell_type": "code",
      "metadata": {
        "colab": {
          "base_uri": "https://localhost:8080/"
        },
        "id": "-khSW0mxAjqA",
        "outputId": "47690c2b-6089-491f-d127-4142a81e378f"
      },
      "source": [
        "df1= pd.read_csv('final_merge_and_preprocessed.csv')\n",
        "df2= pd.read_csv('extracted_tweets_transformed.csv')\n",
        "df3= pd.read_csv('australia_drought_tweets_transformed.csv')\n",
        "df4= pd.read_csv('argentina_drought_tweets_transformed.csv')"
      ],
      "execution_count": 43,
      "outputs": [
        {
          "output_type": "stream",
          "text": [
            "/usr/local/lib/python3.7/dist-packages/IPython/core/interactiveshell.py:2718: DtypeWarning: Columns (0,1,5,6) have mixed types.Specify dtype option on import or set low_memory=False.\n",
            "  interactivity=interactivity, compiler=compiler, result=result)\n"
          ],
          "name": "stderr"
        }
      ]
    },
    {
      "cell_type": "code",
      "metadata": {
        "colab": {
          "base_uri": "https://localhost:8080/",
          "height": 304
        },
        "id": "IDXDofo2C2fy",
        "outputId": "83f4a0fb-2038-487a-a537-cd6e76ce4634"
      },
      "source": [
        "df1.head(5)"
      ],
      "execution_count": 44,
      "outputs": [
        {
          "output_type": "execute_result",
          "data": {
            "text/html": [
              "<div>\n",
              "<style scoped>\n",
              "    .dataframe tbody tr th:only-of-type {\n",
              "        vertical-align: middle;\n",
              "    }\n",
              "\n",
              "    .dataframe tbody tr th {\n",
              "        vertical-align: top;\n",
              "    }\n",
              "\n",
              "    .dataframe thead th {\n",
              "        text-align: right;\n",
              "    }\n",
              "</style>\n",
              "<table border=\"1\" class=\"dataframe\">\n",
              "  <thead>\n",
              "    <tr style=\"text-align: right;\">\n",
              "      <th></th>\n",
              "      <th>Id</th>\n",
              "      <th>title</th>\n",
              "      <th>time</th>\n",
              "      <th>keywords</th>\n",
              "      <th>data source</th>\n",
              "      <th>category</th>\n",
              "      <th>country</th>\n",
              "      <th>source URL</th>\n",
              "      <th>body</th>\n",
              "      <th>cleaned body</th>\n",
              "      <th>language</th>\n",
              "    </tr>\n",
              "  </thead>\n",
              "  <tbody>\n",
              "    <tr>\n",
              "      <th>0</th>\n",
              "      <td>1.23e+18</td>\n",
              "      <td>NaN</td>\n",
              "      <td>2021-05-14 23:59:00+00:00</td>\n",
              "      <td>NaN</td>\n",
              "      <td>Twitter</td>\n",
              "      <td>NaN</td>\n",
              "      <td>NaN</td>\n",
              "      <td>NaN</td>\n",
              "      <td>@caleb_efird I had to go see for myself and......</td>\n",
              "      <td>i had to go see for myself and.it gets worse</td>\n",
              "      <td>en</td>\n",
              "    </tr>\n",
              "    <tr>\n",
              "      <th>1</th>\n",
              "      <td>1.28e+18</td>\n",
              "      <td>NaN</td>\n",
              "      <td>2021-05-21 23:59:00+00:00</td>\n",
              "      <td>NaN</td>\n",
              "      <td>Twitter</td>\n",
              "      <td>NaN</td>\n",
              "      <td>NaN</td>\n",
              "      <td>NaN</td>\n",
              "      <td>if it in the ground it will grow in food waste...</td>\n",
              "      <td>if it in the ground it will grow in food waste...</td>\n",
              "      <td>en</td>\n",
              "    </tr>\n",
              "    <tr>\n",
              "      <th>2</th>\n",
              "      <td>3.36218e+09</td>\n",
              "      <td>NaN</td>\n",
              "      <td>2021-05-21 23:59:00+00:00</td>\n",
              "      <td>NaN</td>\n",
              "      <td>Twitter</td>\n",
              "      <td>NaN</td>\n",
              "      <td>NaN</td>\n",
              "      <td>NaN</td>\n",
              "      <td>Monitoring the local river levels in Braithwai...</td>\n",
              "      <td>monitoring the local river levels in braithwai...</td>\n",
              "      <td>en</td>\n",
              "    </tr>\n",
              "    <tr>\n",
              "      <th>3</th>\n",
              "      <td>2.41811e+09</td>\n",
              "      <td>NaN</td>\n",
              "      <td>2021-05-21 23:59:00+00:00</td>\n",
              "      <td>NaN</td>\n",
              "      <td>Twitter</td>\n",
              "      <td>NaN</td>\n",
              "      <td>NaN</td>\n",
              "      <td>NaN</td>\n",
              "      <td>all the water leaving my brain to go flood my ...</td>\n",
              "      <td>all the water leaving my brain to go flood my ...</td>\n",
              "      <td>en</td>\n",
              "    </tr>\n",
              "    <tr>\n",
              "      <th>4</th>\n",
              "      <td>2.53134e+09</td>\n",
              "      <td>NaN</td>\n",
              "      <td>2021-05-21 23:58:00+00:00</td>\n",
              "      <td>NaN</td>\n",
              "      <td>Twitter</td>\n",
              "      <td>NaN</td>\n",
              "      <td>NaN</td>\n",
              "      <td>NaN</td>\n",
              "      <td>@ozthegoatguy Are the goats expecting a flood?...</td>\n",
              "      <td>are the goats expecting a flood? they are all ...</td>\n",
              "      <td>en</td>\n",
              "    </tr>\n",
              "  </tbody>\n",
              "</table>\n",
              "</div>"
            ],
            "text/plain": [
              "            Id  ... language\n",
              "0     1.23e+18  ...       en\n",
              "1     1.28e+18  ...       en\n",
              "2  3.36218e+09  ...       en\n",
              "3  2.41811e+09  ...       en\n",
              "4  2.53134e+09  ...       en\n",
              "\n",
              "[5 rows x 11 columns]"
            ]
          },
          "metadata": {
            "tags": []
          },
          "execution_count": 44
        }
      ]
    },
    {
      "cell_type": "code",
      "metadata": {
        "colab": {
          "base_uri": "https://localhost:8080/"
        },
        "id": "Zuu4uEeUC5ZX",
        "outputId": "b131f1b2-3d23-47ad-f7f9-3b807b6b5164"
      },
      "source": [
        "df1.shape"
      ],
      "execution_count": 45,
      "outputs": [
        {
          "output_type": "execute_result",
          "data": {
            "text/plain": [
              "(87437, 11)"
            ]
          },
          "metadata": {
            "tags": []
          },
          "execution_count": 45
        }
      ]
    },
    {
      "cell_type": "code",
      "metadata": {
        "id": "Ec8bIDYxE_Hr"
      },
      "source": [
        "#drop the rows whose category has NaN values\n",
        "df1= df1.dropna(subset=['category'])"
      ],
      "execution_count": 46,
      "outputs": []
    },
    {
      "cell_type": "code",
      "metadata": {
        "colab": {
          "base_uri": "https://localhost:8080/"
        },
        "id": "98yVthIhFDmQ",
        "outputId": "56c78414-7f8c-4cca-94f7-c8a73d741300"
      },
      "source": [
        "df1.shape"
      ],
      "execution_count": 47,
      "outputs": [
        {
          "output_type": "execute_result",
          "data": {
            "text/plain": [
              "(623, 11)"
            ]
          },
          "metadata": {
            "tags": []
          },
          "execution_count": 47
        }
      ]
    },
    {
      "cell_type": "code",
      "metadata": {
        "colab": {
          "base_uri": "https://localhost:8080/"
        },
        "id": "FEi-W282DLiO",
        "outputId": "0ea3d1f4-9e86-44f0-9794-f72e49ae0c32"
      },
      "source": [
        "df1['category'].unique()"
      ],
      "execution_count": 48,
      "outputs": [
        {
          "output_type": "execute_result",
          "data": {
            "text/plain": [
              "array(['flood', 'None', 'Flood'], dtype=object)"
            ]
          },
          "metadata": {
            "tags": []
          },
          "execution_count": 48
        }
      ]
    },
    {
      "cell_type": "code",
      "metadata": {
        "id": "zGXVPsnoGpnF"
      },
      "source": [
        "df1['time']= pd.to_datetime(df1['time'], errors='coerce',utc=True)\n",
        "df1['keywords']= df1['keywords'].astype(object)\n",
        "df1['source URL']= df1['source URL'].astype(object)"
      ],
      "execution_count": 49,
      "outputs": []
    },
    {
      "cell_type": "code",
      "metadata": {
        "colab": {
          "base_uri": "https://localhost:8080/"
        },
        "id": "8ydTyFVfDLya",
        "outputId": "920bbfc4-f072-4d68-af33-eaffd33ccfbe"
      },
      "source": [
        "df1.info()"
      ],
      "execution_count": 50,
      "outputs": [
        {
          "output_type": "stream",
          "text": [
            "<class 'pandas.core.frame.DataFrame'>\n",
            "Int64Index: 623 entries, 82211 to 83358\n",
            "Data columns (total 11 columns):\n",
            " #   Column        Non-Null Count  Dtype              \n",
            "---  ------        --------------  -----              \n",
            " 0   Id            623 non-null    object             \n",
            " 1   title         0 non-null      object             \n",
            " 2   time          623 non-null    datetime64[ns, UTC]\n",
            " 3   keywords      0 non-null      object             \n",
            " 4   data source   266 non-null    object             \n",
            " 5   category      623 non-null    object             \n",
            " 6   country       622 non-null    object             \n",
            " 7   source URL    0 non-null      object             \n",
            " 8   body          623 non-null    object             \n",
            " 9   cleaned body  621 non-null    object             \n",
            " 10  language      623 non-null    object             \n",
            "dtypes: datetime64[ns, UTC](1), object(10)\n",
            "memory usage: 58.4+ KB\n"
          ],
          "name": "stdout"
        }
      ]
    },
    {
      "cell_type": "code",
      "metadata": {
        "colab": {
          "base_uri": "https://localhost:8080/"
        },
        "id": "W8EvUCbmHHBl",
        "outputId": "0280417d-35f2-4f9a-9521-c2a087464e75"
      },
      "source": [
        "df2.shape"
      ],
      "execution_count": 51,
      "outputs": [
        {
          "output_type": "execute_result",
          "data": {
            "text/plain": [
              "(999, 11)"
            ]
          },
          "metadata": {
            "tags": []
          },
          "execution_count": 51
        }
      ]
    },
    {
      "cell_type": "code",
      "metadata": {
        "id": "p2GQWGEwHMFD"
      },
      "source": [
        "df2['time']= pd.to_datetime(df2['time'], errors='coerce',utc=True)\n",
        "df2['Id']= df2['Id'].astype(object)\n",
        "df2['title']= df2['title'].astype(object)"
      ],
      "execution_count": 52,
      "outputs": []
    },
    {
      "cell_type": "code",
      "metadata": {
        "colab": {
          "base_uri": "https://localhost:8080/"
        },
        "id": "yi4l42c8DL0c",
        "outputId": "e2db7e73-43c2-4a6e-bd4d-c6c309c14d8a"
      },
      "source": [
        "df2.info()"
      ],
      "execution_count": 53,
      "outputs": [
        {
          "output_type": "stream",
          "text": [
            "<class 'pandas.core.frame.DataFrame'>\n",
            "RangeIndex: 999 entries, 0 to 998\n",
            "Data columns (total 11 columns):\n",
            " #   Column        Non-Null Count  Dtype              \n",
            "---  ------        --------------  -----              \n",
            " 0   Id            999 non-null    object             \n",
            " 1   title         0 non-null      object             \n",
            " 2   time          999 non-null    datetime64[ns, UTC]\n",
            " 3   keywords      999 non-null    object             \n",
            " 4   data source   999 non-null    object             \n",
            " 5   category      999 non-null    object             \n",
            " 6   country       999 non-null    object             \n",
            " 7   source URL    999 non-null    object             \n",
            " 8   body          999 non-null    object             \n",
            " 9   cleaned body  999 non-null    object             \n",
            " 10  language      999 non-null    object             \n",
            "dtypes: datetime64[ns, UTC](1), object(10)\n",
            "memory usage: 86.0+ KB\n"
          ],
          "name": "stdout"
        }
      ]
    },
    {
      "cell_type": "code",
      "metadata": {
        "colab": {
          "base_uri": "https://localhost:8080/"
        },
        "id": "MBLYu4_RAkGI",
        "outputId": "56124b6c-f8d0-47b0-e7c8-49e1424af723"
      },
      "source": [
        "df3.shape"
      ],
      "execution_count": 54,
      "outputs": [
        {
          "output_type": "execute_result",
          "data": {
            "text/plain": [
              "(146, 11)"
            ]
          },
          "metadata": {
            "tags": []
          },
          "execution_count": 54
        }
      ]
    },
    {
      "cell_type": "code",
      "metadata": {
        "id": "Lg05h8f6HlrH"
      },
      "source": [
        "df3['time']= pd.to_datetime(df3['time'], errors='coerce',utc=True)\n",
        "df3['Id']= df3['Id'].astype(object)\n",
        "df3['title']= df3['title'].astype(object)"
      ],
      "execution_count": 55,
      "outputs": []
    },
    {
      "cell_type": "code",
      "metadata": {
        "colab": {
          "base_uri": "https://localhost:8080/"
        },
        "id": "WaZ9tQ0UAkIr",
        "outputId": "3edec33a-9a67-4c9c-9108-1f807e1d5fba"
      },
      "source": [
        "df3.info()"
      ],
      "execution_count": 56,
      "outputs": [
        {
          "output_type": "stream",
          "text": [
            "<class 'pandas.core.frame.DataFrame'>\n",
            "RangeIndex: 146 entries, 0 to 145\n",
            "Data columns (total 11 columns):\n",
            " #   Column        Non-Null Count  Dtype              \n",
            "---  ------        --------------  -----              \n",
            " 0   Id            146 non-null    object             \n",
            " 1   title         0 non-null      object             \n",
            " 2   time          146 non-null    datetime64[ns, UTC]\n",
            " 3   keywords      146 non-null    object             \n",
            " 4   data source   146 non-null    object             \n",
            " 5   category      146 non-null    object             \n",
            " 6   country       146 non-null    object             \n",
            " 7   source URL    146 non-null    object             \n",
            " 8   body          146 non-null    object             \n",
            " 9   cleaned body  146 non-null    object             \n",
            " 10  language      146 non-null    object             \n",
            "dtypes: datetime64[ns, UTC](1), object(10)\n",
            "memory usage: 12.7+ KB\n"
          ],
          "name": "stdout"
        }
      ]
    },
    {
      "cell_type": "code",
      "metadata": {
        "colab": {
          "base_uri": "https://localhost:8080/"
        },
        "id": "nR_lQu8eAkLU",
        "outputId": "2376a336-ef5e-437f-8999-799e3be60944"
      },
      "source": [
        "df4.shape"
      ],
      "execution_count": 57,
      "outputs": [
        {
          "output_type": "execute_result",
          "data": {
            "text/plain": [
              "(4, 11)"
            ]
          },
          "metadata": {
            "tags": []
          },
          "execution_count": 57
        }
      ]
    },
    {
      "cell_type": "code",
      "metadata": {
        "id": "GDU-TP6vHyf0"
      },
      "source": [
        "df4['time']= pd.to_datetime(df4['time'], errors='coerce',utc=True)\n",
        "df4['Id']= df4['Id'].astype(object)\n",
        "df4['title']= df4['title'].astype(object)"
      ],
      "execution_count": 58,
      "outputs": []
    },
    {
      "cell_type": "code",
      "metadata": {
        "colab": {
          "base_uri": "https://localhost:8080/"
        },
        "id": "C3XTATi9Hyf2",
        "outputId": "9ec50507-d3a0-4562-e8f6-431238bf0c93"
      },
      "source": [
        "df4.info()"
      ],
      "execution_count": 59,
      "outputs": [
        {
          "output_type": "stream",
          "text": [
            "<class 'pandas.core.frame.DataFrame'>\n",
            "RangeIndex: 4 entries, 0 to 3\n",
            "Data columns (total 11 columns):\n",
            " #   Column        Non-Null Count  Dtype              \n",
            "---  ------        --------------  -----              \n",
            " 0   Id            4 non-null      object             \n",
            " 1   title         0 non-null      object             \n",
            " 2   time          4 non-null      datetime64[ns, UTC]\n",
            " 3   keywords      4 non-null      object             \n",
            " 4   data source   4 non-null      object             \n",
            " 5   category      4 non-null      object             \n",
            " 6   country       4 non-null      object             \n",
            " 7   source URL    4 non-null      object             \n",
            " 8   body          4 non-null      object             \n",
            " 9   cleaned body  4 non-null      object             \n",
            " 10  language      4 non-null      object             \n",
            "dtypes: datetime64[ns, UTC](1), object(10)\n",
            "memory usage: 480.0+ bytes\n"
          ],
          "name": "stdout"
        }
      ]
    },
    {
      "cell_type": "code",
      "metadata": {
        "id": "OMfvnq29HzsF"
      },
      "source": [
        "final_twitter_dataset= pd.concat([df1,df2,df3,df4],axis=0,ignore_index=True)"
      ],
      "execution_count": 60,
      "outputs": []
    },
    {
      "cell_type": "code",
      "metadata": {
        "colab": {
          "base_uri": "https://localhost:8080/",
          "height": 542
        },
        "id": "5OyvGbEPItW2",
        "outputId": "9f8113f0-52dc-4931-fd16-f97ee9798781"
      },
      "source": [
        "final_twitter_dataset.head(10)"
      ],
      "execution_count": 61,
      "outputs": [
        {
          "output_type": "execute_result",
          "data": {
            "text/html": [
              "<div>\n",
              "<style scoped>\n",
              "    .dataframe tbody tr th:only-of-type {\n",
              "        vertical-align: middle;\n",
              "    }\n",
              "\n",
              "    .dataframe tbody tr th {\n",
              "        vertical-align: top;\n",
              "    }\n",
              "\n",
              "    .dataframe thead th {\n",
              "        text-align: right;\n",
              "    }\n",
              "</style>\n",
              "<table border=\"1\" class=\"dataframe\">\n",
              "  <thead>\n",
              "    <tr style=\"text-align: right;\">\n",
              "      <th></th>\n",
              "      <th>Id</th>\n",
              "      <th>title</th>\n",
              "      <th>time</th>\n",
              "      <th>keywords</th>\n",
              "      <th>data source</th>\n",
              "      <th>category</th>\n",
              "      <th>country</th>\n",
              "      <th>source URL</th>\n",
              "      <th>body</th>\n",
              "      <th>cleaned body</th>\n",
              "      <th>language</th>\n",
              "    </tr>\n",
              "  </thead>\n",
              "  <tbody>\n",
              "    <tr>\n",
              "      <th>0</th>\n",
              "      <td>1550621509.0</td>\n",
              "      <td>NaN</td>\n",
              "      <td>2021-12-05 23:27:00+00:00</td>\n",
              "      <td>NaN</td>\n",
              "      <td>Twitter</td>\n",
              "      <td>flood</td>\n",
              "      <td>Riverside, IA</td>\n",
              "      <td>NaN</td>\n",
              "      <td>RT @katiepeikes: Iowa scientists are developin...</td>\n",
              "      <td>rt iowa scientists are developing a tool to fo...</td>\n",
              "      <td>en</td>\n",
              "    </tr>\n",
              "    <tr>\n",
              "      <th>1</th>\n",
              "      <td>308297667.0</td>\n",
              "      <td>NaN</td>\n",
              "      <td>2021-12-05 23:23:00+00:00</td>\n",
              "      <td>NaN</td>\n",
              "      <td>Twitter</td>\n",
              "      <td>None</td>\n",
              "      <td>West Des Moines, IA</td>\n",
              "      <td>NaN</td>\n",
              "      <td>RT @SenatorRobHogg: When @CityofCRIowa city co...</td>\n",
              "      <td>rt when city council talks about planning and ...</td>\n",
              "      <td>en</td>\n",
              "    </tr>\n",
              "    <tr>\n",
              "      <th>2</th>\n",
              "      <td>1.38e+18</td>\n",
              "      <td>NaN</td>\n",
              "      <td>2021-12-05 22:45:00+00:00</td>\n",
              "      <td>NaN</td>\n",
              "      <td>Twitter</td>\n",
              "      <td>flood</td>\n",
              "      <td>Iowa</td>\n",
              "      <td>NaN</td>\n",
              "      <td>RT @katiepeikes: Iowa scientists are developin...</td>\n",
              "      <td>rt iowa scientists are developing a tool to fo...</td>\n",
              "      <td>en</td>\n",
              "    </tr>\n",
              "    <tr>\n",
              "      <th>3</th>\n",
              "      <td>22962704.0</td>\n",
              "      <td>NaN</td>\n",
              "      <td>2021-12-05 22:39:00+00:00</td>\n",
              "      <td>NaN</td>\n",
              "      <td>Twitter</td>\n",
              "      <td>flood</td>\n",
              "      <td>Somewhere in Iowa USA</td>\n",
              "      <td>NaN</td>\n",
              "      <td>Ames Flood mitigation project dusting off the ...</td>\n",
              "      <td>ames flood mitigation project dusting off the ...</td>\n",
              "      <td>en</td>\n",
              "    </tr>\n",
              "    <tr>\n",
              "      <th>4</th>\n",
              "      <td>1.34e+18</td>\n",
              "      <td>NaN</td>\n",
              "      <td>2021-12-05 22:07:00+00:00</td>\n",
              "      <td>NaN</td>\n",
              "      <td>Twitter</td>\n",
              "      <td>flood</td>\n",
              "      <td>Des Moines, Iowa</td>\n",
              "      <td>NaN</td>\n",
              "      <td>IWX extends time of Flood Warning for Maumee R...</td>\n",
              "      <td>iwx extends time of flood warning for maumee r...</td>\n",
              "      <td>en</td>\n",
              "    </tr>\n",
              "    <tr>\n",
              "      <th>5</th>\n",
              "      <td>20187715.0</td>\n",
              "      <td>NaN</td>\n",
              "      <td>2021-12-05 21:47:00+00:00</td>\n",
              "      <td>NaN</td>\n",
              "      <td>Twitter</td>\n",
              "      <td>flood</td>\n",
              "      <td>Cedar Rapids, Iowa</td>\n",
              "      <td>NaN</td>\n",
              "      <td>Flood control plans are well underway for the ...</td>\n",
              "      <td>flood control plans are well underway for the ...</td>\n",
              "      <td>en</td>\n",
              "    </tr>\n",
              "    <tr>\n",
              "      <th>6</th>\n",
              "      <td>3293109928.0</td>\n",
              "      <td>NaN</td>\n",
              "      <td>2021-12-05 20:10:00+00:00</td>\n",
              "      <td>NaN</td>\n",
              "      <td>Twitter</td>\n",
              "      <td>flood</td>\n",
              "      <td>Iowa City, IA</td>\n",
              "      <td>NaN</td>\n",
              "      <td>RT @katiepeikes: Iowa scientists are developin...</td>\n",
              "      <td>rt iowa scientists are developing a tool to fo...</td>\n",
              "      <td>en</td>\n",
              "    </tr>\n",
              "    <tr>\n",
              "      <th>7</th>\n",
              "      <td>2875820413.0</td>\n",
              "      <td>NaN</td>\n",
              "      <td>2021-12-05 19:48:00+00:00</td>\n",
              "      <td>NaN</td>\n",
              "      <td>Twitter</td>\n",
              "      <td>flood</td>\n",
              "      <td>Iowa, USA</td>\n",
              "      <td>NaN</td>\n",
              "      <td>RT @katiepeikes: Iowa scientists are developin...</td>\n",
              "      <td>rt iowa scientists are developing a tool to fo...</td>\n",
              "      <td>en</td>\n",
              "    </tr>\n",
              "    <tr>\n",
              "      <th>8</th>\n",
              "      <td>1.34e+18</td>\n",
              "      <td>NaN</td>\n",
              "      <td>2021-12-05 19:33:00+00:00</td>\n",
              "      <td>NaN</td>\n",
              "      <td>Twitter</td>\n",
              "      <td>flood</td>\n",
              "      <td>Des Moines, Iowa</td>\n",
              "      <td>NaN</td>\n",
              "      <td>CLE continues Flood Warning for Sandusky River...</td>\n",
              "      <td>cle continues flood warning for sandusky river...</td>\n",
              "      <td>en</td>\n",
              "    </tr>\n",
              "    <tr>\n",
              "      <th>9</th>\n",
              "      <td>1.34e+18</td>\n",
              "      <td>NaN</td>\n",
              "      <td>2021-12-05 19:33:00+00:00</td>\n",
              "      <td>NaN</td>\n",
              "      <td>Twitter</td>\n",
              "      <td>flood</td>\n",
              "      <td>Des Moines, Iowa</td>\n",
              "      <td>NaN</td>\n",
              "      <td>CLE continues Flood Warning for Sandusky River...</td>\n",
              "      <td>cle continues flood warning for sandusky river...</td>\n",
              "      <td>en</td>\n",
              "    </tr>\n",
              "  </tbody>\n",
              "</table>\n",
              "</div>"
            ],
            "text/plain": [
              "             Id  ... language\n",
              "0  1550621509.0  ...       en\n",
              "1   308297667.0  ...       en\n",
              "2      1.38e+18  ...       en\n",
              "3    22962704.0  ...       en\n",
              "4      1.34e+18  ...       en\n",
              "5    20187715.0  ...       en\n",
              "6  3293109928.0  ...       en\n",
              "7  2875820413.0  ...       en\n",
              "8      1.34e+18  ...       en\n",
              "9      1.34e+18  ...       en\n",
              "\n",
              "[10 rows x 11 columns]"
            ]
          },
          "metadata": {
            "tags": []
          },
          "execution_count": 61
        }
      ]
    },
    {
      "cell_type": "code",
      "metadata": {
        "colab": {
          "base_uri": "https://localhost:8080/"
        },
        "id": "KkqV7OFOJ-Nk",
        "outputId": "b92d59f6-2824-4ba9-a599-a4c5375c9635"
      },
      "source": [
        "final_twitter_dataset.shape"
      ],
      "execution_count": 62,
      "outputs": [
        {
          "output_type": "execute_result",
          "data": {
            "text/plain": [
              "(1772, 11)"
            ]
          },
          "metadata": {
            "tags": []
          },
          "execution_count": 62
        }
      ]
    },
    {
      "cell_type": "code",
      "metadata": {
        "colab": {
          "base_uri": "https://localhost:8080/"
        },
        "id": "shL4K193hU-w",
        "outputId": "58e40562-63c0-450c-e9cf-46025e3dcfec"
      },
      "source": [
        "final_twitter_dataset['language'].unique()"
      ],
      "execution_count": 63,
      "outputs": [
        {
          "output_type": "execute_result",
          "data": {
            "text/plain": [
              "array(['en', 'ml', 'und', 'tl', 'si', 'in', 'et'], dtype=object)"
            ]
          },
          "metadata": {
            "tags": []
          },
          "execution_count": 63
        }
      ]
    },
    {
      "cell_type": "code",
      "metadata": {
        "id": "1bXSF2q8ha8r"
      },
      "source": [
        "final_twitter_dataset = final_twitter_dataset.loc[final_twitter_dataset['language'] =='en']"
      ],
      "execution_count": 64,
      "outputs": []
    },
    {
      "cell_type": "code",
      "metadata": {
        "colab": {
          "base_uri": "https://localhost:8080/"
        },
        "id": "36i5OK9Vha_6",
        "outputId": "03ef9744-8262-4f5e-fe96-0988e8e1fa5e"
      },
      "source": [
        "final_twitter_dataset.shape"
      ],
      "execution_count": 65,
      "outputs": [
        {
          "output_type": "execute_result",
          "data": {
            "text/plain": [
              "(1759, 11)"
            ]
          },
          "metadata": {
            "tags": []
          },
          "execution_count": 65
        }
      ]
    },
    {
      "cell_type": "code",
      "metadata": {
        "colab": {
          "base_uri": "https://localhost:8080/"
        },
        "id": "j7nF57mglLr8",
        "outputId": "98f674cb-da98-4329-d46a-ab485cee998a"
      },
      "source": [
        "final_twitter_dataset['language'].unique()"
      ],
      "execution_count": 66,
      "outputs": [
        {
          "output_type": "execute_result",
          "data": {
            "text/plain": [
              "array(['en'], dtype=object)"
            ]
          },
          "metadata": {
            "tags": []
          },
          "execution_count": 66
        }
      ]
    },
    {
      "cell_type": "code",
      "metadata": {
        "colab": {
          "base_uri": "https://localhost:8080/"
        },
        "id": "yL5o7Csrl4s4",
        "outputId": "2eb4a44b-2bac-423e-df7c-67401477f058"
      },
      "source": [
        "final_twitter_dataset['category'].unique()"
      ],
      "execution_count": 67,
      "outputs": [
        {
          "output_type": "execute_result",
          "data": {
            "text/plain": [
              "array(['flood', 'None', 'Flood', 'none', 'flood_drought',\n",
              "       'flood_and_drought', 'drought', 'flood and drought'], dtype=object)"
            ]
          },
          "metadata": {
            "tags": []
          },
          "execution_count": 67
        }
      ]
    },
    {
      "cell_type": "code",
      "metadata": {
        "id": "PUZFJl3ldkzq"
      },
      "source": [
        "final_twitter_dataset['category'].replace({'Flood':'flood','None':'none','flood_drought':'flood_and_drought','flood and drought':'flood_and_drought'},inplace=True)"
      ],
      "execution_count": 68,
      "outputs": []
    },
    {
      "cell_type": "code",
      "metadata": {
        "colab": {
          "base_uri": "https://localhost:8080/"
        },
        "id": "Jvs3HZZhmVrH",
        "outputId": "0c93e792-53e0-4add-c737-5313115b2e84"
      },
      "source": [
        "final_twitter_dataset['category'].unique()"
      ],
      "execution_count": 69,
      "outputs": [
        {
          "output_type": "execute_result",
          "data": {
            "text/plain": [
              "array(['flood', 'none', 'flood_and_drought', 'drought'], dtype=object)"
            ]
          },
          "metadata": {
            "tags": []
          },
          "execution_count": 69
        }
      ]
    },
    {
      "cell_type": "code",
      "metadata": {
        "colab": {
          "base_uri": "https://localhost:8080/"
        },
        "id": "UOOGUhBq3kmX",
        "outputId": "43077f1b-d67f-49c7-c8de-9cbb1b9260bc"
      },
      "source": [
        "final_twitter_dataset['category'].value_counts()"
      ],
      "execution_count": 70,
      "outputs": [
        {
          "output_type": "execute_result",
          "data": {
            "text/plain": [
              "none                 972\n",
              "flood                713\n",
              "drought               43\n",
              "flood_and_drought     31\n",
              "Name: category, dtype: int64"
            ]
          },
          "metadata": {
            "tags": []
          },
          "execution_count": 70
        }
      ]
    },
    {
      "cell_type": "code",
      "metadata": {
        "colab": {
          "base_uri": "https://localhost:8080/",
          "height": 282
        },
        "id": "c7k8IYAB3rdc",
        "outputId": "e179f83f-5167-4391-af71-57cec6026123"
      },
      "source": [
        "final_twitter_dataset['category'].value_counts().plot(kind='barh')"
      ],
      "execution_count": 71,
      "outputs": [
        {
          "output_type": "execute_result",
          "data": {
            "text/plain": [
              "<matplotlib.axes._subplots.AxesSubplot at 0x7f05b4090950>"
            ]
          },
          "metadata": {
            "tags": []
          },
          "execution_count": 71
        },
        {
          "output_type": "display_data",
          "data": {
            "image/png": "[encoded data removed]",
            "text/plain": [
              "<Figure size 432x288 with 1 Axes>"
            ]
          },
          "metadata": {
            "tags": [],
            "needs_background": "light"
          }
        }
      ]
    },
    {
      "cell_type": "code",
      "metadata": {
        "id": "4Q_z14it3sHq"
      },
      "source": [
        "final_twitter_dataset.to_csv('final_twitter_dataset.csv', index=False)"
      ],
      "execution_count": 72,
      "outputs": []
    },
    {
      "cell_type": "code",
      "metadata": {
        "id": "Bj6GREZmnxvZ"
      },
      "source": [
        ""
      ],
      "execution_count": 72,
      "outputs": []
    }
  ]
}