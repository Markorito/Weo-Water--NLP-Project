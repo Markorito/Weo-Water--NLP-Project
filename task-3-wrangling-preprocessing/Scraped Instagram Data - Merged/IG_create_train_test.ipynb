{
 "cells": [
  {
   "cell_type": "code",
   "execution_count": 1,
   "metadata": {},
   "outputs": [],
   "source": [
    "import os\n",
    "import numpy as np\n",
    "import pandas as pd\n",
    "from sklearn.model_selection import train_test_split"
   ]
  },
  {
   "cell_type": "code",
   "execution_count": 2,
   "metadata": {},
   "outputs": [],
   "source": [
    "# move directory to task 3 folder\n",
    "os.chdir('..')"
   ]
  },
  {
   "cell_type": "code",
   "execution_count": 3,
   "metadata": {},
   "outputs": [
    {
     "data": {
      "text/plain": [
       "'C:\\\\Users\\\\bwils\\\\OneDrive\\\\Documents\\\\GitHub\\\\WeoWater\\\\task-3-wrangling-preprocessing'"
      ]
     },
     "execution_count": 3,
     "metadata": {},
     "output_type": "execute_result"
    }
   ],
   "source": [
    "os.getcwd()"
   ]
  },
  {
   "cell_type": "code",
   "execution_count": 4,
   "metadata": {},
   "outputs": [],
   "source": [
    "# read in merged data with only english posts\n",
    "all_data = pd.read_csv(r'All_merged/All_consolidated_and_little_processed.csv')"
   ]
  },
  {
   "cell_type": "code",
   "execution_count": 5,
   "metadata": {},
   "outputs": [],
   "source": [
    "# read in merged data with only english posts\n",
    "IG = pd.read_csv(r'Scraped Instagram Data - Merged\\insta_merged2021_6_28.csv')"
   ]
  },
  {
   "cell_type": "code",
   "execution_count": 6,
   "metadata": {},
   "outputs": [
    {
     "data": {
      "text/plain": [
       "Index(['Id', 'title', 'time', 'keywords', 'data source', 'category', 'country',\n",
       "       'source URL', 'body', 'language'],\n",
       "      dtype='object')"
      ]
     },
     "execution_count": 6,
     "metadata": {},
     "output_type": "execute_result"
    }
   ],
   "source": [
    "all_data.columns"
   ]
  },
  {
   "cell_type": "code",
   "execution_count": 7,
   "metadata": {},
   "outputs": [],
   "source": [
    "# Extract Instagram posts only\n",
    "ig_data = all_data.loc[all_data['data source']=='Instagram']"
   ]
  },
  {
   "cell_type": "code",
   "execution_count": 8,
   "metadata": {},
   "outputs": [],
   "source": [
    "ig_data.to_csv('IG_english_only.csv')"
   ]
  },
  {
   "cell_type": "code",
   "execution_count": 9,
   "metadata": {},
   "outputs": [
    {
     "data": {
      "text/plain": [
       "Index(['Id', 'title', 'time', 'keywords', 'data source', 'category', 'country',\n",
       "       'source URL', 'body', 'language'],\n",
       "      dtype='object')"
      ]
     },
     "execution_count": 9,
     "metadata": {},
     "output_type": "execute_result"
    }
   ],
   "source": [
    "ig_data.columns"
   ]
  },
  {
   "cell_type": "code",
   "execution_count": 10,
   "metadata": {
    "scrolled": true
   },
   "outputs": [
    {
     "name": "stdout",
     "output_type": "stream",
     "text": [
      "<class 'pandas.core.frame.DataFrame'>\n",
      "Int64Index: 1554 entries, 4221 to 5774\n",
      "Data columns (total 10 columns):\n",
      " #   Column       Non-Null Count  Dtype \n",
      "---  ------       --------------  ----- \n",
      " 0   Id           1554 non-null   object\n",
      " 1   title        0 non-null      object\n",
      " 2   time         1533 non-null   object\n",
      " 3   keywords     0 non-null      object\n",
      " 4   data source  1554 non-null   object\n",
      " 5   category     1554 non-null   object\n",
      " 6   country      0 non-null      object\n",
      " 7   source URL   1554 non-null   object\n",
      " 8   body         1554 non-null   object\n",
      " 9   language     1554 non-null   object\n",
      "dtypes: object(10)\n",
      "memory usage: 133.5+ KB\n"
     ]
    }
   ],
   "source": [
    "ig_data.info()"
   ]
  },
  {
   "cell_type": "code",
   "execution_count": 11,
   "metadata": {},
   "outputs": [],
   "source": [
    "drop_columns = ['title', 'time', 'keywords', 'data source', 'country', 'source URL', 'language', 'Id']\n",
    "ig_data_lean = ig_data.drop(columns=drop_columns)"
   ]
  },
  {
   "cell_type": "code",
   "execution_count": 12,
   "metadata": {},
   "outputs": [
    {
     "data": {
      "text/html": [
       "<div>\n",
       "<style scoped>\n",
       "    .dataframe tbody tr th:only-of-type {\n",
       "        vertical-align: middle;\n",
       "    }\n",
       "\n",
       "    .dataframe tbody tr th {\n",
       "        vertical-align: top;\n",
       "    }\n",
       "\n",
       "    .dataframe thead th {\n",
       "        text-align: right;\n",
       "    }\n",
       "</style>\n",
       "<table border=\"1\" class=\"dataframe\">\n",
       "  <thead>\n",
       "    <tr style=\"text-align: right;\">\n",
       "      <th></th>\n",
       "      <th>category</th>\n",
       "      <th>body</th>\n",
       "    </tr>\n",
       "  </thead>\n",
       "  <tbody>\n",
       "    <tr>\n",
       "      <th>4221</th>\n",
       "      <td>none</td>\n",
       "      <td>“Absence the highest form of presence”. #absen...</td>\n",
       "    </tr>\n",
       "    <tr>\n",
       "      <th>4222</th>\n",
       "      <td>none</td>\n",
       "      <td>Hearing aid design has come a very long way. W...</td>\n",
       "    </tr>\n",
       "    <tr>\n",
       "      <th>4223</th>\n",
       "      <td>none</td>\n",
       "      <td>Happy #PrideMonth from BAHA Irish Whiskey. Be ...</td>\n",
       "    </tr>\n",
       "    <tr>\n",
       "      <th>4224</th>\n",
       "      <td>none</td>\n",
       "      <td>Figuring out these crazy hands 😆\\n\\n#babiesofi...</td>\n",
       "    </tr>\n",
       "    <tr>\n",
       "      <th>4225</th>\n",
       "      <td>none</td>\n",
       "      <td>I am THRILLED to share these pictures with you...</td>\n",
       "    </tr>\n",
       "    <tr>\n",
       "      <th>...</th>\n",
       "      <td>...</td>\n",
       "      <td>...</td>\n",
       "    </tr>\n",
       "    <tr>\n",
       "      <th>5770</th>\n",
       "      <td>none</td>\n",
       "      <td>this pile is giving an impression how high wat...</td>\n",
       "    </tr>\n",
       "    <tr>\n",
       "      <th>5771</th>\n",
       "      <td>flood</td>\n",
       "      <td>Long weekend vibes \\nAs you can see we had lot...</td>\n",
       "    </tr>\n",
       "    <tr>\n",
       "      <th>5772</th>\n",
       "      <td>none</td>\n",
       "      <td>On a bench at high watermark - learning in pro...</td>\n",
       "    </tr>\n",
       "    <tr>\n",
       "      <th>5773</th>\n",
       "      <td>flood</td>\n",
       "      <td>#letzebuerg #luxembourg #luxembourgcity #diffe...</td>\n",
       "    </tr>\n",
       "    <tr>\n",
       "      <th>5774</th>\n",
       "      <td>none</td>\n",
       "      <td>I'm singing in the rain... ☔️ Passt diesen Frü...</td>\n",
       "    </tr>\n",
       "  </tbody>\n",
       "</table>\n",
       "<p>1554 rows × 2 columns</p>\n",
       "</div>"
      ],
      "text/plain": [
       "     category                                               body\n",
       "4221     none  “Absence the highest form of presence”. #absen...\n",
       "4222     none  Hearing aid design has come a very long way. W...\n",
       "4223     none  Happy #PrideMonth from BAHA Irish Whiskey. Be ...\n",
       "4224     none  Figuring out these crazy hands 😆\\n\\n#babiesofi...\n",
       "4225     none  I am THRILLED to share these pictures with you...\n",
       "...       ...                                                ...\n",
       "5770     none  this pile is giving an impression how high wat...\n",
       "5771    flood  Long weekend vibes \\nAs you can see we had lot...\n",
       "5772     none  On a bench at high watermark - learning in pro...\n",
       "5773    flood  #letzebuerg #luxembourg #luxembourgcity #diffe...\n",
       "5774     none  I'm singing in the rain... ☔️ Passt diesen Frü...\n",
       "\n",
       "[1554 rows x 2 columns]"
      ]
     },
     "execution_count": 12,
     "metadata": {},
     "output_type": "execute_result"
    }
   ],
   "source": [
    "ig_data_lean"
   ]
  },
  {
   "cell_type": "code",
   "execution_count": 13,
   "metadata": {},
   "outputs": [
    {
     "data": {
      "text/html": [
       "<div>\n",
       "<style scoped>\n",
       "    .dataframe tbody tr th:only-of-type {\n",
       "        vertical-align: middle;\n",
       "    }\n",
       "\n",
       "    .dataframe tbody tr th {\n",
       "        vertical-align: top;\n",
       "    }\n",
       "\n",
       "    .dataframe thead th {\n",
       "        text-align: right;\n",
       "    }\n",
       "</style>\n",
       "<table border=\"1\" class=\"dataframe\">\n",
       "  <thead>\n",
       "    <tr style=\"text-align: right;\">\n",
       "      <th></th>\n",
       "      <th>category</th>\n",
       "      <th>body</th>\n",
       "    </tr>\n",
       "  </thead>\n",
       "  <tbody>\n",
       "    <tr>\n",
       "      <th>0</th>\n",
       "      <td>none</td>\n",
       "      <td>“Absence the highest form of presence”. #absen...</td>\n",
       "    </tr>\n",
       "    <tr>\n",
       "      <th>1</th>\n",
       "      <td>none</td>\n",
       "      <td>Hearing aid design has come a very long way. W...</td>\n",
       "    </tr>\n",
       "    <tr>\n",
       "      <th>2</th>\n",
       "      <td>none</td>\n",
       "      <td>Happy #PrideMonth from BAHA Irish Whiskey. Be ...</td>\n",
       "    </tr>\n",
       "    <tr>\n",
       "      <th>3</th>\n",
       "      <td>none</td>\n",
       "      <td>Figuring out these crazy hands 😆\\n\\n#babiesofi...</td>\n",
       "    </tr>\n",
       "    <tr>\n",
       "      <th>4</th>\n",
       "      <td>none</td>\n",
       "      <td>I am THRILLED to share these pictures with you...</td>\n",
       "    </tr>\n",
       "    <tr>\n",
       "      <th>...</th>\n",
       "      <td>...</td>\n",
       "      <td>...</td>\n",
       "    </tr>\n",
       "    <tr>\n",
       "      <th>1549</th>\n",
       "      <td>none</td>\n",
       "      <td>this pile is giving an impression how high wat...</td>\n",
       "    </tr>\n",
       "    <tr>\n",
       "      <th>1550</th>\n",
       "      <td>flood</td>\n",
       "      <td>Long weekend vibes \\nAs you can see we had lot...</td>\n",
       "    </tr>\n",
       "    <tr>\n",
       "      <th>1551</th>\n",
       "      <td>none</td>\n",
       "      <td>On a bench at high watermark - learning in pro...</td>\n",
       "    </tr>\n",
       "    <tr>\n",
       "      <th>1552</th>\n",
       "      <td>flood</td>\n",
       "      <td>#letzebuerg #luxembourg #luxembourgcity #diffe...</td>\n",
       "    </tr>\n",
       "    <tr>\n",
       "      <th>1553</th>\n",
       "      <td>none</td>\n",
       "      <td>I'm singing in the rain... ☔️ Passt diesen Frü...</td>\n",
       "    </tr>\n",
       "  </tbody>\n",
       "</table>\n",
       "<p>1554 rows × 2 columns</p>\n",
       "</div>"
      ],
      "text/plain": [
       "     category                                               body\n",
       "0        none  “Absence the highest form of presence”. #absen...\n",
       "1        none  Hearing aid design has come a very long way. W...\n",
       "2        none  Happy #PrideMonth from BAHA Irish Whiskey. Be ...\n",
       "3        none  Figuring out these crazy hands 😆\\n\\n#babiesofi...\n",
       "4        none  I am THRILLED to share these pictures with you...\n",
       "...       ...                                                ...\n",
       "1549     none  this pile is giving an impression how high wat...\n",
       "1550    flood  Long weekend vibes \\nAs you can see we had lot...\n",
       "1551     none  On a bench at high watermark - learning in pro...\n",
       "1552    flood  #letzebuerg #luxembourg #luxembourgcity #diffe...\n",
       "1553     none  I'm singing in the rain... ☔️ Passt diesen Frü...\n",
       "\n",
       "[1554 rows x 2 columns]"
      ]
     },
     "execution_count": 13,
     "metadata": {},
     "output_type": "execute_result"
    }
   ],
   "source": [
    "ig_data_lean.reset_index(drop=True, inplace=True)\n",
    "ig_data_lean"
   ]
  },
  {
   "cell_type": "code",
   "execution_count": 14,
   "metadata": {},
   "outputs": [],
   "source": [
    "ig_flood = ig_data_lean.loc[ig_data_lean['category']=='flood']\n",
    "\n",
    "ig_none = ig_data_lean.loc[ig_data_lean['category']=='none']\n"
   ]
  },
  {
   "cell_type": "code",
   "execution_count": 15,
   "metadata": {},
   "outputs": [
    {
     "name": "stdout",
     "output_type": "stream",
     "text": [
      "<class 'pandas.core.frame.DataFrame'>\n",
      "Int64Index: 376 entries, 102 to 1552\n",
      "Data columns (total 2 columns):\n",
      " #   Column    Non-Null Count  Dtype \n",
      "---  ------    --------------  ----- \n",
      " 0   category  376 non-null    object\n",
      " 1   body      376 non-null    object\n",
      "dtypes: object(2)\n",
      "memory usage: 8.8+ KB\n"
     ]
    }
   ],
   "source": [
    "ig_flood.info()"
   ]
  },
  {
   "cell_type": "code",
   "execution_count": 16,
   "metadata": {
    "scrolled": true
   },
   "outputs": [
    {
     "name": "stdout",
     "output_type": "stream",
     "text": [
      "<class 'pandas.core.frame.DataFrame'>\n",
      "Int64Index: 1073 entries, 0 to 1553\n",
      "Data columns (total 2 columns):\n",
      " #   Column    Non-Null Count  Dtype \n",
      "---  ------    --------------  ----- \n",
      " 0   category  1073 non-null   object\n",
      " 1   body      1073 non-null   object\n",
      "dtypes: object(2)\n",
      "memory usage: 25.1+ KB\n"
     ]
    }
   ],
   "source": [
    "ig_none.info()"
   ]
  },
  {
   "cell_type": "code",
   "execution_count": 17,
   "metadata": {},
   "outputs": [
    {
     "data": {
      "text/html": [
       "<div>\n",
       "<style scoped>\n",
       "    .dataframe tbody tr th:only-of-type {\n",
       "        vertical-align: middle;\n",
       "    }\n",
       "\n",
       "    .dataframe tbody tr th {\n",
       "        vertical-align: top;\n",
       "    }\n",
       "\n",
       "    .dataframe thead th {\n",
       "        text-align: right;\n",
       "    }\n",
       "</style>\n",
       "<table border=\"1\" class=\"dataframe\">\n",
       "  <thead>\n",
       "    <tr style=\"text-align: right;\">\n",
       "      <th></th>\n",
       "      <th>category</th>\n",
       "      <th>body</th>\n",
       "    </tr>\n",
       "  </thead>\n",
       "  <tbody>\n",
       "    <tr>\n",
       "      <th>2</th>\n",
       "      <td>none</td>\n",
       "      <td>Happy #PrideMonth from BAHA Irish Whiskey. Be ...</td>\n",
       "    </tr>\n",
       "    <tr>\n",
       "      <th>3</th>\n",
       "      <td>none</td>\n",
       "      <td>Figuring out these crazy hands 😆\\n\\n#babiesofi...</td>\n",
       "    </tr>\n",
       "    <tr>\n",
       "      <th>5</th>\n",
       "      <td>none</td>\n",
       "      <td>Did you know that people with Down syndrome te...</td>\n",
       "    </tr>\n",
       "    <tr>\n",
       "      <th>9</th>\n",
       "      <td>none</td>\n",
       "      <td>The Battle Pass is back in the game! Colossal ...</td>\n",
       "    </tr>\n",
       "    <tr>\n",
       "      <th>10</th>\n",
       "      <td>none</td>\n",
       "      <td>Part 2: Blocks going up \\n\\n“Floridian Model” ...</td>\n",
       "    </tr>\n",
       "    <tr>\n",
       "      <th>...</th>\n",
       "      <td>...</td>\n",
       "      <td>...</td>\n",
       "    </tr>\n",
       "    <tr>\n",
       "      <th>1546</th>\n",
       "      <td>none</td>\n",
       "      <td>About water and paper.\\n\\n[EN] The combination...</td>\n",
       "    </tr>\n",
       "    <tr>\n",
       "      <th>1548</th>\n",
       "      <td>none</td>\n",
       "      <td>Turnhout. Venice at the river Aa. #rain #flood...</td>\n",
       "    </tr>\n",
       "    <tr>\n",
       "      <th>1550</th>\n",
       "      <td>flood</td>\n",
       "      <td>Long weekend vibes \\nAs you can see we had lot...</td>\n",
       "    </tr>\n",
       "    <tr>\n",
       "      <th>1551</th>\n",
       "      <td>none</td>\n",
       "      <td>On a bench at high watermark - learning in pro...</td>\n",
       "    </tr>\n",
       "    <tr>\n",
       "      <th>1552</th>\n",
       "      <td>flood</td>\n",
       "      <td>#letzebuerg #luxembourg #luxembourgcity #diffe...</td>\n",
       "    </tr>\n",
       "  </tbody>\n",
       "</table>\n",
       "<p>752 rows × 2 columns</p>\n",
       "</div>"
      ],
      "text/plain": [
       "     category                                               body\n",
       "2        none  Happy #PrideMonth from BAHA Irish Whiskey. Be ...\n",
       "3        none  Figuring out these crazy hands 😆\\n\\n#babiesofi...\n",
       "5        none  Did you know that people with Down syndrome te...\n",
       "9        none  The Battle Pass is back in the game! Colossal ...\n",
       "10       none  Part 2: Blocks going up \\n\\n“Floridian Model” ...\n",
       "...       ...                                                ...\n",
       "1546     none  About water and paper.\\n\\n[EN] The combination...\n",
       "1548     none  Turnhout. Venice at the river Aa. #rain #flood...\n",
       "1550    flood  Long weekend vibes \\nAs you can see we had lot...\n",
       "1551     none  On a bench at high watermark - learning in pro...\n",
       "1552    flood  #letzebuerg #luxembourg #luxembourgcity #diffe...\n",
       "\n",
       "[752 rows x 2 columns]"
      ]
     },
     "execution_count": 17,
     "metadata": {},
     "output_type": "execute_result"
    }
   ],
   "source": [
    "train_test = pd.concat([ig_flood, ig_none.sample(n=376, replace=False, random_state=42)])\n",
    "train_test.sort_index()"
   ]
  },
  {
   "cell_type": "code",
   "execution_count": 18,
   "metadata": {},
   "outputs": [],
   "source": [
    "np.random.seed(42)\n",
    "test_size = int(.25*len(train_test))\n",
    "test_indices = np.random.choice(train_test.index, replace=False, size=test_size)"
   ]
  },
  {
   "cell_type": "code",
   "execution_count": 19,
   "metadata": {},
   "outputs": [],
   "source": [
    "train_X_ig = train_test.loc[~train_test.index.isin(test_indices), 'body']\n",
    "test_X_ig = train_test.loc[train_test.index.isin(test_indices), 'body']\n",
    "train_y_ig = train_test.loc[~train_test.index.isin(test_indices), 'category']\n",
    "test_y_ig = train_test.loc[train_test.index.isin(test_indices), 'category']"
   ]
  },
  {
   "cell_type": "code",
   "execution_count": 20,
   "metadata": {},
   "outputs": [],
   "source": [
    "os.chdir('..')"
   ]
  },
  {
   "cell_type": "code",
   "execution_count": 21,
   "metadata": {},
   "outputs": [
    {
     "data": {
      "text/plain": [
       "array([ True,  True,  True,  True,  True,  True,  True,  True,  True,\n",
       "        True,  True,  True,  True,  True,  True,  True,  True,  True,\n",
       "        True,  True,  True,  True,  True,  True,  True,  True,  True,\n",
       "        True,  True,  True,  True,  True,  True,  True,  True,  True,\n",
       "        True,  True,  True,  True,  True,  True,  True,  True,  True,\n",
       "        True,  True,  True,  True,  True,  True,  True,  True,  True,\n",
       "        True,  True,  True,  True,  True,  True,  True,  True,  True,\n",
       "        True,  True,  True,  True,  True,  True,  True,  True,  True,\n",
       "        True,  True,  True,  True,  True,  True,  True,  True,  True,\n",
       "        True,  True,  True,  True,  True,  True,  True,  True,  True,\n",
       "        True,  True,  True,  True,  True,  True,  True,  True,  True,\n",
       "        True,  True,  True,  True,  True,  True,  True,  True,  True,\n",
       "        True,  True,  True,  True,  True,  True,  True,  True,  True,\n",
       "        True,  True,  True,  True,  True,  True,  True,  True,  True,\n",
       "        True,  True,  True,  True,  True,  True,  True,  True,  True,\n",
       "        True,  True,  True,  True,  True,  True,  True,  True,  True,\n",
       "        True,  True,  True,  True,  True,  True,  True,  True,  True,\n",
       "        True,  True,  True,  True,  True,  True,  True,  True,  True,\n",
       "        True,  True,  True,  True,  True,  True,  True,  True,  True,\n",
       "        True,  True,  True,  True,  True,  True,  True,  True,  True,\n",
       "        True,  True,  True,  True,  True,  True,  True,  True])"
      ]
     },
     "execution_count": 21,
     "metadata": {},
     "output_type": "execute_result"
    }
   ],
   "source": [
    "test_X_ig.sort_index().index == test_y_ig.sort_index().index"
   ]
  },
  {
   "cell_type": "code",
   "execution_count": 22,
   "metadata": {},
   "outputs": [],
   "source": [
    "train_test.to_csv(r'task-2-nlp-modeling\\train_test_data\\instagram\\train_test.csv', encoding='utf-8')\n",
    "train_X_ig.to_csv(r'task-2-nlp-modeling\\train_test_data\\instagram\\train_X_ig.csv', encoding='utf-8')\n",
    "test_X_ig.to_csv(r'task-2-nlp-modeling\\train_test_data\\instagram\\test_X_ig.csv', encoding='utf-8')\n",
    "train_y_ig.to_csv(r'task-2-nlp-modeling\\train_test_data\\instagram\\train_y_ig.csv', encoding='utf-8')\n",
    "test_y_ig.to_csv(r'task-2-nlp-modeling\\train_test_data\\instagram\\test_y_ig.csv', encoding='utf-8')"
   ]
  }
 ],
 "metadata": {
  "kernelspec": {
   "display_name": "weo3",
   "language": "python",
   "name": "weo3"
  },
  "language_info": {
   "codemirror_mode": {
    "name": "ipython",
    "version": 3
   },
   "file_extension": ".py",
   "mimetype": "text/x-python",
   "name": "python",
   "nbconvert_exporter": "python",
   "pygments_lexer": "ipython3",
   "version": "3.9.2"
  }
 },
 "nbformat": 4,
 "nbformat_minor": 4
}
