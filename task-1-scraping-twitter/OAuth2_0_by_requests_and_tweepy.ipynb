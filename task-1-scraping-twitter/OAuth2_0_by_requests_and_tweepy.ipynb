{
  "nbformat": 4,
  "nbformat_minor": 0,
  "metadata": {
    "colab": {
      "name": "OAuth2.0 by requests and tweepy.ipynb",
      "provenance": [],
      "collapsed_sections": [
        "Dr8dp7dZexdW"
      ]
    },
    "kernelspec": {
      "name": "python3",
      "display_name": "Python 3"
    }
  },
  "cells": [
    {
      "cell_type": "markdown",
      "metadata": {
        "id": "gBxgMjRSebBL"
      },
      "source": [
        "# OAuth2.0 by requests"
      ]
    },
    {
      "cell_type": "code",
      "metadata": {
        "id": "EjT1b0oYdv0p"
      },
      "source": [
        "api_key = 'key_here'\n",
        "api_secret_key = 'secret_here'\n",
        "\n",
        "#twitter API requires single key encoded as base64\n",
        "import base64\n",
        "\n",
        "key_secret = '{}:{}'.format(api_key, api_secret_key).encode('ascii')\n",
        "b64_encoded_key = base64.b64encode(key_secret)\n",
        "b64_encoded_key = b64_encoded_key.decode('ascii')"
      ],
      "execution_count": null,
      "outputs": []
    },
    {
      "cell_type": "code",
      "metadata": {
        "id": "wRiYTcosdv2n"
      },
      "source": [
        "# post request to the authentication endpoint\n",
        "import requests\n",
        "\n",
        "base_url = 'https://api.twitter.com/'\n",
        "auth_url = '{}oauth2/token'.format(base_url)\n",
        "\n",
        "auth_headers = {\n",
        "    'Authorization': 'Basic {}'.format(b64_encoded_key),\n",
        "    'Content-Type': 'application/x-www-form-urlencoded;charset=UTF-8'\n",
        "}\n",
        "\n",
        "auth_data = {\n",
        "    'grant_type': 'client_credentials'\n",
        "}\n",
        "\n",
        "auth_resp = requests.post(auth_url, headers=auth_headers, data=auth_data)"
      ],
      "execution_count": null,
      "outputs": []
    },
    {
      "cell_type": "code",
      "metadata": {
        "id": "rMzZrkemd34j"
      },
      "source": [
        "access_token = auth_resp.json()['access_token'] # receive bearer token"
      ],
      "execution_count": null,
      "outputs": []
    },
    {
      "cell_type": "code",
      "metadata": {
        "id": "t8KdFeEfd36j"
      },
      "source": [
        "# https://developer.twitter.com/en/docs/api-reference-index\n",
        "\n",
        "search_headers = {\n",
        "    'Authorization': 'Bearer {}'.format(access_token) # send access token \n",
        "}\n",
        "\n",
        "# search keyword, query limit etc.\n",
        "search_params = { \n",
        "    'q': 'flood',\n",
        "    'result_type': 'recent',\n",
        "    'count': 10\n",
        "}\n",
        "\n",
        "\n",
        "search_url = '{}1.1/search/tweets.json'.format(base_url)\n",
        "\n",
        "search_resp = requests.get(search_url, headers=search_headers, params=search_params) # send"
      ],
      "execution_count": null,
      "outputs": []
    },
    {
      "cell_type": "code",
      "metadata": {
        "id": "m6Bb_rXud8fQ"
      },
      "source": [
        "tweet_data = search_resp.json()"
      ],
      "execution_count": null,
      "outputs": []
    },
    {
      "cell_type": "code",
      "metadata": {
        "colab": {
          "base_uri": "https://localhost:8080/"
        },
        "id": "poDQZ8tRd8hM",
        "outputId": "1dab487e-0052-40f0-d075-d904553b5334"
      },
      "source": [
        "for i, x in enumerate(tweet_data['statuses']):\n",
        "    print(f'Tweet {i}\\n' + x['text'] + '\\n')"
      ],
      "execution_count": null,
      "outputs": [
        {
          "output_type": "stream",
          "text": [
            "Tweet 0\n",
            "RT @Gamzemikaelson: Şimdi bir flood döşiicem ve poyraz ayşe ve mavilerin zekasını anlayacaksınız hazırsanız başlıyorum. #ypfc #ayfc #surviv…\n",
            "\n",
            "Tweet 1\n",
            "RT @DreyfusShawn: I have a really crazy idea.  How about we don’t flood the IRI with billions of dollars!   I know, I know, it’s nuts but j…\n",
            "\n",
            "Tweet 2\n",
            "RT @SFDYemen: Torrential water catching facilities allowing flood stream into Wadi Thua'a #Modia #Abyan. They, completed 2 weeks ago, raise…\n",
            "\n",
            "Tweet 3\n",
            "RT @CraigKellyMP: Raise the Warragamba Dam Wall ASAP\n",
            "\n",
            "Now we know that Prophet Tim Flannery got it wrong when he said \"So even the rain tha…\n",
            "\n",
            "Tweet 4\n",
            "it's been picked apart by scientists - run into the ground, researched until the papers flood research stations wit… https://t.co/zYDOpnYjnG\n",
            "\n",
            "Tweet 5\n",
            "RT @KempWatercolour: Flood, watercolour. Sunday morning splash.\n",
            "#Watercolour #art #painting https://t.co/HGbsqE3Brw\n",
            "\n",
            "Tweet 6\n",
            "RT @RealWJWilson: #FixMotherGhana #WeAreAngry #FixTheCountry \n",
            "Flood is a disaster but in Ghana it’s a festival celebrated every year.\n",
            "\n",
            "Kaso…\n",
            "\n",
            "Tweet 7\n",
            "When the enemy came against like a flood you raised the standard.\n",
            "\n",
            "Tweet 8\n",
            "RT @DailyMail: Florida becomes Covid variant capital of the US with 11,800 cases https://t.co/ECMGxZiinK\n",
            "\n",
            "Tweet 9\n",
            "Should we flood fancafe for their 173th day using a same congratulary pic post... 🥺 Or hashtag or idk... I just fel… https://t.co/CLI2qRWflM\n",
            "\n"
          ],
          "name": "stdout"
        }
      ]
    },
    {
      "cell_type": "markdown",
      "metadata": {
        "id": "Dr8dp7dZexdW"
      },
      "source": [
        "# Tweepy"
      ]
    },
    {
      "cell_type": "code",
      "metadata": {
        "id": "Z5LDglAdq9h3"
      },
      "source": [
        "# package for easy twitter api access\n",
        "!pip install tweepy\n",
        "\n",
        "import pandas as pd # to parse json into tabular\n",
        "import tweepy "
      ],
      "execution_count": null,
      "outputs": []
    },
    {
      "cell_type": "code",
      "metadata": {
        "id": "VFp9KXUOv_2A"
      },
      "source": [
        "# ouath login\n",
        "api_key = 'key_here' # developer key \n",
        "api_secret_key = 'secret_here' # developer secret key\n",
        "\n",
        "callback_uri = 'oob' \n",
        "\n",
        "auth = tweepy.OAuthHandler(api_key, api_secret_key, callback_uri) # credentials for authorization\n",
        "redirect_url = auth.get_authorization_url() # authorization request\n",
        "print(redirect_url) # access token here"
      ],
      "execution_count": null,
      "outputs": []
    },
    {
      "cell_type": "code",
      "metadata": {
        "id": "hG1QAXq6v_30"
      },
      "source": [
        "user_pin = input('Authorization PIN: ') # save access token"
      ],
      "execution_count": null,
      "outputs": []
    },
    {
      "cell_type": "code",
      "metadata": {
        "id": "bm-VTrWxv_5t"
      },
      "source": [
        "auth.get_access_token(user_pin) # send access token "
      ],
      "execution_count": null,
      "outputs": []
    },
    {
      "cell_type": "code",
      "metadata": {
        "id": "bZ-iBdjTv_6Z"
      },
      "source": [
        "api = tweepy.API(auth, wait_on_rate_limit = True, wait_on_rate_limit_notify = True) # create api object for searching keywords, users etc."
      ],
      "execution_count": null,
      "outputs": []
    },
    {
      "cell_type": "code",
      "metadata": {
        "id": "w3E4VgzxTyZK"
      },
      "source": [
        "tweets_flood = api.search(q = 'flood', count = 10) # query for flood and limit to ten for example purposes\n",
        "tweets_flood"
      ],
      "execution_count": null,
      "outputs": []
    },
    {
      "cell_type": "code",
      "metadata": {
        "colab": {
          "base_uri": "https://localhost:8080/",
          "height": 347
        },
        "id": "m0OQHDHqUAll",
        "outputId": "e3fb7a05-0ffa-48c0-8981-6eaad81fc4cc"
      },
      "source": [
        "data = {'location':[], \n",
        "        'coordinates':[],\n",
        "        'place':[],\n",
        "        'tweet':[], \n",
        "        'date_time':[],\n",
        "        'id':[]}\n",
        "\n",
        "for i in tweets_flood:\n",
        "\n",
        "    data['location'].append(dict(vars(dict(vars(i))['user']))['location'])\n",
        "    data['tweet'].append(dict(vars(i))['text'])\n",
        "    data['date_time'].append(dict(vars(i))['created_at'])\n",
        "    data['id'].append(dict(vars(i))['id'])\n",
        "    data['coordinates'].append(dict(vars(i))['coordinates'])\n",
        "    data['place'].append(dict(vars(i))['place'])\n",
        "    \n",
        "\n",
        "df = pd.DataFrame(data)\n",
        "df"
      ],
      "execution_count": null,
      "outputs": [
        {
          "output_type": "execute_result",
          "data": {
            "text/html": [
              "<div>\n",
              "<style scoped>\n",
              "    .dataframe tbody tr th:only-of-type {\n",
              "        vertical-align: middle;\n",
              "    }\n",
              "\n",
              "    .dataframe tbody tr th {\n",
              "        vertical-align: top;\n",
              "    }\n",
              "\n",
              "    .dataframe thead th {\n",
              "        text-align: right;\n",
              "    }\n",
              "</style>\n",
              "<table border=\"1\" class=\"dataframe\">\n",
              "  <thead>\n",
              "    <tr style=\"text-align: right;\">\n",
              "      <th></th>\n",
              "      <th>location</th>\n",
              "      <th>coordinates</th>\n",
              "      <th>place</th>\n",
              "      <th>tweet</th>\n",
              "      <th>date_time</th>\n",
              "      <th>id</th>\n",
              "    </tr>\n",
              "  </thead>\n",
              "  <tbody>\n",
              "    <tr>\n",
              "      <th>0</th>\n",
              "      <td></td>\n",
              "      <td>None</td>\n",
              "      <td>None</td>\n",
              "      <td>Not gon flood y’all with pics all evening, but...</td>\n",
              "      <td>2021-05-09 23:12:22</td>\n",
              "      <td>1391531519861166080</td>\n",
              "    </tr>\n",
              "    <tr>\n",
              "      <th>1</th>\n",
              "      <td>United States</td>\n",
              "      <td>None</td>\n",
              "      <td>None</td>\n",
              "      <td>Idk who needs to hear this, but effective info...</td>\n",
              "      <td>2021-05-09 23:12:11</td>\n",
              "      <td>1391531472302002179</td>\n",
              "    </tr>\n",
              "    <tr>\n",
              "      <th>2</th>\n",
              "      <td>ATL Jawjuh What do we do Fo YA</td>\n",
              "      <td>None</td>\n",
              "      <td>None</td>\n",
              "      <td>RT @naima: @NTDubb @TheSydneyA I don't think i...</td>\n",
              "      <td>2021-05-09 23:11:44</td>\n",
              "      <td>1391531361698258944</td>\n",
              "    </tr>\n",
              "    <tr>\n",
              "      <th>3</th>\n",
              "      <td>Uptown</td>\n",
              "      <td>None</td>\n",
              "      <td>None</td>\n",
              "      <td>@NTDubb @TheSydneyA I don't think it was Black...</td>\n",
              "      <td>2021-05-09 23:11:37</td>\n",
              "      <td>1391531330056474624</td>\n",
              "    </tr>\n",
              "    <tr>\n",
              "      <th>4</th>\n",
              "      <td>Jard-sur-Mer</td>\n",
              "      <td>None</td>\n",
              "      <td>None</td>\n",
              "      <td>RT @Craig42057719: With Sturgeon giving away b...</td>\n",
              "      <td>2021-05-09 23:11:34</td>\n",
              "      <td>1391531318454980610</td>\n",
              "    </tr>\n",
              "    <tr>\n",
              "      <th>5</th>\n",
              "      <td></td>\n",
              "      <td>None</td>\n",
              "      <td>None</td>\n",
              "      <td>@me_gellerr Çok uzun bir flood döşenmişti. Poy...</td>\n",
              "      <td>2021-05-09 23:11:12</td>\n",
              "      <td>1391531226125815810</td>\n",
              "    </tr>\n",
              "    <tr>\n",
              "      <th>6</th>\n",
              "      <td>United States</td>\n",
              "      <td>None</td>\n",
              "      <td>None</td>\n",
              "      <td>@NancyABanker @BaddCompani Yes, absolutely... ...</td>\n",
              "      <td>2021-05-09 23:11:10</td>\n",
              "      <td>1391531218479558659</td>\n",
              "    </tr>\n",
              "    <tr>\n",
              "      <th>7</th>\n",
              "      <td></td>\n",
              "      <td>None</td>\n",
              "      <td>None</td>\n",
              "      <td>RT @RemeishaShadeTV: Radar estimating 2-3\" of ...</td>\n",
              "      <td>2021-05-09 23:10:41</td>\n",
              "      <td>1391531095510892553</td>\n",
              "    </tr>\n",
              "    <tr>\n",
              "      <th>8</th>\n",
              "      <td>Zeta Halo</td>\n",
              "      <td>None</td>\n",
              "      <td>None</td>\n",
              "      <td>Enough! The flood is spreading. If we activate...</td>\n",
              "      <td>2021-05-09 23:10:40</td>\n",
              "      <td>1391531090553098243</td>\n",
              "    </tr>\n",
              "    <tr>\n",
              "      <th>9</th>\n",
              "      <td>💓</td>\n",
              "      <td>None</td>\n",
              "      <td>None</td>\n",
              "      <td>RT @AlienLovePrince: HALO noobs meet the flood...</td>\n",
              "      <td>2021-05-09 23:10:30</td>\n",
              "      <td>1391531052447981568</td>\n",
              "    </tr>\n",
              "  </tbody>\n",
              "</table>\n",
              "</div>"
            ],
            "text/plain": [
              "                         location  ...                   id\n",
              "0                                  ...  1391531519861166080\n",
              "1                   United States  ...  1391531472302002179\n",
              "2  ATL Jawjuh What do we do Fo YA  ...  1391531361698258944\n",
              "3                          Uptown  ...  1391531330056474624\n",
              "4                    Jard-sur-Mer  ...  1391531318454980610\n",
              "5                                  ...  1391531226125815810\n",
              "6                   United States  ...  1391531218479558659\n",
              "7                                  ...  1391531095510892553\n",
              "8                       Zeta Halo  ...  1391531090553098243\n",
              "9                               💓  ...  1391531052447981568\n",
              "\n",
              "[10 rows x 6 columns]"
            ]
          },
          "metadata": {
            "tags": []
          },
          "execution_count": 10
        }
      ]
    }
  ]
}