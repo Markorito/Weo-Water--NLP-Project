{
 "cells": [
  {
   "cell_type": "code",
   "execution_count": 43,
   "metadata": {},
   "outputs": [],
   "source": [
    "import tweepy\n",
    "import pandas as pd\n",
    "import time\n",
    "import csv"
   ]
  },
  {
   "cell_type": "code",
   "execution_count": 44,
   "metadata": {},
   "outputs": [],
   "source": [
    "# Twitter Developer Credentials\n",
    "consumer_key        = \"consumer_key\"\n",
    "consumer_secret     = \"consumer_secret\"\n",
    "access_token        = \"access_token\"\n",
    "access_token_secret = \"access_token_secret\""
   ]
  },
  {
   "cell_type": "code",
   "execution_count": 45,
   "metadata": {},
   "outputs": [],
   "source": [
    "# tweepy authorization \n",
    "auth = tweepy.OAuthHandler(consumer_key, consumer_secret)\n",
    "auth.set_access_token(access_token, access_token_secret)\n",
    "api = tweepy.API(auth,wait_on_rate_limit=True, wait_on_rate_limit_notify=True)"
   ]
  },
  {
   "attachments": {},
   "cell_type": "markdown",
   "metadata": {},
   "source": [
    "# Getting More Information From Tweets\n",
    "\n",
    "* tweet.user.id_str = User Id of tweets author\n",
    "* tweet.text = Text content of the tweet\n",
    "* tweet.created_at = Date tweet was created\n",
    "* tweet.user.name = Name of the user as they have defined it\n",
    "* tweet.user.screen_name = Username of tweets author, commonly called user @name\n",
    "* tweet.user.location = User defined location for account's profile. May be nullable\n",
    "* tweet.coordinates = Geographic location as reported by user or client. May be null\n",
    "* tweet.place = Place associated with the tweet where user signed up with like Plainsboro, NJ. May be null\n",
    "* tweet.lang = Indicates the machine detected language of tweet text"
   ]
  },
  {
   "cell_type": "code",
   "execution_count": 54,
   "metadata": {},
   "outputs": [],
   "source": [
    "text_query = 'flood'\n",
    "max_tweets = 3150\n",
    "coordinates = '42.851306,-96.127041,100mi'\n",
    "language = 'en'\n",
    "result_type = 'recent'\n",
    "until_date = '2021-05-13'\n",
    "\n",
    "\n",
    "# Creation of query method using parameters\n",
    "tweets = tweepy.Cursor(api.search,\n",
    "                       q=text_query,\n",
    "                       geocode=coordinates, \n",
    "                       lang=language, \n",
    "                       result_type = result_type, \n",
    "                       until = until_date,\n",
    "                       count = 100,\n",
    "                       tweet_mode='extended').items(max_tweets)\n",
    " \n",
    "# Pulling information from tweets iterable object\n",
    "# Add or remove tweet information you want in the below list comprehension\n",
    "tweets_list = [[tweet.user.id_str,\n",
    "                tweet.full_text, \n",
    "                tweet.created_at,  \n",
    "                tweet.user.name, \n",
    "                tweet.user.screen_name, \n",
    "                tweet.user.location,\n",
    "                tweet.coordinates,\n",
    "                tweet.place,\n",
    "                tweet.lang] for tweet in tweets]\n",
    " \n",
    "# Creation of dataframe from tweets_list\n",
    "# Did not include column names to simplify code \n",
    "tweets_df = pd.DataFrame(tweets_list)\n",
    "\n",
    "# Creation of dataframe from tweets_list\n",
    "# Add or remove columns as you remove tweet information\n",
    "tweets_df = pd.DataFrame(tweets_list,columns=['Tweet User Id', \n",
    "                                              'Tweet Text', \n",
    "                                              'Tweet Time',\n",
    "                                              'Tweet User Name', \n",
    "                                              'Twitter @ Name',\n",
    "                                              'Tweet User Location',\n",
    "                                              'Tweet Coordinates', \n",
    "                                              'Place Info', \n",
    "                                              'Language'])"
   ]
  },
  {
   "cell_type": "code",
   "execution_count": 55,
   "metadata": {},
   "outputs": [],
   "source": [
    "# Function created to extract coordinates from tweet if it has coordinate info\n",
    "# Tweets tend to have null so important to run check\n",
    "# Make sure to run this cell as it is used in a lot of different functions below\n",
    "\n",
    "def extract_coordinates(row):\n",
    "    if row['Tweet Coordinates']:\n",
    "        return row['Tweet Coordinates']['coordinates']\n",
    "    else:\n",
    "        return None\n",
    "# Function created to extract place such as city, state or country from tweet if it has place info\n",
    "# Tweets tend to have null so important to run check\n",
    "# Make sure to run this cell as it is used in a lot of different functions below\n",
    "def extract_place(row):\n",
    "    if row['Place Info']:\n",
    "        return row['Place Info'].full_name\n",
    "    else:\n",
    "        return None"
   ]
  },
  {
   "cell_type": "code",
   "execution_count": 56,
   "metadata": {},
   "outputs": [],
   "source": [
    "# Checks if there are coordinates attached to tweets, if so extracts them\n",
    "tweets_df['Tweet Coordinates'] = tweets_df.apply(extract_coordinates,axis=1)\n",
    " \n",
    "# Checks if there is place information available, if so extracts them\n",
    "tweets_df['Place Info'] = tweets_df.apply(extract_place,axis=1)"
   ]
  },
  {
   "cell_type": "code",
   "execution_count": 57,
   "metadata": {},
   "outputs": [],
   "source": [
    "tweets_df.to_csv(\"tweets_df_USGS_line144\", index=False)"
   ]
  },
  {
   "cell_type": "markdown",
   "metadata": {},
   "source": [
    "# Example of a search query using advanced queries:"
   ]
  },
  {
   "cell_type": "code",
   "execution_count": null,
   "metadata": {},
   "outputs": [],
   "source": [
    "# Example may no longer show tweets if until_date falls outside \n",
    "# of 7-day period from when you run cell\n",
    "coordinates = '19.402833,-99.141051,50mi'\n",
    "language = 'en'\n",
    "result_type = 'recent'\n",
    "until_date = '2020-08-10'\n",
    "max_tweets = 150\n",
    " \n",
    "# Creation of query method using parameters\n",
    "tweets = tweepy.Cursor(api.search, geocode=coordinates, lang=language, result_type = result_type, until = until_date, count = 100).items(max_tweets)\n",
    " \n",
    "# List comprehension pulling chosen tweet information from tweets iterable object\n",
    "# Add or remove tweet information you want in the below list comprehension\n",
    "tweets_list = [[tweet.text, tweet.created_at, tweet.id_str, tweet.favorite_count, tweet.user.screen_name, tweet.user.id_str, tweet.user.location, tweet.user.url, tweet.user.verified, tweet.user.followers_count, tweet.user.friends_count, tweet.user.statuses_count, tweet.user.default_profile_image, \n",
    "tweet.lang] for tweet in tweets]\n",
    " \n",
    "# Creation of dataframe from tweets_list\n",
    "# Did not include column names to simplify code \n",
    "tweets_df = pd.DataFrame(tweets_list)"
   ]
  },
  {
   "cell_type": "markdown",
   "metadata": {},
   "source": [
    "# Example of a query pulling tweet and user information with an advanced query:"
   ]
  },
  {
   "cell_type": "code",
   "execution_count": null,
   "metadata": {},
   "outputs": [],
   "source": [
    "text_query = 'Coronavirus'\n",
    "coordinates = '36.169786,-115.139858,50mi'\n",
    "max_tweets = 150\n",
    " \n",
    "# Creation of query method using parameters\n",
    "tweets = tweepy.Cursor(api.search, q = text_query, geocode = coordinates, count = 100).items(max_tweets)\n",
    " \n",
    "# Pulling information from tweets iterable object\n",
    "# Add or remove tweet information you want in the below list comprehension\n",
    "tweets_list = [[tweet.text, tweet.created_at, tweet.id_str, tweet.favorite_count, tweet.user.screen_name, tweet.user.id_str, tweet.user.location, tweet.user.followers_count, tweet.coordinates, tweet.place] for tweet in tweets]\n",
    " \n",
    "# Creation of dataframe from tweets_list\n",
    "# Did not include column names to simplify code\n",
    "tweets_df = pd.DataFrame(tweets_list)"
   ]
  }
 ],
 "metadata": {
  "kernelspec": {
   "display_name": "Python 3",
   "language": "python",
   "name": "python3"
  },
  "language_info": {
   "codemirror_mode": {
    "name": "ipython",
    "version": 3
   },
   "file_extension": ".py",
   "mimetype": "text/x-python",
   "name": "python",
   "nbconvert_exporter": "python",
   "pygments_lexer": "ipython3",
   "version": "3.8.5"
  }
 },
 "nbformat": 4,
 "nbformat_minor": 4
}
