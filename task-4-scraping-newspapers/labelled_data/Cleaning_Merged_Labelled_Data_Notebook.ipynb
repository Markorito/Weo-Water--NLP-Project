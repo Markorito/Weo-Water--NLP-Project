{
  "nbformat": 4,
  "nbformat_minor": 0,
  "metadata": {
    "colab": {
      "name": "Cleaning Merged Labelled Data Notebook.ipynb",
      "provenance": []
    },
    "kernelspec": {
      "name": "python3",
      "display_name": "Python 3"
    },
    "language_info": {
      "name": "python"
    }
  },
  "cells": [
    {
      "cell_type": "code",
      "metadata": {
        "id": "rfLS5PdfWL-C"
      },
      "source": [
        "\"\"\" Warning : Don't forget to remove your github username and token after running this cell \"\"\"\n",
        " \n",
        "import pandas as pd\n",
        "import requests\n",
        "import io\n",
        " \n",
        "# Username of your GitHub account\n",
        " \n",
        "username = ''\n",
        " \n",
        "# Personal Access Token (PAO) from your GitHub account\n",
        " \n",
        "token = ''\n",
        " \n",
        "# Creates a re-usable session object with your creds in-built\n",
        " \n",
        "github_session = requests.Session()\n",
        "github_session.auth = (username, token)"
      ],
      "execution_count": 1,
      "outputs": []
    },
    {
      "cell_type": "code",
      "metadata": {
        "id": "BmWnNzFWWj03"
      },
      "source": [
        "#Loading the file so we can be able to clean it\n",
        "\n",
        "url = 'https://raw.githubusercontent.com/OmdenaAI/WeoWater/main/task-4-scraping-newspapers/labelled_data/merged_labeled_newspaper_data.csv'\n",
        "download = github_session.get(url).content #Reading and downloading the data\n",
        "\n",
        "data = pd.read_csv(io.StringIO(download.decode('utf-8'))) #Converting the data into a pd dataframe"
      ],
      "execution_count": 2,
      "outputs": []
    },
    {
      "cell_type": "code",
      "metadata": {
        "colab": {
          "base_uri": "https://localhost:8080/"
        },
        "id": "r5X7vksyWtMc",
        "outputId": "3e44fd3d-ddd5-4527-f569-2405bb698090"
      },
      "source": [
        "data.info()"
      ],
      "execution_count": 3,
      "outputs": [
        {
          "output_type": "stream",
          "text": [
            "<class 'pandas.core.frame.DataFrame'>\n",
            "RangeIndex: 4987 entries, 0 to 4986\n",
            "Data columns (total 20 columns):\n",
            " #   Column             Non-Null Count  Dtype  \n",
            "---  ------             --------------  -----  \n",
            " 0   Unnamed: 0         4987 non-null   int64  \n",
            " 1   event_id           4987 non-null   object \n",
            " 2   article_title      4987 non-null   object \n",
            " 3   article_link       4987 non-null   object \n",
            " 4   article_content    4508 non-null   object \n",
            " 5   publishing_date    4941 non-null   object \n",
            " 6   article_image      4453 non-null   object \n",
            " 7   article_keywords   4986 non-null   object \n",
            " 8   article_relevance  4413 non-null   object \n",
            " 9   category           4021 non-null   object \n",
            " 10  Country            4987 non-null   object \n",
            " 11  Unnamed: 10        1 non-null      object \n",
            " 12  Unnamed: 11        1 non-null      object \n",
            " 13  Unnamed: 9         0 non-null      float64\n",
            " 14  Category           316 non-null    object \n",
            " 15  Unnamed: 12        0 non-null      float64\n",
            " 16  Unnamed: 13        0 non-null      float64\n",
            " 17  Unnamed: 14        0 non-null      float64\n",
            " 18  Unnamed: 15        0 non-null      float64\n",
            " 19  Unnamed: 16        0 non-null      float64\n",
            "dtypes: float64(6), int64(1), object(13)\n",
            "memory usage: 779.3+ KB\n"
          ],
          "name": "stdout"
        }
      ]
    },
    {
      "cell_type": "code",
      "metadata": {
        "colab": {
          "base_uri": "https://localhost:8080/",
          "height": 479
        },
        "id": "msD9_w-95EGa",
        "outputId": "8ed6954d-47c2-4987-a8b4-c57f4fd97803"
      },
      "source": [
        "data.head()"
      ],
      "execution_count": 4,
      "outputs": [
        {
          "output_type": "execute_result",
          "data": {
            "text/html": [
              "<div>\n",
              "<style scoped>\n",
              "    .dataframe tbody tr th:only-of-type {\n",
              "        vertical-align: middle;\n",
              "    }\n",
              "\n",
              "    .dataframe tbody tr th {\n",
              "        vertical-align: top;\n",
              "    }\n",
              "\n",
              "    .dataframe thead th {\n",
              "        text-align: right;\n",
              "    }\n",
              "</style>\n",
              "<table border=\"1\" class=\"dataframe\">\n",
              "  <thead>\n",
              "    <tr style=\"text-align: right;\">\n",
              "      <th></th>\n",
              "      <th>Unnamed: 0</th>\n",
              "      <th>event_id</th>\n",
              "      <th>article_title</th>\n",
              "      <th>article_link</th>\n",
              "      <th>article_content</th>\n",
              "      <th>publishing_date</th>\n",
              "      <th>article_image</th>\n",
              "      <th>article_keywords</th>\n",
              "      <th>article_relevance</th>\n",
              "      <th>category</th>\n",
              "      <th>Country</th>\n",
              "      <th>Unnamed: 10</th>\n",
              "      <th>Unnamed: 11</th>\n",
              "      <th>Unnamed: 9</th>\n",
              "      <th>Category</th>\n",
              "      <th>Unnamed: 12</th>\n",
              "      <th>Unnamed: 13</th>\n",
              "      <th>Unnamed: 14</th>\n",
              "      <th>Unnamed: 15</th>\n",
              "      <th>Unnamed: 16</th>\n",
              "    </tr>\n",
              "  </thead>\n",
              "  <tbody>\n",
              "    <tr>\n",
              "      <th>0</th>\n",
              "      <td>0</td>\n",
              "      <td>FF-2012-000189-IDN</td>\n",
              "      <td>Protecting 9/11 Artifacts From Floods - WSJ - ...</td>\n",
              "      <td>https://www.wsj.com/articles/SB100014241278873...</td>\n",
              "      <td>NaN</td>\n",
              "      <td>Sun, 11 Nov 2012 08:00:00 GMT</td>\n",
              "      <td>NaN</td>\n",
              "      <td>[]</td>\n",
              "      <td></td>\n",
              "      <td>none</td>\n",
              "      <td>India</td>\n",
              "      <td>NaN</td>\n",
              "      <td>NaN</td>\n",
              "      <td>NaN</td>\n",
              "      <td>NaN</td>\n",
              "      <td>NaN</td>\n",
              "      <td>NaN</td>\n",
              "      <td>NaN</td>\n",
              "      <td>NaN</td>\n",
              "      <td>NaN</td>\n",
              "    </tr>\n",
              "    <tr>\n",
              "      <th>1</th>\n",
              "      <td>1</td>\n",
              "      <td>FF-2012-000189-IDN</td>\n",
              "      <td>Over 80% of PH economy prone to natural disast...</td>\n",
              "      <td>https://www.rappler.com/business/more-than-80-...</td>\n",
              "      <td>MANILA, Philippines - About 85.2% of the Phili...</td>\n",
              "      <td>Tue, 13 Nov 2012 08:00:00 GMT</td>\n",
              "      <td>https://assets2.rappler.com/images/Floods-Mani...</td>\n",
              "      <td>['ph', 'republic', 'projects', 'prone', 'econo...</td>\n",
              "      <td></td>\n",
              "      <td>flood</td>\n",
              "      <td>India</td>\n",
              "      <td>NaN</td>\n",
              "      <td>NaN</td>\n",
              "      <td>NaN</td>\n",
              "      <td>NaN</td>\n",
              "      <td>NaN</td>\n",
              "      <td>NaN</td>\n",
              "      <td>NaN</td>\n",
              "      <td>NaN</td>\n",
              "      <td>NaN</td>\n",
              "    </tr>\n",
              "    <tr>\n",
              "      <th>2</th>\n",
              "      <td>2</td>\n",
              "      <td>FF-2012-000189-IDN</td>\n",
              "      <td>Up the river &amp; paddling hard: Climate adaptati...</td>\n",
              "      <td>https://forestsnews.cifor.org/11459/up-the-riv...</td>\n",
              "      <td>LUKOLELA, Democratic Republic of Congo (14 Nov...</td>\n",
              "      <td>Thu, 15 Nov 2012 08:00:00 GMT</td>\n",
              "      <td>https://forestsnews.cifor.org/wp-content/uploa...</td>\n",
              "      <td>['climate', 'change', 'congo', 'paddling', 'fo...</td>\n",
              "      <td></td>\n",
              "      <td>tree</td>\n",
              "      <td>India</td>\n",
              "      <td>NaN</td>\n",
              "      <td>NaN</td>\n",
              "      <td>NaN</td>\n",
              "      <td>NaN</td>\n",
              "      <td>NaN</td>\n",
              "      <td>NaN</td>\n",
              "      <td>NaN</td>\n",
              "      <td>NaN</td>\n",
              "      <td>NaN</td>\n",
              "    </tr>\n",
              "    <tr>\n",
              "      <th>3</th>\n",
              "      <td>3</td>\n",
              "      <td>FF-2012-000189-IDN</td>\n",
              "      <td>Electric Car Maker Fisker Lost More Than 300 C...</td>\n",
              "      <td>https://www.wsj.com/articles/BL-VCDB-12514</td>\n",
              "      <td>NaN</td>\n",
              "      <td>Tue, 06 Nov 2012 08:00:00 GMT</td>\n",
              "      <td>NaN</td>\n",
              "      <td>[]</td>\n",
              "      <td></td>\n",
              "      <td>none</td>\n",
              "      <td>India</td>\n",
              "      <td>NaN</td>\n",
              "      <td>NaN</td>\n",
              "      <td>NaN</td>\n",
              "      <td>NaN</td>\n",
              "      <td>NaN</td>\n",
              "      <td>NaN</td>\n",
              "      <td>NaN</td>\n",
              "      <td>NaN</td>\n",
              "      <td>NaN</td>\n",
              "    </tr>\n",
              "    <tr>\n",
              "      <th>4</th>\n",
              "      <td>4</td>\n",
              "      <td>FF-2012-000189-IDN</td>\n",
              "      <td>Thai prime minister insists she's not her exil...</td>\n",
              "      <td>https://www.washingtonpost.com/world/asia_paci...</td>\n",
              "      <td>Indonesian President Susilo Bambang Yudhoyono ...</td>\n",
              "      <td>Thu, 08 Nov 2012 08:00:00 GMT</td>\n",
              "      <td>https://www.washingtonpost.com/rf/image_1484w/...</td>\n",
              "      <td>['thailands', 'shes', 'insists', 'prime', 'bro...</td>\n",
              "      <td></td>\n",
              "      <td>none</td>\n",
              "      <td>India</td>\n",
              "      <td>NaN</td>\n",
              "      <td>NaN</td>\n",
              "      <td>NaN</td>\n",
              "      <td>NaN</td>\n",
              "      <td>NaN</td>\n",
              "      <td>NaN</td>\n",
              "      <td>NaN</td>\n",
              "      <td>NaN</td>\n",
              "      <td>NaN</td>\n",
              "    </tr>\n",
              "  </tbody>\n",
              "</table>\n",
              "</div>"
            ],
            "text/plain": [
              "   Unnamed: 0            event_id  ... Unnamed: 15 Unnamed: 16\n",
              "0           0  FF-2012-000189-IDN  ...         NaN         NaN\n",
              "1           1  FF-2012-000189-IDN  ...         NaN         NaN\n",
              "2           2  FF-2012-000189-IDN  ...         NaN         NaN\n",
              "3           3  FF-2012-000189-IDN  ...         NaN         NaN\n",
              "4           4  FF-2012-000189-IDN  ...         NaN         NaN\n",
              "\n",
              "[5 rows x 20 columns]"
            ]
          },
          "metadata": {
            "tags": []
          },
          "execution_count": 4
        }
      ]
    },
    {
      "cell_type": "code",
      "metadata": {
        "id": "9pyqBA24sHzS"
      },
      "source": [
        "data_copy = data.copy()"
      ],
      "execution_count": 5,
      "outputs": []
    },
    {
      "cell_type": "code",
      "metadata": {
        "id": "jwNnCsXksORx"
      },
      "source": [
        "data.drop('Country', inplace = True, axis = 1)"
      ],
      "execution_count": 6,
      "outputs": []
    },
    {
      "cell_type": "code",
      "metadata": {
        "colab": {
          "base_uri": "https://localhost:8080/"
        },
        "id": "1TxH9RYjsqM7",
        "outputId": "b74a5921-3ec2-457b-c3ed-22601bee62a5"
      },
      "source": [
        "data.info()"
      ],
      "execution_count": 7,
      "outputs": [
        {
          "output_type": "stream",
          "text": [
            "<class 'pandas.core.frame.DataFrame'>\n",
            "RangeIndex: 4987 entries, 0 to 4986\n",
            "Data columns (total 19 columns):\n",
            " #   Column             Non-Null Count  Dtype  \n",
            "---  ------             --------------  -----  \n",
            " 0   Unnamed: 0         4987 non-null   int64  \n",
            " 1   event_id           4987 non-null   object \n",
            " 2   article_title      4987 non-null   object \n",
            " 3   article_link       4987 non-null   object \n",
            " 4   article_content    4508 non-null   object \n",
            " 5   publishing_date    4941 non-null   object \n",
            " 6   article_image      4453 non-null   object \n",
            " 7   article_keywords   4986 non-null   object \n",
            " 8   article_relevance  4413 non-null   object \n",
            " 9   category           4021 non-null   object \n",
            " 10  Unnamed: 10        1 non-null      object \n",
            " 11  Unnamed: 11        1 non-null      object \n",
            " 12  Unnamed: 9         0 non-null      float64\n",
            " 13  Category           316 non-null    object \n",
            " 14  Unnamed: 12        0 non-null      float64\n",
            " 15  Unnamed: 13        0 non-null      float64\n",
            " 16  Unnamed: 14        0 non-null      float64\n",
            " 17  Unnamed: 15        0 non-null      float64\n",
            " 18  Unnamed: 16        0 non-null      float64\n",
            "dtypes: float64(6), int64(1), object(12)\n",
            "memory usage: 740.4+ KB\n"
          ],
          "name": "stdout"
        }
      ]
    },
    {
      "cell_type": "code",
      "metadata": {
        "id": "-T2KJ1posG3I"
      },
      "source": [
        "data['category'] = data[data.columns[8:]].apply(\n",
        "    lambda x: ','.join(x.dropna().astype(str)),\n",
        "    axis=1)"
      ],
      "execution_count": 8,
      "outputs": []
    },
    {
      "cell_type": "code",
      "metadata": {
        "id": "gW3PsbkS6sNF"
      },
      "source": [
        "#Dropping unnecessary columns\n",
        "\n",
        "data.drop(data.columns[data.columns.str.contains('unnamed',case = False)],axis = 1, inplace = True)#Dropping unnamed columns in the file"
      ],
      "execution_count": 9,
      "outputs": []
    },
    {
      "cell_type": "code",
      "metadata": {
        "colab": {
          "base_uri": "https://localhost:8080/"
        },
        "id": "ATTHFTYO6vUM",
        "outputId": "97ddb9ac-ad78-4bcb-ef78-3939458b80f7"
      },
      "source": [
        "data.info()"
      ],
      "execution_count": 10,
      "outputs": [
        {
          "output_type": "stream",
          "text": [
            "<class 'pandas.core.frame.DataFrame'>\n",
            "RangeIndex: 4987 entries, 0 to 4986\n",
            "Data columns (total 10 columns):\n",
            " #   Column             Non-Null Count  Dtype \n",
            "---  ------             --------------  ----- \n",
            " 0   event_id           4987 non-null   object\n",
            " 1   article_title      4987 non-null   object\n",
            " 2   article_link       4987 non-null   object\n",
            " 3   article_content    4508 non-null   object\n",
            " 4   publishing_date    4941 non-null   object\n",
            " 5   article_image      4453 non-null   object\n",
            " 6   article_keywords   4986 non-null   object\n",
            " 7   article_relevance  4413 non-null   object\n",
            " 8   category           4987 non-null   object\n",
            " 9   Category           316 non-null    object\n",
            "dtypes: object(10)\n",
            "memory usage: 389.7+ KB\n"
          ],
          "name": "stdout"
        }
      ]
    },
    {
      "cell_type": "code",
      "metadata": {
        "colab": {
          "base_uri": "https://localhost:8080/",
          "height": 298
        },
        "id": "w4FvCFz27CE4",
        "outputId": "96c786c2-35af-4255-a34d-2535a83c8ba3"
      },
      "source": [
        "data.head(3)"
      ],
      "execution_count": 11,
      "outputs": [
        {
          "output_type": "execute_result",
          "data": {
            "text/html": [
              "<div>\n",
              "<style scoped>\n",
              "    .dataframe tbody tr th:only-of-type {\n",
              "        vertical-align: middle;\n",
              "    }\n",
              "\n",
              "    .dataframe tbody tr th {\n",
              "        vertical-align: top;\n",
              "    }\n",
              "\n",
              "    .dataframe thead th {\n",
              "        text-align: right;\n",
              "    }\n",
              "</style>\n",
              "<table border=\"1\" class=\"dataframe\">\n",
              "  <thead>\n",
              "    <tr style=\"text-align: right;\">\n",
              "      <th></th>\n",
              "      <th>event_id</th>\n",
              "      <th>article_title</th>\n",
              "      <th>article_link</th>\n",
              "      <th>article_content</th>\n",
              "      <th>publishing_date</th>\n",
              "      <th>article_image</th>\n",
              "      <th>article_keywords</th>\n",
              "      <th>article_relevance</th>\n",
              "      <th>category</th>\n",
              "      <th>Category</th>\n",
              "    </tr>\n",
              "  </thead>\n",
              "  <tbody>\n",
              "    <tr>\n",
              "      <th>0</th>\n",
              "      <td>FF-2012-000189-IDN</td>\n",
              "      <td>Protecting 9/11 Artifacts From Floods - WSJ - ...</td>\n",
              "      <td>https://www.wsj.com/articles/SB100014241278873...</td>\n",
              "      <td>NaN</td>\n",
              "      <td>Sun, 11 Nov 2012 08:00:00 GMT</td>\n",
              "      <td>NaN</td>\n",
              "      <td>[]</td>\n",
              "      <td></td>\n",
              "      <td>,none</td>\n",
              "      <td>NaN</td>\n",
              "    </tr>\n",
              "    <tr>\n",
              "      <th>1</th>\n",
              "      <td>FF-2012-000189-IDN</td>\n",
              "      <td>Over 80% of PH economy prone to natural disast...</td>\n",
              "      <td>https://www.rappler.com/business/more-than-80-...</td>\n",
              "      <td>MANILA, Philippines - About 85.2% of the Phili...</td>\n",
              "      <td>Tue, 13 Nov 2012 08:00:00 GMT</td>\n",
              "      <td>https://assets2.rappler.com/images/Floods-Mani...</td>\n",
              "      <td>['ph', 'republic', 'projects', 'prone', 'econo...</td>\n",
              "      <td></td>\n",
              "      <td>,flood</td>\n",
              "      <td>NaN</td>\n",
              "    </tr>\n",
              "    <tr>\n",
              "      <th>2</th>\n",
              "      <td>FF-2012-000189-IDN</td>\n",
              "      <td>Up the river &amp; paddling hard: Climate adaptati...</td>\n",
              "      <td>https://forestsnews.cifor.org/11459/up-the-riv...</td>\n",
              "      <td>LUKOLELA, Democratic Republic of Congo (14 Nov...</td>\n",
              "      <td>Thu, 15 Nov 2012 08:00:00 GMT</td>\n",
              "      <td>https://forestsnews.cifor.org/wp-content/uploa...</td>\n",
              "      <td>['climate', 'change', 'congo', 'paddling', 'fo...</td>\n",
              "      <td></td>\n",
              "      <td>,tree</td>\n",
              "      <td>NaN</td>\n",
              "    </tr>\n",
              "  </tbody>\n",
              "</table>\n",
              "</div>"
            ],
            "text/plain": [
              "             event_id  ... Category\n",
              "0  FF-2012-000189-IDN  ...      NaN\n",
              "1  FF-2012-000189-IDN  ...      NaN\n",
              "2  FF-2012-000189-IDN  ...      NaN\n",
              "\n",
              "[3 rows x 10 columns]"
            ]
          },
          "metadata": {
            "tags": []
          },
          "execution_count": 11
        }
      ]
    },
    {
      "cell_type": "code",
      "metadata": {
        "id": "0YUdhbrOeHHm"
      },
      "source": [
        "# replace field that's entirely space (or empty) with NaN\n",
        "import numpy as np\n",
        "data = data.replace(r'^\\s*$', np.nan, regex=True)"
      ],
      "execution_count": 12,
      "outputs": []
    },
    {
      "cell_type": "code",
      "metadata": {
        "colab": {
          "base_uri": "https://localhost:8080/"
        },
        "id": "YYxZse4seyYE",
        "outputId": "c5cbdf76-68af-482d-f03b-51c69385c4a2"
      },
      "source": [
        "data.info()"
      ],
      "execution_count": 13,
      "outputs": [
        {
          "output_type": "stream",
          "text": [
            "<class 'pandas.core.frame.DataFrame'>\n",
            "RangeIndex: 4987 entries, 0 to 4986\n",
            "Data columns (total 10 columns):\n",
            " #   Column             Non-Null Count  Dtype \n",
            "---  ------             --------------  ----- \n",
            " 0   event_id           4987 non-null   object\n",
            " 1   article_title      4987 non-null   object\n",
            " 2   article_link       4987 non-null   object\n",
            " 3   article_content    4508 non-null   object\n",
            " 4   publishing_date    4941 non-null   object\n",
            " 5   article_image      4453 non-null   object\n",
            " 6   article_keywords   4986 non-null   object\n",
            " 7   article_relevance  253 non-null    object\n",
            " 8   category           4583 non-null   object\n",
            " 9   Category           315 non-null    object\n",
            "dtypes: object(10)\n",
            "memory usage: 389.7+ KB\n"
          ],
          "name": "stdout"
        }
      ]
    },
    {
      "cell_type": "code",
      "metadata": {
        "colab": {
          "base_uri": "https://localhost:8080/",
          "height": 428
        },
        "id": "8GWoOftlf5oc",
        "outputId": "e33b5002-9bf3-4a64-a3d3-84bcbe39267a"
      },
      "source": [
        "to_drop = ['Category']#Columns to be dropped \n",
        "\n",
        "data.drop(to_drop, inplace = True, axis = 1)\n",
        "data.sample(5)#Checking if the correct columns have been dropped"
      ],
      "execution_count": 14,
      "outputs": [
        {
          "output_type": "execute_result",
          "data": {
            "text/html": [
              "<div>\n",
              "<style scoped>\n",
              "    .dataframe tbody tr th:only-of-type {\n",
              "        vertical-align: middle;\n",
              "    }\n",
              "\n",
              "    .dataframe tbody tr th {\n",
              "        vertical-align: top;\n",
              "    }\n",
              "\n",
              "    .dataframe thead th {\n",
              "        text-align: right;\n",
              "    }\n",
              "</style>\n",
              "<table border=\"1\" class=\"dataframe\">\n",
              "  <thead>\n",
              "    <tr style=\"text-align: right;\">\n",
              "      <th></th>\n",
              "      <th>event_id</th>\n",
              "      <th>article_title</th>\n",
              "      <th>article_link</th>\n",
              "      <th>article_content</th>\n",
              "      <th>publishing_date</th>\n",
              "      <th>article_image</th>\n",
              "      <th>article_keywords</th>\n",
              "      <th>article_relevance</th>\n",
              "      <th>category</th>\n",
              "    </tr>\n",
              "  </thead>\n",
              "  <tbody>\n",
              "    <tr>\n",
              "      <th>2305</th>\n",
              "      <td>FL-2017-000067-BRA</td>\n",
              "      <td>'Amazon Venice' struggles to stay above water ...</td>\n",
              "      <td>https://www.dailysabah.com/gallery/amazon-veni...</td>\n",
              "      <td>The rivers have been swelling for weeks in Bra...</td>\n",
              "      <td>Sat, 15 May 2021 10:44:00 GMT</td>\n",
              "      <td>https://idsb.tmgrup.com.tr/ly/uploads/images/2...</td>\n",
              "      <td>['amazon', 'rivers', 'water', 'brazil', 'regio...</td>\n",
              "      <td>NaN</td>\n",
              "      <td>,flood</td>\n",
              "    </tr>\n",
              "    <tr>\n",
              "      <th>3437</th>\n",
              "      <td>FL-2020-000185-PAK</td>\n",
              "      <td>Heavy downpour in Pakistan floods cities leavi...</td>\n",
              "      <td>https://www.wionews.com/south-asia/heavy-downp...</td>\n",
              "      <td>Floods have triggered in Pakistan after three ...</td>\n",
              "      <td>Thu, 27 Aug 2020 07:00:00 GMT</td>\n",
              "      <td>https://cdn.wionews.com/sites/default/files/st...</td>\n",
              "      <td>['downpour', 'rains', 'displaced', 'leaving', ...</td>\n",
              "      <td>NaN</td>\n",
              "      <td>,flood</td>\n",
              "    </tr>\n",
              "    <tr>\n",
              "      <th>1111</th>\n",
              "      <td>DR-2011-000121-CHN</td>\n",
              "      <td>Yao Ming may go back to school this fall|Stars...</td>\n",
              "      <td>https://www.chinadaily.com.cn/sports/2011-09/0...</td>\n",
              "      <td>Yao Ming may go back to school this fall Updat...</td>\n",
              "      <td>Tue, 06 Sep 2011 07:00:00 GMT</td>\n",
              "      <td>https://www.chinadaily.com.cn/sports/images/at...</td>\n",
              "      <td>['bensinger', 'fall', 'ming', 'basketball', 'y...</td>\n",
              "      <td>NaN</td>\n",
              "      <td>,none</td>\n",
              "    </tr>\n",
              "    <tr>\n",
              "      <th>2841</th>\n",
              "      <td>FL-2019-000093-NGA</td>\n",
              "      <td>It rains, it pours, it floods: Nigeria's growi...</td>\n",
              "      <td>https://africanarguments.org/2018/11/nigeria-f...</td>\n",
              "      <td>A combination of heavier rains and man-made pr...</td>\n",
              "      <td>Thu, 15 Nov 2018 08:00:00 GMT</td>\n",
              "      <td>https://africanarguments.org/wp-content/upload...</td>\n",
              "      <td>['problem', 'pours', 'water', 'seasonal', 'flo...</td>\n",
              "      <td>NaN</td>\n",
              "      <td>,flood</td>\n",
              "    </tr>\n",
              "    <tr>\n",
              "      <th>2180</th>\n",
              "      <td>FL-2021-000030-IDN</td>\n",
              "      <td>Madagascar: Businesses drive disappearance of ...</td>\n",
              "      <td>https://news.mongabay.com/2021/03/madagascar-b...</td>\n",
              "      <td>Lake Alaotra and its surrounding marshes are M...</td>\n",
              "      <td>Wed, 31 Mar 2021 07:00:00 GMT</td>\n",
              "      <td>https://imgs.mongabay.com/wp-content/uploads/s...</td>\n",
              "      <td>['rice', 'local', 'acres', 'reed', 'madagascar...</td>\n",
              "      <td>NaN</td>\n",
              "      <td>none</td>\n",
              "    </tr>\n",
              "  </tbody>\n",
              "</table>\n",
              "</div>"
            ],
            "text/plain": [
              "                event_id  ... category\n",
              "2305  FL-2017-000067-BRA  ...   ,flood\n",
              "3437  FL-2020-000185-PAK  ...   ,flood\n",
              "1111  DR-2011-000121-CHN  ...    ,none\n",
              "2841  FL-2019-000093-NGA  ...   ,flood\n",
              "2180  FL-2021-000030-IDN  ...     none\n",
              "\n",
              "[5 rows x 9 columns]"
            ]
          },
          "metadata": {
            "tags": []
          },
          "execution_count": 14
        }
      ]
    },
    {
      "cell_type": "code",
      "metadata": {
        "id": "hwForpUJtVwm"
      },
      "source": [
        "data['country'] = data_copy['Country']"
      ],
      "execution_count": 15,
      "outputs": []
    },
    {
      "cell_type": "code",
      "metadata": {
        "colab": {
          "base_uri": "https://localhost:8080/"
        },
        "id": "zlznQDL-gUfv",
        "outputId": "f94a55aa-aa2b-4c45-d34d-97d97198a4f6"
      },
      "source": [
        "data.info()"
      ],
      "execution_count": 16,
      "outputs": [
        {
          "output_type": "stream",
          "text": [
            "<class 'pandas.core.frame.DataFrame'>\n",
            "RangeIndex: 4987 entries, 0 to 4986\n",
            "Data columns (total 10 columns):\n",
            " #   Column             Non-Null Count  Dtype \n",
            "---  ------             --------------  ----- \n",
            " 0   event_id           4987 non-null   object\n",
            " 1   article_title      4987 non-null   object\n",
            " 2   article_link       4987 non-null   object\n",
            " 3   article_content    4508 non-null   object\n",
            " 4   publishing_date    4941 non-null   object\n",
            " 5   article_image      4453 non-null   object\n",
            " 6   article_keywords   4986 non-null   object\n",
            " 7   article_relevance  253 non-null    object\n",
            " 8   category           4583 non-null   object\n",
            " 9   country            4987 non-null   object\n",
            "dtypes: object(10)\n",
            "memory usage: 389.7+ KB\n"
          ],
          "name": "stdout"
        }
      ]
    },
    {
      "cell_type": "code",
      "metadata": {
        "colab": {
          "base_uri": "https://localhost:8080/",
          "height": 898
        },
        "id": "8gz0Jn3Bj3eV",
        "outputId": "99fafca8-192c-4d45-916c-0f2bb5e4bef7"
      },
      "source": [
        "data[data.article_relevance.notnull()]"
      ],
      "execution_count": 17,
      "outputs": [
        {
          "output_type": "execute_result",
          "data": {
            "text/html": [
              "<div>\n",
              "<style scoped>\n",
              "    .dataframe tbody tr th:only-of-type {\n",
              "        vertical-align: middle;\n",
              "    }\n",
              "\n",
              "    .dataframe tbody tr th {\n",
              "        vertical-align: top;\n",
              "    }\n",
              "\n",
              "    .dataframe thead th {\n",
              "        text-align: right;\n",
              "    }\n",
              "</style>\n",
              "<table border=\"1\" class=\"dataframe\">\n",
              "  <thead>\n",
              "    <tr style=\"text-align: right;\">\n",
              "      <th></th>\n",
              "      <th>event_id</th>\n",
              "      <th>article_title</th>\n",
              "      <th>article_link</th>\n",
              "      <th>article_content</th>\n",
              "      <th>publishing_date</th>\n",
              "      <th>article_image</th>\n",
              "      <th>article_keywords</th>\n",
              "      <th>article_relevance</th>\n",
              "      <th>category</th>\n",
              "      <th>country</th>\n",
              "    </tr>\n",
              "  </thead>\n",
              "  <tbody>\n",
              "    <tr>\n",
              "      <th>438</th>\n",
              "      <td>DR-2014-000109-CHN</td>\n",
              "      <td>Worst drought in 63 years hits Liaoning provin...</td>\n",
              "      <td>https://www.scmp.com/news/china/article/157349...</td>\n",
              "      <td>Liaoning averaged 90mm across the province in ...</td>\n",
              "      <td>Thu, 14 Aug 2014 07:00:00 GMT</td>\n",
              "      <td>https://cdn1.i-scmp.com/sites/default/files/st...</td>\n",
              "      <td>['averaged', 'liaoning', 'hits', 'dry', 'droug...</td>\n",
              "      <td>yes</td>\n",
              "      <td>yes</td>\n",
              "      <td>China</td>\n",
              "    </tr>\n",
              "    <tr>\n",
              "      <th>439</th>\n",
              "      <td>DR-2014-000109-CHN</td>\n",
              "      <td>In Time Of Drought, U.S. West's Alfalfa Export...</td>\n",
              "      <td>https://www.npr.org/2014/08/12/339753108/in-ti...</td>\n",
              "      <td>In Time Of Drought, U.S. West's Alfalfa Export...</td>\n",
              "      <td>Tue, 12 Aug 2014 07:00:00 GMT</td>\n",
              "      <td>https://media.npr.org/include/images/facebook-...</td>\n",
              "      <td>['criticized', 'river', 'drought', 'farmers', ...</td>\n",
              "      <td>yes</td>\n",
              "      <td>yes</td>\n",
              "      <td>China</td>\n",
              "    </tr>\n",
              "    <tr>\n",
              "      <th>440</th>\n",
              "      <td>DR-2014-000109-CHN</td>\n",
              "      <td>More Chinese on the Coast, Less Fish in the Se...</td>\n",
              "      <td>https://www.scientificamerican.com/article/mor...</td>\n",
              "      <td>China's booming economic growth is helping to ...</td>\n",
              "      <td>Fri, 08 Aug 2014 07:00:00 GMT</td>\n",
              "      <td>http://www.scientificamerican.com/themes/respo...</td>\n",
              "      <td>['bertness', 'chinese', 'research', 'sea', 'ec...</td>\n",
              "      <td>no</td>\n",
              "      <td>no</td>\n",
              "      <td>China</td>\n",
              "    </tr>\n",
              "    <tr>\n",
              "      <th>441</th>\n",
              "      <td>DR-2014-000109-CHN</td>\n",
              "      <td>Climate change and drought in ancient times - ...</td>\n",
              "      <td>https://www.sciencedaily.com/releases/2014/08/...</td>\n",
              "      <td>The influence of climate on agriculture is bel...</td>\n",
              "      <td>Mon, 11 Aug 2014 07:00:00 GMT</td>\n",
              "      <td>https://www.sciencedaily.com/images/scidaily-i...</td>\n",
              "      <td>['climate', 'drought', 'ancient', 'agriculture...</td>\n",
              "      <td>yes</td>\n",
              "      <td>yes</td>\n",
              "      <td>China</td>\n",
              "    </tr>\n",
              "    <tr>\n",
              "      <th>442</th>\n",
              "      <td>DR-2014-000109-CHN</td>\n",
              "      <td>Drought-Resistant Rice Sows Wealth in India - ...</td>\n",
              "      <td>https://www.wsj.com/articles/drought-resistant...</td>\n",
              "      <td>NaN</td>\n",
              "      <td>Mon, 04 Aug 2014 07:00:00 GMT</td>\n",
              "      <td>NaN</td>\n",
              "      <td>[]</td>\n",
              "      <td>no</td>\n",
              "      <td>no</td>\n",
              "      <td>China</td>\n",
              "    </tr>\n",
              "    <tr>\n",
              "      <th>...</th>\n",
              "      <td>...</td>\n",
              "      <td>...</td>\n",
              "      <td>...</td>\n",
              "      <td>...</td>\n",
              "      <td>...</td>\n",
              "      <td>...</td>\n",
              "      <td>...</td>\n",
              "      <td>...</td>\n",
              "      <td>...</td>\n",
              "      <td>...</td>\n",
              "    </tr>\n",
              "    <tr>\n",
              "      <th>693</th>\n",
              "      <td>Drought Sri Lanka</td>\n",
              "      <td>An end to desertification - Sunday Observer</td>\n",
              "      <td>https://sundayobserver.lk/2017/06/18/end-deser...</td>\n",
              "      <td>Most parts of Sri Lanka have just emerged out ...</td>\n",
              "      <td>Sun, 18 Jun 2017 07:00:00 GMT</td>\n",
              "      <td>http://www.sundayobserver.lk/sites/default/fil...</td>\n",
              "      <td>['million', 'land', 'end', 'countries', 'deser...</td>\n",
              "      <td>drought</td>\n",
              "      <td>drought</td>\n",
              "      <td>Sri Lanka</td>\n",
              "    </tr>\n",
              "    <tr>\n",
              "      <th>1493</th>\n",
              "      <td>FL-2017-000067-BRA</td>\n",
              "      <td>Preço da Netflix sobe no Brasil</td>\n",
              "      <td>veja quanto é a sua nova mensalidade - TecMundo</td>\n",
              "      <td>https://www.tecmundo.com.br/netflix/117833-pre...</td>\n",
              "      <td>O serviço de streaming Netflix anunciou nesta ...</td>\n",
              "      <td>Thu, 15 Jun 2017 07:00:00 GMT</td>\n",
              "      <td>https://img.ibxk.com.br/2017/06/15/15150821651...</td>\n",
              "      <td>['da', 'valor', 'sua', 'quanto', 'r', 'uma', '...</td>\n",
              "      <td>['da', 'valor', 'sua', 'quanto', 'r', 'uma', '...</td>\n",
              "      <td>Brazil</td>\n",
              "    </tr>\n",
              "    <tr>\n",
              "      <th>1937</th>\n",
              "      <td>FL-2020-000164-IND</td>\n",
              "      <td>Intense monsoon rain over west and central Ind...</td>\n",
              "      <td>https://www.tribuneindia.com/news/nation/inten...</td>\n",
              "      <td>Tribune News Service\\n\\nNew Delhi, July 1\\n\\nT...</td>\n",
              "      <td>Wed, 01 Jul 2020 07:00:00 GMT</td>\n",
              "      <td>https://englishtribuneimages.blob.core.windows...</td>\n",
              "      <td>['rainfall', 'imd', 'till', 'madhya', 'widespr...</td>\n",
              "      <td>flood</td>\n",
              "      <td>flood,flood</td>\n",
              "      <td>India</td>\n",
              "    </tr>\n",
              "    <tr>\n",
              "      <th>1938</th>\n",
              "      <td>FL-2020-000164-IND</td>\n",
              "      <td>Global ripple effect of shifting monsoons - Sc...</td>\n",
              "      <td>https://www.sciencedaily.com/releases/2020/06/...</td>\n",
              "      <td>Scientists from the Department of Energy's Oak...</td>\n",
              "      <td>Mon, 29 Jun 2020 07:00:00 GMT</td>\n",
              "      <td>https://www.sciencedaily.com/images/scidaily-i...</td>\n",
              "      <td>['team', 'simulations', 'season', 'effect', 'r...</td>\n",
              "      <td>none</td>\n",
              "      <td>none,none</td>\n",
              "      <td>India</td>\n",
              "    </tr>\n",
              "    <tr>\n",
              "      <th>2075</th>\n",
              "      <td>FL-2021-000021-IND</td>\n",
              "      <td>Uttarakhand: Glacier burst causes flash floods</td>\n",
              "      <td>three bodies recovered while many others miss...</td>\n",
              "      <td>https://www.timesnownews.com/videos/times-now/...</td>\n",
              "      <td>07 FEBRUARY 2021 05:29 IST | ENGLISH | GENERAL...</td>\n",
              "      <td>Sun, 07 Feb 2021 08:00:00 GMT</td>\n",
              "      <td>https://imgk.timesnownews.com/2355_1612700910_...</td>\n",
              "      <td>['causes', 'glacier', 'took', 'bodies', 'minis...</td>\n",
              "      <td>['causes', 'glacier', 'took', 'bodies', 'minis...</td>\n",
              "      <td>India</td>\n",
              "    </tr>\n",
              "  </tbody>\n",
              "</table>\n",
              "<p>253 rows × 10 columns</p>\n",
              "</div>"
            ],
            "text/plain": [
              "                event_id  ...    country\n",
              "438   DR-2014-000109-CHN  ...      China\n",
              "439   DR-2014-000109-CHN  ...      China\n",
              "440   DR-2014-000109-CHN  ...      China\n",
              "441   DR-2014-000109-CHN  ...      China\n",
              "442   DR-2014-000109-CHN  ...      China\n",
              "...                  ...  ...        ...\n",
              "693    Drought Sri Lanka  ...  Sri Lanka\n",
              "1493  FL-2017-000067-BRA  ...     Brazil\n",
              "1937  FL-2020-000164-IND  ...      India\n",
              "1938  FL-2020-000164-IND  ...      India\n",
              "2075  FL-2021-000021-IND  ...      India\n",
              "\n",
              "[253 rows x 10 columns]"
            ]
          },
          "metadata": {
            "tags": []
          },
          "execution_count": 17
        }
      ]
    },
    {
      "cell_type": "code",
      "metadata": {
        "colab": {
          "base_uri": "https://localhost:8080/"
        },
        "id": "I563CRu7vgyY",
        "outputId": "c500c1d4-1ac3-48d1-840f-0adce95e3e39"
      },
      "source": [
        "data['article_relevance'].value_counts()"
      ],
      "execution_count": 18,
      "outputs": [
        {
          "output_type": "execute_result",
          "data": {
            "text/plain": [
              "no                                                                                                                                                                        87\n",
              "none                                                                                                                                                                      75\n",
              "drought                                                                                                                                                                   56\n",
              "yes                                                                                                                                                                       12\n",
              "both                                                                                                                                                                       8\n",
              "flood                                                                                                                                                                      7\n",
              " none                                                                                                                                                                      2\n",
              " drought                                                                                                                                                                   2\n",
              "['causes', 'glacier', 'took', 'bodies', 'minister', 'teams', 'water', 'missing', 'flash', 'floods', 'burst', 'reported', 'union', 'recovered', 'stock', 'uttarakhand']     1\n",
              " yes                                                                                                                                                                       1\n",
              "['da', 'valor', 'sua', 'quanto', 'r', 'uma', 'é', 'netflix', 'preços', 'em', 'um', 'preço', 'sobe', 'passa', 'veja', 'mensalidade', 'nova', 'com']                         1\n",
              " both                                                                                                                                                                      1\n",
              "Name: article_relevance, dtype: int64"
            ]
          },
          "metadata": {
            "tags": []
          },
          "execution_count": 18
        }
      ]
    },
    {
      "cell_type": "code",
      "metadata": {
        "id": "7X7jdITGv8P4"
      },
      "source": [
        "data_copy2 = data.copy()"
      ],
      "execution_count": 19,
      "outputs": []
    },
    {
      "cell_type": "code",
      "metadata": {
        "id": "rK5RmU3lxxqH"
      },
      "source": [
        "list_ = ['no','none','drought','yes','both','flood',' drought',' none',' yes',' both']"
      ],
      "execution_count": 20,
      "outputs": []
    },
    {
      "cell_type": "code",
      "metadata": {
        "id": "ZTKpE5ySwP6L"
      },
      "source": [
        "df_concat = data[data['article_relevance'].isin(list_)]"
      ],
      "execution_count": 21,
      "outputs": []
    },
    {
      "cell_type": "code",
      "metadata": {
        "colab": {
          "base_uri": "https://localhost:8080/"
        },
        "id": "dX40HpZ6ytgE",
        "outputId": "7a87efcd-c564-429d-b5da-1408ec947156"
      },
      "source": [
        "df_concat.info()"
      ],
      "execution_count": 22,
      "outputs": [
        {
          "output_type": "stream",
          "text": [
            "<class 'pandas.core.frame.DataFrame'>\n",
            "Int64Index: 251 entries, 438 to 1938\n",
            "Data columns (total 10 columns):\n",
            " #   Column             Non-Null Count  Dtype \n",
            "---  ------             --------------  ----- \n",
            " 0   event_id           251 non-null    object\n",
            " 1   article_title      251 non-null    object\n",
            " 2   article_link       251 non-null    object\n",
            " 3   article_content    229 non-null    object\n",
            " 4   publishing_date    251 non-null    object\n",
            " 5   article_image      224 non-null    object\n",
            " 6   article_keywords   251 non-null    object\n",
            " 7   article_relevance  251 non-null    object\n",
            " 8   category           251 non-null    object\n",
            " 9   country            251 non-null    object\n",
            "dtypes: object(10)\n",
            "memory usage: 21.6+ KB\n"
          ],
          "name": "stdout"
        }
      ]
    },
    {
      "cell_type": "code",
      "metadata": {
        "id": "LoNipMoiiDav"
      },
      "source": [
        "df = data[data.article_relevance.isnull()]"
      ],
      "execution_count": 23,
      "outputs": []
    },
    {
      "cell_type": "code",
      "metadata": {
        "colab": {
          "base_uri": "https://localhost:8080/"
        },
        "id": "vW60WTmXirc-",
        "outputId": "527fd297-a301-4d06-8124-cec0141efede"
      },
      "source": [
        "df =pd.concat([df_concat,df])\n",
        "df.info()"
      ],
      "execution_count": 24,
      "outputs": [
        {
          "output_type": "stream",
          "text": [
            "<class 'pandas.core.frame.DataFrame'>\n",
            "Int64Index: 4985 entries, 438 to 4986\n",
            "Data columns (total 10 columns):\n",
            " #   Column             Non-Null Count  Dtype \n",
            "---  ------             --------------  ----- \n",
            " 0   event_id           4985 non-null   object\n",
            " 1   article_title      4985 non-null   object\n",
            " 2   article_link       4985 non-null   object\n",
            " 3   article_content    4506 non-null   object\n",
            " 4   publishing_date    4939 non-null   object\n",
            " 5   article_image      4451 non-null   object\n",
            " 6   article_keywords   4984 non-null   object\n",
            " 7   article_relevance  251 non-null    object\n",
            " 8   category           4581 non-null   object\n",
            " 9   country            4985 non-null   object\n",
            "dtypes: object(10)\n",
            "memory usage: 428.4+ KB\n"
          ],
          "name": "stdout"
        }
      ]
    },
    {
      "cell_type": "code",
      "metadata": {
        "id": "s008HfcA1qCM"
      },
      "source": [
        "# keep first duplicate row\n",
        "df = df.drop_duplicates()"
      ],
      "execution_count": 25,
      "outputs": []
    },
    {
      "cell_type": "code",
      "metadata": {
        "colab": {
          "base_uri": "https://localhost:8080/"
        },
        "id": "IRsw-qGnnqGH",
        "outputId": "3e522ef5-d14f-4834-86a9-99467065d71c"
      },
      "source": [
        "df.info()"
      ],
      "execution_count": 26,
      "outputs": [
        {
          "output_type": "stream",
          "text": [
            "<class 'pandas.core.frame.DataFrame'>\n",
            "Int64Index: 4802 entries, 438 to 4803\n",
            "Data columns (total 10 columns):\n",
            " #   Column             Non-Null Count  Dtype \n",
            "---  ------             --------------  ----- \n",
            " 0   event_id           4802 non-null   object\n",
            " 1   article_title      4802 non-null   object\n",
            " 2   article_link       4802 non-null   object\n",
            " 3   article_content    4409 non-null   object\n",
            " 4   publishing_date    4756 non-null   object\n",
            " 5   article_image      4352 non-null   object\n",
            " 6   article_keywords   4801 non-null   object\n",
            " 7   article_relevance  251 non-null    object\n",
            " 8   category           4398 non-null   object\n",
            " 9   country            4802 non-null   object\n",
            "dtypes: object(10)\n",
            "memory usage: 412.7+ KB\n"
          ],
          "name": "stdout"
        }
      ]
    },
    {
      "cell_type": "code",
      "metadata": {
        "colab": {
          "base_uri": "https://localhost:8080/"
        },
        "id": "_HdUKKlhwhfz",
        "outputId": "4b8b6443-1a17-4bfb-e430-4d3f704897fb"
      },
      "source": [
        "df['article_relevance'].value_counts()"
      ],
      "execution_count": 27,
      "outputs": [
        {
          "output_type": "execute_result",
          "data": {
            "text/plain": [
              "no          87\n",
              "none        75\n",
              "drought     56\n",
              "yes         12\n",
              "both         8\n",
              "flood        7\n",
              " none        2\n",
              " drought     2\n",
              " yes         1\n",
              " both        1\n",
              "Name: article_relevance, dtype: int64"
            ]
          },
          "metadata": {
            "tags": []
          },
          "execution_count": 27
        }
      ]
    },
    {
      "cell_type": "code",
      "metadata": {
        "id": "SBr_vMe52KKl"
      },
      "source": [
        "df.drop('article_relevance', inplace = True, axis = 1)"
      ],
      "execution_count": 28,
      "outputs": []
    },
    {
      "cell_type": "code",
      "metadata": {
        "colab": {
          "base_uri": "https://localhost:8080/"
        },
        "id": "J6uR7xkqsUVi",
        "outputId": "a600f10a-f670-40d7-fc90-62aa9d41f2d0"
      },
      "source": [
        "df.category.unique()"
      ],
      "execution_count": 29,
      "outputs": [
        {
          "output_type": "execute_result",
          "data": {
            "text/plain": [
              "array([' yes', 'yes', 'no', 'no, ', 'drought', 'none', 'both', 'flood',\n",
              "       ' drought', ' none', ' both', 'flood,flood', ' none,none',\n",
              "       ' ,none', ' ,flood', ' ,tree', ' ,flood_and_drought', ' ,drought',\n",
              "       'flood_and_drought', ' ,flood_drought', nan, 'climate_change',\n",
              "       ' ,drought, flood', ' ,drought,flood', ' ,flood - drought',\n",
              "       ' ,Drought', ' ,nnone', ' ,Flood', ' ,Tree', ' ,Flood_and_Drought',\n",
              "       ' ,flood,flood', ' ,none,flood', ' ,Main responsibilities:',\n",
              "       ' ,missing', ' ,fldood', ' ,None', ' ,floood'], dtype=object)"
            ]
          },
          "metadata": {
            "tags": []
          },
          "execution_count": 29
        }
      ]
    },
    {
      "cell_type": "code",
      "metadata": {
        "colab": {
          "base_uri": "https://localhost:8080/",
          "height": 151
        },
        "id": "43HFbo1k3R-K",
        "outputId": "4dd2843b-e7ab-4789-9908-1de139054709"
      },
      "source": [
        "df_yes = df[df.category == ' ,none,flood']\n",
        "df_yes.head()"
      ],
      "execution_count": 30,
      "outputs": [
        {
          "output_type": "execute_result",
          "data": {
            "text/html": [
              "<div>\n",
              "<style scoped>\n",
              "    .dataframe tbody tr th:only-of-type {\n",
              "        vertical-align: middle;\n",
              "    }\n",
              "\n",
              "    .dataframe tbody tr th {\n",
              "        vertical-align: top;\n",
              "    }\n",
              "\n",
              "    .dataframe thead th {\n",
              "        text-align: right;\n",
              "    }\n",
              "</style>\n",
              "<table border=\"1\" class=\"dataframe\">\n",
              "  <thead>\n",
              "    <tr style=\"text-align: right;\">\n",
              "      <th></th>\n",
              "      <th>event_id</th>\n",
              "      <th>article_title</th>\n",
              "      <th>article_link</th>\n",
              "      <th>article_content</th>\n",
              "      <th>publishing_date</th>\n",
              "      <th>article_image</th>\n",
              "      <th>article_keywords</th>\n",
              "      <th>category</th>\n",
              "      <th>country</th>\n",
              "    </tr>\n",
              "  </thead>\n",
              "  <tbody>\n",
              "    <tr>\n",
              "      <th>2005</th>\n",
              "      <td>FL-2021-000021-IND</td>\n",
              "      <td>EXPLAINER: How glaciers can burst and send flo...</td>\n",
              "      <td>https://apnews.com/article/how-glaciers-can-bu...</td>\n",
              "      <td>NaN</td>\n",
              "      <td>Sun, 07 Feb 2021 08:00:00 GMT</td>\n",
              "      <td>https://storage.googleapis.com/afs-prod/media/...</td>\n",
              "      <td>['glaciers', 'downstream', 'explainer', 'flood...</td>\n",
              "      <td>,none,flood</td>\n",
              "      <td>India</td>\n",
              "    </tr>\n",
              "  </tbody>\n",
              "</table>\n",
              "</div>"
            ],
            "text/plain": [
              "                event_id  ... country\n",
              "2005  FL-2021-000021-IND  ...   India\n",
              "\n",
              "[1 rows x 9 columns]"
            ]
          },
          "metadata": {
            "tags": []
          },
          "execution_count": 30
        }
      ]
    },
    {
      "cell_type": "code",
      "metadata": {
        "colab": {
          "base_uri": "https://localhost:8080/",
          "height": 37
        },
        "id": "zjJmvJMF92Lq",
        "outputId": "5bd105bc-d9a7-400c-a400-557bae69d166"
      },
      "source": [
        "df_yes['article_title'][2005]"
      ],
      "execution_count": 31,
      "outputs": [
        {
          "output_type": "execute_result",
          "data": {
            "application/vnd.google.colaboratory.intrinsic+json": {
              "type": "string"
            },
            "text/plain": [
              "'EXPLAINER: How glaciers can burst and send floods downstream - Associated Press'"
            ]
          },
          "metadata": {
            "tags": []
          },
          "execution_count": 31
        }
      ]
    },
    {
      "cell_type": "code",
      "metadata": {
        "id": "CQafsvGk3zrC"
      },
      "source": [
        "df['category'] = df['category'].replace({' yes':'drought', 'yes':'drought', 'no':'none', 'no, ':'none', 'both':'flood_drought'})"
      ],
      "execution_count": 32,
      "outputs": []
    },
    {
      "cell_type": "code",
      "metadata": {
        "colab": {
          "base_uri": "https://localhost:8080/"
        },
        "id": "j73oUKsr4mQ0",
        "outputId": "6bd4199e-26b0-4035-ef1d-3c995147773d"
      },
      "source": [
        "df.category.unique()"
      ],
      "execution_count": 33,
      "outputs": [
        {
          "output_type": "execute_result",
          "data": {
            "text/plain": [
              "array(['drought', 'none', 'flood_drought', 'flood', ' drought', ' none',\n",
              "       ' both', 'flood,flood', ' none,none', ' ,none', ' ,flood',\n",
              "       ' ,tree', ' ,flood_and_drought', ' ,drought', 'flood_and_drought',\n",
              "       ' ,flood_drought', nan, 'climate_change', ' ,drought, flood',\n",
              "       ' ,drought,flood', ' ,flood - drought', ' ,Drought', ' ,nnone',\n",
              "       ' ,Flood', ' ,Tree', ' ,Flood_and_Drought', ' ,flood,flood',\n",
              "       ' ,none,flood', ' ,Main responsibilities:', ' ,missing',\n",
              "       ' ,fldood', ' ,None', ' ,floood'], dtype=object)"
            ]
          },
          "metadata": {
            "tags": []
          },
          "execution_count": 33
        }
      ]
    },
    {
      "cell_type": "code",
      "metadata": {
        "id": "IRa93NAws0Sz"
      },
      "source": [
        "df['category'] = df['category'].replace({'flood,flood': 'flood', 'fldood': 'flood', 'Flood': 'flood', 'floood': 'flood'})"
      ],
      "execution_count": 34,
      "outputs": []
    },
    {
      "cell_type": "code",
      "metadata": {
        "colab": {
          "base_uri": "https://localhost:8080/"
        },
        "id": "DmtsFpPStpLM",
        "outputId": "0b2422f2-7f6b-4c92-8582-df7adb2487c9"
      },
      "source": [
        "df.category.unique()"
      ],
      "execution_count": 35,
      "outputs": [
        {
          "output_type": "execute_result",
          "data": {
            "text/plain": [
              "array(['drought', 'none', 'flood_drought', 'flood', ' drought', ' none',\n",
              "       ' both', ' none,none', ' ,none', ' ,flood', ' ,tree',\n",
              "       ' ,flood_and_drought', ' ,drought', 'flood_and_drought',\n",
              "       ' ,flood_drought', nan, 'climate_change', ' ,drought, flood',\n",
              "       ' ,drought,flood', ' ,flood - drought', ' ,Drought', ' ,nnone',\n",
              "       ' ,Flood', ' ,Tree', ' ,Flood_and_Drought', ' ,flood,flood',\n",
              "       ' ,none,flood', ' ,Main responsibilities:', ' ,missing',\n",
              "       ' ,fldood', ' ,None', ' ,floood'], dtype=object)"
            ]
          },
          "metadata": {
            "tags": []
          },
          "execution_count": 35
        }
      ]
    },
    {
      "cell_type": "code",
      "metadata": {
        "id": "Jz4eZaW8tr4A"
      },
      "source": [
        "df['category'] = df['category'].replace({'None':'none','flood_and_drought':'flood_drought','none,flood':'flood'})"
      ],
      "execution_count": 36,
      "outputs": []
    },
    {
      "cell_type": "code",
      "metadata": {
        "colab": {
          "base_uri": "https://localhost:8080/"
        },
        "id": "JENhuuLfuFf2",
        "outputId": "837042bc-8ff9-4581-e70b-9173aaf4837e"
      },
      "source": [
        "df.category.unique()"
      ],
      "execution_count": 37,
      "outputs": [
        {
          "output_type": "execute_result",
          "data": {
            "text/plain": [
              "array(['drought', 'none', 'flood_drought', 'flood', ' drought', ' none',\n",
              "       ' both', ' none,none', ' ,none', ' ,flood', ' ,tree',\n",
              "       ' ,flood_and_drought', ' ,drought', ' ,flood_drought', nan,\n",
              "       'climate_change', ' ,drought, flood', ' ,drought,flood',\n",
              "       ' ,flood - drought', ' ,Drought', ' ,nnone', ' ,Flood', ' ,Tree',\n",
              "       ' ,Flood_and_Drought', ' ,flood,flood', ' ,none,flood',\n",
              "       ' ,Main responsibilities:', ' ,missing', ' ,fldood', ' ,None',\n",
              "       ' ,floood'], dtype=object)"
            ]
          },
          "metadata": {
            "tags": []
          },
          "execution_count": 37
        }
      ]
    },
    {
      "cell_type": "code",
      "metadata": {
        "id": "YHyTYAd243Nn"
      },
      "source": [
        "df['category'] = df['category'].replace({' drought':'drought', ' none':'none',' both':'flood_drought', ' none,none':'none', ' ,flood_drought':'flood_drought', ' ,drought':'drought', ' ,none':'none'})"
      ],
      "execution_count": 38,
      "outputs": []
    },
    {
      "cell_type": "code",
      "metadata": {
        "colab": {
          "base_uri": "https://localhost:8080/"
        },
        "id": "0e_DGYdc5pvz",
        "outputId": "3dba9f3c-8bd7-4f03-de60-b42c25d97388"
      },
      "source": [
        "df.category.unique()"
      ],
      "execution_count": 39,
      "outputs": [
        {
          "output_type": "execute_result",
          "data": {
            "text/plain": [
              "array(['drought', 'none', 'flood_drought', 'flood', ' ,flood', ' ,tree',\n",
              "       ' ,flood_and_drought', nan, 'climate_change', ' ,drought, flood',\n",
              "       ' ,drought,flood', ' ,flood - drought', ' ,Drought', ' ,nnone',\n",
              "       ' ,Flood', ' ,Tree', ' ,Flood_and_Drought', ' ,flood,flood',\n",
              "       ' ,none,flood', ' ,Main responsibilities:', ' ,missing',\n",
              "       ' ,fldood', ' ,None', ' ,floood'], dtype=object)"
            ]
          },
          "metadata": {
            "tags": []
          },
          "execution_count": 39
        }
      ]
    },
    {
      "cell_type": "code",
      "metadata": {
        "id": "NJK0zjzC52nV"
      },
      "source": [
        "df['category'] = df['category'].replace({' ,flood':'flood',' ,drought, flood':'flood_drought', ' ,drought,flood' : 'flood_drought'})"
      ],
      "execution_count": 40,
      "outputs": []
    },
    {
      "cell_type": "code",
      "metadata": {
        "colab": {
          "base_uri": "https://localhost:8080/"
        },
        "id": "aMOzZKuZ6MIp",
        "outputId": "f55e68f6-fc01-45cf-8e9f-5b037418a5db"
      },
      "source": [
        "df.category.unique()"
      ],
      "execution_count": 41,
      "outputs": [
        {
          "output_type": "execute_result",
          "data": {
            "text/plain": [
              "array(['drought', 'none', 'flood_drought', 'flood', ' ,tree',\n",
              "       ' ,flood_and_drought', nan, 'climate_change', ' ,flood - drought',\n",
              "       ' ,Drought', ' ,nnone', ' ,Flood', ' ,Tree', ' ,Flood_and_Drought',\n",
              "       ' ,flood,flood', ' ,none,flood', ' ,Main responsibilities:',\n",
              "       ' ,missing', ' ,fldood', ' ,None', ' ,floood'], dtype=object)"
            ]
          },
          "metadata": {
            "tags": []
          },
          "execution_count": 41
        }
      ]
    },
    {
      "cell_type": "code",
      "metadata": {
        "id": "oimW0jz-6Pov"
      },
      "source": [
        "df['category'] = df['category'].replace({' ,flood - drought':'flood_drought', ' ,Drought':'drought', ' ,nnone':'none', ' ,Flood':'flood',\n",
        "                                         ' ,Tree':'tree',' ,Flood_and_Drought':'flood_drought', ' ,flood_and_drought':'flood_drought',\n",
        "                                         ' ,tree':'tree',' ,flood,flood':'flood', ' ,none,flood':'none', ' ,fldood':'flood',\n",
        "                                         ' ,None':'none', ' ,floood':'flood'})"
      ],
      "execution_count": 42,
      "outputs": []
    },
    {
      "cell_type": "code",
      "metadata": {
        "colab": {
          "base_uri": "https://localhost:8080/"
        },
        "id": "YN4n7sNw7MnP",
        "outputId": "c8d1ac5a-1f75-436a-ae34-9c755117dc7d"
      },
      "source": [
        "df.category.unique()"
      ],
      "execution_count": 43,
      "outputs": [
        {
          "output_type": "execute_result",
          "data": {
            "text/plain": [
              "array(['drought', 'none', 'flood_drought', 'flood', 'tree', nan,\n",
              "       'climate_change', ' ,Main responsibilities:', ' ,missing'],\n",
              "      dtype=object)"
            ]
          },
          "metadata": {
            "tags": []
          },
          "execution_count": 43
        }
      ]
    },
    {
      "cell_type": "code",
      "metadata": {
        "colab": {
          "base_uri": "https://localhost:8080/"
        },
        "id": "2uJBKtX8wbY8",
        "outputId": "878163b8-cb9d-4e94-e77e-b32da561d24a"
      },
      "source": [
        "df.info()"
      ],
      "execution_count": 44,
      "outputs": [
        {
          "output_type": "stream",
          "text": [
            "<class 'pandas.core.frame.DataFrame'>\n",
            "Int64Index: 4802 entries, 438 to 4803\n",
            "Data columns (total 9 columns):\n",
            " #   Column            Non-Null Count  Dtype \n",
            "---  ------            --------------  ----- \n",
            " 0   event_id          4802 non-null   object\n",
            " 1   article_title     4802 non-null   object\n",
            " 2   article_link      4802 non-null   object\n",
            " 3   article_content   4409 non-null   object\n",
            " 4   publishing_date   4756 non-null   object\n",
            " 5   article_image     4352 non-null   object\n",
            " 6   article_keywords  4801 non-null   object\n",
            " 7   category          4398 non-null   object\n",
            " 8   country           4802 non-null   object\n",
            "dtypes: object(9)\n",
            "memory usage: 375.2+ KB\n"
          ],
          "name": "stdout"
        }
      ]
    },
    {
      "cell_type": "code",
      "metadata": {
        "colab": {
          "base_uri": "https://localhost:8080/"
        },
        "id": "QG0o0QC_wtW1",
        "outputId": "ccb2a3fd-1998-4539-dfdc-e07ed78fb5d6"
      },
      "source": [
        "df = df[df.category != ' ,Main responsibilities:']\n",
        "df.info()"
      ],
      "execution_count": 45,
      "outputs": [
        {
          "output_type": "stream",
          "text": [
            "<class 'pandas.core.frame.DataFrame'>\n",
            "Int64Index: 4801 entries, 438 to 4803\n",
            "Data columns (total 9 columns):\n",
            " #   Column            Non-Null Count  Dtype \n",
            "---  ------            --------------  ----- \n",
            " 0   event_id          4801 non-null   object\n",
            " 1   article_title     4801 non-null   object\n",
            " 2   article_link      4801 non-null   object\n",
            " 3   article_content   4408 non-null   object\n",
            " 4   publishing_date   4755 non-null   object\n",
            " 5   article_image     4351 non-null   object\n",
            " 6   article_keywords  4800 non-null   object\n",
            " 7   category          4397 non-null   object\n",
            " 8   country           4801 non-null   object\n",
            "dtypes: object(9)\n",
            "memory usage: 375.1+ KB\n"
          ],
          "name": "stdout"
        }
      ]
    },
    {
      "cell_type": "code",
      "metadata": {
        "colab": {
          "base_uri": "https://localhost:8080/"
        },
        "id": "jmnaRS4P9RM4",
        "outputId": "6196da89-e0a6-4c55-8006-36bd1bc23e80"
      },
      "source": [
        "df = df[df.category != ' ,missing']\n",
        "df.info()"
      ],
      "execution_count": 46,
      "outputs": [
        {
          "output_type": "stream",
          "text": [
            "<class 'pandas.core.frame.DataFrame'>\n",
            "Int64Index: 4797 entries, 438 to 4803\n",
            "Data columns (total 9 columns):\n",
            " #   Column            Non-Null Count  Dtype \n",
            "---  ------            --------------  ----- \n",
            " 0   event_id          4797 non-null   object\n",
            " 1   article_title     4797 non-null   object\n",
            " 2   article_link      4797 non-null   object\n",
            " 3   article_content   4406 non-null   object\n",
            " 4   publishing_date   4751 non-null   object\n",
            " 5   article_image     4349 non-null   object\n",
            " 6   article_keywords  4796 non-null   object\n",
            " 7   category          4393 non-null   object\n",
            " 8   country           4797 non-null   object\n",
            "dtypes: object(9)\n",
            "memory usage: 374.8+ KB\n"
          ],
          "name": "stdout"
        }
      ]
    },
    {
      "cell_type": "code",
      "metadata": {
        "colab": {
          "base_uri": "https://localhost:8080/"
        },
        "id": "tbrI2TYrS8_x",
        "outputId": "1d4f3e8c-ca32-4a38-a83e-888ee75e686b"
      },
      "source": [
        "#converting publishing date from object to datetime\n",
        "df['publishing_date'] = pd.to_datetime(df['publishing_date'], errors='coerce',utc=True)\n",
        "df = df.dropna(subset=['publishing_date'])\n",
        "\n",
        "df.info()"
      ],
      "execution_count": 47,
      "outputs": [
        {
          "output_type": "stream",
          "text": [
            "<class 'pandas.core.frame.DataFrame'>\n",
            "Int64Index: 4750 entries, 438 to 4803\n",
            "Data columns (total 9 columns):\n",
            " #   Column            Non-Null Count  Dtype              \n",
            "---  ------            --------------  -----              \n",
            " 0   event_id          4750 non-null   object             \n",
            " 1   article_title     4750 non-null   object             \n",
            " 2   article_link      4750 non-null   object             \n",
            " 3   article_content   4359 non-null   object             \n",
            " 4   publishing_date   4750 non-null   datetime64[ns, UTC]\n",
            " 5   article_image     4303 non-null   object             \n",
            " 6   article_keywords  4750 non-null   object             \n",
            " 7   category          4346 non-null   object             \n",
            " 8   country           4750 non-null   object             \n",
            "dtypes: datetime64[ns, UTC](1), object(8)\n",
            "memory usage: 371.1+ KB\n"
          ],
          "name": "stdout"
        }
      ]
    },
    {
      "cell_type": "code",
      "metadata": {
        "colab": {
          "base_uri": "https://localhost:8080/"
        },
        "id": "iskndj2T8_SE",
        "outputId": "74bca96a-cebb-42a4-b52c-9b0d25bdb302"
      },
      "source": [
        "df['category'].value_counts()"
      ],
      "execution_count": 48,
      "outputs": [
        {
          "output_type": "execute_result",
          "data": {
            "text/plain": [
              "flood             2236\n",
              "none              1642\n",
              "drought            324\n",
              "flood_drought      126\n",
              "tree                11\n",
              "climate_change       7\n",
              "Name: category, dtype: int64"
            ]
          },
          "metadata": {
            "tags": []
          },
          "execution_count": 48
        }
      ]
    },
    {
      "cell_type": "code",
      "metadata": {
        "colab": {
          "base_uri": "https://localhost:8080/",
          "height": 282
        },
        "id": "gllRlPE89Z-2",
        "outputId": "fabb23d6-1200-4056-ee44-fbea0ac4ad9d"
      },
      "source": [
        "df['category'].value_counts().plot(kind='barh')"
      ],
      "execution_count": 49,
      "outputs": [
        {
          "output_type": "execute_result",
          "data": {
            "text/plain": [
              "<matplotlib.axes._subplots.AxesSubplot at 0x7fcd05776510>"
            ]
          },
          "metadata": {
            "tags": []
          },
          "execution_count": 49
        },
        {
          "output_type": "display_data",
          "data": {
            "image/png": "[encoded data removed]",
            "text/plain": [
              "<Figure size 432x288 with 1 Axes>"
            ]
          },
          "metadata": {
            "tags": [],
            "needs_background": "light"
          }
        }
      ]
    },
    {
      "cell_type": "code",
      "metadata": {
        "id": "E_jz_gq0aabP"
      },
      "source": [
        "df['data source'] = 'newspaper'"
      ],
      "execution_count": 50,
      "outputs": []
    },
    {
      "cell_type": "code",
      "metadata": {
        "id": "alPr862GxUaX"
      },
      "source": [
        "df.to_csv('cleaned_merged_labbeled_newspaper_data.csv')"
      ],
      "execution_count": 51,
      "outputs": []
    }
  ]
}