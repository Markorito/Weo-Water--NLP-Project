{
  "nbformat": 4,
  "nbformat_minor": 0,
  "metadata": {
    "colab": {
      "name": "merge_labeled_newspaper_data.ipynb",
      "provenance": []
    },
    "kernelspec": {
      "name": "python3",
      "display_name": "Python 3"
    },
    "language_info": {
      "name": "python"
    }
  },
  "cells": [
    {
      "cell_type": "code",
      "metadata": {
        "id": "W6x8BVruSwxo"
      },
      "source": [
        "\"\"\" Warning : Don't forget to remove your github username and token after running this cell \"\"\"\n",
        " \n",
        "import pandas as pd\n",
        "import requests\n",
        "import io\n",
        " \n",
        "# Username of your GitHub account\n",
        " \n",
        "username = ''\n",
        " \n",
        "# Personal Access Token (PAO) from your GitHub account\n",
        " \n",
        "token = ''\n",
        " \n",
        "# Creates a re-usable session object with your creds in-built\n",
        " \n",
        "github_session = requests.Session()\n",
        "github_session.auth = (username, token)"
      ],
      "execution_count": 1,
      "outputs": []
    },
    {
      "cell_type": "code",
      "metadata": {
        "id": "726b04w3TBgk"
      },
      "source": [
        "def download_data (url,country):\n",
        "\n",
        "    url = url # Make sure the url is the raw version of the file on GitHub\n",
        "    download = github_session.get(url).content\n",
        "\n",
        "    # Reading the downloaded content and making it a pandas dataframe\n",
        "\n",
        "    df = pd.read_csv(io.StringIO(download.decode('utf-8','ignore')))\n",
        "    #df = pd.read_csv(io.StringIO(download.decode('cp1252')))\n",
        "    #df = pd.read_csv(io.StringIO(download.decode('Latin1')))\n",
        "\n",
        "\n",
        "    # Drop the Unnamed and ID column\n",
        "    df = df.drop(['Unnamed: 0','ID'], axis = 1)\n",
        "\n",
        "    #Add country column to dataframe\n",
        "    df['Country']= country\n",
        "\n",
        "    # return dataframe\n",
        "\n",
        "    return df"
      ],
      "execution_count": 7,
      "outputs": []
    },
    {
      "cell_type": "code",
      "metadata": {
        "colab": {
          "base_uri": "https://localhost:8080/"
        },
        "id": "oyl5sLKpmaxs",
        "outputId": "6517f62d-f354-45aa-d7e1-67e6726c3eed"
      },
      "source": [
        "url = \"https://raw.githubusercontent.com/OmdenaAI/WeoWater/main/task-4-scraping-newspapers/labelled_data/FF-2012-000189-IDN.csv\"\n",
        "FF_2012_000189_IDN = download_data(url,'Indonesia')\n",
        "print(FF_2012_000189_IDN.info())"
      ],
      "execution_count": 8,
      "outputs": [
        {
          "output_type": "stream",
          "text": [
            "<class 'pandas.core.frame.DataFrame'>\n",
            "RangeIndex: 83 entries, 0 to 82\n",
            "Data columns (total 10 columns):\n",
            " #   Column             Non-Null Count  Dtype \n",
            "---  ------             --------------  ----- \n",
            " 0   event_id           83 non-null     object\n",
            " 1   article_title      83 non-null     object\n",
            " 2   article_link       83 non-null     object\n",
            " 3   article_content    35 non-null     object\n",
            " 4   publishing_date    83 non-null     object\n",
            " 5   article_image      35 non-null     object\n",
            " 6   article_keywords   83 non-null     object\n",
            " 7   article_relevance  83 non-null     object\n",
            " 8   category           83 non-null     object\n",
            " 9   Country            83 non-null     object\n",
            "dtypes: object(10)\n",
            "memory usage: 6.6+ KB\n",
            "None\n"
          ],
          "name": "stdout"
        }
      ]
    },
    {
      "cell_type": "code",
      "metadata": {
        "colab": {
          "base_uri": "https://localhost:8080/"
        },
        "id": "gadtUkNDnVjZ",
        "outputId": "02ae36ae-51d6-447e-ae7c-52e067c74a4a"
      },
      "source": [
        "url = \"https://raw.githubusercontent.com/OmdenaAI/WeoWater/main/task-4-scraping-newspapers/labelled_data/FF-2016-000062-IDN.csv\"\n",
        "FF_2016_000062_IDN = download_data(url,'Indonesia')\n",
        "print(FF_2016_000062_IDN.info())"
      ],
      "execution_count": 9,
      "outputs": [
        {
          "output_type": "stream",
          "text": [
            "<class 'pandas.core.frame.DataFrame'>\n",
            "RangeIndex: 100 entries, 0 to 99\n",
            "Data columns (total 10 columns):\n",
            " #   Column             Non-Null Count  Dtype \n",
            "---  ------             --------------  ----- \n",
            " 0   event_id           100 non-null    object\n",
            " 1   article_title      100 non-null    object\n",
            " 2   article_link       100 non-null    object\n",
            " 3   article_content    62 non-null     object\n",
            " 4   publishing_date    100 non-null    object\n",
            " 5   article_image      64 non-null     object\n",
            " 6   article_keywords   100 non-null    object\n",
            " 7   article_relevance  100 non-null    object\n",
            " 8   category           100 non-null    object\n",
            " 9   Country            100 non-null    object\n",
            "dtypes: object(10)\n",
            "memory usage: 7.9+ KB\n",
            "None\n"
          ],
          "name": "stdout"
        }
      ]
    },
    {
      "cell_type": "code",
      "metadata": {
        "colab": {
          "base_uri": "https://localhost:8080/"
        },
        "id": "SUbTP2brn2HD",
        "outputId": "9f724e77-1836-460a-d46f-1981bd8e9a5d"
      },
      "source": [
        "url = \"https://raw.githubusercontent.com/OmdenaAI/WeoWater/main/task-4-scraping-newspapers/labelled_data/FL-2021-000025-AUS.csv\"\n",
        "FL_2021_000025_AUS = download_data(url,'Australia')\n",
        "print(FL_2021_000025_AUS.info())"
      ],
      "execution_count": 11,
      "outputs": [
        {
          "output_type": "stream",
          "text": [
            "<class 'pandas.core.frame.DataFrame'>\n",
            "RangeIndex: 55 entries, 0 to 54\n",
            "Data columns (total 10 columns):\n",
            " #   Column             Non-Null Count  Dtype  \n",
            "---  ------             --------------  -----  \n",
            " 0   event_id           55 non-null     object \n",
            " 1   article_title      55 non-null     object \n",
            " 2   article_link       55 non-null     object \n",
            " 3   article_content    50 non-null     object \n",
            " 4   publishing_date    55 non-null     object \n",
            " 5   article_image      52 non-null     object \n",
            " 6   article_keywords   55 non-null     object \n",
            " 7   article_relevance  0 non-null      float64\n",
            " 8   category           55 non-null     object \n",
            " 9   Country            55 non-null     object \n",
            "dtypes: float64(1), object(9)\n",
            "memory usage: 4.4+ KB\n",
            "None\n"
          ],
          "name": "stdout"
        }
      ]
    },
    {
      "cell_type": "code",
      "metadata": {
        "colab": {
          "base_uri": "https://localhost:8080/"
        },
        "id": "c3d4bYkQfKA2",
        "outputId": "2496dbf6-498b-4ef6-a46d-3f9781d12e5d"
      },
      "source": [
        "url = \"https://raw.githubusercontent.com/OmdenaAI/WeoWater/main/task-4-scraping-newspapers/labelled_data/11%20-%20DR-2021-000022-AFG.csv\"\n",
        "DR_2021_000022_AFG = download_data(url,'Afghanistan')\n",
        "print(DR_2021_000022_AFG.info())"
      ],
      "execution_count": 12,
      "outputs": [
        {
          "output_type": "stream",
          "text": [
            "<class 'pandas.core.frame.DataFrame'>\n",
            "RangeIndex: 100 entries, 0 to 99\n",
            "Data columns (total 11 columns):\n",
            " #   Column             Non-Null Count  Dtype  \n",
            "---  ------             --------------  -----  \n",
            " 0   event_id           100 non-null    object \n",
            " 1   article_title      100 non-null    object \n",
            " 2   article_link       100 non-null    object \n",
            " 3   article_content    99 non-null     object \n",
            " 4   publishing_date    100 non-null    object \n",
            " 5   article_image      96 non-null     object \n",
            " 6   article_keywords   100 non-null    object \n",
            " 7   article_relevance  100 non-null    object \n",
            " 8   Unnamed: 10        0 non-null      float64\n",
            " 9   category           99 non-null     object \n",
            " 10  Country            100 non-null    object \n",
            "dtypes: float64(1), object(10)\n",
            "memory usage: 8.7+ KB\n",
            "None\n"
          ],
          "name": "stdout"
        }
      ]
    },
    {
      "cell_type": "code",
      "metadata": {
        "colab": {
          "base_uri": "https://localhost:8080/"
        },
        "id": "Qne4wt0Bf2v9",
        "outputId": "6707004c-f612-4aeb-d8c5-bb2214320e46"
      },
      "source": [
        "url = \"https://raw.githubusercontent.com/OmdenaAI/WeoWater/main/task-4-scraping-newspapers/labelled_data/12%20-%20DR-2021-000054-SOM_labelled.csv\"\n",
        "DR_2021_000054_SOM = download_data(url,'Somalia')\n",
        "print(DR_2021_000054_SOM.info())"
      ],
      "execution_count": 15,
      "outputs": [
        {
          "output_type": "stream",
          "text": [
            "<class 'pandas.core.frame.DataFrame'>\n",
            "RangeIndex: 100 entries, 0 to 99\n",
            "Data columns (total 9 columns):\n",
            " #   Column            Non-Null Count  Dtype \n",
            "---  ------            --------------  ----- \n",
            " 0   event_id          100 non-null    object\n",
            " 1   article_title     100 non-null    object\n",
            " 2   article_link      100 non-null    object\n",
            " 3   article_content   95 non-null     object\n",
            " 4   publishing_date   100 non-null    object\n",
            " 5   article_image     92 non-null     object\n",
            " 6   article_keywords  100 non-null    object\n",
            " 7   category          100 non-null    object\n",
            " 8   Country           100 non-null    object\n",
            "dtypes: object(9)\n",
            "memory usage: 7.2+ KB\n",
            "None\n"
          ],
          "name": "stdout"
        }
      ]
    },
    {
      "cell_type": "code",
      "metadata": {
        "colab": {
          "base_uri": "https://localhost:8080/"
        },
        "id": "rqhOGosHgdhk",
        "outputId": "80de9834-7346-4b9b-bcac-a9d5df17b2cb"
      },
      "source": [
        "url = \"https://raw.githubusercontent.com/OmdenaAI/WeoWater/main/task-4-scraping-newspapers/labelled_data/3%20-%20DR-2014-000109-CHN.csv\"\n",
        "DR_2014_000109_CHN = download_data(url,'China')\n",
        "print(DR_2014_000109_CHN.info())"
      ],
      "execution_count": 18,
      "outputs": [
        {
          "output_type": "stream",
          "text": [
            "<class 'pandas.core.frame.DataFrame'>\n",
            "RangeIndex: 100 entries, 0 to 99\n",
            "Data columns (total 10 columns):\n",
            " #   Column             Non-Null Count  Dtype \n",
            "---  ------             --------------  ----- \n",
            " 0   event_id           100 non-null    object\n",
            " 1   article_title      100 non-null    object\n",
            " 2   article_link       100 non-null    object\n",
            " 3   article_content    88 non-null     object\n",
            " 4   publishing_date    100 non-null    object\n",
            " 5   article_image      85 non-null     object\n",
            " 6   article_keywords   100 non-null    object\n",
            " 7   article_relevance  100 non-null    object\n",
            " 8   Unnamed: 10        1 non-null      object\n",
            " 9   Country            100 non-null    object\n",
            "dtypes: object(10)\n",
            "memory usage: 7.9+ KB\n",
            "None\n"
          ],
          "name": "stdout"
        }
      ]
    },
    {
      "cell_type": "code",
      "metadata": {
        "colab": {
          "base_uri": "https://localhost:8080/"
        },
        "id": "cpdlT-oKgvNf",
        "outputId": "467b0156-a16e-4f4d-db72-d8341950e59d"
      },
      "source": [
        "url = \"https://raw.githubusercontent.com/OmdenaAI/WeoWater/main/task-4-scraping-newspapers/labelled_data/5%20-%20DR-2015-000134-SOM.csv\"\n",
        "DR_2015_000134_SOM = download_data(url,'Somalia')\n",
        "print(DR_2015_000134_SOM.info())"
      ],
      "execution_count": 19,
      "outputs": [
        {
          "output_type": "stream",
          "text": [
            "<class 'pandas.core.frame.DataFrame'>\n",
            "RangeIndex: 56 entries, 0 to 55\n",
            "Data columns (total 9 columns):\n",
            " #   Column             Non-Null Count  Dtype \n",
            "---  ------             --------------  ----- \n",
            " 0   event_id           56 non-null     object\n",
            " 1   article_title      56 non-null     object\n",
            " 2   article_link       56 non-null     object\n",
            " 3   article_content    46 non-null     object\n",
            " 4   publishing_date    56 non-null     object\n",
            " 5   article_image      46 non-null     object\n",
            " 6   article_keywords   56 non-null     object\n",
            " 7   article_relevance  56 non-null     object\n",
            " 8   Country            56 non-null     object\n",
            "dtypes: object(9)\n",
            "memory usage: 4.1+ KB\n",
            "None\n"
          ],
          "name": "stdout"
        }
      ]
    },
    {
      "cell_type": "code",
      "metadata": {
        "colab": {
          "base_uri": "https://localhost:8080/"
        },
        "id": "Qg5zwys6hkYm",
        "outputId": "62355408-58b3-4851-884d-95720d09ed00"
      },
      "source": [
        "url = \"https://raw.githubusercontent.com/OmdenaAI/WeoWater/main/task-4-scraping-newspapers/labelled_data/6%20-%20DR-2016-000139-LKA.csv\"\n",
        "DR_2016_000139_LKA = download_data(url,'Sri Lanka')\n",
        "print(DR_2016_000139_LKA.info())"
      ],
      "execution_count": 20,
      "outputs": [
        {
          "output_type": "stream",
          "text": [
            "<class 'pandas.core.frame.DataFrame'>\n",
            "RangeIndex: 100 entries, 0 to 99\n",
            "Data columns (total 9 columns):\n",
            " #   Column             Non-Null Count  Dtype \n",
            "---  ------             --------------  ----- \n",
            " 0   event_id           100 non-null    object\n",
            " 1   article_title      100 non-null    object\n",
            " 2   article_link       100 non-null    object\n",
            " 3   article_content    95 non-null     object\n",
            " 4   publishing_date    100 non-null    object\n",
            " 5   article_image      93 non-null     object\n",
            " 6   article_keywords   100 non-null    object\n",
            " 7   article_relevance  100 non-null    object\n",
            " 8   Country            100 non-null    object\n",
            "dtypes: object(9)\n",
            "memory usage: 7.2+ KB\n",
            "None\n"
          ],
          "name": "stdout"
        }
      ]
    },
    {
      "cell_type": "code",
      "metadata": {
        "colab": {
          "base_uri": "https://localhost:8080/"
        },
        "id": "TM4XcGoViI3L",
        "outputId": "d0ba55ee-a681-407c-e9c9-4c7e64620766"
      },
      "source": [
        "url = \"https://raw.githubusercontent.com/OmdenaAI/WeoWater/main/task-4-scraping-newspapers/labelled_data/DR-2019-000034-LKA.csv\"\n",
        "DR_2019_000034_LKA = download_data(url,'Sri Lanka')\n",
        "print(DR_2019_000034_LKA.info())"
      ],
      "execution_count": 23,
      "outputs": [
        {
          "output_type": "stream",
          "text": [
            "<class 'pandas.core.frame.DataFrame'>\n",
            "RangeIndex: 100 entries, 0 to 99\n",
            "Data columns (total 10 columns):\n",
            " #   Column             Non-Null Count  Dtype \n",
            "---  ------             --------------  ----- \n",
            " 0   event_id           100 non-null    object\n",
            " 1   article_title      100 non-null    object\n",
            " 2   article_link       100 non-null    object\n",
            " 3   article_content    87 non-null     object\n",
            " 4   publishing_date    100 non-null    object\n",
            " 5   article_image      83 non-null     object\n",
            " 6   article_keywords   100 non-null    object\n",
            " 7   article_relevance  100 non-null    object\n",
            " 8   category           100 non-null    object\n",
            " 9   Country            100 non-null    object\n",
            "dtypes: object(10)\n",
            "memory usage: 7.9+ KB\n",
            "None\n"
          ],
          "name": "stdout"
        }
      ]
    },
    {
      "cell_type": "code",
      "metadata": {
        "colab": {
          "base_uri": "https://localhost:8080/"
        },
        "id": "RlEyYfNKi3Be",
        "outputId": "605fda9e-db48-44c2-c748-04cc97c8c63e"
      },
      "source": [
        "url = \"https://raw.githubusercontent.com/OmdenaAI/WeoWater/main/task-4-scraping-newspapers/labelled_data/Drought_Ghana_2017_April.csv\"\n",
        "Drought_Ghana_2017_April = download_data(url,'Ghana')\n",
        "print(Drought_Ghana_2017_April.info())"
      ],
      "execution_count": 25,
      "outputs": [
        {
          "output_type": "stream",
          "text": [
            "<class 'pandas.core.frame.DataFrame'>\n",
            "RangeIndex: 100 entries, 0 to 99\n",
            "Data columns (total 10 columns):\n",
            " #   Column             Non-Null Count  Dtype \n",
            "---  ------             --------------  ----- \n",
            " 0   event_id           100 non-null    object\n",
            " 1   article_title      100 non-null    object\n",
            " 2   article_link       100 non-null    object\n",
            " 3   article_content    85 non-null     object\n",
            " 4   publishing_date    99 non-null     object\n",
            " 5   article_image      87 non-null     object\n",
            " 6   article_keywords   99 non-null     object\n",
            " 7   article_relevance  99 non-null     object\n",
            " 8   category           100 non-null    object\n",
            " 9   Country            100 non-null    object\n",
            "dtypes: object(10)\n",
            "memory usage: 7.9+ KB\n",
            "None\n"
          ],
          "name": "stdout"
        }
      ]
    },
    {
      "cell_type": "code",
      "metadata": {
        "colab": {
          "base_uri": "https://localhost:8080/"
        },
        "id": "AN0sYI_NjLcy",
        "outputId": "30149796-0bfe-4843-a501-5ac22619f944"
      },
      "source": [
        "url = \"https://raw.githubusercontent.com/OmdenaAI/WeoWater/main/task-4-scraping-newspapers/labelled_data/Drought_Ghana_2019_Aug.csv\"\n",
        "Drought_Ghana_2019_Aug = download_data(url,'Ghana')\n",
        "print(Drought_Ghana_2019_Aug.info())"
      ],
      "execution_count": 26,
      "outputs": [
        {
          "output_type": "stream",
          "text": [
            "<class 'pandas.core.frame.DataFrame'>\n",
            "RangeIndex: 100 entries, 0 to 99\n",
            "Data columns (total 10 columns):\n",
            " #   Column             Non-Null Count  Dtype \n",
            "---  ------             --------------  ----- \n",
            " 0   event_id           100 non-null    object\n",
            " 1   article_title      100 non-null    object\n",
            " 2   article_link       100 non-null    object\n",
            " 3   article_content    93 non-null     object\n",
            " 4   publishing_date    100 non-null    object\n",
            " 5   article_image      95 non-null     object\n",
            " 6   article_keywords   100 non-null    object\n",
            " 7   article_relevance  100 non-null    object\n",
            " 8   category           100 non-null    object\n",
            " 9   Country            100 non-null    object\n",
            "dtypes: object(10)\n",
            "memory usage: 7.9+ KB\n",
            "None\n"
          ],
          "name": "stdout"
        }
      ]
    },
    {
      "cell_type": "code",
      "metadata": {
        "colab": {
          "base_uri": "https://localhost:8080/"
        },
        "id": "y5pB658Rj9Hv",
        "outputId": "c7ee2cbd-93c9-4498-e65e-3886cb938549"
      },
      "source": [
        "url = \"https://raw.githubusercontent.com/OmdenaAI/WeoWater/main/task-4-scraping-newspapers/labelled_data/Drought_Ghana_2019_July.csv\"\n",
        "Drought_Ghana_2019_July = download_data(url,'Ghana')\n",
        "print(Drought_Ghana_2019_July.info())"
      ],
      "execution_count": 27,
      "outputs": [
        {
          "output_type": "stream",
          "text": [
            "<class 'pandas.core.frame.DataFrame'>\n",
            "RangeIndex: 100 entries, 0 to 99\n",
            "Data columns (total 10 columns):\n",
            " #   Column             Non-Null Count  Dtype \n",
            "---  ------             --------------  ----- \n",
            " 0   event_id           100 non-null    object\n",
            " 1   article_title      100 non-null    object\n",
            " 2   article_link       100 non-null    object\n",
            " 3   article_content    83 non-null     object\n",
            " 4   publishing_date    100 non-null    object\n",
            " 5   article_image      90 non-null     object\n",
            " 6   article_keywords   100 non-null    object\n",
            " 7   article_relevance  100 non-null    object\n",
            " 8   category           100 non-null    object\n",
            " 9   Country            100 non-null    object\n",
            "dtypes: object(10)\n",
            "memory usage: 7.9+ KB\n",
            "None\n"
          ],
          "name": "stdout"
        }
      ]
    },
    {
      "cell_type": "code",
      "metadata": {
        "colab": {
          "base_uri": "https://localhost:8080/"
        },
        "id": "YzxGtLiRraDW",
        "outputId": "e763e6ee-f7d8-4550-d3f2-4f67c15e6835"
      },
      "source": [
        "url = \"https://raw.githubusercontent.com/OmdenaAI/WeoWater/main/task-4-scraping-newspapers/labelled_data/DR-2011-000121-CHN.csv\"\n",
        "DR_2011_000121_CHN = download_data(url,'China')\n",
        "print(DR_2011_000121_CHN.info())"
      ],
      "execution_count": 28,
      "outputs": [
        {
          "output_type": "stream",
          "text": [
            "<class 'pandas.core.frame.DataFrame'>\n",
            "RangeIndex: 91 entries, 0 to 90\n",
            "Data columns (total 10 columns):\n",
            " #   Column             Non-Null Count  Dtype \n",
            "---  ------             --------------  ----- \n",
            " 0   event_id           91 non-null     object\n",
            " 1   article_title      91 non-null     object\n",
            " 2   article_link       91 non-null     object\n",
            " 3   article_content    84 non-null     object\n",
            " 4   publishing_date    91 non-null     object\n",
            " 5   article_image      80 non-null     object\n",
            " 6   article_keywords   91 non-null     object\n",
            " 7   article_relevance  91 non-null     object\n",
            " 8   category           91 non-null     object\n",
            " 9   Country            91 non-null     object\n",
            "dtypes: object(10)\n",
            "memory usage: 7.2+ KB\n",
            "None\n"
          ],
          "name": "stdout"
        }
      ]
    },
    {
      "cell_type": "code",
      "metadata": {
        "colab": {
          "base_uri": "https://localhost:8080/"
        },
        "id": "0XFZku4vr8mJ",
        "outputId": "d4cc088f-1758-4b27-866b-c07379802222"
      },
      "source": [
        "url = \"https://raw.githubusercontent.com/OmdenaAI/WeoWater/main/task-4-scraping-newspapers/labelled_data/DR-2012-000177-LKA.csv\"\n",
        "DR_2012_000177_LKA = download_data(url,'Sri Lanka')\n",
        "print(DR_2012_000177_LKA.info())"
      ],
      "execution_count": 29,
      "outputs": [
        {
          "output_type": "stream",
          "text": [
            "<class 'pandas.core.frame.DataFrame'>\n",
            "RangeIndex: 100 entries, 0 to 99\n",
            "Data columns (total 10 columns):\n",
            " #   Column             Non-Null Count  Dtype \n",
            "---  ------             --------------  ----- \n",
            " 0   event_id           100 non-null    object\n",
            " 1   article_title      100 non-null    object\n",
            " 2   article_link       100 non-null    object\n",
            " 3   article_content    85 non-null     object\n",
            " 4   publishing_date    100 non-null    object\n",
            " 5   article_image      86 non-null     object\n",
            " 6   article_keywords   100 non-null    object\n",
            " 7   article_relevance  100 non-null    object\n",
            " 8   category           100 non-null    object\n",
            " 9   Country            100 non-null    object\n",
            "dtypes: object(10)\n",
            "memory usage: 7.9+ KB\n",
            "None\n"
          ],
          "name": "stdout"
        }
      ]
    },
    {
      "cell_type": "code",
      "metadata": {
        "colab": {
          "base_uri": "https://localhost:8080/"
        },
        "id": "g09zb8ris880",
        "outputId": "a8845a9f-2713-4677-9faa-a5cb0100aa8b"
      },
      "source": [
        "url = \"https://raw.githubusercontent.com/OmdenaAI/WeoWater/main/task-4-scraping-newspapers/labelled_data/DR-2016-000142-MOZ.csv\"\n",
        "DR_2016_000142_MOZ = download_data(url,'Mozambique')\n",
        "print(DR_2016_000142_MOZ.info())"
      ],
      "execution_count": 30,
      "outputs": [
        {
          "output_type": "stream",
          "text": [
            "<class 'pandas.core.frame.DataFrame'>\n",
            "RangeIndex: 100 entries, 0 to 99\n",
            "Data columns (total 11 columns):\n",
            " #   Column             Non-Null Count  Dtype  \n",
            "---  ------             --------------  -----  \n",
            " 0   event_id           100 non-null    object \n",
            " 1   article_title      100 non-null    object \n",
            " 2   article_link       100 non-null    object \n",
            " 3   article_content    98 non-null     object \n",
            " 4   publishing_date    100 non-null    object \n",
            " 5   article_image      96 non-null     object \n",
            " 6   article_keywords   100 non-null    object \n",
            " 7   article_relevance  100 non-null    object \n",
            " 8   Unnamed: 10        0 non-null      float64\n",
            " 9   category           100 non-null    object \n",
            " 10  Country            100 non-null    object \n",
            "dtypes: float64(1), object(10)\n",
            "memory usage: 8.7+ KB\n",
            "None\n"
          ],
          "name": "stdout"
        }
      ]
    },
    {
      "cell_type": "code",
      "metadata": {
        "colab": {
          "base_uri": "https://localhost:8080/"
        },
        "id": "_13Oklv1U03y",
        "outputId": "d80fe9dd-8948-4112-80bf-2593e0c3b898"
      },
      "source": [
        "url = \"https://raw.githubusercontent.com/OmdenaAI/WeoWater/main/task-4-scraping-newspapers/labelled_data/FL-2016-000114-EGY.csv\"\n",
        "FL_2016_000114_EGY= download_data(url,'Egypt')\n",
        "print(FL_2016_000114_EGY.info())"
      ],
      "execution_count": 31,
      "outputs": [
        {
          "output_type": "stream",
          "text": [
            "<class 'pandas.core.frame.DataFrame'>\n",
            "RangeIndex: 100 entries, 0 to 99\n",
            "Data columns (total 10 columns):\n",
            " #   Column             Non-Null Count  Dtype \n",
            "---  ------             --------------  ----- \n",
            " 0   event_id           100 non-null    object\n",
            " 1   article_title      100 non-null    object\n",
            " 2   article_link       100 non-null    object\n",
            " 3   article_content    97 non-null     object\n",
            " 4   publishing_date    100 non-null    object\n",
            " 5   article_image      98 non-null     object\n",
            " 6   article_keywords   100 non-null    object\n",
            " 7   article_relevance  100 non-null    object\n",
            " 8   category           100 non-null    object\n",
            " 9   Country            100 non-null    object\n",
            "dtypes: object(10)\n",
            "memory usage: 7.9+ KB\n",
            "None\n"
          ],
          "name": "stdout"
        }
      ]
    },
    {
      "cell_type": "code",
      "metadata": {
        "colab": {
          "base_uri": "https://localhost:8080/"
        },
        "id": "is_fHCFbVp9a",
        "outputId": "4108c979-8bf1-42b5-e864-6706c237055b"
      },
      "source": [
        "url = \"https://raw.githubusercontent.com/OmdenaAI/WeoWater/main/task-4-scraping-newspapers/labelled_data/FL-2017-000067-BRA.csv\"\n",
        "FL_2017_000067_BRA= download_data(url,'Brazil')\n",
        "print(FL_2017_000067_BRA.info())"
      ],
      "execution_count": 32,
      "outputs": [
        {
          "output_type": "stream",
          "text": [
            "<class 'pandas.core.frame.DataFrame'>\n",
            "RangeIndex: 33 entries, 0 to 32\n",
            "Data columns (total 11 columns):\n",
            " #   Column             Non-Null Count  Dtype \n",
            "---  ------             --------------  ----- \n",
            " 0   event_id           33 non-null     object\n",
            " 1   article_title      33 non-null     object\n",
            " 2   article_link       33 non-null     object\n",
            " 3   article_content    32 non-null     object\n",
            " 4   publishing_date    33 non-null     object\n",
            " 5   article_image      33 non-null     object\n",
            " 6   article_keywords   33 non-null     object\n",
            " 7   article_relevance  33 non-null     object\n",
            " 8   category           33 non-null     object\n",
            " 9   Unnamed: 11        1 non-null      object\n",
            " 10  Country            33 non-null     object\n",
            "dtypes: object(11)\n",
            "memory usage: 3.0+ KB\n",
            "None\n"
          ],
          "name": "stdout"
        }
      ]
    },
    {
      "cell_type": "code",
      "metadata": {
        "colab": {
          "base_uri": "https://localhost:8080/"
        },
        "id": "pFbKDD2IW-T4",
        "outputId": "7b0175a6-474e-4bc6-d1c9-9f3322fbdc7e"
      },
      "source": [
        "url = \"https://raw.githubusercontent.com/OmdenaAI/WeoWater/main/task-4-scraping-newspapers/labelled_data/FL-2018-000134-IND.csv\"\n",
        "FL_2018_000134_IND= download_data(url,'India')\n",
        "print(FL_2018_000134_IND.info())"
      ],
      "execution_count": 33,
      "outputs": [
        {
          "output_type": "stream",
          "text": [
            "<class 'pandas.core.frame.DataFrame'>\n",
            "RangeIndex: 39 entries, 0 to 38\n",
            "Data columns (total 10 columns):\n",
            " #   Column             Non-Null Count  Dtype  \n",
            "---  ------             --------------  -----  \n",
            " 0   event_id           39 non-null     object \n",
            " 1   article_title      39 non-null     object \n",
            " 2   article_link       39 non-null     object \n",
            " 3   article_content    38 non-null     object \n",
            " 4   publishing_date    39 non-null     object \n",
            " 5   article_image      38 non-null     object \n",
            " 6   article_keywords   39 non-null     object \n",
            " 7   article_relevance  0 non-null      float64\n",
            " 8   category           39 non-null     object \n",
            " 9   Country            39 non-null     object \n",
            "dtypes: float64(1), object(9)\n",
            "memory usage: 3.2+ KB\n",
            "None\n"
          ],
          "name": "stdout"
        }
      ]
    },
    {
      "cell_type": "code",
      "metadata": {
        "colab": {
          "base_uri": "https://localhost:8080/"
        },
        "id": "L1olP4Y1X0Bo",
        "outputId": "8000818f-cd15-4516-c547-193d09a0be48"
      },
      "source": [
        "url = \"https://raw.githubusercontent.com/OmdenaAI/WeoWater/main/task-4-scraping-newspapers/labelled_data/FL-2019-000022-IRN.csv\"\n",
        "FL_2019_000022_IRN= download_data(url,'Iran')\n",
        "print(FL_2019_000022_IRN.info())"
      ],
      "execution_count": 34,
      "outputs": [
        {
          "output_type": "stream",
          "text": [
            "<class 'pandas.core.frame.DataFrame'>\n",
            "RangeIndex: 79 entries, 0 to 78\n",
            "Data columns (total 11 columns):\n",
            " #   Column             Non-Null Count  Dtype  \n",
            "---  ------             --------------  -----  \n",
            " 0   event_id           79 non-null     object \n",
            " 1   article_title      79 non-null     object \n",
            " 2   article_link       79 non-null     object \n",
            " 3   article_content    79 non-null     object \n",
            " 4   publishing_date    34 non-null     object \n",
            " 5   article_image      79 non-null     object \n",
            " 6   article_keywords   79 non-null     object \n",
            " 7   Unnamed: 9         0 non-null      float64\n",
            " 8   article_relevance  0 non-null      float64\n",
            " 9   category           79 non-null     object \n",
            " 10  Country            79 non-null     object \n",
            "dtypes: float64(2), object(9)\n",
            "memory usage: 6.9+ KB\n",
            "None\n"
          ],
          "name": "stdout"
        }
      ]
    },
    {
      "cell_type": "code",
      "metadata": {
        "colab": {
          "base_uri": "https://localhost:8080/"
        },
        "id": "DG4maiTNYSZx",
        "outputId": "b4267da2-3398-4bf5-93cb-e6bff1f7dcf5"
      },
      "source": [
        "url = \"https://raw.githubusercontent.com/OmdenaAI/WeoWater/main/task-4-scraping-newspapers/labelled_data/FL-2019-000084-IND%20-%20FL-2019-000084-IND.csv\"\n",
        "FL_2019_000084_IND= download_data(url,'India')\n",
        "print(FL_2019_000084_IND.info())"
      ],
      "execution_count": 35,
      "outputs": [
        {
          "output_type": "stream",
          "text": [
            "<class 'pandas.core.frame.DataFrame'>\n",
            "RangeIndex: 100 entries, 0 to 99\n",
            "Data columns (total 10 columns):\n",
            " #   Column             Non-Null Count  Dtype  \n",
            "---  ------             --------------  -----  \n",
            " 0   event_id           100 non-null    object \n",
            " 1   article_title      100 non-null    object \n",
            " 2   article_link       100 non-null    object \n",
            " 3   article_content    98 non-null     object \n",
            " 4   publishing_date    100 non-null    object \n",
            " 5   article_image      97 non-null     object \n",
            " 6   article_keywords   100 non-null    object \n",
            " 7   article_relevance  0 non-null      float64\n",
            " 8   category           98 non-null     object \n",
            " 9   Country            100 non-null    object \n",
            "dtypes: float64(1), object(9)\n",
            "memory usage: 7.9+ KB\n",
            "None\n"
          ],
          "name": "stdout"
        }
      ]
    },
    {
      "cell_type": "code",
      "metadata": {
        "colab": {
          "base_uri": "https://localhost:8080/"
        },
        "id": "CO3UPV4YZn6a",
        "outputId": "cdf16068-e225-47fb-be4c-931ff9b3ed1b"
      },
      "source": [
        "url = \"https://raw.githubusercontent.com/OmdenaAI/WeoWater/main/task-4-scraping-newspapers/labelled_data/FL-2019-000179-CAN%20(2).csv\"\n",
        "FL_2019_000179_CAN= download_data(url,'Canada')\n",
        "print(FL_2019_000179_CAN.info())"
      ],
      "execution_count": 36,
      "outputs": [
        {
          "output_type": "stream",
          "text": [
            "<class 'pandas.core.frame.DataFrame'>\n",
            "RangeIndex: 100 entries, 0 to 99\n",
            "Data columns (total 10 columns):\n",
            " #   Column             Non-Null Count  Dtype \n",
            "---  ------             --------------  ----- \n",
            " 0   event_id           100 non-null    object\n",
            " 1   article_title      100 non-null    object\n",
            " 2   article_link       100 non-null    object\n",
            " 3   article_content    97 non-null     object\n",
            " 4   publishing_date    100 non-null    object\n",
            " 5   article_image      98 non-null     object\n",
            " 6   article_keywords   100 non-null    object\n",
            " 7   article_relevance  100 non-null    object\n",
            " 8   Category           100 non-null    object\n",
            " 9   Country            100 non-null    object\n",
            "dtypes: object(10)\n",
            "memory usage: 7.9+ KB\n",
            "None\n"
          ],
          "name": "stdout"
        }
      ]
    },
    {
      "cell_type": "code",
      "metadata": {
        "colab": {
          "base_uri": "https://localhost:8080/"
        },
        "id": "3Ej1w1gCasyP",
        "outputId": "b3ddc55c-617c-4773-84a6-d27240122528"
      },
      "source": [
        "url = \"https://raw.githubusercontent.com/OmdenaAI/WeoWater/main/task-4-scraping-newspapers/labelled_data/FL-2020-000038-EGY_labelled.csv\"\n",
        "FL_2020_000038_EGY= download_data(url,'Egypt')\n",
        "print(FL_2020_000038_EGY.info())"
      ],
      "execution_count": 50,
      "outputs": [
        {
          "output_type": "stream",
          "text": [
            "<class 'pandas.core.frame.DataFrame'>\n",
            "RangeIndex: 100 entries, 0 to 99\n",
            "Data columns (total 9 columns):\n",
            " #   Column            Non-Null Count  Dtype \n",
            "---  ------            --------------  ----- \n",
            " 0   event_id          100 non-null    object\n",
            " 1   article_title     100 non-null    object\n",
            " 2   article_link      100 non-null    object\n",
            " 3   article_content   99 non-null     object\n",
            " 4   publishing_date   100 non-null    object\n",
            " 5   article_image     95 non-null     object\n",
            " 6   article_keywords  100 non-null    object\n",
            " 7   category          100 non-null    object\n",
            " 8   Country           100 non-null    object\n",
            "dtypes: object(9)\n",
            "memory usage: 7.2+ KB\n",
            "None\n"
          ],
          "name": "stdout"
        }
      ]
    },
    {
      "cell_type": "code",
      "metadata": {
        "colab": {
          "base_uri": "https://localhost:8080/"
        },
        "id": "aehGAo8-cOVP",
        "outputId": "c9bd71aa-4d15-4fde-c72d-af40c70031bd"
      },
      "source": [
        "url = \"https://raw.githubusercontent.com/OmdenaAI/WeoWater/main/task-4-scraping-newspapers/labelled_data/FL-2020-000164-IND.csv\"\n",
        "FL_2020_000164_IND= download_data(url,'India')\n",
        "print(FL_2020_000164_IND.info())"
      ],
      "execution_count": 38,
      "outputs": [
        {
          "output_type": "stream",
          "text": [
            "<class 'pandas.core.frame.DataFrame'>\n",
            "RangeIndex: 68 entries, 0 to 67\n",
            "Data columns (total 10 columns):\n",
            " #   Column             Non-Null Count  Dtype \n",
            "---  ------             --------------  ----- \n",
            " 0   event_id           68 non-null     object\n",
            " 1   article_title      68 non-null     object\n",
            " 2   article_link       68 non-null     object\n",
            " 3   article_content    65 non-null     object\n",
            " 4   publishing_date    68 non-null     object\n",
            " 5   article_image      65 non-null     object\n",
            " 6   article_keywords   68 non-null     object\n",
            " 7   article_relevance  68 non-null     object\n",
            " 8   category           68 non-null     object\n",
            " 9   Country            68 non-null     object\n",
            "dtypes: object(10)\n",
            "memory usage: 5.4+ KB\n",
            "None\n"
          ],
          "name": "stdout"
        }
      ]
    },
    {
      "cell_type": "code",
      "metadata": {
        "colab": {
          "base_uri": "https://localhost:8080/"
        },
        "id": "jSnvUsUoc0FR",
        "outputId": "180924b9-7293-4afe-fbe1-6a4c75fd2316"
      },
      "source": [
        "url = \"https://raw.githubusercontent.com/OmdenaAI/WeoWater/main/task-4-scraping-newspapers/labelled_data/FL-2021-000021-IND.csv\"\n",
        "FL_2021_000021_IND= download_data(url,'India')\n",
        "print(FL_2021_000021_IND.info()) "
      ],
      "execution_count": 39,
      "outputs": [
        {
          "output_type": "stream",
          "text": [
            "<class 'pandas.core.frame.DataFrame'>\n",
            "RangeIndex: 100 entries, 0 to 99\n",
            "Data columns (total 11 columns):\n",
            " #   Column             Non-Null Count  Dtype \n",
            "---  ------             --------------  ----- \n",
            " 0   event_id           100 non-null    object\n",
            " 1   article_title      100 non-null    object\n",
            " 2   article_link       100 non-null    object\n",
            " 3   article_content    94 non-null     object\n",
            " 4   publishing_date    100 non-null    object\n",
            " 5   article_image      96 non-null     object\n",
            " 6   article_keywords   100 non-null    object\n",
            " 7   article_relevance  100 non-null    object\n",
            " 8   Category           3 non-null      object\n",
            " 9   category           100 non-null    object\n",
            " 10  Country            100 non-null    object\n",
            "dtypes: object(11)\n",
            "memory usage: 8.7+ KB\n",
            "None\n"
          ],
          "name": "stdout"
        }
      ]
    },
    {
      "cell_type": "code",
      "metadata": {
        "colab": {
          "base_uri": "https://localhost:8080/"
        },
        "id": "i3zgRt85dRgB",
        "outputId": "0df26047-c400-4382-9f6e-37baaeb6c623"
      },
      "source": [
        "url = \"https://raw.githubusercontent.com/OmdenaAI/WeoWater/main/task-4-scraping-newspapers/labelled_data/FL-2021-000030-IDN_labelled.csv\"\n",
        "FL_2021_000030_IDN= download_data(url,'India')\n",
        "print(FL_2021_000030_IDN.info()) "
      ],
      "execution_count": 40,
      "outputs": [
        {
          "output_type": "stream",
          "text": [
            "<class 'pandas.core.frame.DataFrame'>\n",
            "RangeIndex: 100 entries, 0 to 99\n",
            "Data columns (total 9 columns):\n",
            " #   Column            Non-Null Count  Dtype \n",
            "---  ------            --------------  ----- \n",
            " 0   event_id          100 non-null    object\n",
            " 1   article_title     100 non-null    object\n",
            " 2   article_link      100 non-null    object\n",
            " 3   article_content   81 non-null     object\n",
            " 4   publishing_date   100 non-null    object\n",
            " 5   article_image     85 non-null     object\n",
            " 6   article_keywords  100 non-null    object\n",
            " 7   category          100 non-null    object\n",
            " 8   Country           100 non-null    object\n",
            "dtypes: object(9)\n",
            "memory usage: 7.2+ KB\n",
            "None\n"
          ],
          "name": "stdout"
        }
      ]
    },
    {
      "cell_type": "code",
      "metadata": {
        "colab": {
          "base_uri": "https://localhost:8080/"
        },
        "id": "oC3P-wkZds_L",
        "outputId": "77ee5c5a-4475-405b-f35f-13aa11690b7e"
      },
      "source": [
        "url = \"https://raw.githubusercontent.com/OmdenaAI/WeoWater/main/task-4-scraping-newspapers/labelled_data/FL-2021-000038-KEN.csv\"\n",
        "FL_2021_000038_KEN= download_data(url,'Kenya')\n",
        "print(FL_2021_000038_KEN.info()) "
      ],
      "execution_count": 41,
      "outputs": [
        {
          "output_type": "stream",
          "text": [
            "<class 'pandas.core.frame.DataFrame'>\n",
            "RangeIndex: 100 entries, 0 to 99\n",
            "Data columns (total 10 columns):\n",
            " #   Column             Non-Null Count  Dtype \n",
            "---  ------             --------------  ----- \n",
            " 0   event_id           100 non-null    object\n",
            " 1   article_title      100 non-null    object\n",
            " 2   article_link       100 non-null    object\n",
            " 3   article_content    67 non-null     object\n",
            " 4   publishing_date    100 non-null    object\n",
            " 5   article_image      67 non-null     object\n",
            " 6   article_keywords   100 non-null    object\n",
            " 7   article_relevance  100 non-null    object\n",
            " 8   category           100 non-null    object\n",
            " 9   Country            100 non-null    object\n",
            "dtypes: object(10)\n",
            "memory usage: 7.9+ KB\n",
            "None\n"
          ],
          "name": "stdout"
        }
      ]
    },
    {
      "cell_type": "code",
      "metadata": {
        "colab": {
          "base_uri": "https://localhost:8080/"
        },
        "id": "aZvrfYLIeEZF",
        "outputId": "64efbefb-1465-4f13-da1b-e5a2866b60a3"
      },
      "source": [
        "url = \"https://raw.githubusercontent.com/OmdenaAI/WeoWater/main/task-4-scraping-newspapers/labelled_data/FL-Brazil-EN.csv\"\n",
        "FL_Brazil_EN= download_data(url,'Kenya')\n",
        "print(FL_Brazil_EN.info()) "
      ],
      "execution_count": 42,
      "outputs": [
        {
          "output_type": "stream",
          "text": [
            "<class 'pandas.core.frame.DataFrame'>\n",
            "RangeIndex: 200 entries, 0 to 199\n",
            "Data columns (total 16 columns):\n",
            " #   Column             Non-Null Count  Dtype  \n",
            "---  ------             --------------  -----  \n",
            " 0   event_id           200 non-null    object \n",
            " 1   article_title      200 non-null    object \n",
            " 2   article_link       200 non-null    object \n",
            " 3   article_content    194 non-null    object \n",
            " 4   publishing_date    200 non-null    object \n",
            " 5   article_image      189 non-null    object \n",
            " 6   article_keywords   200 non-null    object \n",
            " 7   article_relevance  200 non-null    object \n",
            " 8   Category           101 non-null    object \n",
            " 9   Unnamed: 11        0 non-null      float64\n",
            " 10  Unnamed: 12        0 non-null      float64\n",
            " 11  Unnamed: 13        0 non-null      float64\n",
            " 12  Unnamed: 14        0 non-null      float64\n",
            " 13  Unnamed: 15        0 non-null      float64\n",
            " 14  Unnamed: 16        0 non-null      float64\n",
            " 15  Country            200 non-null    object \n",
            "dtypes: float64(6), object(10)\n",
            "memory usage: 25.1+ KB\n",
            "None\n"
          ],
          "name": "stdout"
        }
      ]
    },
    {
      "cell_type": "code",
      "metadata": {
        "colab": {
          "base_uri": "https://localhost:8080/"
        },
        "id": "4naEcg6ke8gQ",
        "outputId": "3b03c404-add8-485d-89a5-d5356cfd7810"
      },
      "source": [
        "url = \"https://raw.githubusercontent.com/OmdenaAI/WeoWater/main/task-4-scraping-newspapers/labelled_data/data_flood_Kenya_Africa.csv\"\n",
        "data_flood_Kenya_Africa= download_data(url,'Kenya')\n",
        "print(data_flood_Kenya_Africa.info()) "
      ],
      "execution_count": 43,
      "outputs": [
        {
          "output_type": "stream",
          "text": [
            "<class 'pandas.core.frame.DataFrame'>\n",
            "RangeIndex: 100 entries, 0 to 99\n",
            "Data columns (total 10 columns):\n",
            " #   Column             Non-Null Count  Dtype \n",
            "---  ------             --------------  ----- \n",
            " 0   event_id           100 non-null    object\n",
            " 1   article_title      100 non-null    object\n",
            " 2   article_link       100 non-null    object\n",
            " 3   article_content    94 non-null     object\n",
            " 4   publishing_date    100 non-null    object\n",
            " 5   article_image      92 non-null     object\n",
            " 6   article_keywords   100 non-null    object\n",
            " 7   article_relevance  100 non-null    object\n",
            " 8   category           100 non-null    object\n",
            " 9   Country            100 non-null    object\n",
            "dtypes: object(10)\n",
            "memory usage: 7.9+ KB\n",
            "None\n"
          ],
          "name": "stdout"
        }
      ]
    },
    {
      "cell_type": "code",
      "metadata": {
        "colab": {
          "base_uri": "https://localhost:8080/"
        },
        "id": "yF02-kTEoJmB",
        "outputId": "cdcc2279-5480-41f9-f76c-589a2ae40e93"
      },
      "source": [
        "url = \"https://raw.githubusercontent.com/OmdenaAI/WeoWater/main/task-4-scraping-newspapers/labelled_data/FL-Nigeria-EN.csv\"\n",
        "FL_Nigeria_EN= download_data(url,'Nigeria')\n",
        "print(FL_Nigeria_EN.info()) "
      ],
      "execution_count": 44,
      "outputs": [
        {
          "output_type": "stream",
          "text": [
            "<class 'pandas.core.frame.DataFrame'>\n",
            "RangeIndex: 600 entries, 0 to 599\n",
            "Data columns (total 10 columns):\n",
            " #   Column             Non-Null Count  Dtype \n",
            "---  ------             --------------  ----- \n",
            " 0   event_id           600 non-null    object\n",
            " 1   article_title      600 non-null    object\n",
            " 2   article_link       600 non-null    object\n",
            " 3   article_content    576 non-null    object\n",
            " 4   publishing_date    600 non-null    object\n",
            " 5   article_image      539 non-null    object\n",
            " 6   article_keywords   600 non-null    object\n",
            " 7   article_relevance  600 non-null    object\n",
            " 8   category           600 non-null    object\n",
            " 9   Country            600 non-null    object\n",
            "dtypes: object(10)\n",
            "memory usage: 47.0+ KB\n",
            "None\n"
          ],
          "name": "stdout"
        }
      ]
    },
    {
      "cell_type": "code",
      "metadata": {
        "colab": {
          "base_uri": "https://localhost:8080/"
        },
        "id": "5dOIPpKvpaC5",
        "outputId": "d8802c7f-367b-41ae-d143-6b7c17cb9bfb"
      },
      "source": [
        "url = \"https://raw.githubusercontent.com/OmdenaAI/WeoWater/main/task-4-scraping-newspapers/labelled_data/FL-Pakistan-EN.csv\"\n",
        "FL_Pakistan_EN= download_data(url,'Pakistan')\n",
        "print(FL_Pakistan_EN.info()) "
      ],
      "execution_count": 45,
      "outputs": [
        {
          "output_type": "stream",
          "text": [
            "<class 'pandas.core.frame.DataFrame'>\n",
            "RangeIndex: 400 entries, 0 to 399\n",
            "Data columns (total 10 columns):\n",
            " #   Column             Non-Null Count  Dtype \n",
            "---  ------             --------------  ----- \n",
            " 0   event_id           400 non-null    object\n",
            " 1   article_title      400 non-null    object\n",
            " 2   article_link       400 non-null    object\n",
            " 3   article_content    384 non-null    object\n",
            " 4   publishing_date    400 non-null    object\n",
            " 5   article_image      369 non-null    object\n",
            " 6   article_keywords   400 non-null    object\n",
            " 7   article_relevance  400 non-null    object\n",
            " 8   category           400 non-null    object\n",
            " 9   Country            400 non-null    object\n",
            "dtypes: object(10)\n",
            "memory usage: 31.4+ KB\n",
            "None\n"
          ],
          "name": "stdout"
        }
      ]
    },
    {
      "cell_type": "code",
      "metadata": {
        "colab": {
          "base_uri": "https://localhost:8080/"
        },
        "id": "3od6ixSrp53A",
        "outputId": "71b5863f-f84a-415b-b553-47d4a44da382"
      },
      "source": [
        "url = \"https://raw.githubusercontent.com/OmdenaAI/WeoWater/main/task-4-scraping-newspapers/labelled_data/FL-Uganda-EN.csv\"\n",
        "FL_Uganda_EN= download_data(url,'Uganda')\n",
        "print(FL_Uganda_EN.info()) "
      ],
      "execution_count": 46,
      "outputs": [
        {
          "output_type": "stream",
          "text": [
            "<class 'pandas.core.frame.DataFrame'>\n",
            "RangeIndex: 400 entries, 0 to 399\n",
            "Data columns (total 10 columns):\n",
            " #   Column             Non-Null Count  Dtype \n",
            "---  ------             --------------  ----- \n",
            " 0   event_id           400 non-null    object\n",
            " 1   article_title      400 non-null    object\n",
            " 2   article_link       400 non-null    object\n",
            " 3   article_content    363 non-null    object\n",
            " 4   publishing_date    400 non-null    object\n",
            " 5   article_image      360 non-null    object\n",
            " 6   article_keywords   400 non-null    object\n",
            " 7   article_relevance  400 non-null    object\n",
            " 8   Category           112 non-null    object\n",
            " 9   Country            400 non-null    object\n",
            "dtypes: object(10)\n",
            "memory usage: 31.4+ KB\n",
            "None\n"
          ],
          "name": "stdout"
        }
      ]
    },
    {
      "cell_type": "code",
      "metadata": {
        "colab": {
          "base_uri": "https://localhost:8080/"
        },
        "id": "ZR6yMz8zq3D2",
        "outputId": "6dfa65dd-7cb8-4fcb-c1df-92769a2332b7"
      },
      "source": [
        "url = \"https://raw.githubusercontent.com/OmdenaAI/WeoWater/main/task-4-scraping-newspapers/labelled_data/FL-Vietnam-EN.csv\"\n",
        "FL_Vietnam_EN= download_data(url,'Vietnam')\n",
        "print(FL_Vietnam_EN.info()) "
      ],
      "execution_count": 47,
      "outputs": [
        {
          "output_type": "stream",
          "text": [
            "<class 'pandas.core.frame.DataFrame'>\n",
            "RangeIndex: 800 entries, 0 to 799\n",
            "Data columns (total 10 columns):\n",
            " #   Column             Non-Null Count  Dtype \n",
            "---  ------             --------------  ----- \n",
            " 0   event_id           800 non-null    object\n",
            " 1   article_title      800 non-null    object\n",
            " 2   article_link       800 non-null    object\n",
            " 3   article_content    768 non-null    object\n",
            " 4   publishing_date    800 non-null    object\n",
            " 5   article_image      774 non-null    object\n",
            " 6   article_keywords   800 non-null    object\n",
            " 7   article_relevance  800 non-null    object\n",
            " 8   category           793 non-null    object\n",
            " 9   Country            800 non-null    object\n",
            "dtypes: object(10)\n",
            "memory usage: 62.6+ KB\n",
            "None\n"
          ],
          "name": "stdout"
        }
      ]
    },
    {
      "cell_type": "code",
      "metadata": {
        "colab": {
          "base_uri": "https://localhost:8080/"
        },
        "id": "eKPmLTyzJwPQ",
        "outputId": "2f832d75-e057-461c-83e3-a091d54b8d28"
      },
      "source": [
        "url = \"https://raw.githubusercontent.com/OmdenaAI/WeoWater/main/task-4-scraping-newspapers/labelled_data/FF-2012-000189-IDN.csv\"\n",
        "FF_2012_000189_IDN= download_data(url,'India')\n",
        "print(FF_2012_000189_IDN.info()) "
      ],
      "execution_count": 48,
      "outputs": [
        {
          "output_type": "stream",
          "text": [
            "<class 'pandas.core.frame.DataFrame'>\n",
            "RangeIndex: 83 entries, 0 to 82\n",
            "Data columns (total 10 columns):\n",
            " #   Column             Non-Null Count  Dtype \n",
            "---  ------             --------------  ----- \n",
            " 0   event_id           83 non-null     object\n",
            " 1   article_title      83 non-null     object\n",
            " 2   article_link       83 non-null     object\n",
            " 3   article_content    35 non-null     object\n",
            " 4   publishing_date    83 non-null     object\n",
            " 5   article_image      35 non-null     object\n",
            " 6   article_keywords   83 non-null     object\n",
            " 7   article_relevance  83 non-null     object\n",
            " 8   category           83 non-null     object\n",
            " 9   Country            83 non-null     object\n",
            "dtypes: object(10)\n",
            "memory usage: 6.6+ KB\n",
            "None\n"
          ],
          "name": "stdout"
        }
      ]
    },
    {
      "cell_type": "code",
      "metadata": {
        "colab": {
          "base_uri": "https://localhost:8080/"
        },
        "id": "bh8zVtA_KVQE",
        "outputId": "24913a07-0f87-4422-aebd-e3721e079856"
      },
      "source": [
        "url = \"https://raw.githubusercontent.com/OmdenaAI/WeoWater/main/task-4-scraping-newspapers/labelled_data/FF-2016-000062-IDN.csv\"\n",
        "FF_2016_000062_IDN = download_data(url,'India')\n",
        "print(FF_2016_000062_IDN.info()) "
      ],
      "execution_count": 49,
      "outputs": [
        {
          "output_type": "stream",
          "text": [
            "<class 'pandas.core.frame.DataFrame'>\n",
            "RangeIndex: 100 entries, 0 to 99\n",
            "Data columns (total 10 columns):\n",
            " #   Column             Non-Null Count  Dtype \n",
            "---  ------             --------------  ----- \n",
            " 0   event_id           100 non-null    object\n",
            " 1   article_title      100 non-null    object\n",
            " 2   article_link       100 non-null    object\n",
            " 3   article_content    62 non-null     object\n",
            " 4   publishing_date    100 non-null    object\n",
            " 5   article_image      64 non-null     object\n",
            " 6   article_keywords   100 non-null    object\n",
            " 7   article_relevance  100 non-null    object\n",
            " 8   category           100 non-null    object\n",
            " 9   Country            100 non-null    object\n",
            "dtypes: object(10)\n",
            "memory usage: 7.9+ KB\n",
            "None\n"
          ],
          "name": "stdout"
        }
      ]
    },
    {
      "cell_type": "code",
      "metadata": {
        "colab": {
          "base_uri": "https://localhost:8080/"
        },
        "id": "WO1E4wrYrirP",
        "outputId": "f7ed9736-ab56-4420-bbdd-3dfdc93d4def"
      },
      "source": [
        "#concatenating\n",
        "df =pd.concat([ FF_2012_000189_IDN,FF_2016_000062_IDN,FL_2021_000025_AUS,\n",
        "               DR_2021_000022_AFG,DR_2021_000054_SOM,DR_2014_000109_CHN,DR_2015_000134_SOM,DR_2016_000139_LKA,\n",
        "               DR_2019_000034_LKA,Drought_Ghana_2017_April,Drought_Ghana_2019_Aug,Drought_Ghana_2019_July,\n",
        "               DR_2011_000121_CHN,DR_2012_000177_LKA,DR_2016_000142_MOZ,FL_2016_000114_EGY,FL_2017_000067_BRA,\n",
        "               FL_2018_000134_IND,FL_2019_000022_IRN,FL_2019_000084_IND,FL_2019_000179_CAN,FL_2020_000038_EGY,\n",
        "               FL_2020_000164_IND,FL_2021_000021_IND,FL_2021_000030_IDN,FL_2021_000038_KEN,FL_Brazil_EN,FL_Nigeria_EN,\n",
        "               FL_Pakistan_EN,FL_Uganda_EN,FL_Vietnam_EN,data_flood_Kenya_Africa,FF_2012_000189_IDN,FF_2016_000062_IDN],ignore_index = True)\n",
        "df.shape"
      ],
      "execution_count": 51,
      "outputs": [
        {
          "output_type": "execute_result",
          "data": {
            "text/plain": [
              "(4987, 19)"
            ]
          },
          "metadata": {
            "tags": []
          },
          "execution_count": 51
        }
      ]
    },
    {
      "cell_type": "code",
      "metadata": {
        "colab": {
          "base_uri": "https://localhost:8080/"
        },
        "id": "Ov0EPIi9t6ah",
        "outputId": "781c2865-a091-40aa-f2ac-bfa8c72cab4c"
      },
      "source": [
        "df.info()"
      ],
      "execution_count": 52,
      "outputs": [
        {
          "output_type": "stream",
          "text": [
            "<class 'pandas.core.frame.DataFrame'>\n",
            "RangeIndex: 4987 entries, 0 to 4986\n",
            "Data columns (total 19 columns):\n",
            " #   Column             Non-Null Count  Dtype  \n",
            "---  ------             --------------  -----  \n",
            " 0   event_id           4987 non-null   object \n",
            " 1   article_title      4987 non-null   object \n",
            " 2   article_link       4987 non-null   object \n",
            " 3   article_content    4508 non-null   object \n",
            " 4   publishing_date    4941 non-null   object \n",
            " 5   article_image      4453 non-null   object \n",
            " 6   article_keywords   4986 non-null   object \n",
            " 7   article_relevance  4413 non-null   object \n",
            " 8   category           4021 non-null   object \n",
            " 9   Country            4987 non-null   object \n",
            " 10  Unnamed: 10        1 non-null      object \n",
            " 11  Unnamed: 11        1 non-null      object \n",
            " 12  Unnamed: 9         0 non-null      float64\n",
            " 13  Category           316 non-null    object \n",
            " 14  Unnamed: 12        0 non-null      float64\n",
            " 15  Unnamed: 13        0 non-null      float64\n",
            " 16  Unnamed: 14        0 non-null      float64\n",
            " 17  Unnamed: 15        0 non-null      float64\n",
            " 18  Unnamed: 16        0 non-null      float64\n",
            "dtypes: float64(6), object(13)\n",
            "memory usage: 740.4+ KB\n"
          ],
          "name": "stdout"
        }
      ]
    },
    {
      "cell_type": "code",
      "metadata": {
        "id": "a0i-RzRQuwfc"
      },
      "source": [
        "df.to_csv('merged_labeled_newspaper_data.csv')"
      ],
      "execution_count": 53,
      "outputs": []
    },
    {
      "cell_type": "code",
      "metadata": {
        "colab": {
          "base_uri": "https://localhost:8080/",
          "height": 479
        },
        "id": "KtH1A1ElwsKR",
        "outputId": "e5b4a1b4-52cc-4212-f905-e95677c5112f"
      },
      "source": [
        "df.head()"
      ],
      "execution_count": 54,
      "outputs": [
        {
          "output_type": "execute_result",
          "data": {
            "text/html": [
              "<div>\n",
              "<style scoped>\n",
              "    .dataframe tbody tr th:only-of-type {\n",
              "        vertical-align: middle;\n",
              "    }\n",
              "\n",
              "    .dataframe tbody tr th {\n",
              "        vertical-align: top;\n",
              "    }\n",
              "\n",
              "    .dataframe thead th {\n",
              "        text-align: right;\n",
              "    }\n",
              "</style>\n",
              "<table border=\"1\" class=\"dataframe\">\n",
              "  <thead>\n",
              "    <tr style=\"text-align: right;\">\n",
              "      <th></th>\n",
              "      <th>event_id</th>\n",
              "      <th>article_title</th>\n",
              "      <th>article_link</th>\n",
              "      <th>article_content</th>\n",
              "      <th>publishing_date</th>\n",
              "      <th>article_image</th>\n",
              "      <th>article_keywords</th>\n",
              "      <th>article_relevance</th>\n",
              "      <th>category</th>\n",
              "      <th>Country</th>\n",
              "      <th>Unnamed: 10</th>\n",
              "      <th>Unnamed: 11</th>\n",
              "      <th>Unnamed: 9</th>\n",
              "      <th>Category</th>\n",
              "      <th>Unnamed: 12</th>\n",
              "      <th>Unnamed: 13</th>\n",
              "      <th>Unnamed: 14</th>\n",
              "      <th>Unnamed: 15</th>\n",
              "      <th>Unnamed: 16</th>\n",
              "    </tr>\n",
              "  </thead>\n",
              "  <tbody>\n",
              "    <tr>\n",
              "      <th>0</th>\n",
              "      <td>FF-2012-000189-IDN</td>\n",
              "      <td>Protecting 9/11 Artifacts From Floods - WSJ - ...</td>\n",
              "      <td>https://www.wsj.com/articles/SB100014241278873...</td>\n",
              "      <td>NaN</td>\n",
              "      <td>Sun, 11 Nov 2012 08:00:00 GMT</td>\n",
              "      <td>NaN</td>\n",
              "      <td>[]</td>\n",
              "      <td></td>\n",
              "      <td>none</td>\n",
              "      <td>India</td>\n",
              "      <td>NaN</td>\n",
              "      <td>NaN</td>\n",
              "      <td>NaN</td>\n",
              "      <td>NaN</td>\n",
              "      <td>NaN</td>\n",
              "      <td>NaN</td>\n",
              "      <td>NaN</td>\n",
              "      <td>NaN</td>\n",
              "      <td>NaN</td>\n",
              "    </tr>\n",
              "    <tr>\n",
              "      <th>1</th>\n",
              "      <td>FF-2012-000189-IDN</td>\n",
              "      <td>Over 80% of PH economy prone to natural disast...</td>\n",
              "      <td>https://www.rappler.com/business/more-than-80-...</td>\n",
              "      <td>MANILA, Philippines - About 85.2% of the Phili...</td>\n",
              "      <td>Tue, 13 Nov 2012 08:00:00 GMT</td>\n",
              "      <td>https://assets2.rappler.com/images/Floods-Mani...</td>\n",
              "      <td>['ph', 'republic', 'projects', 'prone', 'econo...</td>\n",
              "      <td></td>\n",
              "      <td>flood</td>\n",
              "      <td>India</td>\n",
              "      <td>NaN</td>\n",
              "      <td>NaN</td>\n",
              "      <td>NaN</td>\n",
              "      <td>NaN</td>\n",
              "      <td>NaN</td>\n",
              "      <td>NaN</td>\n",
              "      <td>NaN</td>\n",
              "      <td>NaN</td>\n",
              "      <td>NaN</td>\n",
              "    </tr>\n",
              "    <tr>\n",
              "      <th>2</th>\n",
              "      <td>FF-2012-000189-IDN</td>\n",
              "      <td>Up the river &amp; paddling hard: Climate adaptati...</td>\n",
              "      <td>https://forestsnews.cifor.org/11459/up-the-riv...</td>\n",
              "      <td>LUKOLELA, Democratic Republic of Congo (14 Nov...</td>\n",
              "      <td>Thu, 15 Nov 2012 08:00:00 GMT</td>\n",
              "      <td>https://forestsnews.cifor.org/wp-content/uploa...</td>\n",
              "      <td>['climate', 'change', 'congo', 'paddling', 'fo...</td>\n",
              "      <td></td>\n",
              "      <td>tree</td>\n",
              "      <td>India</td>\n",
              "      <td>NaN</td>\n",
              "      <td>NaN</td>\n",
              "      <td>NaN</td>\n",
              "      <td>NaN</td>\n",
              "      <td>NaN</td>\n",
              "      <td>NaN</td>\n",
              "      <td>NaN</td>\n",
              "      <td>NaN</td>\n",
              "      <td>NaN</td>\n",
              "    </tr>\n",
              "    <tr>\n",
              "      <th>3</th>\n",
              "      <td>FF-2012-000189-IDN</td>\n",
              "      <td>Electric Car Maker Fisker Lost More Than 300 C...</td>\n",
              "      <td>https://www.wsj.com/articles/BL-VCDB-12514</td>\n",
              "      <td>NaN</td>\n",
              "      <td>Tue, 06 Nov 2012 08:00:00 GMT</td>\n",
              "      <td>NaN</td>\n",
              "      <td>[]</td>\n",
              "      <td></td>\n",
              "      <td>none</td>\n",
              "      <td>India</td>\n",
              "      <td>NaN</td>\n",
              "      <td>NaN</td>\n",
              "      <td>NaN</td>\n",
              "      <td>NaN</td>\n",
              "      <td>NaN</td>\n",
              "      <td>NaN</td>\n",
              "      <td>NaN</td>\n",
              "      <td>NaN</td>\n",
              "      <td>NaN</td>\n",
              "    </tr>\n",
              "    <tr>\n",
              "      <th>4</th>\n",
              "      <td>FF-2012-000189-IDN</td>\n",
              "      <td>Thai prime minister insists she's not her exil...</td>\n",
              "      <td>https://www.washingtonpost.com/world/asia_paci...</td>\n",
              "      <td>Indonesian President Susilo Bambang Yudhoyono ...</td>\n",
              "      <td>Thu, 08 Nov 2012 08:00:00 GMT</td>\n",
              "      <td>https://www.washingtonpost.com/rf/image_1484w/...</td>\n",
              "      <td>['thailands', 'shes', 'insists', 'prime', 'bro...</td>\n",
              "      <td></td>\n",
              "      <td>none</td>\n",
              "      <td>India</td>\n",
              "      <td>NaN</td>\n",
              "      <td>NaN</td>\n",
              "      <td>NaN</td>\n",
              "      <td>NaN</td>\n",
              "      <td>NaN</td>\n",
              "      <td>NaN</td>\n",
              "      <td>NaN</td>\n",
              "      <td>NaN</td>\n",
              "      <td>NaN</td>\n",
              "    </tr>\n",
              "  </tbody>\n",
              "</table>\n",
              "</div>"
            ],
            "text/plain": [
              "             event_id  ... Unnamed: 16\n",
              "0  FF-2012-000189-IDN  ...         NaN\n",
              "1  FF-2012-000189-IDN  ...         NaN\n",
              "2  FF-2012-000189-IDN  ...         NaN\n",
              "3  FF-2012-000189-IDN  ...         NaN\n",
              "4  FF-2012-000189-IDN  ...         NaN\n",
              "\n",
              "[5 rows x 19 columns]"
            ]
          },
          "metadata": {
            "tags": []
          },
          "execution_count": 54
        }
      ]
    }
  ]
}