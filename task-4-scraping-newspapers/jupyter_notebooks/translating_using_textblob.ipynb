{
 "cells": [
  {
   "cell_type": "code",
   "execution_count": 12,
   "metadata": {},
   "outputs": [],
   "source": [
    "import pandas as pd\n",
    "from textblob import TextBlob"
   ]
  },
  {
   "cell_type": "code",
   "execution_count": 2,
   "metadata": {},
   "outputs": [],
   "source": [
    "df = pd.read_csv('FL-2017-000067-BRA.csv')"
   ]
  },
  {
   "cell_type": "code",
   "execution_count": 3,
   "metadata": {},
   "outputs": [
    {
     "data": {
      "text/html": [
       "<div>\n",
       "<style scoped>\n",
       "    .dataframe tbody tr th:only-of-type {\n",
       "        vertical-align: middle;\n",
       "    }\n",
       "\n",
       "    .dataframe tbody tr th {\n",
       "        vertical-align: top;\n",
       "    }\n",
       "\n",
       "    .dataframe thead th {\n",
       "        text-align: right;\n",
       "    }\n",
       "</style>\n",
       "<table border=\"1\" class=\"dataframe\">\n",
       "  <thead>\n",
       "    <tr style=\"text-align: right;\">\n",
       "      <th></th>\n",
       "      <th>Unnamed: 0</th>\n",
       "      <th>ID</th>\n",
       "      <th>event_id</th>\n",
       "      <th>article_title</th>\n",
       "      <th>article_link</th>\n",
       "      <th>article_content</th>\n",
       "      <th>publishing_date</th>\n",
       "      <th>article_image</th>\n",
       "      <th>article_keywords</th>\n",
       "      <th>article_relevance</th>\n",
       "    </tr>\n",
       "  </thead>\n",
       "  <tbody>\n",
       "    <tr>\n",
       "      <th>0</th>\n",
       "      <td>0</td>\n",
       "      <td>0</td>\n",
       "      <td>FL-2017-000067-BRA</td>\n",
       "      <td>Sem previsão do nível do rio baixar, inundação...</td>\n",
       "      <td>https://g1.globo.com/sao-paulo/itapetininga-re...</td>\n",
       "      <td>O bairro Cachoeirinha, que fica na zona rural ...</td>\n",
       "      <td>Mon, 12 Jun 2017 07:00:00 GMT</td>\n",
       "      <td>https://s2.glbimg.com/756a2Nk3BfWS380Js01u64J7...</td>\n",
       "      <td>['boituva', 'que', 'rio', 'bairro', 'nível', '...</td>\n",
       "      <td></td>\n",
       "    </tr>\n",
       "    <tr>\n",
       "      <th>1</th>\n",
       "      <td>1</td>\n",
       "      <td>1</td>\n",
       "      <td>FL-2017-000067-BRA</td>\n",
       "      <td>Bairro rural fica alagado após abertura de com...</td>\n",
       "      <td>https://g1.globo.com/sao-paulo/itapetininga-re...</td>\n",
       "      <td>O bairro Americana, em Tatuí (SP), também fico...</td>\n",
       "      <td>Wed, 14 Jun 2017 07:00:00 GMT</td>\n",
       "      <td>https://s2.glbimg.com/m6TvC4afevdHkfpTkb5MdneV...</td>\n",
       "      <td>['tatuí', 'fica', 'são', 'foto', 'que', 'repro...</td>\n",
       "      <td></td>\n",
       "    </tr>\n",
       "    <tr>\n",
       "      <th>2</th>\n",
       "      <td>2</td>\n",
       "      <td>2</td>\n",
       "      <td>FL-2017-000067-BRA</td>\n",
       "      <td>500 barragens ameaçam sufocar o Amazonas - EL ...</td>\n",
       "      <td>https://brasil.elpais.com/brasil/2017/06/14/ec...</td>\n",
       "      <td>A barragem de Belo Monte, no rio Xingu, será é...</td>\n",
       "      <td>Thu, 15 Jun 2017 07:00:00 GMT</td>\n",
       "      <td>https://imagens.brasil.elpais.com/resizer/7cpq...</td>\n",
       "      <td>['amazonas', 'da', 'que', 'rio', 'rios', 'barr...</td>\n",
       "      <td></td>\n",
       "    </tr>\n",
       "    <tr>\n",
       "      <th>3</th>\n",
       "      <td>3</td>\n",
       "      <td>3</td>\n",
       "      <td>FL-2017-000067-BRA</td>\n",
       "      <td>Argentina: Chaco e Formosa também passam por d...</td>\n",
       "      <td>https://www.noticiasagricolas.com.br/noticias/...</td>\n",
       "      <td>Além de compartilhar o nordeste argentino, os ...</td>\n",
       "      <td>Mon, 12 Jun 2017 07:00:00 GMT</td>\n",
       "      <td>https://cdn.noticiasagricolas.com.br/dbimagens...</td>\n",
       "      <td>['formosa', 'inundações', 'dramas', 'passam', ...</td>\n",
       "      <td></td>\n",
       "    </tr>\n",
       "    <tr>\n",
       "      <th>4</th>\n",
       "      <td>4</td>\n",
       "      <td>4</td>\n",
       "      <td>FL-2017-000067-BRA</td>\n",
       "      <td>Chuva alaga ruas em Olinda e homem é obrigado ...</td>\n",
       "      <td>https://g1.globo.com/pernambuco/noticia/chuva-...</td>\n",
       "      <td>As chuvas que caíram no Grande Recife, desde a...</td>\n",
       "      <td>Thu, 15 Jun 2017 07:00:00 GMT</td>\n",
       "      <td>https://s2.glbimg.com/wXyRK067PJWZlu1lTGWB5rCp...</td>\n",
       "      <td>['se', 'homem', 'que', 'obrigado', 'uma', 'é',...</td>\n",
       "      <td></td>\n",
       "    </tr>\n",
       "  </tbody>\n",
       "</table>\n",
       "</div>"
      ],
      "text/plain": [
       "   Unnamed: 0  ID            event_id  \\\n",
       "0           0   0  FL-2017-000067-BRA   \n",
       "1           1   1  FL-2017-000067-BRA   \n",
       "2           2   2  FL-2017-000067-BRA   \n",
       "3           3   3  FL-2017-000067-BRA   \n",
       "4           4   4  FL-2017-000067-BRA   \n",
       "\n",
       "                                       article_title  \\\n",
       "0  Sem previsão do nível do rio baixar, inundação...   \n",
       "1  Bairro rural fica alagado após abertura de com...   \n",
       "2  500 barragens ameaçam sufocar o Amazonas - EL ...   \n",
       "3  Argentina: Chaco e Formosa também passam por d...   \n",
       "4  Chuva alaga ruas em Olinda e homem é obrigado ...   \n",
       "\n",
       "                                        article_link  \\\n",
       "0  https://g1.globo.com/sao-paulo/itapetininga-re...   \n",
       "1  https://g1.globo.com/sao-paulo/itapetininga-re...   \n",
       "2  https://brasil.elpais.com/brasil/2017/06/14/ec...   \n",
       "3  https://www.noticiasagricolas.com.br/noticias/...   \n",
       "4  https://g1.globo.com/pernambuco/noticia/chuva-...   \n",
       "\n",
       "                                     article_content  \\\n",
       "0  O bairro Cachoeirinha, que fica na zona rural ...   \n",
       "1  O bairro Americana, em Tatuí (SP), também fico...   \n",
       "2  A barragem de Belo Monte, no rio Xingu, será é...   \n",
       "3  Além de compartilhar o nordeste argentino, os ...   \n",
       "4  As chuvas que caíram no Grande Recife, desde a...   \n",
       "\n",
       "                 publishing_date  \\\n",
       "0  Mon, 12 Jun 2017 07:00:00 GMT   \n",
       "1  Wed, 14 Jun 2017 07:00:00 GMT   \n",
       "2  Thu, 15 Jun 2017 07:00:00 GMT   \n",
       "3  Mon, 12 Jun 2017 07:00:00 GMT   \n",
       "4  Thu, 15 Jun 2017 07:00:00 GMT   \n",
       "\n",
       "                                       article_image  \\\n",
       "0  https://s2.glbimg.com/756a2Nk3BfWS380Js01u64J7...   \n",
       "1  https://s2.glbimg.com/m6TvC4afevdHkfpTkb5MdneV...   \n",
       "2  https://imagens.brasil.elpais.com/resizer/7cpq...   \n",
       "3  https://cdn.noticiasagricolas.com.br/dbimagens...   \n",
       "4  https://s2.glbimg.com/wXyRK067PJWZlu1lTGWB5rCp...   \n",
       "\n",
       "                                    article_keywords article_relevance  \n",
       "0  ['boituva', 'que', 'rio', 'bairro', 'nível', '...                    \n",
       "1  ['tatuí', 'fica', 'são', 'foto', 'que', 'repro...                    \n",
       "2  ['amazonas', 'da', 'que', 'rio', 'rios', 'barr...                    \n",
       "3  ['formosa', 'inundações', 'dramas', 'passam', ...                    \n",
       "4  ['se', 'homem', 'que', 'obrigado', 'uma', 'é',...                    "
      ]
     },
     "execution_count": 3,
     "metadata": {},
     "output_type": "execute_result"
    }
   ],
   "source": [
    "df.head()"
   ]
  },
  {
   "cell_type": "code",
   "execution_count": 22,
   "metadata": {},
   "outputs": [
    {
     "data": {
      "text/plain": [
       "'O bairro Americana, em Tatuí (SP), também ficou alagado nesta quarta-feira (14) após a abertura de quatro comportas de uma usina no último sábado (10). A abertura aconteceu devido às fortes chuvas que fizeram o nível do Rio Sorocaba subir. Além dele, os bairros Cachoeirinha e Terras de São Francisco permanecem inundados desde o final de semana.\\n\\nDe acordo com a Defesa Civil, a inundação acontece devido às nascentes do Rio Sarapuí e Sorocaba, já que o volume de água é controlado em uma represa que fica no bairro Americana. Com a abertura das comportas, os bairros Cachoerinha e Terras de São Francsco, em Boituva, e os bairros Americana e loteamente Gaioto, em Tatuí, ficam alagados.\\n\\nA explicação, segundo a Defesa Civil, é porque o bairro Cachoeirinha fica antes da vazão da barragem e, quando ela está cheia no montante - que é a parte de cima- acontece a inundação. Já no lado do jusante, ou seja, depois da vazão da barragem, ficam os bairros de Americana e loteamento Gaioto, em Tatuí, e o bairro Terras de São Francisco, em Boituva.\\n\\nA Defesa Civil afirma que, com a ajuda de voluntários, faz o monitoramento diário dos rios, principalmente em épocas de chuva. Segundo o coordenador da Defesa Civil João Batista Alves Floriano, os moradores são avisados com antecedência sobre o nível do rio.\\n\\n“Com as chuvas, o nível do rio sobe e, para não danificar a estrutura da barragem, é necessário abrir algumas comportas. Mas antes, todos os moradores ribeirinhos são avisados com antecedência para que consigam desocupar seus imóveis e evitar prejuízos”, explica João.\\n\\nO aposentado Ramiro Vieira de Camargo conta que, por mais que essa situação é comum todo ano, sempre é assustador. “Todo ano levamos um susto, mas a maior enchente que eu já vi foi uma que aconteceu em junho de 1983, onde a água chegou até a estrada”, lembra.\\n\\n2 de 7 Segundo Defesa Civil, os moradores são avisados com antecedência sobre a abertura das comportas — Foto: Reprodução/TV TEM Segundo Defesa Civil, os moradores são avisados com antecedência sobre a abertura das comportas — Foto: Reprodução/TV TEM\\n\\n3 de 7 Com a abertura das comportas, o bairro Americana em Tatuí ficou alagado — Foto: Reprodução/TV TEM Com a abertura das comportas, o bairro Americana em Tatuí ficou alagado — Foto: Reprodução/TV TEM\\n\\nAlagamentos em Boituva\\n\\n4 de 7 Bairro rural de Boituva fica inundado após nível do Rio Sorocaba subir com chuva — Foto: Reprodução/TV TEM Bairro rural de Boituva fica inundado após nível do Rio Sorocaba subir com chuva — Foto: Reprodução/TV TEM\\n\\nO bairro Cachoeirinha, que fica na zona rural de Boituva, continua inundado desde sábado (10) após o nível do Rio Sorocaba subir quase dois metros com a forte chuva que atingiu Sorocaba na terça-feira (6). A enchente atingiu mais de 50 chácaras.\\n\\nDe acordo com o coordenador da Defesa Civil Ivanilson Ferreira Barbosa, o bairro Terras de São Francisco também foi atingido e ainda não tem previsão para de quando a água vai começar a baixar.\\n\\nCasas inundadas\\n\\n5 de 7 Moradores precisaram sair dos imóveis após inundação em bairro rural de Boituva — Foto: Reprodução/TV TEM Moradores precisaram sair dos imóveis após inundação em bairro rural de Boituva — Foto: Reprodução/TV TEM\\n\\nA maioria das pessoas usa os imóveis apenas de fim de semana. Porém, cinco famílias que moram no bairro precisaram ser levadas para casas de parentes, afirma a Defesa Civil.\\n\\n“A maioria perdeu móveis e eletrônicos, e já foi para casa de parentes. Ainda tem umas 30 pessoas que as casas não foram totalmente atingidas. Mas já solicitamos um quite de ajuda humanitária para quem perdeu todos os bens. Já as outras casas que ficaram alagadas, os proprietários não moram nelas e as usam apenas nos finais de semana”, afirma Carlos Eduardo.\\n\\nPara o morador Wagner Kleye, toda vez que inunda causa prejuízos para todos e, apesar da maioria saber que pode acontecer, é sempre assustador.\\n\\n“Foi muito crítico. Começa a encher de repente. Embora a gente sabe que acontece isso, sempre assusta. Então, a gente tira as coisas e coloca em barco. Tem mais ou menos 30 pessoas que residem aqui e a gente procura ajudar. É complicado quando acontece isso, por mais que sabemos que pode acontecer. Geralmente a gente perde muita coisa, como colchão, mantimento”, conta.\\n\\n6 de 7 Chácaras em Boituva ficaram alagadas neste sábado (10) — Foto: Reprodução/TV TEM Chácaras em Boituva ficaram alagadas neste sábado (10) — Foto: Reprodução/TV TEM'"
      ]
     },
     "execution_count": 22,
     "metadata": {},
     "output_type": "execute_result"
    }
   ],
   "source": [
    "port_article = df.loc[1,'article_content']\n",
    "port_article"
   ]
  },
  {
   "cell_type": "code",
   "execution_count": 19,
   "metadata": {},
   "outputs": [],
   "source": [
    "# trying textblob for translation\n",
    "tb_article = TextBlob(port_article)"
   ]
  },
  {
   "cell_type": "code",
   "execution_count": 20,
   "metadata": {},
   "outputs": [
    {
     "data": {
      "text/plain": [
       "'pt'"
      ]
     },
     "execution_count": 20,
     "metadata": {},
     "output_type": "execute_result"
    }
   ],
   "source": [
    "tb_article.detect_language()"
   ]
  },
  {
   "cell_type": "code",
   "execution_count": 21,
   "metadata": {},
   "outputs": [
    {
     "data": {
      "text/plain": [
       "TextBlob(\"The Americana neighborhood, in Tatuí (SP), was also flooded this Wednesday (14) after the opening of four gates of a plant last Saturday (10). The opening happened due to the heavy rains that caused the Sorocaba River level to rise. In addition to it, the Cachoeirinha and Terras de São Francisco neighborhoods have been flooded since the weekend.\n",
       "\n",
       "According to the Civil Defense, the flooding occurs due to the springs of the Sarapuí and Sorocaba River, since the volume of water is controlled in a dam located in the Americana neighborhood. With the opening of the floodgates, the neighborhoods Cachoerinha and Terras de São Francsco, in Boituva, and the districts Americana and lot Gaioto, in Tatuí, are flooded.\n",
       "\n",
       "The explanation, according to the Civil Defense, is because the Cachoeirinha neighborhood is before the flow of the dam and, when it is full in the amount - which is the top part - the flood occurs. On the downstream side, that is, after the flow of the dam, there are the districts of Americana and Gaioto subdivision, in Tatuí, and the neighborhood Terras de São Francisco, in Boituva.\n",
       "\n",
       "The Civil Defense states that, with the help of volunteers, it daily monitors the rivers, especially during rainy seasons. According to Civil Defense coordinator João Batista Alves Floriano, residents are given advance notice of the river level.\n",
       "\n",
       "“With the rains, the level of the river rises and, in order not to damage the structure of the dam, it is necessary to open some locks. But first, all riverside residents are notified in advance so that they can vacate their properties and avoid losses ”, explains João.\n",
       "\n",
       "Retired Ramiro Vieira de Camargo says that, however much this situation is common every year, it is always scary. \"Every year we get scared, but the biggest flood I have ever seen was one that happened in June 1983, where the water reached the road,\" he recalls.\n",
       "\n",
       "2 of 7 According to Civil Defense, residents are warned in advance about the opening of the floodgates - Photo: Reproduction / TV TEM According to Civil Defense, residents are warned in advance about the opening of the floodgates - Photo: Reproduction / TV TEM\n",
       "\n",
       "3 of 7 With the opening of the floodgates, the Americana neighborhood in Tatuí was flooded - Photo: Reproduction / TV TEM With the opening of the floodgates, the Americana neighborhood in Tatuí was flooded - Photo: Reproduction / TV TEM\n",
       "\n",
       "Floods in Boituva\n",
       "\n",
       "4 of 7 Boituva rural neighborhood is flooded after the Sorocaba River level rises with rain - Photo: Reproduction / TV TEM Boituva rural neighborhood is flooded after the Sorocaba River level rises with rain - Photo: Reproduction / TV TEM\n",
       "\n",
       "The Cachoeirinha neighborhood, which is in the rural area of ​​Boituva, has been flooded since Saturday (10) after the Sorocaba River level rose almost two meters with the heavy rain that hit Sorocaba on Tuesday (6). The flood reached more than 50 farms.\n",
       "\n",
       "According to Civil Defense coordinator Ivanilson Ferreira Barbosa, the Terras de São Francisco neighborhood has also been hit and there is still no forecast for when the water will start to drain.\n",
       "\n",
       "Flooded houses\n",
       "\n",
       "5 of 7 Residents had to leave the properties after flooding in a rural neighborhood of Boituva - Photo: Reproduction / TV TEM Residents had to leave the properties after flooding in a rural neighborhood of Boituva - Photo: Reproduction / TV TEM\n",
       "\n",
       "Most people use the properties only for the weekend. However, five families living in the neighborhood had to be taken to relatives' homes, says the Civil Defense.\n",
       "\n",
       "“Most have lost furniture and electronics, and have already gone to relatives' homes. There are still about 30 people whose houses have not been fully affected. But we have already requested a humanitarian aid kit for those who have lost all assets. As for the other houses that were flooded, the owners do not live in them and use them only on weekends ”, says Carlos Eduardo.\n",
       "\n",
       "For the resident Wagner Kleye, every time it floods it causes damage to everyone and, although most people know it can happen, it is always scary.\n",
       "\n",
       "“It was very critical. It suddenly starts to fill. Although we know this happens, it always scares us. So, we take things out and put them in a boat. There are about 30 people who live here and we try to help. It's complicated when that happens, no matter how much we know it can happen. Usually, we lose a lot of things, like mattresses, food ”, he says.\n",
       "\n",
       "6 of 7 Farms in Boituva were flooded this Saturday (10) - Photo: Reproduction / TV TEM Farms in Boituva were flooded this Saturday (10) - Photo: Reproduction / TV TEM\")"
      ]
     },
     "execution_count": 21,
     "metadata": {},
     "output_type": "execute_result"
    }
   ],
   "source": [
    "tb_article.translate()"
   ]
  },
  {
   "cell_type": "code",
   "execution_count": null,
   "metadata": {},
   "outputs": [],
   "source": []
  }
 ],
 "metadata": {
  "kernelspec": {
   "display_name": "Python 3",
   "language": "python",
   "name": "python3"
  },
  "language_info": {
   "codemirror_mode": {
    "name": "ipython",
    "version": 3
   },
   "file_extension": ".py",
   "mimetype": "text/x-python",
   "name": "python",
   "nbconvert_exporter": "python",
   "pygments_lexer": "ipython3",
   "version": "3.8.5"
  }
 },
 "nbformat": 4,
 "nbformat_minor": 4
}
