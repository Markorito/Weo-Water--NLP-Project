{
 "cells": [
  {
   "cell_type": "markdown",
   "metadata": {
    "id": "KbXgDv8x_Es2"
   },
   "source": [
    "The purpose of this file is to extract articles related to Kerala floods in local language (hindi) using **GoogleNews** and store it in a dataframe. Then using **newspaper**, extract the date, title, article(text) and summary of the article and store it in a dataframe for further processing."
   ]
  },
  {
   "cell_type": "code",
   "execution_count": 100,
   "metadata": {
    "id": "4DjTKGXBKL6X"
   },
   "outputs": [],
   "source": [
    "# !pip install GoogleNews  # install GoogleNews library\n"
   ]
  },
  {
   "cell_type": "code",
   "execution_count": 38,
   "metadata": {
    "id": "VH6qtXAdKZ4w"
   },
   "outputs": [],
   "source": [
    "from GoogleNews import GoogleNews"
   ]
  },
  {
   "cell_type": "code",
   "execution_count": 39,
   "metadata": {
    "id": "pAhm62R6KkTx"
   },
   "outputs": [],
   "source": [
    "news = GoogleNews() # object created"
   ]
  },
  {
   "cell_type": "code",
   "execution_count": 40,
   "metadata": {
    "id": "apOgfi8yKsxV"
   },
   "outputs": [],
   "source": [
    "news.set_lang('en') # language set to hindi"
   ]
  },
  {
   "cell_type": "code",
   "execution_count": 41,
   "metadata": {
    "id": "QfeKdnbUK4Jx"
   },
   "outputs": [],
   "source": [
    "news.set_time_range('08/14/2018','08/20/2018')  # mm/dd/yyyy format"
   ]
  },
  {
   "cell_type": "code",
   "execution_count": 42,
   "metadata": {
    "id": "9nw_XyJhLXaZ"
   },
   "outputs": [],
   "source": [
    "news.set_encode('utf-8')"
   ]
  },
  {
   "cell_type": "code",
   "execution_count": 43,
   "metadata": {
    "id": "vlVEsnHKPRG4"
   },
   "outputs": [],
   "source": [
    "news.get_news('केरल बाढ़') # insert relevant keywords, केरल बाढ़ is hindi for kerala floods\n",
    "#news.get_news('kerala floods')"
   ]
  },
  {
   "cell_type": "code",
   "execution_count": 44,
   "metadata": {
    "id": "LquawitILLtt"
   },
   "outputs": [],
   "source": [
    "news.search('केरल बाढ़')\n",
    "#news.search('Kerala floods')"
   ]
  },
  {
   "cell_type": "code",
   "execution_count": 45,
   "metadata": {
    "id": "r2DdBaQKPtLu"
   },
   "outputs": [],
   "source": [
    "news.get_page(2)\n"
   ]
  },
  {
   "cell_type": "code",
   "execution_count": 46,
   "metadata": {
    "id": "dfZKWIehPygN"
   },
   "outputs": [],
   "source": [
    "result = news.result()"
   ]
  },
  {
   "cell_type": "code",
   "execution_count": 47,
   "metadata": {
    "colab": {
     "base_uri": "https://localhost:8080/"
    },
    "id": "zo1TYGfJP_Wr",
    "outputId": "87b63285-a1bc-449d-dc93-b541d5df3720"
   },
   "outputs": [
    {
     "data": {
      "text/plain": [
       "GoogleNews.GoogleNews"
      ]
     },
     "execution_count": 47,
     "metadata": {},
     "output_type": "execute_result"
    }
   ],
   "source": [
    "type(news)"
   ]
  },
  {
   "cell_type": "code",
   "execution_count": 48,
   "metadata": {
    "id": "CRDobA_ZRH9h"
   },
   "outputs": [],
   "source": [
    "import pandas as pd"
   ]
  },
  {
   "cell_type": "code",
   "execution_count": 49,
   "metadata": {
    "colab": {
     "base_uri": "https://localhost:8080/",
     "height": 702
    },
    "id": "0moDL2KqJP2g",
    "outputId": "be8fd509-adc2-43e4-c5d7-bce996dca49b"
   },
   "outputs": [
    {
     "data": {
      "text/html": [
       "<div>\n",
       "<style scoped>\n",
       "    .dataframe tbody tr th:only-of-type {\n",
       "        vertical-align: middle;\n",
       "    }\n",
       "\n",
       "    .dataframe tbody tr th {\n",
       "        vertical-align: top;\n",
       "    }\n",
       "\n",
       "    .dataframe thead th {\n",
       "        text-align: right;\n",
       "    }\n",
       "</style>\n",
       "<table border=\"1\" class=\"dataframe\">\n",
       "  <thead>\n",
       "    <tr style=\"text-align: right;\">\n",
       "      <th></th>\n",
       "      <th>title</th>\n",
       "      <th>desc</th>\n",
       "      <th>date</th>\n",
       "      <th>datetime</th>\n",
       "      <th>link</th>\n",
       "      <th>img</th>\n",
       "      <th>media</th>\n",
       "      <th>site</th>\n",
       "    </tr>\n",
       "  </thead>\n",
       "  <tbody>\n",
       "    <tr>\n",
       "      <th>0</th>\n",
       "      <td>Heavy rain lashes parts of Kerala, floods feared</td>\n",
       "      <td>As the low-pressure area in the south-eastern ...</td>\n",
       "      <td>4 days ago</td>\n",
       "      <td>2021-05-15 10:44:25.067832</td>\n",
       "      <td>news.google.com/./articles/CAIiENAMoJ_YrsRfiDo...</td>\n",
       "      <td>https://lh3.googleusercontent.com/ar-SYU-EofTc...</td>\n",
       "      <td>None</td>\n",
       "      <td>Mint</td>\n",
       "    </tr>\n",
       "    <tr>\n",
       "      <th>1</th>\n",
       "      <td>Flood Met Office begins functioning at Met Cen...</td>\n",
       "      <td>So far, the Flood Met operations for Kerala ha...</td>\n",
       "      <td>6 days ago</td>\n",
       "      <td>2021-05-13 10:44:25.068835</td>\n",
       "      <td>news.google.com/./articles/CBMihgFodHRwczovL3d...</td>\n",
       "      <td>https://lh6.googleusercontent.com/proxy/GSo5zN...</td>\n",
       "      <td>None</td>\n",
       "      <td>The Hindu</td>\n",
       "    </tr>\n",
       "    <tr>\n",
       "      <th>2</th>\n",
       "      <td>Cyclone Tauktae: Severe flood predicted in Ker...</td>\n",
       "      <td>Cyclone Tauktae: The Central Water Commission ...</td>\n",
       "      <td>4 days ago</td>\n",
       "      <td>2021-05-15 10:44:25.069832</td>\n",
       "      <td>news.google.com/./articles/CAIiEOc6D5FzoDF2okW...</td>\n",
       "      <td>https://lh3.googleusercontent.com/ubMqQjaiziku...</td>\n",
       "      <td>None</td>\n",
       "      <td>Mint</td>\n",
       "    </tr>\n",
       "    <tr>\n",
       "      <th>3</th>\n",
       "      <td>Kerala flood hero turns villain, booked in mor...</td>\n",
       "      <td>A Kerala fisherman, who had won several hearts...</td>\n",
       "      <td>Apr 20</td>\n",
       "      <td>NaT</td>\n",
       "      <td>news.google.com/./articles/CBMib2h0dHBzOi8vd3d...</td>\n",
       "      <td>https://lh3.googleusercontent.com/proxy/E_ZbxW...</td>\n",
       "      <td>None</td>\n",
       "      <td>THE WEEK</td>\n",
       "    </tr>\n",
       "    <tr>\n",
       "      <th>4</th>\n",
       "      <td>Weather warning for Kerala from May 13-16 as c...</td>\n",
       "      <td>Weather warning for Kerala from May 13-16 as c...</td>\n",
       "      <td>6 days ago</td>\n",
       "      <td>2021-05-13 10:44:25.071827</td>\n",
       "      <td>news.google.com/./articles/CAIiECM9JuRNZsKt-pV...</td>\n",
       "      <td>https://lh3.googleusercontent.com/uFEWwPxCyp-O...</td>\n",
       "      <td>None</td>\n",
       "      <td>The News Minute</td>\n",
       "    </tr>\n",
       "  </tbody>\n",
       "</table>\n",
       "</div>"
      ],
      "text/plain": [
       "                                               title  \\\n",
       "0   Heavy rain lashes parts of Kerala, floods feared   \n",
       "1  Flood Met Office begins functioning at Met Cen...   \n",
       "2  Cyclone Tauktae: Severe flood predicted in Ker...   \n",
       "3  Kerala flood hero turns villain, booked in mor...   \n",
       "4  Weather warning for Kerala from May 13-16 as c...   \n",
       "\n",
       "                                                desc        date  \\\n",
       "0  As the low-pressure area in the south-eastern ...  4 days ago   \n",
       "1  So far, the Flood Met operations for Kerala ha...  6 days ago   \n",
       "2  Cyclone Tauktae: The Central Water Commission ...  4 days ago   \n",
       "3  A Kerala fisherman, who had won several hearts...      Apr 20   \n",
       "4  Weather warning for Kerala from May 13-16 as c...  6 days ago   \n",
       "\n",
       "                    datetime  \\\n",
       "0 2021-05-15 10:44:25.067832   \n",
       "1 2021-05-13 10:44:25.068835   \n",
       "2 2021-05-15 10:44:25.069832   \n",
       "3                        NaT   \n",
       "4 2021-05-13 10:44:25.071827   \n",
       "\n",
       "                                                link  \\\n",
       "0  news.google.com/./articles/CAIiENAMoJ_YrsRfiDo...   \n",
       "1  news.google.com/./articles/CBMihgFodHRwczovL3d...   \n",
       "2  news.google.com/./articles/CAIiEOc6D5FzoDF2okW...   \n",
       "3  news.google.com/./articles/CBMib2h0dHBzOi8vd3d...   \n",
       "4  news.google.com/./articles/CAIiECM9JuRNZsKt-pV...   \n",
       "\n",
       "                                                 img media             site  \n",
       "0  https://lh3.googleusercontent.com/ar-SYU-EofTc...  None             Mint  \n",
       "1  https://lh6.googleusercontent.com/proxy/GSo5zN...  None        The Hindu  \n",
       "2  https://lh3.googleusercontent.com/ubMqQjaiziku...  None             Mint  \n",
       "3  https://lh3.googleusercontent.com/proxy/E_ZbxW...  None         THE WEEK  \n",
       "4  https://lh3.googleusercontent.com/uFEWwPxCyp-O...  None  The News Minute  "
      ]
     },
     "execution_count": 49,
     "metadata": {},
     "output_type": "execute_result"
    }
   ],
   "source": [
    "df = pd.DataFrame(result) # convert into a dataframe\n",
    "df.head()"
   ]
  },
  {
   "cell_type": "code",
   "execution_count": 50,
   "metadata": {
    "colab": {
     "base_uri": "https://localhost:8080/"
    },
    "id": "M1WifULCRC_p",
    "outputId": "7180e239-b76c-4491-bfb7-a31ff90d9fb0"
   },
   "outputs": [
    {
     "data": {
      "text/plain": [
       "(117, 8)"
      ]
     },
     "execution_count": 50,
     "metadata": {},
     "output_type": "execute_result"
    }
   ],
   "source": [
    "df.shape"
   ]
  },
  {
   "cell_type": "code",
   "execution_count": 51,
   "metadata": {
    "id": "Cp_V6BB6SDyt"
   },
   "outputs": [],
   "source": [
    "# !pip install newspaper3k"
   ]
  },
  {
   "cell_type": "code",
   "execution_count": 52,
   "metadata": {
    "id": "JbP19lmVRks-"
   },
   "outputs": [],
   "source": [
    "from newspaper import Article"
   ]
  },
  {
   "cell_type": "code",
   "execution_count": 53,
   "metadata": {
    "id": "hWLSxUkiWE-d"
   },
   "outputs": [],
   "source": [
    "list = []"
   ]
  },
  {
   "cell_type": "code",
   "execution_count": 54,
   "metadata": {
    "id": "daoD1DPOWMxu"
   },
   "outputs": [],
   "source": [
    "import nltk"
   ]
  },
  {
   "cell_type": "code",
   "execution_count": 55,
   "metadata": {
    "colab": {
     "base_uri": "https://localhost:8080/"
    },
    "id": "Dh7GSlDWajaT",
    "outputId": "840cb210-2fc8-4945-9bd3-80f92bc64184"
   },
   "outputs": [
    {
     "name": "stderr",
     "output_type": "stream",
     "text": [
      "[nltk_data] Downloading package punkt to\n",
      "[nltk_data]     C:\\Users\\jamsh\\AppData\\Roaming\\nltk_data...\n",
      "[nltk_data]   Package punkt is already up-to-date!\n"
     ]
    },
    {
     "data": {
      "text/plain": [
       "True"
      ]
     },
     "execution_count": 55,
     "metadata": {},
     "output_type": "execute_result"
    }
   ],
   "source": [
    "nltk.download('punkt')"
   ]
  },
  {
   "cell_type": "code",
   "execution_count": 56,
   "metadata": {
    "id": "XtQW4HfSZYgP"
   },
   "outputs": [],
   "source": [
    "# Config will allow us to access the specified url for which we are #not authorized. \n",
    "# Sometimes we may get 403 client error while parsing the link to download the article."
   ]
  },
  {
   "cell_type": "code",
   "execution_count": 57,
   "metadata": {
    "id": "_GcgxYrHZp7z"
   },
   "outputs": [],
   "source": [
    "from newspaper import Config"
   ]
  },
  {
   "cell_type": "code",
   "execution_count": 58,
   "metadata": {
    "id": "h8C7oWwQZgTW"
   },
   "outputs": [],
   "source": [
    "user_agent = 'Mozilla/5.0 (Macintosh; Intel Mac OS X 10_11_5) AppleWebKit/537.36 (KHTML, like Gecko) Chrome/50.0.2661.102 Safari/537.36'\n",
    "config = Config()\n",
    "config.browser_user_agent = user_agent"
   ]
  },
  {
   "cell_type": "code",
   "execution_count": 59,
   "metadata": {
    "colab": {
     "base_uri": "https://localhost:8080/"
    },
    "id": "HAuhlD5Lcoxu",
    "outputId": "4af3acb2-5146-4daa-a4bc-4baaec654b2b"
   },
   "outputs": [
    {
     "data": {
      "text/plain": [
       "title        Heavy rain lashes parts of Kerala, floods feared\n",
       "desc        As the low-pressure area in the south-eastern ...\n",
       "date                                               4 days ago\n",
       "datetime                           2021-05-15 10:44:25.067832\n",
       "link        news.google.com/./articles/CAIiENAMoJ_YrsRfiDo...\n",
       "img         https://lh3.googleusercontent.com/ar-SYU-EofTc...\n",
       "media                                                    None\n",
       "site                                                     Mint\n",
       "Name: 0, dtype: object"
      ]
     },
     "execution_count": 59,
     "metadata": {},
     "output_type": "execute_result"
    }
   ],
   "source": [
    "df.loc[0,:] "
   ]
  },
  {
   "cell_type": "code",
   "execution_count": 60,
   "metadata": {
    "id": "bC-EIK_nmrZD"
   },
   "outputs": [],
   "source": [
    "url = df.loc[0,:]['link']  # find url of an article "
   ]
  },
  {
   "cell_type": "code",
   "execution_count": 61,
   "metadata": {
    "colab": {
     "base_uri": "https://localhost:8080/"
    },
    "id": "uESDkuQk5AWL",
    "outputId": "46a6cb31-460d-462f-b778-5841fa61c1ff"
   },
   "outputs": [
    {
     "data": {
      "text/plain": [
       "str"
      ]
     },
     "execution_count": 61,
     "metadata": {},
     "output_type": "execute_result"
    }
   ],
   "source": [
    "type(url)"
   ]
  },
  {
   "cell_type": "code",
   "execution_count": 62,
   "metadata": {
    "colab": {
     "base_uri": "https://localhost:8080/",
     "height": 35
    },
    "id": "I_wHGv209Ndr",
    "outputId": "aec3535f-2307-4d54-e392-8beddcde308e"
   },
   "outputs": [
    {
     "data": {
      "text/plain": [
       "'4 days ago'"
      ]
     },
     "execution_count": 62,
     "metadata": {},
     "output_type": "execute_result"
    }
   ],
   "source": [
    "df['date'][0] # date of an article"
   ]
  },
  {
   "cell_type": "code",
   "execution_count": 63,
   "metadata": {
    "colab": {
     "base_uri": "https://localhost:8080/"
    },
    "id": "OIut71u4-Y_L",
    "outputId": "69a32b08-e59b-437b-c729-e17da7b6d6ef"
   },
   "outputs": [
    {
     "data": {
      "text/plain": [
       "117"
      ]
     },
     "execution_count": 63,
     "metadata": {},
     "output_type": "execute_result"
    }
   ],
   "source": [
    "df.shape[0]  # total number of rows in the dataframe"
   ]
  },
  {
   "cell_type": "code",
   "execution_count": 64,
   "metadata": {
    "id": "Oa47CudXSALU"
   },
   "outputs": [],
   "source": [
    "for _ in range(0, df.shape[1]):\n",
    "  dict = {}\n",
    "  url = df.loc[_,:]['link']\n",
    "  url = 'https://' + \"%s\" % (url)\n",
    "  url = url.strip()\n",
    "  a = Article(url, language ='hi')\n",
    "  a.download()\n",
    "  a.parse()\n",
    "  a.nlp()\n",
    "  dict['Date'] = df['date'][_]\n",
    "  dict['Title'] = a.title\n",
    "  dict['Article'] = a.text\n",
    "  dict['Summary'] = a.summary\n",
    "  list.append(dict)\n",
    "  \n",
    "  "
   ]
  },
  {
   "cell_type": "code",
   "execution_count": 65,
   "metadata": {
    "id": "3WCE6eB9W_Vs"
   },
   "outputs": [],
   "source": [
    "news_df = pd.DataFrame(list)\n"
   ]
  },
  {
   "cell_type": "code",
   "execution_count": 66,
   "metadata": {
    "colab": {
     "base_uri": "https://localhost:8080/",
     "height": 279
    },
    "id": "AjVTX6gzpNVX",
    "outputId": "7ff1e5be-f4c9-4f76-8f2d-ef3c867c0aae"
   },
   "outputs": [
    {
     "data": {
      "text/html": [
       "<div>\n",
       "<style scoped>\n",
       "    .dataframe tbody tr th:only-of-type {\n",
       "        vertical-align: middle;\n",
       "    }\n",
       "\n",
       "    .dataframe tbody tr th {\n",
       "        vertical-align: top;\n",
       "    }\n",
       "\n",
       "    .dataframe thead th {\n",
       "        text-align: right;\n",
       "    }\n",
       "</style>\n",
       "<table border=\"1\" class=\"dataframe\">\n",
       "  <thead>\n",
       "    <tr style=\"text-align: right;\">\n",
       "      <th></th>\n",
       "      <th>Date</th>\n",
       "      <th>Title</th>\n",
       "      <th>Article</th>\n",
       "      <th>Summary</th>\n",
       "    </tr>\n",
       "  </thead>\n",
       "  <tbody>\n",
       "    <tr>\n",
       "      <th>0</th>\n",
       "      <td>4 days ago</td>\n",
       "      <td>Before you continue</td>\n",
       "      <td>Deliver and maintain services, like tracking o...</td>\n",
       "      <td>Deliver and maintain services, like tracking o...</td>\n",
       "    </tr>\n",
       "    <tr>\n",
       "      <th>1</th>\n",
       "      <td>6 days ago</td>\n",
       "      <td>Before you continue</td>\n",
       "      <td>Deliver and maintain services, like tracking o...</td>\n",
       "      <td>Deliver and maintain services, like tracking o...</td>\n",
       "    </tr>\n",
       "    <tr>\n",
       "      <th>2</th>\n",
       "      <td>4 days ago</td>\n",
       "      <td>Before you continue</td>\n",
       "      <td>Deliver and maintain services, like tracking o...</td>\n",
       "      <td>Deliver and maintain services, like tracking o...</td>\n",
       "    </tr>\n",
       "    <tr>\n",
       "      <th>3</th>\n",
       "      <td>Apr 20</td>\n",
       "      <td>Before you continue</td>\n",
       "      <td>Deliver and maintain services, like tracking o...</td>\n",
       "      <td>Deliver and maintain services, like tracking o...</td>\n",
       "    </tr>\n",
       "    <tr>\n",
       "      <th>4</th>\n",
       "      <td>6 days ago</td>\n",
       "      <td>Before you continue</td>\n",
       "      <td>Deliver and maintain services, like tracking o...</td>\n",
       "      <td>Deliver and maintain services, like tracking o...</td>\n",
       "    </tr>\n",
       "  </tbody>\n",
       "</table>\n",
       "</div>"
      ],
      "text/plain": [
       "         Date                Title  \\\n",
       "0  4 days ago  Before you continue   \n",
       "1  6 days ago  Before you continue   \n",
       "2  4 days ago  Before you continue   \n",
       "3      Apr 20  Before you continue   \n",
       "4  6 days ago  Before you continue   \n",
       "\n",
       "                                             Article  \\\n",
       "0  Deliver and maintain services, like tracking o...   \n",
       "1  Deliver and maintain services, like tracking o...   \n",
       "2  Deliver and maintain services, like tracking o...   \n",
       "3  Deliver and maintain services, like tracking o...   \n",
       "4  Deliver and maintain services, like tracking o...   \n",
       "\n",
       "                                             Summary  \n",
       "0  Deliver and maintain services, like tracking o...  \n",
       "1  Deliver and maintain services, like tracking o...  \n",
       "2  Deliver and maintain services, like tracking o...  \n",
       "3  Deliver and maintain services, like tracking o...  \n",
       "4  Deliver and maintain services, like tracking o...  "
      ]
     },
     "execution_count": 66,
     "metadata": {},
     "output_type": "execute_result"
    }
   ],
   "source": [
    "news_df.head()"
   ]
  },
  {
   "cell_type": "code",
   "execution_count": 129,
   "metadata": {
    "id": "ixM3LwUy7fEV"
   },
   "outputs": [],
   "source": []
  }
 ],
 "metadata": {
  "colab": {
   "name": "Hindi articles task 4.ipynb",
   "provenance": []
  },
  "kernelspec": {
   "display_name": "Python 3",
   "language": "python",
   "name": "python3"
  },
  "language_info": {
   "codemirror_mode": {
    "name": "ipython",
    "version": 3
   },
   "file_extension": ".py",
   "mimetype": "text/x-python",
   "name": "python",
   "nbconvert_exporter": "python",
   "pygments_lexer": "ipython3",
   "version": "3.8.5"
  }
 },
 "nbformat": 4,
 "nbformat_minor": 1
}
